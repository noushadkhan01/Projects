{
  "nbformat": 4,
  "nbformat_minor": 0,
  "metadata": {
    "colab": {
      "name": "Demonetization kernel using nltk sentiment analysis textblob.ipynb",
      "version": "0.3.2",
      "provenance": [],
      "collapsed_sections": [],
      "include_colab_link": true
    },
    "kernelspec": {
      "name": "python3",
      "display_name": "Python 3"
    },
    "accelerator": "GPU"
  },
  "cells": [
    {
      "cell_type": "markdown",
      "metadata": {
        "id": "view-in-github",
        "colab_type": "text"
      },
      "source": [
        "<a href=\"https://colab.research.google.com/github/noushadkhan01/Projects/blob/master/Machine-Learning/Natural-Language-Processing/Demonetization%20twitter%20data%20analysis/Demonetization_kernel_using_nltk_sentiment_analysis_textblob.ipynb\" target=\"_parent\"><img src=\"https://colab.research.google.com/assets/colab-badge.svg\" alt=\"Open In Colab\"/></a>"
      ]
    },
    {
      "metadata": {
        "_uuid": "8f2839f25d086af736a60e9eeb907d3b93b6e0e5",
        "_cell_guid": "b1076dfc-b9ad-4769-8c92-a6c4dae69d19",
        "trusted": true,
        "collapsed": true,
        "id": "9vNazCiduyHs",
        "colab_type": "text"
      },
      "cell_type": "markdown",
      "source": [
        "This Project is regarding Natural Language Processing of the twitter's tweet that were written during the demonetization phase in india. what was the reaction of the people ? where they happy ? where they sad ? or confused......... lets check it out\n",
        "\n",
        "**WHAT WILL WE USE?**\n",
        "\n",
        "-  **1. PANDAS**\n",
        "\n",
        "- **2. NLTK**\n",
        "\n",
        "- **3. TEXTBLOB(FOR SENTIMENT ANALYSIS)**\n",
        "\n",
        "**ATTRIBUTES IN DATASET**\n",
        "'Unnamed: 0','X', 'text', 'favorited', 'favoriteCount', 'replyToSN',\n",
        "       'created', 'truncated', 'replyToSID', 'id', 'replyToUID',\n",
        "       'statusSource', 'screenName', 'retweetCount', 'isRetweet', 'retweeted'\n",
        "       \n",
        "  **WHAT WE WILL DO IN THIS KERNEL ???????**\n",
        "\n",
        "CHECK FOR THE MOST FREQUENT WORD\n",
        " \n",
        " GET THE USER WITH MOST NUMBER OF TWEETS\n",
        " \n",
        " CLEANING OF THE DATA\n",
        " \n",
        "SENTIMENT ANALYSIS ;) :( ?"
      ]
    },
    {
      "metadata": {
        "_uuid": "346b4916fcd21a76892a467bc5b168684046cef1",
        "id": "6MBHZWEEuyHx",
        "colab_type": "text"
      },
      "cell_type": "markdown",
      "source": [
        "**what the dataset look likes**"
      ]
    },
    {
      "metadata": {
        "id": "F2MEMBfsDYof",
        "colab_type": "code",
        "colab": {
          "resources": {
            "http://localhost:8080/nbextensions/google.colab/files.js": {
              "data": "Ly8gQ29weXJpZ2h0IDIwMTcgR29vZ2xlIExMQwovLwovLyBMaWNlbnNlZCB1bmRlciB0aGUgQXBhY2hlIExpY2Vuc2UsIFZlcnNpb24gMi4wICh0aGUgIkxpY2Vuc2UiKTsKLy8geW91IG1heSBub3QgdXNlIHRoaXMgZmlsZSBleGNlcHQgaW4gY29tcGxpYW5jZSB3aXRoIHRoZSBMaWNlbnNlLgovLyBZb3UgbWF5IG9idGFpbiBhIGNvcHkgb2YgdGhlIExpY2Vuc2UgYXQKLy8KLy8gICAgICBodHRwOi8vd3d3LmFwYWNoZS5vcmcvbGljZW5zZXMvTElDRU5TRS0yLjAKLy8KLy8gVW5sZXNzIHJlcXVpcmVkIGJ5IGFwcGxpY2FibGUgbGF3IG9yIGFncmVlZCB0byBpbiB3cml0aW5nLCBzb2Z0d2FyZQovLyBkaXN0cmlidXRlZCB1bmRlciB0aGUgTGljZW5zZSBpcyBkaXN0cmlidXRlZCBvbiBhbiAiQVMgSVMiIEJBU0lTLAovLyBXSVRIT1VUIFdBUlJBTlRJRVMgT1IgQ09ORElUSU9OUyBPRiBBTlkgS0lORCwgZWl0aGVyIGV4cHJlc3Mgb3IgaW1wbGllZC4KLy8gU2VlIHRoZSBMaWNlbnNlIGZvciB0aGUgc3BlY2lmaWMgbGFuZ3VhZ2UgZ292ZXJuaW5nIHBlcm1pc3Npb25zIGFuZAovLyBsaW1pdGF0aW9ucyB1bmRlciB0aGUgTGljZW5zZS4KCi8qKgogKiBAZmlsZW92ZXJ2aWV3IEhlbHBlcnMgZm9yIGdvb2dsZS5jb2xhYiBQeXRob24gbW9kdWxlLgogKi8KKGZ1bmN0aW9uKHNjb3BlKSB7CmZ1bmN0aW9uIHNwYW4odGV4dCwgc3R5bGVBdHRyaWJ1dGVzID0ge30pIHsKICBjb25zdCBlbGVtZW50ID0gZG9jdW1lbnQuY3JlYXRlRWxlbWVudCgnc3BhbicpOwogIGVsZW1lbnQudGV4dENvbnRlbnQgPSB0ZXh0OwogIGZvciAoY29uc3Qga2V5IG9mIE9iamVjdC5rZXlzKHN0eWxlQXR0cmlidXRlcykpIHsKICAgIGVsZW1lbnQuc3R5bGVba2V5XSA9IHN0eWxlQXR0cmlidXRlc1trZXldOwogIH0KICByZXR1cm4gZWxlbWVudDsKfQoKLy8gTWF4IG51bWJlciBvZiBieXRlcyB3aGljaCB3aWxsIGJlIHVwbG9hZGVkIGF0IGEgdGltZS4KY29uc3QgTUFYX1BBWUxPQURfU0laRSA9IDEwMCAqIDEwMjQ7Ci8vIE1heCBhbW91bnQgb2YgdGltZSB0byBibG9jayB3YWl0aW5nIGZvciB0aGUgdXNlci4KY29uc3QgRklMRV9DSEFOR0VfVElNRU9VVF9NUyA9IDMwICogMTAwMDsKCmZ1bmN0aW9uIF91cGxvYWRGaWxlcyhpbnB1dElkLCBvdXRwdXRJZCkgewogIGNvbnN0IHN0ZXBzID0gdXBsb2FkRmlsZXNTdGVwKGlucHV0SWQsIG91dHB1dElkKTsKICBjb25zdCBvdXRwdXRFbGVtZW50ID0gZG9jdW1lbnQuZ2V0RWxlbWVudEJ5SWQob3V0cHV0SWQpOwogIC8vIENhY2hlIHN0ZXBzIG9uIHRoZSBvdXRwdXRFbGVtZW50IHRvIG1ha2UgaXQgYXZhaWxhYmxlIGZvciB0aGUgbmV4dCBjYWxsCiAgLy8gdG8gdXBsb2FkRmlsZXNDb250aW51ZSBmcm9tIFB5dGhvbi4KICBvdXRwdXRFbGVtZW50LnN0ZXBzID0gc3RlcHM7CgogIHJldHVybiBfdXBsb2FkRmlsZXNDb250aW51ZShvdXRwdXRJZCk7Cn0KCi8vIFRoaXMgaXMgcm91Z2hseSBhbiBhc3luYyBnZW5lcmF0b3IgKG5vdCBzdXBwb3J0ZWQgaW4gdGhlIGJyb3dzZXIgeWV0KSwKLy8gd2hlcmUgdGhlcmUgYXJlIG11bHRpcGxlIGFzeW5jaHJvbm91cyBzdGVwcyBhbmQgdGhlIFB5dGhvbiBzaWRlIGlzIGdvaW5nCi8vIHRvIHBvbGwgZm9yIGNvbXBsZXRpb24gb2YgZWFjaCBzdGVwLgovLyBUaGlzIHVzZXMgYSBQcm9taXNlIHRvIGJsb2NrIHRoZSBweXRob24gc2lkZSBvbiBjb21wbGV0aW9uIG9mIGVhY2ggc3RlcCwKLy8gdGhlbiBwYXNzZXMgdGhlIHJlc3VsdCBvZiB0aGUgcHJldmlvdXMgc3RlcCBhcyB0aGUgaW5wdXQgdG8gdGhlIG5leHQgc3RlcC4KZnVuY3Rpb24gX3VwbG9hZEZpbGVzQ29udGludWUob3V0cHV0SWQpIHsKICBjb25zdCBvdXRwdXRFbGVtZW50ID0gZG9jdW1lbnQuZ2V0RWxlbWVudEJ5SWQob3V0cHV0SWQpOwogIGNvbnN0IHN0ZXBzID0gb3V0cHV0RWxlbWVudC5zdGVwczsKCiAgY29uc3QgbmV4dCA9IHN0ZXBzLm5leHQob3V0cHV0RWxlbWVudC5sYXN0UHJvbWlzZVZhbHVlKTsKICByZXR1cm4gUHJvbWlzZS5yZXNvbHZlKG5leHQudmFsdWUucHJvbWlzZSkudGhlbigodmFsdWUpID0+IHsKICAgIC8vIENhY2hlIHRoZSBsYXN0IHByb21pc2UgdmFsdWUgdG8gbWFrZSBpdCBhdmFpbGFibGUgdG8gdGhlIG5leHQKICAgIC8vIHN0ZXAgb2YgdGhlIGdlbmVyYXRvci4KICAgIG91dHB1dEVsZW1lbnQubGFzdFByb21pc2VWYWx1ZSA9IHZhbHVlOwogICAgcmV0dXJuIG5leHQudmFsdWUucmVzcG9uc2U7CiAgfSk7Cn0KCi8qKgogKiBHZW5lcmF0b3IgZnVuY3Rpb24gd2hpY2ggaXMgY2FsbGVkIGJldHdlZW4gZWFjaCBhc3luYyBzdGVwIG9mIHRoZSB1cGxvYWQKICogcHJvY2Vzcy4KICogQHBhcmFtIHtzdHJpbmd9IGlucHV0SWQgRWxlbWVudCBJRCBvZiB0aGUgaW5wdXQgZmlsZSBwaWNrZXIgZWxlbWVudC4KICogQHBhcmFtIHtzdHJpbmd9IG91dHB1dElkIEVsZW1lbnQgSUQgb2YgdGhlIG91dHB1dCBkaXNwbGF5LgogKiBAcmV0dXJuIHshSXRlcmFibGU8IU9iamVjdD59IEl0ZXJhYmxlIG9mIG5leHQgc3RlcHMuCiAqLwpmdW5jdGlvbiogdXBsb2FkRmlsZXNTdGVwKGlucHV0SWQsIG91dHB1dElkKSB7CiAgY29uc3QgaW5wdXRFbGVtZW50ID0gZG9jdW1lbnQuZ2V0RWxlbWVudEJ5SWQoaW5wdXRJZCk7CiAgaW5wdXRFbGVtZW50LmRpc2FibGVkID0gZmFsc2U7CgogIGNvbnN0IG91dHB1dEVsZW1lbnQgPSBkb2N1bWVudC5nZXRFbGVtZW50QnlJZChvdXRwdXRJZCk7CiAgb3V0cHV0RWxlbWVudC5pbm5lckhUTUwgPSAnJzsKCiAgY29uc3QgcGlja2VkUHJvbWlzZSA9IG5ldyBQcm9taXNlKChyZXNvbHZlKSA9PiB7CiAgICBpbnB1dEVsZW1lbnQuYWRkRXZlbnRMaXN0ZW5lcignY2hhbmdlJywgKGUpID0+IHsKICAgICAgcmVzb2x2ZShlLnRhcmdldC5maWxlcyk7CiAgICB9KTsKICB9KTsKCiAgY29uc3QgY2FuY2VsID0gZG9jdW1lbnQuY3JlYXRlRWxlbWVudCgnYnV0dG9uJyk7CiAgaW5wdXRFbGVtZW50LnBhcmVudEVsZW1lbnQuYXBwZW5kQ2hpbGQoY2FuY2VsKTsKICBjYW5jZWwudGV4dENvbnRlbnQgPSAnQ2FuY2VsIHVwbG9hZCc7CiAgY29uc3QgY2FuY2VsUHJvbWlzZSA9IG5ldyBQcm9taXNlKChyZXNvbHZlKSA9PiB7CiAgICBjYW5jZWwub25jbGljayA9ICgpID0+IHsKICAgICAgcmVzb2x2ZShudWxsKTsKICAgIH07CiAgfSk7CgogIC8vIENhbmNlbCB1cGxvYWQgaWYgdXNlciBoYXNuJ3QgcGlja2VkIGFueXRoaW5nIGluIHRpbWVvdXQuCiAgY29uc3QgdGltZW91dFByb21pc2UgPSBuZXcgUHJvbWlzZSgocmVzb2x2ZSkgPT4gewogICAgc2V0VGltZW91dCgoKSA9PiB7CiAgICAgIHJlc29sdmUobnVsbCk7CiAgICB9LCBGSUxFX0NIQU5HRV9USU1FT1VUX01TKTsKICB9KTsKCiAgLy8gV2FpdCBmb3IgdGhlIHVzZXIgdG8gcGljayB0aGUgZmlsZXMuCiAgY29uc3QgZmlsZXMgPSB5aWVsZCB7CiAgICBwcm9taXNlOiBQcm9taXNlLnJhY2UoW3BpY2tlZFByb21pc2UsIHRpbWVvdXRQcm9taXNlLCBjYW5jZWxQcm9taXNlXSksCiAgICByZXNwb25zZTogewogICAgICBhY3Rpb246ICdzdGFydGluZycsCiAgICB9CiAgfTsKCiAgaWYgKCFmaWxlcykgewogICAgcmV0dXJuIHsKICAgICAgcmVzcG9uc2U6IHsKICAgICAgICBhY3Rpb246ICdjb21wbGV0ZScsCiAgICAgIH0KICAgIH07CiAgfQoKICBjYW5jZWwucmVtb3ZlKCk7CgogIC8vIERpc2FibGUgdGhlIGlucHV0IGVsZW1lbnQgc2luY2UgZnVydGhlciBwaWNrcyBhcmUgbm90IGFsbG93ZWQuCiAgaW5wdXRFbGVtZW50LmRpc2FibGVkID0gdHJ1ZTsKCiAgZm9yIChjb25zdCBmaWxlIG9mIGZpbGVzKSB7CiAgICBjb25zdCBsaSA9IGRvY3VtZW50LmNyZWF0ZUVsZW1lbnQoJ2xpJyk7CiAgICBsaS5hcHBlbmQoc3BhbihmaWxlLm5hbWUsIHtmb250V2VpZ2h0OiAnYm9sZCd9KSk7CiAgICBsaS5hcHBlbmQoc3BhbigKICAgICAgICBgKCR7ZmlsZS50eXBlIHx8ICduL2EnfSkgLSAke2ZpbGUuc2l6ZX0gYnl0ZXMsIGAgKwogICAgICAgIGBsYXN0IG1vZGlmaWVkOiAkewogICAgICAgICAgICBmaWxlLmxhc3RNb2RpZmllZERhdGUgPyBmaWxlLmxhc3RNb2RpZmllZERhdGUudG9Mb2NhbGVEYXRlU3RyaW5nKCkgOgogICAgICAgICAgICAgICAgICAgICAgICAgICAgICAgICAgICAnbi9hJ30gLSBgKSk7CiAgICBjb25zdCBwZXJjZW50ID0gc3BhbignMCUgZG9uZScpOwogICAgbGkuYXBwZW5kQ2hpbGQocGVyY2VudCk7CgogICAgb3V0cHV0RWxlbWVudC5hcHBlbmRDaGlsZChsaSk7CgogICAgY29uc3QgZmlsZURhdGFQcm9taXNlID0gbmV3IFByb21pc2UoKHJlc29sdmUpID0+IHsKICAgICAgY29uc3QgcmVhZGVyID0gbmV3IEZpbGVSZWFkZXIoKTsKICAgICAgcmVhZGVyLm9ubG9hZCA9IChlKSA9PiB7CiAgICAgICAgcmVzb2x2ZShlLnRhcmdldC5yZXN1bHQpOwogICAgICB9OwogICAgICByZWFkZXIucmVhZEFzQXJyYXlCdWZmZXIoZmlsZSk7CiAgICB9KTsKICAgIC8vIFdhaXQgZm9yIHRoZSBkYXRhIHRvIGJlIHJlYWR5LgogICAgbGV0IGZpbGVEYXRhID0geWllbGQgewogICAgICBwcm9taXNlOiBmaWxlRGF0YVByb21pc2UsCiAgICAgIHJlc3BvbnNlOiB7CiAgICAgICAgYWN0aW9uOiAnY29udGludWUnLAogICAgICB9CiAgICB9OwoKICAgIC8vIFVzZSBhIGNodW5rZWQgc2VuZGluZyB0byBhdm9pZCBtZXNzYWdlIHNpemUgbGltaXRzLiBTZWUgYi82MjExNTY2MC4KICAgIGxldCBwb3NpdGlvbiA9IDA7CiAgICB3aGlsZSAocG9zaXRpb24gPCBmaWxlRGF0YS5ieXRlTGVuZ3RoKSB7CiAgICAgIGNvbnN0IGxlbmd0aCA9IE1hdGgubWluKGZpbGVEYXRhLmJ5dGVMZW5ndGggLSBwb3NpdGlvbiwgTUFYX1BBWUxPQURfU0laRSk7CiAgICAgIGNvbnN0IGNodW5rID0gbmV3IFVpbnQ4QXJyYXkoZmlsZURhdGEsIHBvc2l0aW9uLCBsZW5ndGgpOwogICAgICBwb3NpdGlvbiArPSBsZW5ndGg7CgogICAgICBjb25zdCBiYXNlNjQgPSBidG9hKFN0cmluZy5mcm9tQ2hhckNvZGUuYXBwbHkobnVsbCwgY2h1bmspKTsKICAgICAgeWllbGQgewogICAgICAgIHJlc3BvbnNlOiB7CiAgICAgICAgICBhY3Rpb246ICdhcHBlbmQnLAogICAgICAgICAgZmlsZTogZmlsZS5uYW1lLAogICAgICAgICAgZGF0YTogYmFzZTY0LAogICAgICAgIH0sCiAgICAgIH07CiAgICAgIHBlcmNlbnQudGV4dENvbnRlbnQgPQogICAgICAgICAgYCR7TWF0aC5yb3VuZCgocG9zaXRpb24gLyBmaWxlRGF0YS5ieXRlTGVuZ3RoKSAqIDEwMCl9JSBkb25lYDsKICAgIH0KICB9CgogIC8vIEFsbCBkb25lLgogIHlpZWxkIHsKICAgIHJlc3BvbnNlOiB7CiAgICAgIGFjdGlvbjogJ2NvbXBsZXRlJywKICAgIH0KICB9Owp9CgpzY29wZS5nb29nbGUgPSBzY29wZS5nb29nbGUgfHwge307CnNjb3BlLmdvb2dsZS5jb2xhYiA9IHNjb3BlLmdvb2dsZS5jb2xhYiB8fCB7fTsKc2NvcGUuZ29vZ2xlLmNvbGFiLl9maWxlcyA9IHsKICBfdXBsb2FkRmlsZXMsCiAgX3VwbG9hZEZpbGVzQ29udGludWUsCn07Cn0pKHNlbGYpOwo=",
              "ok": true,
              "headers": [
                [
                  "content-type",
                  "application/javascript"
                ]
              ],
              "status": 200,
              "status_text": ""
            }
          },
          "base_uri": "https://localhost:8080/",
          "height": 585
        },
        "outputId": "ac5ce019-5bc4-424f-ec7a-4bb4e1d46cad"
      },
      "cell_type": "code",
      "source": [
        "from google.colab import files\n",
        "files.upload()\n",
        "!mkdir -p ~/.kaggle\n",
        "!cp kaggle.json ~/.kaggle/\n",
        "!chmod 600 ~/.kaggle/kaggle.json\n",
        "!pip install kaggle\n",
        "import kaggle\n",
        "!kaggle datasets download -d arathee2/demonetization-in-india-twitter-data\n",
        "!unzip 'demonetization-in-india-twitter-data.zip'"
      ],
      "execution_count": 5,
      "outputs": [
        {
          "output_type": "display_data",
          "data": {
            "text/html": [
              "\n",
              "     <input type=\"file\" id=\"files-1731a214-46bc-4662-8fef-d414fff55393\" name=\"files[]\" multiple disabled />\n",
              "     <output id=\"result-1731a214-46bc-4662-8fef-d414fff55393\">\n",
              "      Upload widget is only available when the cell has been executed in the\n",
              "      current browser session. Please rerun this cell to enable.\n",
              "      </output>\n",
              "      <script src=\"/nbextensions/google.colab/files.js\"></script> "
            ],
            "text/plain": [
              "<IPython.core.display.HTML object>"
            ]
          },
          "metadata": {
            "tags": []
          }
        },
        {
          "output_type": "stream",
          "text": [
            "Saving kaggle.json to kaggle.json\n",
            "Collecting kaggle\n",
            "\u001b[?25l  Downloading https://files.pythonhosted.org/packages/83/9b/ac57e15fbb239c6793c8d0b7dfd1a4c4a025eaa9f791b5388a7afb515aed/kaggle-1.5.0.tar.gz (53kB)\n",
            "\u001b[K    100% |████████████████████████████████| 61kB 2.3MB/s \n",
            "\u001b[?25hRequirement already satisfied: urllib3<1.23.0,>=1.15 in /usr/local/lib/python3.6/dist-packages (from kaggle) (1.22)\n",
            "Requirement already satisfied: six>=1.10 in /usr/local/lib/python3.6/dist-packages (from kaggle) (1.11.0)\n",
            "Requirement already satisfied: certifi in /usr/local/lib/python3.6/dist-packages (from kaggle) (2018.11.29)\n",
            "Requirement already satisfied: python-dateutil in /usr/local/lib/python3.6/dist-packages (from kaggle) (2.5.3)\n",
            "Requirement already satisfied: requests in /usr/local/lib/python3.6/dist-packages (from kaggle) (2.18.4)\n",
            "Requirement already satisfied: tqdm in /usr/local/lib/python3.6/dist-packages (from kaggle) (4.28.1)\n",
            "Collecting python-slugify (from kaggle)\n",
            "  Downloading https://files.pythonhosted.org/packages/00/ad/c778a6df614b6217c30fe80045b365bfa08b5dd3cb02e8b37a6d25126781/python-slugify-1.2.6.tar.gz\n",
            "Requirement already satisfied: idna<2.7,>=2.5 in /usr/local/lib/python3.6/dist-packages (from requests->kaggle) (2.6)\n",
            "Requirement already satisfied: chardet<3.1.0,>=3.0.2 in /usr/local/lib/python3.6/dist-packages (from requests->kaggle) (3.0.4)\n",
            "Collecting Unidecode>=0.04.16 (from python-slugify->kaggle)\n",
            "\u001b[?25l  Downloading https://files.pythonhosted.org/packages/31/39/53096f9217b057cb049fe872b7fc7ce799a1a89b76cf917d9639e7a558b5/Unidecode-1.0.23-py2.py3-none-any.whl (237kB)\n",
            "\u001b[K    100% |████████████████████████████████| 245kB 7.3MB/s \n",
            "\u001b[?25hBuilding wheels for collected packages: kaggle, python-slugify\n",
            "  Running setup.py bdist_wheel for kaggle ... \u001b[?25l-\b \b\\\b \bdone\n",
            "\u001b[?25h  Stored in directory: /root/.cache/pip/wheels/8b/21/3b/a0076243c6ae12a6215b2da515fe06b539aee7217b406e510e\n",
            "  Running setup.py bdist_wheel for python-slugify ... \u001b[?25l-\b \bdone\n",
            "\u001b[?25h  Stored in directory: /root/.cache/pip/wheels/e3/65/da/2045deea3098ed7471eca0e2460cfbd3fdfe8c1d6fa6fcac92\n",
            "Successfully built kaggle python-slugify\n",
            "Installing collected packages: Unidecode, python-slugify, kaggle\n",
            "Successfully installed Unidecode-1.0.23 kaggle-1.5.0 python-slugify-1.2.6\n",
            "Downloading demonetization-in-india-twitter-data.zip to /content\n",
            "  0% 0.00/967k [00:00<?, ?B/s]\n",
            "100% 967k/967k [00:00<00:00, 70.4MB/s]\n",
            "Archive:  demonetization-in-india-twitter-data.zip\n",
            "  inflating: demonetization-tweets.csv  \n"
          ],
          "name": "stdout"
        }
      ]
    },
    {
      "metadata": {
        "id": "D0JDj4OEFLJl",
        "colab_type": "code",
        "colab": {
          "base_uri": "https://localhost:8080/",
          "height": 51
        },
        "outputId": "4eec55e5-f408-46c8-f381-fd9a6ecfd047"
      },
      "cell_type": "code",
      "source": [
        "!ls"
      ],
      "execution_count": 6,
      "outputs": [
        {
          "output_type": "stream",
          "text": [
            "demonetization-in-india-twitter-data.zip  kaggle.json\n",
            "demonetization-tweets.csv\t\t  sample_data\n"
          ],
          "name": "stdout"
        }
      ]
    },
    {
      "metadata": {
        "_cell_guid": "79c7e3d0-c299-4dcb-8224-4455121ee9b0",
        "_uuid": "d629ff2d2480ee46fbb7e2d37f6b5fab8052498a",
        "trusted": true,
        "_kg_hide-output": false,
        "_kg_hide-input": true,
        "id": "7f3nQN7cuyH0",
        "colab_type": "code",
        "colab": {
          "base_uri": "https://localhost:8080/",
          "height": 264
        },
        "outputId": "0e6224f2-c939-4b85-84f6-17c8c3cbca7d"
      },
      "cell_type": "code",
      "source": [
        "import pandas as pd\n",
        "import matplotlib.pyplot as plt\n",
        "import numpy as np\n",
        "df = pd.read_csv(\"demonetization-tweets.csv\",encoding=\"ISO-8859-1\", parse_dates = ['created'], index_col = 'created')\n",
        "df.sort_index(inplace = True)\n",
        "df.head(2)"
      ],
      "execution_count": 7,
      "outputs": [
        {
          "output_type": "execute_result",
          "data": {
            "text/html": [
              "<div>\n",
              "<style scoped>\n",
              "    .dataframe tbody tr th:only-of-type {\n",
              "        vertical-align: middle;\n",
              "    }\n",
              "\n",
              "    .dataframe tbody tr th {\n",
              "        vertical-align: top;\n",
              "    }\n",
              "\n",
              "    .dataframe thead th {\n",
              "        text-align: right;\n",
              "    }\n",
              "</style>\n",
              "<table border=\"1\" class=\"dataframe\">\n",
              "  <thead>\n",
              "    <tr style=\"text-align: right;\">\n",
              "      <th></th>\n",
              "      <th>Unnamed: 0</th>\n",
              "      <th>X</th>\n",
              "      <th>text</th>\n",
              "      <th>favorited</th>\n",
              "      <th>favoriteCount</th>\n",
              "      <th>replyToSN</th>\n",
              "      <th>truncated</th>\n",
              "      <th>replyToSID</th>\n",
              "      <th>id</th>\n",
              "      <th>replyToUID</th>\n",
              "      <th>statusSource</th>\n",
              "      <th>screenName</th>\n",
              "      <th>retweetCount</th>\n",
              "      <th>isRetweet</th>\n",
              "      <th>retweeted</th>\n",
              "    </tr>\n",
              "    <tr>\n",
              "      <th>created</th>\n",
              "      <th></th>\n",
              "      <th></th>\n",
              "      <th></th>\n",
              "      <th></th>\n",
              "      <th></th>\n",
              "      <th></th>\n",
              "      <th></th>\n",
              "      <th></th>\n",
              "      <th></th>\n",
              "      <th></th>\n",
              "      <th></th>\n",
              "      <th></th>\n",
              "      <th></th>\n",
              "      <th></th>\n",
              "      <th></th>\n",
              "    </tr>\n",
              "  </thead>\n",
              "  <tbody>\n",
              "    <tr>\n",
              "      <th>2016-11-22 10:57:33</th>\n",
              "      <td>8000</td>\n",
              "      <td>8000</td>\n",
              "      <td>RT @UnSubtleDesi: Kejriwal posts pic of dead r...</td>\n",
              "      <td>False</td>\n",
              "      <td>0</td>\n",
              "      <td>NaN</td>\n",
              "      <td>False</td>\n",
              "      <td>NaN</td>\n",
              "      <td>8.010168e+17</td>\n",
              "      <td>NaN</td>\n",
              "      <td>&lt;a href=\"http://twitter.com\" rel=\"nofollow\"&gt;Tw...</td>\n",
              "      <td>prashik2107</td>\n",
              "      <td>897</td>\n",
              "      <td>True</td>\n",
              "      <td>False</td>\n",
              "    </tr>\n",
              "    <tr>\n",
              "      <th>2016-11-22 10:57:43</th>\n",
              "      <td>7999</td>\n",
              "      <td>7999</td>\n",
              "      <td>#Demonetization Positive Effect: Cigarette Sal...</td>\n",
              "      <td>False</td>\n",
              "      <td>2</td>\n",
              "      <td>NaN</td>\n",
              "      <td>False</td>\n",
              "      <td>NaN</td>\n",
              "      <td>8.010168e+17</td>\n",
              "      <td>NaN</td>\n",
              "      <td>&lt;a href=\"http://twitter.com\" rel=\"nofollow\"&gt;Tw...</td>\n",
              "      <td>HP_Journo</td>\n",
              "      <td>1</td>\n",
              "      <td>False</td>\n",
              "      <td>False</td>\n",
              "    </tr>\n",
              "  </tbody>\n",
              "</table>\n",
              "</div>"
            ],
            "text/plain": [
              "                     Unnamed: 0     X  \\\n",
              "created                                 \n",
              "2016-11-22 10:57:33        8000  8000   \n",
              "2016-11-22 10:57:43        7999  7999   \n",
              "\n",
              "                                                                  text  \\\n",
              "created                                                                  \n",
              "2016-11-22 10:57:33  RT @UnSubtleDesi: Kejriwal posts pic of dead r...   \n",
              "2016-11-22 10:57:43  #Demonetization Positive Effect: Cigarette Sal...   \n",
              "\n",
              "                     favorited  favoriteCount replyToSN  truncated  \\\n",
              "created                                                              \n",
              "2016-11-22 10:57:33      False              0       NaN      False   \n",
              "2016-11-22 10:57:43      False              2       NaN      False   \n",
              "\n",
              "                     replyToSID            id  replyToUID  \\\n",
              "created                                                     \n",
              "2016-11-22 10:57:33         NaN  8.010168e+17         NaN   \n",
              "2016-11-22 10:57:43         NaN  8.010168e+17         NaN   \n",
              "\n",
              "                                                          statusSource  \\\n",
              "created                                                                  \n",
              "2016-11-22 10:57:33  <a href=\"http://twitter.com\" rel=\"nofollow\">Tw...   \n",
              "2016-11-22 10:57:43  <a href=\"http://twitter.com\" rel=\"nofollow\">Tw...   \n",
              "\n",
              "                      screenName  retweetCount  isRetweet  retweeted  \n",
              "created                                                               \n",
              "2016-11-22 10:57:33  prashik2107           897       True      False  \n",
              "2016-11-22 10:57:43    HP_Journo             1      False      False  "
            ]
          },
          "metadata": {
            "tags": []
          },
          "execution_count": 7
        }
      ]
    },
    {
      "metadata": {
        "colab_type": "code",
        "id": "C6ZAVJSLX3dc",
        "colab": {
          "base_uri": "https://localhost:8080/",
          "height": 244
        },
        "outputId": "4d6df77a-9201-4075-8073-5b1ed9af4330"
      },
      "cell_type": "code",
      "source": [
        "DemonetisationDisaster = pd.read_csv('https://bit.ly/2BRZIWh',encoding=\"ISO-8859-1\", parse_dates = ['Created At'], index_col = 'Created At')\n",
        "DemonetisationDisaster.head(2)"
      ],
      "execution_count": 8,
      "outputs": [
        {
          "output_type": "execute_result",
          "data": {
            "text/html": [
              "<div>\n",
              "<style scoped>\n",
              "    .dataframe tbody tr th:only-of-type {\n",
              "        vertical-align: middle;\n",
              "    }\n",
              "\n",
              "    .dataframe tbody tr th {\n",
              "        vertical-align: top;\n",
              "    }\n",
              "\n",
              "    .dataframe thead th {\n",
              "        text-align: right;\n",
              "    }\n",
              "</style>\n",
              "<table border=\"1\" class=\"dataframe\">\n",
              "  <thead>\n",
              "    <tr style=\"text-align: right;\">\n",
              "      <th></th>\n",
              "      <th>Tweet Id</th>\n",
              "      <th>Text</th>\n",
              "      <th>Name</th>\n",
              "      <th>Screen Name</th>\n",
              "      <th>Favorites</th>\n",
              "      <th>Retweets</th>\n",
              "      <th>Language</th>\n",
              "      <th>Client</th>\n",
              "      <th>Tweet Type</th>\n",
              "      <th>Media Type</th>\n",
              "      <th>URLs</th>\n",
              "      <th>Hashtags</th>\n",
              "      <th>Mentions</th>\n",
              "    </tr>\n",
              "    <tr>\n",
              "      <th>Created At</th>\n",
              "      <th></th>\n",
              "      <th></th>\n",
              "      <th></th>\n",
              "      <th></th>\n",
              "      <th></th>\n",
              "      <th></th>\n",
              "      <th></th>\n",
              "      <th></th>\n",
              "      <th></th>\n",
              "      <th></th>\n",
              "      <th></th>\n",
              "      <th></th>\n",
              "      <th></th>\n",
              "    </tr>\n",
              "  </thead>\n",
              "  <tbody>\n",
              "    <tr>\n",
              "      <th>2018-12-02 03:25:54</th>\n",
              "      <td>1069070121711386630</td>\n",
              "      <td>Chief Election Commissioner on #Demonetisation...</td>\n",
              "      <td>James Wilson</td>\n",
              "      <td>jamewils</td>\n",
              "      <td>0</td>\n",
              "      <td>0</td>\n",
              "      <td>English</td>\n",
              "      <td>Twitter for Android</td>\n",
              "      <td>Retweet</td>\n",
              "      <td>Photo</td>\n",
              "      <td>0</td>\n",
              "      <td>1</td>\n",
              "      <td>1</td>\n",
              "    </tr>\n",
              "    <tr>\n",
              "      <th>2018-12-02 03:27:56</th>\n",
              "      <td>1069070634238525440</td>\n",
              "      <td>#DemonetisationDisaster currency notes ?? ????...</td>\n",
              "      <td>mohit kumar sharma</td>\n",
              "      <td>mohit_maestro</td>\n",
              "      <td>0</td>\n",
              "      <td>0</td>\n",
              "      <td>Hindi</td>\n",
              "      <td>Twitter for Android</td>\n",
              "      <td>Tweet</td>\n",
              "      <td>Photo</td>\n",
              "      <td>0</td>\n",
              "      <td>1</td>\n",
              "      <td>0</td>\n",
              "    </tr>\n",
              "  </tbody>\n",
              "</table>\n",
              "</div>"
            ],
            "text/plain": [
              "                                Tweet Id  \\\n",
              "Created At                                 \n",
              "2018-12-02 03:25:54  1069070121711386630   \n",
              "2018-12-02 03:27:56  1069070634238525440   \n",
              "\n",
              "                                                                  Text  \\\n",
              "Created At                                                               \n",
              "2018-12-02 03:25:54  Chief Election Commissioner on #Demonetisation...   \n",
              "2018-12-02 03:27:56  #DemonetisationDisaster currency notes ?? ????...   \n",
              "\n",
              "                                   Name    Screen Name  Favorites  Retweets  \\\n",
              "Created At                                                                    \n",
              "2018-12-02 03:25:54        James Wilson       jamewils          0         0   \n",
              "2018-12-02 03:27:56  mohit kumar sharma  mohit_maestro          0         0   \n",
              "\n",
              "                    Language               Client Tweet Type Media Type  URLs  \\\n",
              "Created At                                                                      \n",
              "2018-12-02 03:25:54  English  Twitter for Android    Retweet      Photo     0   \n",
              "2018-12-02 03:27:56    Hindi  Twitter for Android      Tweet      Photo     0   \n",
              "\n",
              "                     Hashtags  Mentions  \n",
              "Created At                               \n",
              "2018-12-02 03:25:54         1         1  \n",
              "2018-12-02 03:27:56         1         0  "
            ]
          },
          "metadata": {
            "tags": []
          },
          "execution_count": 8
        }
      ]
    },
    {
      "metadata": {
        "id": "4hF2dW_DdXYH",
        "colab_type": "code",
        "colab": {
          "base_uri": "https://localhost:8080/",
          "height": 34
        },
        "outputId": "ec4cbb4c-48cf-417d-bdb4-98f2d08fc183"
      },
      "cell_type": "code",
      "source": [
        "DemonetisationDisaster.shape"
      ],
      "execution_count": 9,
      "outputs": [
        {
          "output_type": "execute_result",
          "data": {
            "text/plain": [
              "(623, 13)"
            ]
          },
          "metadata": {
            "tags": []
          },
          "execution_count": 9
        }
      ]
    },
    {
      "metadata": {
        "id": "xDnshXmtYTWn",
        "colab_type": "code",
        "colab": {
          "base_uri": "https://localhost:8080/",
          "height": 227
        },
        "outputId": "18e1a8b4-b234-4335-8733-25f44f003d4d"
      },
      "cell_type": "code",
      "source": [
        "DemonetizationDisaster = pd.read_csv('https://bit.ly/2ATT9AS', encoding=\"ISO-8859-1\", parse_dates = ['Created At'], index_col = 'Created At')\n",
        "DemonetizationDisaster.head(2)"
      ],
      "execution_count": 10,
      "outputs": [
        {
          "output_type": "execute_result",
          "data": {
            "text/html": [
              "<div>\n",
              "<style scoped>\n",
              "    .dataframe tbody tr th:only-of-type {\n",
              "        vertical-align: middle;\n",
              "    }\n",
              "\n",
              "    .dataframe tbody tr th {\n",
              "        vertical-align: top;\n",
              "    }\n",
              "\n",
              "    .dataframe thead th {\n",
              "        text-align: right;\n",
              "    }\n",
              "</style>\n",
              "<table border=\"1\" class=\"dataframe\">\n",
              "  <thead>\n",
              "    <tr style=\"text-align: right;\">\n",
              "      <th></th>\n",
              "      <th>Tweet Id</th>\n",
              "      <th>Text</th>\n",
              "      <th>Name</th>\n",
              "      <th>Screen Name</th>\n",
              "      <th>Favorites</th>\n",
              "      <th>Retweets</th>\n",
              "      <th>Language</th>\n",
              "      <th>Client</th>\n",
              "      <th>Tweet Type</th>\n",
              "      <th>Media Type</th>\n",
              "      <th>URLs</th>\n",
              "      <th>Hashtags</th>\n",
              "      <th>Mentions</th>\n",
              "    </tr>\n",
              "    <tr>\n",
              "      <th>Created At</th>\n",
              "      <th></th>\n",
              "      <th></th>\n",
              "      <th></th>\n",
              "      <th></th>\n",
              "      <th></th>\n",
              "      <th></th>\n",
              "      <th></th>\n",
              "      <th></th>\n",
              "      <th></th>\n",
              "      <th></th>\n",
              "      <th></th>\n",
              "      <th></th>\n",
              "      <th></th>\n",
              "    </tr>\n",
              "  </thead>\n",
              "  <tbody>\n",
              "    <tr>\n",
              "      <th>2018-11-28 03:28:30</th>\n",
              "      <td>1067621226997137408</td>\n",
              "      <td>A Tea-Seller has reduced the price of cup of t...</td>\n",
              "      <td>Sayyed Noor</td>\n",
              "      <td>SayyedNoor219</td>\n",
              "      <td>0</td>\n",
              "      <td>0</td>\n",
              "      <td>English</td>\n",
              "      <td>Twitter for Android</td>\n",
              "      <td>Retweet</td>\n",
              "      <td>Photo</td>\n",
              "      <td>0</td>\n",
              "      <td>1</td>\n",
              "      <td>0</td>\n",
              "    </tr>\n",
              "    <tr>\n",
              "      <th>2018-11-28 03:28:30</th>\n",
              "      <td>1067621226997137408</td>\n",
              "      <td>A Tea-Seller has reduced the price of cup of t...</td>\n",
              "      <td>Sayyed Noor</td>\n",
              "      <td>SayyedNoor219</td>\n",
              "      <td>0</td>\n",
              "      <td>0</td>\n",
              "      <td>English</td>\n",
              "      <td>Twitter for Android</td>\n",
              "      <td>Retweet</td>\n",
              "      <td>Photo</td>\n",
              "      <td>0</td>\n",
              "      <td>1</td>\n",
              "      <td>0</td>\n",
              "    </tr>\n",
              "  </tbody>\n",
              "</table>\n",
              "</div>"
            ],
            "text/plain": [
              "                                Tweet Id  \\\n",
              "Created At                                 \n",
              "2018-11-28 03:28:30  1067621226997137408   \n",
              "2018-11-28 03:28:30  1067621226997137408   \n",
              "\n",
              "                                                                  Text  \\\n",
              "Created At                                                               \n",
              "2018-11-28 03:28:30  A Tea-Seller has reduced the price of cup of t...   \n",
              "2018-11-28 03:28:30  A Tea-Seller has reduced the price of cup of t...   \n",
              "\n",
              "                            Name    Screen Name  Favorites  Retweets Language  \\\n",
              "Created At                                                                      \n",
              "2018-11-28 03:28:30  Sayyed Noor  SayyedNoor219          0         0  English   \n",
              "2018-11-28 03:28:30  Sayyed Noor  SayyedNoor219          0         0  English   \n",
              "\n",
              "                                  Client Tweet Type Media Type  URLs  \\\n",
              "Created At                                                             \n",
              "2018-11-28 03:28:30  Twitter for Android    Retweet      Photo     0   \n",
              "2018-11-28 03:28:30  Twitter for Android    Retweet      Photo     0   \n",
              "\n",
              "                     Hashtags  Mentions  \n",
              "Created At                               \n",
              "2018-11-28 03:28:30         1         0  \n",
              "2018-11-28 03:28:30         1         0  "
            ]
          },
          "metadata": {
            "tags": []
          },
          "execution_count": 10
        }
      ]
    },
    {
      "metadata": {
        "id": "Ttz2R3KadWTZ",
        "colab_type": "code",
        "colab": {
          "base_uri": "https://localhost:8080/",
          "height": 34
        },
        "outputId": "6b1ea171-1a63-4b46-8a7d-79eb3b079005"
      },
      "cell_type": "code",
      "source": [
        "DemonetizationDisaster.shape"
      ],
      "execution_count": 11,
      "outputs": [
        {
          "output_type": "execute_result",
          "data": {
            "text/plain": [
              "(504, 13)"
            ]
          },
          "metadata": {
            "tags": []
          },
          "execution_count": 11
        }
      ]
    },
    {
      "metadata": {
        "id": "5bIyNbxecGN-",
        "colab_type": "code",
        "colab": {
          "base_uri": "https://localhost:8080/",
          "height": 244
        },
        "outputId": "3eb0b016-4749-41d1-b57d-c70a77dc71e0"
      },
      "cell_type": "code",
      "source": [
        "Demonetisation = pd.read_csv('https://bit.ly/2SwXCAF', encoding=\"ISO-8859-1\", parse_dates = ['Created At'], index_col = 'Created At')\n",
        "Demonetisation.head(2)"
      ],
      "execution_count": 12,
      "outputs": [
        {
          "output_type": "execute_result",
          "data": {
            "text/html": [
              "<div>\n",
              "<style scoped>\n",
              "    .dataframe tbody tr th:only-of-type {\n",
              "        vertical-align: middle;\n",
              "    }\n",
              "\n",
              "    .dataframe tbody tr th {\n",
              "        vertical-align: top;\n",
              "    }\n",
              "\n",
              "    .dataframe thead th {\n",
              "        text-align: right;\n",
              "    }\n",
              "</style>\n",
              "<table border=\"1\" class=\"dataframe\">\n",
              "  <thead>\n",
              "    <tr style=\"text-align: right;\">\n",
              "      <th></th>\n",
              "      <th>Tweet Id</th>\n",
              "      <th>Text</th>\n",
              "      <th>Name</th>\n",
              "      <th>Screen Name</th>\n",
              "      <th>Favorites</th>\n",
              "      <th>Retweets</th>\n",
              "      <th>Language</th>\n",
              "      <th>Client</th>\n",
              "      <th>Tweet Type</th>\n",
              "      <th>Media Type</th>\n",
              "      <th>URLs</th>\n",
              "      <th>Hashtags</th>\n",
              "      <th>Mentions</th>\n",
              "    </tr>\n",
              "    <tr>\n",
              "      <th>Created At</th>\n",
              "      <th></th>\n",
              "      <th></th>\n",
              "      <th></th>\n",
              "      <th></th>\n",
              "      <th></th>\n",
              "      <th></th>\n",
              "      <th></th>\n",
              "      <th></th>\n",
              "      <th></th>\n",
              "      <th></th>\n",
              "      <th></th>\n",
              "      <th></th>\n",
              "      <th></th>\n",
              "    </tr>\n",
              "  </thead>\n",
              "  <tbody>\n",
              "    <tr>\n",
              "      <th>2018-11-24 03:48:26</th>\n",
              "      <td>1066176693046394880</td>\n",
              "      <td>The Reality which ?No Marketing? gimmicks can ...</td>\n",
              "      <td>Unsensationalist</td>\n",
              "      <td>zohaibysrn</td>\n",
              "      <td>0</td>\n",
              "      <td>0</td>\n",
              "      <td>English</td>\n",
              "      <td>Twitter for Android</td>\n",
              "      <td>Retweet</td>\n",
              "      <td>NaN</td>\n",
              "      <td>1</td>\n",
              "      <td>3</td>\n",
              "      <td>0</td>\n",
              "    </tr>\n",
              "    <tr>\n",
              "      <th>2018-11-24 04:04:54</th>\n",
              "      <td>1066180835873878017</td>\n",
              "      <td>??? ?? ?? ???? ?? ???? ??? ???? ?? ??? ??!\\n#B...</td>\n",
              "      <td>D Kardam</td>\n",
              "      <td>DKardam2</td>\n",
              "      <td>0</td>\n",
              "      <td>0</td>\n",
              "      <td>Hindi</td>\n",
              "      <td>Twitter for Android</td>\n",
              "      <td>Retweet</td>\n",
              "      <td>Photo</td>\n",
              "      <td>0</td>\n",
              "      <td>3</td>\n",
              "      <td>0</td>\n",
              "    </tr>\n",
              "  </tbody>\n",
              "</table>\n",
              "</div>"
            ],
            "text/plain": [
              "                                Tweet Id  \\\n",
              "Created At                                 \n",
              "2018-11-24 03:48:26  1066176693046394880   \n",
              "2018-11-24 04:04:54  1066180835873878017   \n",
              "\n",
              "                                                                  Text  \\\n",
              "Created At                                                               \n",
              "2018-11-24 03:48:26  The Reality which ?No Marketing? gimmicks can ...   \n",
              "2018-11-24 04:04:54  ??? ?? ?? ???? ?? ???? ??? ???? ?? ??? ??!\\n#B...   \n",
              "\n",
              "                                 Name Screen Name  Favorites  Retweets  \\\n",
              "Created At                                                               \n",
              "2018-11-24 03:48:26  Unsensationalist  zohaibysrn          0         0   \n",
              "2018-11-24 04:04:54          D Kardam    DKardam2          0         0   \n",
              "\n",
              "                    Language               Client Tweet Type Media Type  URLs  \\\n",
              "Created At                                                                      \n",
              "2018-11-24 03:48:26  English  Twitter for Android    Retweet        NaN     1   \n",
              "2018-11-24 04:04:54    Hindi  Twitter for Android    Retweet      Photo     0   \n",
              "\n",
              "                     Hashtags  Mentions  \n",
              "Created At                               \n",
              "2018-11-24 03:48:26         3         0  \n",
              "2018-11-24 04:04:54         3         0  "
            ]
          },
          "metadata": {
            "tags": []
          },
          "execution_count": 12
        }
      ]
    },
    {
      "metadata": {
        "id": "rj367aRUdnv7",
        "colab_type": "code",
        "colab": {
          "base_uri": "https://localhost:8080/",
          "height": 34
        },
        "outputId": "0806badb-1af6-469a-8093-15d7295f6f22"
      },
      "cell_type": "code",
      "source": [
        "Demonetisation.shape"
      ],
      "execution_count": 13,
      "outputs": [
        {
          "output_type": "execute_result",
          "data": {
            "text/plain": [
              "(1496, 13)"
            ]
          },
          "metadata": {
            "tags": []
          },
          "execution_count": 13
        }
      ]
    },
    {
      "metadata": {
        "id": "4JLVC8gPdFOa",
        "colab_type": "code",
        "colab": {
          "base_uri": "https://localhost:8080/",
          "height": 34
        },
        "outputId": "9cdf4670-d64a-447d-fa96-2e10923d5ea0"
      },
      "cell_type": "code",
      "source": [
        "combined = pd.concat([DemonetizationDisaster, DemonetisationDisaster, Demonetisation], axis = 0)\n",
        "combined.shape"
      ],
      "execution_count": 14,
      "outputs": [
        {
          "output_type": "execute_result",
          "data": {
            "text/plain": [
              "(2623, 13)"
            ]
          },
          "metadata": {
            "tags": []
          },
          "execution_count": 14
        }
      ]
    },
    {
      "metadata": {
        "id": "dUF2LZQFduOl",
        "colab_type": "code",
        "colab": {
          "base_uri": "https://localhost:8080/",
          "height": 162
        },
        "outputId": "81abdc16-7979-4dd9-f121-a7e38b479f19"
      },
      "cell_type": "code",
      "source": [
        "combined.head(1)"
      ],
      "execution_count": 15,
      "outputs": [
        {
          "output_type": "execute_result",
          "data": {
            "text/html": [
              "<div>\n",
              "<style scoped>\n",
              "    .dataframe tbody tr th:only-of-type {\n",
              "        vertical-align: middle;\n",
              "    }\n",
              "\n",
              "    .dataframe tbody tr th {\n",
              "        vertical-align: top;\n",
              "    }\n",
              "\n",
              "    .dataframe thead th {\n",
              "        text-align: right;\n",
              "    }\n",
              "</style>\n",
              "<table border=\"1\" class=\"dataframe\">\n",
              "  <thead>\n",
              "    <tr style=\"text-align: right;\">\n",
              "      <th></th>\n",
              "      <th>Tweet Id</th>\n",
              "      <th>Text</th>\n",
              "      <th>Name</th>\n",
              "      <th>Screen Name</th>\n",
              "      <th>Favorites</th>\n",
              "      <th>Retweets</th>\n",
              "      <th>Language</th>\n",
              "      <th>Client</th>\n",
              "      <th>Tweet Type</th>\n",
              "      <th>Media Type</th>\n",
              "      <th>URLs</th>\n",
              "      <th>Hashtags</th>\n",
              "      <th>Mentions</th>\n",
              "    </tr>\n",
              "    <tr>\n",
              "      <th>Created At</th>\n",
              "      <th></th>\n",
              "      <th></th>\n",
              "      <th></th>\n",
              "      <th></th>\n",
              "      <th></th>\n",
              "      <th></th>\n",
              "      <th></th>\n",
              "      <th></th>\n",
              "      <th></th>\n",
              "      <th></th>\n",
              "      <th></th>\n",
              "      <th></th>\n",
              "      <th></th>\n",
              "    </tr>\n",
              "  </thead>\n",
              "  <tbody>\n",
              "    <tr>\n",
              "      <th>2018-11-28 03:28:30</th>\n",
              "      <td>1067621226997137408</td>\n",
              "      <td>A Tea-Seller has reduced the price of cup of t...</td>\n",
              "      <td>Sayyed Noor</td>\n",
              "      <td>SayyedNoor219</td>\n",
              "      <td>0</td>\n",
              "      <td>0</td>\n",
              "      <td>English</td>\n",
              "      <td>Twitter for Android</td>\n",
              "      <td>Retweet</td>\n",
              "      <td>Photo</td>\n",
              "      <td>0</td>\n",
              "      <td>1</td>\n",
              "      <td>0</td>\n",
              "    </tr>\n",
              "  </tbody>\n",
              "</table>\n",
              "</div>"
            ],
            "text/plain": [
              "                                Tweet Id  \\\n",
              "Created At                                 \n",
              "2018-11-28 03:28:30  1067621226997137408   \n",
              "\n",
              "                                                                  Text  \\\n",
              "Created At                                                               \n",
              "2018-11-28 03:28:30  A Tea-Seller has reduced the price of cup of t...   \n",
              "\n",
              "                            Name    Screen Name  Favorites  Retweets Language  \\\n",
              "Created At                                                                      \n",
              "2018-11-28 03:28:30  Sayyed Noor  SayyedNoor219          0         0  English   \n",
              "\n",
              "                                  Client Tweet Type Media Type  URLs  \\\n",
              "Created At                                                             \n",
              "2018-11-28 03:28:30  Twitter for Android    Retweet      Photo     0   \n",
              "\n",
              "                     Hashtags  Mentions  \n",
              "Created At                               \n",
              "2018-11-28 03:28:30         1         0  "
            ]
          },
          "metadata": {
            "tags": []
          },
          "execution_count": 15
        }
      ]
    },
    {
      "metadata": {
        "id": "KPsxIKuIdcWZ",
        "colab_type": "code",
        "colab": {
          "base_uri": "https://localhost:8080/",
          "height": 199
        },
        "outputId": "c320fd42-9da7-45f5-f02a-1ae11f6d3c2a"
      },
      "cell_type": "code",
      "source": [
        "df.head(1)"
      ],
      "execution_count": 16,
      "outputs": [
        {
          "output_type": "execute_result",
          "data": {
            "text/html": [
              "<div>\n",
              "<style scoped>\n",
              "    .dataframe tbody tr th:only-of-type {\n",
              "        vertical-align: middle;\n",
              "    }\n",
              "\n",
              "    .dataframe tbody tr th {\n",
              "        vertical-align: top;\n",
              "    }\n",
              "\n",
              "    .dataframe thead th {\n",
              "        text-align: right;\n",
              "    }\n",
              "</style>\n",
              "<table border=\"1\" class=\"dataframe\">\n",
              "  <thead>\n",
              "    <tr style=\"text-align: right;\">\n",
              "      <th></th>\n",
              "      <th>Unnamed: 0</th>\n",
              "      <th>X</th>\n",
              "      <th>text</th>\n",
              "      <th>favorited</th>\n",
              "      <th>favoriteCount</th>\n",
              "      <th>replyToSN</th>\n",
              "      <th>truncated</th>\n",
              "      <th>replyToSID</th>\n",
              "      <th>id</th>\n",
              "      <th>replyToUID</th>\n",
              "      <th>statusSource</th>\n",
              "      <th>screenName</th>\n",
              "      <th>retweetCount</th>\n",
              "      <th>isRetweet</th>\n",
              "      <th>retweeted</th>\n",
              "    </tr>\n",
              "    <tr>\n",
              "      <th>created</th>\n",
              "      <th></th>\n",
              "      <th></th>\n",
              "      <th></th>\n",
              "      <th></th>\n",
              "      <th></th>\n",
              "      <th></th>\n",
              "      <th></th>\n",
              "      <th></th>\n",
              "      <th></th>\n",
              "      <th></th>\n",
              "      <th></th>\n",
              "      <th></th>\n",
              "      <th></th>\n",
              "      <th></th>\n",
              "      <th></th>\n",
              "    </tr>\n",
              "  </thead>\n",
              "  <tbody>\n",
              "    <tr>\n",
              "      <th>2016-11-22 10:57:33</th>\n",
              "      <td>8000</td>\n",
              "      <td>8000</td>\n",
              "      <td>RT @UnSubtleDesi: Kejriwal posts pic of dead r...</td>\n",
              "      <td>False</td>\n",
              "      <td>0</td>\n",
              "      <td>NaN</td>\n",
              "      <td>False</td>\n",
              "      <td>NaN</td>\n",
              "      <td>8.010168e+17</td>\n",
              "      <td>NaN</td>\n",
              "      <td>&lt;a href=\"http://twitter.com\" rel=\"nofollow\"&gt;Tw...</td>\n",
              "      <td>prashik2107</td>\n",
              "      <td>897</td>\n",
              "      <td>True</td>\n",
              "      <td>False</td>\n",
              "    </tr>\n",
              "  </tbody>\n",
              "</table>\n",
              "</div>"
            ],
            "text/plain": [
              "                     Unnamed: 0     X  \\\n",
              "created                                 \n",
              "2016-11-22 10:57:33        8000  8000   \n",
              "\n",
              "                                                                  text  \\\n",
              "created                                                                  \n",
              "2016-11-22 10:57:33  RT @UnSubtleDesi: Kejriwal posts pic of dead r...   \n",
              "\n",
              "                     favorited  favoriteCount replyToSN  truncated  \\\n",
              "created                                                              \n",
              "2016-11-22 10:57:33      False              0       NaN      False   \n",
              "\n",
              "                     replyToSID            id  replyToUID  \\\n",
              "created                                                     \n",
              "2016-11-22 10:57:33         NaN  8.010168e+17         NaN   \n",
              "\n",
              "                                                          statusSource  \\\n",
              "created                                                                  \n",
              "2016-11-22 10:57:33  <a href=\"http://twitter.com\" rel=\"nofollow\">Tw...   \n",
              "\n",
              "                      screenName  retweetCount  isRetweet  retweeted  \n",
              "created                                                               \n",
              "2016-11-22 10:57:33  prashik2107           897       True      False  "
            ]
          },
          "metadata": {
            "tags": []
          },
          "execution_count": 16
        }
      ]
    },
    {
      "metadata": {
        "trusted": true,
        "_uuid": "dd498ae95b8a74fb0f6dc719a96c9cbc0ca2e610",
        "_kg_hide-input": true,
        "id": "raJo_GBcuyIA",
        "colab_type": "code",
        "colab": {}
      },
      "cell_type": "code",
      "source": [
        "#remove the unwanted columns\n",
        "df.drop(['Unnamed: 0', 'X', 'favorited', 'favoriteCount', 'replyToSN','truncated', 'replyToSID', 'id', 'replyToUID','retweeted','isRetweet',\n",
        "       'statusSource'],axis=1,inplace=True)"
      ],
      "execution_count": 0,
      "outputs": []
    },
    {
      "metadata": {
        "id": "JNRHhDL2eVyX",
        "colab_type": "code",
        "colab": {
          "base_uri": "https://localhost:8080/",
          "height": 111
        },
        "outputId": "9247b079-645f-4ba3-801d-2b89976d3a48"
      },
      "cell_type": "code",
      "source": [
        "df.head(1)"
      ],
      "execution_count": 18,
      "outputs": [
        {
          "output_type": "execute_result",
          "data": {
            "text/html": [
              "<div>\n",
              "<style scoped>\n",
              "    .dataframe tbody tr th:only-of-type {\n",
              "        vertical-align: middle;\n",
              "    }\n",
              "\n",
              "    .dataframe tbody tr th {\n",
              "        vertical-align: top;\n",
              "    }\n",
              "\n",
              "    .dataframe thead th {\n",
              "        text-align: right;\n",
              "    }\n",
              "</style>\n",
              "<table border=\"1\" class=\"dataframe\">\n",
              "  <thead>\n",
              "    <tr style=\"text-align: right;\">\n",
              "      <th></th>\n",
              "      <th>text</th>\n",
              "      <th>screenName</th>\n",
              "      <th>retweetCount</th>\n",
              "    </tr>\n",
              "    <tr>\n",
              "      <th>created</th>\n",
              "      <th></th>\n",
              "      <th></th>\n",
              "      <th></th>\n",
              "    </tr>\n",
              "  </thead>\n",
              "  <tbody>\n",
              "    <tr>\n",
              "      <th>2016-11-22 10:57:33</th>\n",
              "      <td>RT @UnSubtleDesi: Kejriwal posts pic of dead r...</td>\n",
              "      <td>prashik2107</td>\n",
              "      <td>897</td>\n",
              "    </tr>\n",
              "  </tbody>\n",
              "</table>\n",
              "</div>"
            ],
            "text/plain": [
              "                                                                  text  \\\n",
              "created                                                                  \n",
              "2016-11-22 10:57:33  RT @UnSubtleDesi: Kejriwal posts pic of dead r...   \n",
              "\n",
              "                      screenName  retweetCount  \n",
              "created                                         \n",
              "2016-11-22 10:57:33  prashik2107           897  "
            ]
          },
          "metadata": {
            "tags": []
          },
          "execution_count": 18
        }
      ]
    },
    {
      "metadata": {
        "id": "Ezx3hm4cebYz",
        "colab_type": "code",
        "colab": {
          "base_uri": "https://localhost:8080/",
          "height": 111
        },
        "outputId": "81a6d858-d4a9-44ce-836b-b053b23f7e52"
      },
      "cell_type": "code",
      "source": [
        "combined = combined[['Text', 'Screen Name', 'Retweets']]\n",
        "combined.head(1)"
      ],
      "execution_count": 19,
      "outputs": [
        {
          "output_type": "execute_result",
          "data": {
            "text/html": [
              "<div>\n",
              "<style scoped>\n",
              "    .dataframe tbody tr th:only-of-type {\n",
              "        vertical-align: middle;\n",
              "    }\n",
              "\n",
              "    .dataframe tbody tr th {\n",
              "        vertical-align: top;\n",
              "    }\n",
              "\n",
              "    .dataframe thead th {\n",
              "        text-align: right;\n",
              "    }\n",
              "</style>\n",
              "<table border=\"1\" class=\"dataframe\">\n",
              "  <thead>\n",
              "    <tr style=\"text-align: right;\">\n",
              "      <th></th>\n",
              "      <th>Text</th>\n",
              "      <th>Screen Name</th>\n",
              "      <th>Retweets</th>\n",
              "    </tr>\n",
              "    <tr>\n",
              "      <th>Created At</th>\n",
              "      <th></th>\n",
              "      <th></th>\n",
              "      <th></th>\n",
              "    </tr>\n",
              "  </thead>\n",
              "  <tbody>\n",
              "    <tr>\n",
              "      <th>2018-11-28 03:28:30</th>\n",
              "      <td>A Tea-Seller has reduced the price of cup of t...</td>\n",
              "      <td>SayyedNoor219</td>\n",
              "      <td>0</td>\n",
              "    </tr>\n",
              "  </tbody>\n",
              "</table>\n",
              "</div>"
            ],
            "text/plain": [
              "                                                                  Text  \\\n",
              "Created At                                                               \n",
              "2018-11-28 03:28:30  A Tea-Seller has reduced the price of cup of t...   \n",
              "\n",
              "                       Screen Name  Retweets  \n",
              "Created At                                    \n",
              "2018-11-28 03:28:30  SayyedNoor219         0  "
            ]
          },
          "metadata": {
            "tags": []
          },
          "execution_count": 19
        }
      ]
    },
    {
      "metadata": {
        "id": "ThnTv7BlfzSs",
        "colab_type": "code",
        "colab": {}
      },
      "cell_type": "code",
      "source": [
        "combined.columns = df.columns\n",
        "combined.index.name = df.index.name"
      ],
      "execution_count": 0,
      "outputs": []
    },
    {
      "metadata": {
        "id": "WekKQhfmgHM6",
        "colab_type": "code",
        "colab": {
          "base_uri": "https://localhost:8080/",
          "height": 142
        },
        "outputId": "26816a6d-2516-4175-bdff-fc089c44be91"
      },
      "cell_type": "code",
      "source": [
        "fcombined = pd.concat([df, combined], axis = 0)\n",
        "fcombined.head(2)"
      ],
      "execution_count": 21,
      "outputs": [
        {
          "output_type": "execute_result",
          "data": {
            "text/html": [
              "<div>\n",
              "<style scoped>\n",
              "    .dataframe tbody tr th:only-of-type {\n",
              "        vertical-align: middle;\n",
              "    }\n",
              "\n",
              "    .dataframe tbody tr th {\n",
              "        vertical-align: top;\n",
              "    }\n",
              "\n",
              "    .dataframe thead th {\n",
              "        text-align: right;\n",
              "    }\n",
              "</style>\n",
              "<table border=\"1\" class=\"dataframe\">\n",
              "  <thead>\n",
              "    <tr style=\"text-align: right;\">\n",
              "      <th></th>\n",
              "      <th>text</th>\n",
              "      <th>screenName</th>\n",
              "      <th>retweetCount</th>\n",
              "    </tr>\n",
              "    <tr>\n",
              "      <th>created</th>\n",
              "      <th></th>\n",
              "      <th></th>\n",
              "      <th></th>\n",
              "    </tr>\n",
              "  </thead>\n",
              "  <tbody>\n",
              "    <tr>\n",
              "      <th>2016-11-22 10:57:33</th>\n",
              "      <td>RT @UnSubtleDesi: Kejriwal posts pic of dead r...</td>\n",
              "      <td>prashik2107</td>\n",
              "      <td>897</td>\n",
              "    </tr>\n",
              "    <tr>\n",
              "      <th>2016-11-22 10:57:43</th>\n",
              "      <td>#Demonetization Positive Effect: Cigarette Sal...</td>\n",
              "      <td>HP_Journo</td>\n",
              "      <td>1</td>\n",
              "    </tr>\n",
              "  </tbody>\n",
              "</table>\n",
              "</div>"
            ],
            "text/plain": [
              "                                                                  text  \\\n",
              "created                                                                  \n",
              "2016-11-22 10:57:33  RT @UnSubtleDesi: Kejriwal posts pic of dead r...   \n",
              "2016-11-22 10:57:43  #Demonetization Positive Effect: Cigarette Sal...   \n",
              "\n",
              "                      screenName  retweetCount  \n",
              "created                                         \n",
              "2016-11-22 10:57:33  prashik2107           897  \n",
              "2016-11-22 10:57:43    HP_Journo             1  "
            ]
          },
          "metadata": {
            "tags": []
          },
          "execution_count": 21
        }
      ]
    },
    {
      "metadata": {
        "id": "I5Yw4DGogVYE",
        "colab_type": "code",
        "colab": {
          "base_uri": "https://localhost:8080/",
          "height": 34
        },
        "outputId": "10d7b1c6-4ef0-4148-9c8e-8d9192311546"
      },
      "cell_type": "code",
      "source": [
        "fcombined.shape"
      ],
      "execution_count": 22,
      "outputs": [
        {
          "output_type": "execute_result",
          "data": {
            "text/plain": [
              "(17563, 3)"
            ]
          },
          "metadata": {
            "tags": []
          },
          "execution_count": 22
        }
      ]
    },
    {
      "metadata": {
        "id": "bcCxUdlDiiLq",
        "colab_type": "code",
        "colab": {}
      },
      "cell_type": "code",
      "source": [
        "df = fcombined.copy()"
      ],
      "execution_count": 0,
      "outputs": []
    },
    {
      "metadata": {
        "_uuid": "a5ca25a9cd604919c15ae94383adfa9cd9187527",
        "id": "v-bkjKvguyIE",
        "colab_type": "text"
      },
      "cell_type": "markdown",
      "source": [
        "**THE TWEET WITH MAXIMUM  NUMBER OF RETWEETS**"
      ]
    },
    {
      "metadata": {
        "id": "2OutR1hrkrXq",
        "colab_type": "code",
        "colab": {
          "base_uri": "https://localhost:8080/",
          "height": 80
        },
        "outputId": "78e303ba-87b7-4571-dafd-f24336aa51f0"
      },
      "cell_type": "code",
      "source": [
        "df.reset_index(inplace = True)\n",
        "df.head(1)"
      ],
      "execution_count": 24,
      "outputs": [
        {
          "output_type": "execute_result",
          "data": {
            "text/html": [
              "<div>\n",
              "<style scoped>\n",
              "    .dataframe tbody tr th:only-of-type {\n",
              "        vertical-align: middle;\n",
              "    }\n",
              "\n",
              "    .dataframe tbody tr th {\n",
              "        vertical-align: top;\n",
              "    }\n",
              "\n",
              "    .dataframe thead th {\n",
              "        text-align: right;\n",
              "    }\n",
              "</style>\n",
              "<table border=\"1\" class=\"dataframe\">\n",
              "  <thead>\n",
              "    <tr style=\"text-align: right;\">\n",
              "      <th></th>\n",
              "      <th>created</th>\n",
              "      <th>text</th>\n",
              "      <th>screenName</th>\n",
              "      <th>retweetCount</th>\n",
              "    </tr>\n",
              "  </thead>\n",
              "  <tbody>\n",
              "    <tr>\n",
              "      <th>0</th>\n",
              "      <td>2016-11-22 10:57:33</td>\n",
              "      <td>RT @UnSubtleDesi: Kejriwal posts pic of dead r...</td>\n",
              "      <td>prashik2107</td>\n",
              "      <td>897</td>\n",
              "    </tr>\n",
              "  </tbody>\n",
              "</table>\n",
              "</div>"
            ],
            "text/plain": [
              "              created                                               text  \\\n",
              "0 2016-11-22 10:57:33  RT @UnSubtleDesi: Kejriwal posts pic of dead r...   \n",
              "\n",
              "    screenName  retweetCount  \n",
              "0  prashik2107           897  "
            ]
          },
          "metadata": {
            "tags": []
          },
          "execution_count": 24
        }
      ]
    },
    {
      "metadata": {
        "trusted": true,
        "_uuid": "1b25961333c74244ede023d882f7b11a29864199",
        "_kg_hide-input": true,
        "id": "SEswXvxXuyIF",
        "colab_type": "code",
        "colab": {
          "base_uri": "https://localhost:8080/",
          "height": 34
        },
        "outputId": "b7970f02-6c46-4cc8-e96f-265fbc61883e"
      },
      "cell_type": "code",
      "source": [
        "df.iloc[df['retweetCount'].idxmax()]['text'] #IDXMAX : GIVES THE INDEX OF THE MAXIMUM VALUE"
      ],
      "execution_count": 25,
      "outputs": [
        {
          "output_type": "execute_result",
          "data": {
            "text/plain": [
              "'RT @RNTata2000: The government\\x92s bold implementation of the demonetization programme needs the nation\\x92s support. https://t.co/tx1ZILSor8'"
            ]
          },
          "metadata": {
            "tags": []
          },
          "execution_count": 25
        }
      ]
    },
    {
      "metadata": {
        "_uuid": "195509dc20beb24812f16a1db9bb40f6432c5e67",
        "id": "GDTleazeuyIJ",
        "colab_type": "text"
      },
      "cell_type": "markdown",
      "source": [
        "**LETS FIND THE USER WITH MAXIMUM NUMBER OF TWEETS**"
      ]
    },
    {
      "metadata": {
        "trusted": true,
        "_uuid": "86b3841bec4182aae3011651625af3b48609e9e3",
        "_kg_hide-input": true,
        "id": "Rq9BuH6tuyIK",
        "colab_type": "code",
        "colab": {
          "base_uri": "https://localhost:8080/",
          "height": 428
        },
        "outputId": "7183a331-9c36-4c94-a07f-cdffc6b45b37"
      },
      "cell_type": "code",
      "source": [
        "import nltk\n",
        "from nltk.probability import FreqDist\n",
        "user_list = df['screenName'].tolist()\n",
        "max_user = FreqDist(user_list)\n",
        "max_user.plot(10)"
      ],
      "execution_count": 26,
      "outputs": [
        {
          "output_type": "display_data",
          "data": {
            "image/png": "[encoded data removed]",
            "text/plain": [
              "<matplotlib.figure.Figure at 0x7ff70f479cf8>"
            ]
          },
          "metadata": {
            "tags": []
          }
        }
      ]
    },
    {
      "metadata": {
        "_uuid": "7a2099c3237bc08f9deeff4071e540218342be4d",
        "id": "Z6iHxVvYuyIN",
        "colab_type": "text"
      },
      "cell_type": "markdown",
      "source": [
        "**TO PROCEED FURTHER LETS HAVE SOME DATA CLEANING**"
      ]
    },
    {
      "metadata": {
        "_uuid": "1edbdcead2d01e4548ca176a2fda58b9669545fd",
        "id": "w58f4g6KuyIO",
        "colab_type": "text"
      },
      "cell_type": "markdown",
      "source": [
        "**ITS RECOMMENDED THAT YOU SHOULD FOLLOW THE CLEANING FUNCTION STEP BY STEP YOURSELF TO KNOW WHAT HAPPENING INSIDE**"
      ]
    },
    {
      "metadata": {
        "id": "NL0MXRTlp-sN",
        "colab_type": "code",
        "colab": {}
      },
      "cell_type": "code",
      "source": [
        ""
      ],
      "execution_count": 0,
      "outputs": []
    },
    {
      "metadata": {
        "id": "uuO5dY6otV4B",
        "colab_type": "code",
        "colab": {
          "base_uri": "https://localhost:8080/",
          "height": 173
        },
        "outputId": "649effdd-2a60-443c-8fd7-3afbb50b8774"
      },
      "cell_type": "code",
      "source": [
        "tweets = ['#', 'Demonetization', 'Positive', 'Effect', ':', 'Cigarette', 'Sales', 'Slashed', 'To', 'Almost', 'Half', 'After', 'Demonetization', ':', 'Report', '@', 'deepparihar', '@', 'Tabassumzia', '@', 'AshSharma1102']\n",
        "print(tweets)\n",
        "while True:\n",
        "  try:\n",
        "    a = tweets.index('@')\n",
        "    print(a)\n",
        "    print(tweets[a+1])\n",
        "    del tweets[a + 1]\n",
        "    del tweets[a]\n",
        "  except:\n",
        "    break\n",
        "while True:\n",
        "  try:\n",
        "    b = tweets.index('#')\n",
        "    del tweets[b + 1]\n",
        "    del tweets[b]\n",
        "  except:\n",
        "    break\n",
        "print(tweets)"
      ],
      "execution_count": 1,
      "outputs": [
        {
          "output_type": "stream",
          "text": [
            "['#', 'Demonetization', 'Positive', 'Effect', ':', 'Cigarette', 'Sales', 'Slashed', 'To', 'Almost', 'Half', 'After', 'Demonetization', ':', 'Report', '@', 'deepparihar', '@', 'Tabassumzia', '@', 'AshSharma1102']\n",
            "15\n",
            "deepparihar\n",
            "15\n",
            "Tabassumzia\n",
            "15\n",
            "AshSharma1102\n",
            "['Positive', 'Effect', ':', 'Cigarette', 'Sales', 'Slashed', 'To', 'Almost', 'Half', 'After', 'Demonetization', ':', 'Report']\n"
          ],
          "name": "stdout"
        }
      ]
    },
    {
      "metadata": {
        "trusted": true,
        "_uuid": "459017e53a8ab10642e0cdc0f158cb9a40768ead",
        "id": "vk2GU9bSuyIP",
        "colab_type": "code",
        "colab": {
          "base_uri": "https://localhost:8080/",
          "height": 306
        },
        "outputId": "360c922f-efd0-4122-9f26-8df56c06cc3d"
      },
      "cell_type": "code",
      "source": [
        "import string,re\n",
        "import nltk\n",
        "nltk.download('punkt')\n",
        "nltk.download('stopwords')\n",
        "nltk.download('brown')\n",
        "from nltk.tokenize import word_tokenize\n",
        "from nltk.corpus import stopwords\n",
        "#THE CLEANING FUNCTION\n",
        "def clean_text(tweets):\n",
        "    tweets = word_tokenize(tweets)#SEPERATE EACH WORD\n",
        "    while True:\n",
        "      try:\n",
        "        a = tweets.index('@')\n",
        "        del tweets[a + 1]\n",
        "        del tweets[a]\n",
        "      except:\n",
        "        break\n",
        "    while True:\n",
        "      try:\n",
        "        b = tweets.index('#')\n",
        "        del tweets[b + 1]\n",
        "        del tweets[b]\n",
        "      except:\n",
        "        break\n",
        "    tweets = \" \".join(tweets)#JOIN WORDS\n",
        "    tweets = re.sub(r'http\\S+', '', tweets)#REMOVE HTTPS TEXT WITH BLANK\n",
        "    tweets = [char for char in tweets if char not in string.punctuation]#REMOVE PUNCTUATIONS\n",
        "    tweets = ''.join(tweets)#JOIN THE LETTERS\n",
        "    tweets = [word.lower() for word in tweets.split() if word.lower() not in stopwords.words('english')]#REMOVE COMMON ENGLISH WORDS(I,YOU,WE..\n",
        "    return \" \".join(tweets)\n",
        "\n",
        "df['cleaned_text']=df['text'].apply(clean_text) #adding clean text to dataframe\n",
        "df.head()"
      ],
      "execution_count": 33,
      "outputs": [
        {
          "output_type": "stream",
          "text": [
            "[nltk_data] Downloading package punkt to /root/nltk_data...\n",
            "[nltk_data]   Package punkt is already up-to-date!\n",
            "[nltk_data] Downloading package stopwords to /root/nltk_data...\n",
            "[nltk_data]   Package stopwords is already up-to-date!\n",
            "[nltk_data] Downloading package brown to /root/nltk_data...\n",
            "[nltk_data]   Package brown is already up-to-date!\n"
          ],
          "name": "stdout"
        },
        {
          "output_type": "execute_result",
          "data": {
            "text/html": [
              "<div>\n",
              "<style scoped>\n",
              "    .dataframe tbody tr th:only-of-type {\n",
              "        vertical-align: middle;\n",
              "    }\n",
              "\n",
              "    .dataframe tbody tr th {\n",
              "        vertical-align: top;\n",
              "    }\n",
              "\n",
              "    .dataframe thead th {\n",
              "        text-align: right;\n",
              "    }\n",
              "</style>\n",
              "<table border=\"1\" class=\"dataframe\">\n",
              "  <thead>\n",
              "    <tr style=\"text-align: right;\">\n",
              "      <th></th>\n",
              "      <th>created</th>\n",
              "      <th>text</th>\n",
              "      <th>screenName</th>\n",
              "      <th>retweetCount</th>\n",
              "      <th>cleaned_text</th>\n",
              "    </tr>\n",
              "  </thead>\n",
              "  <tbody>\n",
              "    <tr>\n",
              "      <th>0</th>\n",
              "      <td>2016-11-22 10:57:33</td>\n",
              "      <td>RT @UnSubtleDesi: Kejriwal posts pic of dead r...</td>\n",
              "      <td>prashik2107</td>\n",
              "      <td>897</td>\n",
              "      <td>rt kejriwal posts pic dead robber claims relat...</td>\n",
              "    </tr>\n",
              "    <tr>\n",
              "      <th>1</th>\n",
              "      <td>2016-11-22 10:57:43</td>\n",
              "      <td>#Demonetization Positive Effect: Cigarette Sal...</td>\n",
              "      <td>HP_Journo</td>\n",
              "      <td>1</td>\n",
              "      <td>positive effect cigarette sales slashed almost...</td>\n",
              "    </tr>\n",
              "    <tr>\n",
              "      <th>2</th>\n",
              "      <td>2016-11-22 10:57:44</td>\n",
              "      <td>#demonetization will help combat terror becaus...</td>\n",
              "      <td>Modern_Gypsy</td>\n",
              "      <td>1</td>\n",
              "      <td>help combat terror pak wo nt able print new no...</td>\n",
              "    </tr>\n",
              "    <tr>\n",
              "      <th>3</th>\n",
              "      <td>2016-11-22 10:57:58</td>\n",
              "      <td>RT @sukanyaiyer2: #DeMonetization AAP protests...</td>\n",
              "      <td>asitawasthi_</td>\n",
              "      <td>2</td>\n",
              "      <td>rt aap protests marching govts move demonetiza...</td>\n",
              "    </tr>\n",
              "    <tr>\n",
              "      <th>4</th>\n",
              "      <td>2016-11-22 10:57:59</td>\n",
              "      <td>FYI, I must tell and clear your doubts to enha...</td>\n",
              "      <td>Rishimathur18</td>\n",
              "      <td>0</td>\n",
              "      <td>fyi must tell clear doubts enhance general kno...</td>\n",
              "    </tr>\n",
              "  </tbody>\n",
              "</table>\n",
              "</div>"
            ],
            "text/plain": [
              "              created                                               text  \\\n",
              "0 2016-11-22 10:57:33  RT @UnSubtleDesi: Kejriwal posts pic of dead r...   \n",
              "1 2016-11-22 10:57:43  #Demonetization Positive Effect: Cigarette Sal...   \n",
              "2 2016-11-22 10:57:44  #demonetization will help combat terror becaus...   \n",
              "3 2016-11-22 10:57:58  RT @sukanyaiyer2: #DeMonetization AAP protests...   \n",
              "4 2016-11-22 10:57:59  FYI, I must tell and clear your doubts to enha...   \n",
              "\n",
              "      screenName  retweetCount  \\\n",
              "0    prashik2107           897   \n",
              "1      HP_Journo             1   \n",
              "2   Modern_Gypsy             1   \n",
              "3   asitawasthi_             2   \n",
              "4  Rishimathur18             0   \n",
              "\n",
              "                                        cleaned_text  \n",
              "0  rt kejriwal posts pic dead robber claims relat...  \n",
              "1  positive effect cigarette sales slashed almost...  \n",
              "2  help combat terror pak wo nt able print new no...  \n",
              "3  rt aap protests marching govts move demonetiza...  \n",
              "4  fyi must tell clear doubts enhance general kno...  "
            ]
          },
          "metadata": {
            "tags": []
          },
          "execution_count": 33
        }
      ]
    },
    {
      "metadata": {
        "_uuid": "35e20fcac61a5999014fbf42a4ec4fdaaf7c037f",
        "id": "7fKJAzTbuyIS",
        "colab_type": "text"
      },
      "cell_type": "markdown",
      "source": [
        "**FIND THE MOST FREQUENT WORD IN TWEETS**"
      ]
    },
    {
      "metadata": {
        "id": "08ofUqNU3sf2",
        "colab_type": "code",
        "colab": {
          "base_uri": "https://localhost:8080/",
          "height": 34
        },
        "outputId": "c75ea347-f622-46f1-c826-414e95f9612c"
      },
      "cell_type": "code",
      "source": [
        "df['text'][3]"
      ],
      "execution_count": 35,
      "outputs": [
        {
          "output_type": "execute_result",
          "data": {
            "text/plain": [
              "'RT @sukanyaiyer2: #DeMonetization AAP protests by marching Against Govts move over DeMonetization &amp; he is also detained as he Tried 2 March\\x85'"
            ]
          },
          "metadata": {
            "tags": []
          },
          "execution_count": 35
        }
      ]
    },
    {
      "metadata": {
        "id": "xMx8wzJy3zid",
        "colab_type": "code",
        "colab": {
          "base_uri": "https://localhost:8080/",
          "height": 34
        },
        "outputId": "14799468-e562-4e48-81b5-5558ab09f25b"
      },
      "cell_type": "code",
      "source": [
        "df['cleaned_text'][3]"
      ],
      "execution_count": 36,
      "outputs": [
        {
          "output_type": "execute_result",
          "data": {
            "text/plain": [
              "'rt aap protests marching govts move demonetization amp also detained tried 2 march'"
            ]
          },
          "metadata": {
            "tags": []
          },
          "execution_count": 36
        }
      ]
    },
    {
      "metadata": {
        "trusted": true,
        "_uuid": "8dd79820f237212a00665ef8fecc69b1ed543d43",
        "_kg_hide-input": true,
        "id": "lwNcz7dSuyIS",
        "colab_type": "code",
        "colab": {
          "base_uri": "https://localhost:8080/",
          "height": 419
        },
        "outputId": "a7156e6a-9909-41af-b9a5-f67d9c1be5f2"
      },
      "cell_type": "code",
      "source": [
        "clean_term = []\n",
        "for terms in df['cleaned_text']:\n",
        "    clean_term += terms.split(\" \")\n",
        "cleaned = FreqDist(clean_term)\n",
        "cleaned.plot(10)"
      ],
      "execution_count": 34,
      "outputs": [
        {
          "output_type": "display_data",
          "data": {
            "image/png": "[encoded data removed]",
            "text/plain": [
              "<matplotlib.figure.Figure at 0x7ff70f298400>"
            ]
          },
          "metadata": {
            "tags": []
          }
        }
      ]
    },
    {
      "metadata": {
        "_uuid": "93a3187f517ebdbedde8b8011b8b091bc298303e",
        "id": "21MKUNSeuyIW",
        "colab_type": "text"
      },
      "cell_type": "markdown",
      "source": [
        "**SAMPLE SHOWS WORD SUCH AS [DEMONETIZATION, INDIA , MODI, PM] FREQUENTLY OCCURS**"
      ]
    },
    {
      "metadata": {
        "_uuid": "4570ea42a650826481384c3747ad543d7935709d",
        "id": "E3DLmcY4uyIW",
        "colab_type": "text"
      },
      "cell_type": "markdown",
      "source": [
        "**LETS PERFORM SENTIMENT ANALYSIS BUT WE NEED TEXTBLOB LIBRARY FOR SENTIMENT ANALYSIS**\n",
        "\n",
        "**TEXTBLOB.POLARITY GIVES THE MEASURE OF SENTIMENT, ITS VALUE IS AROUND [-1 TO 1]**\n",
        "\n",
        "** 1 MEANS POSITIVE FEEDBACK**\n",
        "\n",
        "**-1 MEANS NEGETIVE FEEDBACK**"
      ]
    },
    {
      "metadata": {
        "trusted": true,
        "_uuid": "41df7e6e8af0fe69252f8344de65e0b88234e34a",
        "_kg_hide-input": true,
        "id": "8nPCT7-XuyIX",
        "colab_type": "code",
        "colab": {
          "base_uri": "https://localhost:8080/",
          "height": 156
        },
        "outputId": "bb04a2d1-ac0b-479d-e28a-2b87d6d374dd"
      },
      "cell_type": "code",
      "source": [
        "!pip install textblob\n",
        "from textblob import TextBlob\n",
        "#CREAING A FUNCTION TO GET THE POLARITY\n",
        "def sentiments(tweets):\n",
        "    tweets = TextBlob(tweets)\n",
        "    pol = tweets.polarity #GIVES THE VALUE OF POLARITY\n",
        "    return pol\n",
        "\n",
        "df[\"polarity\"] = df[\"cleaned_text\"].apply(sentiments) #APPLY FUNCTION ON CLEAN TWEETS"
      ],
      "execution_count": 38,
      "outputs": [
        {
          "output_type": "stream",
          "text": [
            "Collecting textblob\n",
            "\u001b[?25l  Downloading https://files.pythonhosted.org/packages/7c/7d/ad09a26b63d4ad3f9395840c72c95f2fc9fa2b192094ef14e9e720be56f9/textblob-0.15.2-py2.py3-none-any.whl (636kB)\n",
            "\u001b[K    100% |████████████████████████████████| 645kB 17.7MB/s \n",
            "\u001b[?25hRequirement already satisfied: nltk>=3.1 in /usr/local/lib/python3.6/dist-packages (from textblob) (3.2.5)\n",
            "Requirement already satisfied: six in /usr/local/lib/python3.6/dist-packages (from nltk>=3.1->textblob) (1.11.0)\n",
            "Installing collected packages: textblob\n",
            "Successfully installed textblob-0.15.2\n"
          ],
          "name": "stdout"
        }
      ]
    },
    {
      "metadata": {
        "_uuid": "891a88a70db509f5b9360b7d95b2d1879e8567b0",
        "id": "5KnKylVXuyIb",
        "colab_type": "text"
      },
      "cell_type": "markdown",
      "source": [
        "**THE FINAL DATASET WITH CLEAN TWEETS AND POLARITY OF EACH TWEET**"
      ]
    },
    {
      "metadata": {
        "trusted": true,
        "_uuid": "dbc3905e770ce29d6ef5e180b0df7f5d5211a35c",
        "_kg_hide-input": true,
        "id": "sIACBD7iuyIb",
        "colab_type": "code",
        "colab": {
          "base_uri": "https://localhost:8080/",
          "height": 204
        },
        "outputId": "60780c41-e7a1-4af3-c14d-34c4a65f0fce"
      },
      "cell_type": "code",
      "source": [
        "df.head(5)"
      ],
      "execution_count": 39,
      "outputs": [
        {
          "output_type": "execute_result",
          "data": {
            "text/html": [
              "<div>\n",
              "<style scoped>\n",
              "    .dataframe tbody tr th:only-of-type {\n",
              "        vertical-align: middle;\n",
              "    }\n",
              "\n",
              "    .dataframe tbody tr th {\n",
              "        vertical-align: top;\n",
              "    }\n",
              "\n",
              "    .dataframe thead th {\n",
              "        text-align: right;\n",
              "    }\n",
              "</style>\n",
              "<table border=\"1\" class=\"dataframe\">\n",
              "  <thead>\n",
              "    <tr style=\"text-align: right;\">\n",
              "      <th></th>\n",
              "      <th>created</th>\n",
              "      <th>text</th>\n",
              "      <th>screenName</th>\n",
              "      <th>retweetCount</th>\n",
              "      <th>cleaned_text</th>\n",
              "      <th>polarity</th>\n",
              "    </tr>\n",
              "  </thead>\n",
              "  <tbody>\n",
              "    <tr>\n",
              "      <th>0</th>\n",
              "      <td>2016-11-22 10:57:33</td>\n",
              "      <td>RT @UnSubtleDesi: Kejriwal posts pic of dead r...</td>\n",
              "      <td>prashik2107</td>\n",
              "      <td>897</td>\n",
              "      <td>rt kejriwal posts pic dead robber claims relat...</td>\n",
              "      <td>-0.100000</td>\n",
              "    </tr>\n",
              "    <tr>\n",
              "      <th>1</th>\n",
              "      <td>2016-11-22 10:57:43</td>\n",
              "      <td>#Demonetization Positive Effect: Cigarette Sal...</td>\n",
              "      <td>HP_Journo</td>\n",
              "      <td>1</td>\n",
              "      <td>positive effect cigarette sales slashed almost...</td>\n",
              "      <td>0.030303</td>\n",
              "    </tr>\n",
              "    <tr>\n",
              "      <th>2</th>\n",
              "      <td>2016-11-22 10:57:44</td>\n",
              "      <td>#demonetization will help combat terror becaus...</td>\n",
              "      <td>Modern_Gypsy</td>\n",
              "      <td>1</td>\n",
              "      <td>help combat terror pak wo nt able print new no...</td>\n",
              "      <td>0.112121</td>\n",
              "    </tr>\n",
              "    <tr>\n",
              "      <th>3</th>\n",
              "      <td>2016-11-22 10:57:58</td>\n",
              "      <td>RT @sukanyaiyer2: #DeMonetization AAP protests...</td>\n",
              "      <td>asitawasthi_</td>\n",
              "      <td>2</td>\n",
              "      <td>rt aap protests marching govts move demonetiza...</td>\n",
              "      <td>0.000000</td>\n",
              "    </tr>\n",
              "    <tr>\n",
              "      <th>4</th>\n",
              "      <td>2016-11-22 10:57:59</td>\n",
              "      <td>FYI, I must tell and clear your doubts to enha...</td>\n",
              "      <td>Rishimathur18</td>\n",
              "      <td>0</td>\n",
              "      <td>fyi must tell clear doubts enhance general kno...</td>\n",
              "      <td>0.075000</td>\n",
              "    </tr>\n",
              "  </tbody>\n",
              "</table>\n",
              "</div>"
            ],
            "text/plain": [
              "              created                                               text  \\\n",
              "0 2016-11-22 10:57:33  RT @UnSubtleDesi: Kejriwal posts pic of dead r...   \n",
              "1 2016-11-22 10:57:43  #Demonetization Positive Effect: Cigarette Sal...   \n",
              "2 2016-11-22 10:57:44  #demonetization will help combat terror becaus...   \n",
              "3 2016-11-22 10:57:58  RT @sukanyaiyer2: #DeMonetization AAP protests...   \n",
              "4 2016-11-22 10:57:59  FYI, I must tell and clear your doubts to enha...   \n",
              "\n",
              "      screenName  retweetCount  \\\n",
              "0    prashik2107           897   \n",
              "1      HP_Journo             1   \n",
              "2   Modern_Gypsy             1   \n",
              "3   asitawasthi_             2   \n",
              "4  Rishimathur18             0   \n",
              "\n",
              "                                        cleaned_text  polarity  \n",
              "0  rt kejriwal posts pic dead robber claims relat... -0.100000  \n",
              "1  positive effect cigarette sales slashed almost...  0.030303  \n",
              "2  help combat terror pak wo nt able print new no...  0.112121  \n",
              "3  rt aap protests marching govts move demonetiza...  0.000000  \n",
              "4  fyi must tell clear doubts enhance general kno...  0.075000  "
            ]
          },
          "metadata": {
            "tags": []
          },
          "execution_count": 39
        }
      ]
    },
    {
      "metadata": {
        "_uuid": "6973d7e4835b79b4c358d6abcbc87ba4f1bdd8dd",
        "id": "u_mD12b9uyIe",
        "colab_type": "text"
      },
      "cell_type": "markdown",
      "source": [
        "**CHECKING SENTIMENTS**"
      ]
    },
    {
      "metadata": {
        "id": "YI6dn4Gl5TPo",
        "colab_type": "code",
        "colab": {
          "base_uri": "https://localhost:8080/",
          "height": 204
        },
        "outputId": "10f2152e-612e-4add-bbbd-66b4e5e8aa75"
      },
      "cell_type": "code",
      "source": [
        "df.sort_values(by = 'created', ascending = False, inplace = True)\n",
        "df.head()"
      ],
      "execution_count": 43,
      "outputs": [
        {
          "output_type": "execute_result",
          "data": {
            "text/html": [
              "<div>\n",
              "<style scoped>\n",
              "    .dataframe tbody tr th:only-of-type {\n",
              "        vertical-align: middle;\n",
              "    }\n",
              "\n",
              "    .dataframe tbody tr th {\n",
              "        vertical-align: top;\n",
              "    }\n",
              "\n",
              "    .dataframe thead th {\n",
              "        text-align: right;\n",
              "    }\n",
              "</style>\n",
              "<table border=\"1\" class=\"dataframe\">\n",
              "  <thead>\n",
              "    <tr style=\"text-align: right;\">\n",
              "      <th></th>\n",
              "      <th>created</th>\n",
              "      <th>text</th>\n",
              "      <th>screenName</th>\n",
              "      <th>retweetCount</th>\n",
              "      <th>cleaned_text</th>\n",
              "      <th>polarity</th>\n",
              "    </tr>\n",
              "  </thead>\n",
              "  <tbody>\n",
              "    <tr>\n",
              "      <th>15443</th>\n",
              "      <td>2018-12-04 17:02:20</td>\n",
              "      <td>@arunjaitley That's rubbish. There was bumper ...</td>\n",
              "      <td>ROALY</td>\n",
              "      <td>0</td>\n",
              "      <td>rubbish bumper crop unleashed major contributo...</td>\n",
              "      <td>0.154167</td>\n",
              "    </tr>\n",
              "    <tr>\n",
              "      <th>15442</th>\n",
              "      <td>2018-12-04 17:02:05</td>\n",
              "      <td>@arunjaitley That's rubbish. There was bumper ...</td>\n",
              "      <td>inclusivemind</td>\n",
              "      <td>0</td>\n",
              "      <td>rubbish bumper crop unleashed major contributo...</td>\n",
              "      <td>0.154167</td>\n",
              "    </tr>\n",
              "    <tr>\n",
              "      <th>15441</th>\n",
              "      <td>2018-12-04 17:01:20</td>\n",
              "      <td>@arunjaitley That's rubbish. There was bumper ...</td>\n",
              "      <td>Ad21Tel</td>\n",
              "      <td>2</td>\n",
              "      <td>rubbish bumper crop unleashed major contributo...</td>\n",
              "      <td>0.154167</td>\n",
              "    </tr>\n",
              "    <tr>\n",
              "      <th>15440</th>\n",
              "      <td>2018-12-04 16:58:09</td>\n",
              "      <td>So much for the \"less cash society\" trumpeted ...</td>\n",
              "      <td>iamvieky</td>\n",
              "      <td>0</td>\n",
              "      <td>much less cash society trumpeted namo amp shif...</td>\n",
              "      <td>0.104167</td>\n",
              "    </tr>\n",
              "    <tr>\n",
              "      <th>15439</th>\n",
              "      <td>2018-12-04 16:56:55</td>\n",
              "      <td>So much for the \"less cash society\" trumpeted ...</td>\n",
              "      <td>DalipGautam2</td>\n",
              "      <td>0</td>\n",
              "      <td>much less cash society trumpeted namo amp shif...</td>\n",
              "      <td>0.104167</td>\n",
              "    </tr>\n",
              "  </tbody>\n",
              "</table>\n",
              "</div>"
            ],
            "text/plain": [
              "                  created                                               text  \\\n",
              "15443 2018-12-04 17:02:20  @arunjaitley That's rubbish. There was bumper ...   \n",
              "15442 2018-12-04 17:02:05  @arunjaitley That's rubbish. There was bumper ...   \n",
              "15441 2018-12-04 17:01:20  @arunjaitley That's rubbish. There was bumper ...   \n",
              "15440 2018-12-04 16:58:09  So much for the \"less cash society\" trumpeted ...   \n",
              "15439 2018-12-04 16:56:55  So much for the \"less cash society\" trumpeted ...   \n",
              "\n",
              "          screenName  retweetCount  \\\n",
              "15443          ROALY             0   \n",
              "15442  inclusivemind             0   \n",
              "15441        Ad21Tel             2   \n",
              "15440       iamvieky             0   \n",
              "15439   DalipGautam2             0   \n",
              "\n",
              "                                            cleaned_text  polarity  \n",
              "15443  rubbish bumper crop unleashed major contributo...  0.154167  \n",
              "15442  rubbish bumper crop unleashed major contributo...  0.154167  \n",
              "15441  rubbish bumper crop unleashed major contributo...  0.154167  \n",
              "15440  much less cash society trumpeted namo amp shif...  0.104167  \n",
              "15439  much less cash society trumpeted namo amp shif...  0.104167  "
            ]
          },
          "metadata": {
            "tags": []
          },
          "execution_count": 43
        }
      ]
    },
    {
      "metadata": {
        "trusted": true,
        "_uuid": "3f05098010542d2904389cfc796e01eead045ec9",
        "_kg_hide-input": true,
        "id": "a5Wyyzi_uyIf",
        "colab_type": "code",
        "colab": {
          "base_uri": "https://localhost:8080/",
          "height": 136
        },
        "outputId": "e9d984b5-314b-490d-c92c-e687ca748c0a"
      },
      "cell_type": "code",
      "source": [
        "print(\"THE AVERAGE POLARITY\",np.mean(df[\"polarity\"])) #gives the average sentiments of people\n",
        "print(\"THE MOST -VE TWEET :\",df.iloc[df['polarity'].idxmin()][['created', 'text']])# most positive\n",
        "print(\"THE MOST +VE TWEET :\",df.iloc[df['polarity'].idxmax()][['created', 'text']])#most negetive\n"
      ],
      "execution_count": 42,
      "outputs": [
        {
          "output_type": "stream",
          "text": [
            "THE AVERAGE POLARITY 0.05011404308174509\n",
            "THE MOST -VE TWEET : created                                  2016-11-22 11:59:27\n",
            "text       ~@BBCJustinR says India is through the worst o...\n",
            "Name: 334, dtype: object\n",
            "THE MOST +VE TWEET : created                                  2016-11-22 11:45:15\n",
            "text       RT @aashishrazdan: If this is the best you cou...\n",
            "Name: 251, dtype: object\n"
          ],
          "name": "stdout"
        }
      ]
    },
    {
      "metadata": {
        "_uuid": "c15a3b583f594849f1f5ef081c28d47e8f378ec3",
        "id": "IAf5Ng3LuyIj",
        "colab_type": "text"
      },
      "cell_type": "markdown",
      "source": [
        "**WE HAVE GOT THE AVERAGE TWEET POLARITY AS 0.05 THAT IS JUST ABOVE NEUTRAL**\n",
        "**...?THAT MEAN THE PEOPLE GOTS A MIX REACTION AFTER THE NEWS OF DEMONETIZATION **"
      ]
    },
    {
      "metadata": {
        "id": "g1hSUXsw53Nz",
        "colab_type": "text"
      },
      "cell_type": "markdown",
      "source": [
        "#Reaction of people in 2018 on demonetization"
      ]
    },
    {
      "metadata": {
        "id": "uMXmem0F58Gf",
        "colab_type": "code",
        "colab": {}
      },
      "cell_type": "code",
      "source": [
        "df.reset_index(inplace = True)"
      ],
      "execution_count": 0,
      "outputs": []
    },
    {
      "metadata": {
        "id": "TjGoQiui6EYY",
        "colab_type": "code",
        "colab": {
          "base_uri": "https://localhost:8080/",
          "height": 111
        },
        "outputId": "4a32d5c5-a06d-446f-d49a-4af38a79bd0d"
      },
      "cell_type": "code",
      "source": [
        "df.head(2)"
      ],
      "execution_count": 53,
      "outputs": [
        {
          "output_type": "execute_result",
          "data": {
            "text/html": [
              "<div>\n",
              "<style scoped>\n",
              "    .dataframe tbody tr th:only-of-type {\n",
              "        vertical-align: middle;\n",
              "    }\n",
              "\n",
              "    .dataframe tbody tr th {\n",
              "        vertical-align: top;\n",
              "    }\n",
              "\n",
              "    .dataframe thead th {\n",
              "        text-align: right;\n",
              "    }\n",
              "</style>\n",
              "<table border=\"1\" class=\"dataframe\">\n",
              "  <thead>\n",
              "    <tr style=\"text-align: right;\">\n",
              "      <th></th>\n",
              "      <th>created</th>\n",
              "      <th>text</th>\n",
              "      <th>screenName</th>\n",
              "      <th>retweetCount</th>\n",
              "      <th>cleaned_text</th>\n",
              "      <th>polarity</th>\n",
              "    </tr>\n",
              "  </thead>\n",
              "  <tbody>\n",
              "    <tr>\n",
              "      <th>0</th>\n",
              "      <td>2018-12-04 17:02:20</td>\n",
              "      <td>@arunjaitley That's rubbish. There was bumper ...</td>\n",
              "      <td>ROALY</td>\n",
              "      <td>0</td>\n",
              "      <td>rubbish bumper crop unleashed major contributo...</td>\n",
              "      <td>0.154167</td>\n",
              "    </tr>\n",
              "    <tr>\n",
              "      <th>1</th>\n",
              "      <td>2018-12-04 17:02:05</td>\n",
              "      <td>@arunjaitley That's rubbish. There was bumper ...</td>\n",
              "      <td>inclusivemind</td>\n",
              "      <td>0</td>\n",
              "      <td>rubbish bumper crop unleashed major contributo...</td>\n",
              "      <td>0.154167</td>\n",
              "    </tr>\n",
              "  </tbody>\n",
              "</table>\n",
              "</div>"
            ],
            "text/plain": [
              "              created                                               text  \\\n",
              "0 2018-12-04 17:02:20  @arunjaitley That's rubbish. There was bumper ...   \n",
              "1 2018-12-04 17:02:05  @arunjaitley That's rubbish. There was bumper ...   \n",
              "\n",
              "      screenName  retweetCount  \\\n",
              "0          ROALY             0   \n",
              "1  inclusivemind             0   \n",
              "\n",
              "                                        cleaned_text  polarity  \n",
              "0  rubbish bumper crop unleashed major contributo...  0.154167  \n",
              "1  rubbish bumper crop unleashed major contributo...  0.154167  "
            ]
          },
          "metadata": {
            "tags": []
          },
          "execution_count": 53
        }
      ]
    },
    {
      "metadata": {
        "_uuid": "1951ae36aedfb799e20b328a38fc2321e2592df5",
        "id": "JqTusPfduyIk",
        "colab_type": "text"
      },
      "cell_type": "markdown",
      "source": [
        "**WILL CONTINUE FURTHER TILL THEN GIVE A THUMBS UP IF YOU LIKED IT <3**"
      ]
    },
    {
      "metadata": {
        "id": "jS5pCIOD63t8",
        "colab_type": "code",
        "colab": {
          "base_uri": "https://localhost:8080/",
          "height": 111
        },
        "outputId": "fd8b8070-f6e3-47c4-a79e-ab4889aa4470"
      },
      "cell_type": "code",
      "source": [
        "combined.head(1)"
      ],
      "execution_count": 54,
      "outputs": [
        {
          "output_type": "execute_result",
          "data": {
            "text/html": [
              "<div>\n",
              "<style scoped>\n",
              "    .dataframe tbody tr th:only-of-type {\n",
              "        vertical-align: middle;\n",
              "    }\n",
              "\n",
              "    .dataframe tbody tr th {\n",
              "        vertical-align: top;\n",
              "    }\n",
              "\n",
              "    .dataframe thead th {\n",
              "        text-align: right;\n",
              "    }\n",
              "</style>\n",
              "<table border=\"1\" class=\"dataframe\">\n",
              "  <thead>\n",
              "    <tr style=\"text-align: right;\">\n",
              "      <th></th>\n",
              "      <th>text</th>\n",
              "      <th>screenName</th>\n",
              "      <th>retweetCount</th>\n",
              "    </tr>\n",
              "    <tr>\n",
              "      <th>created</th>\n",
              "      <th></th>\n",
              "      <th></th>\n",
              "      <th></th>\n",
              "    </tr>\n",
              "  </thead>\n",
              "  <tbody>\n",
              "    <tr>\n",
              "      <th>2018-11-28 03:28:30</th>\n",
              "      <td>A Tea-Seller has reduced the price of cup of t...</td>\n",
              "      <td>SayyedNoor219</td>\n",
              "      <td>0</td>\n",
              "    </tr>\n",
              "  </tbody>\n",
              "</table>\n",
              "</div>"
            ],
            "text/plain": [
              "                                                                  text  \\\n",
              "created                                                                  \n",
              "2018-11-28 03:28:30  A Tea-Seller has reduced the price of cup of t...   \n",
              "\n",
              "                        screenName  retweetCount  \n",
              "created                                           \n",
              "2018-11-28 03:28:30  SayyedNoor219             0  "
            ]
          },
          "metadata": {
            "tags": []
          },
          "execution_count": 54
        }
      ]
    },
    {
      "metadata": {
        "id": "mppEKERa7U7B",
        "colab_type": "code",
        "colab": {
          "base_uri": "https://localhost:8080/",
          "height": 111
        },
        "outputId": "53fab13b-1041-438f-8b10-ea49e0eaf7a7"
      },
      "cell_type": "code",
      "source": [
        "after = df[df.created.isin(combined.index)]\n",
        "after.head(2)"
      ],
      "execution_count": 58,
      "outputs": [
        {
          "output_type": "execute_result",
          "data": {
            "text/html": [
              "<div>\n",
              "<style scoped>\n",
              "    .dataframe tbody tr th:only-of-type {\n",
              "        vertical-align: middle;\n",
              "    }\n",
              "\n",
              "    .dataframe tbody tr th {\n",
              "        vertical-align: top;\n",
              "    }\n",
              "\n",
              "    .dataframe thead th {\n",
              "        text-align: right;\n",
              "    }\n",
              "</style>\n",
              "<table border=\"1\" class=\"dataframe\">\n",
              "  <thead>\n",
              "    <tr style=\"text-align: right;\">\n",
              "      <th></th>\n",
              "      <th>created</th>\n",
              "      <th>text</th>\n",
              "      <th>screenName</th>\n",
              "      <th>retweetCount</th>\n",
              "      <th>cleaned_text</th>\n",
              "      <th>polarity</th>\n",
              "    </tr>\n",
              "  </thead>\n",
              "  <tbody>\n",
              "    <tr>\n",
              "      <th>0</th>\n",
              "      <td>2018-12-04 17:02:20</td>\n",
              "      <td>@arunjaitley That's rubbish. There was bumper ...</td>\n",
              "      <td>ROALY</td>\n",
              "      <td>0</td>\n",
              "      <td>rubbish bumper crop unleashed major contributo...</td>\n",
              "      <td>0.154167</td>\n",
              "    </tr>\n",
              "    <tr>\n",
              "      <th>1</th>\n",
              "      <td>2018-12-04 17:02:05</td>\n",
              "      <td>@arunjaitley That's rubbish. There was bumper ...</td>\n",
              "      <td>inclusivemind</td>\n",
              "      <td>0</td>\n",
              "      <td>rubbish bumper crop unleashed major contributo...</td>\n",
              "      <td>0.154167</td>\n",
              "    </tr>\n",
              "  </tbody>\n",
              "</table>\n",
              "</div>"
            ],
            "text/plain": [
              "              created                                               text  \\\n",
              "0 2018-12-04 17:02:20  @arunjaitley That's rubbish. There was bumper ...   \n",
              "1 2018-12-04 17:02:05  @arunjaitley That's rubbish. There was bumper ...   \n",
              "\n",
              "      screenName  retweetCount  \\\n",
              "0          ROALY             0   \n",
              "1  inclusivemind             0   \n",
              "\n",
              "                                        cleaned_text  polarity  \n",
              "0  rubbish bumper crop unleashed major contributo...  0.154167  \n",
              "1  rubbish bumper crop unleashed major contributo...  0.154167  "
            ]
          },
          "metadata": {
            "tags": []
          },
          "execution_count": 58
        }
      ]
    },
    {
      "metadata": {
        "id": "8hoc_wkW7cCR",
        "colab_type": "code",
        "colab": {
          "base_uri": "https://localhost:8080/",
          "height": 34
        },
        "outputId": "c107bef1-c600-41fa-9e34-2d6577f113a7"
      },
      "cell_type": "code",
      "source": [
        "after.shape"
      ],
      "execution_count": 59,
      "outputs": [
        {
          "output_type": "execute_result",
          "data": {
            "text/plain": [
              "(2623, 6)"
            ]
          },
          "metadata": {
            "tags": []
          },
          "execution_count": 59
        }
      ]
    },
    {
      "metadata": {
        "trusted": true,
        "_uuid": "41df7e6e8af0fe69252f8344de65e0b88234e34a",
        "_kg_hide-input": true,
        "colab_type": "code",
        "outputId": "e4ad8071-e7e4-443d-92dd-1bd7ef6e1fe2",
        "id": "gmfutcIO7osG",
        "colab": {
          "base_uri": "https://localhost:8080/",
          "height": 119
        }
      },
      "cell_type": "code",
      "source": [
        "#!pip install textblob\n",
        "from textblob import TextBlob\n",
        "#CREAING A FUNCTION TO GET THE POLARITY\n",
        "def sentiments(tweets):\n",
        "    tweets = TextBlob(tweets)\n",
        "    pol = tweets.polarity #GIVES THE VALUE OF POLARITY\n",
        "    return pol\n",
        "\n",
        "after[\"polarity\"] = after[\"cleaned_text\"].apply(sentiments) #APPLY FUNCTION ON CLEAN TWEETS"
      ],
      "execution_count": 60,
      "outputs": [
        {
          "output_type": "stream",
          "text": [
            "/usr/local/lib/python3.6/dist-packages/ipykernel_launcher.py:8: SettingWithCopyWarning: \n",
            "A value is trying to be set on a copy of a slice from a DataFrame.\n",
            "Try using .loc[row_indexer,col_indexer] = value instead\n",
            "\n",
            "See the caveats in the documentation: http://pandas.pydata.org/pandas-docs/stable/indexing.html#indexing-view-versus-copy\n",
            "  \n"
          ],
          "name": "stderr"
        }
      ]
    },
    {
      "metadata": {
        "trusted": true,
        "_uuid": "3f05098010542d2904389cfc796e01eead045ec9",
        "_kg_hide-input": true,
        "colab_type": "code",
        "outputId": "005aeea7-6ff8-46a7-a55c-bc4000c204a9",
        "id": "lFpbmK517osc",
        "colab": {
          "base_uri": "https://localhost:8080/",
          "height": 306
        }
      },
      "cell_type": "code",
      "source": [
        "print(\"THE AVERAGE POLARITY\",np.mean(after[\"polarity\"])) #gives the average sentiments of people\n",
        "print('\\n\\n')\n",
        "print(\"THE MOST -VE TWEET :\", '\\n',df.iloc[after['polarity'].idxmin()][['created', 'text', 'polarity']])# most positive\n",
        "print('\\n\\n')\n",
        "print(\"THE MOST +VE TWEET :\", '\\n',df.iloc[after['polarity'].idxmax()][['created', 'text', 'polarity']])#most negetive\n"
      ],
      "execution_count": 64,
      "outputs": [
        {
          "output_type": "stream",
          "text": [
            "THE AVERAGE POLARITY -0.017866119462145003\n",
            "\n",
            "\n",
            "\n",
            "THE MOST -VE TWEET : \n",
            " created                                   2018-12-04 02:39:45\n",
            "text        Demonetisation destroyed the MSME sector. Dear...\n",
            "polarity                                                   -1\n",
            "Name: 607, dtype: object\n",
            "\n",
            "\n",
            "\n",
            "THE MOST +VE TWEET : \n",
            " created                                   2018-11-28 07:07:22\n",
            "text        @JayGalla Seems to have been influenced from @...\n",
            "polarity                                                    1\n",
            "Name: 2348, dtype: object\n"
          ],
          "name": "stdout"
        }
      ]
    },
    {
      "metadata": {
        "id": "n5iI-1Km75Ep",
        "colab_type": "text"
      },
      "cell_type": "markdown",
      "source": [
        "**As we can see most of the people are negative to the demonetization after 1 year**"
      ]
    },
    {
      "metadata": {
        "id": "eqRM4mzy8OMT",
        "colab_type": "code",
        "colab": {}
      },
      "cell_type": "code",
      "source": [
        ""
      ],
      "execution_count": 0,
      "outputs": []
    }
  ]
}