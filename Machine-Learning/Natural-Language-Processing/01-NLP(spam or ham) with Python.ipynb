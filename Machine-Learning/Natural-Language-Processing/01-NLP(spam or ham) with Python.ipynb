{
  "nbformat": 4,
  "nbformat_minor": 0,
  "metadata": {
    "colab": {
      "name": "01-NLP (Natural Language Processing) with Python.ipynb",
      "version": "0.3.2",
      "provenance": [],
      "include_colab_link": true
    },
    "kernelspec": {
      "name": "python3",
      "display_name": "Python 3"
    },
    "accelerator": "GPU"
  },
  "cells": [
    {
      "cell_type": "markdown",
      "metadata": {
        "id": "view-in-github",
        "colab_type": "text"
      },
      "source": [
        "<a href=\"https://colab.research.google.com/github/noushadkhan01/Projects/blob/master/Machine-Learning/Natural-Language-Processing/01-NLP(spam%20or%20ham)%20with%20Python.ipynb\" target=\"_parent\"><img src=\"https://colab.research.google.com/assets/colab-badge.svg\" alt=\"Open In Colab\"/></a>"
      ]
    },
    {
      "metadata": {
        "id": "9-lMN5B48DxA",
        "colab_type": "text"
      },
      "cell_type": "markdown",
      "source": [
        "# NLP (Natural Language Processing) with Python\n"
      ]
    },
    {
      "metadata": {
        "id": "EcJpUGls8DxI",
        "colab_type": "code",
        "colab": {}
      },
      "cell_type": "code",
      "source": [
        "import nltk # Imports the library"
      ],
      "execution_count": 0,
      "outputs": []
    },
    {
      "metadata": {
        "id": "IKink-pw86g6",
        "colab_type": "text"
      },
      "cell_type": "markdown",
      "source": [
        "## clone git"
      ]
    },
    {
      "metadata": {
        "id": "I_KgVCup884a",
        "colab_type": "code",
        "colab": {
          "base_uri": "https://localhost:8080/",
          "height": 119
        },
        "outputId": "5c774ca2-18e9-4b02-a870-c2573cf8d75b"
      },
      "cell_type": "code",
      "source": [
        "!git clone https://github.com/noushadkhan01/Projects.git"
      ],
      "execution_count": 3,
      "outputs": [
        {
          "output_type": "stream",
          "text": [
            "Cloning into 'Projects'...\n",
            "remote: Enumerating objects: 71, done.\u001b[K\n",
            "remote: Counting objects:   1% (1/71)   \u001b[K\rremote: Counting objects:   2% (2/71)   \u001b[K\rremote: Counting objects:   4% (3/71)   \u001b[K\rremote: Counting objects:   5% (4/71)   \u001b[K\rremote: Counting objects:   7% (5/71)   \u001b[K\rremote: Counting objects:   8% (6/71)   \u001b[K\rremote: Counting objects:   9% (7/71)   \u001b[K\rremote: Counting objects:  11% (8/71)   \u001b[K\rremote: Counting objects:  12% (9/71)   \u001b[K\rremote: Counting objects:  14% (10/71)   \u001b[K\rremote: Counting objects:  15% (11/71)   \u001b[K\rremote: Counting objects:  16% (12/71)   \u001b[K\rremote: Counting objects:  18% (13/71)   \u001b[K\rremote: Counting objects:  19% (14/71)   \u001b[K\rremote: Counting objects:  21% (15/71)   \u001b[K\rremote: Counting objects:  22% (16/71)   \u001b[K\rremote: Counting objects:  23% (17/71)   \u001b[K\rremote: Counting objects:  25% (18/71)   \u001b[K\rremote: Counting objects:  26% (19/71)   \u001b[K\rremote: Counting objects:  28% (20/71)   \u001b[K\rremote: Counting objects:  29% (21/71)   \u001b[K\rremote: Counting objects:  30% (22/71)   \u001b[K\rremote: Counting objects:  32% (23/71)   \u001b[K\rremote: Counting objects:  33% (24/71)   \u001b[K\rremote: Counting objects:  35% (25/71)   \u001b[K\rremote: Counting objects:  36% (26/71)   \u001b[K\rremote: Counting objects:  38% (27/71)   \u001b[K\rremote: Counting objects:  39% (28/71)   \u001b[K\rremote: Counting objects:  40% (29/71)   \u001b[K\rremote: Counting objects:  42% (30/71)   \u001b[K\rremote: Counting objects:  43% (31/71)   \u001b[K\rremote: Counting objects:  45% (32/71)   \u001b[K\rremote: Counting objects:  46% (33/71)   \u001b[K\rremote: Counting objects:  47% (34/71)   \u001b[K\rremote: Counting objects:  49% (35/71)   \u001b[K\rremote: Counting objects:  50% (36/71)   \u001b[K\rremote: Counting objects:  52% (37/71)   \u001b[K\rremote: Counting objects:  53% (38/71)   \u001b[K\rremote: Counting objects:  54% (39/71)   \u001b[K\rremote: Counting objects:  56% (40/71)   \u001b[K\rremote: Counting objects:  57% (41/71)   \u001b[K\rremote: Counting objects:  59% (42/71)   \u001b[K\rremote: Counting objects:  60% (43/71)   \u001b[K\rremote: Counting objects:  61% (44/71)   \u001b[K\rremote: Counting objects:  63% (45/71)   \u001b[K\rremote: Counting objects:  64% (46/71)   \u001b[K\rremote: Counting objects:  66% (47/71)   \u001b[K\rremote: Counting objects:  67% (48/71)   \u001b[K\rremote: Counting objects:  69% (49/71)   \u001b[K\rremote: Counting objects:  70% (50/71)   \u001b[K\rremote: Counting objects:  71% (51/71)   \u001b[K\rremote: Counting objects:  73% (52/71)   \u001b[K\rremote: Counting objects:  74% (53/71)   \u001b[K\rremote: Counting objects:  76% (54/71)   \u001b[K\rremote: Counting objects:  77% (55/71)   \u001b[K\rremote: Counting objects:  78% (56/71)   \u001b[K\rremote: Counting objects:  80% (57/71)   \u001b[K\rremote: Counting objects:  81% (58/71)   \u001b[K\rremote: Counting objects:  83% (59/71)   \u001b[K\rremote: Counting objects:  84% (60/71)   \u001b[K\rremote: Counting objects:  85% (61/71)   \u001b[K\rremote: Counting objects:  87% (62/71)   \u001b[K\rremote: Counting objects:  88% (63/71)   \u001b[K\rremote: Counting objects:  90% (64/71)   \u001b[K\rremote: Counting objects:  91% (65/71)   \u001b[K\rremote: Counting objects:  92% (66/71)   \u001b[K\rremote: Counting objects:  94% (67/71)   \u001b[K\rremote: Counting objects:  95% (68/71)   \u001b[K\rremote: Counting objects:  97% (69/71)   \u001b[K\rremote: Counting objects:  98% (70/71)   \u001b[K\rremote: Counting objects: 100% (71/71)   \u001b[K\rremote: Counting objects: 100% (71/71), done.\u001b[K\n",
            "remote: Compressing objects: 100% (53/53), done.\u001b[K\n",
            "remote: Total 71 (delta 12), reused 0 (delta 0), pack-reused 0\u001b[K\n",
            "Unpacking objects: 100% (71/71), done.\n"
          ],
          "name": "stdout"
        }
      ]
    },
    {
      "metadata": {
        "id": "yzIzVSxk8tYl",
        "colab_type": "code",
        "colab": {
          "base_uri": "https://localhost:8080/",
          "height": 34
        },
        "outputId": "508cc0cc-7bf7-4349-f3fb-7022f0be4000"
      },
      "cell_type": "code",
      "source": [
        "!ls"
      ],
      "execution_count": 4,
      "outputs": [
        {
          "output_type": "stream",
          "text": [
            "Projects  sample_data\n"
          ],
          "name": "stdout"
        }
      ]
    },
    {
      "metadata": {
        "id": "ZTtv_sy28DxN",
        "colab_type": "text"
      },
      "cell_type": "markdown",
      "source": [
        "## Get the Data"
      ]
    },
    {
      "metadata": {
        "id": "8EfbDm6w8DxP",
        "colab_type": "text"
      },
      "cell_type": "markdown",
      "source": [
        "The file we are using contains a collection of more than 5 thousand SMS phone messages.\n",
        "\n",
        "Let's go ahead and use rstrip() plus a list comprehension to get a list of all the lines of text messages:"
      ]
    },
    {
      "metadata": {
        "id": "hgQABls894d5",
        "colab_type": "code",
        "colab": {}
      },
      "cell_type": "code",
      "source": [
        "working_directory = 'Projects/Machine-Learning/Natural-Language-Processing/'\n",
        "data_path = 'data/smsspamcollection/SMSSpamCollection'\n",
        "full_path = working_directory + data_path"
      ],
      "execution_count": 0,
      "outputs": []
    },
    {
      "metadata": {
        "id": "oy2djxGN8DxQ",
        "colab_type": "code",
        "colab": {
          "base_uri": "https://localhost:8080/",
          "height": 34
        },
        "outputId": "6b8b1e3b-7d4a-4018-e058-b26c7beb22e9"
      },
      "cell_type": "code",
      "source": [
        "messages = [line.rstrip() for line in open(full_path)]\n",
        "print(len(messages))"
      ],
      "execution_count": 13,
      "outputs": [
        {
          "output_type": "stream",
          "text": [
            "5574\n"
          ],
          "name": "stdout"
        }
      ]
    },
    {
      "metadata": {
        "id": "jFyeYdEu8DxW",
        "colab_type": "text"
      },
      "cell_type": "markdown",
      "source": [
        "A collection of texts is also sometimes called \"corpus\". Let's print the first ten messages and number them using **enumerate**:"
      ]
    },
    {
      "metadata": {
        "id": "HfVezrQf8DxZ",
        "colab_type": "code",
        "colab": {
          "base_uri": "https://localhost:8080/",
          "height": 547
        },
        "outputId": "8aebdf26-271b-4018-ba92-8a77c7055a7b"
      },
      "cell_type": "code",
      "source": [
        "for message_no, message in enumerate(messages[:10]):\n",
        "    print(message_no, message)\n",
        "    print('\\n')"
      ],
      "execution_count": 6,
      "outputs": [
        {
          "output_type": "stream",
          "text": [
            "0 ham\tGo until jurong point, crazy.. Available only in bugis n great world la e buffet... Cine there got amore wat...\n",
            "\n",
            "\n",
            "1 ham\tOk lar... Joking wif u oni...\n",
            "\n",
            "\n",
            "2 spam\tFree entry in 2 a wkly comp to win FA Cup final tkts 21st May 2005. Text FA to 87121 to receive entry question(std txt rate)T&C's apply 08452810075over18's\n",
            "\n",
            "\n",
            "3 ham\tU dun say so early hor... U c already then say...\n",
            "\n",
            "\n",
            "4 ham\tNah I don't think he goes to usf, he lives around here though\n",
            "\n",
            "\n",
            "5 spam\tFreeMsg Hey there darling it's been 3 week's now and no word back! I'd like some fun you up for it still? Tb ok! XxX std chgs to send, £1.50 to rcv\n",
            "\n",
            "\n",
            "6 ham\tEven my brother is not like to speak with me. They treat me like aids patent.\n",
            "\n",
            "\n",
            "7 ham\tAs per your request 'Melle Melle (Oru Minnaminunginte Nurungu Vettam)' has been set as your callertune for all Callers. Press *9 to copy your friends Callertune\n",
            "\n",
            "\n",
            "8 spam\tWINNER!! As a valued network customer you have been selected to receivea £900 prize reward! To claim call 09061701461. Claim code KL341. Valid 12 hours only.\n",
            "\n",
            "\n",
            "9 spam\tHad your mobile 11 months or more? U R entitled to Update to the latest colour mobiles with camera for Free! Call The Mobile Update Co FREE on 08002986030\n",
            "\n",
            "\n"
          ],
          "name": "stdout"
        }
      ]
    },
    {
      "metadata": {
        "id": "9NdMF9Mq8Dxd",
        "colab_type": "text"
      },
      "cell_type": "markdown",
      "source": [
        "Due to the spacing we can tell that this is a [TSV](http://en.wikipedia.org/wiki/Tab-separated_values) (\"tab separated values\") file, where the first column is a label saying whether the given message is a normal message (commonly known as \"ham\") or \"spam\". The second column is the message itself. (Note our numbers aren't part of the file, they are just from the **enumerate** call).\n",
        "\n",
        "Using these labeled ham and spam examples, we'll **train a machine learning model to learn to discriminate between ham/spam automatically**. Then, with a trained model, we'll be able to **classify arbitrary unlabeled messages** as ham or spam.\n",
        "\n",
        "From the official SciKit Learn documentation, we can visualize our process:"
      ]
    },
    {
      "metadata": {
        "id": "e7goGc568Dxf",
        "colab_type": "text"
      },
      "cell_type": "markdown",
      "source": [
        "Instead of parsing TSV manually using Python, we can just take advantage of pandas! Let's go ahead and import it!"
      ]
    },
    {
      "metadata": {
        "id": "boshcPgy8Dxg",
        "colab_type": "code",
        "colab": {}
      },
      "cell_type": "code",
      "source": [
        "import pandas as pd"
      ],
      "execution_count": 0,
      "outputs": []
    },
    {
      "metadata": {
        "id": "S5IQYLvB8Dxk",
        "colab_type": "text"
      },
      "cell_type": "markdown",
      "source": [
        "We'll use **read_csv** and make note of the **sep** argument, we can also specify the desired column names by passing in a list of *names*."
      ]
    },
    {
      "metadata": {
        "id": "PI9awpmZ8Dxk",
        "colab_type": "code",
        "colab": {
          "base_uri": "https://localhost:8080/",
          "height": 204
        },
        "outputId": "c2d42bef-5c78-43a8-d5a4-a0de571092ac"
      },
      "cell_type": "code",
      "source": [
        "messages = pd.read_csv(full_path, sep='\\t',\n",
        "                           names=[\"label\", \"message\"])\n",
        "messages.head()"
      ],
      "execution_count": 14,
      "outputs": [
        {
          "output_type": "execute_result",
          "data": {
            "text/html": [
              "<div>\n",
              "<style scoped>\n",
              "    .dataframe tbody tr th:only-of-type {\n",
              "        vertical-align: middle;\n",
              "    }\n",
              "\n",
              "    .dataframe tbody tr th {\n",
              "        vertical-align: top;\n",
              "    }\n",
              "\n",
              "    .dataframe thead th {\n",
              "        text-align: right;\n",
              "    }\n",
              "</style>\n",
              "<table border=\"1\" class=\"dataframe\">\n",
              "  <thead>\n",
              "    <tr style=\"text-align: right;\">\n",
              "      <th></th>\n",
              "      <th>label</th>\n",
              "      <th>message</th>\n",
              "    </tr>\n",
              "  </thead>\n",
              "  <tbody>\n",
              "    <tr>\n",
              "      <th>0</th>\n",
              "      <td>ham</td>\n",
              "      <td>Go until jurong point, crazy.. Available only ...</td>\n",
              "    </tr>\n",
              "    <tr>\n",
              "      <th>1</th>\n",
              "      <td>ham</td>\n",
              "      <td>Ok lar... Joking wif u oni...</td>\n",
              "    </tr>\n",
              "    <tr>\n",
              "      <th>2</th>\n",
              "      <td>spam</td>\n",
              "      <td>Free entry in 2 a wkly comp to win FA Cup fina...</td>\n",
              "    </tr>\n",
              "    <tr>\n",
              "      <th>3</th>\n",
              "      <td>ham</td>\n",
              "      <td>U dun say so early hor... U c already then say...</td>\n",
              "    </tr>\n",
              "    <tr>\n",
              "      <th>4</th>\n",
              "      <td>ham</td>\n",
              "      <td>Nah I don't think he goes to usf, he lives aro...</td>\n",
              "    </tr>\n",
              "  </tbody>\n",
              "</table>\n",
              "</div>"
            ],
            "text/plain": [
              "  label                                            message\n",
              "0   ham  Go until jurong point, crazy.. Available only ...\n",
              "1   ham                      Ok lar... Joking wif u oni...\n",
              "2  spam  Free entry in 2 a wkly comp to win FA Cup fina...\n",
              "3   ham  U dun say so early hor... U c already then say...\n",
              "4   ham  Nah I don't think he goes to usf, he lives aro..."
            ]
          },
          "metadata": {
            "tags": []
          },
          "execution_count": 14
        }
      ]
    },
    {
      "metadata": {
        "id": "FXy20Ah-8Dxr",
        "colab_type": "text"
      },
      "cell_type": "markdown",
      "source": [
        "## Exploratory Data Analysis\n",
        "\n",
        "Let's check out some of the stats with some plots and the built-in methods in pandas!"
      ]
    },
    {
      "metadata": {
        "id": "1dqOSHHT8Dxs",
        "colab_type": "code",
        "colab": {
          "base_uri": "https://localhost:8080/",
          "height": 173
        },
        "outputId": "253bd0d0-f229-469d-81fa-16aeff849460"
      },
      "cell_type": "code",
      "source": [
        "messages.describe()"
      ],
      "execution_count": 15,
      "outputs": [
        {
          "output_type": "execute_result",
          "data": {
            "text/html": [
              "<div>\n",
              "<style scoped>\n",
              "    .dataframe tbody tr th:only-of-type {\n",
              "        vertical-align: middle;\n",
              "    }\n",
              "\n",
              "    .dataframe tbody tr th {\n",
              "        vertical-align: top;\n",
              "    }\n",
              "\n",
              "    .dataframe thead th {\n",
              "        text-align: right;\n",
              "    }\n",
              "</style>\n",
              "<table border=\"1\" class=\"dataframe\">\n",
              "  <thead>\n",
              "    <tr style=\"text-align: right;\">\n",
              "      <th></th>\n",
              "      <th>label</th>\n",
              "      <th>message</th>\n",
              "    </tr>\n",
              "  </thead>\n",
              "  <tbody>\n",
              "    <tr>\n",
              "      <th>count</th>\n",
              "      <td>5572</td>\n",
              "      <td>5572</td>\n",
              "    </tr>\n",
              "    <tr>\n",
              "      <th>unique</th>\n",
              "      <td>2</td>\n",
              "      <td>5169</td>\n",
              "    </tr>\n",
              "    <tr>\n",
              "      <th>top</th>\n",
              "      <td>ham</td>\n",
              "      <td>Sorry, I'll call later</td>\n",
              "    </tr>\n",
              "    <tr>\n",
              "      <th>freq</th>\n",
              "      <td>4825</td>\n",
              "      <td>30</td>\n",
              "    </tr>\n",
              "  </tbody>\n",
              "</table>\n",
              "</div>"
            ],
            "text/plain": [
              "       label                 message\n",
              "count   5572                    5572\n",
              "unique     2                    5169\n",
              "top      ham  Sorry, I'll call later\n",
              "freq    4825                      30"
            ]
          },
          "metadata": {
            "tags": []
          },
          "execution_count": 15
        }
      ]
    },
    {
      "metadata": {
        "id": "-dDE1i__8Dxw",
        "colab_type": "text"
      },
      "cell_type": "markdown",
      "source": [
        "Let's use **groupby** to use describe by label, this way we can begin to think about the features that separate ham and spam!"
      ]
    },
    {
      "metadata": {
        "id": "fLbiIUmV8Dxy",
        "colab_type": "code",
        "colab": {
          "base_uri": "https://localhost:8080/",
          "height": 173
        },
        "outputId": "dc67bdc2-3439-4738-d52a-6b95b58f06c4"
      },
      "cell_type": "code",
      "source": [
        "messages.groupby('label').describe()"
      ],
      "execution_count": 16,
      "outputs": [
        {
          "output_type": "execute_result",
          "data": {
            "text/html": [
              "<div>\n",
              "<style scoped>\n",
              "    .dataframe tbody tr th:only-of-type {\n",
              "        vertical-align: middle;\n",
              "    }\n",
              "\n",
              "    .dataframe tbody tr th {\n",
              "        vertical-align: top;\n",
              "    }\n",
              "\n",
              "    .dataframe thead tr th {\n",
              "        text-align: left;\n",
              "    }\n",
              "\n",
              "    .dataframe thead tr:last-of-type th {\n",
              "        text-align: right;\n",
              "    }\n",
              "</style>\n",
              "<table border=\"1\" class=\"dataframe\">\n",
              "  <thead>\n",
              "    <tr>\n",
              "      <th></th>\n",
              "      <th colspan=\"4\" halign=\"left\">message</th>\n",
              "    </tr>\n",
              "    <tr>\n",
              "      <th></th>\n",
              "      <th>count</th>\n",
              "      <th>unique</th>\n",
              "      <th>top</th>\n",
              "      <th>freq</th>\n",
              "    </tr>\n",
              "    <tr>\n",
              "      <th>label</th>\n",
              "      <th></th>\n",
              "      <th></th>\n",
              "      <th></th>\n",
              "      <th></th>\n",
              "    </tr>\n",
              "  </thead>\n",
              "  <tbody>\n",
              "    <tr>\n",
              "      <th>ham</th>\n",
              "      <td>4825</td>\n",
              "      <td>4516</td>\n",
              "      <td>Sorry, I'll call later</td>\n",
              "      <td>30</td>\n",
              "    </tr>\n",
              "    <tr>\n",
              "      <th>spam</th>\n",
              "      <td>747</td>\n",
              "      <td>653</td>\n",
              "      <td>Please call our customer service representativ...</td>\n",
              "      <td>4</td>\n",
              "    </tr>\n",
              "  </tbody>\n",
              "</table>\n",
              "</div>"
            ],
            "text/plain": [
              "      message                                                               \n",
              "        count unique                                                top freq\n",
              "label                                                                       \n",
              "ham      4825   4516                             Sorry, I'll call later   30\n",
              "spam      747    653  Please call our customer service representativ...    4"
            ]
          },
          "metadata": {
            "tags": []
          },
          "execution_count": 16
        }
      ]
    },
    {
      "metadata": {
        "id": "o42NKQsK8Dx1",
        "colab_type": "text"
      },
      "cell_type": "markdown",
      "source": [
        "As we continue our analysis we want to start thinking about the features we are going to be using. This goes along with the general idea of [feature engineering](https://en.wikipedia.org/wiki/Feature_engineering). The better your domain knowledge on the data, the better your ability to engineer more features from it. Feature engineering is a very large part of spam detection in general. I encourage you to read up on the topic!\n",
        "\n",
        "Let's make a new column to detect how long the text messages are:"
      ]
    },
    {
      "metadata": {
        "id": "KMsuf5Qw8Dx3",
        "colab_type": "code",
        "colab": {
          "base_uri": "https://localhost:8080/",
          "height": 204
        },
        "outputId": "8c7bf819-84bb-4012-978c-07492b1d7b38"
      },
      "cell_type": "code",
      "source": [
        "messages['length'] = messages['message'].apply(len)\n",
        "messages.head()"
      ],
      "execution_count": 17,
      "outputs": [
        {
          "output_type": "execute_result",
          "data": {
            "text/html": [
              "<div>\n",
              "<style scoped>\n",
              "    .dataframe tbody tr th:only-of-type {\n",
              "        vertical-align: middle;\n",
              "    }\n",
              "\n",
              "    .dataframe tbody tr th {\n",
              "        vertical-align: top;\n",
              "    }\n",
              "\n",
              "    .dataframe thead th {\n",
              "        text-align: right;\n",
              "    }\n",
              "</style>\n",
              "<table border=\"1\" class=\"dataframe\">\n",
              "  <thead>\n",
              "    <tr style=\"text-align: right;\">\n",
              "      <th></th>\n",
              "      <th>label</th>\n",
              "      <th>message</th>\n",
              "      <th>length</th>\n",
              "    </tr>\n",
              "  </thead>\n",
              "  <tbody>\n",
              "    <tr>\n",
              "      <th>0</th>\n",
              "      <td>ham</td>\n",
              "      <td>Go until jurong point, crazy.. Available only ...</td>\n",
              "      <td>111</td>\n",
              "    </tr>\n",
              "    <tr>\n",
              "      <th>1</th>\n",
              "      <td>ham</td>\n",
              "      <td>Ok lar... Joking wif u oni...</td>\n",
              "      <td>29</td>\n",
              "    </tr>\n",
              "    <tr>\n",
              "      <th>2</th>\n",
              "      <td>spam</td>\n",
              "      <td>Free entry in 2 a wkly comp to win FA Cup fina...</td>\n",
              "      <td>155</td>\n",
              "    </tr>\n",
              "    <tr>\n",
              "      <th>3</th>\n",
              "      <td>ham</td>\n",
              "      <td>U dun say so early hor... U c already then say...</td>\n",
              "      <td>49</td>\n",
              "    </tr>\n",
              "    <tr>\n",
              "      <th>4</th>\n",
              "      <td>ham</td>\n",
              "      <td>Nah I don't think he goes to usf, he lives aro...</td>\n",
              "      <td>61</td>\n",
              "    </tr>\n",
              "  </tbody>\n",
              "</table>\n",
              "</div>"
            ],
            "text/plain": [
              "  label                                            message  length\n",
              "0   ham  Go until jurong point, crazy.. Available only ...     111\n",
              "1   ham                      Ok lar... Joking wif u oni...      29\n",
              "2  spam  Free entry in 2 a wkly comp to win FA Cup fina...     155\n",
              "3   ham  U dun say so early hor... U c already then say...      49\n",
              "4   ham  Nah I don't think he goes to usf, he lives aro...      61"
            ]
          },
          "metadata": {
            "tags": []
          },
          "execution_count": 17
        }
      ]
    },
    {
      "metadata": {
        "id": "YPG-BB518Dx-",
        "colab_type": "text"
      },
      "cell_type": "markdown",
      "source": [
        "### Data Visualization\n",
        "Let's visualize this! Let's do the imports:"
      ]
    },
    {
      "metadata": {
        "id": "ku9Lqly28Dx_",
        "colab_type": "code",
        "colab": {}
      },
      "cell_type": "code",
      "source": [
        "import matplotlib.pyplot as plt\n",
        "import seaborn as sns\n",
        "\n",
        "%matplotlib inline"
      ],
      "execution_count": 0,
      "outputs": []
    },
    {
      "metadata": {
        "id": "BP9fAqGE8DyB",
        "colab_type": "code",
        "colab": {
          "base_uri": "https://localhost:8080/",
          "height": 282
        },
        "outputId": "2867faff-c102-45f4-8599-594f0d957666"
      },
      "cell_type": "code",
      "source": [
        "messages['length'].plot(bins=50, kind='hist') "
      ],
      "execution_count": 19,
      "outputs": [
        {
          "output_type": "execute_result",
          "data": {
            "text/plain": [
              "<matplotlib.axes._subplots.AxesSubplot at 0x7fe6fc13d4e0>"
            ]
          },
          "metadata": {
            "tags": []
          },
          "execution_count": 19
        },
        {
          "output_type": "display_data",
          "data": {
            "image/png": "[encoded data removed]",
            "text/plain": [
              "<matplotlib.figure.Figure at 0x7fe6fc048ef0>"
            ]
          },
          "metadata": {
            "tags": []
          }
        }
      ]
    },
    {
      "metadata": {
        "id": "AbrSNlP38DyH",
        "colab_type": "code",
        "colab": {
          "base_uri": "https://localhost:8080/",
          "height": 170
        },
        "outputId": "d82c5e3c-55a0-4c80-db96-2947c85cb4a3"
      },
      "cell_type": "code",
      "source": [
        "messages.length.describe()"
      ],
      "execution_count": 20,
      "outputs": [
        {
          "output_type": "execute_result",
          "data": {
            "text/plain": [
              "count    5572.000000\n",
              "mean       80.489950\n",
              "std        59.942907\n",
              "min         2.000000\n",
              "25%        36.000000\n",
              "50%        62.000000\n",
              "75%       122.000000\n",
              "max       910.000000\n",
              "Name: length, dtype: float64"
            ]
          },
          "metadata": {
            "tags": []
          },
          "execution_count": 20
        }
      ]
    },
    {
      "metadata": {
        "id": "aBqRa0zW8DyP",
        "colab_type": "text"
      },
      "cell_type": "markdown",
      "source": [
        "Woah! 910 characters, let's use masking to find this message:"
      ]
    },
    {
      "metadata": {
        "id": "kis7tgRN8DyQ",
        "colab_type": "code",
        "colab": {
          "base_uri": "https://localhost:8080/",
          "height": 54
        },
        "outputId": "d2cb21f0-8674-4135-8f83-e80bf81c27d7"
      },
      "cell_type": "code",
      "source": [
        "messages[messages['length'] == 910]['message'].iloc[0]"
      ],
      "execution_count": 21,
      "outputs": [
        {
          "output_type": "execute_result",
          "data": {
            "text/plain": [
              "\"For me the love should start with attraction.i should feel that I need her every time around me.she should be the first thing which comes in my thoughts.I would start the day and end it with her.she should be there every time I dream.love will be then when my every breath has her name.my life should happen around her.my life will be named to her.I would cry for her.will give all my happiness and take all her sorrows.I will be ready to fight with anyone for her.I will be in love when I will be doing the craziest things for her.love will be when I don't have to proove anyone that my girl is the most beautiful lady on the whole planet.I will always be singing praises for her.love will be when I start up making chicken curry and end up makiing sambar.life will be the most beautiful then.will get every morning and thank god for the day because she is with me.I would like to say a lot..will tell later..\""
            ]
          },
          "metadata": {
            "tags": []
          },
          "execution_count": 21
        }
      ]
    },
    {
      "metadata": {
        "id": "-0AWFT2b8DyY",
        "colab_type": "text"
      },
      "cell_type": "markdown",
      "source": [
        "Looks like we have some sort of Romeo sending texts! But let's focus back on the idea of trying to see if message length is a distinguishing feature between ham and spam:"
      ]
    },
    {
      "metadata": {
        "id": "N_lw2Q3L8DyZ",
        "colab_type": "code",
        "colab": {
          "base_uri": "https://localhost:8080/",
          "height": 337
        },
        "outputId": "935c5dfe-1292-41d7-be71-c1aba37339f4"
      },
      "cell_type": "code",
      "source": [
        "messages.hist(column='length', by='label', bins=50,figsize=(12,4))"
      ],
      "execution_count": 22,
      "outputs": [
        {
          "output_type": "execute_result",
          "data": {
            "text/plain": [
              "array([<matplotlib.axes._subplots.AxesSubplot object at 0x7fe6fbedbf60>,\n",
              "       <matplotlib.axes._subplots.AxesSubplot object at 0x7fe6fbf2cf98>],\n",
              "      dtype=object)"
            ]
          },
          "metadata": {
            "tags": []
          },
          "execution_count": 22
        },
        {
          "output_type": "display_data",
          "data": {
            "image/png": "[encoded data removed]",
            "text/plain": [
              "<matplotlib.figure.Figure at 0x7fe6fc20eba8>"
            ]
          },
          "metadata": {
            "tags": []
          }
        }
      ]
    },
    {
      "metadata": {
        "id": "TMr26h1x8Dyf",
        "colab_type": "text"
      },
      "cell_type": "markdown",
      "source": [
        "Very interesting! Through just basic EDA we've been able to discover a trend that spam messages tend to have more characters. (Sorry Romeo!)\n",
        "\n",
        "Now let's begin to process the data so we can eventually use it with SciKit Learn!"
      ]
    },
    {
      "metadata": {
        "id": "gNoCmcWD8Dyg",
        "colab_type": "text"
      },
      "cell_type": "markdown",
      "source": [
        "## Text Pre-processing"
      ]
    },
    {
      "metadata": {
        "id": "wnuyLnJi8Dyh",
        "colab_type": "text"
      },
      "cell_type": "markdown",
      "source": [
        "Our main issue with our data is that it is all in text format (strings). The classification need some sort of numerical feature vector in order to perform the classification task. There are actually many methods to convert a corpus to a vector format. The simplest is the the [bag-of-words](http://en.wikipedia.org/wiki/Bag-of-words_model) approach, where each unique word in a text will be represented by one number.\n",
        "\n",
        "\n",
        "In this section we'll convert the raw messages (sequence of characters) into vectors (sequences of numbers).\n",
        "\n",
        "As a first step, let's write a function that will split a message into its individual words and return a list. We'll also remove very common words, ('the', 'a', etc..). To do this we will take advantage of the NLTK library. It's pretty much the standard library in Python for processing text and has a lot of useful features. We'll only use some of the basic ones here.\n",
        "\n",
        "Let's create a function that will process the string in the message column, then we can just use **apply()** in pandas do process all the text in the DataFrame.\n",
        "\n",
        "First removing punctuation. We can just take advantage of Python's built-in **string** library to get a quick list of all the possible punctuation:"
      ]
    },
    {
      "metadata": {
        "id": "vWxexTNY8Dyj",
        "colab_type": "code",
        "colab": {}
      },
      "cell_type": "code",
      "source": [
        "import string\n",
        "\n",
        "mess = 'Sample message! Notice: it has punctuation.'\n",
        "\n",
        "# Check characters to see if they are in punctuation\n",
        "nopunc = [char for char in mess if char not in string.punctuation]\n",
        "\n",
        "# Join the characters again to form the string.\n",
        "nopunc = ''.join(nopunc)"
      ],
      "execution_count": 0,
      "outputs": []
    },
    {
      "metadata": {
        "id": "OahXb55I8Dyl",
        "colab_type": "text"
      },
      "cell_type": "markdown",
      "source": [
        "Now let's see how to remove stopwords. We can impot a list of english stopwords from NLTK (check the documentation for more languages and info)."
      ]
    },
    {
      "metadata": {
        "id": "632VgcCW_PW9",
        "colab_type": "text"
      },
      "cell_type": "markdown",
      "source": [
        "## download nltk stopwords"
      ]
    },
    {
      "metadata": {
        "id": "z5tUpz7T_XHG",
        "colab_type": "code",
        "colab": {
          "base_uri": "https://localhost:8080/",
          "height": 2839
        },
        "outputId": "34846baa-1814-425e-df61-c6abffc5598e"
      },
      "cell_type": "code",
      "source": [
        "nltk.download() #Download the necessary datasets"
      ],
      "execution_count": 25,
      "outputs": [
        {
          "output_type": "stream",
          "text": [
            "NLTK Downloader\n",
            "---------------------------------------------------------------------------\n",
            "    d) Download   l) List    u) Update   c) Config   h) Help   q) Quit\n",
            "---------------------------------------------------------------------------\n",
            "Downloader> d\n",
            "\n",
            "Download which package (l=list; x=cancel)?\n",
            "  Identifier> l\n",
            "Packages:\n",
            "  [ ] abc................. Australian Broadcasting Commission 2006\n",
            "  [ ] alpino.............. Alpino Dutch Treebank\n",
            "  [ ] averaged_perceptron_tagger Averaged Perceptron Tagger\n",
            "  [ ] averaged_perceptron_tagger_ru Averaged Perceptron Tagger (Russian)\n",
            "  [ ] basque_grammars..... Grammars for Basque\n",
            "  [ ] biocreative_ppi..... BioCreAtIvE (Critical Assessment of Information\n",
            "                           Extraction Systems in Biology)\n",
            "  [ ] bllip_wsj_no_aux.... BLLIP Parser: WSJ Model\n",
            "  [ ] book_grammars....... Grammars from NLTK Book\n",
            "  [ ] brown............... Brown Corpus\n",
            "  [ ] brown_tei........... Brown Corpus (TEI XML Version)\n",
            "  [ ] cess_cat............ CESS-CAT Treebank\n",
            "  [ ] cess_esp............ CESS-ESP Treebank\n",
            "  [ ] chat80.............. Chat-80 Data Files\n",
            "  [ ] city_database....... City Database\n",
            "  [ ] cmudict............. The Carnegie Mellon Pronouncing Dictionary (0.6)\n",
            "  [ ] comparative_sentences Comparative Sentence Dataset\n",
            "  [ ] comtrans............ ComTrans Corpus Sample\n",
            "  [ ] conll2000........... CONLL 2000 Chunking Corpus\n",
            "  [ ] conll2002........... CONLL 2002 Named Entity Recognition Corpus\n",
            "Hit Enter to continue: \n",
            "  [ ] conll2007........... Dependency Treebanks from CoNLL 2007 (Catalan\n",
            "                           and Basque Subset)\n",
            "  [ ] crubadan............ Crubadan Corpus\n",
            "  [ ] dependency_treebank. Dependency Parsed Treebank\n",
            "  [ ] dolch............... Dolch Word List\n",
            "  [ ] europarl_raw........ Sample European Parliament Proceedings Parallel\n",
            "                           Corpus\n",
            "  [ ] floresta............ Portuguese Treebank\n",
            "  [ ] framenet_v15........ FrameNet 1.5\n",
            "  [ ] framenet_v17........ FrameNet 1.7\n",
            "  [ ] gazetteers.......... Gazeteer Lists\n",
            "  [ ] genesis............. Genesis Corpus\n",
            "  [ ] gutenberg........... Project Gutenberg Selections\n",
            "  [ ] ieer................ NIST IE-ER DATA SAMPLE\n",
            "  [ ] inaugural........... C-Span Inaugural Address Corpus\n",
            "  [ ] indian.............. Indian Language POS-Tagged Corpus\n",
            "  [ ] jeita............... JEITA Public Morphologically Tagged Corpus (in\n",
            "                           ChaSen format)\n",
            "  [ ] kimmo............... PC-KIMMO Data Files\n",
            "  [ ] knbc................ KNB Corpus (Annotated blog corpus)\n",
            "  [ ] large_grammars...... Large context-free and feature-based grammars\n",
            "                           for parser comparison\n",
            "Hit Enter to continue: \n",
            "  [ ] lin_thesaurus....... Lin's Dependency Thesaurus\n",
            "  [ ] mac_morpho.......... MAC-MORPHO: Brazilian Portuguese news text with\n",
            "                           part-of-speech tags\n",
            "  [ ] machado............. Machado de Assis -- Obra Completa\n",
            "  [ ] masc_tagged......... MASC Tagged Corpus\n",
            "  [ ] maxent_ne_chunker... ACE Named Entity Chunker (Maximum entropy)\n",
            "  [ ] maxent_treebank_pos_tagger Treebank Part of Speech Tagger (Maximum entropy)\n",
            "  [ ] moses_sample........ Moses Sample Models\n",
            "  [ ] movie_reviews....... Sentiment Polarity Dataset Version 2.0\n",
            "  [ ] mte_teip5........... MULTEXT-East 1984 annotated corpus 4.0\n",
            "  [ ] mwa_ppdb............ The monolingual word aligner (Sultan et al.\n",
            "                           2015) subset of the Paraphrase Database.\n",
            "  [ ] names............... Names Corpus, Version 1.3 (1994-03-29)\n",
            "  [ ] nombank.1.0......... NomBank Corpus 1.0\n",
            "  [ ] nonbreaking_prefixes Non-Breaking Prefixes (Moses Decoder)\n",
            "  [ ] nps_chat............ NPS Chat\n",
            "  [ ] omw................. Open Multilingual Wordnet\n",
            "  [ ] opinion_lexicon..... Opinion Lexicon\n",
            "  [ ] panlex_swadesh...... PanLex Swadesh Corpora\n",
            "  [ ] paradigms........... Paradigm Corpus\n",
            "  [ ] pe08................ Cross-Framework and Cross-Domain Parser\n",
            "                           Evaluation Shared Task\n",
            "Hit Enter to continue: \n",
            "  [ ] perluniprops........ perluniprops: Index of Unicode Version 7.0.0\n",
            "                           character properties in Perl\n",
            "  [ ] pil................. The Patient Information Leaflet (PIL) Corpus\n",
            "  [ ] pl196x.............. Polish language of the XX century sixties\n",
            "  [ ] porter_test......... Porter Stemmer Test Files\n",
            "  [ ] ppattach............ Prepositional Phrase Attachment Corpus\n",
            "  [ ] problem_reports..... Problem Report Corpus\n",
            "  [ ] product_reviews_1... Product Reviews (5 Products)\n",
            "  [ ] product_reviews_2... Product Reviews (9 Products)\n",
            "  [ ] propbank............ Proposition Bank Corpus 1.0\n",
            "  [ ] pros_cons........... Pros and Cons\n",
            "  [ ] ptb................. Penn Treebank\n",
            "  [ ] punkt............... Punkt Tokenizer Models\n",
            "  [ ] qc.................. Experimental Data for Question Classification\n",
            "  [ ] reuters............. The Reuters-21578 benchmark corpus, ApteMod\n",
            "                           version\n",
            "  [ ] rslp................ RSLP Stemmer (Removedor de Sufixos da Lingua\n",
            "                           Portuguesa)\n",
            "  [ ] rte................. PASCAL RTE Challenges 1, 2, and 3\n",
            "  [ ] sample_grammars..... Sample Grammars\n",
            "  [ ] semcor.............. SemCor 3.0\n",
            "Hit Enter to continue: \n",
            "  [ ] senseval............ SENSEVAL 2 Corpus: Sense Tagged Text\n",
            "  [ ] sentence_polarity... Sentence Polarity Dataset v1.0\n",
            "  [ ] sentiwordnet........ SentiWordNet\n",
            "  [ ] shakespeare......... Shakespeare XML Corpus Sample\n",
            "  [ ] sinica_treebank..... Sinica Treebank Corpus Sample\n",
            "  [ ] smultron............ SMULTRON Corpus Sample\n",
            "  [ ] snowball_data....... Snowball Data\n",
            "  [ ] spanish_grammars.... Grammars for Spanish\n",
            "  [ ] state_union......... C-Span State of the Union Address Corpus\n",
            "  [ ] stopwords........... Stopwords Corpus\n",
            "  [ ] subjectivity........ Subjectivity Dataset v1.0\n",
            "  [ ] swadesh............. Swadesh Wordlists\n",
            "  [ ] switchboard......... Switchboard Corpus Sample\n",
            "  [ ] tagsets............. Help on Tagsets\n",
            "  [ ] timit............... TIMIT Corpus Sample\n",
            "  [ ] toolbox............. Toolbox Sample Files\n",
            "  [ ] treebank............ Penn Treebank Sample\n",
            "  [ ] twitter_samples..... Twitter Samples\n",
            "  [ ] udhr2............... Universal Declaration of Human Rights Corpus\n",
            "                           (Unicode Version)\n",
            "  [ ] udhr................ Universal Declaration of Human Rights Corpus\n",
            "Hit Enter to continue: stopwords\n",
            "  [ ] unicode_samples..... Unicode Samples\n",
            "  [ ] universal_tagset.... Mappings to the Universal Part-of-Speech Tagset\n",
            "  [ ] universal_treebanks_v20 Universal Treebanks Version 2.0\n",
            "  [ ] vader_lexicon....... VADER Sentiment Lexicon\n",
            "  [ ] verbnet3............ VerbNet Lexicon, Version 3.3\n",
            "  [ ] verbnet............. VerbNet Lexicon, Version 2.1\n",
            "  [ ] webtext............. Web Text Corpus\n",
            "  [ ] wmt15_eval.......... Evaluation data from WMT15\n",
            "  [ ] word2vec_sample..... Word2Vec Sample\n",
            "  [ ] wordnet............. WordNet\n",
            "  [ ] wordnet_ic.......... WordNet-InfoContent\n",
            "  [ ] words............... Word Lists\n",
            "  [ ] ycoe................ York-Toronto-Helsinki Parsed Corpus of Old\n",
            "                           English Prose\n",
            "\n",
            "Collections:\n",
            "  [ ] all-corpora......... All the corpora\n",
            "  [ ] all-nltk............ All packages available on nltk_data gh-pages\n",
            "                           branch\n",
            "  [ ] all................. All packages\n",
            "  [ ] book................ Everything used in the NLTK Book\n",
            "  [ ] popular............. Popular packages\n",
            "Hit Enter to continue: d\n",
            "  [ ] tests............... Packages for running tests\n",
            "  [ ] third-party......... Third-party data packages\n",
            "\n",
            "([*] marks installed packages)\n",
            "\n",
            "Download which package (l=list; x=cancel)?\n",
            "  Identifier> x\n",
            "\n",
            "---------------------------------------------------------------------------\n",
            "    d) Download   l) List    u) Update   c) Config   h) Help   q) Quit\n",
            "---------------------------------------------------------------------------\n",
            "Downloader> d\n",
            "\n",
            "Download which package (l=list; x=cancel)?\n",
            "  Identifier> stopwords\n",
            "    Downloading package stopwords to /root/nltk_data...\n",
            "      Unzipping corpora/stopwords.zip.\n",
            "\n",
            "---------------------------------------------------------------------------\n",
            "    d) Download   l) List    u) Update   c) Config   h) Help   q) Quit\n",
            "---------------------------------------------------------------------------\n",
            "Downloader> q\n"
          ],
          "name": "stdout"
        },
        {
          "output_type": "execute_result",
          "data": {
            "text/plain": [
              "True"
            ]
          },
          "metadata": {
            "tags": []
          },
          "execution_count": 25
        }
      ]
    },
    {
      "metadata": {
        "id": "Issyp4k9_8tr",
        "colab_type": "code",
        "colab": {
          "base_uri": "https://localhost:8080/",
          "height": 34
        },
        "outputId": "8ce535ae-5a6a-4cc2-9a20-dc6f566b8e04"
      },
      "cell_type": "code",
      "source": [
        "!ls"
      ],
      "execution_count": 26,
      "outputs": [
        {
          "output_type": "stream",
          "text": [
            "Projects  sample_data\n"
          ],
          "name": "stdout"
        }
      ]
    },
    {
      "metadata": {
        "id": "5do16BfK8Dym",
        "colab_type": "code",
        "colab": {
          "base_uri": "https://localhost:8080/",
          "height": 34
        },
        "outputId": "274c8813-f179-4dbd-9672-97853a32f6a4"
      },
      "cell_type": "code",
      "source": [
        "from nltk.corpus import stopwords\n",
        "stopwords.words('english')[0:10] # Show some stop words"
      ],
      "execution_count": 27,
      "outputs": [
        {
          "output_type": "execute_result",
          "data": {
            "text/plain": [
              "['i', 'me', 'my', 'myself', 'we', 'our', 'ours', 'ourselves', 'you', \"you're\"]"
            ]
          },
          "metadata": {
            "tags": []
          },
          "execution_count": 27
        }
      ]
    },
    {
      "metadata": {
        "id": "7M_j3l78AFR1",
        "colab_type": "code",
        "colab": {
          "base_uri": "https://localhost:8080/",
          "height": 34
        },
        "outputId": "33c7ab82-24ce-49e5-95e6-1bca7ac55010"
      },
      "cell_type": "code",
      "source": [
        "len(stopwords.words('english'))"
      ],
      "execution_count": 29,
      "outputs": [
        {
          "output_type": "execute_result",
          "data": {
            "text/plain": [
              "179"
            ]
          },
          "metadata": {
            "tags": []
          },
          "execution_count": 29
        }
      ]
    },
    {
      "metadata": {
        "id": "6Ld1tkxt8Dyr",
        "colab_type": "code",
        "colab": {
          "base_uri": "https://localhost:8080/",
          "height": 34
        },
        "outputId": "a2a4793d-7126-4bb3-ca3a-907bbad0e97b"
      },
      "cell_type": "code",
      "source": [
        "nopunc.split()"
      ],
      "execution_count": 30,
      "outputs": [
        {
          "output_type": "execute_result",
          "data": {
            "text/plain": [
              "['Sample', 'message', 'Notice', 'it', 'has', 'punctuation']"
            ]
          },
          "metadata": {
            "tags": []
          },
          "execution_count": 30
        }
      ]
    },
    {
      "metadata": {
        "id": "oOVg9F8y8Dyv",
        "colab_type": "code",
        "colab": {}
      },
      "cell_type": "code",
      "source": [
        "# Now just remove any stopwords\n",
        "clean_mess = [word for word in nopunc.split() if word.lower() not in stopwords.words('english')]"
      ],
      "execution_count": 0,
      "outputs": []
    },
    {
      "metadata": {
        "id": "eEqPAk0z8Dyz",
        "colab_type": "code",
        "colab": {
          "base_uri": "https://localhost:8080/",
          "height": 34
        },
        "outputId": "14dcf442-662d-4ccc-8385-41bc34ce65ee"
      },
      "cell_type": "code",
      "source": [
        "clean_mess"
      ],
      "execution_count": 32,
      "outputs": [
        {
          "output_type": "execute_result",
          "data": {
            "text/plain": [
              "['Sample', 'message', 'Notice', 'punctuation']"
            ]
          },
          "metadata": {
            "tags": []
          },
          "execution_count": 32
        }
      ]
    },
    {
      "metadata": {
        "id": "7Mn2Mkdo8Dy3",
        "colab_type": "text"
      },
      "cell_type": "markdown",
      "source": [
        "Now let's put both of these together in a function to apply it to our DataFrame later on:"
      ]
    },
    {
      "metadata": {
        "id": "YQjJyEJm8Dy4",
        "colab_type": "code",
        "colab": {}
      },
      "cell_type": "code",
      "source": [
        "def text_process(mess):\n",
        "    \"\"\"\n",
        "    Takes in a string of text, then performs the following:\n",
        "    1. Remove all punctuation\n",
        "    2. Remove all stopwords\n",
        "    3. Returns a list of the cleaned text\n",
        "    \"\"\"\n",
        "    # Check characters to see if they are in punctuation\n",
        "    nopunc = [char for char in mess if char not in string.punctuation]\n",
        "\n",
        "    # Join the characters again to form the string.\n",
        "    nopunc = ''.join(nopunc)\n",
        "    \n",
        "    # Now just remove any stopwords\n",
        "    return [word for word in nopunc.split() if word.lower() not in stopwords.words('english')]"
      ],
      "execution_count": 0,
      "outputs": []
    },
    {
      "metadata": {
        "id": "IQIe9sa_8Dy6",
        "colab_type": "text"
      },
      "cell_type": "markdown",
      "source": [
        "Here is the original DataFrame again:"
      ]
    },
    {
      "metadata": {
        "id": "X0MVxouR8Dy7",
        "colab_type": "code",
        "colab": {
          "base_uri": "https://localhost:8080/",
          "height": 204
        },
        "outputId": "d245e820-60f1-4207-b783-19a99ddce53f"
      },
      "cell_type": "code",
      "source": [
        "messages.head()"
      ],
      "execution_count": 34,
      "outputs": [
        {
          "output_type": "execute_result",
          "data": {
            "text/html": [
              "<div>\n",
              "<style scoped>\n",
              "    .dataframe tbody tr th:only-of-type {\n",
              "        vertical-align: middle;\n",
              "    }\n",
              "\n",
              "    .dataframe tbody tr th {\n",
              "        vertical-align: top;\n",
              "    }\n",
              "\n",
              "    .dataframe thead th {\n",
              "        text-align: right;\n",
              "    }\n",
              "</style>\n",
              "<table border=\"1\" class=\"dataframe\">\n",
              "  <thead>\n",
              "    <tr style=\"text-align: right;\">\n",
              "      <th></th>\n",
              "      <th>label</th>\n",
              "      <th>message</th>\n",
              "      <th>length</th>\n",
              "    </tr>\n",
              "  </thead>\n",
              "  <tbody>\n",
              "    <tr>\n",
              "      <th>0</th>\n",
              "      <td>ham</td>\n",
              "      <td>Go until jurong point, crazy.. Available only ...</td>\n",
              "      <td>111</td>\n",
              "    </tr>\n",
              "    <tr>\n",
              "      <th>1</th>\n",
              "      <td>ham</td>\n",
              "      <td>Ok lar... Joking wif u oni...</td>\n",
              "      <td>29</td>\n",
              "    </tr>\n",
              "    <tr>\n",
              "      <th>2</th>\n",
              "      <td>spam</td>\n",
              "      <td>Free entry in 2 a wkly comp to win FA Cup fina...</td>\n",
              "      <td>155</td>\n",
              "    </tr>\n",
              "    <tr>\n",
              "      <th>3</th>\n",
              "      <td>ham</td>\n",
              "      <td>U dun say so early hor... U c already then say...</td>\n",
              "      <td>49</td>\n",
              "    </tr>\n",
              "    <tr>\n",
              "      <th>4</th>\n",
              "      <td>ham</td>\n",
              "      <td>Nah I don't think he goes to usf, he lives aro...</td>\n",
              "      <td>61</td>\n",
              "    </tr>\n",
              "  </tbody>\n",
              "</table>\n",
              "</div>"
            ],
            "text/plain": [
              "  label                                            message  length\n",
              "0   ham  Go until jurong point, crazy.. Available only ...     111\n",
              "1   ham                      Ok lar... Joking wif u oni...      29\n",
              "2  spam  Free entry in 2 a wkly comp to win FA Cup fina...     155\n",
              "3   ham  U dun say so early hor... U c already then say...      49\n",
              "4   ham  Nah I don't think he goes to usf, he lives aro...      61"
            ]
          },
          "metadata": {
            "tags": []
          },
          "execution_count": 34
        }
      ]
    },
    {
      "metadata": {
        "id": "lbtRcmpG8Dy_",
        "colab_type": "text"
      },
      "cell_type": "markdown",
      "source": [
        "Now let's \"tokenize\" these messages. Tokenization is just the term used to describe the process of converting the normal text strings in to a list of tokens (words that we actually want).\n",
        "\n",
        "Let's see an example output on on column:\n",
        "\n",
        "**Note:**\n",
        "We may get some warnings or errors for symbols we didn't account for or that weren't in Unicode (like a British pound symbol)"
      ]
    },
    {
      "metadata": {
        "id": "exeuT-pS8DzB",
        "colab_type": "code",
        "colab": {
          "base_uri": "https://localhost:8080/",
          "height": 119
        },
        "outputId": "b8249d41-e1ae-4298-c217-1f378a108491"
      },
      "cell_type": "code",
      "source": [
        "# Check to make sure its working\n",
        "messages['message'].head(5).apply(text_process)"
      ],
      "execution_count": 35,
      "outputs": [
        {
          "output_type": "execute_result",
          "data": {
            "text/plain": [
              "0    [Go, jurong, point, crazy, Available, bugis, n...\n",
              "1                       [Ok, lar, Joking, wif, u, oni]\n",
              "2    [Free, entry, 2, wkly, comp, win, FA, Cup, fin...\n",
              "3        [U, dun, say, early, hor, U, c, already, say]\n",
              "4    [Nah, dont, think, goes, usf, lives, around, t...\n",
              "Name: message, dtype: object"
            ]
          },
          "metadata": {
            "tags": []
          },
          "execution_count": 35
        }
      ]
    },
    {
      "metadata": {
        "id": "Xsf5DYst8DzO",
        "colab_type": "code",
        "colab": {
          "base_uri": "https://localhost:8080/",
          "height": 204
        },
        "outputId": "6152bd25-322a-4d64-ee16-d6228c4544df"
      },
      "cell_type": "code",
      "source": [
        "# Show original dataframe\n",
        "messages.head()"
      ],
      "execution_count": 36,
      "outputs": [
        {
          "output_type": "execute_result",
          "data": {
            "text/html": [
              "<div>\n",
              "<style scoped>\n",
              "    .dataframe tbody tr th:only-of-type {\n",
              "        vertical-align: middle;\n",
              "    }\n",
              "\n",
              "    .dataframe tbody tr th {\n",
              "        vertical-align: top;\n",
              "    }\n",
              "\n",
              "    .dataframe thead th {\n",
              "        text-align: right;\n",
              "    }\n",
              "</style>\n",
              "<table border=\"1\" class=\"dataframe\">\n",
              "  <thead>\n",
              "    <tr style=\"text-align: right;\">\n",
              "      <th></th>\n",
              "      <th>label</th>\n",
              "      <th>message</th>\n",
              "      <th>length</th>\n",
              "    </tr>\n",
              "  </thead>\n",
              "  <tbody>\n",
              "    <tr>\n",
              "      <th>0</th>\n",
              "      <td>ham</td>\n",
              "      <td>Go until jurong point, crazy.. Available only ...</td>\n",
              "      <td>111</td>\n",
              "    </tr>\n",
              "    <tr>\n",
              "      <th>1</th>\n",
              "      <td>ham</td>\n",
              "      <td>Ok lar... Joking wif u oni...</td>\n",
              "      <td>29</td>\n",
              "    </tr>\n",
              "    <tr>\n",
              "      <th>2</th>\n",
              "      <td>spam</td>\n",
              "      <td>Free entry in 2 a wkly comp to win FA Cup fina...</td>\n",
              "      <td>155</td>\n",
              "    </tr>\n",
              "    <tr>\n",
              "      <th>3</th>\n",
              "      <td>ham</td>\n",
              "      <td>U dun say so early hor... U c already then say...</td>\n",
              "      <td>49</td>\n",
              "    </tr>\n",
              "    <tr>\n",
              "      <th>4</th>\n",
              "      <td>ham</td>\n",
              "      <td>Nah I don't think he goes to usf, he lives aro...</td>\n",
              "      <td>61</td>\n",
              "    </tr>\n",
              "  </tbody>\n",
              "</table>\n",
              "</div>"
            ],
            "text/plain": [
              "  label                                            message  length\n",
              "0   ham  Go until jurong point, crazy.. Available only ...     111\n",
              "1   ham                      Ok lar... Joking wif u oni...      29\n",
              "2  spam  Free entry in 2 a wkly comp to win FA Cup fina...     155\n",
              "3   ham  U dun say so early hor... U c already then say...      49\n",
              "4   ham  Nah I don't think he goes to usf, he lives aro...      61"
            ]
          },
          "metadata": {
            "tags": []
          },
          "execution_count": 36
        }
      ]
    },
    {
      "metadata": {
        "id": "5eS05Tbx8DzS",
        "colab_type": "text"
      },
      "cell_type": "markdown",
      "source": [
        "### Continuing Normalization\n",
        "\n",
        "There are a lot of ways to continue normalizing this text. Such as [Stemming](https://en.wikipedia.org/wiki/Stemming) or distinguishing by [part of speech](http://www.nltk.org/book/ch05.html).\n",
        "\n",
        "NLTK has lots of built-in tools and great documentation on a lot of these methods. Sometimes they don't work well for text-messages due to the way a lot of people tend to use abbreviations or shorthand, For example:\n",
        "    \n",
        "    'Nah dawg, IDK! Wut time u headin to da club?'\n",
        "    \n",
        "versus\n",
        "\n",
        "    'No dog, I don't know! What time are you heading to the club?'\n",
        "    \n",
        "Some text normalization methods will have trouble with this type of shorthand and so I'll leave you to explore those more advanced methods through the [NLTK book online](http://www.nltk.org/book/).\n",
        "\n",
        "For now we will just focus on using what we have to convert our list of words to an actual vector that SciKit-Learn can use."
      ]
    },
    {
      "metadata": {
        "id": "MIRLm6hN8DzT",
        "colab_type": "text"
      },
      "cell_type": "markdown",
      "source": [
        "## Vectorization"
      ]
    },
    {
      "metadata": {
        "id": "Lrg_KnCV8DzU",
        "colab_type": "text"
      },
      "cell_type": "markdown",
      "source": [
        "Currently, we have the messages as lists of tokens (also known as [lemmas](http://nlp.stanford.edu/IR-book/html/htmledition/stemming-and-lemmatization-1.html)) and now we need to convert each of those messages into a vector the SciKit Learn's algorithm models can work with.\n",
        "\n",
        "Now we'll convert each message, represented as a list of tokens (lemmas) above, into a vector that machine learning models can understand.\n",
        "\n",
        "We'll do that in three steps using the bag-of-words model:\n",
        "\n",
        "1. Count how many times does a word occur in each message (Known as term frequency)\n",
        "\n",
        "2. Weigh the counts, so that frequent tokens get lower weight (inverse document frequency)\n",
        "\n",
        "3. Normalize the vectors to unit length, to abstract from the original text length (L2 norm)\n",
        "\n",
        "Let's begin the first step:"
      ]
    },
    {
      "metadata": {
        "id": "AqlTst3R8DzV",
        "colab_type": "text"
      },
      "cell_type": "markdown",
      "source": [
        "Each vector will have as many dimensions as there are unique words in the SMS corpus.  We will first use SciKit Learn's **CountVectorizer**. This model will convert a collection of text documents to a matrix of token counts.\n",
        "\n",
        "We can imagine this as a 2-Dimensional matrix. Where the 1-dimension is the entire vocabulary (1 row per word) and the other dimension are the actual documents, in this case a column per text message. \n",
        "\n",
        "For example:\n",
        "\n",
        "<table border = “1“>\n",
        "<tr>\n",
        "<th></th> <th>Message 1</th> <th>Message 2</th> <th>...</th> <th>Message N</th> \n",
        "</tr>\n",
        "<tr>\n",
        "<td><b>Word 1 Count</b></td><td>0</td><td>1</td><td>...</td><td>0</td>\n",
        "</tr>\n",
        "<tr>\n",
        "<td><b>Word 2 Count</b></td><td>0</td><td>0</td><td>...</td><td>0</td>\n",
        "</tr>\n",
        "<tr>\n",
        "<td><b>...</b></td> <td>1</td><td>2</td><td>...</td><td>0</td>\n",
        "</tr>\n",
        "<tr>\n",
        "<td><b>Word N Count</b></td> <td>0</td><td>1</td><td>...</td><td>1</td>\n",
        "</tr>\n",
        "</table>\n",
        "\n",
        "\n",
        "Since there are so many messages, we can expect a lot of zero counts for the presence of that word in that document. Because of this, SciKit Learn will output a [Sparse Matrix](https://en.wikipedia.org/wiki/Sparse_matrix)."
      ]
    },
    {
      "metadata": {
        "id": "n3pZvbBt8DzW",
        "colab_type": "code",
        "colab": {}
      },
      "cell_type": "code",
      "source": [
        "from sklearn.feature_extraction.text import CountVectorizer"
      ],
      "execution_count": 0,
      "outputs": []
    },
    {
      "metadata": {
        "id": "S1rSOYJs8DzZ",
        "colab_type": "text"
      },
      "cell_type": "markdown",
      "source": [
        "There are a lot of arguments and parameters that can be passed to the CountVectorizer. In this case we will just specify the **analyzer** to be our own previously defined function:"
      ]
    },
    {
      "metadata": {
        "id": "aJbAupq48Dza",
        "colab_type": "code",
        "colab": {
          "base_uri": "https://localhost:8080/",
          "height": 34
        },
        "outputId": "bba48416-d19a-495e-abd5-a0f63d752909"
      },
      "cell_type": "code",
      "source": [
        "# Might take awhile...\n",
        "bow_transformer = CountVectorizer(analyzer=text_process).fit(messages['message'])\n",
        "\n",
        "# Print total number of vocab words\n",
        "print(len(bow_transformer.vocabulary_))"
      ],
      "execution_count": 38,
      "outputs": [
        {
          "output_type": "stream",
          "text": [
            "11425\n"
          ],
          "name": "stdout"
        }
      ]
    },
    {
      "metadata": {
        "id": "HhYNALfB8Dze",
        "colab_type": "text"
      },
      "cell_type": "markdown",
      "source": [
        "Let's take one text message and get its bag-of-words counts as a vector, putting to use our new `bow_transformer`:"
      ]
    },
    {
      "metadata": {
        "id": "Bsc5DnCy8Dzf",
        "colab_type": "code",
        "colab": {
          "base_uri": "https://localhost:8080/",
          "height": 34
        },
        "outputId": "59b4f837-8a81-474d-dbc1-bc1cb7f3fb23"
      },
      "cell_type": "code",
      "source": [
        "message4 = messages['message'][3]\n",
        "print(message4)"
      ],
      "execution_count": 39,
      "outputs": [
        {
          "output_type": "stream",
          "text": [
            "U dun say so early hor... U c already then say...\n"
          ],
          "name": "stdout"
        }
      ]
    },
    {
      "metadata": {
        "id": "Tr5ha1c_8Dzk",
        "colab_type": "text"
      },
      "cell_type": "markdown",
      "source": [
        "Now let's see its vector representation:"
      ]
    },
    {
      "metadata": {
        "id": "YwJQlB-N8Dzn",
        "colab_type": "code",
        "colab": {
          "base_uri": "https://localhost:8080/",
          "height": 153
        },
        "outputId": "fb22f994-0dd2-4f61-ab2f-201f9b507715"
      },
      "cell_type": "code",
      "source": [
        "bow4 = bow_transformer.transform([message4])\n",
        "print(bow4)\n",
        "print(bow4.shape)"
      ],
      "execution_count": 40,
      "outputs": [
        {
          "output_type": "stream",
          "text": [
            "  (0, 4068)\t2\n",
            "  (0, 4629)\t1\n",
            "  (0, 5261)\t1\n",
            "  (0, 6204)\t1\n",
            "  (0, 6222)\t1\n",
            "  (0, 7186)\t1\n",
            "  (0, 9554)\t2\n",
            "(1, 11425)\n"
          ],
          "name": "stdout"
        }
      ]
    },
    {
      "metadata": {
        "id": "JRWOXSXL8Dzv",
        "colab_type": "text"
      },
      "cell_type": "markdown",
      "source": [
        "This means that there are seven unique words in message number 4 (after removing common stop words). Two of them appear twice, the rest only once. Let's go ahead and check and confirm which ones appear twice:"
      ]
    },
    {
      "metadata": {
        "id": "krAUpUta8Dzv",
        "colab_type": "code",
        "colab": {
          "base_uri": "https://localhost:8080/",
          "height": 51
        },
        "outputId": "f26ae372-0de4-42dc-fdd4-9f65e12642b0"
      },
      "cell_type": "code",
      "source": [
        "print(bow_transformer.get_feature_names()[4073])\n",
        "print(bow_transformer.get_feature_names()[9570])"
      ],
      "execution_count": 41,
      "outputs": [
        {
          "output_type": "stream",
          "text": [
            "UIN\n",
            "schedule\n"
          ],
          "name": "stdout"
        }
      ]
    },
    {
      "metadata": {
        "id": "AbqZ-m7k8Dz0",
        "colab_type": "text"
      },
      "cell_type": "markdown",
      "source": [
        "Now we can use **.transform** on our Bag-of-Words (bow) transformed object and transform the entire DataFrame of messages. Let's go ahead and check out how the bag-of-words counts for the entire SMS corpus is a large, sparse matrix:"
      ]
    },
    {
      "metadata": {
        "id": "c7N8uNmQ8Dz1",
        "colab_type": "code",
        "colab": {}
      },
      "cell_type": "code",
      "source": [
        "messages_bow = bow_transformer.transform(messages['message'])"
      ],
      "execution_count": 0,
      "outputs": []
    },
    {
      "metadata": {
        "id": "1VRBGI1e8Dz7",
        "colab_type": "code",
        "colab": {
          "base_uri": "https://localhost:8080/",
          "height": 51
        },
        "outputId": "32cdce02-caa2-4343-ceed-fc15379cd5f8"
      },
      "cell_type": "code",
      "source": [
        "print('Shape of Sparse Matrix: ', messages_bow.shape)\n",
        "print('Amount of Non-Zero occurences: ', messages_bow.nnz)"
      ],
      "execution_count": 43,
      "outputs": [
        {
          "output_type": "stream",
          "text": [
            "Shape of Sparse Matrix:  (5572, 11425)\n",
            "Amount of Non-Zero occurences:  50548\n"
          ],
          "name": "stdout"
        }
      ]
    },
    {
      "metadata": {
        "id": "Itv1bPVI8D0A",
        "colab_type": "code",
        "colab": {
          "base_uri": "https://localhost:8080/",
          "height": 34
        },
        "outputId": "5123cfd9-3b47-4dd1-a6de-0d0572a365c6"
      },
      "cell_type": "code",
      "source": [
        "sparsity = (100.0 * messages_bow.nnz / (messages_bow.shape[0] * messages_bow.shape[1]))\n",
        "print('sparsity: {}'.format(round(sparsity)))"
      ],
      "execution_count": 44,
      "outputs": [
        {
          "output_type": "stream",
          "text": [
            "sparsity: 0\n"
          ],
          "name": "stdout"
        }
      ]
    },
    {
      "metadata": {
        "id": "IBoeI4rg8D0F",
        "colab_type": "text"
      },
      "cell_type": "markdown",
      "source": [
        "After the counting, the term weighting and normalization can be done with [TF-IDF](http://en.wikipedia.org/wiki/Tf%E2%80%93idf), using scikit-learn's `TfidfTransformer`.\n",
        "\n",
        "____\n",
        "### So what is TF-IDF?\n",
        "TF-IDF stands for *term frequency-inverse document frequency*, and the tf-idf weight is a weight often used in information retrieval and text mining. This weight is a statistical measure used to evaluate how important a word is to a document in a collection or corpus. The importance increases proportionally to the number of times a word appears in the document but is offset by the frequency of the word in the corpus. Variations of the tf-idf weighting scheme are often used by search engines as a central tool in scoring and ranking a document's relevance given a user query.\n",
        "\n",
        "One of the simplest ranking functions is computed by summing the tf-idf for each query term; many more sophisticated ranking functions are variants of this simple model.\n",
        "\n",
        "Typically, the tf-idf weight is composed by two terms: the first computes the normalized Term Frequency (TF), aka. the number of times a word appears in a document, divided by the total number of words in that document; the second term is the Inverse Document Frequency (IDF), computed as the logarithm of the number of the documents in the corpus divided by the number of documents where the specific term appears.\n",
        "\n",
        "**TF: Term Frequency**, which measures how frequently a term occurs in a document. Since every document is different in length, it is possible that a term would appear much more times in long documents than shorter ones. Thus, the term frequency is often divided by the document length (aka. the total number of terms in the document) as a way of normalization: \n",
        "\n",
        "*TF(t) = (Number of times term t appears in a document) / (Total number of terms in the document).*\n",
        "\n",
        "**IDF: Inverse Document Frequency**, which measures how important a term is. While computing TF, all terms are considered equally important. However it is known that certain terms, such as \"is\", \"of\", and \"that\", may appear a lot of times but have little importance. Thus we need to weigh down the frequent terms while scale up the rare ones, by computing the following: \n",
        "\n",
        "*IDF(t) = log_e(Total number of documents / Number of documents with term t in it).*\n",
        "\n",
        "See below for a simple example.\n",
        "\n",
        "**Example:**\n",
        "\n",
        "Consider a document containing 100 words wherein the word cat appears 3 times. \n",
        "\n",
        "The term frequency (i.e., tf) for cat is then (3 / 100) = 0.03. Now, assume we have 10 million documents and the word cat appears in one thousand of these. Then, the inverse document frequency (i.e., idf) is calculated as log(10,000,000 / 1,000) = 4. Thus, the Tf-idf weight is the product of these quantities: 0.03 * 4 = 0.12.\n",
        "____\n",
        "\n",
        "Let's go ahead and see how we can do this in SciKit Learn:"
      ]
    },
    {
      "metadata": {
        "id": "Bm7Hpnjd8D0F",
        "colab_type": "code",
        "colab": {
          "base_uri": "https://localhost:8080/",
          "height": 136
        },
        "outputId": "c5ce9424-1c0f-4207-d667-e078524da1d2"
      },
      "cell_type": "code",
      "source": [
        "from sklearn.feature_extraction.text import TfidfTransformer\n",
        "\n",
        "tfidf_transformer = TfidfTransformer().fit(messages_bow)\n",
        "tfidf4 = tfidf_transformer.transform(bow4)\n",
        "print(tfidf4)"
      ],
      "execution_count": 45,
      "outputs": [
        {
          "output_type": "stream",
          "text": [
            "  (0, 9554)\t0.5385626262927564\n",
            "  (0, 7186)\t0.4389365653379857\n",
            "  (0, 6222)\t0.3187216892949149\n",
            "  (0, 6204)\t0.29953799723697416\n",
            "  (0, 5261)\t0.29729957405868723\n",
            "  (0, 4629)\t0.26619801906087187\n",
            "  (0, 4068)\t0.40832589933384067\n"
          ],
          "name": "stdout"
        }
      ]
    },
    {
      "metadata": {
        "id": "aJqm9faR8D0J",
        "colab_type": "text"
      },
      "cell_type": "markdown",
      "source": [
        "We'll go ahead and check what is the IDF (inverse document frequency) of the word `\"u\"` and of word `\"university\"`?"
      ]
    },
    {
      "metadata": {
        "id": "PKMUU6rk8D0K",
        "colab_type": "code",
        "colab": {
          "base_uri": "https://localhost:8080/",
          "height": 51
        },
        "outputId": "62746f9c-f453-4adc-fe8a-c038194df40d"
      },
      "cell_type": "code",
      "source": [
        "print(tfidf_transformer.idf_[bow_transformer.vocabulary_['u']])\n",
        "print(tfidf_transformer.idf_[bow_transformer.vocabulary_['university']])"
      ],
      "execution_count": 46,
      "outputs": [
        {
          "output_type": "stream",
          "text": [
            "3.2800524267409408\n",
            "8.527076498901426\n"
          ],
          "name": "stdout"
        }
      ]
    },
    {
      "metadata": {
        "id": "7cJ6mRi-8D0O",
        "colab_type": "text"
      },
      "cell_type": "markdown",
      "source": [
        "To transform the entire bag-of-words corpus into TF-IDF corpus at once:"
      ]
    },
    {
      "metadata": {
        "id": "HCishaXo8D0P",
        "colab_type": "code",
        "colab": {
          "base_uri": "https://localhost:8080/",
          "height": 34
        },
        "outputId": "10d22590-fb2f-450c-e0ed-a809e9e5c59e"
      },
      "cell_type": "code",
      "source": [
        "messages_tfidf = tfidf_transformer.transform(messages_bow)\n",
        "print(messages_tfidf.shape)"
      ],
      "execution_count": 47,
      "outputs": [
        {
          "output_type": "stream",
          "text": [
            "(5572, 11425)\n"
          ],
          "name": "stdout"
        }
      ]
    },
    {
      "metadata": {
        "id": "brqTB83D8D0Y",
        "colab_type": "text"
      },
      "cell_type": "markdown",
      "source": [
        "There are many ways the data can be preprocessed and vectorized. These steps involve feature engineering and building a \"pipeline\". I encourage you to check out SciKit Learn's documentation on dealing with text data as well as the expansive collection of available papers and books on the general topic of NLP."
      ]
    },
    {
      "metadata": {
        "id": "6u7Y5gbf8D0Z",
        "colab_type": "text"
      },
      "cell_type": "markdown",
      "source": [
        "## Training a model"
      ]
    },
    {
      "metadata": {
        "id": "_AWWmaxm8D0a",
        "colab_type": "text"
      },
      "cell_type": "markdown",
      "source": [
        "With messages represented as vectors, we can finally train our spam/ham classifier. Now we can actually use almost any sort of classification algorithms. For a [variety of reasons](http://www.inf.ed.ac.uk/teaching/courses/inf2b/learnnotes/inf2b-learn-note07-2up.pdf), the Naive Bayes classifier algorithm is a good choice."
      ]
    },
    {
      "metadata": {
        "id": "JN_oMvq_8D0b",
        "colab_type": "text"
      },
      "cell_type": "markdown",
      "source": [
        "We'll be using scikit-learn here, choosing the [Naive Bayes](http://en.wikipedia.org/wiki/Naive_Bayes_classifier) classifier to start with:"
      ]
    },
    {
      "metadata": {
        "id": "FlGRvUJb8D0c",
        "colab_type": "code",
        "colab": {}
      },
      "cell_type": "code",
      "source": [
        "from sklearn.naive_bayes import MultinomialNB\n",
        "spam_detect_model = MultinomialNB().fit(messages_tfidf, messages['label'])"
      ],
      "execution_count": 0,
      "outputs": []
    },
    {
      "metadata": {
        "id": "twKnfFfS8D0e",
        "colab_type": "text"
      },
      "cell_type": "markdown",
      "source": [
        "Let's try classifying our single random message and checking how we do:"
      ]
    },
    {
      "metadata": {
        "id": "yWzozi3v8D0g",
        "colab_type": "code",
        "colab": {
          "base_uri": "https://localhost:8080/",
          "height": 51
        },
        "outputId": "2f272e58-2d99-4c14-b1fe-24c06ca94aa2"
      },
      "cell_type": "code",
      "source": [
        "print('predicted:', spam_detect_model.predict(tfidf4)[0])\n",
        "print('expected:', messages.label[3])"
      ],
      "execution_count": 49,
      "outputs": [
        {
          "output_type": "stream",
          "text": [
            "predicted: ham\n",
            "expected: ham\n"
          ],
          "name": "stdout"
        }
      ]
    },
    {
      "metadata": {
        "id": "iPqsXENF8D0m",
        "colab_type": "text"
      },
      "cell_type": "markdown",
      "source": [
        "Fantastic! We've developed a model that can attempt to predict spam vs ham classification!\n",
        "\n",
        "## Part 6: Model Evaluation\n",
        "Now we want to determine how well our model will do overall on the entire dataset. Let's begin by getting all the predictions:"
      ]
    },
    {
      "metadata": {
        "id": "eHlHmOpe8D0o",
        "colab_type": "code",
        "colab": {
          "base_uri": "https://localhost:8080/",
          "height": 34
        },
        "outputId": "a38cb260-4a52-4ab3-bc31-39be6079e793"
      },
      "cell_type": "code",
      "source": [
        "all_predictions = spam_detect_model.predict(messages_tfidf)\n",
        "print(all_predictions)"
      ],
      "execution_count": 50,
      "outputs": [
        {
          "output_type": "stream",
          "text": [
            "['ham' 'ham' 'spam' ... 'ham' 'ham' 'ham']\n"
          ],
          "name": "stdout"
        }
      ]
    },
    {
      "metadata": {
        "id": "75ICk4Sh8D0t",
        "colab_type": "text"
      },
      "cell_type": "markdown",
      "source": [
        "We can use SciKit Learn's built-in classification report, which returns [precision, recall,](https://en.wikipedia.org/wiki/Precision_and_recall) [f1-score](https://en.wikipedia.org/wiki/F1_score), and a column for support (meaning how many cases supported that classification). Check out the links for more detailed info on each of these metrics and the figure below:"
      ]
    },
    {
      "metadata": {
        "collapsed": false,
        "id": "EB_pCass8D0u",
        "colab_type": "text"
      },
      "cell_type": "markdown",
      "source": [
        "<img src='https://upload.wikimedia.org/wikipedia/commons/thumb/2/26/Precisionrecall.svg/700px-Precisionrecall.svg.png' width=400 />"
      ]
    },
    {
      "metadata": {
        "id": "2vA1HDno8D0v",
        "colab_type": "code",
        "colab": {
          "base_uri": "https://localhost:8080/",
          "height": 136
        },
        "outputId": "42040576-1cf4-4339-a8ab-a4aa212e006e"
      },
      "cell_type": "code",
      "source": [
        "from sklearn.metrics import classification_report\n",
        "print (classification_report(messages['label'], all_predictions))"
      ],
      "execution_count": 51,
      "outputs": [
        {
          "output_type": "stream",
          "text": [
            "             precision    recall  f1-score   support\n",
            "\n",
            "        ham       0.98      1.00      0.99      4825\n",
            "       spam       1.00      0.85      0.92       747\n",
            "\n",
            "avg / total       0.98      0.98      0.98      5572\n",
            "\n"
          ],
          "name": "stdout"
        }
      ]
    },
    {
      "metadata": {
        "id": "gVlowk2e8D03",
        "colab_type": "text"
      },
      "cell_type": "markdown",
      "source": [
        "There are quite a few possible metrics for evaluating model performance. Which one is the most important depends on the task and the business effects of decisions based off of the model. For example, the cost of mis-predicting \"spam\" as \"ham\" is probably much lower than mis-predicting \"ham\" as \"spam\"."
      ]
    },
    {
      "metadata": {
        "id": "NbCcEpSU8D03",
        "colab_type": "text"
      },
      "cell_type": "markdown",
      "source": [
        "In the above \"evaluation\",we evaluated accuracy on the same data we used for training. **You should never actually evaluate on the same dataset you train on!**\n",
        "\n",
        "Such evaluation tells us nothing about the true predictive power of our model. If we simply remembered each example during training, the accuracy on training data would trivially be 100%, even though we wouldn't be able to classify any new messages.\n",
        "\n",
        "A proper way is to split the data into a training/test set, where the model only ever sees the **training data** during its model fitting and parameter tuning. The **test data** is never used in any way. This is then our final evaluation on test data is representative of true predictive performance.\n",
        "\n",
        "## Train Test Split"
      ]
    },
    {
      "metadata": {
        "id": "ubWmHSlG8D04",
        "colab_type": "code",
        "colab": {
          "base_uri": "https://localhost:8080/",
          "height": 34
        },
        "outputId": "0661eb43-c7a4-47a3-996a-ece791758ccf"
      },
      "cell_type": "code",
      "source": [
        "from sklearn.model_selection import train_test_split\n",
        "\n",
        "msg_train, msg_test, label_train, label_test = \\\n",
        "train_test_split(messages['message'], messages['label'], test_size=0.2)\n",
        "\n",
        "print(len(msg_train), len(msg_test), len(msg_train) + len(msg_test))"
      ],
      "execution_count": 52,
      "outputs": [
        {
          "output_type": "stream",
          "text": [
            "4457 1115 5572\n"
          ],
          "name": "stdout"
        }
      ]
    },
    {
      "metadata": {
        "id": "cIU2Mc328D06",
        "colab_type": "text"
      },
      "cell_type": "markdown",
      "source": [
        "The test size is 20% of the entire dataset (1115 messages out of total 5572), and the training is the rest (4457 out of 5572). Note the default split would have been 30/70.\n",
        "\n",
        "## Creating a Data Pipeline\n",
        "\n",
        "Let's run our model again and then predict off the test set. We will use SciKit Learn's [pipeline](http://scikit-learn.org/stable/modules/pipeline.html) capabilities to store a pipeline of workflow. This will allow us to set up all the transformations that we will do to the data for future use. Let's see an example of how it works:"
      ]
    },
    {
      "metadata": {
        "id": "6uoOnTrP8D08",
        "colab_type": "code",
        "colab": {}
      },
      "cell_type": "code",
      "source": [
        "from sklearn.pipeline import Pipeline\n",
        "\n",
        "pipeline = Pipeline([\n",
        "    ('bow', CountVectorizer(analyzer=text_process)),  # strings to token integer counts\n",
        "    ('tfidf', TfidfTransformer()),  # integer counts to weighted TF-IDF scores\n",
        "    ('classifier', MultinomialNB()),  # train on TF-IDF vectors w/ Naive Bayes classifier\n",
        "])"
      ],
      "execution_count": 0,
      "outputs": []
    },
    {
      "metadata": {
        "id": "_Plt00kd8D0-",
        "colab_type": "text"
      },
      "cell_type": "markdown",
      "source": [
        "Now we can directly pass message text data and the pipeline will do our pre-processing for us! We can treat it as a model/estimator API:"
      ]
    },
    {
      "metadata": {
        "id": "iPLKEr_b8D0-",
        "colab_type": "code",
        "colab": {
          "base_uri": "https://localhost:8080/",
          "height": 122
        },
        "outputId": "0fa23a8a-170f-43ab-8891-d925dae46691"
      },
      "cell_type": "code",
      "source": [
        "pipeline.fit(msg_train,label_train)"
      ],
      "execution_count": 54,
      "outputs": [
        {
          "output_type": "execute_result",
          "data": {
            "text/plain": [
              "Pipeline(memory=None,\n",
              "     steps=[('bow', CountVectorizer(analyzer=<function text_process at 0x7fe6f8e5f048>,\n",
              "        binary=False, decode_error='strict', dtype=<class 'numpy.int64'>,\n",
              "        encoding='utf-8', input='content', lowercase=True, max_df=1.0,\n",
              "        max_features=None, min_df=1, ngram_range=(1, 1), preprocessor=No...f=False, use_idf=True)), ('classifier', MultinomialNB(alpha=1.0, class_prior=None, fit_prior=True))])"
            ]
          },
          "metadata": {
            "tags": []
          },
          "execution_count": 54
        }
      ]
    },
    {
      "metadata": {
        "id": "nHQNQ4ne8D1F",
        "colab_type": "code",
        "colab": {}
      },
      "cell_type": "code",
      "source": [
        "predictions = pipeline.predict(msg_test)"
      ],
      "execution_count": 0,
      "outputs": []
    },
    {
      "metadata": {
        "id": "ctfTUY1t8D1I",
        "colab_type": "code",
        "colab": {
          "base_uri": "https://localhost:8080/",
          "height": 136
        },
        "outputId": "5e3cb3e1-e213-49d6-ff1a-31e9516b1952"
      },
      "cell_type": "code",
      "source": [
        "print(classification_report(predictions,label_test))"
      ],
      "execution_count": 56,
      "outputs": [
        {
          "output_type": "stream",
          "text": [
            "             precision    recall  f1-score   support\n",
            "\n",
            "        ham       1.00      0.96      0.98      1014\n",
            "       spam       0.72      1.00      0.83       101\n",
            "\n",
            "avg / total       0.97      0.96      0.97      1115\n",
            "\n"
          ],
          "name": "stdout"
        }
      ]
    },
    {
      "metadata": {
        "id": "h_qkAnaO8D1M",
        "colab_type": "text"
      },
      "cell_type": "markdown",
      "source": [
        "Now we have a classification report for our model on a true testing set! There is a lot more to Natural Language Processing than what we've covered here, and its vast expanse of topic could fill up several college courses! I encourage you to check out the resources below for more information on NLP!"
      ]
    }
  ]
}