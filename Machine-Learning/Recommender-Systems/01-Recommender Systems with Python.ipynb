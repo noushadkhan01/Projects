{
  "nbformat": 4,
  "nbformat_minor": 0,
  "metadata": {
    "colab": {
      "name": "01-Recommender Systems with Python.ipynb",
      "version": "0.3.2",
      "provenance": [],
      "include_colab_link": true
    },
    "kernelspec": {
      "name": "python3",
      "display_name": "Python 3"
    },
    "accelerator": "GPU"
  },
  "cells": [
    {
      "cell_type": "markdown",
      "metadata": {
        "id": "view-in-github",
        "colab_type": "text"
      },
      "source": [
        "<a href=\"https://colab.research.google.com/github/noushadkhan01/Projects/blob/master/Machine-Learning/Recommender-Systems/01-Recommender%20Systems%20with%20Python.ipynb\" target=\"_parent\"><img src=\"https://colab.research.google.com/assets/colab-badge.svg\" alt=\"Open In Colab\"/></a>"
      ]
    },
    {
      "metadata": {
        "id": "_M92GZEkwCyF",
        "colab_type": "text"
      },
      "cell_type": "markdown",
      "source": [
        "# Recommender Systems with Python\n",
        "\n",
        "Welcome to the code notebook for Recommender Systems with Python. In this notebook we will develop basic recommendation systems using Python and pandas. There is another notebook: *Advanced Recommender Systems with Python*. That notebook goes into more detail with the same data set.\n",
        "\n",
        "In this notebook, we will focus on providing a basic recommendation system by suggesting items that are most similar to a particular item, in this case, movies. Keep in mind, this is not a true robust recommendation system, to describe it more accurately,it just tells you what movies/items are most similar to your movie choice.\n",
        "\n",
        "There is no project for this topic, instead you have the option to work through the advanced lecture version of this notebook (totally optional!).\n",
        "\n",
        "Let's get started!\n",
        "\n",
        "## Import Libraries"
      ]
    },
    {
      "metadata": {
        "id": "q2Or3DX_wCyI",
        "colab_type": "code",
        "colab": {}
      },
      "cell_type": "code",
      "source": [
        "import numpy as np\n",
        "import pandas as pd"
      ],
      "execution_count": 0,
      "outputs": []
    },
    {
      "metadata": {
        "id": "XnHve9ZfwCyN",
        "colab_type": "text"
      },
      "cell_type": "markdown",
      "source": [
        "## Get the Data"
      ]
    },
    {
      "metadata": {
        "id": "LKgumu0ZwmUC",
        "colab_type": "code",
        "outputId": "a87043ae-d835-428d-f34e-a9fe6c41e664",
        "colab": {
          "base_uri": "https://localhost:8080/",
          "height": 34
        }
      },
      "cell_type": "code",
      "source": [
        "!ls"
      ],
      "execution_count": 0,
      "outputs": [
        {
          "output_type": "stream",
          "text": [
            "sample_data\n"
          ],
          "name": "stdout"
        }
      ]
    },
    {
      "metadata": {
        "id": "5DkEB91hwpNY",
        "colab_type": "code",
        "outputId": "7f8d3b65-ea69-4a5b-dbed-4e255aefc78d",
        "colab": {
          "base_uri": "https://localhost:8080/",
          "height": 153
        }
      },
      "cell_type": "code",
      "source": [
        "!git clone https://github.com/noushadkhan01/Machine-Learning.git"
      ],
      "execution_count": 0,
      "outputs": [
        {
          "output_type": "stream",
          "text": [
            "Cloning into 'Machine-Learning'...\n",
            "remote: Enumerating objects: 179, done.\u001b[K\n",
            "remote: Counting objects: 100% (179/179), done.\u001b[K\n",
            "remote: Compressing objects: 100% (157/157), done.\u001b[K\n",
            "remote: Total 883 (delta 84), reused 0 (delta 0), pack-reused 704\u001b[K\n",
            "Receiving objects: 100% (883/883), 152.30 MiB | 14.47 MiB/s, done.\n",
            "Resolving deltas: 100% (326/326), done.\n",
            "Checking out files: 100% (655/655), done.\n"
          ],
          "name": "stdout"
        }
      ]
    },
    {
      "metadata": {
        "id": "ViB_EcXbw63R",
        "colab_type": "code",
        "colab": {}
      },
      "cell_type": "code",
      "source": [
        "path = 'Machine-Learning/Udemy machine learni/All pynb files/19-Recommender-Systems/'"
      ],
      "execution_count": 0,
      "outputs": []
    },
    {
      "metadata": {
        "id": "T9stB1BdwCyO",
        "colab_type": "code",
        "colab": {}
      },
      "cell_type": "code",
      "source": [
        "column_names = ['user_id', 'item_id', 'rating', 'timestamp']\n",
        "df = pd.read_csv(f'{path}u.data', sep='\\t', names=column_names)"
      ],
      "execution_count": 0,
      "outputs": []
    },
    {
      "metadata": {
        "id": "sssSgVnmwCyS",
        "colab_type": "code",
        "outputId": "54425ba2-db0f-421f-da95-ce324ab6bd2e",
        "colab": {
          "base_uri": "https://localhost:8080/",
          "height": 204
        }
      },
      "cell_type": "code",
      "source": [
        "df.head()"
      ],
      "execution_count": 0,
      "outputs": [
        {
          "output_type": "execute_result",
          "data": {
            "text/html": [
              "<div>\n",
              "<style scoped>\n",
              "    .dataframe tbody tr th:only-of-type {\n",
              "        vertical-align: middle;\n",
              "    }\n",
              "\n",
              "    .dataframe tbody tr th {\n",
              "        vertical-align: top;\n",
              "    }\n",
              "\n",
              "    .dataframe thead th {\n",
              "        text-align: right;\n",
              "    }\n",
              "</style>\n",
              "<table border=\"1\" class=\"dataframe\">\n",
              "  <thead>\n",
              "    <tr style=\"text-align: right;\">\n",
              "      <th></th>\n",
              "      <th>user_id</th>\n",
              "      <th>item_id</th>\n",
              "      <th>rating</th>\n",
              "      <th>timestamp</th>\n",
              "    </tr>\n",
              "  </thead>\n",
              "  <tbody>\n",
              "    <tr>\n",
              "      <th>0</th>\n",
              "      <td>0</td>\n",
              "      <td>50</td>\n",
              "      <td>5</td>\n",
              "      <td>881250949</td>\n",
              "    </tr>\n",
              "    <tr>\n",
              "      <th>1</th>\n",
              "      <td>0</td>\n",
              "      <td>172</td>\n",
              "      <td>5</td>\n",
              "      <td>881250949</td>\n",
              "    </tr>\n",
              "    <tr>\n",
              "      <th>2</th>\n",
              "      <td>0</td>\n",
              "      <td>133</td>\n",
              "      <td>1</td>\n",
              "      <td>881250949</td>\n",
              "    </tr>\n",
              "    <tr>\n",
              "      <th>3</th>\n",
              "      <td>196</td>\n",
              "      <td>242</td>\n",
              "      <td>3</td>\n",
              "      <td>881250949</td>\n",
              "    </tr>\n",
              "    <tr>\n",
              "      <th>4</th>\n",
              "      <td>186</td>\n",
              "      <td>302</td>\n",
              "      <td>3</td>\n",
              "      <td>891717742</td>\n",
              "    </tr>\n",
              "  </tbody>\n",
              "</table>\n",
              "</div>"
            ],
            "text/plain": [
              "   user_id  item_id  rating  timestamp\n",
              "0        0       50       5  881250949\n",
              "1        0      172       5  881250949\n",
              "2        0      133       1  881250949\n",
              "3      196      242       3  881250949\n",
              "4      186      302       3  891717742"
            ]
          },
          "metadata": {
            "tags": []
          },
          "execution_count": 13
        }
      ]
    },
    {
      "metadata": {
        "id": "eQtQ5LV2xvN2",
        "colab_type": "code",
        "outputId": "36bf93c2-493d-46f5-c304-7176b43bdbfa",
        "colab": {
          "base_uri": "https://localhost:8080/",
          "height": 34
        }
      },
      "cell_type": "code",
      "source": [
        "df.shape"
      ],
      "execution_count": 0,
      "outputs": [
        {
          "output_type": "execute_result",
          "data": {
            "text/plain": [
              "(100003, 4)"
            ]
          },
          "metadata": {
            "tags": []
          },
          "execution_count": 14
        }
      ]
    },
    {
      "metadata": {
        "id": "hhUcOh-JxwY_",
        "colab_type": "code",
        "outputId": "33a7044f-0750-4a5f-92f8-fadc6b5a62ce",
        "colab": {
          "base_uri": "https://localhost:8080/",
          "height": 170
        }
      },
      "cell_type": "code",
      "source": [
        "df.info()"
      ],
      "execution_count": 0,
      "outputs": [
        {
          "output_type": "stream",
          "text": [
            "<class 'pandas.core.frame.DataFrame'>\n",
            "RangeIndex: 100003 entries, 0 to 100002\n",
            "Data columns (total 4 columns):\n",
            "user_id      100003 non-null int64\n",
            "item_id      100003 non-null int64\n",
            "rating       100003 non-null int64\n",
            "timestamp    100003 non-null int64\n",
            "dtypes: int64(4)\n",
            "memory usage: 3.1 MB\n"
          ],
          "name": "stdout"
        }
      ]
    },
    {
      "metadata": {
        "id": "ABC0Kccky0CL",
        "colab_type": "text"
      },
      "cell_type": "markdown",
      "source": [
        "### number of unique movies in list"
      ]
    },
    {
      "metadata": {
        "id": "xMC9CFHkyq1A",
        "colab_type": "code",
        "outputId": "3b9347ec-6d32-4b7f-8fab-94e657fdb5d6",
        "colab": {
          "base_uri": "https://localhost:8080/",
          "height": 34
        }
      },
      "cell_type": "code",
      "source": [
        "df.item_id.nunique()"
      ],
      "execution_count": 0,
      "outputs": [
        {
          "output_type": "execute_result",
          "data": {
            "text/plain": [
              "1682"
            ]
          },
          "metadata": {
            "tags": []
          },
          "execution_count": 20
        }
      ]
    },
    {
      "metadata": {
        "id": "DLl3MqVNwCyd",
        "colab_type": "text"
      },
      "cell_type": "markdown",
      "source": [
        "Now let's get the movie titles:"
      ]
    },
    {
      "metadata": {
        "id": "xNo1jalIy7Cw",
        "colab_type": "text"
      },
      "cell_type": "markdown",
      "source": [
        "# movies_title DataFrame"
      ]
    },
    {
      "metadata": {
        "id": "CQPn_CeVwCyf",
        "colab_type": "code",
        "outputId": "2bda9825-a0bf-4f84-fc37-86d288bfafb0",
        "colab": {
          "base_uri": "https://localhost:8080/",
          "height": 204
        }
      },
      "cell_type": "code",
      "source": [
        "movie_titles = pd.read_csv(f\"{path}Movie_Id_Titles\")\n",
        "movie_titles.head()"
      ],
      "execution_count": 0,
      "outputs": [
        {
          "output_type": "execute_result",
          "data": {
            "text/html": [
              "<div>\n",
              "<style scoped>\n",
              "    .dataframe tbody tr th:only-of-type {\n",
              "        vertical-align: middle;\n",
              "    }\n",
              "\n",
              "    .dataframe tbody tr th {\n",
              "        vertical-align: top;\n",
              "    }\n",
              "\n",
              "    .dataframe thead th {\n",
              "        text-align: right;\n",
              "    }\n",
              "</style>\n",
              "<table border=\"1\" class=\"dataframe\">\n",
              "  <thead>\n",
              "    <tr style=\"text-align: right;\">\n",
              "      <th></th>\n",
              "      <th>item_id</th>\n",
              "      <th>title</th>\n",
              "    </tr>\n",
              "  </thead>\n",
              "  <tbody>\n",
              "    <tr>\n",
              "      <th>0</th>\n",
              "      <td>1</td>\n",
              "      <td>Toy Story (1995)</td>\n",
              "    </tr>\n",
              "    <tr>\n",
              "      <th>1</th>\n",
              "      <td>2</td>\n",
              "      <td>GoldenEye (1995)</td>\n",
              "    </tr>\n",
              "    <tr>\n",
              "      <th>2</th>\n",
              "      <td>3</td>\n",
              "      <td>Four Rooms (1995)</td>\n",
              "    </tr>\n",
              "    <tr>\n",
              "      <th>3</th>\n",
              "      <td>4</td>\n",
              "      <td>Get Shorty (1995)</td>\n",
              "    </tr>\n",
              "    <tr>\n",
              "      <th>4</th>\n",
              "      <td>5</td>\n",
              "      <td>Copycat (1995)</td>\n",
              "    </tr>\n",
              "  </tbody>\n",
              "</table>\n",
              "</div>"
            ],
            "text/plain": [
              "   item_id              title\n",
              "0        1   Toy Story (1995)\n",
              "1        2   GoldenEye (1995)\n",
              "2        3  Four Rooms (1995)\n",
              "3        4  Get Shorty (1995)\n",
              "4        5     Copycat (1995)"
            ]
          },
          "metadata": {
            "tags": []
          },
          "execution_count": 16
        }
      ]
    },
    {
      "metadata": {
        "id": "sBT5-FNtyDoo",
        "colab_type": "code",
        "outputId": "5eb84820-5415-40f3-b0ca-4de01b4e8263",
        "colab": {
          "base_uri": "https://localhost:8080/",
          "height": 34
        }
      },
      "cell_type": "code",
      "source": [
        "movie_titles.shape"
      ],
      "execution_count": 0,
      "outputs": [
        {
          "output_type": "execute_result",
          "data": {
            "text/plain": [
              "(1682, 2)"
            ]
          },
          "metadata": {
            "tags": []
          },
          "execution_count": 18
        }
      ]
    },
    {
      "metadata": {
        "id": "IYy26yZtyG2V",
        "colab_type": "code",
        "outputId": "6cbc22ec-ec3e-4bf4-e3ea-b5ba593613a2",
        "colab": {
          "base_uri": "https://localhost:8080/",
          "height": 136
        }
      },
      "cell_type": "code",
      "source": [
        "movie_titles.info()"
      ],
      "execution_count": 0,
      "outputs": [
        {
          "output_type": "stream",
          "text": [
            "<class 'pandas.core.frame.DataFrame'>\n",
            "RangeIndex: 1682 entries, 0 to 1681\n",
            "Data columns (total 2 columns):\n",
            "item_id    1682 non-null int64\n",
            "title      1682 non-null object\n",
            "dtypes: int64(1), object(1)\n",
            "memory usage: 26.4+ KB\n"
          ],
          "name": "stdout"
        }
      ]
    },
    {
      "metadata": {
        "id": "NszN478jwCyn",
        "colab_type": "text"
      },
      "cell_type": "markdown",
      "source": [
        "## Merge movie_title and df\n",
        "We can merge them together:"
      ]
    },
    {
      "metadata": {
        "id": "x3NmAIRGzYwq",
        "colab_type": "text"
      },
      "cell_type": "markdown",
      "source": [
        "Check for no. of unique items in **item_id** for df and length of **movie_titles**"
      ]
    },
    {
      "metadata": {
        "id": "fQkc1I12zQZr",
        "colab_type": "code",
        "outputId": "a4d26b59-6d1a-46d7-ccfd-62646f10edaf",
        "colab": {
          "base_uri": "https://localhost:8080/",
          "height": 34
        }
      },
      "cell_type": "code",
      "source": [
        "df.item_id.nunique()"
      ],
      "execution_count": 0,
      "outputs": [
        {
          "output_type": "execute_result",
          "data": {
            "text/plain": [
              "1682"
            ]
          },
          "metadata": {
            "tags": []
          },
          "execution_count": 21
        }
      ]
    },
    {
      "metadata": {
        "id": "IBjYj-i5zTVH",
        "colab_type": "code",
        "outputId": "d345b2a4-827e-4006-8d67-db8e7fe95db9",
        "colab": {
          "base_uri": "https://localhost:8080/",
          "height": 34
        }
      },
      "cell_type": "code",
      "source": [
        "movie_titles.shape"
      ],
      "execution_count": 0,
      "outputs": [
        {
          "output_type": "execute_result",
          "data": {
            "text/plain": [
              "(1682, 2)"
            ]
          },
          "metadata": {
            "tags": []
          },
          "execution_count": 23
        }
      ]
    },
    {
      "metadata": {
        "id": "WhB1QLBIzoxe",
        "colab_type": "text"
      },
      "cell_type": "markdown",
      "source": [
        "**Now we can merge them**"
      ]
    },
    {
      "metadata": {
        "id": "jsaMPnNpwCyo",
        "colab_type": "code",
        "outputId": "77444c67-db74-4344-9331-6c50f630ea8f",
        "colab": {
          "base_uri": "https://localhost:8080/",
          "height": 204
        }
      },
      "cell_type": "code",
      "source": [
        "df = pd.merge(df, movie_titles,on = 'item_id')\n",
        "df.head()"
      ],
      "execution_count": 0,
      "outputs": [
        {
          "output_type": "execute_result",
          "data": {
            "text/html": [
              "<div>\n",
              "<style scoped>\n",
              "    .dataframe tbody tr th:only-of-type {\n",
              "        vertical-align: middle;\n",
              "    }\n",
              "\n",
              "    .dataframe tbody tr th {\n",
              "        vertical-align: top;\n",
              "    }\n",
              "\n",
              "    .dataframe thead th {\n",
              "        text-align: right;\n",
              "    }\n",
              "</style>\n",
              "<table border=\"1\" class=\"dataframe\">\n",
              "  <thead>\n",
              "    <tr style=\"text-align: right;\">\n",
              "      <th></th>\n",
              "      <th>user_id</th>\n",
              "      <th>item_id</th>\n",
              "      <th>rating</th>\n",
              "      <th>timestamp</th>\n",
              "      <th>title</th>\n",
              "    </tr>\n",
              "  </thead>\n",
              "  <tbody>\n",
              "    <tr>\n",
              "      <th>0</th>\n",
              "      <td>0</td>\n",
              "      <td>50</td>\n",
              "      <td>5</td>\n",
              "      <td>881250949</td>\n",
              "      <td>Star Wars (1977)</td>\n",
              "    </tr>\n",
              "    <tr>\n",
              "      <th>1</th>\n",
              "      <td>290</td>\n",
              "      <td>50</td>\n",
              "      <td>5</td>\n",
              "      <td>880473582</td>\n",
              "      <td>Star Wars (1977)</td>\n",
              "    </tr>\n",
              "    <tr>\n",
              "      <th>2</th>\n",
              "      <td>79</td>\n",
              "      <td>50</td>\n",
              "      <td>4</td>\n",
              "      <td>891271545</td>\n",
              "      <td>Star Wars (1977)</td>\n",
              "    </tr>\n",
              "    <tr>\n",
              "      <th>3</th>\n",
              "      <td>2</td>\n",
              "      <td>50</td>\n",
              "      <td>5</td>\n",
              "      <td>888552084</td>\n",
              "      <td>Star Wars (1977)</td>\n",
              "    </tr>\n",
              "    <tr>\n",
              "      <th>4</th>\n",
              "      <td>8</td>\n",
              "      <td>50</td>\n",
              "      <td>5</td>\n",
              "      <td>879362124</td>\n",
              "      <td>Star Wars (1977)</td>\n",
              "    </tr>\n",
              "  </tbody>\n",
              "</table>\n",
              "</div>"
            ],
            "text/plain": [
              "   user_id  item_id  rating  timestamp             title\n",
              "0        0       50       5  881250949  Star Wars (1977)\n",
              "1      290       50       5  880473582  Star Wars (1977)\n",
              "2       79       50       4  891271545  Star Wars (1977)\n",
              "3        2       50       5  888552084  Star Wars (1977)\n",
              "4        8       50       5  879362124  Star Wars (1977)"
            ]
          },
          "metadata": {
            "tags": []
          },
          "execution_count": 24
        }
      ]
    },
    {
      "metadata": {
        "id": "s96I_r_jz-8s",
        "colab_type": "text"
      },
      "cell_type": "markdown",
      "source": [
        "**Number of unique users**"
      ]
    },
    {
      "metadata": {
        "id": "78H2QlU0z4QN",
        "colab_type": "code",
        "outputId": "5bc982b4-459c-4470-85eb-b54dc3fb5730",
        "colab": {
          "base_uri": "https://localhost:8080/",
          "height": 34
        }
      },
      "cell_type": "code",
      "source": [
        "df.user_id.nunique()"
      ],
      "execution_count": 0,
      "outputs": [
        {
          "output_type": "execute_result",
          "data": {
            "text/plain": [
              "944"
            ]
          },
          "metadata": {
            "tags": []
          },
          "execution_count": 26
        }
      ]
    },
    {
      "metadata": {
        "id": "b8wb-ghiwCyv",
        "colab_type": "text"
      },
      "cell_type": "markdown",
      "source": [
        "# EDA\n",
        "\n",
        "Let's explore the data a bit and get a look at some of the best rated movies.\n",
        "\n",
        "## Visualization Imports"
      ]
    },
    {
      "metadata": {
        "id": "uDRSC_g_wCyw",
        "colab_type": "code",
        "colab": {}
      },
      "cell_type": "code",
      "source": [
        "import matplotlib.pyplot as plt\n",
        "import seaborn as sns\n",
        "sns.set_style('white')\n",
        "%matplotlib inline"
      ],
      "execution_count": 0,
      "outputs": []
    },
    {
      "metadata": {
        "id": "G6tvM6sSwCyz",
        "colab_type": "text"
      },
      "cell_type": "markdown",
      "source": [
        "Let's create a ratings dataframe with average rating and number of ratings:"
      ]
    },
    {
      "metadata": {
        "id": "vf8IYvuGwCy1",
        "colab_type": "code",
        "outputId": "ff2420ff-ebf4-48fc-e2ee-b2316c45d2bd",
        "colab": {
          "base_uri": "https://localhost:8080/",
          "height": 136
        }
      },
      "cell_type": "code",
      "source": [
        "rating_mean = df.groupby('title')['rating'].mean()\n",
        "rating_mean.sort_values(ascending=False).head()"
      ],
      "execution_count": 0,
      "outputs": [
        {
          "output_type": "execute_result",
          "data": {
            "text/plain": [
              "title\n",
              "Marlene Dietrich: Shadow and Light (1996)     5.0\n",
              "Prefontaine (1997)                            5.0\n",
              "Santa with Muscles (1996)                     5.0\n",
              "Star Kid (1997)                               5.0\n",
              "Someone Else's America (1995)                 5.0\n",
              "Name: rating, dtype: float64"
            ]
          },
          "metadata": {
            "tags": []
          },
          "execution_count": 32
        }
      ]
    },
    {
      "metadata": {
        "id": "TpDjZ0ur1PeT",
        "colab_type": "code",
        "outputId": "bbddb259-e7a5-41a4-b22a-d75d55c51e4b",
        "colab": {
          "base_uri": "https://localhost:8080/",
          "height": 34
        }
      },
      "cell_type": "code",
      "source": [
        "rating_mean.shape"
      ],
      "execution_count": 0,
      "outputs": [
        {
          "output_type": "execute_result",
          "data": {
            "text/plain": [
              "(1664,)"
            ]
          },
          "metadata": {
            "tags": []
          },
          "execution_count": 34
        }
      ]
    },
    {
      "metadata": {
        "id": "lvK6rD2r0gVD",
        "colab_type": "text"
      },
      "cell_type": "markdown",
      "source": [
        "**^^There is 1 problem with this method we can have movies list on top which only have number of ratings 1 or 10 or 100 so we need to sort values according to no. of ratings**"
      ]
    },
    {
      "metadata": {
        "id": "RtD_4Ec0wCy5",
        "colab_type": "code",
        "outputId": "a1e8c08b-ac8b-4350-9eb6-86e8141aaac8",
        "colab": {
          "base_uri": "https://localhost:8080/",
          "height": 136
        }
      },
      "cell_type": "code",
      "source": [
        "rating_count = df.groupby('title')['rating'].count()\n",
        "rating_count.sort_values(ascending=False).head()"
      ],
      "execution_count": 0,
      "outputs": [
        {
          "output_type": "execute_result",
          "data": {
            "text/plain": [
              "title\n",
              "Star Wars (1977)             584\n",
              "Contact (1997)               509\n",
              "Fargo (1996)                 508\n",
              "Return of the Jedi (1983)    507\n",
              "Liar Liar (1997)             485\n",
              "Name: rating, dtype: int64"
            ]
          },
          "metadata": {
            "tags": []
          },
          "execution_count": 33
        }
      ]
    },
    {
      "metadata": {
        "id": "IlkzU4831TJr",
        "colab_type": "code",
        "outputId": "9aac6248-d846-45ac-aeb6-a4149d7bb7f7",
        "colab": {
          "base_uri": "https://localhost:8080/",
          "height": 34
        }
      },
      "cell_type": "code",
      "source": [
        "rating_count.shape"
      ],
      "execution_count": 0,
      "outputs": [
        {
          "output_type": "execute_result",
          "data": {
            "text/plain": [
              "(1664,)"
            ]
          },
          "metadata": {
            "tags": []
          },
          "execution_count": 35
        }
      ]
    },
    {
      "metadata": {
        "id": "UU4ppqm-wCy9",
        "colab_type": "code",
        "outputId": "0ee6b89a-b559-4ef4-ff12-a518e5d70190",
        "colab": {
          "base_uri": "https://localhost:8080/",
          "height": 235
        }
      },
      "cell_type": "code",
      "source": [
        "ratings = pd.DataFrame(rating_mean)\n",
        "ratings.head()"
      ],
      "execution_count": 0,
      "outputs": [
        {
          "output_type": "execute_result",
          "data": {
            "text/html": [
              "<div>\n",
              "<style scoped>\n",
              "    .dataframe tbody tr th:only-of-type {\n",
              "        vertical-align: middle;\n",
              "    }\n",
              "\n",
              "    .dataframe tbody tr th {\n",
              "        vertical-align: top;\n",
              "    }\n",
              "\n",
              "    .dataframe thead th {\n",
              "        text-align: right;\n",
              "    }\n",
              "</style>\n",
              "<table border=\"1\" class=\"dataframe\">\n",
              "  <thead>\n",
              "    <tr style=\"text-align: right;\">\n",
              "      <th></th>\n",
              "      <th>rating</th>\n",
              "    </tr>\n",
              "    <tr>\n",
              "      <th>title</th>\n",
              "      <th></th>\n",
              "    </tr>\n",
              "  </thead>\n",
              "  <tbody>\n",
              "    <tr>\n",
              "      <th>'Til There Was You (1997)</th>\n",
              "      <td>2.333333</td>\n",
              "    </tr>\n",
              "    <tr>\n",
              "      <th>1-900 (1994)</th>\n",
              "      <td>2.600000</td>\n",
              "    </tr>\n",
              "    <tr>\n",
              "      <th>101 Dalmatians (1996)</th>\n",
              "      <td>2.908257</td>\n",
              "    </tr>\n",
              "    <tr>\n",
              "      <th>12 Angry Men (1957)</th>\n",
              "      <td>4.344000</td>\n",
              "    </tr>\n",
              "    <tr>\n",
              "      <th>187 (1997)</th>\n",
              "      <td>3.024390</td>\n",
              "    </tr>\n",
              "  </tbody>\n",
              "</table>\n",
              "</div>"
            ],
            "text/plain": [
              "                             rating\n",
              "title                              \n",
              "'Til There Was You (1997)  2.333333\n",
              "1-900 (1994)               2.600000\n",
              "101 Dalmatians (1996)      2.908257\n",
              "12 Angry Men (1957)        4.344000\n",
              "187 (1997)                 3.024390"
            ]
          },
          "metadata": {
            "tags": []
          },
          "execution_count": 36
        }
      ]
    },
    {
      "metadata": {
        "id": "DRERTMzjwCzC",
        "colab_type": "text"
      },
      "cell_type": "markdown",
      "source": [
        "**Now set the number of ratings column:**"
      ]
    },
    {
      "metadata": {
        "id": "q0FMDNEE1evG",
        "colab_type": "code",
        "outputId": "60800341-ce41-4407-b886-22126f23c587",
        "colab": {
          "base_uri": "https://localhost:8080/",
          "height": 235
        }
      },
      "cell_type": "code",
      "source": [
        "ratings['num of ratings'] = pd.DataFrame(rating_count)\n",
        "ratings.head()"
      ],
      "execution_count": 0,
      "outputs": [
        {
          "output_type": "execute_result",
          "data": {
            "text/html": [
              "<div>\n",
              "<style scoped>\n",
              "    .dataframe tbody tr th:only-of-type {\n",
              "        vertical-align: middle;\n",
              "    }\n",
              "\n",
              "    .dataframe tbody tr th {\n",
              "        vertical-align: top;\n",
              "    }\n",
              "\n",
              "    .dataframe thead th {\n",
              "        text-align: right;\n",
              "    }\n",
              "</style>\n",
              "<table border=\"1\" class=\"dataframe\">\n",
              "  <thead>\n",
              "    <tr style=\"text-align: right;\">\n",
              "      <th></th>\n",
              "      <th>rating</th>\n",
              "      <th>num of ratings</th>\n",
              "    </tr>\n",
              "    <tr>\n",
              "      <th>title</th>\n",
              "      <th></th>\n",
              "      <th></th>\n",
              "    </tr>\n",
              "  </thead>\n",
              "  <tbody>\n",
              "    <tr>\n",
              "      <th>'Til There Was You (1997)</th>\n",
              "      <td>2.333333</td>\n",
              "      <td>9</td>\n",
              "    </tr>\n",
              "    <tr>\n",
              "      <th>1-900 (1994)</th>\n",
              "      <td>2.600000</td>\n",
              "      <td>5</td>\n",
              "    </tr>\n",
              "    <tr>\n",
              "      <th>101 Dalmatians (1996)</th>\n",
              "      <td>2.908257</td>\n",
              "      <td>109</td>\n",
              "    </tr>\n",
              "    <tr>\n",
              "      <th>12 Angry Men (1957)</th>\n",
              "      <td>4.344000</td>\n",
              "      <td>125</td>\n",
              "    </tr>\n",
              "    <tr>\n",
              "      <th>187 (1997)</th>\n",
              "      <td>3.024390</td>\n",
              "      <td>41</td>\n",
              "    </tr>\n",
              "  </tbody>\n",
              "</table>\n",
              "</div>"
            ],
            "text/plain": [
              "                             rating  num of ratings\n",
              "title                                              \n",
              "'Til There Was You (1997)  2.333333               9\n",
              "1-900 (1994)               2.600000               5\n",
              "101 Dalmatians (1996)      2.908257             109\n",
              "12 Angry Men (1957)        4.344000             125\n",
              "187 (1997)                 3.024390              41"
            ]
          },
          "metadata": {
            "tags": []
          },
          "execution_count": 37
        }
      ]
    },
    {
      "metadata": {
        "id": "0DUEIhz41p6Y",
        "colab_type": "text"
      },
      "cell_type": "markdown",
      "source": [
        "## Plots"
      ]
    },
    {
      "metadata": {
        "id": "Rk9ea_FwwCzJ",
        "colab_type": "text"
      },
      "cell_type": "markdown",
      "source": [
        "**Now a few histograms:**"
      ]
    },
    {
      "metadata": {
        "id": "XVMe-Y-hwCzK",
        "colab_type": "code",
        "outputId": "06e45b0b-17ff-4c51-9ab3-a9877dd32b54",
        "colab": {
          "base_uri": "https://localhost:8080/",
          "height": 282
        }
      },
      "cell_type": "code",
      "source": [
        "plt.figure(figsize=(10,4))\n",
        "ratings['num of ratings'].hist(bins=70)"
      ],
      "execution_count": 0,
      "outputs": [
        {
          "output_type": "execute_result",
          "data": {
            "text/plain": [
              "<matplotlib.axes._subplots.AxesSubplot at 0x7fd8f6bc3898>"
            ]
          },
          "metadata": {
            "tags": []
          },
          "execution_count": 38
        },
        {
          "output_type": "display_data",
          "data": {
            "image/png": "[encoded data removed]",
            "text/plain": [
              "<matplotlib.figure.Figure at 0x7fd8f6bc3a58>"
            ]
          },
          "metadata": {
            "tags": []
          }
        }
      ]
    },
    {
      "metadata": {
        "id": "jlmP1TxSwCzQ",
        "colab_type": "code",
        "outputId": "b3ce2465-b008-46ad-cdd2-10af0cb23f75",
        "colab": {
          "base_uri": "https://localhost:8080/",
          "height": 282
        }
      },
      "cell_type": "code",
      "source": [
        "plt.figure(figsize=(10,4))\n",
        "ratings['rating'].hist(bins=70)"
      ],
      "execution_count": 0,
      "outputs": [
        {
          "output_type": "execute_result",
          "data": {
            "text/plain": [
              "<matplotlib.axes._subplots.AxesSubplot at 0x7fd8f6bc3d30>"
            ]
          },
          "metadata": {
            "tags": []
          },
          "execution_count": 39
        },
        {
          "output_type": "display_data",
          "data": {
            "image/png": "[encoded data removed]",
            "text/plain": [
              "<matplotlib.figure.Figure at 0x7fd8f6b7a358>"
            ]
          },
          "metadata": {
            "tags": []
          }
        }
      ]
    },
    {
      "metadata": {
        "id": "nbMcL37PwCzX",
        "colab_type": "code",
        "outputId": "addf47ea-62e1-48d1-fe5c-c2972db371c1",
        "colab": {
          "base_uri": "https://localhost:8080/",
          "height": 458
        }
      },
      "cell_type": "code",
      "source": [
        "sns.jointplot(x='rating',y='num of ratings',data=ratings,alpha=0.5)"
      ],
      "execution_count": 0,
      "outputs": [
        {
          "output_type": "execute_result",
          "data": {
            "text/plain": [
              "<seaborn.axisgrid.JointGrid at 0x7fd8f422d748>"
            ]
          },
          "metadata": {
            "tags": []
          },
          "execution_count": 40
        },
        {
          "output_type": "display_data",
          "data": {
            "image/png": "[encoded data removed]",
            "text/plain": [
              "<matplotlib.figure.Figure at 0x7fd8f422d518>"
            ]
          },
          "metadata": {
            "tags": []
          }
        }
      ]
    },
    {
      "metadata": {
        "id": "VHr_oUGGwCzh",
        "colab_type": "text"
      },
      "cell_type": "markdown",
      "source": [
        "**Okay! Now that we have a general idea of what the data looks like, let's move on to creating a simple recommendation system:**"
      ]
    },
    {
      "metadata": {
        "id": "GAKLTp7XwCzi",
        "colab_type": "text"
      },
      "cell_type": "markdown",
      "source": [
        "## Recommending Similar Movies"
      ]
    },
    {
      "metadata": {
        "id": "9GgDe8tvwCzn",
        "colab_type": "text"
      },
      "cell_type": "markdown",
      "source": [
        "Now let's create a matrix that has the user ids on one access and the movie title on another axis. Each cell will then consist of the rating the user gave to that movie. Note there will be a lot of NaN values, because most people have not seen most of the movies."
      ]
    },
    {
      "metadata": {
        "id": "NnKSa8t-wCzq",
        "colab_type": "code",
        "outputId": "ece3d958-e7cf-46c8-8954-294f800a6064",
        "colab": {
          "base_uri": "https://localhost:8080/",
          "height": 386
        }
      },
      "cell_type": "code",
      "source": [
        "moviemat = df.pivot_table(index='user_id',columns='title',values='rating')\n",
        "moviemat.head()"
      ],
      "execution_count": 0,
      "outputs": [
        {
          "output_type": "execute_result",
          "data": {
            "text/html": [
              "<div>\n",
              "<style scoped>\n",
              "    .dataframe tbody tr th:only-of-type {\n",
              "        vertical-align: middle;\n",
              "    }\n",
              "\n",
              "    .dataframe tbody tr th {\n",
              "        vertical-align: top;\n",
              "    }\n",
              "\n",
              "    .dataframe thead th {\n",
              "        text-align: right;\n",
              "    }\n",
              "</style>\n",
              "<table border=\"1\" class=\"dataframe\">\n",
              "  <thead>\n",
              "    <tr style=\"text-align: right;\">\n",
              "      <th>title</th>\n",
              "      <th>'Til There Was You (1997)</th>\n",
              "      <th>1-900 (1994)</th>\n",
              "      <th>101 Dalmatians (1996)</th>\n",
              "      <th>12 Angry Men (1957)</th>\n",
              "      <th>187 (1997)</th>\n",
              "      <th>2 Days in the Valley (1996)</th>\n",
              "      <th>20,000 Leagues Under the Sea (1954)</th>\n",
              "      <th>2001: A Space Odyssey (1968)</th>\n",
              "      <th>3 Ninjas: High Noon At Mega Mountain (1998)</th>\n",
              "      <th>39 Steps, The (1935)</th>\n",
              "      <th>...</th>\n",
              "      <th>Yankee Zulu (1994)</th>\n",
              "      <th>Year of the Horse (1997)</th>\n",
              "      <th>You So Crazy (1994)</th>\n",
              "      <th>Young Frankenstein (1974)</th>\n",
              "      <th>Young Guns (1988)</th>\n",
              "      <th>Young Guns II (1990)</th>\n",
              "      <th>Young Poisoner's Handbook, The (1995)</th>\n",
              "      <th>Zeus and Roxanne (1997)</th>\n",
              "      <th>unknown</th>\n",
              "      <th>Á köldum klaka (Cold Fever) (1994)</th>\n",
              "    </tr>\n",
              "    <tr>\n",
              "      <th>user_id</th>\n",
              "      <th></th>\n",
              "      <th></th>\n",
              "      <th></th>\n",
              "      <th></th>\n",
              "      <th></th>\n",
              "      <th></th>\n",
              "      <th></th>\n",
              "      <th></th>\n",
              "      <th></th>\n",
              "      <th></th>\n",
              "      <th></th>\n",
              "      <th></th>\n",
              "      <th></th>\n",
              "      <th></th>\n",
              "      <th></th>\n",
              "      <th></th>\n",
              "      <th></th>\n",
              "      <th></th>\n",
              "      <th></th>\n",
              "      <th></th>\n",
              "      <th></th>\n",
              "    </tr>\n",
              "  </thead>\n",
              "  <tbody>\n",
              "    <tr>\n",
              "      <th>0</th>\n",
              "      <td>NaN</td>\n",
              "      <td>NaN</td>\n",
              "      <td>NaN</td>\n",
              "      <td>NaN</td>\n",
              "      <td>NaN</td>\n",
              "      <td>NaN</td>\n",
              "      <td>NaN</td>\n",
              "      <td>NaN</td>\n",
              "      <td>NaN</td>\n",
              "      <td>NaN</td>\n",
              "      <td>...</td>\n",
              "      <td>NaN</td>\n",
              "      <td>NaN</td>\n",
              "      <td>NaN</td>\n",
              "      <td>NaN</td>\n",
              "      <td>NaN</td>\n",
              "      <td>NaN</td>\n",
              "      <td>NaN</td>\n",
              "      <td>NaN</td>\n",
              "      <td>NaN</td>\n",
              "      <td>NaN</td>\n",
              "    </tr>\n",
              "    <tr>\n",
              "      <th>1</th>\n",
              "      <td>NaN</td>\n",
              "      <td>NaN</td>\n",
              "      <td>2.0</td>\n",
              "      <td>5.0</td>\n",
              "      <td>NaN</td>\n",
              "      <td>NaN</td>\n",
              "      <td>3.0</td>\n",
              "      <td>4.0</td>\n",
              "      <td>NaN</td>\n",
              "      <td>NaN</td>\n",
              "      <td>...</td>\n",
              "      <td>NaN</td>\n",
              "      <td>NaN</td>\n",
              "      <td>NaN</td>\n",
              "      <td>5.0</td>\n",
              "      <td>3.0</td>\n",
              "      <td>NaN</td>\n",
              "      <td>NaN</td>\n",
              "      <td>NaN</td>\n",
              "      <td>4.0</td>\n",
              "      <td>NaN</td>\n",
              "    </tr>\n",
              "    <tr>\n",
              "      <th>2</th>\n",
              "      <td>NaN</td>\n",
              "      <td>NaN</td>\n",
              "      <td>NaN</td>\n",
              "      <td>NaN</td>\n",
              "      <td>NaN</td>\n",
              "      <td>NaN</td>\n",
              "      <td>NaN</td>\n",
              "      <td>NaN</td>\n",
              "      <td>1.0</td>\n",
              "      <td>NaN</td>\n",
              "      <td>...</td>\n",
              "      <td>NaN</td>\n",
              "      <td>NaN</td>\n",
              "      <td>NaN</td>\n",
              "      <td>NaN</td>\n",
              "      <td>NaN</td>\n",
              "      <td>NaN</td>\n",
              "      <td>NaN</td>\n",
              "      <td>NaN</td>\n",
              "      <td>NaN</td>\n",
              "      <td>NaN</td>\n",
              "    </tr>\n",
              "    <tr>\n",
              "      <th>3</th>\n",
              "      <td>NaN</td>\n",
              "      <td>NaN</td>\n",
              "      <td>NaN</td>\n",
              "      <td>NaN</td>\n",
              "      <td>2.0</td>\n",
              "      <td>NaN</td>\n",
              "      <td>NaN</td>\n",
              "      <td>NaN</td>\n",
              "      <td>NaN</td>\n",
              "      <td>NaN</td>\n",
              "      <td>...</td>\n",
              "      <td>NaN</td>\n",
              "      <td>NaN</td>\n",
              "      <td>NaN</td>\n",
              "      <td>NaN</td>\n",
              "      <td>NaN</td>\n",
              "      <td>NaN</td>\n",
              "      <td>NaN</td>\n",
              "      <td>NaN</td>\n",
              "      <td>NaN</td>\n",
              "      <td>NaN</td>\n",
              "    </tr>\n",
              "    <tr>\n",
              "      <th>4</th>\n",
              "      <td>NaN</td>\n",
              "      <td>NaN</td>\n",
              "      <td>NaN</td>\n",
              "      <td>NaN</td>\n",
              "      <td>NaN</td>\n",
              "      <td>NaN</td>\n",
              "      <td>NaN</td>\n",
              "      <td>NaN</td>\n",
              "      <td>NaN</td>\n",
              "      <td>NaN</td>\n",
              "      <td>...</td>\n",
              "      <td>NaN</td>\n",
              "      <td>NaN</td>\n",
              "      <td>NaN</td>\n",
              "      <td>NaN</td>\n",
              "      <td>NaN</td>\n",
              "      <td>NaN</td>\n",
              "      <td>NaN</td>\n",
              "      <td>NaN</td>\n",
              "      <td>NaN</td>\n",
              "      <td>NaN</td>\n",
              "    </tr>\n",
              "  </tbody>\n",
              "</table>\n",
              "<p>5 rows × 1664 columns</p>\n",
              "</div>"
            ],
            "text/plain": [
              "title    'Til There Was You (1997)  1-900 (1994)  101 Dalmatians (1996)  \\\n",
              "user_id                                                                   \n",
              "0                              NaN           NaN                    NaN   \n",
              "1                              NaN           NaN                    2.0   \n",
              "2                              NaN           NaN                    NaN   \n",
              "3                              NaN           NaN                    NaN   \n",
              "4                              NaN           NaN                    NaN   \n",
              "\n",
              "title    12 Angry Men (1957)  187 (1997)  2 Days in the Valley (1996)  \\\n",
              "user_id                                                                 \n",
              "0                        NaN         NaN                          NaN   \n",
              "1                        5.0         NaN                          NaN   \n",
              "2                        NaN         NaN                          NaN   \n",
              "3                        NaN         2.0                          NaN   \n",
              "4                        NaN         NaN                          NaN   \n",
              "\n",
              "title    20,000 Leagues Under the Sea (1954)  2001: A Space Odyssey (1968)  \\\n",
              "user_id                                                                      \n",
              "0                                        NaN                           NaN   \n",
              "1                                        3.0                           4.0   \n",
              "2                                        NaN                           NaN   \n",
              "3                                        NaN                           NaN   \n",
              "4                                        NaN                           NaN   \n",
              "\n",
              "title    3 Ninjas: High Noon At Mega Mountain (1998)  39 Steps, The (1935)  \\\n",
              "user_id                                                                      \n",
              "0                                                NaN                   NaN   \n",
              "1                                                NaN                   NaN   \n",
              "2                                                1.0                   NaN   \n",
              "3                                                NaN                   NaN   \n",
              "4                                                NaN                   NaN   \n",
              "\n",
              "title                   ...                  Yankee Zulu (1994)  \\\n",
              "user_id                 ...                                       \n",
              "0                       ...                                 NaN   \n",
              "1                       ...                                 NaN   \n",
              "2                       ...                                 NaN   \n",
              "3                       ...                                 NaN   \n",
              "4                       ...                                 NaN   \n",
              "\n",
              "title    Year of the Horse (1997)  You So Crazy (1994)  \\\n",
              "user_id                                                  \n",
              "0                             NaN                  NaN   \n",
              "1                             NaN                  NaN   \n",
              "2                             NaN                  NaN   \n",
              "3                             NaN                  NaN   \n",
              "4                             NaN                  NaN   \n",
              "\n",
              "title    Young Frankenstein (1974)  Young Guns (1988)  Young Guns II (1990)  \\\n",
              "user_id                                                                       \n",
              "0                              NaN                NaN                   NaN   \n",
              "1                              5.0                3.0                   NaN   \n",
              "2                              NaN                NaN                   NaN   \n",
              "3                              NaN                NaN                   NaN   \n",
              "4                              NaN                NaN                   NaN   \n",
              "\n",
              "title    Young Poisoner's Handbook, The (1995)  Zeus and Roxanne (1997)  \\\n",
              "user_id                                                                   \n",
              "0                                          NaN                      NaN   \n",
              "1                                          NaN                      NaN   \n",
              "2                                          NaN                      NaN   \n",
              "3                                          NaN                      NaN   \n",
              "4                                          NaN                      NaN   \n",
              "\n",
              "title    unknown  Á köldum klaka (Cold Fever) (1994)  \n",
              "user_id                                               \n",
              "0            NaN                                 NaN  \n",
              "1            4.0                                 NaN  \n",
              "2            NaN                                 NaN  \n",
              "3            NaN                                 NaN  \n",
              "4            NaN                                 NaN  \n",
              "\n",
              "[5 rows x 1664 columns]"
            ]
          },
          "metadata": {
            "tags": []
          },
          "execution_count": 42
        }
      ]
    },
    {
      "metadata": {
        "id": "FcGjJ46C3IuX",
        "colab_type": "code",
        "outputId": "96c8de74-5df4-44d1-df4b-f89db18210d9",
        "colab": {
          "base_uri": "https://localhost:8080/",
          "height": 34
        }
      },
      "cell_type": "code",
      "source": [
        "moviemat.shape"
      ],
      "execution_count": 0,
      "outputs": [
        {
          "output_type": "execute_result",
          "data": {
            "text/plain": [
              "(944, 1664)"
            ]
          },
          "metadata": {
            "tags": []
          },
          "execution_count": 44
        }
      ]
    },
    {
      "metadata": {
        "id": "oW7dY4A4wCzw",
        "colab_type": "text"
      },
      "cell_type": "markdown",
      "source": [
        "**Most rated movie:**"
      ]
    },
    {
      "metadata": {
        "id": "8Xq99v5ZwCzx",
        "colab_type": "code",
        "outputId": "02c40459-30c2-4ef3-d7fb-ff969aabc92c",
        "colab": {
          "base_uri": "https://localhost:8080/",
          "height": 390
        }
      },
      "cell_type": "code",
      "source": [
        "ratings.sort_values('num of ratings',ascending=False).head(10)"
      ],
      "execution_count": 0,
      "outputs": [
        {
          "output_type": "execute_result",
          "data": {
            "text/html": [
              "<div>\n",
              "<style scoped>\n",
              "    .dataframe tbody tr th:only-of-type {\n",
              "        vertical-align: middle;\n",
              "    }\n",
              "\n",
              "    .dataframe tbody tr th {\n",
              "        vertical-align: top;\n",
              "    }\n",
              "\n",
              "    .dataframe thead th {\n",
              "        text-align: right;\n",
              "    }\n",
              "</style>\n",
              "<table border=\"1\" class=\"dataframe\">\n",
              "  <thead>\n",
              "    <tr style=\"text-align: right;\">\n",
              "      <th></th>\n",
              "      <th>rating</th>\n",
              "      <th>num of ratings</th>\n",
              "    </tr>\n",
              "    <tr>\n",
              "      <th>title</th>\n",
              "      <th></th>\n",
              "      <th></th>\n",
              "    </tr>\n",
              "  </thead>\n",
              "  <tbody>\n",
              "    <tr>\n",
              "      <th>Star Wars (1977)</th>\n",
              "      <td>4.359589</td>\n",
              "      <td>584</td>\n",
              "    </tr>\n",
              "    <tr>\n",
              "      <th>Contact (1997)</th>\n",
              "      <td>3.803536</td>\n",
              "      <td>509</td>\n",
              "    </tr>\n",
              "    <tr>\n",
              "      <th>Fargo (1996)</th>\n",
              "      <td>4.155512</td>\n",
              "      <td>508</td>\n",
              "    </tr>\n",
              "    <tr>\n",
              "      <th>Return of the Jedi (1983)</th>\n",
              "      <td>4.007890</td>\n",
              "      <td>507</td>\n",
              "    </tr>\n",
              "    <tr>\n",
              "      <th>Liar Liar (1997)</th>\n",
              "      <td>3.156701</td>\n",
              "      <td>485</td>\n",
              "    </tr>\n",
              "    <tr>\n",
              "      <th>English Patient, The (1996)</th>\n",
              "      <td>3.656965</td>\n",
              "      <td>481</td>\n",
              "    </tr>\n",
              "    <tr>\n",
              "      <th>Scream (1996)</th>\n",
              "      <td>3.441423</td>\n",
              "      <td>478</td>\n",
              "    </tr>\n",
              "    <tr>\n",
              "      <th>Toy Story (1995)</th>\n",
              "      <td>3.878319</td>\n",
              "      <td>452</td>\n",
              "    </tr>\n",
              "    <tr>\n",
              "      <th>Air Force One (1997)</th>\n",
              "      <td>3.631090</td>\n",
              "      <td>431</td>\n",
              "    </tr>\n",
              "    <tr>\n",
              "      <th>Independence Day (ID4) (1996)</th>\n",
              "      <td>3.438228</td>\n",
              "      <td>429</td>\n",
              "    </tr>\n",
              "  </tbody>\n",
              "</table>\n",
              "</div>"
            ],
            "text/plain": [
              "                                 rating  num of ratings\n",
              "title                                                  \n",
              "Star Wars (1977)               4.359589             584\n",
              "Contact (1997)                 3.803536             509\n",
              "Fargo (1996)                   4.155512             508\n",
              "Return of the Jedi (1983)      4.007890             507\n",
              "Liar Liar (1997)               3.156701             485\n",
              "English Patient, The (1996)    3.656965             481\n",
              "Scream (1996)                  3.441423             478\n",
              "Toy Story (1995)               3.878319             452\n",
              "Air Force One (1997)           3.631090             431\n",
              "Independence Day (ID4) (1996)  3.438228             429"
            ]
          },
          "metadata": {
            "tags": []
          },
          "execution_count": 43
        }
      ]
    },
    {
      "metadata": {
        "id": "XuzrmlFWwCz1",
        "colab_type": "text"
      },
      "cell_type": "markdown",
      "source": [
        "Let's choose two movies: starwars, a sci-fi movie. And Liar Liar, a comedy."
      ]
    },
    {
      "metadata": {
        "id": "-gwdr1RkwCz3",
        "colab_type": "code",
        "outputId": "cf52844f-b82c-4b84-9dc4-7183b316e19f",
        "colab": {
          "base_uri": "https://localhost:8080/",
          "height": 235
        }
      },
      "cell_type": "code",
      "source": [
        "ratings.head()"
      ],
      "execution_count": 0,
      "outputs": [
        {
          "output_type": "execute_result",
          "data": {
            "text/html": [
              "<div>\n",
              "<style scoped>\n",
              "    .dataframe tbody tr th:only-of-type {\n",
              "        vertical-align: middle;\n",
              "    }\n",
              "\n",
              "    .dataframe tbody tr th {\n",
              "        vertical-align: top;\n",
              "    }\n",
              "\n",
              "    .dataframe thead th {\n",
              "        text-align: right;\n",
              "    }\n",
              "</style>\n",
              "<table border=\"1\" class=\"dataframe\">\n",
              "  <thead>\n",
              "    <tr style=\"text-align: right;\">\n",
              "      <th></th>\n",
              "      <th>rating</th>\n",
              "      <th>num of ratings</th>\n",
              "    </tr>\n",
              "    <tr>\n",
              "      <th>title</th>\n",
              "      <th></th>\n",
              "      <th></th>\n",
              "    </tr>\n",
              "  </thead>\n",
              "  <tbody>\n",
              "    <tr>\n",
              "      <th>'Til There Was You (1997)</th>\n",
              "      <td>2.333333</td>\n",
              "      <td>9</td>\n",
              "    </tr>\n",
              "    <tr>\n",
              "      <th>1-900 (1994)</th>\n",
              "      <td>2.600000</td>\n",
              "      <td>5</td>\n",
              "    </tr>\n",
              "    <tr>\n",
              "      <th>101 Dalmatians (1996)</th>\n",
              "      <td>2.908257</td>\n",
              "      <td>109</td>\n",
              "    </tr>\n",
              "    <tr>\n",
              "      <th>12 Angry Men (1957)</th>\n",
              "      <td>4.344000</td>\n",
              "      <td>125</td>\n",
              "    </tr>\n",
              "    <tr>\n",
              "      <th>187 (1997)</th>\n",
              "      <td>3.024390</td>\n",
              "      <td>41</td>\n",
              "    </tr>\n",
              "  </tbody>\n",
              "</table>\n",
              "</div>"
            ],
            "text/plain": [
              "                             rating  num of ratings\n",
              "title                                              \n",
              "'Til There Was You (1997)  2.333333               9\n",
              "1-900 (1994)               2.600000               5\n",
              "101 Dalmatians (1996)      2.908257             109\n",
              "12 Angry Men (1957)        4.344000             125\n",
              "187 (1997)                 3.024390              41"
            ]
          },
          "metadata": {
            "tags": []
          },
          "execution_count": 45
        }
      ]
    },
    {
      "metadata": {
        "id": "lY0z0BIRwCz8",
        "colab_type": "text"
      },
      "cell_type": "markdown",
      "source": [
        "**Now let's grab the user ratings for those two movies:**"
      ]
    },
    {
      "metadata": {
        "id": "9ZiI7nKlwCz8",
        "colab_type": "code",
        "outputId": "3383f8b8-a118-4909-b53d-ddd6c01ad1ae",
        "colab": {
          "base_uri": "https://localhost:8080/",
          "height": 136
        }
      },
      "cell_type": "code",
      "source": [
        "starwars_user_ratings = moviemat['Star Wars (1977)']\n",
        "liarliar_user_ratings = moviemat['Liar Liar (1997)']\n",
        "starwars_user_ratings.head()"
      ],
      "execution_count": 0,
      "outputs": [
        {
          "output_type": "execute_result",
          "data": {
            "text/plain": [
              "user_id\n",
              "0    5.0\n",
              "1    5.0\n",
              "2    5.0\n",
              "3    NaN\n",
              "4    5.0\n",
              "Name: Star Wars (1977), dtype: float64"
            ]
          },
          "metadata": {
            "tags": []
          },
          "execution_count": 46
        }
      ]
    },
    {
      "metadata": {
        "id": "i7LQDXCx3mLH",
        "colab_type": "code",
        "outputId": "f77bbc99-6696-47a5-82b8-2efe6007c69d",
        "colab": {
          "base_uri": "https://localhost:8080/",
          "height": 34
        }
      },
      "cell_type": "code",
      "source": [
        "starwars_user_ratings.shape, liarliar_user_ratings.shape"
      ],
      "execution_count": 0,
      "outputs": [
        {
          "output_type": "execute_result",
          "data": {
            "text/plain": [
              "((944,), (944,))"
            ]
          },
          "metadata": {
            "tags": []
          },
          "execution_count": 48
        }
      ]
    },
    {
      "metadata": {
        "id": "JL0STELzwC0B",
        "colab_type": "text"
      },
      "cell_type": "markdown",
      "source": [
        "We can then use **corrwith()** method to get correlations between two pandas series:"
      ]
    },
    {
      "metadata": {
        "id": "23VRf9Mb37Ah",
        "colab_type": "code",
        "outputId": "f7498fa5-28e8-4e34-c0ab-73a10219c621",
        "colab": {
          "base_uri": "https://localhost:8080/",
          "height": 293
        }
      },
      "cell_type": "code",
      "source": [
        "moviemat.head(2)"
      ],
      "execution_count": 0,
      "outputs": [
        {
          "output_type": "execute_result",
          "data": {
            "text/html": [
              "<div>\n",
              "<style scoped>\n",
              "    .dataframe tbody tr th:only-of-type {\n",
              "        vertical-align: middle;\n",
              "    }\n",
              "\n",
              "    .dataframe tbody tr th {\n",
              "        vertical-align: top;\n",
              "    }\n",
              "\n",
              "    .dataframe thead th {\n",
              "        text-align: right;\n",
              "    }\n",
              "</style>\n",
              "<table border=\"1\" class=\"dataframe\">\n",
              "  <thead>\n",
              "    <tr style=\"text-align: right;\">\n",
              "      <th>title</th>\n",
              "      <th>'Til There Was You (1997)</th>\n",
              "      <th>1-900 (1994)</th>\n",
              "      <th>101 Dalmatians (1996)</th>\n",
              "      <th>12 Angry Men (1957)</th>\n",
              "      <th>187 (1997)</th>\n",
              "      <th>2 Days in the Valley (1996)</th>\n",
              "      <th>20,000 Leagues Under the Sea (1954)</th>\n",
              "      <th>2001: A Space Odyssey (1968)</th>\n",
              "      <th>3 Ninjas: High Noon At Mega Mountain (1998)</th>\n",
              "      <th>39 Steps, The (1935)</th>\n",
              "      <th>...</th>\n",
              "      <th>Yankee Zulu (1994)</th>\n",
              "      <th>Year of the Horse (1997)</th>\n",
              "      <th>You So Crazy (1994)</th>\n",
              "      <th>Young Frankenstein (1974)</th>\n",
              "      <th>Young Guns (1988)</th>\n",
              "      <th>Young Guns II (1990)</th>\n",
              "      <th>Young Poisoner's Handbook, The (1995)</th>\n",
              "      <th>Zeus and Roxanne (1997)</th>\n",
              "      <th>unknown</th>\n",
              "      <th>Á köldum klaka (Cold Fever) (1994)</th>\n",
              "    </tr>\n",
              "    <tr>\n",
              "      <th>user_id</th>\n",
              "      <th></th>\n",
              "      <th></th>\n",
              "      <th></th>\n",
              "      <th></th>\n",
              "      <th></th>\n",
              "      <th></th>\n",
              "      <th></th>\n",
              "      <th></th>\n",
              "      <th></th>\n",
              "      <th></th>\n",
              "      <th></th>\n",
              "      <th></th>\n",
              "      <th></th>\n",
              "      <th></th>\n",
              "      <th></th>\n",
              "      <th></th>\n",
              "      <th></th>\n",
              "      <th></th>\n",
              "      <th></th>\n",
              "      <th></th>\n",
              "      <th></th>\n",
              "    </tr>\n",
              "  </thead>\n",
              "  <tbody>\n",
              "    <tr>\n",
              "      <th>0</th>\n",
              "      <td>NaN</td>\n",
              "      <td>NaN</td>\n",
              "      <td>NaN</td>\n",
              "      <td>NaN</td>\n",
              "      <td>NaN</td>\n",
              "      <td>NaN</td>\n",
              "      <td>NaN</td>\n",
              "      <td>NaN</td>\n",
              "      <td>NaN</td>\n",
              "      <td>NaN</td>\n",
              "      <td>...</td>\n",
              "      <td>NaN</td>\n",
              "      <td>NaN</td>\n",
              "      <td>NaN</td>\n",
              "      <td>NaN</td>\n",
              "      <td>NaN</td>\n",
              "      <td>NaN</td>\n",
              "      <td>NaN</td>\n",
              "      <td>NaN</td>\n",
              "      <td>NaN</td>\n",
              "      <td>NaN</td>\n",
              "    </tr>\n",
              "    <tr>\n",
              "      <th>1</th>\n",
              "      <td>NaN</td>\n",
              "      <td>NaN</td>\n",
              "      <td>2.0</td>\n",
              "      <td>5.0</td>\n",
              "      <td>NaN</td>\n",
              "      <td>NaN</td>\n",
              "      <td>3.0</td>\n",
              "      <td>4.0</td>\n",
              "      <td>NaN</td>\n",
              "      <td>NaN</td>\n",
              "      <td>...</td>\n",
              "      <td>NaN</td>\n",
              "      <td>NaN</td>\n",
              "      <td>NaN</td>\n",
              "      <td>5.0</td>\n",
              "      <td>3.0</td>\n",
              "      <td>NaN</td>\n",
              "      <td>NaN</td>\n",
              "      <td>NaN</td>\n",
              "      <td>4.0</td>\n",
              "      <td>NaN</td>\n",
              "    </tr>\n",
              "  </tbody>\n",
              "</table>\n",
              "<p>2 rows × 1664 columns</p>\n",
              "</div>"
            ],
            "text/plain": [
              "title    'Til There Was You (1997)  1-900 (1994)  101 Dalmatians (1996)  \\\n",
              "user_id                                                                   \n",
              "0                              NaN           NaN                    NaN   \n",
              "1                              NaN           NaN                    2.0   \n",
              "\n",
              "title    12 Angry Men (1957)  187 (1997)  2 Days in the Valley (1996)  \\\n",
              "user_id                                                                 \n",
              "0                        NaN         NaN                          NaN   \n",
              "1                        5.0         NaN                          NaN   \n",
              "\n",
              "title    20,000 Leagues Under the Sea (1954)  2001: A Space Odyssey (1968)  \\\n",
              "user_id                                                                      \n",
              "0                                        NaN                           NaN   \n",
              "1                                        3.0                           4.0   \n",
              "\n",
              "title    3 Ninjas: High Noon At Mega Mountain (1998)  39 Steps, The (1935)  \\\n",
              "user_id                                                                      \n",
              "0                                                NaN                   NaN   \n",
              "1                                                NaN                   NaN   \n",
              "\n",
              "title                   ...                  Yankee Zulu (1994)  \\\n",
              "user_id                 ...                                       \n",
              "0                       ...                                 NaN   \n",
              "1                       ...                                 NaN   \n",
              "\n",
              "title    Year of the Horse (1997)  You So Crazy (1994)  \\\n",
              "user_id                                                  \n",
              "0                             NaN                  NaN   \n",
              "1                             NaN                  NaN   \n",
              "\n",
              "title    Young Frankenstein (1974)  Young Guns (1988)  Young Guns II (1990)  \\\n",
              "user_id                                                                       \n",
              "0                              NaN                NaN                   NaN   \n",
              "1                              5.0                3.0                   NaN   \n",
              "\n",
              "title    Young Poisoner's Handbook, The (1995)  Zeus and Roxanne (1997)  \\\n",
              "user_id                                                                   \n",
              "0                                          NaN                      NaN   \n",
              "1                                          NaN                      NaN   \n",
              "\n",
              "title    unknown  Á köldum klaka (Cold Fever) (1994)  \n",
              "user_id                                               \n",
              "0            NaN                                 NaN  \n",
              "1            4.0                                 NaN  \n",
              "\n",
              "[2 rows x 1664 columns]"
            ]
          },
          "metadata": {
            "tags": []
          },
          "execution_count": 49
        }
      ]
    },
    {
      "metadata": {
        "id": "BE6zU4G559mq",
        "colab_type": "code",
        "colab": {}
      },
      "cell_type": "code",
      "source": [
        "import warnings\n",
        "warnings.filterwarnings('ignore')"
      ],
      "execution_count": 0,
      "outputs": []
    },
    {
      "metadata": {
        "id": "rki21xr6wC0B",
        "colab_type": "code",
        "outputId": "15f3f3a0-e17f-4dbe-aec8-42aa94ec53ad",
        "colab": {
          "base_uri": "https://localhost:8080/",
          "height": 34
        }
      },
      "cell_type": "code",
      "source": [
        "similar_to_starwars = moviemat.corrwith(starwars_user_ratings)\n",
        "similar_to_liarliar = moviemat.corrwith(liarliar_user_ratings)\n",
        "similar_to_starwars.shape, similar_to_liarliar.shape"
      ],
      "execution_count": 0,
      "outputs": [
        {
          "output_type": "execute_result",
          "data": {
            "text/plain": [
              "((1664,), (1664,))"
            ]
          },
          "metadata": {
            "tags": []
          },
          "execution_count": 56
        }
      ]
    },
    {
      "metadata": {
        "id": "yCLJ8D5QwC0H",
        "colab_type": "text"
      },
      "cell_type": "markdown",
      "source": [
        "Let's clean this by removing **NaN** values and using a DataFrame instead of a series:"
      ]
    },
    {
      "metadata": {
        "id": "KGaNRtfVwC0I",
        "colab_type": "code",
        "outputId": "7c650b7b-58da-49cd-d970-5ea8d8dc6286",
        "colab": {
          "base_uri": "https://localhost:8080/",
          "height": 235
        }
      },
      "cell_type": "code",
      "source": [
        "corr_starwars = pd.DataFrame(similar_to_starwars,columns=['Correlation'])\n",
        "#corr_starwars.dropna(inplace=True)\n",
        "corr_starwars.head()"
      ],
      "execution_count": 0,
      "outputs": [
        {
          "output_type": "execute_result",
          "data": {
            "text/html": [
              "<div>\n",
              "<style scoped>\n",
              "    .dataframe tbody tr th:only-of-type {\n",
              "        vertical-align: middle;\n",
              "    }\n",
              "\n",
              "    .dataframe tbody tr th {\n",
              "        vertical-align: top;\n",
              "    }\n",
              "\n",
              "    .dataframe thead th {\n",
              "        text-align: right;\n",
              "    }\n",
              "</style>\n",
              "<table border=\"1\" class=\"dataframe\">\n",
              "  <thead>\n",
              "    <tr style=\"text-align: right;\">\n",
              "      <th></th>\n",
              "      <th>Correlation</th>\n",
              "    </tr>\n",
              "    <tr>\n",
              "      <th>title</th>\n",
              "      <th></th>\n",
              "    </tr>\n",
              "  </thead>\n",
              "  <tbody>\n",
              "    <tr>\n",
              "      <th>'Til There Was You (1997)</th>\n",
              "      <td>0.872872</td>\n",
              "    </tr>\n",
              "    <tr>\n",
              "      <th>1-900 (1994)</th>\n",
              "      <td>-0.645497</td>\n",
              "    </tr>\n",
              "    <tr>\n",
              "      <th>101 Dalmatians (1996)</th>\n",
              "      <td>0.211132</td>\n",
              "    </tr>\n",
              "    <tr>\n",
              "      <th>12 Angry Men (1957)</th>\n",
              "      <td>0.184289</td>\n",
              "    </tr>\n",
              "    <tr>\n",
              "      <th>187 (1997)</th>\n",
              "      <td>0.027398</td>\n",
              "    </tr>\n",
              "  </tbody>\n",
              "</table>\n",
              "</div>"
            ],
            "text/plain": [
              "                           Correlation\n",
              "title                                 \n",
              "'Til There Was You (1997)     0.872872\n",
              "1-900 (1994)                 -0.645497\n",
              "101 Dalmatians (1996)         0.211132\n",
              "12 Angry Men (1957)           0.184289\n",
              "187 (1997)                    0.027398"
            ]
          },
          "metadata": {
            "tags": []
          },
          "execution_count": 57
        }
      ]
    },
    {
      "metadata": {
        "id": "L5NhlkrC66On",
        "colab_type": "code",
        "outputId": "f496d500-35e3-4069-87e9-4337d9d6f04f",
        "colab": {
          "base_uri": "https://localhost:8080/",
          "height": 34
        }
      },
      "cell_type": "code",
      "source": [
        "corr_starwars.shape"
      ],
      "execution_count": 0,
      "outputs": [
        {
          "output_type": "execute_result",
          "data": {
            "text/plain": [
              "(1664, 1)"
            ]
          },
          "metadata": {
            "tags": []
          },
          "execution_count": 61
        }
      ]
    },
    {
      "metadata": {
        "id": "LxA7J2s16ncp",
        "colab_type": "code",
        "outputId": "9af18313-7dd8-4113-cca0-3c384444600c",
        "colab": {
          "base_uri": "https://localhost:8080/",
          "height": 173
        }
      },
      "cell_type": "code",
      "source": [
        "corr_starwars[corr_starwars.Correlation.isnull()].head(3)"
      ],
      "execution_count": 0,
      "outputs": [
        {
          "output_type": "execute_result",
          "data": {
            "text/html": [
              "<div>\n",
              "<style scoped>\n",
              "    .dataframe tbody tr th:only-of-type {\n",
              "        vertical-align: middle;\n",
              "    }\n",
              "\n",
              "    .dataframe tbody tr th {\n",
              "        vertical-align: top;\n",
              "    }\n",
              "\n",
              "    .dataframe thead th {\n",
              "        text-align: right;\n",
              "    }\n",
              "</style>\n",
              "<table border=\"1\" class=\"dataframe\">\n",
              "  <thead>\n",
              "    <tr style=\"text-align: right;\">\n",
              "      <th></th>\n",
              "      <th>Correlation</th>\n",
              "    </tr>\n",
              "    <tr>\n",
              "      <th>title</th>\n",
              "      <th></th>\n",
              "    </tr>\n",
              "  </thead>\n",
              "  <tbody>\n",
              "    <tr>\n",
              "      <th>3 Ninjas: High Noon At Mega Mountain (1998)</th>\n",
              "      <td>NaN</td>\n",
              "    </tr>\n",
              "    <tr>\n",
              "      <th>Aiqing wansui (1994)</th>\n",
              "      <td>NaN</td>\n",
              "    </tr>\n",
              "    <tr>\n",
              "      <th>All Over Me (1997)</th>\n",
              "      <td>NaN</td>\n",
              "    </tr>\n",
              "  </tbody>\n",
              "</table>\n",
              "</div>"
            ],
            "text/plain": [
              "                                             Correlation\n",
              "title                                                   \n",
              "3 Ninjas: High Noon At Mega Mountain (1998)          NaN\n",
              "Aiqing wansui (1994)                                 NaN\n",
              "All Over Me (1997)                                   NaN"
            ]
          },
          "metadata": {
            "tags": []
          },
          "execution_count": 63
        }
      ]
    },
    {
      "metadata": {
        "id": "qYz9BYQn62W7",
        "colab_type": "code",
        "outputId": "a4cfd20c-c10f-4266-f684-3110b05d5198",
        "colab": {
          "base_uri": "https://localhost:8080/",
          "height": 34
        }
      },
      "cell_type": "code",
      "source": [
        "corr_starwars[corr_starwars.Correlation.isnull()].shape"
      ],
      "execution_count": 0,
      "outputs": [
        {
          "output_type": "execute_result",
          "data": {
            "text/plain": [
              "(254, 1)"
            ]
          },
          "metadata": {
            "tags": []
          },
          "execution_count": 62
        }
      ]
    },
    {
      "metadata": {
        "id": "SkAJXYyF7HjN",
        "colab_type": "code",
        "outputId": "999aa754-7fc4-4741-cda7-f2e7a0ceca50",
        "colab": {
          "base_uri": "https://localhost:8080/",
          "height": 34
        }
      },
      "cell_type": "code",
      "source": [
        "corr_starwars.dropna(inplace = True)\n",
        "corr_starwars.shape"
      ],
      "execution_count": 0,
      "outputs": [
        {
          "output_type": "execute_result",
          "data": {
            "text/plain": [
              "(1410, 1)"
            ]
          },
          "metadata": {
            "tags": []
          },
          "execution_count": 64
        }
      ]
    },
    {
      "metadata": {
        "id": "dNrpRAANwC0P",
        "colab_type": "text"
      },
      "cell_type": "markdown",
      "source": [
        "Now if we **sort** the dataframe by **correlation**, we should get the **most similar movies**, however note that we get some results that don't really make sense. This is because there are a lot of movies only watched once by users who also watched star wars (it was the most popular movie). "
      ]
    },
    {
      "metadata": {
        "id": "ZqHBcjQkwC0R",
        "colab_type": "code",
        "outputId": "93d88446-baf0-4f10-d9e7-7a2a8d682614",
        "colab": {
          "base_uri": "https://localhost:8080/",
          "height": 390
        }
      },
      "cell_type": "code",
      "source": [
        "corr_starwars.sort_values('Correlation',ascending=False).head(10)"
      ],
      "execution_count": 0,
      "outputs": [
        {
          "output_type": "execute_result",
          "data": {
            "text/html": [
              "<div>\n",
              "<style scoped>\n",
              "    .dataframe tbody tr th:only-of-type {\n",
              "        vertical-align: middle;\n",
              "    }\n",
              "\n",
              "    .dataframe tbody tr th {\n",
              "        vertical-align: top;\n",
              "    }\n",
              "\n",
              "    .dataframe thead th {\n",
              "        text-align: right;\n",
              "    }\n",
              "</style>\n",
              "<table border=\"1\" class=\"dataframe\">\n",
              "  <thead>\n",
              "    <tr style=\"text-align: right;\">\n",
              "      <th></th>\n",
              "      <th>Correlation</th>\n",
              "    </tr>\n",
              "    <tr>\n",
              "      <th>title</th>\n",
              "      <th></th>\n",
              "    </tr>\n",
              "  </thead>\n",
              "  <tbody>\n",
              "    <tr>\n",
              "      <th>Hollow Reed (1996)</th>\n",
              "      <td>1.0</td>\n",
              "    </tr>\n",
              "    <tr>\n",
              "      <th>Commandments (1997)</th>\n",
              "      <td>1.0</td>\n",
              "    </tr>\n",
              "    <tr>\n",
              "      <th>Cosi (1996)</th>\n",
              "      <td>1.0</td>\n",
              "    </tr>\n",
              "    <tr>\n",
              "      <th>No Escape (1994)</th>\n",
              "      <td>1.0</td>\n",
              "    </tr>\n",
              "    <tr>\n",
              "      <th>Stripes (1981)</th>\n",
              "      <td>1.0</td>\n",
              "    </tr>\n",
              "    <tr>\n",
              "      <th>Star Wars (1977)</th>\n",
              "      <td>1.0</td>\n",
              "    </tr>\n",
              "    <tr>\n",
              "      <th>Man of the Year (1995)</th>\n",
              "      <td>1.0</td>\n",
              "    </tr>\n",
              "    <tr>\n",
              "      <th>Beans of Egypt, Maine, The (1994)</th>\n",
              "      <td>1.0</td>\n",
              "    </tr>\n",
              "    <tr>\n",
              "      <th>Old Lady Who Walked in the Sea, The (Vieille qui marchait dans la mer, La) (1991)</th>\n",
              "      <td>1.0</td>\n",
              "    </tr>\n",
              "    <tr>\n",
              "      <th>Outlaw, The (1943)</th>\n",
              "      <td>1.0</td>\n",
              "    </tr>\n",
              "  </tbody>\n",
              "</table>\n",
              "</div>"
            ],
            "text/plain": [
              "                                                    Correlation\n",
              "title                                                          \n",
              "Hollow Reed (1996)                                          1.0\n",
              "Commandments (1997)                                         1.0\n",
              "Cosi (1996)                                                 1.0\n",
              "No Escape (1994)                                            1.0\n",
              "Stripes (1981)                                              1.0\n",
              "Star Wars (1977)                                            1.0\n",
              "Man of the Year (1995)                                      1.0\n",
              "Beans of Egypt, Maine, The (1994)                           1.0\n",
              "Old Lady Who Walked in the Sea, The (Vieille qu...          1.0\n",
              "Outlaw, The (1943)                                          1.0"
            ]
          },
          "metadata": {
            "tags": []
          },
          "execution_count": 65
        }
      ]
    },
    {
      "metadata": {
        "id": "O3y26PvAwC0V",
        "colab_type": "text"
      },
      "cell_type": "markdown",
      "source": [
        "Let's fix this by filtering out movies that have **less than 100 reviews**(this value was chosen based off the histogram from earlier)."
      ]
    },
    {
      "metadata": {
        "id": "5ThFrY3WwC0W",
        "colab_type": "code",
        "outputId": "d1666737-6ba8-4373-fbcb-decc1f3870f9",
        "colab": {
          "base_uri": "https://localhost:8080/",
          "height": 235
        }
      },
      "cell_type": "code",
      "source": [
        "corr_starwars = corr_starwars.join(ratings['num of ratings'])\n",
        "corr_starwars.head()"
      ],
      "execution_count": 0,
      "outputs": [
        {
          "output_type": "execute_result",
          "data": {
            "text/html": [
              "<div>\n",
              "<style scoped>\n",
              "    .dataframe tbody tr th:only-of-type {\n",
              "        vertical-align: middle;\n",
              "    }\n",
              "\n",
              "    .dataframe tbody tr th {\n",
              "        vertical-align: top;\n",
              "    }\n",
              "\n",
              "    .dataframe thead th {\n",
              "        text-align: right;\n",
              "    }\n",
              "</style>\n",
              "<table border=\"1\" class=\"dataframe\">\n",
              "  <thead>\n",
              "    <tr style=\"text-align: right;\">\n",
              "      <th></th>\n",
              "      <th>Correlation</th>\n",
              "      <th>num of ratings</th>\n",
              "    </tr>\n",
              "    <tr>\n",
              "      <th>title</th>\n",
              "      <th></th>\n",
              "      <th></th>\n",
              "    </tr>\n",
              "  </thead>\n",
              "  <tbody>\n",
              "    <tr>\n",
              "      <th>'Til There Was You (1997)</th>\n",
              "      <td>0.872872</td>\n",
              "      <td>9</td>\n",
              "    </tr>\n",
              "    <tr>\n",
              "      <th>1-900 (1994)</th>\n",
              "      <td>-0.645497</td>\n",
              "      <td>5</td>\n",
              "    </tr>\n",
              "    <tr>\n",
              "      <th>101 Dalmatians (1996)</th>\n",
              "      <td>0.211132</td>\n",
              "      <td>109</td>\n",
              "    </tr>\n",
              "    <tr>\n",
              "      <th>12 Angry Men (1957)</th>\n",
              "      <td>0.184289</td>\n",
              "      <td>125</td>\n",
              "    </tr>\n",
              "    <tr>\n",
              "      <th>187 (1997)</th>\n",
              "      <td>0.027398</td>\n",
              "      <td>41</td>\n",
              "    </tr>\n",
              "  </tbody>\n",
              "</table>\n",
              "</div>"
            ],
            "text/plain": [
              "                           Correlation  num of ratings\n",
              "title                                                 \n",
              "'Til There Was You (1997)     0.872872               9\n",
              "1-900 (1994)                 -0.645497               5\n",
              "101 Dalmatians (1996)         0.211132             109\n",
              "12 Angry Men (1957)           0.184289             125\n",
              "187 (1997)                    0.027398              41"
            ]
          },
          "metadata": {
            "tags": []
          },
          "execution_count": 66
        }
      ]
    },
    {
      "metadata": {
        "id": "DDO59qSBwC0b",
        "colab_type": "text"
      },
      "cell_type": "markdown",
      "source": [
        "Now sort the values and notice how the titles make a lot more sense:"
      ]
    },
    {
      "metadata": {
        "id": "ctpgZnOYwC0e",
        "colab_type": "code",
        "outputId": "40f021c6-fc11-48db-c0fe-2771661c8528",
        "colab": {
          "base_uri": "https://localhost:8080/",
          "height": 235
        }
      },
      "cell_type": "code",
      "source": [
        "corr_starwars[corr_starwars['num of ratings']>100].sort_values('Correlation',ascending=False).head()"
      ],
      "execution_count": 0,
      "outputs": [
        {
          "output_type": "execute_result",
          "data": {
            "text/html": [
              "<div>\n",
              "<style scoped>\n",
              "    .dataframe tbody tr th:only-of-type {\n",
              "        vertical-align: middle;\n",
              "    }\n",
              "\n",
              "    .dataframe tbody tr th {\n",
              "        vertical-align: top;\n",
              "    }\n",
              "\n",
              "    .dataframe thead th {\n",
              "        text-align: right;\n",
              "    }\n",
              "</style>\n",
              "<table border=\"1\" class=\"dataframe\">\n",
              "  <thead>\n",
              "    <tr style=\"text-align: right;\">\n",
              "      <th></th>\n",
              "      <th>Correlation</th>\n",
              "      <th>num of ratings</th>\n",
              "    </tr>\n",
              "    <tr>\n",
              "      <th>title</th>\n",
              "      <th></th>\n",
              "      <th></th>\n",
              "    </tr>\n",
              "  </thead>\n",
              "  <tbody>\n",
              "    <tr>\n",
              "      <th>Star Wars (1977)</th>\n",
              "      <td>1.000000</td>\n",
              "      <td>584</td>\n",
              "    </tr>\n",
              "    <tr>\n",
              "      <th>Empire Strikes Back, The (1980)</th>\n",
              "      <td>0.748353</td>\n",
              "      <td>368</td>\n",
              "    </tr>\n",
              "    <tr>\n",
              "      <th>Return of the Jedi (1983)</th>\n",
              "      <td>0.672556</td>\n",
              "      <td>507</td>\n",
              "    </tr>\n",
              "    <tr>\n",
              "      <th>Raiders of the Lost Ark (1981)</th>\n",
              "      <td>0.536117</td>\n",
              "      <td>420</td>\n",
              "    </tr>\n",
              "    <tr>\n",
              "      <th>Austin Powers: International Man of Mystery (1997)</th>\n",
              "      <td>0.377433</td>\n",
              "      <td>130</td>\n",
              "    </tr>\n",
              "  </tbody>\n",
              "</table>\n",
              "</div>"
            ],
            "text/plain": [
              "                                                    Correlation  \\\n",
              "title                                                             \n",
              "Star Wars (1977)                                       1.000000   \n",
              "Empire Strikes Back, The (1980)                        0.748353   \n",
              "Return of the Jedi (1983)                              0.672556   \n",
              "Raiders of the Lost Ark (1981)                         0.536117   \n",
              "Austin Powers: International Man of Mystery (1997)     0.377433   \n",
              "\n",
              "                                                    num of ratings  \n",
              "title                                                               \n",
              "Star Wars (1977)                                               584  \n",
              "Empire Strikes Back, The (1980)                                368  \n",
              "Return of the Jedi (1983)                                      507  \n",
              "Raiders of the Lost Ark (1981)                                 420  \n",
              "Austin Powers: International Man of Mystery (1997)             130  "
            ]
          },
          "metadata": {
            "tags": []
          },
          "execution_count": 67
        }
      ]
    },
    {
      "metadata": {
        "id": "YQm9e4q2wC0o",
        "colab_type": "text"
      },
      "cell_type": "markdown",
      "source": [
        "Now the same for the comedy Liar Liar:"
      ]
    },
    {
      "metadata": {
        "id": "sBR7OdVVwC0u",
        "colab_type": "code",
        "outputId": "05d6bc0d-b1d1-48ff-efd0-e3788d64a339",
        "colab": {
          "base_uri": "https://localhost:8080/",
          "height": 235
        }
      },
      "cell_type": "code",
      "source": [
        "corr_liarliar = pd.DataFrame(similar_to_liarliar,columns=['Correlation'])\n",
        "corr_liarliar.dropna(inplace=True)\n",
        "corr_liarliar = corr_liarliar.join(ratings['num of ratings'])\n",
        "corr_liarliar[corr_liarliar['num of ratings'] > 100].sort_values('Correlation',ascending=False).head()"
      ],
      "execution_count": 0,
      "outputs": [
        {
          "output_type": "execute_result",
          "data": {
            "text/html": [
              "<div>\n",
              "<style scoped>\n",
              "    .dataframe tbody tr th:only-of-type {\n",
              "        vertical-align: middle;\n",
              "    }\n",
              "\n",
              "    .dataframe tbody tr th {\n",
              "        vertical-align: top;\n",
              "    }\n",
              "\n",
              "    .dataframe thead th {\n",
              "        text-align: right;\n",
              "    }\n",
              "</style>\n",
              "<table border=\"1\" class=\"dataframe\">\n",
              "  <thead>\n",
              "    <tr style=\"text-align: right;\">\n",
              "      <th></th>\n",
              "      <th>Correlation</th>\n",
              "      <th>num of ratings</th>\n",
              "    </tr>\n",
              "    <tr>\n",
              "      <th>title</th>\n",
              "      <th></th>\n",
              "      <th></th>\n",
              "    </tr>\n",
              "  </thead>\n",
              "  <tbody>\n",
              "    <tr>\n",
              "      <th>Liar Liar (1997)</th>\n",
              "      <td>1.000000</td>\n",
              "      <td>485</td>\n",
              "    </tr>\n",
              "    <tr>\n",
              "      <th>Batman Forever (1995)</th>\n",
              "      <td>0.516968</td>\n",
              "      <td>114</td>\n",
              "    </tr>\n",
              "    <tr>\n",
              "      <th>Mask, The (1994)</th>\n",
              "      <td>0.484650</td>\n",
              "      <td>129</td>\n",
              "    </tr>\n",
              "    <tr>\n",
              "      <th>Down Periscope (1996)</th>\n",
              "      <td>0.472681</td>\n",
              "      <td>101</td>\n",
              "    </tr>\n",
              "    <tr>\n",
              "      <th>Con Air (1997)</th>\n",
              "      <td>0.469828</td>\n",
              "      <td>137</td>\n",
              "    </tr>\n",
              "  </tbody>\n",
              "</table>\n",
              "</div>"
            ],
            "text/plain": [
              "                       Correlation  num of ratings\n",
              "title                                             \n",
              "Liar Liar (1997)          1.000000             485\n",
              "Batman Forever (1995)     0.516968             114\n",
              "Mask, The (1994)          0.484650             129\n",
              "Down Periscope (1996)     0.472681             101\n",
              "Con Air (1997)            0.469828             137"
            ]
          },
          "metadata": {
            "tags": []
          },
          "execution_count": 69
        }
      ]
    },
    {
      "metadata": {
        "id": "DDKsKz56wC0z",
        "colab_type": "text"
      },
      "cell_type": "markdown",
      "source": [
        "# Great Job!"
      ]
    }
  ]
}