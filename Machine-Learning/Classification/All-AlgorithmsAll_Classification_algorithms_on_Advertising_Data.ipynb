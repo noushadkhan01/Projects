{
  "nbformat": 4,
  "nbformat_minor": 0,
  "metadata": {
    "colab": {
      "name": "All Classification algorithms on Advertising Data.ipynb",
      "version": "0.3.2",
      "provenance": [],
      "include_colab_link": true
    },
    "kernelspec": {
      "name": "python3",
      "display_name": "Python 3"
    },
    "accelerator": "GPU"
  },
  "cells": [
    {
      "cell_type": "markdown",
      "metadata": {
        "id": "view-in-github",
        "colab_type": "text"
      },
      "source": [
        "<a href=\"https://colab.research.google.com/github/noushadkhan01/Projects/blob/master/Machine-Learning/Classification/All-AlgorithmsAll_Classification_algorithms_on_Advertising_Data.ipynb\" target=\"_parent\"><img src=\"https://colab.research.google.com/assets/colab-badge.svg\" alt=\"Open In Colab\"/></a>"
      ]
    },
    {
      "metadata": {
        "id": "MtFegVk87wgf",
        "colab_type": "code",
        "colab": {}
      },
      "cell_type": "code",
      "source": [
        "import pandas as pd\n",
        "import seaborn as sns\n",
        "import numpy as np\n",
        "import matplotlib.pyplot as plt\n",
        "%matplotlib inline"
      ],
      "execution_count": 0,
      "outputs": []
    },
    {
      "metadata": {
        "id": "cJ7-6F6HaDpl",
        "colab_type": "text"
      },
      "cell_type": "markdown",
      "source": [
        "# Visualisation graph"
      ]
    },
    {
      "metadata": {
        "id": "Bm0PEKIq73G1",
        "colab_type": "text"
      },
      "cell_type": "markdown",
      "source": [
        "from google.colab import files\n",
        "files.upload()"
      ]
    },
    {
      "metadata": {
        "id": "F6v91BwG7-od",
        "colab_type": "code",
        "colab": {
          "base_uri": "https://localhost:8080/",
          "height": 34
        },
        "outputId": "9ed23da2-8462-490b-8887-ac72bba426be"
      },
      "cell_type": "code",
      "source": [
        "!ls"
      ],
      "execution_count": 8,
      "outputs": [
        {
          "output_type": "stream",
          "text": [
            "sample_data  Social_Network_Ads.csv\n"
          ],
          "name": "stdout"
        }
      ]
    },
    {
      "metadata": {
        "id": "X4ifCuIK8H0z",
        "colab_type": "code",
        "colab": {
          "base_uri": "https://localhost:8080/",
          "height": 204
        },
        "outputId": "08032ade-1420-4032-c911-4a0897d39563"
      },
      "cell_type": "code",
      "source": [
        "df = pd.read_csv('Social_Network_Ads.csv')\n",
        "df.head()"
      ],
      "execution_count": 10,
      "outputs": [
        {
          "output_type": "execute_result",
          "data": {
            "text/html": [
              "<div>\n",
              "<style scoped>\n",
              "    .dataframe tbody tr th:only-of-type {\n",
              "        vertical-align: middle;\n",
              "    }\n",
              "\n",
              "    .dataframe tbody tr th {\n",
              "        vertical-align: top;\n",
              "    }\n",
              "\n",
              "    .dataframe thead th {\n",
              "        text-align: right;\n",
              "    }\n",
              "</style>\n",
              "<table border=\"1\" class=\"dataframe\">\n",
              "  <thead>\n",
              "    <tr style=\"text-align: right;\">\n",
              "      <th></th>\n",
              "      <th>User ID</th>\n",
              "      <th>Gender</th>\n",
              "      <th>Age</th>\n",
              "      <th>EstimatedSalary</th>\n",
              "      <th>Purchased</th>\n",
              "    </tr>\n",
              "  </thead>\n",
              "  <tbody>\n",
              "    <tr>\n",
              "      <th>0</th>\n",
              "      <td>15624510</td>\n",
              "      <td>Male</td>\n",
              "      <td>19</td>\n",
              "      <td>19000</td>\n",
              "      <td>0</td>\n",
              "    </tr>\n",
              "    <tr>\n",
              "      <th>1</th>\n",
              "      <td>15810944</td>\n",
              "      <td>Male</td>\n",
              "      <td>35</td>\n",
              "      <td>20000</td>\n",
              "      <td>0</td>\n",
              "    </tr>\n",
              "    <tr>\n",
              "      <th>2</th>\n",
              "      <td>15668575</td>\n",
              "      <td>Female</td>\n",
              "      <td>26</td>\n",
              "      <td>43000</td>\n",
              "      <td>0</td>\n",
              "    </tr>\n",
              "    <tr>\n",
              "      <th>3</th>\n",
              "      <td>15603246</td>\n",
              "      <td>Female</td>\n",
              "      <td>27</td>\n",
              "      <td>57000</td>\n",
              "      <td>0</td>\n",
              "    </tr>\n",
              "    <tr>\n",
              "      <th>4</th>\n",
              "      <td>15804002</td>\n",
              "      <td>Male</td>\n",
              "      <td>19</td>\n",
              "      <td>76000</td>\n",
              "      <td>0</td>\n",
              "    </tr>\n",
              "  </tbody>\n",
              "</table>\n",
              "</div>"
            ],
            "text/plain": [
              "    User ID  Gender  Age  EstimatedSalary  Purchased\n",
              "0  15624510    Male   19            19000          0\n",
              "1  15810944    Male   35            20000          0\n",
              "2  15668575  Female   26            43000          0\n",
              "3  15603246  Female   27            57000          0\n",
              "4  15804002    Male   19            76000          0"
            ]
          },
          "metadata": {
            "tags": []
          },
          "execution_count": 10
        }
      ]
    },
    {
      "metadata": {
        "id": "FvOcMUkc8Nsu",
        "colab_type": "code",
        "colab": {}
      },
      "cell_type": "code",
      "source": [
        "X = df.iloc[:, 1:-1]\n",
        "y = df.Purchased"
      ],
      "execution_count": 0,
      "outputs": []
    },
    {
      "metadata": {
        "id": "re8OL3-M8xl8",
        "colab_type": "code",
        "colab": {
          "base_uri": "https://localhost:8080/",
          "height": 34
        },
        "outputId": "459a5f87-ec35-4fda-cce6-180df82eed06"
      },
      "cell_type": "code",
      "source": [
        "X.shape, y.shape"
      ],
      "execution_count": 12,
      "outputs": [
        {
          "output_type": "execute_result",
          "data": {
            "text/plain": [
              "((400, 3), (400,))"
            ]
          },
          "metadata": {
            "tags": []
          },
          "execution_count": 12
        }
      ]
    },
    {
      "metadata": {
        "id": "sjiCc1CF8y2_",
        "colab_type": "code",
        "colab": {
          "base_uri": "https://localhost:8080/",
          "height": 34
        },
        "outputId": "8d108a01-91ef-4691-fb31-76b663ce8fa0"
      },
      "cell_type": "code",
      "source": [
        "X = pd.get_dummies(X, drop_first = True)\n",
        "X.shape"
      ],
      "execution_count": 13,
      "outputs": [
        {
          "output_type": "execute_result",
          "data": {
            "text/plain": [
              "(400, 3)"
            ]
          },
          "metadata": {
            "tags": []
          },
          "execution_count": 13
        }
      ]
    },
    {
      "metadata": {
        "id": "q-2kR5cT84cC",
        "colab_type": "code",
        "colab": {
          "base_uri": "https://localhost:8080/",
          "height": 111
        },
        "outputId": "7dfc3f49-9d69-414d-c4e0-1531703f7ef0"
      },
      "cell_type": "code",
      "source": [
        "X.head(2)"
      ],
      "execution_count": 14,
      "outputs": [
        {
          "output_type": "execute_result",
          "data": {
            "text/html": [
              "<div>\n",
              "<style scoped>\n",
              "    .dataframe tbody tr th:only-of-type {\n",
              "        vertical-align: middle;\n",
              "    }\n",
              "\n",
              "    .dataframe tbody tr th {\n",
              "        vertical-align: top;\n",
              "    }\n",
              "\n",
              "    .dataframe thead th {\n",
              "        text-align: right;\n",
              "    }\n",
              "</style>\n",
              "<table border=\"1\" class=\"dataframe\">\n",
              "  <thead>\n",
              "    <tr style=\"text-align: right;\">\n",
              "      <th></th>\n",
              "      <th>Age</th>\n",
              "      <th>EstimatedSalary</th>\n",
              "      <th>Gender_Male</th>\n",
              "    </tr>\n",
              "  </thead>\n",
              "  <tbody>\n",
              "    <tr>\n",
              "      <th>0</th>\n",
              "      <td>19</td>\n",
              "      <td>19000</td>\n",
              "      <td>1</td>\n",
              "    </tr>\n",
              "    <tr>\n",
              "      <th>1</th>\n",
              "      <td>35</td>\n",
              "      <td>20000</td>\n",
              "      <td>1</td>\n",
              "    </tr>\n",
              "  </tbody>\n",
              "</table>\n",
              "</div>"
            ],
            "text/plain": [
              "   Age  EstimatedSalary  Gender_Male\n",
              "0   19            19000            1\n",
              "1   35            20000            1"
            ]
          },
          "metadata": {
            "tags": []
          },
          "execution_count": 14
        }
      ]
    },
    {
      "metadata": {
        "id": "dNP2qOGO9J6B",
        "colab_type": "text"
      },
      "cell_type": "markdown",
      "source": [
        "# Train Test Split"
      ]
    },
    {
      "metadata": {
        "id": "05DTlIce9Lj8",
        "colab_type": "code",
        "colab": {}
      },
      "cell_type": "code",
      "source": [
        "from sklearn.model_selection import train_test_split"
      ],
      "execution_count": 0,
      "outputs": []
    },
    {
      "metadata": {
        "id": "8S3OVLiy9Ofh",
        "colab_type": "code",
        "colab": {
          "base_uri": "https://localhost:8080/",
          "height": 34
        },
        "outputId": "c323ee30-1541-42db-fdc1-9a2147bdd2f8"
      },
      "cell_type": "code",
      "source": [
        "X_train, X_test, y_train, y_test = train_test_split(X, y, test_size = .25, random_state = 0)\n",
        "X_train.shape, X_test.shape, y_train.shape, y_test.shape"
      ],
      "execution_count": 16,
      "outputs": [
        {
          "output_type": "execute_result",
          "data": {
            "text/plain": [
              "((300, 3), (100, 3), (300,), (100,))"
            ]
          },
          "metadata": {
            "tags": []
          },
          "execution_count": 16
        }
      ]
    },
    {
      "metadata": {
        "id": "3rPMUd4u85S6",
        "colab_type": "text"
      },
      "cell_type": "markdown",
      "source": [
        "# Feature_scaling"
      ]
    },
    {
      "metadata": {
        "id": "MsOrmY-689vs",
        "colab_type": "code",
        "colab": {}
      },
      "cell_type": "code",
      "source": [
        "from sklearn.preprocessing import StandardScaler"
      ],
      "execution_count": 0,
      "outputs": []
    },
    {
      "metadata": {
        "id": "ELZxJ20l9AuA",
        "colab_type": "code",
        "colab": {}
      },
      "cell_type": "code",
      "source": [
        "sc = StandardScaler()"
      ],
      "execution_count": 0,
      "outputs": []
    },
    {
      "metadata": {
        "id": "-sce4M7R9E0E",
        "colab_type": "code",
        "colab": {}
      },
      "cell_type": "code",
      "source": [
        "X_train_scaled = sc.fit_transform(X_train)\n",
        "X_test_scaled = sc.transform(X_test)"
      ],
      "execution_count": 0,
      "outputs": []
    },
    {
      "metadata": {
        "id": "84ANaMgQ9kU9",
        "colab_type": "text"
      },
      "cell_type": "markdown",
      "source": [
        "# Train Model"
      ]
    },
    {
      "metadata": {
        "id": "a43pXtG2CCu7",
        "colab_type": "text"
      },
      "cell_type": "markdown",
      "source": [
        "# LogisticRegression"
      ]
    },
    {
      "metadata": {
        "id": "CtshsPGK9iNS",
        "colab_type": "code",
        "colab": {}
      },
      "cell_type": "code",
      "source": [
        "from sklearn.linear_model import LogisticRegression"
      ],
      "execution_count": 0,
      "outputs": []
    },
    {
      "metadata": {
        "id": "Q95QADW39pNJ",
        "colab_type": "code",
        "colab": {
          "base_uri": "https://localhost:8080/",
          "height": 85
        },
        "outputId": "1c1d8c22-32af-4c72-bfc2-5c474920d464"
      },
      "cell_type": "code",
      "source": [
        "model = LogisticRegression(random_state = 0)\n",
        "model.fit(X_train_scaled, y_train)"
      ],
      "execution_count": 55,
      "outputs": [
        {
          "output_type": "execute_result",
          "data": {
            "text/plain": [
              "LogisticRegression(C=1.0, class_weight=None, dual=False, fit_intercept=True,\n",
              "          intercept_scaling=1, max_iter=100, multi_class='ovr', n_jobs=1,\n",
              "          penalty='l2', random_state=0, solver='liblinear', tol=0.0001,\n",
              "          verbose=0, warm_start=False)"
            ]
          },
          "metadata": {
            "tags": []
          },
          "execution_count": 55
        }
      ]
    },
    {
      "metadata": {
        "id": "H0DUkwBr-CU_",
        "colab_type": "code",
        "colab": {}
      },
      "cell_type": "code",
      "source": [
        "y_pred = model.predict(X_test_scaled)"
      ],
      "execution_count": 0,
      "outputs": []
    },
    {
      "metadata": {
        "id": "fydjtt2P-K3Z",
        "colab_type": "code",
        "colab": {
          "base_uri": "https://localhost:8080/",
          "height": 34
        },
        "outputId": "ab68a4fd-591f-447d-8490-287f01feef9d"
      },
      "cell_type": "code",
      "source": [
        "model.score(X_train_scaled, y_train)"
      ],
      "execution_count": 57,
      "outputs": [
        {
          "output_type": "execute_result",
          "data": {
            "text/plain": [
              "0.8333333333333334"
            ]
          },
          "metadata": {
            "tags": []
          },
          "execution_count": 57
        }
      ]
    },
    {
      "metadata": {
        "id": "-f3SfOp7-M3J",
        "colab_type": "code",
        "colab": {
          "base_uri": "https://localhost:8080/",
          "height": 34
        },
        "outputId": "b309ccac-e175-46cf-b958-7887afefd80b"
      },
      "cell_type": "code",
      "source": [
        "model.score(X_test_scaled, y_test)"
      ],
      "execution_count": 58,
      "outputs": [
        {
          "output_type": "execute_result",
          "data": {
            "text/plain": [
              "0.91"
            ]
          },
          "metadata": {
            "tags": []
          },
          "execution_count": 58
        }
      ]
    },
    {
      "metadata": {
        "id": "_kov5mDA-PDG",
        "colab_type": "code",
        "colab": {}
      },
      "cell_type": "code",
      "source": [
        "from sklearn.metrics import confusion_matrix, classification_report"
      ],
      "execution_count": 0,
      "outputs": []
    },
    {
      "metadata": {
        "id": "UQDOSB9h-V-t",
        "colab_type": "code",
        "colab": {
          "base_uri": "https://localhost:8080/",
          "height": 51
        },
        "outputId": "2decba0b-9124-4b1b-aef3-5e73c26364bc"
      },
      "cell_type": "code",
      "source": [
        "confusion_matrix(y_test, y_pred)"
      ],
      "execution_count": 60,
      "outputs": [
        {
          "output_type": "execute_result",
          "data": {
            "text/plain": [
              "array([[65,  3],\n",
              "       [ 6, 26]])"
            ]
          },
          "metadata": {
            "tags": []
          },
          "execution_count": 60
        }
      ]
    },
    {
      "metadata": {
        "id": "LOlwgl-5-bgv",
        "colab_type": "code",
        "colab": {
          "base_uri": "https://localhost:8080/",
          "height": 136
        },
        "outputId": "0ae8ede8-49c0-4379-c6ad-297226e39a1d"
      },
      "cell_type": "code",
      "source": [
        "print(classification_report(y_test, y_pred))"
      ],
      "execution_count": 61,
      "outputs": [
        {
          "output_type": "stream",
          "text": [
            "             precision    recall  f1-score   support\n",
            "\n",
            "          0       0.92      0.96      0.94        68\n",
            "          1       0.90      0.81      0.85        32\n",
            "\n",
            "avg / total       0.91      0.91      0.91       100\n",
            "\n"
          ],
          "name": "stdout"
        }
      ]
    },
    {
      "metadata": {
        "id": "KhoZGPoR-fC0",
        "colab_type": "code",
        "colab": {}
      },
      "cell_type": "code",
      "source": [
        "y_proba = model.predict_proba(X_test_scaled)"
      ],
      "execution_count": 0,
      "outputs": []
    },
    {
      "metadata": {
        "id": "GSW1n84F-lQH",
        "colab_type": "code",
        "colab": {
          "base_uri": "https://localhost:8080/",
          "height": 51
        },
        "outputId": "46cb310c-f1de-465b-f3d6-2a94467183ec"
      },
      "cell_type": "code",
      "source": [
        "y_proba[:2]"
      ],
      "execution_count": 64,
      "outputs": [
        {
          "output_type": "execute_result",
          "data": {
            "text/plain": [
              "array([[0.87565486, 0.12434514],\n",
              "       [0.84279008, 0.15720992]])"
            ]
          },
          "metadata": {
            "tags": []
          },
          "execution_count": 64
        }
      ]
    },
    {
      "metadata": {
        "id": "bOnVOqAG_HOx",
        "colab_type": "code",
        "colab": {
          "base_uri": "https://localhost:8080/",
          "height": 34
        },
        "outputId": "103d5cd3-b948-48fe-c331-668074259956"
      },
      "cell_type": "code",
      "source": [
        "model.coef_"
      ],
      "execution_count": 65,
      "outputs": [
        {
          "output_type": "execute_result",
          "data": {
            "text/plain": [
              "array([[2.07997332, 1.11053785, 0.09186917]])"
            ]
          },
          "metadata": {
            "tags": []
          },
          "execution_count": 65
        }
      ]
    },
    {
      "metadata": {
        "id": "mHaXWrYdCGNR",
        "colab_type": "text"
      },
      "cell_type": "markdown",
      "source": [
        "## 2. LogisticRegression with PolynomialFeatures"
      ]
    },
    {
      "metadata": {
        "id": "iRcZzDGgCL9_",
        "colab_type": "code",
        "colab": {}
      },
      "cell_type": "code",
      "source": [
        "from sklearn.preprocessing import PolynomialFeatures"
      ],
      "execution_count": 0,
      "outputs": []
    },
    {
      "metadata": {
        "id": "iHN0b7t6CPW0",
        "colab_type": "code",
        "colab": {
          "base_uri": "https://localhost:8080/",
          "height": 374
        },
        "outputId": "0b66d148-d5df-46ed-e9c4-e8bda4a41427"
      },
      "cell_type": "code",
      "source": [
        "poly = PolynomialFeatures(6)\n",
        "X_train_poly = poly.fit_transform(X_train_scaled)\n",
        "X_test_poly = poly.fit_transform(X_test_scaled)\n",
        "lrmodel = LogisticRegression()\n",
        "lrmodel.fit(X_train_poly, y_train)\n",
        "print(F' Train score is {lrmodel.score(X_train_poly, y_train)}')\n",
        "print('\\n')\n",
        "print(f'Test score is {lrmodel.score(X_test_poly, y_test)}')\n",
        "print('\\n\\n')\n",
        "y_pred = lrmodel.predict(X_test_poly)\n",
        "print(f'confusion matrix is \\n {confusion_matrix(y_test, y_pred)}')\n",
        "print('\\n\\n')\n",
        "print(f'classification report is \\n {classification_report(y_test, y_pred)}')"
      ],
      "execution_count": 98,
      "outputs": [
        {
          "output_type": "stream",
          "text": [
            " Train score is 0.92\n",
            "\n",
            "\n",
            "Test score is 0.94\n",
            "\n",
            "\n",
            "\n",
            "confusion matrix is \n",
            " [[65  3]\n",
            " [ 3 29]]\n",
            "\n",
            "\n",
            "\n",
            "classification report is \n",
            "              precision    recall  f1-score   support\n",
            "\n",
            "          0       0.96      0.96      0.96        68\n",
            "          1       0.91      0.91      0.91        32\n",
            "\n",
            "avg / total       0.94      0.94      0.94       100\n",
            "\n"
          ],
          "name": "stdout"
        }
      ]
    },
    {
      "metadata": {
        "id": "vT6r1JntK3fU",
        "colab_type": "code",
        "colab": {
          "base_uri": "https://localhost:8080/",
          "height": 306
        },
        "outputId": "3e5e5931-1157-48ea-ac90-b5106eeba300"
      },
      "cell_type": "code",
      "source": [
        "lrmodel.coef_"
      ],
      "execution_count": 99,
      "outputs": [
        {
          "output_type": "execute_result",
          "data": {
            "text/plain": [
              "array([[-0.44951661,  0.60239659,  0.87871662,  0.02575611, -0.0756638 ,\n",
              "        -0.24896802, -0.01765001,  0.5590373 ,  0.17963394, -0.44848616,\n",
              "         0.343962  , -0.25145039, -0.06046288,  0.52018439,  0.22080972,\n",
              "         0.60169044, -0.10507773, -0.08664123,  0.88590341,  0.00781308,\n",
              "        -0.393108  , -0.05786278, -0.20421042,  0.11893628,  0.17475364,\n",
              "        -0.0780828 , -0.4738856 ,  0.01056977, -0.24013387,  0.00642243,\n",
              "        -0.4921722 , -0.1349877 ,  0.55557096,  0.21507716, -0.44817357,\n",
              "         0.29657407, -0.02630471,  0.27408338,  0.1810735 , -0.18449992,\n",
              "         0.33579194, -0.44605958,  0.42268029, -0.24445884, -0.06358682,\n",
              "        -0.08061454, -0.5182146 ,  0.52060726,  0.21120245,  0.60194739,\n",
              "         0.07274404,  0.58975475, -0.11047832, -0.06441394,  0.89450822,\n",
              "        -0.01011745,  0.1802476 ,  0.66178253,  0.12725401, -0.25379403,\n",
              "         0.23464599, -0.38214247, -0.47427816,  0.43110263, -0.06524425,\n",
              "        -0.19077605,  0.77596838, -0.07703413,  0.13584688,  0.16497333,\n",
              "        -0.08062679, -0.18152558, -0.19977666, -0.49461833,  0.03139822,\n",
              "        -0.23168408,  0.03050514,  0.16185794, -0.20261323, -0.46857729,\n",
              "        -0.13940772,  0.55299389,  0.25086465, -0.44857835]])"
            ]
          },
          "metadata": {
            "tags": []
          },
          "execution_count": 99
        }
      ]
    },
    {
      "metadata": {
        "id": "u7YGa69WMRJf",
        "colab_type": "code",
        "colab": {
          "base_uri": "https://localhost:8080/",
          "height": 34
        },
        "outputId": "f58c21b8-8eaa-49c6-9925-532c22d1b477"
      },
      "cell_type": "code",
      "source": [
        "lrmodel.intercept_"
      ],
      "execution_count": 100,
      "outputs": [
        {
          "output_type": "execute_result",
          "data": {
            "text/plain": [
              "array([-0.44951661])"
            ]
          },
          "metadata": {
            "tags": []
          },
          "execution_count": 100
        }
      ]
    },
    {
      "metadata": {
        "id": "7o9DXG_nMTZ3",
        "colab_type": "text"
      },
      "cell_type": "markdown",
      "source": [
        "### probability of y_test"
      ]
    },
    {
      "metadata": {
        "id": "wdKXj6OTMWXC",
        "colab_type": "code",
        "colab": {}
      },
      "cell_type": "code",
      "source": [
        "y_test_proba = lrmodel.predict_proba(X_test_poly)"
      ],
      "execution_count": 0,
      "outputs": []
    },
    {
      "metadata": {
        "id": "iXlLhO5yMea8",
        "colab_type": "code",
        "colab": {
          "base_uri": "https://localhost:8080/",
          "height": 51
        },
        "outputId": "21072bd0-ef16-4082-88fa-aa1e56837418"
      },
      "cell_type": "code",
      "source": [
        "y_test_proba[:2]"
      ],
      "execution_count": 102,
      "outputs": [
        {
          "output_type": "execute_result",
          "data": {
            "text/plain": [
              "array([[0.9201132 , 0.0798868 ],\n",
              "       [0.94888294, 0.05111706]])"
            ]
          },
          "metadata": {
            "tags": []
          },
          "execution_count": 102
        }
      ]
    },
    {
      "metadata": {
        "id": "Z4AQr2zkMlPy",
        "colab_type": "code",
        "colab": {
          "base_uri": "https://localhost:8080/",
          "height": 34
        },
        "outputId": "aefea24e-f3a7-4b96-a884-fca627fde985"
      },
      "cell_type": "code",
      "source": [
        "y_max_proba = [np.max(i) for i in y_test_proba]\n",
        "y_max_proba[:2]"
      ],
      "execution_count": 103,
      "outputs": [
        {
          "output_type": "execute_result",
          "data": {
            "text/plain": [
              "[0.9201131984533866, 0.9488829439074131]"
            ]
          },
          "metadata": {
            "tags": []
          },
          "execution_count": 103
        }
      ]
    },
    {
      "metadata": {
        "id": "C26cFHDmMwXN",
        "colab_type": "code",
        "colab": {
          "base_uri": "https://localhost:8080/",
          "height": 268
        },
        "outputId": "3d73aa52-3801-482b-d4c9-5d702ca8b675"
      },
      "cell_type": "code",
      "source": [
        "plt.hist(y_max_proba)\n",
        "plt.show()"
      ],
      "execution_count": 104,
      "outputs": [
        {
          "output_type": "display_data",
          "data": {
            "image/png": "[encoded data removed]",
            "text/plain": [
              "<matplotlib.figure.Figure at 0x7fbc09da4630>"
            ]
          },
          "metadata": {
            "tags": []
          }
        }
      ]
    },
    {
      "metadata": {
        "id": "uh84OGeba-xy",
        "colab_type": "text"
      },
      "cell_type": "markdown",
      "source": [
        "### graph"
      ]
    },
    {
      "metadata": {
        "id": "2mR4jm0gK_Ik",
        "colab_type": "text"
      },
      "cell_type": "markdown",
      "source": [
        "## 3. KNN"
      ]
    },
    {
      "metadata": {
        "id": "6X6BdbCgHjCK",
        "colab_type": "code",
        "colab": {
          "base_uri": "https://localhost:8080/",
          "height": 320
        },
        "outputId": "bb8678b7-4dc9-43bb-e35f-eaabc6d9dd69"
      },
      "cell_type": "code",
      "source": [
        "x = range(1,30)\n",
        "t = []\n",
        "s = []\n",
        "for i in x:\n",
        "  model = KNeighborsClassifier(n_neighbors = i)\n",
        "  model.fit(X_train, y_train)\n",
        "  s.append(model.score(X_test, y_test))\n",
        "  t.append(model.score(X_train, y_train))\n",
        "  \n",
        "plt.figure(figsize =(10, 5))\n",
        "plt.plot(x, t, c = 'r', label = 'Train score')\n",
        "plt.plot(x, s, c = 'g', label = 'Test score')\n",
        "plt.xticks(x)          \n",
        "plt.legend()    \n",
        "plt.grid()"
      ],
      "execution_count": 50,
      "outputs": [
        {
          "output_type": "display_data",
          "data": {
            "image/png": "[encoded data removed]",
            "text/plain": [
              "<matplotlib.figure.Figure at 0x7fbc0a21f4a8>"
            ]
          },
          "metadata": {
            "tags": []
          }
        }
      ]
    },
    {
      "metadata": {
        "id": "Szxj_6dWIR_Y",
        "colab_type": "text"
      },
      "cell_type": "markdown",
      "source": [
        "### After Scaling the Features"
      ]
    },
    {
      "metadata": {
        "id": "RT1Tni4FHNg2",
        "colab_type": "code",
        "colab": {}
      },
      "cell_type": "code",
      "source": [
        "from sklearn.neighbors import KNeighborsClassifier"
      ],
      "execution_count": 0,
      "outputs": []
    },
    {
      "metadata": {
        "colab_type": "code",
        "id": "i7T2hNDXH0-P",
        "colab": {}
      },
      "cell_type": "code",
      "source": [
        "from sklearn.preprocessing import StandardScaler"
      ],
      "execution_count": 0,
      "outputs": []
    },
    {
      "metadata": {
        "colab_type": "code",
        "id": "wblY6lYWH0-b",
        "colab": {}
      },
      "cell_type": "code",
      "source": [
        "sc = StandardScaler()"
      ],
      "execution_count": 0,
      "outputs": []
    },
    {
      "metadata": {
        "colab_type": "code",
        "id": "N-O-Uu2yH0-f",
        "colab": {}
      },
      "cell_type": "code",
      "source": [
        "X_train_scaled = sc.fit_transform(X_train)\n",
        "X_test_scaled = sc.transform(X_test)"
      ],
      "execution_count": 0,
      "outputs": []
    },
    {
      "metadata": {
        "id": "D1fpOj28H7A-",
        "colab_type": "code",
        "colab": {
          "base_uri": "https://localhost:8080/",
          "height": 320
        },
        "outputId": "0cb74689-53ba-4d51-8e39-652ffe57703e"
      },
      "cell_type": "code",
      "source": [
        "x = range(1,30)\n",
        "t = []\n",
        "s = []\n",
        "for i in x:\n",
        "  model = KNeighborsClassifier(n_neighbors = i)\n",
        "  model.fit(X_train_scaled, y_train)\n",
        "  s.append(model.score(X_test_scaled, y_test))\n",
        "  t.append(model.score(X_train_scaled, y_train))\n",
        "  \n",
        "plt.figure(figsize =(10, 5))\n",
        "plt.plot(x, t, c = 'r', label = 'Train score')\n",
        "plt.plot(x, s, c = 'g', label = 'Test score')\n",
        "plt.xticks(x)          \n",
        "plt.legend()    \n",
        "plt.grid()"
      ],
      "execution_count": 52,
      "outputs": [
        {
          "output_type": "display_data",
          "data": {
            "image/png": "[encoded data removed]",
            "text/plain": [
              "<matplotlib.figure.Figure at 0x7fbc0a1fe860>"
            ]
          },
          "metadata": {
            "tags": []
          }
        }
      ]
    },
    {
      "metadata": {
        "id": "3UBgMEf0OaVa",
        "colab_type": "text"
      },
      "cell_type": "markdown",
      "source": [
        "### n_neighbors = 3"
      ]
    },
    {
      "metadata": {
        "id": "gYleiD5HNv8Y",
        "colab_type": "code",
        "colab": {
          "base_uri": "https://localhost:8080/",
          "height": 374
        },
        "outputId": "ccc32854-6af7-4076-d939-60ce18c2d647"
      },
      "cell_type": "code",
      "source": [
        "model = KNeighborsClassifier(n_neighbors = 3)\n",
        "model.fit(X_train_scaled, y_train)\n",
        "print(F' Train score is {model.score(X_train_scaled, y_train)}')\n",
        "print('\\n')\n",
        "print(f'Test score is {model.score(X_test_scaled, y_test)}')\n",
        "print('\\n\\n')\n",
        "y_pred = model.predict(X_test_scaled)\n",
        "print(f'confusion matrix is \\n {confusion_matrix(y_test, y_pred)}')\n",
        "print('\\n\\n')\n",
        "print(f'classification report is \\n {classification_report(y_test, y_pred)}')"
      ],
      "execution_count": 93,
      "outputs": [
        {
          "output_type": "stream",
          "text": [
            " Train score is 0.9166666666666666\n",
            "\n",
            "\n",
            "Test score is 0.92\n",
            "\n",
            "\n",
            "\n",
            "confusion matrix is \n",
            " [[64  4]\n",
            " [ 4 28]]\n",
            "\n",
            "\n",
            "\n",
            "classification report is \n",
            "              precision    recall  f1-score   support\n",
            "\n",
            "          0       0.94      0.94      0.94        68\n",
            "          1       0.88      0.88      0.88        32\n",
            "\n",
            "avg / total       0.92      0.92      0.92       100\n",
            "\n"
          ],
          "name": "stdout"
        }
      ]
    },
    {
      "metadata": {
        "id": "7QL257XsOeQB",
        "colab_type": "text"
      },
      "cell_type": "markdown",
      "source": [
        "### n_neighbors = 5"
      ]
    },
    {
      "metadata": {
        "id": "ge--jos4ONtZ",
        "colab_type": "code",
        "colab": {
          "base_uri": "https://localhost:8080/",
          "height": 374
        },
        "outputId": "46659ca5-d934-405c-e3dd-1ef09106e882"
      },
      "cell_type": "code",
      "source": [
        "model = KNeighborsClassifier(n_neighbors = 5)\n",
        "model.fit(X_train_scaled, y_train)\n",
        "print(F' Train score is {model.score(X_train_scaled, y_train)}')\n",
        "print('\\n')\n",
        "print(f'Test score is {model.score(X_test_scaled, y_test)}')\n",
        "print('\\n\\n')\n",
        "y_pred = model.predict(X_test_scaled)\n",
        "print(f'confusion matrix is \\n {confusion_matrix(y_test, y_pred)}')\n",
        "print('\\n\\n')\n",
        "print(f'classification report is \\n {classification_report(y_test, y_pred)}')"
      ],
      "execution_count": 95,
      "outputs": [
        {
          "output_type": "stream",
          "text": [
            " Train score is 0.9133333333333333\n",
            "\n",
            "\n",
            "Test score is 0.93\n",
            "\n",
            "\n",
            "\n",
            "confusion matrix is \n",
            " [[64  4]\n",
            " [ 3 29]]\n",
            "\n",
            "\n",
            "\n",
            "classification report is \n",
            "              precision    recall  f1-score   support\n",
            "\n",
            "          0       0.96      0.94      0.95        68\n",
            "          1       0.88      0.91      0.89        32\n",
            "\n",
            "avg / total       0.93      0.93      0.93       100\n",
            "\n"
          ],
          "name": "stdout"
        }
      ]
    },
    {
      "metadata": {
        "id": "5zNItA-dC3_B",
        "colab_type": "text"
      },
      "cell_type": "markdown",
      "source": [
        "## SVC"
      ]
    },
    {
      "metadata": {
        "id": "0HQ0z18hEbMC",
        "colab_type": "code",
        "colab": {}
      },
      "cell_type": "code",
      "source": [
        "from sklearn.svm import SVC"
      ],
      "execution_count": 0,
      "outputs": []
    },
    {
      "metadata": {
        "id": "3wSvUAfFEfch",
        "colab_type": "code",
        "colab": {
          "base_uri": "https://localhost:8080/",
          "height": 34
        },
        "outputId": "adb9e72d-9d39-4b14-c133-27cb5ceb9458"
      },
      "cell_type": "code",
      "source": [
        "model = SVC(C = 0.0000001)\n",
        "model.fit(X_train, y_train)\n",
        "model.score(X_train, y_train)"
      ],
      "execution_count": 30,
      "outputs": [
        {
          "output_type": "execute_result",
          "data": {
            "text/plain": [
              "0.63"
            ]
          },
          "metadata": {
            "tags": []
          },
          "execution_count": 30
        }
      ]
    },
    {
      "metadata": {
        "id": "MbOrPMkuEmZQ",
        "colab_type": "code",
        "colab": {
          "base_uri": "https://localhost:8080/",
          "height": 34
        },
        "outputId": "deeff80d-d26c-46af-eb71-e8342a9b6415"
      },
      "cell_type": "code",
      "source": [
        "model.score(X_test, y_test)"
      ],
      "execution_count": 31,
      "outputs": [
        {
          "output_type": "execute_result",
          "data": {
            "text/plain": [
              "0.68"
            ]
          },
          "metadata": {
            "tags": []
          },
          "execution_count": 31
        }
      ]
    }
  ]
}