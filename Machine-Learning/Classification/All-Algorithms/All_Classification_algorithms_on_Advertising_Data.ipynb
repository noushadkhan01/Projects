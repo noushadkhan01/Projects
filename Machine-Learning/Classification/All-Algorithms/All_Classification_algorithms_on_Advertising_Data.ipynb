{
  "nbformat": 4,
  "nbformat_minor": 0,
  "metadata": {
    "colab": {
      "name": "Copy of All Classification algorithms on Advertising Data.ipynb",
      "version": "0.3.2",
      "provenance": [],
      "collapsed_sections": [
        "kOQTCuizmKsU",
        "dNP2qOGO9J6B",
        "3rPMUd4u85S6",
        "-koOxSNZ4Cip",
        "RCFec9IYiA4y",
        "a43pXtG2CCu7",
        "K4QSG3xloc_s",
        "7o9DXG_nMTZ3",
        "uh84OGeba-xy",
        "2mR4jm0gK_Ik",
        "cx3puxOtkSB6",
        "CPkS2lXMqnk3",
        "5zNItA-dC3_B",
        "yHWyGMMCq9Ql",
        "5l-1qiZClGDW",
        "MXdyZJ2mrJxF",
        "n0Haz9fcHiyo",
        "T0yFCvq-GljG"
      ],
      "toc_visible": true,
      "include_colab_link": true
    },
    "kernelspec": {
      "name": "python3",
      "display_name": "Python 3"
    },
    "accelerator": "GPU"
  },
  "cells": [
    {
      "cell_type": "markdown",
      "metadata": {
        "id": "view-in-github",
        "colab_type": "text"
      },
      "source": [
        "<a href=\"https://colab.research.google.com/github/noushadkhan01/Projects/blob/master/Machine-Learning/Classification/All-Algorithms/All_Classification_algorithms_on_Advertising_Data.ipynb\" target=\"_parent\"><img src=\"https://colab.research.google.com/assets/colab-badge.svg\" alt=\"Open In Colab\"/></a>"
      ]
    },
    {
      "metadata": {
        "id": "MtFegVk87wgf",
        "colab_type": "code",
        "colab": {}
      },
      "cell_type": "code",
      "source": [
        "import pandas as pd\n",
        "import seaborn as sns\n",
        "import numpy as np\n",
        "import matplotlib.pyplot as plt\n",
        "%matplotlib inline"
      ],
      "execution_count": 0,
      "outputs": []
    },
    {
      "metadata": {
        "id": "kOQTCuizmKsU",
        "colab_type": "text"
      },
      "cell_type": "markdown",
      "source": [
        "# Read Data"
      ]
    },
    {
      "metadata": {
        "id": "X4ifCuIK8H0z",
        "colab_type": "code",
        "outputId": "22cd40c8-07af-4e67-d163-cfa510fc327f",
        "colab": {
          "base_uri": "https://localhost:8080/",
          "height": 204
        }
      },
      "cell_type": "code",
      "source": [
        "df = pd.read_csv('https://bit.ly/2U2dZq6')\n",
        "df.head()"
      ],
      "execution_count": 0,
      "outputs": [
        {
          "output_type": "execute_result",
          "data": {
            "text/html": [
              "<div>\n",
              "<style scoped>\n",
              "    .dataframe tbody tr th:only-of-type {\n",
              "        vertical-align: middle;\n",
              "    }\n",
              "\n",
              "    .dataframe tbody tr th {\n",
              "        vertical-align: top;\n",
              "    }\n",
              "\n",
              "    .dataframe thead th {\n",
              "        text-align: right;\n",
              "    }\n",
              "</style>\n",
              "<table border=\"1\" class=\"dataframe\">\n",
              "  <thead>\n",
              "    <tr style=\"text-align: right;\">\n",
              "      <th></th>\n",
              "      <th>User ID</th>\n",
              "      <th>Gender</th>\n",
              "      <th>Age</th>\n",
              "      <th>EstimatedSalary</th>\n",
              "      <th>Purchased</th>\n",
              "    </tr>\n",
              "  </thead>\n",
              "  <tbody>\n",
              "    <tr>\n",
              "      <th>0</th>\n",
              "      <td>15624510</td>\n",
              "      <td>Male</td>\n",
              "      <td>19</td>\n",
              "      <td>19000</td>\n",
              "      <td>0</td>\n",
              "    </tr>\n",
              "    <tr>\n",
              "      <th>1</th>\n",
              "      <td>15810944</td>\n",
              "      <td>Male</td>\n",
              "      <td>35</td>\n",
              "      <td>20000</td>\n",
              "      <td>0</td>\n",
              "    </tr>\n",
              "    <tr>\n",
              "      <th>2</th>\n",
              "      <td>15668575</td>\n",
              "      <td>Female</td>\n",
              "      <td>26</td>\n",
              "      <td>43000</td>\n",
              "      <td>0</td>\n",
              "    </tr>\n",
              "    <tr>\n",
              "      <th>3</th>\n",
              "      <td>15603246</td>\n",
              "      <td>Female</td>\n",
              "      <td>27</td>\n",
              "      <td>57000</td>\n",
              "      <td>0</td>\n",
              "    </tr>\n",
              "    <tr>\n",
              "      <th>4</th>\n",
              "      <td>15804002</td>\n",
              "      <td>Male</td>\n",
              "      <td>19</td>\n",
              "      <td>76000</td>\n",
              "      <td>0</td>\n",
              "    </tr>\n",
              "  </tbody>\n",
              "</table>\n",
              "</div>"
            ],
            "text/plain": [
              "    User ID  Gender  Age  EstimatedSalary  Purchased\n",
              "0  15624510    Male   19            19000          0\n",
              "1  15810944    Male   35            20000          0\n",
              "2  15668575  Female   26            43000          0\n",
              "3  15603246  Female   27            57000          0\n",
              "4  15804002    Male   19            76000          0"
            ]
          },
          "metadata": {
            "tags": []
          },
          "execution_count": 45
        }
      ]
    },
    {
      "metadata": {
        "id": "dNP2qOGO9J6B",
        "colab_type": "text"
      },
      "cell_type": "markdown",
      "source": [
        "# Train Test Split"
      ]
    },
    {
      "metadata": {
        "id": "A682-lq-IDoq",
        "colab_type": "code",
        "outputId": "83739253-e430-4093-bf5a-f530b9913b48",
        "colab": {
          "base_uri": "https://localhost:8080/",
          "height": 34
        }
      },
      "cell_type": "code",
      "source": [
        "def preprocessing(all_data = False):\n",
        "  import pandas as pd\n",
        "  df = pd.read_csv('https://bit.ly/2U2dZq6')\n",
        "  X = df.iloc[:, 2:-1]\n",
        "  y = df.Purchased\n",
        "  from sklearn.model_selection import train_test_split  \n",
        "  X_train, X_test, y_train, y_test = train_test_split(X, y, test_size = .25, random_state = 0)\n",
        "  if all_data:\n",
        "    return X, y, X_train, X_test, y_train, y_test\n",
        "  return X_train, X_test, y_train, y_test\n",
        "X, y, X_train, X_test, y_train, y_test = preprocessing(True)\n",
        "X_train.shape, X_test.shape, y_train.shape, y_test.shape"
      ],
      "execution_count": 6,
      "outputs": [
        {
          "output_type": "execute_result",
          "data": {
            "text/plain": [
              "((300, 2), (100, 2), (300,), (100,))"
            ]
          },
          "metadata": {
            "tags": []
          },
          "execution_count": 6
        }
      ]
    },
    {
      "metadata": {
        "id": "95EXq5JifXJ0",
        "colab_type": "code",
        "outputId": "ff62c406-4858-4506-d3fd-c6e154b4c7ed",
        "colab": {
          "base_uri": "https://localhost:8080/",
          "height": 34
        }
      },
      "cell_type": "code",
      "source": [
        "X.shape, y.shape"
      ],
      "execution_count": 7,
      "outputs": [
        {
          "output_type": "execute_result",
          "data": {
            "text/plain": [
              "((400, 2), (400,))"
            ]
          },
          "metadata": {
            "tags": []
          },
          "execution_count": 7
        }
      ]
    },
    {
      "metadata": {
        "id": "3rPMUd4u85S6",
        "colab_type": "text"
      },
      "cell_type": "markdown",
      "source": [
        "# Feature_scaling"
      ]
    },
    {
      "metadata": {
        "id": "NiQ2zF-lJZ8J",
        "colab_type": "code",
        "colab": {}
      },
      "cell_type": "code",
      "source": [
        "def scaling(X_train = X_train, X_test = X_test, all_data = False):\n",
        "  from sklearn.preprocessing import StandardScaler  \n",
        "  sc = StandardScaler()\n",
        "  X_train_scaled = sc.fit_transform(X_train)\n",
        "  if not all_data:\n",
        "    X_test_scaled = sc.transform(X_test)\n",
        "    return X_train_scaled, X_test_scaled\n",
        "  return X_train_scaled\n",
        "\n",
        "X_train_scaled, X_test_scaled = scaling()"
      ],
      "execution_count": 0,
      "outputs": []
    },
    {
      "metadata": {
        "id": "AbthN78Cnv19",
        "colab_type": "code",
        "colab": {}
      },
      "cell_type": "code",
      "source": [
        "X_train_scaled, X_test_scaled = scaling()"
      ],
      "execution_count": 0,
      "outputs": []
    },
    {
      "metadata": {
        "id": "ipIONDQ3fjnu",
        "colab_type": "code",
        "outputId": "d1409347-da42-492f-e12e-c764211ea662",
        "colab": {
          "base_uri": "https://localhost:8080/",
          "height": 51
        }
      },
      "cell_type": "code",
      "source": [
        "X_scaled = scaling(X, all_data = True)\n",
        "X_scaled[:2]"
      ],
      "execution_count": 10,
      "outputs": [
        {
          "output_type": "execute_result",
          "data": {
            "text/plain": [
              "array([[-1.78179743, -1.49004624],\n",
              "       [-0.25358736, -1.46068138]])"
            ]
          },
          "metadata": {
            "tags": []
          },
          "execution_count": 10
        }
      ]
    },
    {
      "metadata": {
        "id": "ZQ0As3Oehhkv",
        "colab_type": "code",
        "outputId": "9be033f0-17a4-4319-a39f-43e852d4dba3",
        "colab": {
          "base_uri": "https://localhost:8080/",
          "height": 34
        }
      },
      "cell_type": "code",
      "source": [
        "X_scaled.shape"
      ],
      "execution_count": 11,
      "outputs": [
        {
          "output_type": "execute_result",
          "data": {
            "text/plain": [
              "(400, 2)"
            ]
          },
          "metadata": {
            "tags": []
          },
          "execution_count": 11
        }
      ]
    },
    {
      "metadata": {
        "id": "84ANaMgQ9kU9",
        "colab_type": "text"
      },
      "cell_type": "markdown",
      "source": [
        "# Train_Model"
      ]
    },
    {
      "metadata": {
        "id": "-koOxSNZ4Cip",
        "colab_type": "text"
      },
      "cell_type": "markdown",
      "source": [
        "## functions we are using for all models"
      ]
    },
    {
      "metadata": {
        "id": "xEf3DPNRh8JZ",
        "colab_type": "text"
      },
      "cell_type": "markdown",
      "source": [
        "### for printing the model results"
      ]
    },
    {
      "metadata": {
        "id": "DliLFpAS23Uo",
        "colab_type": "code",
        "colab": {}
      },
      "cell_type": "code",
      "source": [
        "def model_fit(X_train, X_test, model):\n",
        "  from sklearn.metrics import confusion_matrix, classification_report\n",
        "  model.fit(X_train, y_train)\n",
        "  print(F' Train score is {model.score(X_train, y_train)}')\n",
        "  print('\\n')\n",
        "  print(f'Test score is {model.score(X_test, y_test)}')\n",
        "  print('\\n\\n')\n",
        "  y_pred = model.predict(X_test)\n",
        "  print(f'Train confusion matrix is \\n {confusion_matrix(y_train, model.predict(X_train))}\\n')\n",
        "  print(f'Test confusion matrix is \\n {confusion_matrix(y_test, y_pred)}')\n",
        "  print('\\n\\n')\n",
        "  print(f'classification report is \\n {classification_report(y_test, y_pred)}')\n",
        "  return model"
      ],
      "execution_count": 0,
      "outputs": []
    },
    {
      "metadata": {
        "id": "RCFec9IYiA4y",
        "colab_type": "text"
      },
      "cell_type": "markdown",
      "source": [
        "### for visualisation of model's boundary in graphical form"
      ]
    },
    {
      "metadata": {
        "id": "ovZxlrB0ogXt",
        "colab_type": "code",
        "colab": {}
      },
      "cell_type": "code",
      "source": [
        "def graph(X_train, X_test, classifier, model_parameters = False):\n",
        "  import matplotlib.pyplot as plt\n",
        "  %matplotlib inline\n",
        "  import numpy as np\n",
        "  from matplotlib.colors import ListedColormap\n",
        "  className = model.__class__.__name__\n",
        "  print(f'{className} Model \\n')\n",
        "  if model_parameters:\n",
        "    print(model)\n",
        "    print('\\n\\n')\n",
        "  # Visualising the Training set results\n",
        "  X_set, y_set = X_train, y_train\n",
        "  X1, X2 = np.meshgrid(np.arange(start = X_set[:, 0].min() - 1, stop = X_set[:, 0].max() + 1, step = 0.01),\n",
        "                       np.arange(start = X_set[:, 1].min() - 1, stop = X_set[:, 1].max() + 1, step = 0.01))\n",
        "  plt.contourf(X1, X2, classifier.predict(np.array([X1.ravel(), X2.ravel()]).T).reshape(X1.shape),\n",
        "               alpha = 0.75, cmap = ListedColormap(('red', 'green')))\n",
        "  plt.xlim(X1.min(), X1.max())\n",
        "  plt.ylim(X2.min(), X2.max())\n",
        "  for i, j in enumerate(np.unique(y_set)):\n",
        "      plt.scatter(X_set[y_set == j, 0], X_set[y_set == j, 1],\n",
        "                  c = ListedColormap(('red', 'green'))(i), label = j)\n",
        "  plt.title(f'{className} Classifier (Training set)')\n",
        "  plt.xlabel('Age')\n",
        "  plt.ylabel('Estimated Salary')\n",
        "  plt.legend(loc = 'best', bbox_to_anchor=(1.2, 0.5))\n",
        "  plt.show()\n",
        "\n",
        "  # Visualising the Test set results\n",
        "  from matplotlib.colors import ListedColormap\n",
        "  X_set, y_set = X_test, y_test\n",
        "  X1, X2 = np.meshgrid(np.arange(start = X_set[:, 0].min() - 1, stop = X_set[:, 0].max() + 1, step = 0.01),\n",
        "                       np.arange(start = X_set[:, 1].min() - 1, stop = X_set[:, 1].max() + 1, step = 0.01))\n",
        "  plt.contourf(X1, X2, classifier.predict(np.array([X1.ravel(), X2.ravel()]).T).reshape(X1.shape),\n",
        "               alpha = 0.75, cmap = ListedColormap(('red', 'green')))\n",
        "  plt.xlim(X1.min(), X1.max())\n",
        "  plt.ylim(X2.min(), X2.max())\n",
        "  for i, j in enumerate(np.unique(y_set)):\n",
        "      plt.scatter(X_set[y_set == j, 0], X_set[y_set == j, 1],\n",
        "                  c = ListedColormap(('red', 'green'))(i), label = j)\n",
        "  plt.title(f'{className} Classifier (Test set)')\n",
        "  plt.xlabel('Age')\n",
        "  plt.ylabel('Estimated Salary')\n",
        "  plt.legend(loc = 'best', bbox_to_anchor=(1.2, 0.5))\n",
        "  plt.show()"
      ],
      "execution_count": 0,
      "outputs": []
    },
    {
      "metadata": {
        "id": "nY0wGpfyh3ku",
        "colab_type": "text"
      },
      "cell_type": "markdown",
      "source": [
        "### Cross_validation"
      ]
    },
    {
      "metadata": {
        "id": "hSIt8QuSfp2G",
        "colab_type": "code",
        "colab": {}
      },
      "cell_type": "code",
      "source": [
        "def cross_validation(X, y, model, cv = 10, out = True):\n",
        "  from sklearn.model_selection import cross_val_score\n",
        "  cross_val_scores = cross_val_score(model, X, y, cv = cv)\n",
        "  mean = np.mean(cross_val_scores)\n",
        "  if out:\n",
        "    print(f'{cv} fold cross-validation for -- {model.__class__.__name__}-- Model \\n\\n')\n",
        "    print(f'cross validation score for {cv} fold cross-validation is:-- \\n {cross_val_scores}\\n\\n')\n",
        "    print(f'variance in scores for {cv} fold cross-validationn for {model.__class__.__name__}:-- {cross_val_scores.std()}\\n\\n')\n",
        "    return f'Mean for {cv} fold cross-validation score:-- {mean}'\n",
        "  return mean"
      ],
      "execution_count": 0,
      "outputs": []
    },
    {
      "metadata": {
        "id": "a43pXtG2CCu7",
        "colab_type": "text"
      },
      "cell_type": "markdown",
      "source": [
        "## 1.1 LogisticRegression"
      ]
    },
    {
      "metadata": {
        "id": "CtshsPGK9iNS",
        "colab_type": "code",
        "outputId": "50f41ec9-c8ce-4700-ef7b-2ac1630001c3",
        "colab": {
          "base_uri": "https://localhost:8080/",
          "height": 442
        }
      },
      "cell_type": "code",
      "source": [
        "from sklearn.linear_model import LogisticRegression\n",
        "from sklearn.metrics import confusion_matrix, classification_report\n",
        "model = LogisticRegression(random_state = 0)\n",
        "model = model_fit(X_train_scaled, X_test_scaled, model)"
      ],
      "execution_count": 0,
      "outputs": [
        {
          "output_type": "stream",
          "text": [
            " Train score is 0.8233333333333334\n",
            "\n",
            "\n",
            "Test score is 0.89\n",
            "\n",
            "\n",
            "\n",
            "Train confusion matrix is \n",
            " [[172  17]\n",
            " [ 36  75]]\n",
            "\n",
            "Test confusion matrix is \n",
            " [[65  3]\n",
            " [ 8 24]]\n",
            "\n",
            "\n",
            "\n",
            "classification report is \n",
            "              precision    recall  f1-score   support\n",
            "\n",
            "          0       0.89      0.96      0.92        68\n",
            "          1       0.89      0.75      0.81        32\n",
            "\n",
            "avg / total       0.89      0.89      0.89       100\n",
            "\n"
          ],
          "name": "stdout"
        }
      ]
    },
    {
      "metadata": {
        "id": "xIApWwqjg_CP",
        "colab_type": "text"
      },
      "cell_type": "markdown",
      "source": [
        "##### cross_validation"
      ]
    },
    {
      "metadata": {
        "id": "Vycm49ythBbD",
        "colab_type": "code",
        "outputId": "c12efcb8-9f1d-4b72-f579-ee8cd8fd460b",
        "colab": {
          "base_uri": "https://localhost:8080/",
          "height": 221
        }
      },
      "cell_type": "code",
      "source": [
        "model = LogisticRegression()\n",
        "cross_validation(X_scaled, y, model)"
      ],
      "execution_count": 0,
      "outputs": [
        {
          "output_type": "stream",
          "text": [
            "10 fold cross-validation for -- LogisticRegression-- Model \n",
            "\n",
            "\n",
            "cross validation score for 10 fold cross-validation is:-- \n",
            " [0.65853659 0.70731707 0.97560976 0.95       0.95       0.9\n",
            " 0.825      0.76923077 0.76923077 0.71794872]\n",
            "\n",
            "\n",
            "variance in scores for 10 fold cross-validationn for LogisticRegression:-- 0.10896074785365382\n",
            "\n",
            "\n"
          ],
          "name": "stdout"
        },
        {
          "output_type": "execute_result",
          "data": {
            "text/plain": [
              "'Mean for 10 fold cross-validation score:-- 0.8222873671044402'"
            ]
          },
          "metadata": {
            "tags": []
          },
          "execution_count": 64
        }
      ]
    },
    {
      "metadata": {
        "id": "KhoZGPoR-fC0",
        "colab_type": "code",
        "colab": {}
      },
      "cell_type": "code",
      "source": [
        "y_proba = model.predict_proba(X_test_scaled)"
      ],
      "execution_count": 0,
      "outputs": []
    },
    {
      "metadata": {
        "id": "GSW1n84F-lQH",
        "colab_type": "code",
        "outputId": "ca82043d-92e9-4c5d-8f83-6bd251a8afa6",
        "colab": {
          "base_uri": "https://localhost:8080/",
          "height": 51
        }
      },
      "cell_type": "code",
      "source": [
        "y_proba[:2]"
      ],
      "execution_count": 0,
      "outputs": [
        {
          "output_type": "execute_result",
          "data": {
            "text/plain": [
              "array([[0.8835313 , 0.1164687 ],\n",
              "       [0.82871699, 0.17128301]])"
            ]
          },
          "metadata": {
            "tags": []
          },
          "execution_count": 68
        }
      ]
    },
    {
      "metadata": {
        "id": "2eNbns0qoM_S",
        "colab_type": "code",
        "outputId": "de92d349-779c-40bb-ef12-daa87c0a96b5",
        "colab": {
          "base_uri": "https://localhost:8080/",
          "height": 266
        }
      },
      "cell_type": "code",
      "source": [
        "y_max_proba = [max(i) for i in y_proba]\n",
        "plt.hist(y_max_proba, bins = 20)\n",
        "plt.show()"
      ],
      "execution_count": 0,
      "outputs": [
        {
          "output_type": "display_data",
          "data": {
            "image/png": "[encoded data removed]",
            "text/plain": [
              "<matplotlib.figure.Figure at 0x7f3db5433128>"
            ]
          },
          "metadata": {
            "tags": []
          }
        }
      ]
    },
    {
      "metadata": {
        "id": "K4QSG3xloc_s",
        "colab_type": "text"
      },
      "cell_type": "markdown",
      "source": [
        "##### Visualisation"
      ]
    },
    {
      "metadata": {
        "id": "TYPsnBqgoypT",
        "colab_type": "code",
        "outputId": "c3a746b3-b8fd-4789-9fb5-a3d23ea32df1",
        "colab": {
          "base_uri": "https://localhost:8080/",
          "height": 724
        }
      },
      "cell_type": "code",
      "source": [
        "graph(X_train_scaled, X_test_scaled, model, True)"
      ],
      "execution_count": 0,
      "outputs": [
        {
          "output_type": "stream",
          "text": [
            "LogisticRegression Model \n",
            "\n",
            "LogisticRegression(C=1.0, class_weight=None, dual=False, fit_intercept=True,\n",
            "          intercept_scaling=1, max_iter=100, multi_class='ovr', n_jobs=1,\n",
            "          penalty='l2', random_state=0, solver='liblinear', tol=0.0001,\n",
            "          verbose=0, warm_start=False)\n",
            "\n",
            "\n",
            "\n"
          ],
          "name": "stdout"
        },
        {
          "output_type": "display_data",
          "data": {
            "image/png": "[encoded data removed]",
            "text/plain": [
              "<matplotlib.figure.Figure at 0x7f3db2336fd0>"
            ]
          },
          "metadata": {
            "tags": []
          }
        },
        {
          "output_type": "display_data",
          "data": {
            "image/png": "[encoded data removed]",
            "text/plain": [
              "<matplotlib.figure.Figure at 0x7f3db25f1898>"
            ]
          },
          "metadata": {
            "tags": []
          }
        }
      ]
    },
    {
      "metadata": {
        "id": "mHaXWrYdCGNR",
        "colab_type": "text"
      },
      "cell_type": "markdown",
      "source": [
        "### 1.2 LogisticRegression with PolynomialFeatures"
      ]
    },
    {
      "metadata": {
        "id": "iRcZzDGgCL9_",
        "colab_type": "code",
        "outputId": "ea949697-895b-4657-da43-f26e97df7549",
        "colab": {
          "base_uri": "https://localhost:8080/",
          "height": 442
        }
      },
      "cell_type": "code",
      "source": [
        "from sklearn.preprocessing import PolynomialFeatures\n",
        "from sklearn.metrics import confusion_matrix, classification_report\n",
        "poly = PolynomialFeatures(6)\n",
        "X_train_poly = poly.fit_transform(X_train_scaled)\n",
        "X_test_poly = poly.fit_transform(X_test_scaled)\n",
        "lrmodel = LogisticRegression()\n",
        "model = model_fit(X_train_poly, X_test_poly, lrmodel)"
      ],
      "execution_count": 0,
      "outputs": [
        {
          "output_type": "stream",
          "text": [
            " Train score is 0.8966666666666666\n",
            "\n",
            "\n",
            "Test score is 0.92\n",
            "\n",
            "\n",
            "\n",
            "Train confusion matrix is \n",
            " [[175  14]\n",
            " [ 17  94]]\n",
            "\n",
            "Test confusion matrix is \n",
            " [[64  4]\n",
            " [ 4 28]]\n",
            "\n",
            "\n",
            "\n",
            "classification report is \n",
            "              precision    recall  f1-score   support\n",
            "\n",
            "          0       0.94      0.94      0.94        68\n",
            "          1       0.88      0.88      0.88        32\n",
            "\n",
            "avg / total       0.92      0.92      0.92       100\n",
            "\n"
          ],
          "name": "stdout"
        }
      ]
    },
    {
      "metadata": {
        "colab_type": "text",
        "id": "FLDYeKgXiW9k"
      },
      "cell_type": "markdown",
      "source": [
        "###### **cross_validation for polynomial Features**"
      ]
    },
    {
      "metadata": {
        "colab_type": "code",
        "outputId": "aac9b3e3-ef45-4389-f75d-b0c7c2834b99",
        "id": "hS9pn4c0iW9m",
        "colab": {
          "base_uri": "https://localhost:8080/",
          "height": 221
        }
      },
      "cell_type": "code",
      "source": [
        "model = LogisticRegression()\n",
        "from sklearn.preprocessing import PolynomialFeatures\n",
        "X_poly = PolynomialFeatures(3).fit_transform(X_scaled)\n",
        "cross_validation(X_poly, y, model)"
      ],
      "execution_count": 0,
      "outputs": [
        {
          "output_type": "stream",
          "text": [
            "10 fold cross-validation for -- LogisticRegression-- Model \n",
            "\n",
            "\n",
            "cross validation score for 10 fold cross-validation is:-- \n",
            " [0.97560976 0.85365854 0.87804878 0.975      0.95       0.875\n",
            " 0.825      0.79487179 0.87179487 0.94871795]\n",
            "\n",
            "\n",
            "variance in scores for 10 fold cross-validationn for LogisticRegression:-- 0.06055461868961714\n",
            "\n",
            "\n"
          ],
          "name": "stdout"
        },
        {
          "output_type": "execute_result",
          "data": {
            "text/plain": [
              "'Mean for 10 fold cross-validation score:-- 0.8947701688555348'"
            ]
          },
          "metadata": {
            "tags": []
          },
          "execution_count": 20
        }
      ]
    },
    {
      "metadata": {
        "id": "vT6r1JntK3fU",
        "colab_type": "code",
        "outputId": "bd64dab5-4c2b-4799-8a1c-19962e08a40e",
        "colab": {
          "base_uri": "https://localhost:8080/",
          "height": 34
        }
      },
      "cell_type": "code",
      "source": [
        "model.coef_.shape"
      ],
      "execution_count": 0,
      "outputs": [
        {
          "output_type": "execute_result",
          "data": {
            "text/plain": [
              "(1, 28)"
            ]
          },
          "metadata": {
            "tags": []
          },
          "execution_count": 169
        }
      ]
    },
    {
      "metadata": {
        "id": "7o9DXG_nMTZ3",
        "colab_type": "text"
      },
      "cell_type": "markdown",
      "source": [
        "##### probability of y_test"
      ]
    },
    {
      "metadata": {
        "id": "wdKXj6OTMWXC",
        "colab_type": "code",
        "colab": {}
      },
      "cell_type": "code",
      "source": [
        "y_test_proba = lrmodel.predict_proba(X_test_poly)"
      ],
      "execution_count": 0,
      "outputs": []
    },
    {
      "metadata": {
        "id": "iXlLhO5yMea8",
        "colab_type": "code",
        "outputId": "21072bd0-ef16-4082-88fa-aa1e56837418",
        "colab": {
          "base_uri": "https://localhost:8080/",
          "height": 51
        }
      },
      "cell_type": "code",
      "source": [
        "y_test_proba[:2]"
      ],
      "execution_count": 0,
      "outputs": [
        {
          "output_type": "execute_result",
          "data": {
            "text/plain": [
              "array([[0.9201132 , 0.0798868 ],\n",
              "       [0.94888294, 0.05111706]])"
            ]
          },
          "metadata": {
            "tags": []
          },
          "execution_count": 102
        }
      ]
    },
    {
      "metadata": {
        "id": "Z4AQr2zkMlPy",
        "colab_type": "code",
        "outputId": "aefea24e-f3a7-4b96-a884-fca627fde985",
        "colab": {
          "base_uri": "https://localhost:8080/",
          "height": 34
        }
      },
      "cell_type": "code",
      "source": [
        "y_max_proba = [np.max(i) for i in y_test_proba]\n",
        "y_max_proba[:2]"
      ],
      "execution_count": 0,
      "outputs": [
        {
          "output_type": "execute_result",
          "data": {
            "text/plain": [
              "[0.9201131984533866, 0.9488829439074131]"
            ]
          },
          "metadata": {
            "tags": []
          },
          "execution_count": 103
        }
      ]
    },
    {
      "metadata": {
        "id": "C26cFHDmMwXN",
        "colab_type": "code",
        "outputId": "3d73aa52-3801-482b-d4c9-5d702ca8b675",
        "colab": {
          "base_uri": "https://localhost:8080/",
          "height": 268
        }
      },
      "cell_type": "code",
      "source": [
        "plt.hist(y_max_proba)\n",
        "plt.show()"
      ],
      "execution_count": 0,
      "outputs": [
        {
          "output_type": "display_data",
          "data": {
            "image/png": "[encoded data removed]",
            "text/plain": [
              "<matplotlib.figure.Figure at 0x7fbc09da4630>"
            ]
          },
          "metadata": {
            "tags": []
          }
        }
      ]
    },
    {
      "metadata": {
        "id": "2mR4jm0gK_Ik",
        "colab_type": "text"
      },
      "cell_type": "markdown",
      "source": [
        "## 2. KNN"
      ]
    },
    {
      "metadata": {
        "id": "33c2q0Q2rNBA",
        "colab_type": "text"
      },
      "cell_type": "markdown",
      "source": [
        "### Graph Train score, Test Score vs. n_neighbors Without scaling features"
      ]
    },
    {
      "metadata": {
        "id": "6X6BdbCgHjCK",
        "colab_type": "code",
        "outputId": "54221804-80fb-409b-f40e-33ddf0046696",
        "colab": {
          "base_uri": "https://localhost:8080/",
          "height": 320
        }
      },
      "cell_type": "code",
      "source": [
        "def plotting(X_train, X_test):\n",
        "  x = range(1,30)\n",
        "  t = []\n",
        "  s = []\n",
        "  for i in x:\n",
        "    model = KNeighborsClassifier(n_neighbors = i)\n",
        "    model.fit(X_train, y_train)\n",
        "    s.append(model.score(X_test, y_test))\n",
        "    t.append(model.score(X_train, y_train))\n",
        "\n",
        "  plt.figure(figsize =(10, 5))\n",
        "  plt.plot(x, t, c = 'r', label = 'Train score')\n",
        "  plt.plot(x, s, c = 'g', label = 'Test score')\n",
        "  plt.xticks(x)          \n",
        "  plt.legend()    \n",
        "  plt.grid()\n",
        "  plt.grid()\n",
        "  plt.show()\n",
        "plotting(X_train, X_test)"
      ],
      "execution_count": 0,
      "outputs": [
        {
          "output_type": "display_data",
          "data": {
            "image/png": "[encoded data removed]",
            "text/plain": [
              "<matplotlib.figure.Figure at 0x7fb8c982f6d8>"
            ]
          },
          "metadata": {
            "tags": []
          }
        }
      ]
    },
    {
      "metadata": {
        "id": "Szxj_6dWIR_Y",
        "colab_type": "text"
      },
      "cell_type": "markdown",
      "source": [
        "### Graph Train Score, Test Score vs. n_neighbors After Scaling the Features"
      ]
    },
    {
      "metadata": {
        "colab_type": "code",
        "id": "N-O-Uu2yH0-f",
        "colab": {}
      },
      "cell_type": "code",
      "source": [
        "X_train_scaled, X_test_scaled = scaling()"
      ],
      "execution_count": 0,
      "outputs": []
    },
    {
      "metadata": {
        "id": "Mbn3liKpL7So",
        "colab_type": "code",
        "outputId": "c27217e9-ddd9-4577-837b-17b0189307fe",
        "colab": {
          "base_uri": "https://localhost:8080/",
          "height": 320
        }
      },
      "cell_type": "code",
      "source": [
        "plotting(X_train_scaled, X_test_scaled)"
      ],
      "execution_count": 0,
      "outputs": [
        {
          "output_type": "display_data",
          "data": {
            "image/png": "[encoded data removed]",
            "text/plain": [
              "<matplotlib.figure.Figure at 0x7fb8cce05908>"
            ]
          },
          "metadata": {
            "tags": []
          }
        }
      ]
    },
    {
      "metadata": {
        "id": "cx3puxOtkSB6",
        "colab_type": "text"
      },
      "cell_type": "markdown",
      "source": [
        "### Graph for polynomialFeatures of degree 6"
      ]
    },
    {
      "metadata": {
        "id": "oOEwJLOrkCpZ",
        "colab_type": "code",
        "outputId": "0fed00db-7c75-4ca2-ea81-453ee3fd143a",
        "colab": {
          "base_uri": "https://localhost:8080/",
          "height": 320
        }
      },
      "cell_type": "code",
      "source": [
        "plotting(X_train_poly, X_test_poly)"
      ],
      "execution_count": 0,
      "outputs": [
        {
          "output_type": "display_data",
          "data": {
            "image/png": "[encoded data removed]",
            "text/plain": [
              "<matplotlib.figure.Figure at 0x7fb8cce2b278>"
            ]
          },
          "metadata": {
            "tags": []
          }
        }
      ]
    },
    {
      "metadata": {
        "id": "3UBgMEf0OaVa",
        "colab_type": "text"
      },
      "cell_type": "markdown",
      "source": [
        "### model for n_neighbors = 3"
      ]
    },
    {
      "metadata": {
        "id": "EHXaQNsHKLSY",
        "colab_type": "code",
        "outputId": "a6de23e5-c3c8-443c-b281-ac115a2bae48",
        "colab": {
          "base_uri": "https://localhost:8080/",
          "height": 442
        }
      },
      "cell_type": "code",
      "source": [
        "model = KNeighborsClassifier(n_neighbors = 3)\n",
        "model.fit(X_train_scaled, y_train)\n",
        "modele = model_fit(X_train_scaled, X_test_scaled, model)"
      ],
      "execution_count": 0,
      "outputs": [
        {
          "output_type": "stream",
          "text": [
            " Train score is 0.9133333333333333\n",
            "\n",
            "\n",
            "Test score is 0.93\n",
            "\n",
            "\n",
            "\n",
            "Train confusion matrix is \n",
            " [[174  15]\n",
            " [ 11 100]]\n",
            "\n",
            "Test confusion matrix is \n",
            " [[64  4]\n",
            " [ 3 29]]\n",
            "\n",
            "\n",
            "\n",
            "classification report is \n",
            "              precision    recall  f1-score   support\n",
            "\n",
            "          0       0.96      0.94      0.95        68\n",
            "          1       0.88      0.91      0.89        32\n",
            "\n",
            "avg / total       0.93      0.93      0.93       100\n",
            "\n"
          ],
          "name": "stdout"
        }
      ]
    },
    {
      "metadata": {
        "id": "ID_mSzISjHXp",
        "colab_type": "text"
      },
      "cell_type": "markdown",
      "source": [
        "#### **Cross Validation for for linear Features with n_neighbors = 3**"
      ]
    },
    {
      "metadata": {
        "colab_type": "code",
        "outputId": "aaaf0b70-403f-4c8f-b59a-9b1b3aded438",
        "id": "tpRQcSqpjL5f",
        "colab": {
          "base_uri": "https://localhost:8080/",
          "height": 221
        }
      },
      "cell_type": "code",
      "source": [
        "from sklearn.neighbors import KNeighborsClassifier\n",
        "model = KNeighborsClassifier(3)\n",
        "cross_validation(X_scaled, y, model)"
      ],
      "execution_count": 0,
      "outputs": [
        {
          "output_type": "stream",
          "text": [
            "10 fold cross-validation for -- KNeighborsClassifier-- Model \n",
            "\n",
            "\n",
            "cross validation score for 10 fold cross-validation is:-- \n",
            " [1.         0.80487805 0.90243902 1.         0.975      0.825\n",
            " 0.875      0.79487179 0.87179487 0.8974359 ]\n",
            "\n",
            "\n",
            "variance in scores for 10 fold cross-validationn for KNeighborsClassifier:-- 0.07245418711799607\n",
            "\n",
            "\n"
          ],
          "name": "stdout"
        },
        {
          "output_type": "execute_result",
          "data": {
            "text/plain": [
              "'Mean for 10 fold cross-validation score:-- 0.8946419637273296'"
            ]
          },
          "metadata": {
            "tags": []
          },
          "execution_count": 22
        }
      ]
    },
    {
      "metadata": {
        "id": "b8uib8GzjBfq",
        "colab_type": "text"
      },
      "cell_type": "markdown",
      "source": [
        "#### **Cross Validation for polynomialFeatures of degree 3 and n_neighbors = 3**"
      ]
    },
    {
      "metadata": {
        "colab_type": "code",
        "outputId": "5cc8cf90-8d4e-4854-bacb-3314e928ea2e",
        "id": "xvpQs2kHiwJF",
        "colab": {
          "base_uri": "https://localhost:8080/",
          "height": 221
        }
      },
      "cell_type": "code",
      "source": [
        "from sklearn.neighbors import KNeighborsClassifier\n",
        "model = KNeighborsClassifier(3)\n",
        "cross_validation(X_poly, y, model)"
      ],
      "execution_count": 0,
      "outputs": [
        {
          "output_type": "stream",
          "text": [
            "10 fold cross-validation for -- KNeighborsClassifier-- Model \n",
            "\n",
            "\n",
            "cross validation score for 10 fold cross-validation is:-- \n",
            " [1.         0.80487805 0.90243902 1.         0.975      0.825\n",
            " 0.825      0.79487179 0.84615385 0.92307692]\n",
            "\n",
            "\n",
            "variance in scores for 10 fold cross-validationn for KNeighborsClassifier:-- 0.07703254991607365\n",
            "\n",
            "\n"
          ],
          "name": "stdout"
        },
        {
          "output_type": "execute_result",
          "data": {
            "text/plain": [
              "'Mean for 10 fold cross-validation score:-- 0.8896419637273295'"
            ]
          },
          "metadata": {
            "tags": []
          },
          "execution_count": 21
        }
      ]
    },
    {
      "metadata": {
        "id": "7QL257XsOeQB",
        "colab_type": "text"
      },
      "cell_type": "markdown",
      "source": [
        "### model for n_neighbors = 11"
      ]
    },
    {
      "metadata": {
        "id": "ge--jos4ONtZ",
        "colab_type": "code",
        "outputId": "fc8957ba-e62b-4c70-f2d9-fc022769fe62",
        "colab": {
          "base_uri": "https://localhost:8080/",
          "height": 442
        }
      },
      "cell_type": "code",
      "source": [
        "from sklearn.neighbors import KNeighborsClassifier\n",
        "from sklearn.metrics import confusion_matrix, classification_report\n",
        "model = KNeighborsClassifier(n_neighbors = 11)\n",
        "model = model_fit(X_train_scaled, X_test_scaled, model)"
      ],
      "execution_count": 0,
      "outputs": [
        {
          "output_type": "stream",
          "text": [
            " Train score is 0.9166666666666666\n",
            "\n",
            "\n",
            "Test score is 0.93\n",
            "\n",
            "\n",
            "\n",
            "Train confusion matrix is \n",
            " [[172  17]\n",
            " [  8 103]]\n",
            "\n",
            "Test confusion matrix is \n",
            " [[64  4]\n",
            " [ 3 29]]\n",
            "\n",
            "\n",
            "\n",
            "classification report is \n",
            "              precision    recall  f1-score   support\n",
            "\n",
            "          0       0.96      0.94      0.95        68\n",
            "          1       0.88      0.91      0.89        32\n",
            "\n",
            "avg / total       0.93      0.93      0.93       100\n",
            "\n"
          ],
          "name": "stdout"
        }
      ]
    },
    {
      "metadata": {
        "colab_type": "text",
        "id": "pg0nVk2AkkD8"
      },
      "cell_type": "markdown",
      "source": [
        "#### cross_validation for Scaled Linear Features n_neighbors = 11"
      ]
    },
    {
      "metadata": {
        "colab_type": "code",
        "outputId": "5b27b13f-8890-4d21-805f-8378e3709959",
        "id": "VP4zeTfTkkEB",
        "colab": {
          "base_uri": "https://localhost:8080/",
          "height": 221
        }
      },
      "cell_type": "code",
      "source": [
        "from sklearn.neighbors import KNeighborsClassifier\n",
        "model = KNeighborsClassifier(5)\n",
        "cross_validation(X_scaled, y, model)"
      ],
      "execution_count": 0,
      "outputs": [
        {
          "output_type": "stream",
          "text": [
            "10 fold cross-validation for -- KNeighborsClassifier-- Model \n",
            "\n",
            "\n",
            "cross validation score for 10 fold cross-validation is:-- \n",
            " [1.         0.80487805 0.90243902 1.         0.975      0.825\n",
            " 0.85       0.82051282 0.8974359  0.94871795]\n",
            "\n",
            "\n",
            "variance in scores for 10 fold cross-validationn for KNeighborsClassifier:-- 0.07172505651318489\n",
            "\n",
            "\n"
          ],
          "name": "stdout"
        },
        {
          "output_type": "execute_result",
          "data": {
            "text/plain": [
              "'Mean for 10 fold cross-validation score:-- 0.9023983739837398'"
            ]
          },
          "metadata": {
            "tags": []
          },
          "execution_count": 29
        }
      ]
    },
    {
      "metadata": {
        "id": "CPkS2lXMqnk3",
        "colab_type": "text"
      },
      "cell_type": "markdown",
      "source": [
        "#### Visualisation"
      ]
    },
    {
      "metadata": {
        "id": "rhRTGhRsqpRc",
        "colab_type": "code",
        "outputId": "45087e50-e9c9-4c76-aa47-6e258411b408",
        "colab": {
          "base_uri": "https://localhost:8080/",
          "height": 605
        }
      },
      "cell_type": "code",
      "source": [
        "graph(X_train_scaled, X_test_scaled, model)"
      ],
      "execution_count": 0,
      "outputs": [
        {
          "output_type": "stream",
          "text": [
            "KNeighborsClassifier Model \n",
            "\n"
          ],
          "name": "stdout"
        },
        {
          "output_type": "display_data",
          "data": {
            "image/png": "[encoded data removed]",
            "text/plain": [
              "<matplotlib.figure.Figure at 0x7f3db259dbe0>"
            ]
          },
          "metadata": {
            "tags": []
          }
        },
        {
          "output_type": "display_data",
          "data": {
            "image/png": "[encoded data removed]",
            "text/plain": [
              "<matplotlib.figure.Figure at 0x7f3db26ddeb8>"
            ]
          },
          "metadata": {
            "tags": []
          }
        }
      ]
    },
    {
      "metadata": {
        "id": "5zNItA-dC3_B",
        "colab_type": "text"
      },
      "cell_type": "markdown",
      "source": [
        "## 3. SVC"
      ]
    },
    {
      "metadata": {
        "id": "0HQ0z18hEbMC",
        "colab_type": "code",
        "colab": {}
      },
      "cell_type": "code",
      "source": [
        "from sklearn.svm import SVC\n",
        "from sklearn.metrics import confusion_matrix, classification_report"
      ],
      "execution_count": 0,
      "outputs": []
    },
    {
      "metadata": {
        "id": "j8WIiLXOByzW",
        "colab_type": "text"
      },
      "cell_type": "markdown",
      "source": [
        "### 3.1 Linear SVC"
      ]
    },
    {
      "metadata": {
        "id": "3wSvUAfFEfch",
        "colab_type": "code",
        "outputId": "b82301db-cf1e-48de-9869-037fca6c635c",
        "colab": {
          "base_uri": "https://localhost:8080/",
          "height": 442
        }
      },
      "cell_type": "code",
      "source": [
        "model = SVC(kernel = 'linear')\n",
        "model.fit(X_train_scaled, y_train)\n",
        "model = model_fit(X_train_scaled, X_test_scaled, model)"
      ],
      "execution_count": 0,
      "outputs": [
        {
          "output_type": "stream",
          "text": [
            " Train score is 0.8233333333333334\n",
            "\n",
            "\n",
            "Test score is 0.9\n",
            "\n",
            "\n",
            "\n",
            "Train confusion matrix is \n",
            " [[173  16]\n",
            " [ 37  74]]\n",
            "\n",
            "Test confusion matrix is \n",
            " [[66  2]\n",
            " [ 8 24]]\n",
            "\n",
            "\n",
            "\n",
            "classification report is \n",
            "              precision    recall  f1-score   support\n",
            "\n",
            "          0       0.89      0.97      0.93        68\n",
            "          1       0.92      0.75      0.83        32\n",
            "\n",
            "avg / total       0.90      0.90      0.90       100\n",
            "\n"
          ],
          "name": "stdout"
        }
      ]
    },
    {
      "metadata": {
        "colab_type": "text",
        "id": "XnwJL1Syk2HW"
      },
      "cell_type": "markdown",
      "source": [
        "#### cross_validation"
      ]
    },
    {
      "metadata": {
        "colab_type": "code",
        "outputId": "c0dcc04e-8bf7-4f53-8832-c31c299d8752",
        "id": "gkOHYxmnk2HY",
        "colab": {
          "base_uri": "https://localhost:8080/",
          "height": 221
        }
      },
      "cell_type": "code",
      "source": [
        "from sklearn.svm import SVC\n",
        "model = SVC(kernel = 'linear')\n",
        "cross_validation(X_scaled, y, model)"
      ],
      "execution_count": 0,
      "outputs": [
        {
          "output_type": "stream",
          "text": [
            "10 fold cross-validation for -- SVC-- Model \n",
            "\n",
            "\n",
            "cross validation score for 10 fold cross-validation is:-- \n",
            " [0.65853659 0.70731707 0.97560976 0.95       0.925      0.9\n",
            " 0.825      0.76923077 0.79487179 0.66666667]\n",
            "\n",
            "\n",
            "variance in scores for 10 fold cross-validationn for SVC:-- 0.11134416125496528\n",
            "\n",
            "\n"
          ],
          "name": "stdout"
        },
        {
          "output_type": "execute_result",
          "data": {
            "text/plain": [
              "'Mean for 10 fold cross-validation score:-- 0.8172232645403377'"
            ]
          },
          "metadata": {
            "tags": []
          },
          "execution_count": 30
        }
      ]
    },
    {
      "metadata": {
        "id": "yHWyGMMCq9Ql",
        "colab_type": "text"
      },
      "cell_type": "markdown",
      "source": [
        "#### Visualisation"
      ]
    },
    {
      "metadata": {
        "id": "UZte4Qd4q5E4",
        "colab_type": "code",
        "outputId": "8009d15d-814c-4ec8-9688-f07e4e52c224",
        "colab": {
          "base_uri": "https://localhost:8080/",
          "height": 605
        }
      },
      "cell_type": "code",
      "source": [
        "graph(X_train_scaled, X_test_scaled, model)"
      ],
      "execution_count": 0,
      "outputs": [
        {
          "output_type": "stream",
          "text": [
            "SVC Model \n",
            "\n"
          ],
          "name": "stdout"
        },
        {
          "output_type": "display_data",
          "data": {
            "image/png": "[encoded data removed]",
            "text/plain": [
              "<matplotlib.figure.Figure at 0x7f3db51eefd0>"
            ]
          },
          "metadata": {
            "tags": []
          }
        },
        {
          "output_type": "display_data",
          "data": {
            "image/png": "[encoded data removed]",
            "text/plain": [
              "<matplotlib.figure.Figure at 0x7f3db51f1f60>"
            ]
          },
          "metadata": {
            "tags": []
          }
        }
      ]
    },
    {
      "metadata": {
        "id": "MbOrPMkuEmZQ",
        "colab_type": "text"
      },
      "cell_type": "markdown",
      "source": [
        "### 3.2 rbf SVC"
      ]
    },
    {
      "metadata": {
        "id": "tMoRe9fhCAKF",
        "colab_type": "code",
        "outputId": "1a84abbf-283a-496d-c745-ca0ebb1a67cb",
        "colab": {
          "base_uri": "https://localhost:8080/",
          "height": 442
        }
      },
      "cell_type": "code",
      "source": [
        "model = SVC(kernel = 'rbf')\n",
        "model.fit(X_train_scaled, y_train)\n",
        "modele = model_fit(X_train_scaled, X_test_scaled, model)"
      ],
      "execution_count": 0,
      "outputs": [
        {
          "output_type": "stream",
          "text": [
            " Train score is 0.9133333333333333\n",
            "\n",
            "\n",
            "Test score is 0.93\n",
            "\n",
            "\n",
            "\n",
            "Train confusion matrix is \n",
            " [[171  18]\n",
            " [  8 103]]\n",
            "\n",
            "Test confusion matrix is \n",
            " [[64  4]\n",
            " [ 3 29]]\n",
            "\n",
            "\n",
            "\n",
            "classification report is \n",
            "              precision    recall  f1-score   support\n",
            "\n",
            "          0       0.96      0.94      0.95        68\n",
            "          1       0.88      0.91      0.89        32\n",
            "\n",
            "avg / total       0.93      0.93      0.93       100\n",
            "\n"
          ],
          "name": "stdout"
        }
      ]
    },
    {
      "metadata": {
        "colab_type": "text",
        "id": "5l-1qiZClGDW"
      },
      "cell_type": "markdown",
      "source": [
        "#### cross_validation"
      ]
    },
    {
      "metadata": {
        "colab_type": "code",
        "outputId": "3fb88f84-56e0-4755-a320-c6aa04601b90",
        "id": "RsNHvp-JlGDZ",
        "colab": {
          "base_uri": "https://localhost:8080/",
          "height": 221
        }
      },
      "cell_type": "code",
      "source": [
        "from sklearn.svm import SVC\n",
        "model = SVC()\n",
        "cross_validation(X_scaled, y, model)"
      ],
      "execution_count": 0,
      "outputs": [
        {
          "output_type": "stream",
          "text": [
            "10 fold cross-validation for -- SVC-- Model \n",
            "\n",
            "\n",
            "cross validation score for 10 fold cross-validation is:-- \n",
            " [1.         0.85365854 0.90243902 1.         0.95       0.875\n",
            " 0.85       0.79487179 0.87179487 0.94871795]\n",
            "\n",
            "\n",
            "variance in scores for 10 fold cross-validationn for SVC:-- 0.06464002482773204\n",
            "\n",
            "\n"
          ],
          "name": "stdout"
        },
        {
          "output_type": "execute_result",
          "data": {
            "text/plain": [
              "'Mean for 10 fold cross-validation score:-- 0.9046482176360225'"
            ]
          },
          "metadata": {
            "tags": []
          },
          "execution_count": 33
        }
      ]
    },
    {
      "metadata": {
        "id": "MXdyZJ2mrJxF",
        "colab_type": "text"
      },
      "cell_type": "markdown",
      "source": [
        "#### Visualisation"
      ]
    },
    {
      "metadata": {
        "id": "v4bF77-yrLOb",
        "colab_type": "code",
        "outputId": "45ec519f-c45b-40ec-af50-b79d3b444bee",
        "colab": {
          "base_uri": "https://localhost:8080/",
          "height": 605
        }
      },
      "cell_type": "code",
      "source": [
        "graph(X_train_scaled, X_test_scaled, model)"
      ],
      "execution_count": 0,
      "outputs": [
        {
          "output_type": "stream",
          "text": [
            "SVC Model \n",
            "\n"
          ],
          "name": "stdout"
        },
        {
          "output_type": "display_data",
          "data": {
            "image/png": "[encoded data removed]",
            "text/plain": [
              "<matplotlib.figure.Figure at 0x7f3db26194a8>"
            ]
          },
          "metadata": {
            "tags": []
          }
        },
        {
          "output_type": "display_data",
          "data": {
            "image/png": "[encoded data removed]",
            "text/plain": [
              "<matplotlib.figure.Figure at 0x7f3db2153f98>"
            ]
          },
          "metadata": {
            "tags": []
          }
        }
      ]
    },
    {
      "metadata": {
        "id": "n0Haz9fcHiyo",
        "colab_type": "text"
      },
      "cell_type": "markdown",
      "source": [
        "### 3.3 GridSearchCV"
      ]
    },
    {
      "metadata": {
        "id": "8_jJUkKvCF51",
        "colab_type": "code",
        "colab": {}
      },
      "cell_type": "code",
      "source": [
        "from sklearn.model_selection import GridSearchCV"
      ],
      "execution_count": 0,
      "outputs": []
    },
    {
      "metadata": {
        "id": "0sRzfrQCCWig",
        "colab_type": "text"
      },
      "cell_type": "markdown",
      "source": [
        "class sklearn.svm.SVC(C=1.0, kernel=’rbf’, degree=3, gamma=’auto_deprecated’, coef0=0.0, shrinking=True, probability=False, tol=0.001, cache_size=200, class_weight=None, verbose=False, max_iter=-1, decision_function_shape=’ovr’, random_state=None)"
      ]
    },
    {
      "metadata": {
        "id": "jNOGSxvICP88",
        "colab_type": "code",
        "outputId": "c43546dc-12f4-49e2-a54b-9f3721ac55d7",
        "colab": {
          "base_uri": "https://localhost:8080/",
          "height": 292
        }
      },
      "cell_type": "code",
      "source": [
        "param_grid = {'C':np.linspace(0.1, 3, 20), 'kernel': ['linear', 'rbf', 'poly'], 'gamma': np.linspace(0.1, 3, 20)}\n",
        "grid = GridSearchCV(SVC(), param_grid = param_grid, cv = 3, scoring = 'accuracy',verbose = 1)\n",
        "grid.fit(X_train_scaled, y_train)"
      ],
      "execution_count": 0,
      "outputs": [
        {
          "output_type": "stream",
          "text": [
            "Fitting 3 folds for each of 1200 candidates, totalling 3600 fits\n"
          ],
          "name": "stdout"
        },
        {
          "output_type": "stream",
          "text": [
            "[Parallel(n_jobs=1)]: Done 3600 out of 3600 | elapsed:   20.5s finished\n"
          ],
          "name": "stderr"
        },
        {
          "output_type": "execute_result",
          "data": {
            "text/plain": [
              "GridSearchCV(cv=3, error_score='raise',\n",
              "       estimator=SVC(C=1.0, cache_size=200, class_weight=None, coef0=0.0,\n",
              "  decision_function_shape='ovr', degree=3, gamma='auto', kernel='rbf',\n",
              "  max_iter=-1, probability=False, random_state=None, shrinking=True,\n",
              "  tol=0.001, verbose=False),\n",
              "       fit_params=None, iid=True, n_jobs=1,\n",
              "       param_grid={'C': array([0.1    , 0.25263, 0.40526, 0.55789, 0.71053, 0.86316, 1.01579,\n",
              "       1.16842, 1.32105, 1.47368, 1.62632, 1.77895, 1.93158, 2.08421,\n",
              "       2.23684, 2.38947, 2.54211, 2.69474, 2.84737, 3.     ]), 'kernel': ['linear', 'rbf', 'poly'], 'gamma': array([0.1    , 0.25263, 0.40526, 0.55789, 0.71053, 0.86316, 1.01579,\n",
              "       1.16842, 1.32105, 1.47368, 1.62632, 1.77895, 1.93158, 2.08421,\n",
              "       2.23684, 2.38947, 2.54211, 2.69474, 2.84737, 3.     ])},\n",
              "       pre_dispatch='2*n_jobs', refit=True, return_train_score='warn',\n",
              "       scoring='accuracy', verbose=1)"
            ]
          },
          "metadata": {
            "tags": []
          },
          "execution_count": 91
        }
      ]
    },
    {
      "metadata": {
        "id": "xHeOVoRVDvSv",
        "colab_type": "code",
        "outputId": "fbe90458-93a0-457b-b9f1-9e90c8909395",
        "colab": {
          "base_uri": "https://localhost:8080/",
          "height": 34
        }
      },
      "cell_type": "code",
      "source": [
        "grid.best_params_"
      ],
      "execution_count": 0,
      "outputs": [
        {
          "output_type": "execute_result",
          "data": {
            "text/plain": [
              "{'C': 2.694736842105263, 'gamma': 0.8631578947368421, 'kernel': 'rbf'}"
            ]
          },
          "metadata": {
            "tags": []
          },
          "execution_count": 92
        }
      ]
    },
    {
      "metadata": {
        "id": "JKSED6F6FGPr",
        "colab_type": "code",
        "outputId": "227b474d-59fb-45c1-fa51-73c80b1e7212",
        "colab": {
          "base_uri": "https://localhost:8080/",
          "height": 34
        }
      },
      "cell_type": "code",
      "source": [
        "grid.best_score_"
      ],
      "execution_count": 0,
      "outputs": [
        {
          "output_type": "execute_result",
          "data": {
            "text/plain": [
              "0.9166666666666666"
            ]
          },
          "metadata": {
            "tags": []
          },
          "execution_count": 93
        }
      ]
    },
    {
      "metadata": {
        "id": "mymbCuIOFCaV",
        "colab_type": "code",
        "outputId": "4309553d-c50c-4ce4-d357-6cc6bf31f08d",
        "colab": {
          "base_uri": "https://localhost:8080/",
          "height": 85
        }
      },
      "cell_type": "code",
      "source": [
        "model = grid.best_estimator_\n",
        "model"
      ],
      "execution_count": 0,
      "outputs": [
        {
          "output_type": "execute_result",
          "data": {
            "text/plain": [
              "SVC(C=2.694736842105263, cache_size=200, class_weight=None, coef0=0.0,\n",
              "  decision_function_shape='ovr', degree=3, gamma=0.8631578947368421,\n",
              "  kernel='rbf', max_iter=-1, probability=False, random_state=None,\n",
              "  shrinking=True, tol=0.001, verbose=False)"
            ]
          },
          "metadata": {
            "tags": []
          },
          "execution_count": 173
        }
      ]
    },
    {
      "metadata": {
        "id": "c4MtdOBbFfUG",
        "colab_type": "code",
        "outputId": "c0c52c8c-c1d6-4634-dad4-34d10e0faf9a",
        "colab": {
          "base_uri": "https://localhost:8080/",
          "height": 442
        }
      },
      "cell_type": "code",
      "source": [
        "modele = model_fit(X_train_scaled, X_test_scaled, model)"
      ],
      "execution_count": 0,
      "outputs": [
        {
          "output_type": "stream",
          "text": [
            " Train score is 0.9133333333333333\n",
            "\n",
            "\n",
            "Test score is 0.93\n",
            "\n",
            "\n",
            "\n",
            "Train confusion matrix is \n",
            " [[171  18]\n",
            " [  8 103]]\n",
            "\n",
            "Test confusion matrix is \n",
            " [[64  4]\n",
            " [ 3 29]]\n",
            "\n",
            "\n",
            "\n",
            "classification report is \n",
            "              precision    recall  f1-score   support\n",
            "\n",
            "          0       0.96      0.94      0.95        68\n",
            "          1       0.88      0.91      0.89        32\n",
            "\n",
            "avg / total       0.93      0.93      0.93       100\n",
            "\n"
          ],
          "name": "stdout"
        }
      ]
    },
    {
      "metadata": {
        "id": "T0yFCvq-GljG",
        "colab_type": "text"
      },
      "cell_type": "markdown",
      "source": [
        "## 4. DecisionTreeClassifier\n",
        "**decision tree classifier is not based on Euclidean distance so we don't need to do feature scaling but for graphical boundary we need feature scaling for computation**"
      ]
    },
    {
      "metadata": {
        "id": "76vmMkbfHuJ4",
        "colab_type": "code",
        "outputId": "288da8ed-9401-44ad-e672-e8a4632e0e0d",
        "colab": {
          "base_uri": "https://localhost:8080/",
          "height": 442
        }
      },
      "cell_type": "code",
      "source": [
        "from sklearn.tree import DecisionTreeClassifier\n",
        "model = DecisionTreeClassifier()\n",
        "model = model_fit(X_train_scaled, X_test_scaled, model)"
      ],
      "execution_count": 36,
      "outputs": [
        {
          "output_type": "stream",
          "text": [
            " Train score is 1.0\n",
            "\n",
            "\n",
            "Test score is 0.9\n",
            "\n",
            "\n",
            "\n",
            "Train confusion matrix is \n",
            " [[189   0]\n",
            " [  0 111]]\n",
            "\n",
            "Test confusion matrix is \n",
            " [[62  6]\n",
            " [ 4 28]]\n",
            "\n",
            "\n",
            "\n",
            "classification report is \n",
            "              precision    recall  f1-score   support\n",
            "\n",
            "          0       0.94      0.91      0.93        68\n",
            "          1       0.82      0.88      0.85        32\n",
            "\n",
            "avg / total       0.90      0.90      0.90       100\n",
            "\n"
          ],
          "name": "stdout"
        }
      ]
    },
    {
      "metadata": {
        "id": "jY7_g1O2KghP",
        "colab_type": "code",
        "colab": {
          "base_uri": "https://localhost:8080/",
          "height": 68
        },
        "outputId": "902bccd2-4165-48c6-826a-677247fe7e60"
      },
      "cell_type": "code",
      "source": [
        "try:\n",
        "  graph(X_train, X_test, model)\n",
        "except Exception as e:\n",
        "  print(f'{type(e).__name__}:-- {e}')"
      ],
      "execution_count": 38,
      "outputs": [
        {
          "output_type": "stream",
          "text": [
            "DecisionTreeClassifier Model \n",
            "\n",
            "TypeError:-- unhashable type: 'slice'\n"
          ],
          "name": "stdout"
        }
      ]
    },
    {
      "metadata": {
        "id": "mAZFdGoFqaHZ",
        "colab_type": "text"
      },
      "cell_type": "markdown",
      "source": [
        "**^^it's an overfitting model so we will understand restrict DecisionTree classifier to learn more by max_depth parameter**"
      ]
    },
    {
      "metadata": {
        "id": "p0fa13l0u53R",
        "colab_type": "text"
      },
      "cell_type": "markdown",
      "source": [
        "### Graph Train score, Test score vs. max_depth for Decision Tree Classifier to visualise overfitting"
      ]
    },
    {
      "metadata": {
        "id": "4ODr4RP3nQiW",
        "colab_type": "code",
        "outputId": "3a1c7a14-8964-4230-b902-fe31158b1f00",
        "colab": {
          "base_uri": "https://localhost:8080/",
          "height": 320
        }
      },
      "cell_type": "code",
      "source": [
        "def plotting_d(X_train, X_test):\n",
        "  from sklearn.tree import DecisionTreeClassifier\n",
        "  x = range(1,30)\n",
        "  t = []\n",
        "  s = []\n",
        "  for i in x:\n",
        "    model = DecisionTreeClassifier(max_depth = i)\n",
        "    model.fit(X_train, y_train)\n",
        "    s.append(model.score(X_test, y_test))\n",
        "    t.append(model.score(X_train, y_train))\n",
        "\n",
        "  plt.figure(figsize =(10, 5))\n",
        "  plt.plot(x, t, c = 'r', label = 'Train score')\n",
        "  plt.plot(x, s, c = 'g', label = 'Test score')\n",
        "  plt.xticks(x)          \n",
        "  plt.legend()    \n",
        "  plt.grid()\n",
        "  plt.grid()\n",
        "  plt.show()\n",
        "plotting(X_train_scaled, X_test_scaled)"
      ],
      "execution_count": 0,
      "outputs": [
        {
          "output_type": "display_data",
          "data": {
            "image/png": "[encoded data removed]",
            "text/plain": [
              "<matplotlib.figure.Figure at 0x7fb8c981b080>"
            ]
          },
          "metadata": {
            "tags": []
          }
        }
      ]
    },
    {
      "metadata": {
        "id": "_n0FtPN5prHt",
        "colab_type": "code",
        "outputId": "542de400-5040-48bd-8c0a-130a6c3d7e3c",
        "colab": {
          "base_uri": "https://localhost:8080/",
          "height": 442
        }
      },
      "cell_type": "code",
      "source": [
        "model = DecisionTreeClassifier(max_depth = 5)\n",
        "model = model_fit(X_train_scaled, X_test_scaled, model)"
      ],
      "execution_count": 39,
      "outputs": [
        {
          "output_type": "stream",
          "text": [
            " Train score is 0.9433333333333334\n",
            "\n",
            "\n",
            "Test score is 0.95\n",
            "\n",
            "\n",
            "\n",
            "Train confusion matrix is \n",
            " [[182   7]\n",
            " [ 10 101]]\n",
            "\n",
            "Test confusion matrix is \n",
            " [[66  2]\n",
            " [ 3 29]]\n",
            "\n",
            "\n",
            "\n",
            "classification report is \n",
            "              precision    recall  f1-score   support\n",
            "\n",
            "          0       0.96      0.97      0.96        68\n",
            "          1       0.94      0.91      0.92        32\n",
            "\n",
            "avg / total       0.95      0.95      0.95       100\n",
            "\n"
          ],
          "name": "stdout"
        }
      ]
    },
    {
      "metadata": {
        "id": "OtVEJfwauNzR",
        "colab_type": "text"
      },
      "cell_type": "markdown",
      "source": [
        "### Visualisation Decision boundary"
      ]
    },
    {
      "metadata": {
        "id": "uE2mwQ9vqIYC",
        "colab_type": "code",
        "outputId": "eb20725b-5625-47ee-cba7-03401880829d",
        "colab": {
          "base_uri": "https://localhost:8080/",
          "height": 605
        }
      },
      "cell_type": "code",
      "source": [
        "graph(X_train_scaled, X_test_scaled, model)"
      ],
      "execution_count": 40,
      "outputs": [
        {
          "output_type": "stream",
          "text": [
            "DecisionTreeClassifier Model \n",
            "\n"
          ],
          "name": "stdout"
        },
        {
          "output_type": "display_data",
          "data": {
            "image/png": "[encoded data removed]",
            "text/plain": [
              "<matplotlib.figure.Figure at 0x7fd0f67988d0>"
            ]
          },
          "metadata": {
            "tags": []
          }
        },
        {
          "output_type": "display_data",
          "data": {
            "image/png": "[encoded data removed]",
            "text/plain": [
              "<matplotlib.figure.Figure at 0x7fd0f6773cf8>"
            ]
          },
          "metadata": {
            "tags": []
          }
        }
      ]
    },
    {
      "metadata": {
        "colab_type": "text",
        "id": "a0lRDB1Tq7wi"
      },
      "cell_type": "markdown",
      "source": [
        "### cross_validation for max_depth = 5"
      ]
    },
    {
      "metadata": {
        "colab_type": "code",
        "outputId": "3afcfb4c-0215-4e8b-d085-5e7341571a68",
        "id": "yrHRHWYpq7wl",
        "colab": {
          "base_uri": "https://localhost:8080/",
          "height": 221
        }
      },
      "cell_type": "code",
      "source": [
        "from sklearn.tree import DecisionTreeClassifier\n",
        "model = DecisionTreeClassifier(max_depth = 5, random_state = 0)\n",
        "cross_validation(X_scaled, y, model)"
      ],
      "execution_count": 0,
      "outputs": [
        {
          "output_type": "stream",
          "text": [
            "10 fold cross-validation for -- DecisionTreeClassifier-- Model \n",
            "\n",
            "\n",
            "cross validation score for 10 fold cross-validation is:-- \n",
            " [0.95121951 0.75609756 0.92682927 0.95       0.95       0.875\n",
            " 0.825      0.84615385 0.74358974 0.94871795]\n",
            "\n",
            "\n",
            "variance in scores for 10 fold cross-validationn for DecisionTreeClassifier:-- 0.0773740638187005\n",
            "\n",
            "\n"
          ],
          "name": "stdout"
        },
        {
          "output_type": "execute_result",
          "data": {
            "text/plain": [
              "'Mean for 10 fold cross-validation score:-- 0.8772607879924953'"
            ]
          },
          "metadata": {
            "tags": []
          },
          "execution_count": 78
        }
      ]
    },
    {
      "metadata": {
        "id": "vXQXT2hmuhWo",
        "colab_type": "text"
      },
      "cell_type": "markdown",
      "source": [
        "### graph for cross_validation score vs. max_depth for decision tree"
      ]
    },
    {
      "metadata": {
        "id": "x8KTqWhwrGaV",
        "colab_type": "code",
        "outputId": "b19694ae-5927-4195-efe6-1f96590ee4c7",
        "colab": {
          "base_uri": "https://localhost:8080/",
          "height": 268
        }
      },
      "cell_type": "code",
      "source": [
        "x = range(3, 30)\n",
        "score = []\n",
        "for i in x:\n",
        "  model = DecisionTreeClassifier(max_depth = i, random_state = 0)\n",
        "  score.append(cross_validation(X_scaled, y, model, out = False))\n",
        "\n",
        "plt.plot(figsize = (15, 7))\n",
        "plt.plot(x, score)\n",
        "plt.xticks(x)\n",
        "plt.grid()\n",
        "plt.show()"
      ],
      "execution_count": 0,
      "outputs": [
        {
          "output_type": "display_data",
          "data": {
            "image/png": "[encoded data removed]",
            "text/plain": [
              "<matplotlib.figure.Figure at 0x7fb8c95e7898>"
            ]
          },
          "metadata": {
            "tags": []
          }
        }
      ]
    },
    {
      "metadata": {
        "id": "RNMW5vWEs_cP",
        "colab_type": "text"
      },
      "cell_type": "markdown",
      "source": [
        "## 5. RandomForestClassifier"
      ]
    },
    {
      "metadata": {
        "id": "0G3fBiwgvXq6",
        "colab_type": "code",
        "colab": {}
      },
      "cell_type": "code",
      "source": [
        "from sklearn.ensemble import RandomForestClassifier"
      ],
      "execution_count": 0,
      "outputs": []
    },
    {
      "metadata": {
        "id": "ixBVNv8IvjHH",
        "colab_type": "code",
        "outputId": "3ab5d791-e808-40a6-f317-86733b08e9c4",
        "colab": {
          "base_uri": "https://localhost:8080/",
          "height": 442
        }
      },
      "cell_type": "code",
      "source": [
        "model = RandomForestClassifier(n_estimators = 10, max_depth = 5)\n",
        "model = model_fit(X_train_scaled, X_test_scaled, model)"
      ],
      "execution_count": 0,
      "outputs": [
        {
          "output_type": "stream",
          "text": [
            " Train score is 0.9366666666666666\n",
            "\n",
            "\n",
            "Test score is 0.94\n",
            "\n",
            "\n",
            "\n",
            "Train confusion matrix is \n",
            " [[176  13]\n",
            " [  6 105]]\n",
            "\n",
            "Test confusion matrix is \n",
            " [[65  3]\n",
            " [ 3 29]]\n",
            "\n",
            "\n",
            "\n",
            "classification report is \n",
            "              precision    recall  f1-score   support\n",
            "\n",
            "          0       0.96      0.96      0.96        68\n",
            "          1       0.91      0.91      0.91        32\n",
            "\n",
            "avg / total       0.94      0.94      0.94       100\n",
            "\n"
          ],
          "name": "stdout"
        }
      ]
    },
    {
      "metadata": {
        "id": "-aBSTnv4uYHq",
        "colab_type": "text"
      },
      "cell_type": "markdown",
      "source": [
        "#### Visualisation of Decision Boundary"
      ]
    },
    {
      "metadata": {
        "id": "evX2u5kKv4WQ",
        "colab_type": "code",
        "outputId": "65698a06-382a-4d39-b579-08c26a52b6e4",
        "colab": {
          "base_uri": "https://localhost:8080/",
          "height": 605
        }
      },
      "cell_type": "code",
      "source": [
        "graph(X_train_scaled, X_test_scaled, model)"
      ],
      "execution_count": 0,
      "outputs": [
        {
          "output_type": "stream",
          "text": [
            "RandomForestClassifier Model \n",
            "\n"
          ],
          "name": "stdout"
        },
        {
          "output_type": "display_data",
          "data": {
            "image/png": "[encoded data removed]",
            "text/plain": [
              "<matplotlib.figure.Figure at 0x7fb8c9330ef0>"
            ]
          },
          "metadata": {
            "tags": []
          }
        },
        {
          "output_type": "display_data",
          "data": {
            "image/png": "[encoded data removed]",
            "text/plain": [
              "<matplotlib.figure.Figure at 0x7fb8c97fd978>"
            ]
          },
          "metadata": {
            "tags": []
          }
        }
      ]
    },
    {
      "metadata": {
        "id": "k8h2IJM3wb7O",
        "colab_type": "text"
      },
      "cell_type": "markdown",
      "source": [
        "### cross validation"
      ]
    },
    {
      "metadata": {
        "id": "wZfYONaNxJwY",
        "colab_type": "code",
        "outputId": "3ec3a8be-3385-49f1-ce55-2d3447f33614",
        "colab": {
          "base_uri": "https://localhost:8080/",
          "height": 221
        }
      },
      "cell_type": "code",
      "source": [
        "model = RandomForestClassifier(n_estimators = 10, max_depth = 5)\n",
        "cross_validation(X_scaled, y, model)"
      ],
      "execution_count": 0,
      "outputs": [
        {
          "output_type": "stream",
          "text": [
            "10 fold cross-validation for -- RandomForestClassifier-- Model \n",
            "\n",
            "\n",
            "cross validation score for 10 fold cross-validation is:-- \n",
            " [1.         0.75609756 0.90243902 1.         0.975      0.825\n",
            " 0.825      0.79487179 0.87179487 0.94871795]\n",
            "\n",
            "\n",
            "variance in scores for 10 fold cross-validationn for RandomForestClassifier:-- 0.08413564983358852\n",
            "\n",
            "\n"
          ],
          "name": "stdout"
        },
        {
          "output_type": "execute_result",
          "data": {
            "text/plain": [
              "'Mean for 10 fold cross-validation score:-- 0.8898921200750468'"
            ]
          },
          "metadata": {
            "tags": []
          },
          "execution_count": 98
        }
      ]
    },
    {
      "metadata": {
        "id": "1z4Igkg6wGKn",
        "colab_type": "text"
      },
      "cell_type": "markdown",
      "source": [
        "## NaiveBayesClassifier"
      ]
    },
    {
      "metadata": {
        "id": "4H_jlP3zyt-D",
        "colab_type": "code",
        "colab": {
          "base_uri": "https://localhost:8080/",
          "height": 442
        },
        "outputId": "3946e8ce-48ab-4712-c326-e11324f49951"
      },
      "cell_type": "code",
      "source": [
        "from sklearn.naive_bayes import GaussianNB\n",
        "model = GaussianNB()\n",
        "model = model_fit(X_train_scaled, X_test_scaled, model)"
      ],
      "execution_count": 26,
      "outputs": [
        {
          "output_type": "stream",
          "text": [
            " Train score is 0.8833333333333333\n",
            "\n",
            "\n",
            "Test score is 0.9\n",
            "\n",
            "\n",
            "\n",
            "Train confusion matrix is \n",
            " [[174  15]\n",
            " [ 20  91]]\n",
            "\n",
            "Test confusion matrix is \n",
            " [[65  3]\n",
            " [ 7 25]]\n",
            "\n",
            "\n",
            "\n",
            "classification report is \n",
            "              precision    recall  f1-score   support\n",
            "\n",
            "          0       0.90      0.96      0.93        68\n",
            "          1       0.89      0.78      0.83        32\n",
            "\n",
            "avg / total       0.90      0.90      0.90       100\n",
            "\n"
          ],
          "name": "stdout"
        }
      ]
    },
    {
      "metadata": {
        "id": "W_s65pA48Q9w",
        "colab_type": "text"
      },
      "cell_type": "markdown",
      "source": [
        "### graph to see decision boundaries"
      ]
    },
    {
      "metadata": {
        "id": "yQwO_StV8WPA",
        "colab_type": "code",
        "colab": {
          "base_uri": "https://localhost:8080/",
          "height": 605
        },
        "outputId": "7356c0cc-777e-47db-9e90-a3dc1f095b2b"
      },
      "cell_type": "code",
      "source": [
        "graph(X_train_scaled, X_test_scaled, model)"
      ],
      "execution_count": 33,
      "outputs": [
        {
          "output_type": "stream",
          "text": [
            "GaussianNB Model \n",
            "\n"
          ],
          "name": "stdout"
        },
        {
          "output_type": "display_data",
          "data": {
            "image/png": "[encoded data removed]",
            "text/plain": [
              "<matplotlib.figure.Figure at 0x7fd0f68afd68>"
            ]
          },
          "metadata": {
            "tags": []
          }
        },
        {
          "output_type": "display_data",
          "data": {
            "image/png": "[encoded data removed]",
            "text/plain": [
              "<matplotlib.figure.Figure at 0x7fd0f6821fd0>"
            ]
          },
          "metadata": {
            "tags": []
          }
        }
      ]
    },
    {
      "metadata": {
        "id": "GgpHfrym8Otq",
        "colab_type": "text"
      },
      "cell_type": "markdown",
      "source": [
        "### cross_vaidation"
      ]
    },
    {
      "metadata": {
        "id": "hL3a20fs5aRY",
        "colab_type": "code",
        "colab": {
          "base_uri": "https://localhost:8080/",
          "height": 221
        },
        "outputId": "c310ac88-1fa6-4f2d-d011-68f8a820e779"
      },
      "cell_type": "code",
      "source": [
        "from sklearn.naive_bayes import GaussianNB\n",
        "model = GaussianNB()\n",
        "cross_validation(X_scaled, y, model)"
      ],
      "execution_count": 24,
      "outputs": [
        {
          "output_type": "stream",
          "text": [
            "10 fold cross-validation for -- GaussianNB-- Model \n",
            "\n",
            "\n",
            "cross validation score for 10 fold cross-validation is:-- \n",
            " [0.82926829 0.7804878  0.95121951 0.975      0.95       0.9\n",
            " 0.8        0.79487179 0.87179487 0.92307692]\n",
            "\n",
            "\n",
            "variance in scores for 10 fold cross-validationn for GaussianNB:-- 0.06883632982248508\n",
            "\n",
            "\n"
          ],
          "name": "stdout"
        },
        {
          "output_type": "execute_result",
          "data": {
            "text/plain": [
              "'Mean for 10 fold cross-validation score:-- 0.8775719199499689'"
            ]
          },
          "metadata": {
            "tags": []
          },
          "execution_count": 24
        }
      ]
    },
    {
      "metadata": {
        "id": "uTXV1dJU8aJf",
        "colab_type": "code",
        "colab": {}
      },
      "cell_type": "code",
      "source": [
        ""
      ],
      "execution_count": 0,
      "outputs": []
    }
  ]
}