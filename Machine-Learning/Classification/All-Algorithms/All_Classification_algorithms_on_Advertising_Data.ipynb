{
  "nbformat": 4,
  "nbformat_minor": 0,
  "metadata": {
    "colab": {
      "name": "All Classification algorithms on Advertising Data.ipynb",
      "version": "0.3.2",
      "provenance": [],
      "include_colab_link": true
    },
    "kernelspec": {
      "name": "python3",
      "display_name": "Python 3"
    },
    "accelerator": "GPU"
  },
  "cells": [
    {
      "cell_type": "markdown",
      "metadata": {
        "id": "view-in-github",
        "colab_type": "text"
      },
      "source": [
        "<a href=\"https://colab.research.google.com/github/noushadkhan01/Projects/blob/master/Machine-Learning/Classification/All-Algorithms/All_Classification_algorithms_on_Advertising_Data.ipynb\" target=\"_parent\"><img src=\"https://colab.research.google.com/assets/colab-badge.svg\" alt=\"Open In Colab\"/></a>"
      ]
    },
    {
      "metadata": {
        "id": "MtFegVk87wgf",
        "colab_type": "code",
        "colab": {}
      },
      "cell_type": "code",
      "source": [
        "import pandas as pd\n",
        "import seaborn as sns\n",
        "import numpy as np\n",
        "import matplotlib.pyplot as plt\n",
        "%matplotlib inline"
      ],
      "execution_count": 0,
      "outputs": []
    },
    {
      "metadata": {
        "id": "kOQTCuizmKsU",
        "colab_type": "text"
      },
      "cell_type": "markdown",
      "source": [
        "# Read Data"
      ]
    },
    {
      "metadata": {
        "id": "X4ifCuIK8H0z",
        "colab_type": "code",
        "outputId": "22cd40c8-07af-4e67-d163-cfa510fc327f",
        "colab": {
          "base_uri": "https://localhost:8080/",
          "height": 204
        }
      },
      "cell_type": "code",
      "source": [
        "df = pd.read_csv('https://bit.ly/2U2dZq6')\n",
        "df.head()"
      ],
      "execution_count": 45,
      "outputs": [
        {
          "output_type": "execute_result",
          "data": {
            "text/html": [
              "<div>\n",
              "<style scoped>\n",
              "    .dataframe tbody tr th:only-of-type {\n",
              "        vertical-align: middle;\n",
              "    }\n",
              "\n",
              "    .dataframe tbody tr th {\n",
              "        vertical-align: top;\n",
              "    }\n",
              "\n",
              "    .dataframe thead th {\n",
              "        text-align: right;\n",
              "    }\n",
              "</style>\n",
              "<table border=\"1\" class=\"dataframe\">\n",
              "  <thead>\n",
              "    <tr style=\"text-align: right;\">\n",
              "      <th></th>\n",
              "      <th>User ID</th>\n",
              "      <th>Gender</th>\n",
              "      <th>Age</th>\n",
              "      <th>EstimatedSalary</th>\n",
              "      <th>Purchased</th>\n",
              "    </tr>\n",
              "  </thead>\n",
              "  <tbody>\n",
              "    <tr>\n",
              "      <th>0</th>\n",
              "      <td>15624510</td>\n",
              "      <td>Male</td>\n",
              "      <td>19</td>\n",
              "      <td>19000</td>\n",
              "      <td>0</td>\n",
              "    </tr>\n",
              "    <tr>\n",
              "      <th>1</th>\n",
              "      <td>15810944</td>\n",
              "      <td>Male</td>\n",
              "      <td>35</td>\n",
              "      <td>20000</td>\n",
              "      <td>0</td>\n",
              "    </tr>\n",
              "    <tr>\n",
              "      <th>2</th>\n",
              "      <td>15668575</td>\n",
              "      <td>Female</td>\n",
              "      <td>26</td>\n",
              "      <td>43000</td>\n",
              "      <td>0</td>\n",
              "    </tr>\n",
              "    <tr>\n",
              "      <th>3</th>\n",
              "      <td>15603246</td>\n",
              "      <td>Female</td>\n",
              "      <td>27</td>\n",
              "      <td>57000</td>\n",
              "      <td>0</td>\n",
              "    </tr>\n",
              "    <tr>\n",
              "      <th>4</th>\n",
              "      <td>15804002</td>\n",
              "      <td>Male</td>\n",
              "      <td>19</td>\n",
              "      <td>76000</td>\n",
              "      <td>0</td>\n",
              "    </tr>\n",
              "  </tbody>\n",
              "</table>\n",
              "</div>"
            ],
            "text/plain": [
              "    User ID  Gender  Age  EstimatedSalary  Purchased\n",
              "0  15624510    Male   19            19000          0\n",
              "1  15810944    Male   35            20000          0\n",
              "2  15668575  Female   26            43000          0\n",
              "3  15603246  Female   27            57000          0\n",
              "4  15804002    Male   19            76000          0"
            ]
          },
          "metadata": {
            "tags": []
          },
          "execution_count": 45
        }
      ]
    },
    {
      "metadata": {
        "id": "FvOcMUkc8Nsu",
        "colab_type": "code",
        "colab": {}
      },
      "cell_type": "code",
      "source": [
        "X = df.drop(['Gender', 'Purchased'], 1)\n",
        "y = df.Purchased"
      ],
      "execution_count": 0,
      "outputs": []
    },
    {
      "metadata": {
        "id": "re8OL3-M8xl8",
        "colab_type": "code",
        "outputId": "77a09845-8ef2-4dd1-f5a1-47b0c9cd14ab",
        "colab": {
          "base_uri": "https://localhost:8080/",
          "height": 34
        }
      },
      "cell_type": "code",
      "source": [
        "X.shape, y.shape"
      ],
      "execution_count": 48,
      "outputs": [
        {
          "output_type": "execute_result",
          "data": {
            "text/plain": [
              "((400, 3), (400,))"
            ]
          },
          "metadata": {
            "tags": []
          },
          "execution_count": 48
        }
      ]
    },
    {
      "metadata": {
        "id": "ET8TYj4qlfwG",
        "colab_type": "code",
        "colab": {
          "base_uri": "https://localhost:8080/",
          "height": 111
        },
        "outputId": "6ec9c968-2a36-4cb1-ff4d-98a15e0b95c8"
      },
      "cell_type": "code",
      "source": [
        "X.head(2)"
      ],
      "execution_count": 49,
      "outputs": [
        {
          "output_type": "execute_result",
          "data": {
            "text/html": [
              "<div>\n",
              "<style scoped>\n",
              "    .dataframe tbody tr th:only-of-type {\n",
              "        vertical-align: middle;\n",
              "    }\n",
              "\n",
              "    .dataframe tbody tr th {\n",
              "        vertical-align: top;\n",
              "    }\n",
              "\n",
              "    .dataframe thead th {\n",
              "        text-align: right;\n",
              "    }\n",
              "</style>\n",
              "<table border=\"1\" class=\"dataframe\">\n",
              "  <thead>\n",
              "    <tr style=\"text-align: right;\">\n",
              "      <th></th>\n",
              "      <th>User ID</th>\n",
              "      <th>Age</th>\n",
              "      <th>EstimatedSalary</th>\n",
              "    </tr>\n",
              "  </thead>\n",
              "  <tbody>\n",
              "    <tr>\n",
              "      <th>0</th>\n",
              "      <td>15624510</td>\n",
              "      <td>19</td>\n",
              "      <td>19000</td>\n",
              "    </tr>\n",
              "    <tr>\n",
              "      <th>1</th>\n",
              "      <td>15810944</td>\n",
              "      <td>35</td>\n",
              "      <td>20000</td>\n",
              "    </tr>\n",
              "  </tbody>\n",
              "</table>\n",
              "</div>"
            ],
            "text/plain": [
              "    User ID  Age  EstimatedSalary\n",
              "0  15624510   19            19000\n",
              "1  15810944   35            20000"
            ]
          },
          "metadata": {
            "tags": []
          },
          "execution_count": 49
        }
      ]
    },
    {
      "metadata": {
        "id": "dNP2qOGO9J6B",
        "colab_type": "text"
      },
      "cell_type": "markdown",
      "source": [
        "# Train Test Split"
      ]
    },
    {
      "metadata": {
        "id": "05DTlIce9Lj8",
        "colab_type": "code",
        "colab": {}
      },
      "cell_type": "code",
      "source": [
        "from sklearn.model_selection import train_test_split"
      ],
      "execution_count": 0,
      "outputs": []
    },
    {
      "metadata": {
        "id": "8S3OVLiy9Ofh",
        "colab_type": "code",
        "outputId": "7ef6be27-1f13-4303-ab45-ec91f1c904ef",
        "colab": {
          "base_uri": "https://localhost:8080/",
          "height": 34
        }
      },
      "cell_type": "code",
      "source": [
        "X_train, X_test, y_train, y_test = train_test_split(X, y, test_size = .25, random_state = 0)\n",
        "X_train.shape, X_test.shape, y_train.shape, y_test.shape"
      ],
      "execution_count": 51,
      "outputs": [
        {
          "output_type": "execute_result",
          "data": {
            "text/plain": [
              "((300, 3), (100, 3), (300,), (100,))"
            ]
          },
          "metadata": {
            "tags": []
          },
          "execution_count": 51
        }
      ]
    },
    {
      "metadata": {
        "id": "DVrpR7OLloJH",
        "colab_type": "code",
        "colab": {
          "base_uri": "https://localhost:8080/",
          "height": 80
        },
        "outputId": "af2417fc-4b5e-4b57-d08d-8e4b3d1c6ded"
      },
      "cell_type": "code",
      "source": [
        "X_train.head(1)"
      ],
      "execution_count": 52,
      "outputs": [
        {
          "output_type": "execute_result",
          "data": {
            "text/html": [
              "<div>\n",
              "<style scoped>\n",
              "    .dataframe tbody tr th:only-of-type {\n",
              "        vertical-align: middle;\n",
              "    }\n",
              "\n",
              "    .dataframe tbody tr th {\n",
              "        vertical-align: top;\n",
              "    }\n",
              "\n",
              "    .dataframe thead th {\n",
              "        text-align: right;\n",
              "    }\n",
              "</style>\n",
              "<table border=\"1\" class=\"dataframe\">\n",
              "  <thead>\n",
              "    <tr style=\"text-align: right;\">\n",
              "      <th></th>\n",
              "      <th>User ID</th>\n",
              "      <th>Age</th>\n",
              "      <th>EstimatedSalary</th>\n",
              "    </tr>\n",
              "  </thead>\n",
              "  <tbody>\n",
              "    <tr>\n",
              "      <th>250</th>\n",
              "      <td>15810075</td>\n",
              "      <td>44</td>\n",
              "      <td>39000</td>\n",
              "    </tr>\n",
              "  </tbody>\n",
              "</table>\n",
              "</div>"
            ],
            "text/plain": [
              "      User ID  Age  EstimatedSalary\n",
              "250  15810075   44            39000"
            ]
          },
          "metadata": {
            "tags": []
          },
          "execution_count": 52
        }
      ]
    },
    {
      "metadata": {
        "id": "wwCM60wrlpkE",
        "colab_type": "code",
        "colab": {
          "base_uri": "https://localhost:8080/",
          "height": 80
        },
        "outputId": "56cc9111-7f7d-4889-a82e-305acb09828a"
      },
      "cell_type": "code",
      "source": [
        "X_test.head(1)"
      ],
      "execution_count": 53,
      "outputs": [
        {
          "output_type": "execute_result",
          "data": {
            "text/html": [
              "<div>\n",
              "<style scoped>\n",
              "    .dataframe tbody tr th:only-of-type {\n",
              "        vertical-align: middle;\n",
              "    }\n",
              "\n",
              "    .dataframe tbody tr th {\n",
              "        vertical-align: top;\n",
              "    }\n",
              "\n",
              "    .dataframe thead th {\n",
              "        text-align: right;\n",
              "    }\n",
              "</style>\n",
              "<table border=\"1\" class=\"dataframe\">\n",
              "  <thead>\n",
              "    <tr style=\"text-align: right;\">\n",
              "      <th></th>\n",
              "      <th>User ID</th>\n",
              "      <th>Age</th>\n",
              "      <th>EstimatedSalary</th>\n",
              "    </tr>\n",
              "  </thead>\n",
              "  <tbody>\n",
              "    <tr>\n",
              "      <th>132</th>\n",
              "      <td>15725660</td>\n",
              "      <td>30</td>\n",
              "      <td>87000</td>\n",
              "    </tr>\n",
              "  </tbody>\n",
              "</table>\n",
              "</div>"
            ],
            "text/plain": [
              "      User ID  Age  EstimatedSalary\n",
              "132  15725660   30            87000"
            ]
          },
          "metadata": {
            "tags": []
          },
          "execution_count": 53
        }
      ]
    },
    {
      "metadata": {
        "id": "7to9erlmlq7X",
        "colab_type": "code",
        "colab": {}
      },
      "cell_type": "code",
      "source": [
        "trainId = X_train[['User ID']]\n",
        "testId = X_test[['User ID']]\n",
        "X_train = X_train.iloc[:, 1:]\n",
        "X_test = X_test.iloc[:, 1:]"
      ],
      "execution_count": 0,
      "outputs": []
    },
    {
      "metadata": {
        "id": "yQmUKqDimCV1",
        "colab_type": "code",
        "colab": {
          "base_uri": "https://localhost:8080/",
          "height": 80
        },
        "outputId": "dfce11d4-415a-46fa-e015-fb416357f051"
      },
      "cell_type": "code",
      "source": [
        "X_train.head(1)"
      ],
      "execution_count": 55,
      "outputs": [
        {
          "output_type": "execute_result",
          "data": {
            "text/html": [
              "<div>\n",
              "<style scoped>\n",
              "    .dataframe tbody tr th:only-of-type {\n",
              "        vertical-align: middle;\n",
              "    }\n",
              "\n",
              "    .dataframe tbody tr th {\n",
              "        vertical-align: top;\n",
              "    }\n",
              "\n",
              "    .dataframe thead th {\n",
              "        text-align: right;\n",
              "    }\n",
              "</style>\n",
              "<table border=\"1\" class=\"dataframe\">\n",
              "  <thead>\n",
              "    <tr style=\"text-align: right;\">\n",
              "      <th></th>\n",
              "      <th>Age</th>\n",
              "      <th>EstimatedSalary</th>\n",
              "    </tr>\n",
              "  </thead>\n",
              "  <tbody>\n",
              "    <tr>\n",
              "      <th>250</th>\n",
              "      <td>44</td>\n",
              "      <td>39000</td>\n",
              "    </tr>\n",
              "  </tbody>\n",
              "</table>\n",
              "</div>"
            ],
            "text/plain": [
              "     Age  EstimatedSalary\n",
              "250   44            39000"
            ]
          },
          "metadata": {
            "tags": []
          },
          "execution_count": 55
        }
      ]
    },
    {
      "metadata": {
        "id": "Zb68G96UmDxv",
        "colab_type": "code",
        "colab": {
          "base_uri": "https://localhost:8080/",
          "height": 80
        },
        "outputId": "3c8b35e3-672d-4e7b-ef6d-0acc12c08b83"
      },
      "cell_type": "code",
      "source": [
        "X_test.head(1)"
      ],
      "execution_count": 56,
      "outputs": [
        {
          "output_type": "execute_result",
          "data": {
            "text/html": [
              "<div>\n",
              "<style scoped>\n",
              "    .dataframe tbody tr th:only-of-type {\n",
              "        vertical-align: middle;\n",
              "    }\n",
              "\n",
              "    .dataframe tbody tr th {\n",
              "        vertical-align: top;\n",
              "    }\n",
              "\n",
              "    .dataframe thead th {\n",
              "        text-align: right;\n",
              "    }\n",
              "</style>\n",
              "<table border=\"1\" class=\"dataframe\">\n",
              "  <thead>\n",
              "    <tr style=\"text-align: right;\">\n",
              "      <th></th>\n",
              "      <th>Age</th>\n",
              "      <th>EstimatedSalary</th>\n",
              "    </tr>\n",
              "  </thead>\n",
              "  <tbody>\n",
              "    <tr>\n",
              "      <th>132</th>\n",
              "      <td>30</td>\n",
              "      <td>87000</td>\n",
              "    </tr>\n",
              "  </tbody>\n",
              "</table>\n",
              "</div>"
            ],
            "text/plain": [
              "     Age  EstimatedSalary\n",
              "132   30            87000"
            ]
          },
          "metadata": {
            "tags": []
          },
          "execution_count": 56
        }
      ]
    },
    {
      "metadata": {
        "id": "3rPMUd4u85S6",
        "colab_type": "text"
      },
      "cell_type": "markdown",
      "source": [
        "# Feature_scaling"
      ]
    },
    {
      "metadata": {
        "id": "MsOrmY-689vs",
        "colab_type": "code",
        "colab": {}
      },
      "cell_type": "code",
      "source": [
        "from sklearn.preprocessing import StandardScaler"
      ],
      "execution_count": 0,
      "outputs": []
    },
    {
      "metadata": {
        "id": "ELZxJ20l9AuA",
        "colab_type": "code",
        "colab": {}
      },
      "cell_type": "code",
      "source": [
        "sc = StandardScaler()"
      ],
      "execution_count": 0,
      "outputs": []
    },
    {
      "metadata": {
        "id": "-sce4M7R9E0E",
        "colab_type": "code",
        "colab": {}
      },
      "cell_type": "code",
      "source": [
        "X_train_scaled = sc.fit_transform(X_train)\n",
        "X_test_scaled = sc.transform(X_test)"
      ],
      "execution_count": 0,
      "outputs": []
    },
    {
      "metadata": {
        "id": "a7RtM98OnLUN",
        "colab_type": "code",
        "colab": {
          "base_uri": "https://localhost:8080/",
          "height": 51
        },
        "outputId": "1a05f2c3-c063-4d48-d603-6c39c76c8805"
      },
      "cell_type": "code",
      "source": [
        "X_train_scaled[:2]"
      ],
      "execution_count": 62,
      "outputs": [
        {
          "output_type": "execute_result",
          "data": {
            "text/plain": [
              "array([[ 0.58164944, -0.88670699],\n",
              "       [-0.60673761,  1.46173768]])"
            ]
          },
          "metadata": {
            "tags": []
          },
          "execution_count": 62
        }
      ]
    },
    {
      "metadata": {
        "id": "Iiw8T5AFnOOo",
        "colab_type": "code",
        "colab": {
          "base_uri": "https://localhost:8080/",
          "height": 51
        },
        "outputId": "dac8e15a-a272-4695-e4a5-0fa61e1e0cb3"
      },
      "cell_type": "code",
      "source": [
        "X_test_scaled[:2]"
      ],
      "execution_count": 63,
      "outputs": [
        {
          "output_type": "execute_result",
          "data": {
            "text/plain": [
              "array([[-0.80480212,  0.50496393],\n",
              "       [-0.01254409, -0.5677824 ]])"
            ]
          },
          "metadata": {
            "tags": []
          },
          "execution_count": 63
        }
      ]
    },
    {
      "metadata": {
        "id": "84ANaMgQ9kU9",
        "colab_type": "text"
      },
      "cell_type": "markdown",
      "source": [
        "# Train Model"
      ]
    },
    {
      "metadata": {
        "id": "-koOxSNZ4Cip",
        "colab_type": "text"
      },
      "cell_type": "markdown",
      "source": [
        "## functions we are using for all models"
      ]
    },
    {
      "metadata": {
        "id": "DliLFpAS23Uo",
        "colab_type": "code",
        "colab": {}
      },
      "cell_type": "code",
      "source": [
        "def model_fit(X_train, X_test, model):\n",
        "  model.fit(X_train, y_train)\n",
        "  print(F' Train score is {model.score(X_train, y_train)}')\n",
        "  print('\\n')\n",
        "  print(f'Test score is {model.score(X_test, y_test)}')\n",
        "  print('\\n\\n')\n",
        "  y_pred = model.predict(X_test)\n",
        "  print(f'Train confusion matrix is \\n {confusion_matrix(y_train, model.predict(X_train))}\\n')\n",
        "  print(f'Test confusion matrix is \\n {confusion_matrix(y_test, y_pred)}')\n",
        "  print('\\n\\n')\n",
        "  print(f'classification report is \\n {classification_report(y_test, y_pred)}')\n",
        "  return model"
      ],
      "execution_count": 0,
      "outputs": []
    },
    {
      "metadata": {
        "id": "ovZxlrB0ogXt",
        "colab_type": "code",
        "colab": {}
      },
      "cell_type": "code",
      "source": [
        "def graph(X_train, X_test, classifier):\n",
        "  # Visualising the Training set results\n",
        "  import matplotlib.pyplot as plt\n",
        "  %matplotlib inline\n",
        "  import numpy as np\n",
        "  from matplotlib.colors import ListedColormap\n",
        "  X_set, y_set = X_train, y_train\n",
        "  X1, X2 = np.meshgrid(np.arange(start = X_set[:, 0].min() - 1, stop = X_set[:, 0].max() + 1, step = 0.01),\n",
        "                       np.arange(start = X_set[:, 1].min() - 1, stop = X_set[:, 1].max() + 1, step = 0.01))\n",
        "  plt.contourf(X1, X2, classifier.predict(np.array([X1.ravel(), X2.ravel()]).T).reshape(X1.shape),\n",
        "               alpha = 0.75, cmap = ListedColormap(('red', 'green')))\n",
        "  plt.xlim(X1.min(), X1.max())\n",
        "  plt.ylim(X2.min(), X2.max())\n",
        "  for i, j in enumerate(np.unique(y_set)):\n",
        "      plt.scatter(X_set[y_set == j, 0], X_set[y_set == j, 1],\n",
        "                  c = ListedColormap(('red', 'green'))(i), label = j)\n",
        "  plt.title('Classifier (Training set)')\n",
        "  plt.xlabel('Age')\n",
        "  plt.ylabel('Estimated Salary')\n",
        "  plt.legend()\n",
        "  plt.show()\n",
        "\n",
        "  # Visualising the Test set results\n",
        "  from matplotlib.colors import ListedColormap\n",
        "  X_set, y_set = X_test, y_test\n",
        "  X1, X2 = np.meshgrid(np.arange(start = X_set[:, 0].min() - 1, stop = X_set[:, 0].max() + 1, step = 0.01),\n",
        "                       np.arange(start = X_set[:, 1].min() - 1, stop = X_set[:, 1].max() + 1, step = 0.01))\n",
        "  plt.contourf(X1, X2, classifier.predict(np.array([X1.ravel(), X2.ravel()]).T).reshape(X1.shape),\n",
        "               alpha = 0.75, cmap = ListedColormap(('red', 'green')))\n",
        "  plt.xlim(X1.min(), X1.max())\n",
        "  plt.ylim(X2.min(), X2.max())\n",
        "  for i, j in enumerate(np.unique(y_set)):\n",
        "      plt.scatter(X_set[y_set == j, 0], X_set[y_set == j, 1],\n",
        "                  c = ListedColormap(('red', 'green'))(i), label = j)\n",
        "  plt.title('Classifier (Test set)')\n",
        "  plt.xlabel('Age')\n",
        "  plt.ylabel('Estimated Salary')\n",
        "  plt.legend(loc='right')\n",
        "  plt.show()"
      ],
      "execution_count": 0,
      "outputs": []
    },
    {
      "metadata": {
        "id": "a43pXtG2CCu7",
        "colab_type": "text"
      },
      "cell_type": "markdown",
      "source": [
        "## 1.1 LogisticRegression"
      ]
    },
    {
      "metadata": {
        "id": "CtshsPGK9iNS",
        "colab_type": "code",
        "colab": {
          "base_uri": "https://localhost:8080/",
          "height": 442
        },
        "outputId": "1fd6d6d4-ed52-4e8a-dcfc-f41641161874"
      },
      "cell_type": "code",
      "source": [
        "from sklearn.linear_model import LogisticRegression\n",
        "from sklearn.metrics import confusion_matrix, classification_report\n",
        "model = LogisticRegression(random_state = 0)\n",
        "model = model_fit(X_train_scaled, X_test_scaled, model)"
      ],
      "execution_count": 163,
      "outputs": [
        {
          "output_type": "stream",
          "text": [
            " Train score is 0.8233333333333334\n",
            "\n",
            "\n",
            "Test score is 0.89\n",
            "\n",
            "\n",
            "\n",
            "Train confusion matrix is \n",
            " [[172  17]\n",
            " [ 36  75]]\n",
            "\n",
            "Test confusion matrix is \n",
            " [[65  3]\n",
            " [ 8 24]]\n",
            "\n",
            "\n",
            "\n",
            "classification report is \n",
            "              precision    recall  f1-score   support\n",
            "\n",
            "          0       0.89      0.96      0.92        68\n",
            "          1       0.89      0.75      0.81        32\n",
            "\n",
            "avg / total       0.89      0.89      0.89       100\n",
            "\n"
          ],
          "name": "stdout"
        }
      ]
    },
    {
      "metadata": {
        "id": "KhoZGPoR-fC0",
        "colab_type": "code",
        "colab": {}
      },
      "cell_type": "code",
      "source": [
        "y_proba = model.predict_proba(X_test_scaled)"
      ],
      "execution_count": 0,
      "outputs": []
    },
    {
      "metadata": {
        "id": "GSW1n84F-lQH",
        "colab_type": "code",
        "outputId": "ca82043d-92e9-4c5d-8f83-6bd251a8afa6",
        "colab": {
          "base_uri": "https://localhost:8080/",
          "height": 51
        }
      },
      "cell_type": "code",
      "source": [
        "y_proba[:2]"
      ],
      "execution_count": 68,
      "outputs": [
        {
          "output_type": "execute_result",
          "data": {
            "text/plain": [
              "array([[0.8835313 , 0.1164687 ],\n",
              "       [0.82871699, 0.17128301]])"
            ]
          },
          "metadata": {
            "tags": []
          },
          "execution_count": 68
        }
      ]
    },
    {
      "metadata": {
        "id": "2eNbns0qoM_S",
        "colab_type": "code",
        "colab": {
          "base_uri": "https://localhost:8080/",
          "height": 266
        },
        "outputId": "de92d349-779c-40bb-ef12-daa87c0a96b5"
      },
      "cell_type": "code",
      "source": [
        "y_max_proba = [max(i) for i in y_proba]\n",
        "plt.hist(y_max_proba, bins = 20)\n",
        "plt.show()"
      ],
      "execution_count": 70,
      "outputs": [
        {
          "output_type": "display_data",
          "data": {
            "image/png": "[encoded data removed]",
            "text/plain": [
              "<matplotlib.figure.Figure at 0x7f3db5433128>"
            ]
          },
          "metadata": {
            "tags": []
          }
        }
      ]
    },
    {
      "metadata": {
        "id": "K4QSG3xloc_s",
        "colab_type": "text"
      },
      "cell_type": "markdown",
      "source": [
        "### Visualisation"
      ]
    },
    {
      "metadata": {
        "id": "TYPsnBqgoypT",
        "colab_type": "code",
        "colab": {
          "base_uri": "https://localhost:8080/",
          "height": 571
        },
        "outputId": "a4683149-f045-4ad9-eac7-4ccda66e53aa"
      },
      "cell_type": "code",
      "source": [
        "graph(X_train_scaled, X_test_scaled, model)"
      ],
      "execution_count": 72,
      "outputs": [
        {
          "output_type": "display_data",
          "data": {
            "image/png": "[encoded data removed]",
            "text/plain": [
              "<matplotlib.figure.Figure at 0x7f3db9107a20>"
            ]
          },
          "metadata": {
            "tags": []
          }
        },
        {
          "output_type": "display_data",
          "data": {
            "image/png": "[encoded data removed]",
            "text/plain": [
              "<matplotlib.figure.Figure at 0x7f3db51136d8>"
            ]
          },
          "metadata": {
            "tags": []
          }
        }
      ]
    },
    {
      "metadata": {
        "id": "mHaXWrYdCGNR",
        "colab_type": "text"
      },
      "cell_type": "markdown",
      "source": [
        "### 1.2 LogisticRegression with PolynomialFeatures"
      ]
    },
    {
      "metadata": {
        "id": "iRcZzDGgCL9_",
        "colab_type": "code",
        "colab": {
          "base_uri": "https://localhost:8080/",
          "height": 442
        },
        "outputId": "846b1185-0643-4108-f863-c5784a0b24c5"
      },
      "cell_type": "code",
      "source": [
        "from sklearn.preprocessing import PolynomialFeatures\n",
        "from sklearn.metrics import confusion_matrix, classification_report\n",
        "poly = PolynomialFeatures(6)\n",
        "X_train_poly = poly.fit_transform(X_train_scaled)\n",
        "X_test_poly = poly.fit_transform(X_test_scaled)\n",
        "lrmodel = LogisticRegression()\n",
        "model = model_fit(X_train_poly, X_test_poly, lrmodel)"
      ],
      "execution_count": 166,
      "outputs": [
        {
          "output_type": "stream",
          "text": [
            " Train score is 0.8966666666666666\n",
            "\n",
            "\n",
            "Test score is 0.92\n",
            "\n",
            "\n",
            "\n",
            "Train confusion matrix is \n",
            " [[175  14]\n",
            " [ 17  94]]\n",
            "\n",
            "Test confusion matrix is \n",
            " [[64  4]\n",
            " [ 4 28]]\n",
            "\n",
            "\n",
            "\n",
            "classification report is \n",
            "              precision    recall  f1-score   support\n",
            "\n",
            "          0       0.94      0.94      0.94        68\n",
            "          1       0.88      0.88      0.88        32\n",
            "\n",
            "avg / total       0.92      0.92      0.92       100\n",
            "\n"
          ],
          "name": "stdout"
        }
      ]
    },
    {
      "metadata": {
        "id": "vT6r1JntK3fU",
        "colab_type": "code",
        "outputId": "bd64dab5-4c2b-4799-8a1c-19962e08a40e",
        "colab": {
          "base_uri": "https://localhost:8080/",
          "height": 34
        }
      },
      "cell_type": "code",
      "source": [
        "model.coef_.shape"
      ],
      "execution_count": 169,
      "outputs": [
        {
          "output_type": "execute_result",
          "data": {
            "text/plain": [
              "(1, 28)"
            ]
          },
          "metadata": {
            "tags": []
          },
          "execution_count": 169
        }
      ]
    },
    {
      "metadata": {
        "id": "7o9DXG_nMTZ3",
        "colab_type": "text"
      },
      "cell_type": "markdown",
      "source": [
        "#### probability of y_test"
      ]
    },
    {
      "metadata": {
        "id": "wdKXj6OTMWXC",
        "colab_type": "code",
        "colab": {}
      },
      "cell_type": "code",
      "source": [
        "y_test_proba = lrmodel.predict_proba(X_test_poly)"
      ],
      "execution_count": 0,
      "outputs": []
    },
    {
      "metadata": {
        "id": "iXlLhO5yMea8",
        "colab_type": "code",
        "outputId": "21072bd0-ef16-4082-88fa-aa1e56837418",
        "colab": {
          "base_uri": "https://localhost:8080/",
          "height": 51
        }
      },
      "cell_type": "code",
      "source": [
        "y_test_proba[:2]"
      ],
      "execution_count": 0,
      "outputs": [
        {
          "output_type": "execute_result",
          "data": {
            "text/plain": [
              "array([[0.9201132 , 0.0798868 ],\n",
              "       [0.94888294, 0.05111706]])"
            ]
          },
          "metadata": {
            "tags": []
          },
          "execution_count": 102
        }
      ]
    },
    {
      "metadata": {
        "id": "Z4AQr2zkMlPy",
        "colab_type": "code",
        "outputId": "aefea24e-f3a7-4b96-a884-fca627fde985",
        "colab": {
          "base_uri": "https://localhost:8080/",
          "height": 34
        }
      },
      "cell_type": "code",
      "source": [
        "y_max_proba = [np.max(i) for i in y_test_proba]\n",
        "y_max_proba[:2]"
      ],
      "execution_count": 0,
      "outputs": [
        {
          "output_type": "execute_result",
          "data": {
            "text/plain": [
              "[0.9201131984533866, 0.9488829439074131]"
            ]
          },
          "metadata": {
            "tags": []
          },
          "execution_count": 103
        }
      ]
    },
    {
      "metadata": {
        "id": "C26cFHDmMwXN",
        "colab_type": "code",
        "outputId": "3d73aa52-3801-482b-d4c9-5d702ca8b675",
        "colab": {
          "base_uri": "https://localhost:8080/",
          "height": 268
        }
      },
      "cell_type": "code",
      "source": [
        "plt.hist(y_max_proba)\n",
        "plt.show()"
      ],
      "execution_count": 0,
      "outputs": [
        {
          "output_type": "display_data",
          "data": {
            "image/png": "[encoded data removed]",
            "text/plain": [
              "<matplotlib.figure.Figure at 0x7fbc09da4630>"
            ]
          },
          "metadata": {
            "tags": []
          }
        }
      ]
    },
    {
      "metadata": {
        "id": "uh84OGeba-xy",
        "colab_type": "text"
      },
      "cell_type": "markdown",
      "source": [
        "### graph"
      ]
    },
    {
      "metadata": {
        "id": "2mR4jm0gK_Ik",
        "colab_type": "text"
      },
      "cell_type": "markdown",
      "source": [
        "## 2. KNN"
      ]
    },
    {
      "metadata": {
        "id": "6X6BdbCgHjCK",
        "colab_type": "code",
        "outputId": "51968c7d-c435-4683-b109-23dc3958bae3",
        "colab": {
          "base_uri": "https://localhost:8080/",
          "height": 320
        }
      },
      "cell_type": "code",
      "source": [
        "x = range(1,30)\n",
        "t = []\n",
        "s = []\n",
        "for i in x:\n",
        "  model = KNeighborsClassifier(n_neighbors = i)\n",
        "  model.fit(X_train, y_train)\n",
        "  s.append(model.score(X_test, y_test))\n",
        "  t.append(model.score(X_train, y_train))\n",
        "  \n",
        "plt.figure(figsize =(10, 5))\n",
        "plt.plot(x, t, c = 'r', label = 'Train score')\n",
        "plt.plot(x, s, c = 'g', label = 'Test score')\n",
        "plt.xticks(x)          \n",
        "plt.legend()    \n",
        "plt.grid()\n",
        "plt.grid()"
      ],
      "execution_count": 178,
      "outputs": [
        {
          "output_type": "display_data",
          "data": {
            "image/png": "[encoded data removed]",
            "text/plain": [
              "<matplotlib.figure.Figure at 0x7f3db257d278>"
            ]
          },
          "metadata": {
            "tags": []
          }
        }
      ]
    },
    {
      "metadata": {
        "id": "Szxj_6dWIR_Y",
        "colab_type": "text"
      },
      "cell_type": "markdown",
      "source": [
        "### After Scaling the Features"
      ]
    },
    {
      "metadata": {
        "id": "RT1Tni4FHNg2",
        "colab_type": "code",
        "colab": {}
      },
      "cell_type": "code",
      "source": [
        "from sklearn.neighbors import KNeighborsClassifier"
      ],
      "execution_count": 0,
      "outputs": []
    },
    {
      "metadata": {
        "colab_type": "code",
        "id": "i7T2hNDXH0-P",
        "colab": {}
      },
      "cell_type": "code",
      "source": [
        "from sklearn.preprocessing import StandardScaler"
      ],
      "execution_count": 0,
      "outputs": []
    },
    {
      "metadata": {
        "colab_type": "code",
        "id": "wblY6lYWH0-b",
        "colab": {}
      },
      "cell_type": "code",
      "source": [
        "sc = StandardScaler()"
      ],
      "execution_count": 0,
      "outputs": []
    },
    {
      "metadata": {
        "colab_type": "code",
        "id": "N-O-Uu2yH0-f",
        "colab": {}
      },
      "cell_type": "code",
      "source": [
        "X_train_scaled = sc.fit_transform(X_train)\n",
        "X_test_scaled = sc.transform(X_test)"
      ],
      "execution_count": 0,
      "outputs": []
    },
    {
      "metadata": {
        "id": "D1fpOj28H7A-",
        "colab_type": "code",
        "outputId": "a00a531d-0a41-4e0c-d115-5e09608b6498",
        "colab": {
          "base_uri": "https://localhost:8080/",
          "height": 320
        }
      },
      "cell_type": "code",
      "source": [
        "x = range(1,30)\n",
        "t = []\n",
        "s = []\n",
        "for i in x:\n",
        "  model = KNeighborsClassifier(n_neighbors = i)\n",
        "  model.fit(X_train_scaled, y_train)\n",
        "  s.append(model.score(X_test_scaled, y_test))\n",
        "  t.append(model.score(X_train_scaled, y_train))\n",
        "  \n",
        "plt.figure(figsize =(10, 5))\n",
        "plt.plot(x, t, c = 'r', label = 'Train score')\n",
        "plt.plot(x, s, c = 'g', label = 'Test score')\n",
        "plt.xticks(x)          \n",
        "plt.grid()\n",
        "plt.legend()    \n",
        "plt.grid()"
      ],
      "execution_count": 179,
      "outputs": [
        {
          "output_type": "display_data",
          "data": {
            "image/png": "[encoded data removed]",
            "text/plain": [
              "<matplotlib.figure.Figure at 0x7f3db516d470>"
            ]
          },
          "metadata": {
            "tags": []
          }
        }
      ]
    },
    {
      "metadata": {
        "id": "3UBgMEf0OaVa",
        "colab_type": "text"
      },
      "cell_type": "markdown",
      "source": [
        "### n_neighbors = 3"
      ]
    },
    {
      "metadata": {
        "id": "gYleiD5HNv8Y",
        "colab_type": "code",
        "outputId": "bdbd5668-95a5-4cc8-869d-820e0104d0e2",
        "colab": {
          "base_uri": "https://localhost:8080/",
          "height": 442
        }
      },
      "cell_type": "code",
      "source": [
        "model = KNeighborsClassifier(n_neighbors = 3)\n",
        "model.fit(X_train_scaled, y_train)\n",
        "modele = model_fit(X_train_scaled, X_test_scaled, model)"
      ],
      "execution_count": 175,
      "outputs": [
        {
          "output_type": "stream",
          "text": [
            " Train score is 0.9133333333333333\n",
            "\n",
            "\n",
            "Test score is 0.93\n",
            "\n",
            "\n",
            "\n",
            "Train confusion matrix is \n",
            " [[174  15]\n",
            " [ 11 100]]\n",
            "\n",
            "Test confusion matrix is \n",
            " [[64  4]\n",
            " [ 3 29]]\n",
            "\n",
            "\n",
            "\n",
            "classification report is \n",
            "              precision    recall  f1-score   support\n",
            "\n",
            "          0       0.96      0.94      0.95        68\n",
            "          1       0.88      0.91      0.89        32\n",
            "\n",
            "avg / total       0.93      0.93      0.93       100\n",
            "\n"
          ],
          "name": "stdout"
        }
      ]
    },
    {
      "metadata": {
        "id": "7QL257XsOeQB",
        "colab_type": "text"
      },
      "cell_type": "markdown",
      "source": [
        "### n_neighbors = 11"
      ]
    },
    {
      "metadata": {
        "id": "ge--jos4ONtZ",
        "colab_type": "code",
        "outputId": "e74895b4-1046-45b9-afbc-01a133f42297",
        "colab": {
          "base_uri": "https://localhost:8080/",
          "height": 442
        }
      },
      "cell_type": "code",
      "source": [
        "from sklearn.neighbors import KNeighborsClassifier\n",
        "from sklearn.metrics import confusion_matrix, classification_report\n",
        "model = KNeighborsClassifier(n_neighbors = 11)\n",
        "model = model_fit(X_train_scaled, X_test_scaled, model)"
      ],
      "execution_count": 180,
      "outputs": [
        {
          "output_type": "stream",
          "text": [
            " Train score is 0.9166666666666666\n",
            "\n",
            "\n",
            "Test score is 0.93\n",
            "\n",
            "\n",
            "\n",
            "Train confusion matrix is \n",
            " [[172  17]\n",
            " [  8 103]]\n",
            "\n",
            "Test confusion matrix is \n",
            " [[64  4]\n",
            " [ 3 29]]\n",
            "\n",
            "\n",
            "\n",
            "classification report is \n",
            "              precision    recall  f1-score   support\n",
            "\n",
            "          0       0.96      0.94      0.95        68\n",
            "          1       0.88      0.91      0.89        32\n",
            "\n",
            "avg / total       0.93      0.93      0.93       100\n",
            "\n"
          ],
          "name": "stdout"
        }
      ]
    },
    {
      "metadata": {
        "id": "CPkS2lXMqnk3",
        "colab_type": "text"
      },
      "cell_type": "markdown",
      "source": [
        "### Visualisation"
      ]
    },
    {
      "metadata": {
        "id": "rhRTGhRsqpRc",
        "colab_type": "code",
        "colab": {
          "base_uri": "https://localhost:8080/",
          "height": 571
        },
        "outputId": "96189cc5-9df0-4c6c-b01e-9e3aabdf2112"
      },
      "cell_type": "code",
      "source": [
        "graph(X_train_scaled, X_test_scaled, model)"
      ],
      "execution_count": 181,
      "outputs": [
        {
          "output_type": "display_data",
          "data": {
            "image/png": "[encoded data removed]",
            "text/plain": [
              "<matplotlib.figure.Figure at 0x7f3db24b2b00>"
            ]
          },
          "metadata": {
            "tags": []
          }
        },
        {
          "output_type": "display_data",
          "data": {
            "image/png": "[encoded data removed]",
            "text/plain": [
              "<matplotlib.figure.Figure at 0x7f3db27006a0>"
            ]
          },
          "metadata": {
            "tags": []
          }
        }
      ]
    },
    {
      "metadata": {
        "id": "5zNItA-dC3_B",
        "colab_type": "text"
      },
      "cell_type": "markdown",
      "source": [
        "## 3. SVC"
      ]
    },
    {
      "metadata": {
        "id": "0HQ0z18hEbMC",
        "colab_type": "code",
        "colab": {}
      },
      "cell_type": "code",
      "source": [
        "from sklearn.svm import SVC\n",
        "from sklearn.metrics import confusion_matrix, classification_report"
      ],
      "execution_count": 0,
      "outputs": []
    },
    {
      "metadata": {
        "id": "j8WIiLXOByzW",
        "colab_type": "text"
      },
      "cell_type": "markdown",
      "source": [
        "### 3.1 Linear SVC"
      ]
    },
    {
      "metadata": {
        "id": "3wSvUAfFEfch",
        "colab_type": "code",
        "outputId": "65e1f721-00be-4cf1-de1c-66bc11a69f65",
        "colab": {
          "base_uri": "https://localhost:8080/",
          "height": 442
        }
      },
      "cell_type": "code",
      "source": [
        "model = SVC(kernel = 'linear')\n",
        "model.fit(X_train_scaled, y_train)\n",
        "model = model_fit(X_train_scaled, X_test_scaled, model)"
      ],
      "execution_count": 170,
      "outputs": [
        {
          "output_type": "stream",
          "text": [
            " Train score is 0.8233333333333334\n",
            "\n",
            "\n",
            "Test score is 0.9\n",
            "\n",
            "\n",
            "\n",
            "Train confusion matrix is \n",
            " [[173  16]\n",
            " [ 37  74]]\n",
            "\n",
            "Test confusion matrix is \n",
            " [[66  2]\n",
            " [ 8 24]]\n",
            "\n",
            "\n",
            "\n",
            "classification report is \n",
            "              precision    recall  f1-score   support\n",
            "\n",
            "          0       0.89      0.97      0.93        68\n",
            "          1       0.92      0.75      0.83        32\n",
            "\n",
            "avg / total       0.90      0.90      0.90       100\n",
            "\n"
          ],
          "name": "stdout"
        }
      ]
    },
    {
      "metadata": {
        "id": "yHWyGMMCq9Ql",
        "colab_type": "text"
      },
      "cell_type": "markdown",
      "source": [
        "### Visualisation"
      ]
    },
    {
      "metadata": {
        "id": "UZte4Qd4q5E4",
        "colab_type": "code",
        "colab": {
          "base_uri": "https://localhost:8080/",
          "height": 571
        },
        "outputId": "ee4f7a98-f92d-43fe-a779-1671cb165aeb"
      },
      "cell_type": "code",
      "source": [
        "graph(X_train_scaled, X_test_scaled, model)"
      ],
      "execution_count": 86,
      "outputs": [
        {
          "output_type": "display_data",
          "data": {
            "image/png": "[encoded data removed]",
            "text/plain": [
              "<matplotlib.figure.Figure at 0x7f3db5236198>"
            ]
          },
          "metadata": {
            "tags": []
          }
        },
        {
          "output_type": "display_data",
          "data": {
            "image/png": "[encoded data removed]",
            "text/plain": [
              "<matplotlib.figure.Figure at 0x7f3db5308ef0>"
            ]
          },
          "metadata": {
            "tags": []
          }
        }
      ]
    },
    {
      "metadata": {
        "id": "MbOrPMkuEmZQ",
        "colab_type": "text"
      },
      "cell_type": "markdown",
      "source": [
        "### 3.2 rbf SVC"
      ]
    },
    {
      "metadata": {
        "id": "tMoRe9fhCAKF",
        "colab_type": "code",
        "colab": {
          "base_uri": "https://localhost:8080/",
          "height": 442
        },
        "outputId": "f3e820ad-a558-4284-baca-bfe7b9fc16f8"
      },
      "cell_type": "code",
      "source": [
        "model = SVC(kernel = 'rbf')\n",
        "model.fit(X_train_scaled, y_train)\n",
        "modele = model_fit(X_train_scaled, X_test_scaled, model)"
      ],
      "execution_count": 172,
      "outputs": [
        {
          "output_type": "stream",
          "text": [
            " Train score is 0.9133333333333333\n",
            "\n",
            "\n",
            "Test score is 0.93\n",
            "\n",
            "\n",
            "\n",
            "Train confusion matrix is \n",
            " [[171  18]\n",
            " [  8 103]]\n",
            "\n",
            "Test confusion matrix is \n",
            " [[64  4]\n",
            " [ 3 29]]\n",
            "\n",
            "\n",
            "\n",
            "classification report is \n",
            "              precision    recall  f1-score   support\n",
            "\n",
            "          0       0.96      0.94      0.95        68\n",
            "          1       0.88      0.91      0.89        32\n",
            "\n",
            "avg / total       0.93      0.93      0.93       100\n",
            "\n"
          ],
          "name": "stdout"
        }
      ]
    },
    {
      "metadata": {
        "id": "MXdyZJ2mrJxF",
        "colab_type": "text"
      },
      "cell_type": "markdown",
      "source": [
        "### Visualisation"
      ]
    },
    {
      "metadata": {
        "id": "v4bF77-yrLOb",
        "colab_type": "code",
        "colab": {
          "base_uri": "https://localhost:8080/",
          "height": 571
        },
        "outputId": "52f04031-9605-4639-9713-5c9642fb0654"
      },
      "cell_type": "code",
      "source": [
        "graph(X_train_scaled, X_test_scaled, model)"
      ],
      "execution_count": 88,
      "outputs": [
        {
          "output_type": "display_data",
          "data": {
            "image/png": "[encoded data removed]",
            "text/plain": [
              "<matplotlib.figure.Figure at 0x7f3db535eda0>"
            ]
          },
          "metadata": {
            "tags": []
          }
        },
        {
          "output_type": "display_data",
          "data": {
            "image/png": "[encoded data removed]",
            "text/plain": [
              "<matplotlib.figure.Figure at 0x7f3db536fb00>"
            ]
          },
          "metadata": {
            "tags": []
          }
        }
      ]
    },
    {
      "metadata": {
        "id": "n0Haz9fcHiyo",
        "colab_type": "text"
      },
      "cell_type": "markdown",
      "source": [
        "### 3.3 GridSearchCV"
      ]
    },
    {
      "metadata": {
        "id": "8_jJUkKvCF51",
        "colab_type": "code",
        "colab": {}
      },
      "cell_type": "code",
      "source": [
        "from sklearn.model_selection import GridSearchCV"
      ],
      "execution_count": 0,
      "outputs": []
    },
    {
      "metadata": {
        "id": "0sRzfrQCCWig",
        "colab_type": "text"
      },
      "cell_type": "markdown",
      "source": [
        "class sklearn.svm.SVC(C=1.0, kernel=’rbf’, degree=3, gamma=’auto_deprecated’, coef0=0.0, shrinking=True, probability=False, tol=0.001, cache_size=200, class_weight=None, verbose=False, max_iter=-1, decision_function_shape=’ovr’, random_state=None)"
      ]
    },
    {
      "metadata": {
        "id": "jNOGSxvICP88",
        "colab_type": "code",
        "colab": {
          "base_uri": "https://localhost:8080/",
          "height": 292
        },
        "outputId": "c43546dc-12f4-49e2-a54b-9f3721ac55d7"
      },
      "cell_type": "code",
      "source": [
        "param_grid = {'C':np.linspace(0.1, 3, 20), 'kernel': ['linear', 'rbf', 'poly'], 'gamma': np.linspace(0.1, 3, 20)}\n",
        "grid = GridSearchCV(SVC(), param_grid = param_grid, cv = 3, scoring = 'accuracy',verbose = 1)\n",
        "grid.fit(X_train_scaled, y_train)"
      ],
      "execution_count": 91,
      "outputs": [
        {
          "output_type": "stream",
          "text": [
            "Fitting 3 folds for each of 1200 candidates, totalling 3600 fits\n"
          ],
          "name": "stdout"
        },
        {
          "output_type": "stream",
          "text": [
            "[Parallel(n_jobs=1)]: Done 3600 out of 3600 | elapsed:   20.5s finished\n"
          ],
          "name": "stderr"
        },
        {
          "output_type": "execute_result",
          "data": {
            "text/plain": [
              "GridSearchCV(cv=3, error_score='raise',\n",
              "       estimator=SVC(C=1.0, cache_size=200, class_weight=None, coef0=0.0,\n",
              "  decision_function_shape='ovr', degree=3, gamma='auto', kernel='rbf',\n",
              "  max_iter=-1, probability=False, random_state=None, shrinking=True,\n",
              "  tol=0.001, verbose=False),\n",
              "       fit_params=None, iid=True, n_jobs=1,\n",
              "       param_grid={'C': array([0.1    , 0.25263, 0.40526, 0.55789, 0.71053, 0.86316, 1.01579,\n",
              "       1.16842, 1.32105, 1.47368, 1.62632, 1.77895, 1.93158, 2.08421,\n",
              "       2.23684, 2.38947, 2.54211, 2.69474, 2.84737, 3.     ]), 'kernel': ['linear', 'rbf', 'poly'], 'gamma': array([0.1    , 0.25263, 0.40526, 0.55789, 0.71053, 0.86316, 1.01579,\n",
              "       1.16842, 1.32105, 1.47368, 1.62632, 1.77895, 1.93158, 2.08421,\n",
              "       2.23684, 2.38947, 2.54211, 2.69474, 2.84737, 3.     ])},\n",
              "       pre_dispatch='2*n_jobs', refit=True, return_train_score='warn',\n",
              "       scoring='accuracy', verbose=1)"
            ]
          },
          "metadata": {
            "tags": []
          },
          "execution_count": 91
        }
      ]
    },
    {
      "metadata": {
        "id": "xHeOVoRVDvSv",
        "colab_type": "code",
        "colab": {
          "base_uri": "https://localhost:8080/",
          "height": 34
        },
        "outputId": "fbe90458-93a0-457b-b9f1-9e90c8909395"
      },
      "cell_type": "code",
      "source": [
        "grid.best_params_"
      ],
      "execution_count": 92,
      "outputs": [
        {
          "output_type": "execute_result",
          "data": {
            "text/plain": [
              "{'C': 2.694736842105263, 'gamma': 0.8631578947368421, 'kernel': 'rbf'}"
            ]
          },
          "metadata": {
            "tags": []
          },
          "execution_count": 92
        }
      ]
    },
    {
      "metadata": {
        "id": "JKSED6F6FGPr",
        "colab_type": "code",
        "colab": {
          "base_uri": "https://localhost:8080/",
          "height": 34
        },
        "outputId": "227b474d-59fb-45c1-fa51-73c80b1e7212"
      },
      "cell_type": "code",
      "source": [
        "grid.best_score_"
      ],
      "execution_count": 93,
      "outputs": [
        {
          "output_type": "execute_result",
          "data": {
            "text/plain": [
              "0.9166666666666666"
            ]
          },
          "metadata": {
            "tags": []
          },
          "execution_count": 93
        }
      ]
    },
    {
      "metadata": {
        "id": "mymbCuIOFCaV",
        "colab_type": "code",
        "colab": {
          "base_uri": "https://localhost:8080/",
          "height": 85
        },
        "outputId": "4309553d-c50c-4ce4-d357-6cc6bf31f08d"
      },
      "cell_type": "code",
      "source": [
        "model = grid.best_estimator_\n",
        "model"
      ],
      "execution_count": 173,
      "outputs": [
        {
          "output_type": "execute_result",
          "data": {
            "text/plain": [
              "SVC(C=2.694736842105263, cache_size=200, class_weight=None, coef0=0.0,\n",
              "  decision_function_shape='ovr', degree=3, gamma=0.8631578947368421,\n",
              "  kernel='rbf', max_iter=-1, probability=False, random_state=None,\n",
              "  shrinking=True, tol=0.001, verbose=False)"
            ]
          },
          "metadata": {
            "tags": []
          },
          "execution_count": 173
        }
      ]
    },
    {
      "metadata": {
        "id": "c4MtdOBbFfUG",
        "colab_type": "code",
        "colab": {
          "base_uri": "https://localhost:8080/",
          "height": 442
        },
        "outputId": "c0c52c8c-c1d6-4634-dad4-34d10e0faf9a"
      },
      "cell_type": "code",
      "source": [
        "modele = model_fit(X_train_scaled, X_test_scaled, model)"
      ],
      "execution_count": 174,
      "outputs": [
        {
          "output_type": "stream",
          "text": [
            " Train score is 0.9133333333333333\n",
            "\n",
            "\n",
            "Test score is 0.93\n",
            "\n",
            "\n",
            "\n",
            "Train confusion matrix is \n",
            " [[171  18]\n",
            " [  8 103]]\n",
            "\n",
            "Test confusion matrix is \n",
            " [[64  4]\n",
            " [ 3 29]]\n",
            "\n",
            "\n",
            "\n",
            "classification report is \n",
            "              precision    recall  f1-score   support\n",
            "\n",
            "          0       0.96      0.94      0.95        68\n",
            "          1       0.88      0.91      0.89        32\n",
            "\n",
            "avg / total       0.93      0.93      0.93       100\n",
            "\n"
          ],
          "name": "stdout"
        }
      ]
    },
    {
      "metadata": {
        "id": "T0yFCvq-GljG",
        "colab_type": "text"
      },
      "cell_type": "markdown",
      "source": [
        "## 4. DecisionTreeClassifier"
      ]
    },
    {
      "metadata": {
        "id": "b4dmvLkRIX_U",
        "colab_type": "code",
        "colab": {}
      },
      "cell_type": "code",
      "source": [
        ""
      ],
      "execution_count": 0,
      "outputs": []
    }
  ]
}