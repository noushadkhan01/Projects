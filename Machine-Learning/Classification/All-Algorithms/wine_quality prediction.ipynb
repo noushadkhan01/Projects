{
  "nbformat": 4,
  "nbformat_minor": 0,
  "metadata": {
    "colab": {
      "name": "wine dataset.ipynb",
      "version": "0.3.2",
      "provenance": [],
      "include_colab_link": true
    },
    "kernelspec": {
      "name": "python3",
      "display_name": "Python 3"
    },
    "accelerator": "GPU"
  },
  "cells": [
    {
      "cell_type": "markdown",
      "metadata": {
        "id": "view-in-github",
        "colab_type": "text"
      },
      "source": [
        "<a href=\"https://colab.research.google.com/github/noushadkhan01/Projects/blob/master/Machine-Learning/Classification/All-Algorithms/wine_quality%20prediction.ipynb\" target=\"_parent\"><img src=\"https://colab.research.google.com/assets/colab-badge.svg\" alt=\"Open In Colab\"/></a>"
      ]
    },
    {
      "metadata": {
        "_cell_guid": "6876755d-3552-491d-b416-a012fbe221e4",
        "_uuid": "0b46910d15d98513ea81fb24e0f8ab28134c5f5f",
        "id": "ROp_Zr-tAvZX",
        "colab_type": "text"
      },
      "cell_type": "markdown",
      "source": [
        "# Wine Dataset:-\n",
        "\n",
        "**This project is to predict the quality of wine**\n",
        "\n",
        "- **About dataset**\n",
        "- - **output is based on sensory data\n",
        "  (median of at least 3 evaluations made by wine experts). Each expert graded the wine quality \n",
        "  between 0 (very bad) and 10 (very excellent).**\n",
        "- - - - \n",
        "\n",
        "**I am using these three given algorithms to predict the quality of Wine**\n",
        "- **Algorithms**\n",
        "- - **Machine Learning Algorithms**\n",
        "- - -  **1. Random Forest Classifier**\n",
        "\n",
        "- - -  **2. Stochastic Gradient Descent Classifier**\n",
        "\n",
        "- - -  **3. Support Vector Classifier(SVC) **\n",
        "- - **Deep Learning Algorithms**\n",
        "- - - **Stochastic Gradient Descent with Adam optimizer from keras library**\n",
        "\n",
        "- **And after this we will be doing validation on all algorithms**\n",
        "\n",
        "- -  **1. Grid Search CV**\n",
        "\n",
        "- -  **2. Cross Validation Score**"
      ]
    },
    {
      "metadata": {
        "id": "9odISdT_ByB0",
        "colab_type": "text"
      },
      "cell_type": "markdown",
      "source": [
        "## Importing required packages."
      ]
    },
    {
      "metadata": {
        "id": "cxzV5FzDAvZZ",
        "colab_type": "code",
        "colab": {}
      },
      "cell_type": "code",
      "source": [
        "import pandas as pd\n",
        "import seaborn as sns\n",
        "import matplotlib.pyplot as plt\n",
        "from sklearn.ensemble import RandomForestClassifier\n",
        "from sklearn.svm import SVC\n",
        "from sklearn.linear_model import SGDClassifier\n",
        "from sklearn.metrics import confusion_matrix, classification_report\n",
        "from sklearn.preprocessing import StandardScaler, LabelEncoder\n",
        "from sklearn.model_selection import train_test_split, GridSearchCV, cross_val_score\n",
        "%matplotlib inline"
      ],
      "execution_count": 0,
      "outputs": []
    },
    {
      "metadata": {
        "_cell_guid": "800f9ff4-79bf-4785-9569-23e1d9b9b03b",
        "_uuid": "07c8409e4eccd80507d9846e8cc70ea42e58cbe6",
        "trusted": false,
        "id": "S2SbSG1pAvZc",
        "colab_type": "code",
        "colab": {
          "base_uri": "https://localhost:8080/",
          "height": 221
        },
        "outputId": "a6d8d34b-fe80-4ce4-ad41-1400c4ebe2cd"
      },
      "cell_type": "code",
      "source": [
        "#Loading dataset\n",
        "redwine = pd.read_csv('https://bit.ly/2KKr3MU', sep = ';')\n",
        "redwine.head()"
      ],
      "execution_count": 53,
      "outputs": [
        {
          "output_type": "execute_result",
          "data": {
            "text/html": [
              "<div>\n",
              "<style scoped>\n",
              "    .dataframe tbody tr th:only-of-type {\n",
              "        vertical-align: middle;\n",
              "    }\n",
              "\n",
              "    .dataframe tbody tr th {\n",
              "        vertical-align: top;\n",
              "    }\n",
              "\n",
              "    .dataframe thead th {\n",
              "        text-align: right;\n",
              "    }\n",
              "</style>\n",
              "<table border=\"1\" class=\"dataframe\">\n",
              "  <thead>\n",
              "    <tr style=\"text-align: right;\">\n",
              "      <th></th>\n",
              "      <th>fixed acidity</th>\n",
              "      <th>volatile acidity</th>\n",
              "      <th>citric acid</th>\n",
              "      <th>residual sugar</th>\n",
              "      <th>chlorides</th>\n",
              "      <th>free sulfur dioxide</th>\n",
              "      <th>total sulfur dioxide</th>\n",
              "      <th>density</th>\n",
              "      <th>pH</th>\n",
              "      <th>sulphates</th>\n",
              "      <th>alcohol</th>\n",
              "      <th>quality</th>\n",
              "    </tr>\n",
              "  </thead>\n",
              "  <tbody>\n",
              "    <tr>\n",
              "      <th>0</th>\n",
              "      <td>7.4</td>\n",
              "      <td>0.70</td>\n",
              "      <td>0.00</td>\n",
              "      <td>1.9</td>\n",
              "      <td>0.076</td>\n",
              "      <td>11.0</td>\n",
              "      <td>34.0</td>\n",
              "      <td>0.9978</td>\n",
              "      <td>3.51</td>\n",
              "      <td>0.56</td>\n",
              "      <td>9.4</td>\n",
              "      <td>5</td>\n",
              "    </tr>\n",
              "    <tr>\n",
              "      <th>1</th>\n",
              "      <td>7.8</td>\n",
              "      <td>0.88</td>\n",
              "      <td>0.00</td>\n",
              "      <td>2.6</td>\n",
              "      <td>0.098</td>\n",
              "      <td>25.0</td>\n",
              "      <td>67.0</td>\n",
              "      <td>0.9968</td>\n",
              "      <td>3.20</td>\n",
              "      <td>0.68</td>\n",
              "      <td>9.8</td>\n",
              "      <td>5</td>\n",
              "    </tr>\n",
              "    <tr>\n",
              "      <th>2</th>\n",
              "      <td>7.8</td>\n",
              "      <td>0.76</td>\n",
              "      <td>0.04</td>\n",
              "      <td>2.3</td>\n",
              "      <td>0.092</td>\n",
              "      <td>15.0</td>\n",
              "      <td>54.0</td>\n",
              "      <td>0.9970</td>\n",
              "      <td>3.26</td>\n",
              "      <td>0.65</td>\n",
              "      <td>9.8</td>\n",
              "      <td>5</td>\n",
              "    </tr>\n",
              "    <tr>\n",
              "      <th>3</th>\n",
              "      <td>11.2</td>\n",
              "      <td>0.28</td>\n",
              "      <td>0.56</td>\n",
              "      <td>1.9</td>\n",
              "      <td>0.075</td>\n",
              "      <td>17.0</td>\n",
              "      <td>60.0</td>\n",
              "      <td>0.9980</td>\n",
              "      <td>3.16</td>\n",
              "      <td>0.58</td>\n",
              "      <td>9.8</td>\n",
              "      <td>6</td>\n",
              "    </tr>\n",
              "    <tr>\n",
              "      <th>4</th>\n",
              "      <td>7.4</td>\n",
              "      <td>0.70</td>\n",
              "      <td>0.00</td>\n",
              "      <td>1.9</td>\n",
              "      <td>0.076</td>\n",
              "      <td>11.0</td>\n",
              "      <td>34.0</td>\n",
              "      <td>0.9978</td>\n",
              "      <td>3.51</td>\n",
              "      <td>0.56</td>\n",
              "      <td>9.4</td>\n",
              "      <td>5</td>\n",
              "    </tr>\n",
              "  </tbody>\n",
              "</table>\n",
              "</div>"
            ],
            "text/plain": [
              "   fixed acidity  volatile acidity  citric acid  residual sugar  chlorides  \\\n",
              "0            7.4              0.70         0.00             1.9      0.076   \n",
              "1            7.8              0.88         0.00             2.6      0.098   \n",
              "2            7.8              0.76         0.04             2.3      0.092   \n",
              "3           11.2              0.28         0.56             1.9      0.075   \n",
              "4            7.4              0.70         0.00             1.9      0.076   \n",
              "\n",
              "   free sulfur dioxide  total sulfur dioxide  density    pH  sulphates  \\\n",
              "0                 11.0                  34.0   0.9978  3.51       0.56   \n",
              "1                 25.0                  67.0   0.9968  3.20       0.68   \n",
              "2                 15.0                  54.0   0.9970  3.26       0.65   \n",
              "3                 17.0                  60.0   0.9980  3.16       0.58   \n",
              "4                 11.0                  34.0   0.9978  3.51       0.56   \n",
              "\n",
              "   alcohol  quality  \n",
              "0      9.4        5  \n",
              "1      9.8        5  \n",
              "2      9.8        5  \n",
              "3      9.8        6  \n",
              "4      9.4        5  "
            ]
          },
          "metadata": {
            "tags": []
          },
          "execution_count": 53
        }
      ]
    },
    {
      "metadata": {
        "id": "CSKX5jEDOTLu",
        "colab_type": "code",
        "colab": {
          "base_uri": "https://localhost:8080/",
          "height": 34
        },
        "outputId": "1293295d-39b3-4551-826f-c25ff00555c5"
      },
      "cell_type": "code",
      "source": [
        "redwine.shape"
      ],
      "execution_count": 55,
      "outputs": [
        {
          "output_type": "execute_result",
          "data": {
            "text/plain": [
              "(1599, 12)"
            ]
          },
          "metadata": {
            "tags": []
          },
          "execution_count": 55
        }
      ]
    },
    {
      "metadata": {
        "id": "RU6tBseVKNGw",
        "colab_type": "code",
        "colab": {
          "base_uri": "https://localhost:8080/",
          "height": 221
        },
        "outputId": "283db680-ca76-4fc4-b2f5-aabf45702ffe"
      },
      "cell_type": "code",
      "source": [
        "whitewine = pd.read_csv('https://bit.ly/2AxUo8A', sep = ';')\n",
        "whitewine.head()"
      ],
      "execution_count": 56,
      "outputs": [
        {
          "output_type": "execute_result",
          "data": {
            "text/html": [
              "<div>\n",
              "<style scoped>\n",
              "    .dataframe tbody tr th:only-of-type {\n",
              "        vertical-align: middle;\n",
              "    }\n",
              "\n",
              "    .dataframe tbody tr th {\n",
              "        vertical-align: top;\n",
              "    }\n",
              "\n",
              "    .dataframe thead th {\n",
              "        text-align: right;\n",
              "    }\n",
              "</style>\n",
              "<table border=\"1\" class=\"dataframe\">\n",
              "  <thead>\n",
              "    <tr style=\"text-align: right;\">\n",
              "      <th></th>\n",
              "      <th>fixed acidity</th>\n",
              "      <th>volatile acidity</th>\n",
              "      <th>citric acid</th>\n",
              "      <th>residual sugar</th>\n",
              "      <th>chlorides</th>\n",
              "      <th>free sulfur dioxide</th>\n",
              "      <th>total sulfur dioxide</th>\n",
              "      <th>density</th>\n",
              "      <th>pH</th>\n",
              "      <th>sulphates</th>\n",
              "      <th>alcohol</th>\n",
              "      <th>quality</th>\n",
              "    </tr>\n",
              "  </thead>\n",
              "  <tbody>\n",
              "    <tr>\n",
              "      <th>0</th>\n",
              "      <td>7.0</td>\n",
              "      <td>0.27</td>\n",
              "      <td>0.36</td>\n",
              "      <td>20.7</td>\n",
              "      <td>0.045</td>\n",
              "      <td>45.0</td>\n",
              "      <td>170.0</td>\n",
              "      <td>1.0010</td>\n",
              "      <td>3.00</td>\n",
              "      <td>0.45</td>\n",
              "      <td>8.8</td>\n",
              "      <td>6</td>\n",
              "    </tr>\n",
              "    <tr>\n",
              "      <th>1</th>\n",
              "      <td>6.3</td>\n",
              "      <td>0.30</td>\n",
              "      <td>0.34</td>\n",
              "      <td>1.6</td>\n",
              "      <td>0.049</td>\n",
              "      <td>14.0</td>\n",
              "      <td>132.0</td>\n",
              "      <td>0.9940</td>\n",
              "      <td>3.30</td>\n",
              "      <td>0.49</td>\n",
              "      <td>9.5</td>\n",
              "      <td>6</td>\n",
              "    </tr>\n",
              "    <tr>\n",
              "      <th>2</th>\n",
              "      <td>8.1</td>\n",
              "      <td>0.28</td>\n",
              "      <td>0.40</td>\n",
              "      <td>6.9</td>\n",
              "      <td>0.050</td>\n",
              "      <td>30.0</td>\n",
              "      <td>97.0</td>\n",
              "      <td>0.9951</td>\n",
              "      <td>3.26</td>\n",
              "      <td>0.44</td>\n",
              "      <td>10.1</td>\n",
              "      <td>6</td>\n",
              "    </tr>\n",
              "    <tr>\n",
              "      <th>3</th>\n",
              "      <td>7.2</td>\n",
              "      <td>0.23</td>\n",
              "      <td>0.32</td>\n",
              "      <td>8.5</td>\n",
              "      <td>0.058</td>\n",
              "      <td>47.0</td>\n",
              "      <td>186.0</td>\n",
              "      <td>0.9956</td>\n",
              "      <td>3.19</td>\n",
              "      <td>0.40</td>\n",
              "      <td>9.9</td>\n",
              "      <td>6</td>\n",
              "    </tr>\n",
              "    <tr>\n",
              "      <th>4</th>\n",
              "      <td>7.2</td>\n",
              "      <td>0.23</td>\n",
              "      <td>0.32</td>\n",
              "      <td>8.5</td>\n",
              "      <td>0.058</td>\n",
              "      <td>47.0</td>\n",
              "      <td>186.0</td>\n",
              "      <td>0.9956</td>\n",
              "      <td>3.19</td>\n",
              "      <td>0.40</td>\n",
              "      <td>9.9</td>\n",
              "      <td>6</td>\n",
              "    </tr>\n",
              "  </tbody>\n",
              "</table>\n",
              "</div>"
            ],
            "text/plain": [
              "   fixed acidity  volatile acidity  citric acid  residual sugar  chlorides  \\\n",
              "0            7.0              0.27         0.36            20.7      0.045   \n",
              "1            6.3              0.30         0.34             1.6      0.049   \n",
              "2            8.1              0.28         0.40             6.9      0.050   \n",
              "3            7.2              0.23         0.32             8.5      0.058   \n",
              "4            7.2              0.23         0.32             8.5      0.058   \n",
              "\n",
              "   free sulfur dioxide  total sulfur dioxide  density    pH  sulphates  \\\n",
              "0                 45.0                 170.0   1.0010  3.00       0.45   \n",
              "1                 14.0                 132.0   0.9940  3.30       0.49   \n",
              "2                 30.0                  97.0   0.9951  3.26       0.44   \n",
              "3                 47.0                 186.0   0.9956  3.19       0.40   \n",
              "4                 47.0                 186.0   0.9956  3.19       0.40   \n",
              "\n",
              "   alcohol  quality  \n",
              "0      8.8        6  \n",
              "1      9.5        6  \n",
              "2     10.1        6  \n",
              "3      9.9        6  \n",
              "4      9.9        6  "
            ]
          },
          "metadata": {
            "tags": []
          },
          "execution_count": 56
        }
      ]
    },
    {
      "metadata": {
        "id": "51y_QEegOZpP",
        "colab_type": "code",
        "colab": {
          "base_uri": "https://localhost:8080/",
          "height": 34
        },
        "outputId": "55b2f303-854b-4161-f862-56b4ecc81729"
      },
      "cell_type": "code",
      "source": [
        "whitewine.shape"
      ],
      "execution_count": 57,
      "outputs": [
        {
          "output_type": "execute_result",
          "data": {
            "text/plain": [
              "(4898, 12)"
            ]
          },
          "metadata": {
            "tags": []
          },
          "execution_count": 57
        }
      ]
    },
    {
      "metadata": {
        "id": "ZA-F3NwpOCaN",
        "colab_type": "text"
      },
      "cell_type": "markdown",
      "source": [
        "### make another label for type of wine"
      ]
    },
    {
      "metadata": {
        "id": "iaUJTcSTKbQW",
        "colab_type": "code",
        "colab": {
          "base_uri": "https://localhost:8080/",
          "height": 128
        },
        "outputId": "59e4313e-9fc8-44fa-b941-802367535069"
      },
      "cell_type": "code",
      "source": [
        "whitewine['label'] = ['White' for i in range(len(whitewine))]\n",
        "whitewine.head(2)"
      ],
      "execution_count": 58,
      "outputs": [
        {
          "output_type": "execute_result",
          "data": {
            "text/html": [
              "<div>\n",
              "<style scoped>\n",
              "    .dataframe tbody tr th:only-of-type {\n",
              "        vertical-align: middle;\n",
              "    }\n",
              "\n",
              "    .dataframe tbody tr th {\n",
              "        vertical-align: top;\n",
              "    }\n",
              "\n",
              "    .dataframe thead th {\n",
              "        text-align: right;\n",
              "    }\n",
              "</style>\n",
              "<table border=\"1\" class=\"dataframe\">\n",
              "  <thead>\n",
              "    <tr style=\"text-align: right;\">\n",
              "      <th></th>\n",
              "      <th>fixed acidity</th>\n",
              "      <th>volatile acidity</th>\n",
              "      <th>citric acid</th>\n",
              "      <th>residual sugar</th>\n",
              "      <th>chlorides</th>\n",
              "      <th>free sulfur dioxide</th>\n",
              "      <th>total sulfur dioxide</th>\n",
              "      <th>density</th>\n",
              "      <th>pH</th>\n",
              "      <th>sulphates</th>\n",
              "      <th>alcohol</th>\n",
              "      <th>quality</th>\n",
              "      <th>label</th>\n",
              "    </tr>\n",
              "  </thead>\n",
              "  <tbody>\n",
              "    <tr>\n",
              "      <th>0</th>\n",
              "      <td>7.0</td>\n",
              "      <td>0.27</td>\n",
              "      <td>0.36</td>\n",
              "      <td>20.7</td>\n",
              "      <td>0.045</td>\n",
              "      <td>45.0</td>\n",
              "      <td>170.0</td>\n",
              "      <td>1.001</td>\n",
              "      <td>3.0</td>\n",
              "      <td>0.45</td>\n",
              "      <td>8.8</td>\n",
              "      <td>6</td>\n",
              "      <td>White</td>\n",
              "    </tr>\n",
              "    <tr>\n",
              "      <th>1</th>\n",
              "      <td>6.3</td>\n",
              "      <td>0.30</td>\n",
              "      <td>0.34</td>\n",
              "      <td>1.6</td>\n",
              "      <td>0.049</td>\n",
              "      <td>14.0</td>\n",
              "      <td>132.0</td>\n",
              "      <td>0.994</td>\n",
              "      <td>3.3</td>\n",
              "      <td>0.49</td>\n",
              "      <td>9.5</td>\n",
              "      <td>6</td>\n",
              "      <td>White</td>\n",
              "    </tr>\n",
              "  </tbody>\n",
              "</table>\n",
              "</div>"
            ],
            "text/plain": [
              "   fixed acidity  volatile acidity  citric acid  residual sugar  chlorides  \\\n",
              "0            7.0              0.27         0.36            20.7      0.045   \n",
              "1            6.3              0.30         0.34             1.6      0.049   \n",
              "\n",
              "   free sulfur dioxide  total sulfur dioxide  density   pH  sulphates  \\\n",
              "0                 45.0                 170.0    1.001  3.0       0.45   \n",
              "1                 14.0                 132.0    0.994  3.3       0.49   \n",
              "\n",
              "   alcohol  quality  label  \n",
              "0      8.8        6  White  \n",
              "1      9.5        6  White  "
            ]
          },
          "metadata": {
            "tags": []
          },
          "execution_count": 58
        }
      ]
    },
    {
      "metadata": {
        "id": "6KSdbeR3Kpda",
        "colab_type": "code",
        "colab": {
          "base_uri": "https://localhost:8080/",
          "height": 128
        },
        "outputId": "f93a6145-c303-4837-a228-249c84a6d657"
      },
      "cell_type": "code",
      "source": [
        "redwine['label'] = ['Red' for i in range(len(redwine))]\n",
        "redwine.head(2)"
      ],
      "execution_count": 59,
      "outputs": [
        {
          "output_type": "execute_result",
          "data": {
            "text/html": [
              "<div>\n",
              "<style scoped>\n",
              "    .dataframe tbody tr th:only-of-type {\n",
              "        vertical-align: middle;\n",
              "    }\n",
              "\n",
              "    .dataframe tbody tr th {\n",
              "        vertical-align: top;\n",
              "    }\n",
              "\n",
              "    .dataframe thead th {\n",
              "        text-align: right;\n",
              "    }\n",
              "</style>\n",
              "<table border=\"1\" class=\"dataframe\">\n",
              "  <thead>\n",
              "    <tr style=\"text-align: right;\">\n",
              "      <th></th>\n",
              "      <th>fixed acidity</th>\n",
              "      <th>volatile acidity</th>\n",
              "      <th>citric acid</th>\n",
              "      <th>residual sugar</th>\n",
              "      <th>chlorides</th>\n",
              "      <th>free sulfur dioxide</th>\n",
              "      <th>total sulfur dioxide</th>\n",
              "      <th>density</th>\n",
              "      <th>pH</th>\n",
              "      <th>sulphates</th>\n",
              "      <th>alcohol</th>\n",
              "      <th>quality</th>\n",
              "      <th>label</th>\n",
              "    </tr>\n",
              "  </thead>\n",
              "  <tbody>\n",
              "    <tr>\n",
              "      <th>0</th>\n",
              "      <td>7.4</td>\n",
              "      <td>0.70</td>\n",
              "      <td>0.0</td>\n",
              "      <td>1.9</td>\n",
              "      <td>0.076</td>\n",
              "      <td>11.0</td>\n",
              "      <td>34.0</td>\n",
              "      <td>0.9978</td>\n",
              "      <td>3.51</td>\n",
              "      <td>0.56</td>\n",
              "      <td>9.4</td>\n",
              "      <td>5</td>\n",
              "      <td>Red</td>\n",
              "    </tr>\n",
              "    <tr>\n",
              "      <th>1</th>\n",
              "      <td>7.8</td>\n",
              "      <td>0.88</td>\n",
              "      <td>0.0</td>\n",
              "      <td>2.6</td>\n",
              "      <td>0.098</td>\n",
              "      <td>25.0</td>\n",
              "      <td>67.0</td>\n",
              "      <td>0.9968</td>\n",
              "      <td>3.20</td>\n",
              "      <td>0.68</td>\n",
              "      <td>9.8</td>\n",
              "      <td>5</td>\n",
              "      <td>Red</td>\n",
              "    </tr>\n",
              "  </tbody>\n",
              "</table>\n",
              "</div>"
            ],
            "text/plain": [
              "   fixed acidity  volatile acidity  citric acid  residual sugar  chlorides  \\\n",
              "0            7.4              0.70          0.0             1.9      0.076   \n",
              "1            7.8              0.88          0.0             2.6      0.098   \n",
              "\n",
              "   free sulfur dioxide  total sulfur dioxide  density    pH  sulphates  \\\n",
              "0                 11.0                  34.0   0.9978  3.51       0.56   \n",
              "1                 25.0                  67.0   0.9968  3.20       0.68   \n",
              "\n",
              "   alcohol  quality label  \n",
              "0      9.4        5   Red  \n",
              "1      9.8        5   Red  "
            ]
          },
          "metadata": {
            "tags": []
          },
          "execution_count": 59
        }
      ]
    },
    {
      "metadata": {
        "id": "Bxl7HEAjN8iF",
        "colab_type": "text"
      },
      "cell_type": "markdown",
      "source": [
        "## Combine redwine and whitewine dataset"
      ]
    },
    {
      "metadata": {
        "id": "G60MQDf9LQjV",
        "colab_type": "code",
        "colab": {
          "base_uri": "https://localhost:8080/",
          "height": 128
        },
        "outputId": "e7917480-44bc-4b03-a58d-2c8d89b8cd17"
      },
      "cell_type": "code",
      "source": [
        "wines = pd.concat([redwine, whitewine], axis = 0)\n",
        "wines.head(2)"
      ],
      "execution_count": 60,
      "outputs": [
        {
          "output_type": "execute_result",
          "data": {
            "text/html": [
              "<div>\n",
              "<style scoped>\n",
              "    .dataframe tbody tr th:only-of-type {\n",
              "        vertical-align: middle;\n",
              "    }\n",
              "\n",
              "    .dataframe tbody tr th {\n",
              "        vertical-align: top;\n",
              "    }\n",
              "\n",
              "    .dataframe thead th {\n",
              "        text-align: right;\n",
              "    }\n",
              "</style>\n",
              "<table border=\"1\" class=\"dataframe\">\n",
              "  <thead>\n",
              "    <tr style=\"text-align: right;\">\n",
              "      <th></th>\n",
              "      <th>fixed acidity</th>\n",
              "      <th>volatile acidity</th>\n",
              "      <th>citric acid</th>\n",
              "      <th>residual sugar</th>\n",
              "      <th>chlorides</th>\n",
              "      <th>free sulfur dioxide</th>\n",
              "      <th>total sulfur dioxide</th>\n",
              "      <th>density</th>\n",
              "      <th>pH</th>\n",
              "      <th>sulphates</th>\n",
              "      <th>alcohol</th>\n",
              "      <th>quality</th>\n",
              "      <th>label</th>\n",
              "    </tr>\n",
              "  </thead>\n",
              "  <tbody>\n",
              "    <tr>\n",
              "      <th>0</th>\n",
              "      <td>7.4</td>\n",
              "      <td>0.70</td>\n",
              "      <td>0.0</td>\n",
              "      <td>1.9</td>\n",
              "      <td>0.076</td>\n",
              "      <td>11.0</td>\n",
              "      <td>34.0</td>\n",
              "      <td>0.9978</td>\n",
              "      <td>3.51</td>\n",
              "      <td>0.56</td>\n",
              "      <td>9.4</td>\n",
              "      <td>5</td>\n",
              "      <td>Red</td>\n",
              "    </tr>\n",
              "    <tr>\n",
              "      <th>1</th>\n",
              "      <td>7.8</td>\n",
              "      <td>0.88</td>\n",
              "      <td>0.0</td>\n",
              "      <td>2.6</td>\n",
              "      <td>0.098</td>\n",
              "      <td>25.0</td>\n",
              "      <td>67.0</td>\n",
              "      <td>0.9968</td>\n",
              "      <td>3.20</td>\n",
              "      <td>0.68</td>\n",
              "      <td>9.8</td>\n",
              "      <td>5</td>\n",
              "      <td>Red</td>\n",
              "    </tr>\n",
              "  </tbody>\n",
              "</table>\n",
              "</div>"
            ],
            "text/plain": [
              "   fixed acidity  volatile acidity  citric acid  residual sugar  chlorides  \\\n",
              "0            7.4              0.70          0.0             1.9      0.076   \n",
              "1            7.8              0.88          0.0             2.6      0.098   \n",
              "\n",
              "   free sulfur dioxide  total sulfur dioxide  density    pH  sulphates  \\\n",
              "0                 11.0                  34.0   0.9978  3.51       0.56   \n",
              "1                 25.0                  67.0   0.9968  3.20       0.68   \n",
              "\n",
              "   alcohol  quality label  \n",
              "0      9.4        5   Red  \n",
              "1      9.8        5   Red  "
            ]
          },
          "metadata": {
            "tags": []
          },
          "execution_count": 60
        }
      ]
    },
    {
      "metadata": {
        "id": "DOT_wniLN0kr",
        "colab_type": "text"
      },
      "cell_type": "markdown",
      "source": [
        "### Check no. of unique values in dataset for quality column"
      ]
    },
    {
      "metadata": {
        "id": "Dxopf8aqNQBq",
        "colab_type": "code",
        "colab": {
          "base_uri": "https://localhost:8080/",
          "height": 34
        },
        "outputId": "c24c3a78-8416-4c76-87bc-6b79885ec590"
      },
      "cell_type": "code",
      "source": [
        "wines.quality.nunique()"
      ],
      "execution_count": 61,
      "outputs": [
        {
          "output_type": "execute_result",
          "data": {
            "text/plain": [
              "7"
            ]
          },
          "metadata": {
            "tags": []
          },
          "execution_count": 61
        }
      ]
    },
    {
      "metadata": {
        "id": "jJC-CcyvNY2k",
        "colab_type": "code",
        "colab": {
          "base_uri": "https://localhost:8080/",
          "height": 34
        },
        "outputId": "b18ec3f8-1d5d-4261-ddd6-c766c2ff5f75"
      },
      "cell_type": "code",
      "source": [
        "redwine.quality.nunique()"
      ],
      "execution_count": 62,
      "outputs": [
        {
          "output_type": "execute_result",
          "data": {
            "text/plain": [
              "6"
            ]
          },
          "metadata": {
            "tags": []
          },
          "execution_count": 62
        }
      ]
    },
    {
      "metadata": {
        "id": "-uGf5-SXNbom",
        "colab_type": "code",
        "colab": {
          "base_uri": "https://localhost:8080/",
          "height": 34
        },
        "outputId": "2ca83b0f-8ac9-40b0-cf2a-c2c855a0fb06"
      },
      "cell_type": "code",
      "source": [
        "whitewine.quality.nunique()"
      ],
      "execution_count": 63,
      "outputs": [
        {
          "output_type": "execute_result",
          "data": {
            "text/plain": [
              "7"
            ]
          },
          "metadata": {
            "tags": []
          },
          "execution_count": 63
        }
      ]
    },
    {
      "metadata": {
        "id": "1LiRxoZ4Fihb",
        "colab_type": "text"
      },
      "cell_type": "markdown",
      "source": [
        "## Correlation\n",
        "Correlation between features and lable"
      ]
    },
    {
      "metadata": {
        "id": "UcaKoYtLL5Lj",
        "colab_type": "text"
      },
      "cell_type": "markdown",
      "source": [
        "## Red wine correlation"
      ]
    },
    {
      "metadata": {
        "id": "a9K8RuoxFqxL",
        "colab_type": "code",
        "colab": {
          "base_uri": "https://localhost:8080/",
          "height": 238
        },
        "outputId": "25b9fa31-a0f6-427e-cda4-6d97f64f5cbe"
      },
      "cell_type": "code",
      "source": [
        "corr = redwine.corr()\n",
        "corr['quality'].sort_values(ascending = False)"
      ],
      "execution_count": 46,
      "outputs": [
        {
          "output_type": "execute_result",
          "data": {
            "text/plain": [
              "quality                 1.000000\n",
              "alcohol                 0.476166\n",
              "sulphates               0.251397\n",
              "citric acid             0.226373\n",
              "fixed acidity           0.124052\n",
              "residual sugar          0.013732\n",
              "free sulfur dioxide    -0.050656\n",
              "pH                     -0.057731\n",
              "chlorides              -0.128907\n",
              "density                -0.174919\n",
              "total sulfur dioxide   -0.185100\n",
              "volatile acidity       -0.390558\n",
              "Name: quality, dtype: float64"
            ]
          },
          "metadata": {
            "tags": []
          },
          "execution_count": 46
        }
      ]
    },
    {
      "metadata": {
        "id": "t-YvwdPaL9Tg",
        "colab_type": "text"
      },
      "cell_type": "markdown",
      "source": [
        "## whitewine correlation"
      ]
    },
    {
      "metadata": {
        "id": "jK1wQPyBL_6V",
        "colab_type": "code",
        "colab": {
          "base_uri": "https://localhost:8080/",
          "height": 238
        },
        "outputId": "a497c9db-1369-401a-c2c9-b18d334cf46c"
      },
      "cell_type": "code",
      "source": [
        "corr = whitewine.corr()\n",
        "corr['quality'].sort_values(ascending = False)"
      ],
      "execution_count": 47,
      "outputs": [
        {
          "output_type": "execute_result",
          "data": {
            "text/plain": [
              "quality                 1.000000\n",
              "alcohol                 0.435575\n",
              "pH                      0.099427\n",
              "sulphates               0.053678\n",
              "free sulfur dioxide     0.008158\n",
              "citric acid            -0.009209\n",
              "residual sugar         -0.097577\n",
              "fixed acidity          -0.113663\n",
              "total sulfur dioxide   -0.174737\n",
              "volatile acidity       -0.194723\n",
              "chlorides              -0.209934\n",
              "density                -0.307123\n",
              "Name: quality, dtype: float64"
            ]
          },
          "metadata": {
            "tags": []
          },
          "execution_count": 47
        }
      ]
    },
    {
      "metadata": {
        "id": "5I62phTEF-cc",
        "colab_type": "text"
      },
      "cell_type": "markdown",
      "source": [
        "**also we can plot these relations in graphs**"
      ]
    },
    {
      "metadata": {
        "_cell_guid": "12b9e3c1-006d-4b1d-b01d-02be5a594bbb",
        "_uuid": "e9ad3ce0e67ea7a5178222164d784a974846bc54",
        "id": "442Tt_HBAvZm",
        "colab_type": "text"
      },
      "cell_type": "markdown",
      "source": [
        "## **Let's do some plotting to know how the data columns are distributed in the dataset**"
      ]
    },
    {
      "metadata": {
        "id": "Rf9wjhGpEJV0",
        "colab_type": "code",
        "colab": {}
      },
      "cell_type": "code",
      "source": [
        "import warnings\n",
        "warnings.filterwarnings('ignore')"
      ],
      "execution_count": 0,
      "outputs": []
    },
    {
      "metadata": {
        "_cell_guid": "f6a9d2eb-e03c-4c8b-8d7f-c0cb735d9ce9",
        "_uuid": "255e8fd04c90eae23164df043ebf16550ecff8fe",
        "trusted": false,
        "id": "PaxQ0-gvAvZo",
        "colab_type": "code",
        "colab": {
          "base_uri": "https://localhost:8080/",
          "height": 409
        },
        "outputId": "5f18dfbc-ad34-47d1-aa0a-a51ab07536cc"
      },
      "cell_type": "code",
      "source": [
        "fig = plt.figure(figsize = (10,6))\n",
        "sns.barplot(x = 'quality', y = 'fixed acidity', data = redwine)"
      ],
      "execution_count": 13,
      "outputs": [
        {
          "output_type": "execute_result",
          "data": {
            "text/plain": [
              "<matplotlib.axes._subplots.AxesSubplot at 0x7f328d0b96a0>"
            ]
          },
          "metadata": {
            "tags": []
          },
          "execution_count": 13
        },
        {
          "output_type": "display_data",
          "data": {
            "image/png": "[encoded data removed]",
            "text/plain": [
              "<matplotlib.figure.Figure at 0x7f328d0b9208>"
            ]
          },
          "metadata": {
            "tags": []
          }
        }
      ]
    },
    {
      "metadata": {
        "id": "IiXbaEa0Evj6",
        "colab_type": "text"
      },
      "cell_type": "markdown",
      "source": [
        "^^**Here we see that fixed acidity does not give any specification to classify the quality.**"
      ]
    },
    {
      "metadata": {
        "_cell_guid": "7d7355dc-9c09-4e5e-8989-87f903197898",
        "_uuid": "158a576b3fb80cc0978c322663bc5060d8977be0",
        "trusted": false,
        "id": "gvWZrKUcAvZr",
        "colab_type": "code",
        "colab": {
          "base_uri": "https://localhost:8080/",
          "height": 405
        },
        "outputId": "0cf58de4-1f12-4fbd-f911-1a1ede77e7fc"
      },
      "cell_type": "code",
      "source": [
        "fig = plt.figure(figsize = (10,6))\n",
        "sns.barplot(x = 'quality', y = 'volatile acidity', data = redwine)"
      ],
      "execution_count": 15,
      "outputs": [
        {
          "output_type": "execute_result",
          "data": {
            "text/plain": [
              "<matplotlib.axes._subplots.AxesSubplot at 0x7f32946df940>"
            ]
          },
          "metadata": {
            "tags": []
          },
          "execution_count": 15
        },
        {
          "output_type": "display_data",
          "data": {
            "image/png": "[encoded data removed]",
            "text/plain": [
              "<matplotlib.figure.Figure at 0x7f328d0e1ef0>"
            ]
          },
          "metadata": {
            "tags": []
          }
        }
      ]
    },
    {
      "metadata": {
        "id": "G3VGXalbE13z",
        "colab_type": "text"
      },
      "cell_type": "markdown",
      "source": [
        "^^**Here we see that its quite a downing trend in the volatile acidity as we go higher the quality**"
      ]
    },
    {
      "metadata": {
        "_cell_guid": "08f073d3-787b-4956-899b-6bd2bdf3cf91",
        "_uuid": "9600cd337636a7860a908fa36ad8084e230829ca",
        "trusted": false,
        "id": "oMHZoV9zAvZv",
        "colab_type": "code",
        "colab": {
          "base_uri": "https://localhost:8080/",
          "height": 405
        },
        "outputId": "f2b1c69b-1d5d-4a87-b841-6a8e4e314dd6"
      },
      "cell_type": "code",
      "source": [
        "fig = plt.figure(figsize = (10,6))\n",
        "sns.barplot(x = 'quality', y = 'citric acid', data = redwine)"
      ],
      "execution_count": 16,
      "outputs": [
        {
          "output_type": "execute_result",
          "data": {
            "text/plain": [
              "<matplotlib.axes._subplots.AxesSubplot at 0x7f328d04a470>"
            ]
          },
          "metadata": {
            "tags": []
          },
          "execution_count": 16
        },
        {
          "output_type": "display_data",
          "data": {
            "image/png": "[encoded data removed]",
            "text/plain": [
              "<matplotlib.figure.Figure at 0x7f328d04a4e0>"
            ]
          },
          "metadata": {
            "tags": []
          }
        }
      ]
    },
    {
      "metadata": {
        "id": "PWoQwKRKE8Ub",
        "colab_type": "text"
      },
      "cell_type": "markdown",
      "source": [
        "**^^Composition of citric acid go higher as we go higher in the quality of the wine**"
      ]
    },
    {
      "metadata": {
        "_cell_guid": "7dcb76bc-3436-46bd-9d7f-78ccd436517e",
        "_uuid": "6b017770cef61eefb34b4607218c77f933350389",
        "trusted": false,
        "id": "NH9gX1UIAvZy",
        "colab_type": "code",
        "colab": {
          "base_uri": "https://localhost:8080/",
          "height": 405
        },
        "outputId": "8ca46be7-c9be-4064-e3ab-926a3f16c2e8"
      },
      "cell_type": "code",
      "source": [
        "fig = plt.figure(figsize = (10,6))\n",
        "sns.barplot(x = 'quality', y = 'residual sugar', data = redwine)"
      ],
      "execution_count": 17,
      "outputs": [
        {
          "output_type": "execute_result",
          "data": {
            "text/plain": [
              "<matplotlib.axes._subplots.AxesSubplot at 0x7f328d00dcf8>"
            ]
          },
          "metadata": {
            "tags": []
          },
          "execution_count": 17
        },
        {
          "output_type": "display_data",
          "data": {
            "image/png": "[encoded data removed]",
            "text/plain": [
              "<matplotlib.figure.Figure at 0x7f328cf729b0>"
            ]
          },
          "metadata": {
            "tags": []
          }
        }
      ]
    },
    {
      "metadata": {
        "_cell_guid": "76463630-67d9-4b07-8076-fba8b49a9921",
        "_uuid": "31fe5d393946e406cbe62d3f4c7951e0b493c454",
        "trusted": false,
        "id": "XpRrqr-CAvZ4",
        "colab_type": "code",
        "colab": {
          "base_uri": "https://localhost:8080/",
          "height": 405
        },
        "outputId": "65d51d1d-a40d-45c1-8be1-6891fa36590c"
      },
      "cell_type": "code",
      "source": [
        "fig = plt.figure(figsize = (10,6))\n",
        "sns.barplot(x = 'quality', y = 'chlorides', data = redwine)"
      ],
      "execution_count": 18,
      "outputs": [
        {
          "output_type": "execute_result",
          "data": {
            "text/plain": [
              "<matplotlib.axes._subplots.AxesSubplot at 0x7f328ceef390>"
            ]
          },
          "metadata": {
            "tags": []
          },
          "execution_count": 18
        },
        {
          "output_type": "display_data",
          "data": {
            "image/png": "[encoded data removed]",
            "text/plain": [
              "<matplotlib.figure.Figure at 0x7f328ceef320>"
            ]
          },
          "metadata": {
            "tags": []
          }
        }
      ]
    },
    {
      "metadata": {
        "id": "Zx8IXY-RFFgi",
        "colab_type": "text"
      },
      "cell_type": "markdown",
      "source": [
        "**^^Composition of chloride also go down as we go higher in the quality of the wine (have strong relation)**"
      ]
    },
    {
      "metadata": {
        "_cell_guid": "6abcf7a2-cc7a-4673-a905-6ee0c2cc9e15",
        "_uuid": "6ba9a0dafe8e1042da4dbcaa93706dd46cf3a85c",
        "trusted": false,
        "id": "1bm60MMeAvZ7",
        "colab_type": "code",
        "colab": {
          "base_uri": "https://localhost:8080/",
          "height": 405
        },
        "outputId": "3c8b411c-3461-41a4-ef90-c14b27ce5c1a"
      },
      "cell_type": "code",
      "source": [
        "fig = plt.figure(figsize = (10,6))\n",
        "sns.barplot(x = 'quality', y = 'free sulfur dioxide', data = redwine)"
      ],
      "execution_count": 19,
      "outputs": [
        {
          "output_type": "execute_result",
          "data": {
            "text/plain": [
              "<matplotlib.axes._subplots.AxesSubplot at 0x7f328cf099b0>"
            ]
          },
          "metadata": {
            "tags": []
          },
          "execution_count": 19
        },
        {
          "output_type": "display_data",
          "data": {
            "image/png": "[encoded data removed]",
            "text/plain": [
              "<matplotlib.figure.Figure at 0x7f328ceddc50>"
            ]
          },
          "metadata": {
            "tags": []
          }
        }
      ]
    },
    {
      "metadata": {
        "_cell_guid": "9acea621-2b7b-44b7-a0fa-b984dd8c0e93",
        "_uuid": "d99c6e4033da73cdc9d9977ac045372ff9af1c53",
        "trusted": false,
        "id": "f1ZqsMLfAvZ-",
        "colab_type": "code",
        "colab": {
          "base_uri": "https://localhost:8080/",
          "height": 405
        },
        "outputId": "65bdcaa8-7d74-44a9-e998-515e182df009"
      },
      "cell_type": "code",
      "source": [
        "fig = plt.figure(figsize = (10,6))\n",
        "sns.barplot(x = 'quality', y = 'total sulfur dioxide', data = redwine)"
      ],
      "execution_count": 20,
      "outputs": [
        {
          "output_type": "execute_result",
          "data": {
            "text/plain": [
              "<matplotlib.axes._subplots.AxesSubplot at 0x7f328d0f0d30>"
            ]
          },
          "metadata": {
            "tags": []
          },
          "execution_count": 20
        },
        {
          "output_type": "display_data",
          "data": {
            "image/png": "[encoded data removed]",
            "text/plain": [
              "<matplotlib.figure.Figure at 0x7f328ce68390>"
            ]
          },
          "metadata": {
            "tags": []
          }
        }
      ]
    },
    {
      "metadata": {
        "_cell_guid": "bf0b1aa4-8a6c-4f95-80c3-7554b38a9c96",
        "_uuid": "ae9a7496f5c238ec9bb95729b17960c6e48efe35",
        "trusted": false,
        "id": "iUpg2mP8AvaB",
        "colab_type": "code",
        "colab": {
          "base_uri": "https://localhost:8080/",
          "height": 405
        },
        "outputId": "e869816d-062a-47fb-b550-5c9660c6d8a1"
      },
      "cell_type": "code",
      "source": [
        "fig = plt.figure(figsize = (10,6))\n",
        "sns.barplot(x = 'quality', y = 'sulphates', data = redwine)"
      ],
      "execution_count": 21,
      "outputs": [
        {
          "output_type": "execute_result",
          "data": {
            "text/plain": [
              "<matplotlib.axes._subplots.AxesSubplot at 0x7f328cff9b38>"
            ]
          },
          "metadata": {
            "tags": []
          },
          "execution_count": 21
        },
        {
          "output_type": "display_data",
          "data": {
            "image/png": "[encoded data removed]",
            "text/plain": [
              "<matplotlib.figure.Figure at 0x7f328cdc9748>"
            ]
          },
          "metadata": {
            "tags": []
          }
        }
      ]
    },
    {
      "metadata": {
        "id": "Q5EGHBI5FUul",
        "colab_type": "text"
      },
      "cell_type": "markdown",
      "source": [
        "**^^Sulphates level goes higher with the quality of wine(low relation)**"
      ]
    },
    {
      "metadata": {
        "_cell_guid": "04f51b1d-6315-44d3-986c-ed82fc996ad3",
        "_uuid": "81efa0b7799cd731aff98cffeaa28c361a7375a5",
        "trusted": false,
        "id": "QEb_0IErAvaD",
        "colab_type": "code",
        "colab": {
          "base_uri": "https://localhost:8080/",
          "height": 405
        },
        "outputId": "1e4a974f-18ae-4629-a8ee-978b67c7727b"
      },
      "cell_type": "code",
      "source": [
        "fig = plt.figure(figsize = (10,6))\n",
        "sns.barplot(x = 'quality', y = 'alcohol', data = redwine)"
      ],
      "execution_count": 22,
      "outputs": [
        {
          "output_type": "execute_result",
          "data": {
            "text/plain": [
              "<matplotlib.axes._subplots.AxesSubplot at 0x7f328cdc90f0>"
            ]
          },
          "metadata": {
            "tags": []
          },
          "execution_count": 22
        },
        {
          "output_type": "display_data",
          "data": {
            "image/png": "[encoded data removed]",
            "text/plain": [
              "<matplotlib.figure.Figure at 0x7f328cdce278>"
            ]
          },
          "metadata": {
            "tags": []
          }
        }
      ]
    },
    {
      "metadata": {
        "id": "anZQ4WRzFcns",
        "colab_type": "text"
      },
      "cell_type": "markdown",
      "source": [
        "**^^Alcohol level also goes higher as te quality of wine increases**"
      ]
    },
    {
      "metadata": {
        "_cell_guid": "9838ca3d-4b89-4503-9d7e-247cc3a9730b",
        "_uuid": "974be3136a2f13bf26a88b26cbddbf73f5cafda9",
        "id": "7HJUkOHRAvaJ",
        "colab_type": "text"
      },
      "cell_type": "markdown",
      "source": [
        "## Preprocessing Data for performing Machine learning algorithms"
      ]
    },
    {
      "metadata": {
        "_cell_guid": "33e1c5c0-a65a-4918-8d94-db8e4c521d50",
        "_uuid": "3f082340d1b157391052f0fa20a44aa0105ce987",
        "trusted": false,
        "id": "iE_sOVgEAvaL",
        "colab_type": "code",
        "colab": {}
      },
      "cell_type": "code",
      "source": [
        "#Making binary classificaion for the response variable.\n",
        "#Dividing wine as good and bad by giving the limit for the quality\n",
        "bins = (2, 6.5, 8)\n",
        "group_names = ['bad', 'good']\n",
        "redwine['quality'] = pd.cut(redwine['quality'], bins = bins, labels = group_names)"
      ],
      "execution_count": 0,
      "outputs": []
    },
    {
      "metadata": {
        "id": "HVgeEPL4thfW",
        "colab_type": "code",
        "colab": {
          "base_uri": "https://localhost:8080/",
          "height": 97
        },
        "outputId": "43493bc9-1f54-4b36-d5b9-460c7d503ec6"
      },
      "cell_type": "code",
      "source": [
        "redwine.head(1)"
      ],
      "execution_count": 185,
      "outputs": [
        {
          "output_type": "execute_result",
          "data": {
            "text/html": [
              "<div>\n",
              "<style scoped>\n",
              "    .dataframe tbody tr th:only-of-type {\n",
              "        vertical-align: middle;\n",
              "    }\n",
              "\n",
              "    .dataframe tbody tr th {\n",
              "        vertical-align: top;\n",
              "    }\n",
              "\n",
              "    .dataframe thead th {\n",
              "        text-align: right;\n",
              "    }\n",
              "</style>\n",
              "<table border=\"1\" class=\"dataframe\">\n",
              "  <thead>\n",
              "    <tr style=\"text-align: right;\">\n",
              "      <th></th>\n",
              "      <th>fixed acidity</th>\n",
              "      <th>volatile acidity</th>\n",
              "      <th>citric acid</th>\n",
              "      <th>residual sugar</th>\n",
              "      <th>chlorides</th>\n",
              "      <th>free sulfur dioxide</th>\n",
              "      <th>total sulfur dioxide</th>\n",
              "      <th>density</th>\n",
              "      <th>pH</th>\n",
              "      <th>sulphates</th>\n",
              "      <th>alcohol</th>\n",
              "      <th>quality</th>\n",
              "      <th>label</th>\n",
              "    </tr>\n",
              "  </thead>\n",
              "  <tbody>\n",
              "    <tr>\n",
              "      <th>0</th>\n",
              "      <td>7.4</td>\n",
              "      <td>0.7</td>\n",
              "      <td>0.0</td>\n",
              "      <td>1.9</td>\n",
              "      <td>0.076</td>\n",
              "      <td>11.0</td>\n",
              "      <td>34.0</td>\n",
              "      <td>0.9978</td>\n",
              "      <td>3.51</td>\n",
              "      <td>0.56</td>\n",
              "      <td>9.4</td>\n",
              "      <td>bad</td>\n",
              "      <td>Red</td>\n",
              "    </tr>\n",
              "  </tbody>\n",
              "</table>\n",
              "</div>"
            ],
            "text/plain": [
              "   fixed acidity  volatile acidity  citric acid  residual sugar  chlorides  \\\n",
              "0            7.4               0.7          0.0             1.9      0.076   \n",
              "\n",
              "   free sulfur dioxide  total sulfur dioxide  density    pH  sulphates  \\\n",
              "0                 11.0                  34.0   0.9978  3.51       0.56   \n",
              "\n",
              "   alcohol quality label  \n",
              "0      9.4     bad   Red  "
            ]
          },
          "metadata": {
            "tags": []
          },
          "execution_count": 185
        }
      ]
    },
    {
      "metadata": {
        "id": "pkTj88SPtnOo",
        "colab_type": "code",
        "colab": {
          "base_uri": "https://localhost:8080/",
          "height": 128
        },
        "outputId": "8b0d0ee5-cc93-40db-c091-e9b6da0d5ee4"
      },
      "cell_type": "code",
      "source": [
        "bins = (2, 6.5, 8)\n",
        "group_names = ['bad', 'good']\n",
        "wines['quality'] = pd.cut(wines['quality'], bins = bins, labels = group_names)\n",
        "wines.head(2)"
      ],
      "execution_count": 187,
      "outputs": [
        {
          "output_type": "execute_result",
          "data": {
            "text/html": [
              "<div>\n",
              "<style scoped>\n",
              "    .dataframe tbody tr th:only-of-type {\n",
              "        vertical-align: middle;\n",
              "    }\n",
              "\n",
              "    .dataframe tbody tr th {\n",
              "        vertical-align: top;\n",
              "    }\n",
              "\n",
              "    .dataframe thead th {\n",
              "        text-align: right;\n",
              "    }\n",
              "</style>\n",
              "<table border=\"1\" class=\"dataframe\">\n",
              "  <thead>\n",
              "    <tr style=\"text-align: right;\">\n",
              "      <th></th>\n",
              "      <th>fixed acidity</th>\n",
              "      <th>volatile acidity</th>\n",
              "      <th>citric acid</th>\n",
              "      <th>residual sugar</th>\n",
              "      <th>chlorides</th>\n",
              "      <th>free sulfur dioxide</th>\n",
              "      <th>total sulfur dioxide</th>\n",
              "      <th>density</th>\n",
              "      <th>pH</th>\n",
              "      <th>sulphates</th>\n",
              "      <th>alcohol</th>\n",
              "      <th>quality</th>\n",
              "      <th>label_White</th>\n",
              "    </tr>\n",
              "  </thead>\n",
              "  <tbody>\n",
              "    <tr>\n",
              "      <th>0</th>\n",
              "      <td>7.4</td>\n",
              "      <td>0.70</td>\n",
              "      <td>0.0</td>\n",
              "      <td>1.9</td>\n",
              "      <td>0.076</td>\n",
              "      <td>11.0</td>\n",
              "      <td>34.0</td>\n",
              "      <td>0.9978</td>\n",
              "      <td>3.51</td>\n",
              "      <td>0.56</td>\n",
              "      <td>9.4</td>\n",
              "      <td>bad</td>\n",
              "      <td>0</td>\n",
              "    </tr>\n",
              "    <tr>\n",
              "      <th>1</th>\n",
              "      <td>7.8</td>\n",
              "      <td>0.88</td>\n",
              "      <td>0.0</td>\n",
              "      <td>2.6</td>\n",
              "      <td>0.098</td>\n",
              "      <td>25.0</td>\n",
              "      <td>67.0</td>\n",
              "      <td>0.9968</td>\n",
              "      <td>3.20</td>\n",
              "      <td>0.68</td>\n",
              "      <td>9.8</td>\n",
              "      <td>bad</td>\n",
              "      <td>0</td>\n",
              "    </tr>\n",
              "  </tbody>\n",
              "</table>\n",
              "</div>"
            ],
            "text/plain": [
              "   fixed acidity  volatile acidity  citric acid  residual sugar  chlorides  \\\n",
              "0            7.4              0.70          0.0             1.9      0.076   \n",
              "1            7.8              0.88          0.0             2.6      0.098   \n",
              "\n",
              "   free sulfur dioxide  total sulfur dioxide  density    pH  sulphates  \\\n",
              "0                 11.0                  34.0   0.9978  3.51       0.56   \n",
              "1                 25.0                  67.0   0.9968  3.20       0.68   \n",
              "\n",
              "   alcohol quality  label_White  \n",
              "0      9.4     bad            0  \n",
              "1      9.8     bad            0  "
            ]
          },
          "metadata": {
            "tags": []
          },
          "execution_count": 187
        }
      ]
    },
    {
      "metadata": {
        "id": "Cp94zYbvt7yA",
        "colab_type": "code",
        "colab": {
          "base_uri": "https://localhost:8080/",
          "height": 180
        },
        "outputId": "949bfd96-e5e7-4642-cefe-a8e52e2609fb"
      },
      "cell_type": "code",
      "source": [
        "redwine = redwine.iloc[:, :-1]"
      ],
      "execution_count": 188,
      "outputs": [
        {
          "output_type": "error",
          "ename": "NameError",
          "evalue": "ignored",
          "traceback": [
            "\u001b[0;31m---------------------------------------------------------------------------\u001b[0m",
            "\u001b[0;31mNameError\u001b[0m                                 Traceback (most recent call last)",
            "\u001b[0;32m<ipython-input-188-c8829856fd2f>\u001b[0m in \u001b[0;36m<module>\u001b[0;34m()\u001b[0m\n\u001b[1;32m      1\u001b[0m \u001b[0mredwine\u001b[0m \u001b[0;34m=\u001b[0m \u001b[0mredwine\u001b[0m\u001b[0;34m.\u001b[0m\u001b[0miloc\u001b[0m\u001b[0;34m[\u001b[0m\u001b[0;34m:\u001b[0m\u001b[0;34m,\u001b[0m \u001b[0;34m:\u001b[0m\u001b[0;34m-\u001b[0m\u001b[0;36m1\u001b[0m\u001b[0;34m]\u001b[0m\u001b[0;34m\u001b[0m\u001b[0;34m\u001b[0m\u001b[0m\n\u001b[0;32m----> 2\u001b[0;31m \u001b[0mredwined\u001b[0m\u001b[0;34m.\u001b[0m\u001b[0mhead\u001b[0m\u001b[0;34m(\u001b[0m\u001b[0;36m1\u001b[0m\u001b[0;34m)\u001b[0m\u001b[0;34m\u001b[0m\u001b[0;34m\u001b[0m\u001b[0m\n\u001b[0m",
            "\u001b[0;31mNameError\u001b[0m: name 'redwined' is not defined"
          ]
        }
      ]
    },
    {
      "metadata": {
        "id": "fI_MpHSfuH5r",
        "colab_type": "code",
        "colab": {
          "base_uri": "https://localhost:8080/",
          "height": 97
        },
        "outputId": "878791e0-e171-4fa0-9692-f15c52ecb235"
      },
      "cell_type": "code",
      "source": [
        "redwine.head(1)"
      ],
      "execution_count": 189,
      "outputs": [
        {
          "output_type": "execute_result",
          "data": {
            "text/html": [
              "<div>\n",
              "<style scoped>\n",
              "    .dataframe tbody tr th:only-of-type {\n",
              "        vertical-align: middle;\n",
              "    }\n",
              "\n",
              "    .dataframe tbody tr th {\n",
              "        vertical-align: top;\n",
              "    }\n",
              "\n",
              "    .dataframe thead th {\n",
              "        text-align: right;\n",
              "    }\n",
              "</style>\n",
              "<table border=\"1\" class=\"dataframe\">\n",
              "  <thead>\n",
              "    <tr style=\"text-align: right;\">\n",
              "      <th></th>\n",
              "      <th>fixed acidity</th>\n",
              "      <th>volatile acidity</th>\n",
              "      <th>citric acid</th>\n",
              "      <th>residual sugar</th>\n",
              "      <th>chlorides</th>\n",
              "      <th>free sulfur dioxide</th>\n",
              "      <th>total sulfur dioxide</th>\n",
              "      <th>density</th>\n",
              "      <th>pH</th>\n",
              "      <th>sulphates</th>\n",
              "      <th>alcohol</th>\n",
              "      <th>quality</th>\n",
              "    </tr>\n",
              "  </thead>\n",
              "  <tbody>\n",
              "    <tr>\n",
              "      <th>0</th>\n",
              "      <td>7.4</td>\n",
              "      <td>0.7</td>\n",
              "      <td>0.0</td>\n",
              "      <td>1.9</td>\n",
              "      <td>0.076</td>\n",
              "      <td>11.0</td>\n",
              "      <td>34.0</td>\n",
              "      <td>0.9978</td>\n",
              "      <td>3.51</td>\n",
              "      <td>0.56</td>\n",
              "      <td>9.4</td>\n",
              "      <td>bad</td>\n",
              "    </tr>\n",
              "  </tbody>\n",
              "</table>\n",
              "</div>"
            ],
            "text/plain": [
              "   fixed acidity  volatile acidity  citric acid  residual sugar  chlorides  \\\n",
              "0            7.4               0.7          0.0             1.9      0.076   \n",
              "\n",
              "   free sulfur dioxide  total sulfur dioxide  density    pH  sulphates  \\\n",
              "0                 11.0                  34.0   0.9978  3.51       0.56   \n",
              "\n",
              "   alcohol quality  \n",
              "0      9.4     bad  "
            ]
          },
          "metadata": {
            "tags": []
          },
          "execution_count": 189
        }
      ]
    },
    {
      "metadata": {
        "id": "1XfxZI9fuQRh",
        "colab_type": "code",
        "colab": {
          "base_uri": "https://localhost:8080/",
          "height": 97
        },
        "outputId": "760b6e4a-464d-485b-c8b2-712efff30f8e"
      },
      "cell_type": "code",
      "source": [
        "redwine = pd.get_dummies(redwine, drop_first = True)\n",
        "redwine.head(1)"
      ],
      "execution_count": 190,
      "outputs": [
        {
          "output_type": "execute_result",
          "data": {
            "text/html": [
              "<div>\n",
              "<style scoped>\n",
              "    .dataframe tbody tr th:only-of-type {\n",
              "        vertical-align: middle;\n",
              "    }\n",
              "\n",
              "    .dataframe tbody tr th {\n",
              "        vertical-align: top;\n",
              "    }\n",
              "\n",
              "    .dataframe thead th {\n",
              "        text-align: right;\n",
              "    }\n",
              "</style>\n",
              "<table border=\"1\" class=\"dataframe\">\n",
              "  <thead>\n",
              "    <tr style=\"text-align: right;\">\n",
              "      <th></th>\n",
              "      <th>fixed acidity</th>\n",
              "      <th>volatile acidity</th>\n",
              "      <th>citric acid</th>\n",
              "      <th>residual sugar</th>\n",
              "      <th>chlorides</th>\n",
              "      <th>free sulfur dioxide</th>\n",
              "      <th>total sulfur dioxide</th>\n",
              "      <th>density</th>\n",
              "      <th>pH</th>\n",
              "      <th>sulphates</th>\n",
              "      <th>alcohol</th>\n",
              "      <th>quality_good</th>\n",
              "    </tr>\n",
              "  </thead>\n",
              "  <tbody>\n",
              "    <tr>\n",
              "      <th>0</th>\n",
              "      <td>7.4</td>\n",
              "      <td>0.7</td>\n",
              "      <td>0.0</td>\n",
              "      <td>1.9</td>\n",
              "      <td>0.076</td>\n",
              "      <td>11.0</td>\n",
              "      <td>34.0</td>\n",
              "      <td>0.9978</td>\n",
              "      <td>3.51</td>\n",
              "      <td>0.56</td>\n",
              "      <td>9.4</td>\n",
              "      <td>0</td>\n",
              "    </tr>\n",
              "  </tbody>\n",
              "</table>\n",
              "</div>"
            ],
            "text/plain": [
              "   fixed acidity  volatile acidity  citric acid  residual sugar  chlorides  \\\n",
              "0            7.4               0.7          0.0             1.9      0.076   \n",
              "\n",
              "   free sulfur dioxide  total sulfur dioxide  density    pH  sulphates  \\\n",
              "0                 11.0                  34.0   0.9978  3.51       0.56   \n",
              "\n",
              "   alcohol  quality_good  \n",
              "0      9.4             0  "
            ]
          },
          "metadata": {
            "tags": []
          },
          "execution_count": 190
        }
      ]
    },
    {
      "metadata": {
        "_cell_guid": "faa36f65-7e80-44d7-a4f8-10e482cec684",
        "_uuid": "65a97517331f835cade698b594a7376ea7778eeb",
        "trusted": false,
        "id": "Ul2Jk_ORAvaT",
        "colab_type": "code",
        "colab": {
          "base_uri": "https://localhost:8080/",
          "height": 68
        },
        "outputId": "906a5878-071b-45d8-ca97-bf52d76681e6"
      },
      "cell_type": "code",
      "source": [
        "redwine['quality_good'].value_counts()"
      ],
      "execution_count": 193,
      "outputs": [
        {
          "output_type": "execute_result",
          "data": {
            "text/plain": [
              "0    1382\n",
              "1     217\n",
              "Name: quality_good, dtype: int64"
            ]
          },
          "metadata": {
            "tags": []
          },
          "execution_count": 193
        }
      ]
    },
    {
      "metadata": {
        "_cell_guid": "2fe7339e-837e-48c0-b988-a36c89632844",
        "_uuid": "d2a4c7e14dc6b8faa31efd1fcbe4f61b80a7d3e1",
        "trusted": false,
        "id": "X5Yq6tctAvaV",
        "colab_type": "code",
        "colab": {
          "base_uri": "https://localhost:8080/",
          "height": 296
        },
        "outputId": "f491ba79-cf65-4936-9009-6da53cdb2b0c"
      },
      "cell_type": "code",
      "source": [
        "sns.countplot(redwine['quality_good'])"
      ],
      "execution_count": 195,
      "outputs": [
        {
          "output_type": "execute_result",
          "data": {
            "text/plain": [
              "<matplotlib.axes._subplots.AxesSubplot at 0x7f32468a8ef0>"
            ]
          },
          "metadata": {
            "tags": []
          },
          "execution_count": 195
        },
        {
          "output_type": "display_data",
          "data": {
            "image/png": "[encoded data removed]",
            "text/plain": [
              "<matplotlib.figure.Figure at 0x7f32468a8898>"
            ]
          },
          "metadata": {
            "tags": []
          }
        }
      ]
    },
    {
      "metadata": {
        "_cell_guid": "ba89712a-ad66-4a92-9214-4e35c3802d59",
        "_uuid": "b893deb26bb309c914de12aadf9ad8437deb8358",
        "trusted": false,
        "id": "hp02W01sAvaX",
        "colab_type": "code",
        "colab": {}
      },
      "cell_type": "code",
      "source": [
        "#Now seperate the dataset as response variable and feature variabes\n",
        "X = redwine.drop('quality_good', axis = 1)\n",
        "y = redwine['quality_good'].values"
      ],
      "execution_count": 0,
      "outputs": []
    },
    {
      "metadata": {
        "_cell_guid": "d7703d9a-3397-4c42-9b38-6f341cac1cde",
        "_uuid": "bdfc0f6ba146f947f265fd493e8327366fdb5c9a",
        "trusted": false,
        "id": "ZgdFnUzAAvac",
        "colab_type": "code",
        "colab": {}
      },
      "cell_type": "code",
      "source": [
        "#Train and Test splitting of data \n",
        "X_train, X_test, y_train, y_test = train_test_split(X, y, test_size = 0.2, random_state = 42)"
      ],
      "execution_count": 0,
      "outputs": []
    },
    {
      "metadata": {
        "_cell_guid": "cef31289-9cec-4ab1-afea-2ff34c36fec1",
        "_uuid": "ca68209bcd596b3cfcaf42837e4a6e49b6c12974",
        "trusted": false,
        "id": "sogv9rJaAvah",
        "colab_type": "code",
        "colab": {}
      },
      "cell_type": "code",
      "source": [
        "#Applying Standard scaling to get optimized result\n",
        "sc = StandardScaler()"
      ],
      "execution_count": 0,
      "outputs": []
    },
    {
      "metadata": {
        "_cell_guid": "705b8e8a-a6d3-4e93-8b53-7c677b5b88c4",
        "_uuid": "7878194b0c4935904c68a88a91e18f9bbbabbda7",
        "trusted": false,
        "id": "mPSQJt_YAvai",
        "colab_type": "code",
        "colab": {}
      },
      "cell_type": "code",
      "source": [
        "X_train = sc.fit_transform(X_train)\n",
        "X_test = sc.fit_transform(X_test)"
      ],
      "execution_count": 0,
      "outputs": []
    },
    {
      "metadata": {
        "_cell_guid": "645e952e-09b5-48df-9d08-aa6454ef333a",
        "_uuid": "3fd28a9b12fd0f5a00bc0add378ca1f9632bc319",
        "id": "nDul9oB_Aval",
        "colab_type": "text"
      },
      "cell_type": "markdown",
      "source": [
        "## Our training and testing data is ready now to perform machine learning algorithm"
      ]
    },
    {
      "metadata": {
        "_cell_guid": "0a12868b-8780-43b9-ae70-4c849407aac6",
        "_uuid": "093572f70cda59063611c1c888974e6a863ec7ef",
        "id": "53JSjqKrAvan",
        "colab_type": "text"
      },
      "cell_type": "markdown",
      "source": [
        "### Random Forest Classifier"
      ]
    },
    {
      "metadata": {
        "_cell_guid": "f7d2ca14-40fa-4b7c-b902-d47f09214c75",
        "_uuid": "4c2c2a071bde3b44adf031a6807f51b47f8b5eaa",
        "trusted": false,
        "id": "B3SGd62eAvao",
        "colab_type": "code",
        "colab": {
          "base_uri": "https://localhost:8080/",
          "height": 51
        },
        "outputId": "f444b589-cd5e-4f20-89fd-85953edf98f0"
      },
      "cell_type": "code",
      "source": [
        "rfc = RandomForestClassifier(n_estimators=200, max_depth = 4, class_weight = 'balanced', random_state = 0)\n",
        "rfc.fit(X_train, y_train)\n",
        "print(rfc.score(X_train, y_train))\n",
        "print(rfc.score(X_test, y_test))"
      ],
      "execution_count": 236,
      "outputs": [
        {
          "output_type": "stream",
          "text": [
            "0.8467552775605942\n",
            "0.85625\n"
          ],
          "name": "stdout"
        }
      ]
    },
    {
      "metadata": {
        "id": "PLZwq5n0wGoM",
        "colab_type": "code",
        "colab": {}
      },
      "cell_type": "code",
      "source": [
        "pred_rfc = rfc.predict(X_test)"
      ],
      "execution_count": 0,
      "outputs": []
    },
    {
      "metadata": {
        "id": "QkQVWAChxOV1",
        "colab_type": "code",
        "colab": {
          "base_uri": "https://localhost:8080/",
          "height": 136
        },
        "outputId": "373670f6-5cb3-4bfa-9fdf-0dc98ad6600a"
      },
      "cell_type": "code",
      "source": [
        "#Let's see how our model performed\n",
        "print(classification_report(y_test, pred_rfc))"
      ],
      "execution_count": 238,
      "outputs": [
        {
          "output_type": "stream",
          "text": [
            "             precision    recall  f1-score   support\n",
            "\n",
            "          0       0.97      0.86      0.91       273\n",
            "          1       0.51      0.85      0.63        47\n",
            "\n",
            "avg / total       0.90      0.86      0.87       320\n",
            "\n"
          ],
          "name": "stdout"
        }
      ]
    },
    {
      "metadata": {
        "_cell_guid": "1cc15e56-0589-4fa3-a4f1-6f5e7b5547b2",
        "_uuid": "61e8a79a7db4fef289b8d4e3b3dd8e1c01756697",
        "trusted": false,
        "id": "X2UehD9xAvat",
        "colab_type": "code",
        "colab": {
          "base_uri": "https://localhost:8080/",
          "height": 136
        },
        "outputId": "75f23867-8a2c-4c20-acad-8c4fe7739426"
      },
      "cell_type": "code",
      "source": [
        "#Let's see how our model performed\n",
        "print(classification_report(y_test, pred_rfc))"
      ],
      "execution_count": 202,
      "outputs": [
        {
          "output_type": "stream",
          "text": [
            "             precision    recall  f1-score   support\n",
            "\n",
            "          0       0.89      0.96      0.93       273\n",
            "          1       0.62      0.34      0.44        47\n",
            "\n",
            "avg / total       0.85      0.87      0.86       320\n",
            "\n"
          ],
          "name": "stdout"
        }
      ]
    },
    {
      "metadata": {
        "_cell_guid": "6fc282fd-9db3-4c69-bf91-f9daaaec615b",
        "_uuid": "eaa7b2cbb80adbb06133b9cd89a8ebae014dc3e8",
        "id": "0G0EbEurAvaw",
        "colab_type": "text"
      },
      "cell_type": "markdown",
      "source": [
        "#### Random forest gives the accuracy of 87%"
      ]
    },
    {
      "metadata": {
        "id": "Qn3HJgXYxTFC",
        "colab_type": "code",
        "colab": {
          "base_uri": "https://localhost:8080/",
          "height": 51
        },
        "outputId": "e4adedf2-d37e-4040-df5f-848825e9bf9d"
      },
      "cell_type": "code",
      "source": [
        "print(confusion_matrix(y_test, pred_rfc))"
      ],
      "execution_count": 239,
      "outputs": [
        {
          "output_type": "stream",
          "text": [
            "[[234  39]\n",
            " [  7  40]]\n"
          ],
          "name": "stdout"
        }
      ]
    },
    {
      "metadata": {
        "_cell_guid": "84334dbd-d36c-4650-87ab-d3e8f73be63c",
        "_uuid": "0fd8c7cd7741be25fd0d5f56d5711e8aaf44ac0f",
        "trusted": false,
        "id": "kV7fsSmWAvax",
        "colab_type": "code",
        "colab": {
          "base_uri": "https://localhost:8080/",
          "height": 51
        },
        "outputId": "56d15901-0511-4c40-81eb-086fc86c6dcb"
      },
      "cell_type": "code",
      "source": [
        "#Confusion matrix for the random forest classification\n",
        "print(confusion_matrix(y_test, pred_rfc))"
      ],
      "execution_count": 203,
      "outputs": [
        {
          "output_type": "stream",
          "text": [
            "[[263  10]\n",
            " [ 31  16]]\n"
          ],
          "name": "stdout"
        }
      ]
    },
    {
      "metadata": {
        "_cell_guid": "cb7432d3-16a5-4764-b792-def2666dffbe",
        "_uuid": "6bb4d5afc35743acfd4630d12038c29f2459ce39",
        "id": "H70hglm5Avaz",
        "colab_type": "text"
      },
      "cell_type": "markdown",
      "source": [
        "\n",
        "\n",
        "## Stochastic Gradient Decent Classifier"
      ]
    },
    {
      "metadata": {
        "_cell_guid": "d6835aea-7d7c-4602-b3f3-11e26a37f816",
        "_uuid": "2e1bc3b870d29573b09f1c590ee18011e29af7c3",
        "trusted": false,
        "id": "N3vpuxtiAva3",
        "colab_type": "code",
        "colab": {
          "base_uri": "https://localhost:8080/",
          "height": 170
        },
        "outputId": "b9eaf302-8f68-44b4-e737-5db3f0a89a83"
      },
      "cell_type": "code",
      "source": [
        "sgd = SGDClassifier(penalty='l2')\n",
        "sgd.fit(X_train, y_train)\n",
        "print(sgd.score(X_train, y_train))\n",
        "print(sgd.score(X_test, y_test))\n",
        "pred_sgd = sgd.predict(X_test)\n",
        "print(classification_report(y_test, pred_sgd))"
      ],
      "execution_count": 273,
      "outputs": [
        {
          "output_type": "stream",
          "text": [
            "0.8717748240813136\n",
            "0.86875\n",
            "             precision    recall  f1-score   support\n",
            "\n",
            "          0       0.88      0.97      0.93       273\n",
            "          1       0.63      0.26      0.36        47\n",
            "\n",
            "avg / total       0.85      0.87      0.84       320\n",
            "\n"
          ],
          "name": "stdout"
        }
      ]
    },
    {
      "metadata": {
        "_cell_guid": "674724bc-e600-4f3e-999a-9b99c4d564be",
        "_uuid": "26ef4101c3c8d17b7524378bb7b59ea2d2a4e762",
        "id": "UKlTCH9iAva6",
        "colab_type": "text"
      },
      "cell_type": "markdown",
      "source": [
        "#### 87% accuracy using stochastic gradient descent classifier"
      ]
    },
    {
      "metadata": {
        "_cell_guid": "2f2ff080-986a-4a64-8f74-8a3afd4e494f",
        "_uuid": "593afdb03d06d44529cba0d8348aced10f1cd276",
        "trusted": false,
        "id": "kv2HRay1Ava8",
        "colab_type": "code",
        "colab": {
          "base_uri": "https://localhost:8080/",
          "height": 51
        },
        "outputId": "e5b35293-dc83-4b83-ab19-23c29d8e5093"
      },
      "cell_type": "code",
      "source": [
        "print(confusion_matrix(y_test, pred_sgd))"
      ],
      "execution_count": 274,
      "outputs": [
        {
          "output_type": "stream",
          "text": [
            "[[266   7]\n",
            " [ 35  12]]\n"
          ],
          "name": "stdout"
        }
      ]
    },
    {
      "metadata": {
        "_cell_guid": "eda98e5a-552d-4318-8ae7-1fc45c360be4",
        "_uuid": "9ec5e14c6c24713d6b6e0aaa76ddc5d45886c626",
        "id": "Ao865t6DAva-",
        "colab_type": "text"
      },
      "cell_type": "markdown",
      "source": [
        "## Support Vector Classifier"
      ]
    },
    {
      "metadata": {
        "id": "_2we06s--rzN",
        "colab_type": "code",
        "colab": {
          "base_uri": "https://localhost:8080/",
          "height": 170
        },
        "outputId": "c8bbe1ad-d2d5-4f55-e386-95b83a4a08f3"
      },
      "cell_type": "code",
      "source": [
        "svc = SVC(class_weight = 'balanced')\n",
        "svc.fit(X_train, y_train)\n",
        "print(svc.score(X_train, y_train))\n",
        "print(svc.score(X_test, y_test))\n",
        "pred_svc = svc.predict(X_test)\n",
        "print(classification_report(y_test, pred_svc))"
      ],
      "execution_count": 295,
      "outputs": [
        {
          "output_type": "stream",
          "text": [
            "0.838154808444097\n",
            "0.85625\n",
            "             precision    recall  f1-score   support\n",
            "\n",
            "          0       0.99      0.84      0.91       273\n",
            "          1       0.51      0.94      0.66        47\n",
            "\n",
            "avg / total       0.92      0.86      0.87       320\n",
            "\n"
          ],
          "name": "stdout"
        }
      ]
    },
    {
      "metadata": {
        "id": "2I3g9Ssm_Li3",
        "colab_type": "code",
        "colab": {
          "base_uri": "https://localhost:8080/",
          "height": 68
        },
        "outputId": "6a6feb42-d3fb-4dec-b795-fc32f9cf0b35"
      },
      "cell_type": "code",
      "source": [
        "redwine['quality_good'].value_counts()"
      ],
      "execution_count": 301,
      "outputs": [
        {
          "output_type": "execute_result",
          "data": {
            "text/plain": [
              "0    1382\n",
              "1     217\n",
              "Name: quality_good, dtype: int64"
            ]
          },
          "metadata": {
            "tags": []
          },
          "execution_count": 301
        }
      ]
    },
    {
      "metadata": {
        "_cell_guid": "c09c2885-0ae7-424b-8bfb-8d60eeab8910",
        "_uuid": "432c960068fac4d27d9be14a39ac0fe92933f532",
        "trusted": false,
        "id": "3-sWu0EbAvbD",
        "colab_type": "code",
        "colab": {
          "base_uri": "https://localhost:8080/",
          "height": 170
        },
        "outputId": "77972fe1-4e1d-4504-9a22-0a0cc0c19cd4"
      },
      "cell_type": "code",
      "source": [
        "svc = SVC(class_weight = {0:1, 1:2.5})\n",
        "svc.fit(X_train, y_train)\n",
        "print(svc.score(X_train, y_train))\n",
        "print(svc.score(X_test, y_test))\n",
        "pred_svc = svc.predict(X_test)\n",
        "print(classification_report(y_test, pred_svc))"
      ],
      "execution_count": 331,
      "outputs": [
        {
          "output_type": "stream",
          "text": [
            "0.9124315871774824\n",
            "0.8875\n",
            "             precision    recall  f1-score   support\n",
            "\n",
            "          0       0.94      0.93      0.93       273\n",
            "          1       0.61      0.66      0.63        47\n",
            "\n",
            "avg / total       0.89      0.89      0.89       320\n",
            "\n"
          ],
          "name": "stdout"
        }
      ]
    },
    {
      "metadata": {
        "id": "Z8EzCajOAM1B",
        "colab_type": "code",
        "colab": {
          "base_uri": "https://localhost:8080/",
          "height": 51
        },
        "outputId": "267fb081-3f33-471b-fdf3-fc710386831e"
      },
      "cell_type": "code",
      "source": [
        "print(confusion_matrix(y_test, pred_svc))"
      ],
      "execution_count": 332,
      "outputs": [
        {
          "output_type": "stream",
          "text": [
            "[[253  20]\n",
            " [ 16  31]]\n"
          ],
          "name": "stdout"
        }
      ]
    },
    {
      "metadata": {
        "id": "zgmMHujq-zI9",
        "colab_type": "code",
        "colab": {
          "base_uri": "https://localhost:8080/",
          "height": 51
        },
        "outputId": "d5bae733-6f93-4cdf-cd33-2b54e79bd2f0"
      },
      "cell_type": "code",
      "source": [
        "print(confusion_matrix(y_test, pred_svc))"
      ],
      "execution_count": 319,
      "outputs": [
        {
          "output_type": "stream",
          "text": [
            "[[244  29]\n",
            " [ 12  35]]\n"
          ],
          "name": "stdout"
        }
      ]
    },
    {
      "metadata": {
        "_cell_guid": "253d6200-8035-400c-a022-00d2bbd7f045",
        "_uuid": "3d4ac7ee94b2a081d5cb8caa1cfd99e41b8940fb",
        "id": "3fcHLZDzAvbJ",
        "colab_type": "text"
      },
      "cell_type": "markdown",
      "source": [
        "#### Support vector classifier gets 86%"
      ]
    },
    {
      "metadata": {
        "_cell_guid": "ea15f1a9-eec6-4d08-a68d-8e3fce6f6b8a",
        "_uuid": "b11f94fdee6a4bfed980793d94ad5c17e33b7d39",
        "id": "xG-dJd27AvbK",
        "colab_type": "text"
      },
      "cell_type": "markdown",
      "source": [
        "## Let's try to increase our accuracy of models\n",
        "## Grid Search CV"
      ]
    },
    {
      "metadata": {
        "_cell_guid": "31bbdf11-00b0-4120-81f6-b7b5ac537554",
        "_uuid": "0d8fb2a1ae6909c8e44d4b51af8492c194016e4c",
        "trusted": false,
        "id": "iLS4sP3lAvbM",
        "colab_type": "code",
        "colab": {}
      },
      "cell_type": "code",
      "source": [
        "#Finding best parameters for our SVC model\n",
        "param = {\n",
        "    'C': [0.1,0.8,0.9,1,1.1,1.2,1.3,1.4],\n",
        "    'kernel':['linear', 'rbf'],\n",
        "    'gamma' :[0.1,0.8,0.9,1,1.1,1.2,1.3,1.4]\n",
        "}\n",
        "grid_svc = GridSearchCV(svc, param_grid=param, scoring='accuracy', cv= 3, verbose = 1, )"
      ],
      "execution_count": 0,
      "outputs": []
    },
    {
      "metadata": {
        "_cell_guid": "32cbf4d6-254c-4c55-93e2-448244d89ad9",
        "_uuid": "a581f788a26862911480af8e9c2acb4385d6d79d",
        "trusted": false,
        "id": "l_x-MKyyAvbR",
        "colab_type": "code",
        "colab": {
          "base_uri": "https://localhost:8080/",
          "height": 204
        },
        "outputId": "c8268bc3-1595-4785-f97f-ed9877aae4ec"
      },
      "cell_type": "code",
      "source": [
        "grid_svc.fit(X_train, y_train)"
      ],
      "execution_count": 293,
      "outputs": [
        {
          "output_type": "stream",
          "text": [
            "Fitting 3 folds for each of 128 candidates, totalling 384 fits\n"
          ],
          "name": "stdout"
        },
        {
          "output_type": "stream",
          "text": [
            "[Parallel(n_jobs=1)]: Done 384 out of 384 | elapsed:   15.1s finished\n"
          ],
          "name": "stderr"
        },
        {
          "output_type": "execute_result",
          "data": {
            "text/plain": [
              "GridSearchCV(cv=3, error_score='raise',\n",
              "       estimator=SVC(C=1.0, cache_size=200, class_weight=None, coef0=0.0,\n",
              "  decision_function_shape='ovr', degree=3, gamma='auto', kernel='rbf',\n",
              "  max_iter=-1, probability=False, random_state=None, shrinking=True,\n",
              "  tol=0.001, verbose=False),\n",
              "       fit_params=None, iid=True, n_jobs=1,\n",
              "       param_grid={'C': [0.1, 0.8, 0.9, 1, 1.1, 1.2, 1.3, 1.4], 'kernel': ['linear', 'rbf'], 'gamma': [0.1, 0.8, 0.9, 1, 1.1, 1.2, 1.3, 1.4]},\n",
              "       pre_dispatch='2*n_jobs', refit=True, return_train_score='warn',\n",
              "       scoring='accuracy', verbose=1)"
            ]
          },
          "metadata": {
            "tags": []
          },
          "execution_count": 293
        }
      ]
    },
    {
      "metadata": {
        "_cell_guid": "55a3e439-c2e3-426e-a1a5-cd653bf8bfa9",
        "_uuid": "0d70efd0eb41271afb4ac50291aa83c6791847a3",
        "trusted": false,
        "id": "HxeqBi1FAvbT",
        "colab_type": "code",
        "colab": {
          "base_uri": "https://localhost:8080/",
          "height": 34
        },
        "outputId": "841eb742-ab7f-4a84-9f98-65f550a64614"
      },
      "cell_type": "code",
      "source": [
        "#Best parameters for our svc model\n",
        "best = grid_svc.best_params_\n",
        "best"
      ],
      "execution_count": 294,
      "outputs": [
        {
          "output_type": "execute_result",
          "data": {
            "text/plain": [
              "{'C': 1.1, 'gamma': 1.1, 'kernel': 'rbf'}"
            ]
          },
          "metadata": {
            "tags": []
          },
          "execution_count": 294
        }
      ]
    },
    {
      "metadata": {
        "id": "UU7P9-QX9zBk",
        "colab_type": "code",
        "colab": {
          "base_uri": "https://localhost:8080/",
          "height": 34
        },
        "outputId": "6c2981eb-57a7-4689-f2c3-483c5e35512a"
      },
      "cell_type": "code",
      "source": [
        "C = best.get('C')\n",
        "gamma = best.get('gamma')\n",
        "kernel = best.get('kernel')\n",
        "C, gamma, kernel"
      ],
      "execution_count": 290,
      "outputs": [
        {
          "output_type": "execute_result",
          "data": {
            "text/plain": [
              "(1.1, 1.1, 'rbf')"
            ]
          },
          "metadata": {
            "tags": []
          },
          "execution_count": 290
        }
      ]
    },
    {
      "metadata": {
        "_cell_guid": "362ff8bd-7cf3-48af-a93a-499b52dab0d7",
        "_uuid": "dd4a0ac5ef6c17e9e2312a03df0d82ca088c40f2",
        "trusted": false,
        "colab_type": "code",
        "outputId": "6fe04894-9eac-4ce5-8193-b174d8908c33",
        "id": "0UH-HC5QEdib",
        "colab": {
          "base_uri": "https://localhost:8080/",
          "height": 136
        }
      },
      "cell_type": "code",
      "source": [
        "#Let's run our SVC again with the best parameters.\n",
        "svc2 = SVC(C = C, gamma =  gamma, kernel= kernel)\n",
        "svc2.fit(X_train, y_train)\n",
        "pred_svc2 = svc2.predict(X_test)\n",
        "print(classification_report(y_test, pred_svc2))"
      ],
      "execution_count": 416,
      "outputs": [
        {
          "output_type": "stream",
          "text": [
            "             precision    recall  f1-score   support\n",
            "\n",
            "          0       0.89      0.99      0.94       273\n",
            "          1       0.87      0.28      0.42        47\n",
            "\n",
            "avg / total       0.89      0.89      0.86       320\n",
            "\n"
          ],
          "name": "stdout"
        }
      ]
    },
    {
      "metadata": {
        "id": "fkrVIMQgJnCO",
        "colab_type": "code",
        "colab": {
          "base_uri": "https://localhost:8080/",
          "height": 51
        },
        "outputId": "8ca25786-63d7-4f55-a846-d484c2ac9f30"
      },
      "cell_type": "code",
      "source": [
        "confusion_matrix(y_test, pred_svc2)"
      ],
      "execution_count": 418,
      "outputs": [
        {
          "output_type": "execute_result",
          "data": {
            "text/plain": [
              "array([[271,   2],\n",
              "       [ 34,  13]])"
            ]
          },
          "metadata": {
            "tags": []
          },
          "execution_count": 418
        }
      ]
    },
    {
      "metadata": {
        "_cell_guid": "d14b50b9-006a-490f-a626-4a2a41b843d6",
        "_uuid": "eca47cbe6600911992c4ebee60c68e3fe37a3c91",
        "id": "vEHvi-5xAvbY",
        "colab_type": "text"
      },
      "cell_type": "markdown",
      "source": [
        "### SVC improves from 86% to 90% using Grid Search CV"
      ]
    },
    {
      "metadata": {
        "_cell_guid": "9cfb4b02-75c7-41ac-9ef7-0dcb2b00124e",
        "_uuid": "4b47f0260582ad526d3b8057d7f2ce96157720f1",
        "id": "H2W66ULZAvbZ",
        "colab_type": "text"
      },
      "cell_type": "markdown",
      "source": [
        ""
      ]
    },
    {
      "metadata": {
        "_cell_guid": "d6cd1c1f-9531-4c6a-87c1-262dd7fb6caf",
        "_uuid": "9f705df2b81e776eedc164c5d933ff4dd4c61d31",
        "id": "gbAFhMmaAvba",
        "colab_type": "text"
      },
      "cell_type": "markdown",
      "source": [
        "## Cross Validation Score for random forest and SGD"
      ]
    },
    {
      "metadata": {
        "_cell_guid": "a5507be9-a3eb-4bba-b8d5-928d015faadf",
        "_uuid": "24a7f7dc1bf59eaae6e5ea5a6f61130664fcd260",
        "trusted": false,
        "id": "iO_y_aLAAvbb",
        "colab_type": "code",
        "colab": {}
      },
      "cell_type": "code",
      "source": [
        "#Now lets try to do some evaluation for random forest model using cross validation.\n",
        "rfc_eval = cross_val_score(estimator = rfc, X = X_train, y = y_train, cv = 10)\n",
        "rfc_eval.mean()"
      ],
      "execution_count": 0,
      "outputs": []
    },
    {
      "metadata": {
        "_cell_guid": "4a6ab3c5-4b28-442e-be48-9e3eb14a6e79",
        "_uuid": "186ca0ca24faac487ca40563c9490f94f51a433a",
        "id": "gAGgK5L-Avbd",
        "colab_type": "text"
      },
      "cell_type": "markdown",
      "source": [
        "### Random forest accuracy increases from 87% to 91 % using cross validation score"
      ]
    },
    {
      "metadata": {
        "id": "_7Whz7a9PgA0",
        "colab_type": "text"
      },
      "cell_type": "markdown",
      "source": [
        "# Deep Learnig"
      ]
    },
    {
      "metadata": {
        "id": "M7hltUgFD0cl",
        "colab_type": "code",
        "colab": {
          "base_uri": "https://localhost:8080/",
          "height": 128
        },
        "outputId": "bcc3295e-a036-4cd7-95f4-b58ed0d3ebe7"
      },
      "cell_type": "code",
      "source": [
        "redwine.head(2)"
      ],
      "execution_count": 333,
      "outputs": [
        {
          "output_type": "execute_result",
          "data": {
            "text/html": [
              "<div>\n",
              "<style scoped>\n",
              "    .dataframe tbody tr th:only-of-type {\n",
              "        vertical-align: middle;\n",
              "    }\n",
              "\n",
              "    .dataframe tbody tr th {\n",
              "        vertical-align: top;\n",
              "    }\n",
              "\n",
              "    .dataframe thead th {\n",
              "        text-align: right;\n",
              "    }\n",
              "</style>\n",
              "<table border=\"1\" class=\"dataframe\">\n",
              "  <thead>\n",
              "    <tr style=\"text-align: right;\">\n",
              "      <th></th>\n",
              "      <th>fixed acidity</th>\n",
              "      <th>volatile acidity</th>\n",
              "      <th>citric acid</th>\n",
              "      <th>residual sugar</th>\n",
              "      <th>chlorides</th>\n",
              "      <th>free sulfur dioxide</th>\n",
              "      <th>total sulfur dioxide</th>\n",
              "      <th>density</th>\n",
              "      <th>pH</th>\n",
              "      <th>sulphates</th>\n",
              "      <th>alcohol</th>\n",
              "      <th>quality_good</th>\n",
              "    </tr>\n",
              "  </thead>\n",
              "  <tbody>\n",
              "    <tr>\n",
              "      <th>0</th>\n",
              "      <td>7.4</td>\n",
              "      <td>0.70</td>\n",
              "      <td>0.0</td>\n",
              "      <td>1.9</td>\n",
              "      <td>0.076</td>\n",
              "      <td>11.0</td>\n",
              "      <td>34.0</td>\n",
              "      <td>0.9978</td>\n",
              "      <td>3.51</td>\n",
              "      <td>0.56</td>\n",
              "      <td>9.4</td>\n",
              "      <td>0</td>\n",
              "    </tr>\n",
              "    <tr>\n",
              "      <th>1</th>\n",
              "      <td>7.8</td>\n",
              "      <td>0.88</td>\n",
              "      <td>0.0</td>\n",
              "      <td>2.6</td>\n",
              "      <td>0.098</td>\n",
              "      <td>25.0</td>\n",
              "      <td>67.0</td>\n",
              "      <td>0.9968</td>\n",
              "      <td>3.20</td>\n",
              "      <td>0.68</td>\n",
              "      <td>9.8</td>\n",
              "      <td>0</td>\n",
              "    </tr>\n",
              "  </tbody>\n",
              "</table>\n",
              "</div>"
            ],
            "text/plain": [
              "   fixed acidity  volatile acidity  citric acid  residual sugar  chlorides  \\\n",
              "0            7.4              0.70          0.0             1.9      0.076   \n",
              "1            7.8              0.88          0.0             2.6      0.098   \n",
              "\n",
              "   free sulfur dioxide  total sulfur dioxide  density    pH  sulphates  \\\n",
              "0                 11.0                  34.0   0.9978  3.51       0.56   \n",
              "1                 25.0                  67.0   0.9968  3.20       0.68   \n",
              "\n",
              "   alcohol  quality_good  \n",
              "0      9.4             0  \n",
              "1      9.8             0  "
            ]
          },
          "metadata": {
            "tags": []
          },
          "execution_count": 333
        }
      ]
    },
    {
      "metadata": {
        "id": "ZVB8xIT8EKXl",
        "colab_type": "code",
        "colab": {
          "base_uri": "https://localhost:8080/",
          "height": 119
        },
        "outputId": "2b529c0b-3727-48fe-e597-29138760e02c"
      },
      "cell_type": "code",
      "source": [
        "X_train[:2]"
      ],
      "execution_count": 337,
      "outputs": [
        {
          "output_type": "execute_result",
          "data": {
            "text/plain": [
              "array([[ 0.21833164,  0.88971201,  0.19209222,  0.30972563, -0.04964208,\n",
              "         0.69100692,  1.04293362,  1.84669643,  1.09349989,  0.45822284,\n",
              "         1.12317723],\n",
              "       [-1.29016623, -1.78878251,  0.65275338, -0.80507963, -0.45521361,\n",
              "         2.38847304,  3.59387025, -3.00449133, -0.40043872, -0.40119696,\n",
              "         1.40827174]])"
            ]
          },
          "metadata": {
            "tags": []
          },
          "execution_count": 337
        }
      ]
    },
    {
      "metadata": {
        "id": "Xe8wO0pJSaqO",
        "colab_type": "code",
        "colab": {
          "base_uri": "https://localhost:8080/",
          "height": 34
        },
        "outputId": "2f9fd2e3-9c17-4ccb-e99b-973423b60871"
      },
      "cell_type": "code",
      "source": [
        "y_train[:2]"
      ],
      "execution_count": 343,
      "outputs": [
        {
          "output_type": "execute_result",
          "data": {
            "text/plain": [
              "array([0, 0], dtype=uint8)"
            ]
          },
          "metadata": {
            "tags": []
          },
          "execution_count": 343
        }
      ]
    },
    {
      "metadata": {
        "id": "7QDOLEqDQT_6",
        "colab_type": "text"
      },
      "cell_type": "markdown",
      "source": [
        "## Feature Scaling"
      ]
    },
    {
      "metadata": {
        "id": "5Q70o4hwQchk",
        "colab_type": "code",
        "colab": {}
      },
      "cell_type": "code",
      "source": [
        "from sklearn.preprocessing import MinMaxScaler"
      ],
      "execution_count": 0,
      "outputs": []
    },
    {
      "metadata": {
        "id": "HRfewXuCE-Zc",
        "colab_type": "code",
        "colab": {}
      },
      "cell_type": "code",
      "source": [
        "def tanhconv(x):\n",
        "  if x == 0:\n",
        "    return -1\n",
        "  if x == 1:return 1\n",
        "    "
      ],
      "execution_count": 0,
      "outputs": []
    },
    {
      "metadata": {
        "id": "FgqmYVKlRUT2",
        "colab_type": "text"
      },
      "cell_type": "markdown",
      "source": [
        "# From Scratch"
      ]
    },
    {
      "metadata": {
        "id": "4j4_R28TQ8e3",
        "colab_type": "code",
        "colab": {
          "base_uri": "https://localhost:8080/",
          "height": 323
        },
        "outputId": "9ea7a70c-aee6-4dae-b855-6f4184ac8a96"
      },
      "cell_type": "code",
      "source": [
        "model = tf.keras.models.Sequential([\n",
        "  #tf.keras.layers.Flatten(),\n",
        "  tf.keras.layers.Dense(512, activation=tf.nn.relu),\n",
        "  tf.keras.layers.Dropout(0.2),\n",
        "  tf.keras.layers.Dense(512, activation=tf.nn.relu),\n",
        "  tf.keras.layers.Dropout(0.2),\n",
        "  tf.keras.layers.Dense(1, activation=tf.nn.tanh)\n",
        "])\n",
        "model.compile(optimizer='adam',\n",
        "              loss='binary_crossentropy',\n",
        "              metrics=['accuracy'])\n",
        "\n",
        "model.fit(X_train, y_train, epochs = 8, #class_weight = {0:1, 1:1.7}\n",
        "         )\n",
        "model.evaluate(X_test, y_test)"
      ],
      "execution_count": 429,
      "outputs": [
        {
          "output_type": "stream",
          "text": [
            "Epoch 1/8\n",
            "1279/1279 [==============================] - 4s 3ms/step - loss: 0.9841 - acc: 0.8765\n",
            "Epoch 2/8\n",
            "1279/1279 [==============================] - 0s 200us/step - loss: 0.8871 - acc: 0.8718\n",
            "Epoch 3/8\n",
            "1279/1279 [==============================] - 0s 216us/step - loss: 0.8456 - acc: 0.8061\n",
            "Epoch 4/8\n",
            "1279/1279 [==============================] - 0s 204us/step - loss: 0.8370 - acc: 0.8155\n",
            "Epoch 5/8\n",
            "1279/1279 [==============================] - 0s 202us/step - loss: 0.8406 - acc: 0.8616\n",
            "Epoch 6/8\n",
            "1279/1279 [==============================] - 0s 206us/step - loss: 0.9845 - acc: 0.8929\n",
            "Epoch 7/8\n",
            "1279/1279 [==============================] - 0s 208us/step - loss: 0.7238 - acc: 0.8835\n",
            "Epoch 8/8\n",
            "1279/1279 [==============================] - 0s 207us/step - loss: 0.6900 - acc: 0.8812\n",
            "320/320 [==============================] - 2s 6ms/step\n"
          ],
          "name": "stdout"
        },
        {
          "output_type": "execute_result",
          "data": {
            "text/plain": [
              "[0.6840350389480591, 0.865625]"
            ]
          },
          "metadata": {
            "tags": []
          },
          "execution_count": 429
        }
      ]
    },
    {
      "metadata": {
        "id": "REm1S-SMGr3O",
        "colab_type": "code",
        "colab": {
          "base_uri": "https://localhost:8080/",
          "height": 51
        },
        "outputId": "c2c2240e-617d-4f82-aac2-6a01871fa531"
      },
      "cell_type": "code",
      "source": [
        "gy_pred = model.predict_classes(X_test)\n",
        "y_pred[:2]"
      ],
      "execution_count": 420,
      "outputs": [
        {
          "output_type": "execute_result",
          "data": {
            "text/plain": [
              "array([[0],\n",
              "       [0]], dtype=int32)"
            ]
          },
          "metadata": {
            "tags": []
          },
          "execution_count": 420
        }
      ]
    },
    {
      "metadata": {
        "id": "6qfOiwvCIyPW",
        "colab_type": "code",
        "colab": {
          "base_uri": "https://localhost:8080/",
          "height": 51
        },
        "outputId": "f8a00b77-bb81-484b-b3f1-f3d4afaa9856"
      },
      "cell_type": "code",
      "source": [
        "confusion_matrix(y_test, y_pred)"
      ],
      "execution_count": 421,
      "outputs": [
        {
          "output_type": "execute_result",
          "data": {
            "text/plain": [
              "array([[249,  24],\n",
              "       [ 22,  25]])"
            ]
          },
          "metadata": {
            "tags": []
          },
          "execution_count": 421
        }
      ]
    },
    {
      "metadata": {
        "id": "_maNrVZBH6Jh",
        "colab_type": "code",
        "colab": {
          "base_uri": "https://localhost:8080/",
          "height": 51
        },
        "outputId": "a8b59e7d-904f-4b3a-cc58-55b72a9b5c20"
      },
      "cell_type": "code",
      "source": [
        "confusion_matrix(y_test, y_pred)"
      ],
      "execution_count": 402,
      "outputs": [
        {
          "output_type": "execute_result",
          "data": {
            "text/plain": [
              "array([[249,  24],\n",
              "       [ 18,  29]])"
            ]
          },
          "metadata": {
            "tags": []
          },
          "execution_count": 402
        }
      ]
    },
    {
      "metadata": {
        "id": "JpQeq72DG3Ou",
        "colab_type": "code",
        "colab": {}
      },
      "cell_type": "code",
      "source": [
        "print(classification_report())"
      ],
      "execution_count": 0,
      "outputs": []
    },
    {
      "metadata": {
        "id": "ajQK71PqW7DX",
        "colab_type": "text"
      },
      "cell_type": "markdown",
      "source": [
        "## LabelEncoding for lable"
      ]
    },
    {
      "metadata": {
        "id": "hIQyTiNdXB8o",
        "colab_type": "code",
        "colab": {
          "base_uri": "https://localhost:8080/",
          "height": 51
        },
        "outputId": "3cdf725e-48ef-48d7-b94c-9ac872dd7b38"
      },
      "cell_type": "code",
      "source": [
        "import numpy as np\n",
        "label = np.zeros((len(y_train), 7))\n",
        "label[:2]"
      ],
      "execution_count": 114,
      "outputs": [
        {
          "output_type": "execute_result",
          "data": {
            "text/plain": [
              "array([[0., 0., 0., 0., 0., 0., 0.],\n",
              "       [0., 0., 0., 0., 0., 0., 0.]])"
            ]
          },
          "metadata": {
            "tags": []
          },
          "execution_count": 114
        }
      ]
    },
    {
      "metadata": {
        "id": "7qlouGWVXP9b",
        "colab_type": "text"
      },
      "cell_type": "markdown",
      "source": [
        "3, 4, 5, 6, 7, 8, 9"
      ]
    },
    {
      "metadata": {
        "id": "fakvaUkzXdWU",
        "colab_type": "code",
        "colab": {}
      },
      "cell_type": "code",
      "source": [
        "for n, i in enumerate(y_train):\n",
        "  label[n][i - 3] = 1\n",
        "  "
      ],
      "execution_count": 0,
      "outputs": []
    },
    {
      "metadata": {
        "id": "rWT4Ljb6YFFm",
        "colab_type": "code",
        "colab": {
          "base_uri": "https://localhost:8080/",
          "height": 51
        },
        "outputId": "65312a72-7f90-48b8-ea02-31cf89e9e97c"
      },
      "cell_type": "code",
      "source": [
        "label[:2]"
      ],
      "execution_count": 120,
      "outputs": [
        {
          "output_type": "execute_result",
          "data": {
            "text/plain": [
              "array([[0., 0., 1., 0., 0., 0., 0.],\n",
              "       [0., 1., 0., 0., 0., 0., 0.]])"
            ]
          },
          "metadata": {
            "tags": []
          },
          "execution_count": 120
        }
      ]
    },
    {
      "metadata": {
        "id": "1nZlBDhxYkjx",
        "colab_type": "code",
        "colab": {
          "base_uri": "https://localhost:8080/",
          "height": 34
        },
        "outputId": "2edc06c7-66cd-4ac5-f428-28eddb7cf55d"
      },
      "cell_type": "code",
      "source": [
        "y_train[:2]"
      ],
      "execution_count": 121,
      "outputs": [
        {
          "output_type": "execute_result",
          "data": {
            "text/plain": [
              "array([5, 4])"
            ]
          },
          "metadata": {
            "tags": []
          },
          "execution_count": 121
        }
      ]
    },
    {
      "metadata": {
        "id": "m6UqQp4fY0G0",
        "colab_type": "code",
        "colab": {
          "base_uri": "https://localhost:8080/",
          "height": 51
        },
        "outputId": "9059efde-d0ed-482b-c2d5-633348a83b29"
      },
      "cell_type": "code",
      "source": [
        "y_train = label\n",
        "y_train[:2]"
      ],
      "execution_count": 122,
      "outputs": [
        {
          "output_type": "execute_result",
          "data": {
            "text/plain": [
              "array([[0., 0., 1., 0., 0., 0., 0.],\n",
              "       [0., 1., 0., 0., 0., 0., 0.]])"
            ]
          },
          "metadata": {
            "tags": []
          },
          "execution_count": 122
        }
      ]
    },
    {
      "metadata": {
        "id": "214noQYZY8fv",
        "colab_type": "code",
        "colab": {
          "base_uri": "https://localhost:8080/",
          "height": 34
        },
        "outputId": "c54c241d-e81a-4505-ef24-1071afd00dce"
      },
      "cell_type": "code",
      "source": [
        "y_train.shape"
      ],
      "execution_count": 131,
      "outputs": [
        {
          "output_type": "execute_result",
          "data": {
            "text/plain": [
              "(4547, 7)"
            ]
          },
          "metadata": {
            "tags": []
          },
          "execution_count": 131
        }
      ]
    },
    {
      "metadata": {
        "colab_type": "code",
        "outputId": "4337f4c4-1ec7-4387-f405-1cfb6055c62f",
        "id": "Py57u16XZC4B",
        "colab": {
          "base_uri": "https://localhost:8080/",
          "height": 51
        }
      },
      "cell_type": "code",
      "source": [
        "import numpy as np\n",
        "label = np.zeros((len(y_test), 7))\n",
        "label[:2]"
      ],
      "execution_count": 123,
      "outputs": [
        {
          "output_type": "execute_result",
          "data": {
            "text/plain": [
              "array([[0., 0., 0., 0., 0., 0., 0.],\n",
              "       [0., 0., 0., 0., 0., 0., 0.]])"
            ]
          },
          "metadata": {
            "tags": []
          },
          "execution_count": 123
        }
      ]
    },
    {
      "metadata": {
        "colab_type": "code",
        "id": "jP1DRyRlZC4y",
        "colab": {}
      },
      "cell_type": "code",
      "source": [
        "for n, i in enumerate(y_test):\n",
        "  label[n][i - 3] = 1\n",
        "  "
      ],
      "execution_count": 0,
      "outputs": []
    },
    {
      "metadata": {
        "id": "EfP0bs9cZISF",
        "colab_type": "code",
        "colab": {
          "base_uri": "https://localhost:8080/",
          "height": 85
        },
        "outputId": "6fd3af84-2580-4664-84de-71b1baa1e33e"
      },
      "cell_type": "code",
      "source": [
        "label[:4]"
      ],
      "execution_count": 128,
      "outputs": [
        {
          "output_type": "execute_result",
          "data": {
            "text/plain": [
              "array([[0., 0., 0., 1., 0., 0., 0.],\n",
              "       [0., 0., 0., 1., 0., 0., 0.],\n",
              "       [0., 0., 0., 1., 0., 0., 0.],\n",
              "       [0., 0., 1., 0., 0., 0., 0.]])"
            ]
          },
          "metadata": {
            "tags": []
          },
          "execution_count": 128
        }
      ]
    },
    {
      "metadata": {
        "id": "gd2lC3wkZLUU",
        "colab_type": "code",
        "colab": {
          "base_uri": "https://localhost:8080/",
          "height": 34
        },
        "outputId": "8cf63b68-b699-47b9-875d-c11eaddbb780"
      },
      "cell_type": "code",
      "source": [
        "y_test[:4]"
      ],
      "execution_count": 129,
      "outputs": [
        {
          "output_type": "execute_result",
          "data": {
            "text/plain": [
              "array([6, 6, 6, 5])"
            ]
          },
          "metadata": {
            "tags": []
          },
          "execution_count": 129
        }
      ]
    },
    {
      "metadata": {
        "id": "uQNeeMfAZNXE",
        "colab_type": "code",
        "colab": {
          "base_uri": "https://localhost:8080/",
          "height": 34
        },
        "outputId": "9a7d2d95-b0a6-4b2d-9c8d-efa1669a795a"
      },
      "cell_type": "code",
      "source": [
        "y_test = label\n",
        "y_test.shape"
      ],
      "execution_count": 130,
      "outputs": [
        {
          "output_type": "execute_result",
          "data": {
            "text/plain": [
              "(1950, 7)"
            ]
          },
          "metadata": {
            "tags": []
          },
          "execution_count": 130
        }
      ]
    },
    {
      "metadata": {
        "id": "tCpsABjgZWhO",
        "colab_type": "text"
      },
      "cell_type": "markdown",
      "source": [
        "## Train model"
      ]
    },
    {
      "metadata": {
        "id": "xTZh5TogZgKW",
        "colab_type": "code",
        "colab": {
          "base_uri": "https://localhost:8080/",
          "height": 34
        },
        "outputId": "1ef52712-2027-44ae-cabe-744462ce66d6"
      },
      "cell_type": "code",
      "source": [
        "X_train.shape, X_test.shape"
      ],
      "execution_count": 132,
      "outputs": [
        {
          "output_type": "execute_result",
          "data": {
            "text/plain": [
              "((4547, 12), (1950, 12))"
            ]
          },
          "metadata": {
            "tags": []
          },
          "execution_count": 132
        }
      ]
    },
    {
      "metadata": {
        "id": "gvIKtDtkb32z",
        "colab_type": "code",
        "colab": {
          "base_uri": "https://localhost:8080/",
          "height": 34
        },
        "outputId": "f3fe8c63-6732-4e35-b1f2-d5f31be0f073"
      },
      "cell_type": "code",
      "source": [
        "np.sqrt(200)**-1"
      ],
      "execution_count": 133,
      "outputs": [
        {
          "output_type": "execute_result",
          "data": {
            "text/plain": [
              "0.07071067811865475"
            ]
          },
          "metadata": {
            "tags": []
          },
          "execution_count": 133
        }
      ]
    },
    {
      "metadata": {
        "id": "V2jdy_G8b6tr",
        "colab_type": "code",
        "colab": {
          "base_uri": "https://localhost:8080/",
          "height": 34
        },
        "outputId": "3bb832f3-d559-44d8-81ea-d4a135d00abf"
      },
      "cell_type": "code",
      "source": [
        "200**-(1/2)"
      ],
      "execution_count": 135,
      "outputs": [
        {
          "output_type": "execute_result",
          "data": {
            "text/plain": [
              "0.07071067811865475"
            ]
          },
          "metadata": {
            "tags": []
          },
          "execution_count": 135
        }
      ]
    },
    {
      "metadata": {
        "id": "_rwqtZN-Zk6h",
        "colab_type": "code",
        "colab": {}
      },
      "cell_type": "code",
      "source": [
        "learning_rate, epochs, layer1_shape, output_shape = (0.0001, 300, 300, 7)\n",
        "np.random.seed(1)\n",
        "m1 = X_train.shape[1]\n",
        "sigma1 = m1 ** (-1/2)\n",
        "weights_1 = sigma1 * np.random.randn(m1, layer1_shape)\n",
        "\n",
        "m2 = layer1_shape\n",
        "sigma2 = m2 ** (-1/2)\n",
        "\n",
        "weights_out = sigma2 * np.random.randn(m2, output_shape)"
      ],
      "execution_count": 0,
      "outputs": []
    },
    {
      "metadata": {
        "id": "xq8Q-omEcWr3",
        "colab_type": "code",
        "colab": {
          "base_uri": "https://localhost:8080/",
          "height": 34
        },
        "outputId": "66474ac7-3947-489c-e0bf-c6cfc22ff8cc"
      },
      "cell_type": "code",
      "source": [
        "weights_1[2][:2]"
      ],
      "execution_count": 158,
      "outputs": [
        {
          "output_type": "execute_result",
          "data": {
            "text/plain": [
              "array([-0.30973811,  0.14293998])"
            ]
          },
          "metadata": {
            "tags": []
          },
          "execution_count": 158
        }
      ]
    },
    {
      "metadata": {
        "id": "mUxquJ2Tccz5",
        "colab_type": "code",
        "colab": {
          "base_uri": "https://localhost:8080/",
          "height": 34
        },
        "outputId": "5532e8ab-a19c-440d-b944-f653082e7109"
      },
      "cell_type": "code",
      "source": [
        "weights_1.shape"
      ],
      "execution_count": 159,
      "outputs": [
        {
          "output_type": "execute_result",
          "data": {
            "text/plain": [
              "(12, 300)"
            ]
          },
          "metadata": {
            "tags": []
          },
          "execution_count": 159
        }
      ]
    },
    {
      "metadata": {
        "id": "_SDOvTtyck4h",
        "colab_type": "code",
        "colab": {
          "base_uri": "https://localhost:8080/",
          "height": 34
        },
        "outputId": "e349cc1d-930c-4fa7-f09d-ed44af29fcc2"
      },
      "cell_type": "code",
      "source": [
        "weights_out.shape"
      ],
      "execution_count": 160,
      "outputs": [
        {
          "output_type": "execute_result",
          "data": {
            "text/plain": [
              "(300, 7)"
            ]
          },
          "metadata": {
            "tags": []
          },
          "execution_count": 160
        }
      ]
    },
    {
      "metadata": {
        "id": "9daxg2gfcmd4",
        "colab_type": "code",
        "colab": {
          "base_uri": "https://localhost:8080/",
          "height": 544
        },
        "outputId": "1d79c31a-1ee1-43c0-f456-5e7bc05ea06e"
      },
      "cell_type": "code",
      "source": [
        "import sys\n",
        "def tanh(x):\n",
        "    return np.tanh(x)\n",
        "\n",
        "def tanh2deriv(output):\n",
        "    return 1 - (output ** 2)\n",
        "\n",
        "def softmax(x):\n",
        "    temp = np.exp(x)\n",
        "    return temp / np.sum(temp, axis=1, keepdims=True)\n",
        "  \n",
        "batch_size = 1\n",
        "train_error = []\n",
        "test_error = []\n",
        "for j in range(epochs):\n",
        "    correct_cnt = 0\n",
        "    for i in range(int(len(X_train) / batch_size)):\n",
        "        batch_start, batch_end=((i * batch_size),((i+1)*batch_size))\n",
        "        layer_0 = X_train[batch_start:batch_end]\n",
        "        layer_1 = tanh(np.dot(layer_0,weights_1))\n",
        "        dropout_mask = np.random.randint(2,size=layer_1.shape)\n",
        "        layer_1 *= dropout_mask * 2\n",
        "        layer_2 = softmax(np.dot(layer_1,weights_out))\n",
        "        for k in range(batch_size):\n",
        "            correct_cnt += int(np.argmax(layer_2[k:k+1]) == np.argmax(y_train[batch_start+k:batch_start+k+1]))\n",
        "\n",
        "        layer_2_delta = (y_train[batch_start:batch_end]-layer_2) / (batch_size * layer_2.shape[0])\n",
        "        layer_1_delta = layer_2_delta.dot(weights_out.T) * tanh2deriv(layer_1)\n",
        "        layer_1_delta *= dropout_mask\n",
        "        weights_out += learning_rate * layer_1.T.dot(layer_2_delta)\n",
        "        weights_1 += learning_rate * layer_0.T.dot(layer_1_delta)\n",
        "    train_error.append(correct_cnt/len(X_train))\n",
        "    \n",
        "    #for test_images\n",
        "    test_correct_cnt = 0\n",
        "    for i in range(len(X_test)):\n",
        "\n",
        "        layer_0 = X_test[i:i+1]\n",
        "        layer_1 = tanh(np.dot(layer_0,weights_1))\n",
        "        layer_2 = np.dot(layer_1,weights_out)\n",
        "\n",
        "        test_correct_cnt += int(np.argmax(layer_2) == np.argmax(y_test[i:i+1]))\n",
        "    test_error.append(test_correct_cnt/len(X_test))\n",
        "    if(j % 10 == 0):\n",
        "        sys.stdout.write(\"\\n\"+ \\\n",
        "         \"I:\" + str(j) + \\\n",
        "         \" Test-Acc:\"+str(test_correct_cnt/float(len(X_test)))+\\\n",
        "         \" Train-Acc:\" + str(correct_cnt/float(len(X_train))))\n",
        "  "
      ],
      "execution_count": 161,
      "outputs": [
        {
          "output_type": "stream",
          "text": [
            "\n",
            "I:0 Test-Acc:0.43333333333333335 Train-Acc:0.3463822300417858\n",
            "I:10 Test-Acc:0.4625641025641026 Train-Acc:0.4761381130415659\n",
            "I:20 Test-Acc:0.47435897435897434 Train-Acc:0.5036287662194854\n",
            "I:30 Test-Acc:0.47333333333333333 Train-Acc:0.509566747305916\n",
            "I:40 Test-Acc:0.4774358974358974 Train-Acc:0.51638442929404\n",
            "I:50 Test-Acc:0.47333333333333333 Train-Acc:0.5207829338025072\n",
            "I:60 Test-Acc:0.47384615384615386 Train-Acc:0.51638442929404\n",
            "I:70 Test-Acc:0.47333333333333333 Train-Acc:0.5245216626347042\n",
            "I:80 Test-Acc:0.4748717948717949 Train-Acc:0.5282603914669013\n",
            "I:90 Test-Acc:0.4723076923076923 Train-Acc:0.5311194193974049\n",
            "I:100 Test-Acc:0.47692307692307695 Train-Acc:0.5297998680448648\n",
            "I:110 Test-Acc:0.4748717948717949 Train-Acc:0.5196833076753904\n",
            "I:120 Test-Acc:0.47435897435897434 Train-Acc:0.5308994941719816\n",
            "I:130 Test-Acc:0.4764102564102564 Train-Acc:0.534858148229602\n",
            "I:140 Test-Acc:0.47435897435897434 Train-Acc:0.5346382230041786\n",
            "I:150 Test-Acc:0.47384615384615386 Train-Acc:0.5278205410160546\n",
            "I:160 Test-Acc:0.4707692307692308 Train-Acc:0.5330987464262151\n",
            "I:170 Test-Acc:0.46615384615384614 Train-Acc:0.5282603914669013\n",
            "I:180 Test-Acc:0.4687179487179487 Train-Acc:0.5324389707499451\n",
            "I:190 Test-Acc:0.4687179487179487 Train-Acc:0.5401363536397625\n",
            "I:200 Test-Acc:0.4625641025641026 Train-Acc:0.5337585221024852\n",
            "I:210 Test-Acc:0.46102564102564103 Train-Acc:0.5330987464262151\n",
            "I:220 Test-Acc:0.4646153846153846 Train-Acc:0.5381570266109523\n",
            "I:230 Test-Acc:0.4625641025641026 Train-Acc:0.5326588959753684\n",
            "I:240 Test-Acc:0.46205128205128204 Train-Acc:0.5396965031889158\n",
            "I:250 Test-Acc:0.46 Train-Acc:0.5388168022872224\n",
            "I:260 Test-Acc:0.46 Train-Acc:0.541016054541456\n",
            "I:270 Test-Acc:0.46307692307692305 Train-Acc:0.5394765779634925\n",
            "I:280 Test-Acc:0.46205128205128204 Train-Acc:0.5392566527380691\n",
            "I:290 Test-Acc:0.46512820512820513 Train-Acc:0.5451946338244996"
          ],
          "name": "stdout"
        }
      ]
    },
    {
      "metadata": {
        "id": "STPqQbSKfaxW",
        "colab_type": "code",
        "colab": {}
      },
      "cell_type": "code",
      "source": [
        ""
      ],
      "execution_count": 0,
      "outputs": []
    }
  ]
}