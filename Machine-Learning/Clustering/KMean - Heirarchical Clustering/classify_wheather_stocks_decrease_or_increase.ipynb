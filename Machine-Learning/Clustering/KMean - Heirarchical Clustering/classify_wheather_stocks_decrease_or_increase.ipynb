{
  "nbformat": 4,
  "nbformat_minor": 0,
  "metadata": {
    "colab": {
      "name": "classify wheather it decrease or increase.ipynb",
      "version": "0.3.2",
      "provenance": [],
      "collapsed_sections": [],
      "include_colab_link": true
    },
    "kernelspec": {
      "name": "python3",
      "display_name": "Python 3"
    },
    "accelerator": "GPU"
  },
  "cells": [
    {
      "cell_type": "markdown",
      "metadata": {
        "id": "view-in-github",
        "colab_type": "text"
      },
      "source": [
        "<a href=\"https://colab.research.google.com/github/noushadkhan01/Projects/blob/master/Machine-Learning/Clustering/KMean%20-%20Heirarchical%20Clustering/classify_wheather_stocks_decrease_or_increase.ipynb\" target=\"_parent\"><img src=\"https://colab.research.google.com/assets/colab-badge.svg\" alt=\"Open In Colab\"/></a>"
      ]
    },
    {
      "cell_type": "code",
      "metadata": {
        "id": "C0t0FCwkayaZ",
        "colab_type": "code",
        "colab": {}
      },
      "source": [
        "%matplotlib inline\n",
        "import pandas as pd\n",
        "import matplotlib.pyplot as plt\n",
        "import seaborn as sns\n",
        "import numpy as np"
      ],
      "execution_count": 0,
      "outputs": []
    },
    {
      "cell_type": "code",
      "metadata": {
        "id": "vhODTNXvZ4CB",
        "colab_type": "code",
        "colab": {
          "base_uri": "https://localhost:8080/",
          "height": 136
        },
        "outputId": "bf4ce709-dabe-4d2b-f05a-cacb39948320"
      },
      "source": [
        "!git clone https://github.com/noushadkhan01/my_methods"
      ],
      "execution_count": 2,
      "outputs": [
        {
          "output_type": "stream",
          "text": [
            "Cloning into 'my_methods'...\n",
            "remote: Enumerating objects: 47, done.\u001b[K\n",
            "remote: Counting objects: 100% (47/47), done.\u001b[K\n",
            "remote: Compressing objects: 100% (47/47), done.\u001b[K\n",
            "remote: Total 200 (delta 27), reused 0 (delta 0), pack-reused 153\u001b[K\n",
            "Receiving objects: 100% (200/200), 51.99 KiB | 347.00 KiB/s, done.\n",
            "Resolving deltas: 100% (114/114), done.\n"
          ],
          "name": "stdout"
        }
      ]
    },
    {
      "cell_type": "code",
      "metadata": {
        "id": "hdcE_TdkaBHU",
        "colab_type": "code",
        "colab": {
          "base_uri": "https://localhost:8080/",
          "height": 136
        },
        "outputId": "b679808c-c951-404a-fe83-18afb31d56bf"
      },
      "source": [
        "%cd my_methods\n",
        "!ls"
      ],
      "execution_count": 23,
      "outputs": [
        {
          "output_type": "stream",
          "text": [
            "/content/my_methods\n",
            "choose_best_classifier.py\t      my_global_variables.py\n",
            "choose_optimal_number_of_clusters.py  my_roc_curve.py\n",
            "get_cross_validation.py\t\t      print_model_results.py\n",
            "my_cap_curve.py\t\t\t      __pycache__\n",
            "my_dummy_variable_2.py\t\t      README.md\n",
            "my_dummy_variable_creator.py\t      visualise_classifier_performance.py\n"
          ],
          "name": "stdout"
        }
      ]
    },
    {
      "cell_type": "code",
      "metadata": {
        "id": "Ke_LVrFccZE5",
        "colab_type": "code",
        "colab": {}
      },
      "source": [
        "import my_global_variables\n",
        "from get_cross_validation import get_cross_validation\n",
        "from print_model_results import print_model_results"
      ],
      "execution_count": 0,
      "outputs": []
    },
    {
      "cell_type": "code",
      "metadata": {
        "id": "5QOJdRuJaXcC",
        "colab_type": "code",
        "colab": {}
      },
      "source": [
        "from choose_best_classifier import choose_best_classifier"
      ],
      "execution_count": 0,
      "outputs": []
    },
    {
      "cell_type": "code",
      "metadata": {
        "id": "DtG05MM6afvE",
        "colab_type": "code",
        "colab": {
          "base_uri": "https://localhost:8080/",
          "height": 34
        },
        "outputId": "8e63fc81-e0ff-4965-9b57-3037357acaec"
      },
      "source": [
        "%cd ../"
      ],
      "execution_count": 5,
      "outputs": [
        {
          "output_type": "stream",
          "text": [
            "/content\n"
          ],
          "name": "stdout"
        }
      ]
    },
    {
      "cell_type": "code",
      "metadata": {
        "id": "dg30QMzNAbEU",
        "colab_type": "code",
        "outputId": "d5b20014-bf17-40d7-ac49-338457fcc7fd",
        "colab": {
          "base_uri": "https://localhost:8080/",
          "height": 122
        }
      },
      "source": [
        "from google.colab import drive\n",
        "drive.mount('/content/gdrive')"
      ],
      "execution_count": 6,
      "outputs": [
        {
          "output_type": "stream",
          "text": [
            "Go to this URL in a browser: https://accounts.google.com/o/oauth2/auth?client_id=947318989803-6bn6qk8qdgf4n4g3pfee6491hc0brc4i.apps.googleusercontent.com&redirect_uri=urn%3Aietf%3Awg%3Aoauth%3A2.0%3Aoob&scope=email%20https%3A%2F%2Fwww.googleapis.com%2Fauth%2Fdocs.test%20https%3A%2F%2Fwww.googleapis.com%2Fauth%2Fdrive%20https%3A%2F%2Fwww.googleapis.com%2Fauth%2Fdrive.photos.readonly%20https%3A%2F%2Fwww.googleapis.com%2Fauth%2Fpeopleapi.readonly&response_type=code\n",
            "\n",
            "Enter your authorization code:\n",
            "··········\n",
            "Mounted at /content/gdrive\n"
          ],
          "name": "stdout"
        }
      ]
    },
    {
      "cell_type": "code",
      "metadata": {
        "id": "-Bq762bxDolQ",
        "colab_type": "code",
        "outputId": "ea49ed33-4f65-47f7-c8bb-c62b50e13f97",
        "colab": {
          "base_uri": "https://localhost:8080/",
          "height": 34
        }
      },
      "source": [
        "!ls"
      ],
      "execution_count": 0,
      "outputs": [
        {
          "output_type": "stream",
          "text": [
            "gdrive\tsample_data\n"
          ],
          "name": "stdout"
        }
      ]
    },
    {
      "cell_type": "code",
      "metadata": {
        "id": "ExTcUtqMC-fC",
        "colab_type": "code",
        "colab": {}
      },
      "source": [
        "df = pd.read_csv('gdrive/My Drive/stock_data.csv')"
      ],
      "execution_count": 0,
      "outputs": []
    },
    {
      "cell_type": "code",
      "metadata": {
        "id": "WR6ZCy7sDd-9",
        "colab_type": "code",
        "outputId": "48bf05cb-30fc-4d4c-b197-2da1ddaac9f0",
        "colab": {
          "base_uri": "https://localhost:8080/",
          "height": 253
        }
      },
      "source": [
        "df.head()"
      ],
      "execution_count": 10,
      "outputs": [
        {
          "output_type": "execute_result",
          "data": {
            "text/html": [
              "<div>\n",
              "<style scoped>\n",
              "    .dataframe tbody tr th:only-of-type {\n",
              "        vertical-align: middle;\n",
              "    }\n",
              "\n",
              "    .dataframe tbody tr th {\n",
              "        vertical-align: top;\n",
              "    }\n",
              "\n",
              "    .dataframe thead th {\n",
              "        text-align: right;\n",
              "    }\n",
              "</style>\n",
              "<table border=\"1\" class=\"dataframe\">\n",
              "  <thead>\n",
              "    <tr style=\"text-align: right;\">\n",
              "      <th></th>\n",
              "      <th>X1</th>\n",
              "      <th>X2</th>\n",
              "      <th>X3</th>\n",
              "      <th>X4</th>\n",
              "      <th>X5</th>\n",
              "      <th>X6</th>\n",
              "      <th>X7</th>\n",
              "      <th>X8</th>\n",
              "      <th>X9</th>\n",
              "      <th>X10</th>\n",
              "      <th>X11</th>\n",
              "      <th>X12</th>\n",
              "      <th>X13</th>\n",
              "      <th>X14</th>\n",
              "      <th>X15</th>\n",
              "      <th>X16</th>\n",
              "      <th>X17</th>\n",
              "      <th>X18</th>\n",
              "      <th>X19</th>\n",
              "      <th>X20</th>\n",
              "      <th>X21</th>\n",
              "      <th>X22</th>\n",
              "      <th>X23</th>\n",
              "      <th>X24</th>\n",
              "      <th>X25</th>\n",
              "      <th>X26</th>\n",
              "      <th>X27</th>\n",
              "      <th>X28</th>\n",
              "      <th>X29</th>\n",
              "      <th>X30</th>\n",
              "      <th>X31</th>\n",
              "      <th>X32</th>\n",
              "      <th>X33</th>\n",
              "      <th>X34</th>\n",
              "      <th>X35</th>\n",
              "      <th>X36</th>\n",
              "      <th>X37</th>\n",
              "      <th>X38</th>\n",
              "      <th>X39</th>\n",
              "      <th>X40</th>\n",
              "      <th>...</th>\n",
              "      <th>X62</th>\n",
              "      <th>X63</th>\n",
              "      <th>X64</th>\n",
              "      <th>X65</th>\n",
              "      <th>X66</th>\n",
              "      <th>X67</th>\n",
              "      <th>X68</th>\n",
              "      <th>X69</th>\n",
              "      <th>X70</th>\n",
              "      <th>X71</th>\n",
              "      <th>X72</th>\n",
              "      <th>X73</th>\n",
              "      <th>X74</th>\n",
              "      <th>X75</th>\n",
              "      <th>X76</th>\n",
              "      <th>X77</th>\n",
              "      <th>X78</th>\n",
              "      <th>X79</th>\n",
              "      <th>X80</th>\n",
              "      <th>X81</th>\n",
              "      <th>X82</th>\n",
              "      <th>X83</th>\n",
              "      <th>X84</th>\n",
              "      <th>X85</th>\n",
              "      <th>X86</th>\n",
              "      <th>X87</th>\n",
              "      <th>X88</th>\n",
              "      <th>X89</th>\n",
              "      <th>X90</th>\n",
              "      <th>X91</th>\n",
              "      <th>X92</th>\n",
              "      <th>X93</th>\n",
              "      <th>X94</th>\n",
              "      <th>X95</th>\n",
              "      <th>X96</th>\n",
              "      <th>X97</th>\n",
              "      <th>X98</th>\n",
              "      <th>X99</th>\n",
              "      <th>X100</th>\n",
              "      <th>Y</th>\n",
              "    </tr>\n",
              "  </thead>\n",
              "  <tbody>\n",
              "    <tr>\n",
              "      <th>0</th>\n",
              "      <td>100.000000</td>\n",
              "      <td>100.000000</td>\n",
              "      <td>100.000000</td>\n",
              "      <td>100.000000</td>\n",
              "      <td>100.000000</td>\n",
              "      <td>100.000000</td>\n",
              "      <td>100.0000</td>\n",
              "      <td>100.000000</td>\n",
              "      <td>100.000000</td>\n",
              "      <td>100.000000</td>\n",
              "      <td>100.000000</td>\n",
              "      <td>100.000000</td>\n",
              "      <td>100.000000</td>\n",
              "      <td>100.000000</td>\n",
              "      <td>100.000000</td>\n",
              "      <td>100.000000</td>\n",
              "      <td>100.000000</td>\n",
              "      <td>100.000000</td>\n",
              "      <td>100.000000</td>\n",
              "      <td>100.000000</td>\n",
              "      <td>100.000000</td>\n",
              "      <td>100.000000</td>\n",
              "      <td>100.000000</td>\n",
              "      <td>100.000000</td>\n",
              "      <td>100.000000</td>\n",
              "      <td>100.000000</td>\n",
              "      <td>100.000000</td>\n",
              "      <td>100.000000</td>\n",
              "      <td>100.000000</td>\n",
              "      <td>100.000000</td>\n",
              "      <td>100.000000</td>\n",
              "      <td>100.000000</td>\n",
              "      <td>100.000000</td>\n",
              "      <td>100.000000</td>\n",
              "      <td>100.000000</td>\n",
              "      <td>100.000000</td>\n",
              "      <td>100.000000</td>\n",
              "      <td>100.000000</td>\n",
              "      <td>100.000000</td>\n",
              "      <td>100.000000</td>\n",
              "      <td>...</td>\n",
              "      <td>100.000000</td>\n",
              "      <td>100.000000</td>\n",
              "      <td>100.000000</td>\n",
              "      <td>100.000000</td>\n",
              "      <td>100.000000</td>\n",
              "      <td>100.000000</td>\n",
              "      <td>100.000000</td>\n",
              "      <td>100.000000</td>\n",
              "      <td>100.000000</td>\n",
              "      <td>100.000000</td>\n",
              "      <td>100.000000</td>\n",
              "      <td>100.000000</td>\n",
              "      <td>100.000000</td>\n",
              "      <td>100.000000</td>\n",
              "      <td>100.000000</td>\n",
              "      <td>100.000000</td>\n",
              "      <td>100.0000</td>\n",
              "      <td>100.000000</td>\n",
              "      <td>100.000000</td>\n",
              "      <td>100.000000</td>\n",
              "      <td>100.000000</td>\n",
              "      <td>100.000000</td>\n",
              "      <td>100.000000</td>\n",
              "      <td>100.000000</td>\n",
              "      <td>100.000000</td>\n",
              "      <td>100.000000</td>\n",
              "      <td>100.000000</td>\n",
              "      <td>100.000000</td>\n",
              "      <td>100.000000</td>\n",
              "      <td>100.000000</td>\n",
              "      <td>100.000000</td>\n",
              "      <td>100.000000</td>\n",
              "      <td>100.000000</td>\n",
              "      <td>100.000000</td>\n",
              "      <td>100.000000</td>\n",
              "      <td>100.000000</td>\n",
              "      <td>100.000000</td>\n",
              "      <td>100.000000</td>\n",
              "      <td>100.000000</td>\n",
              "      <td>1</td>\n",
              "    </tr>\n",
              "    <tr>\n",
              "      <th>1</th>\n",
              "      <td>91.567862</td>\n",
              "      <td>96.621901</td>\n",
              "      <td>98.084599</td>\n",
              "      <td>96.543909</td>\n",
              "      <td>91.678881</td>\n",
              "      <td>96.337918</td>\n",
              "      <td>96.1250</td>\n",
              "      <td>94.015957</td>\n",
              "      <td>94.409201</td>\n",
              "      <td>97.084183</td>\n",
              "      <td>96.351731</td>\n",
              "      <td>95.620450</td>\n",
              "      <td>98.075710</td>\n",
              "      <td>96.470588</td>\n",
              "      <td>99.111111</td>\n",
              "      <td>99.327474</td>\n",
              "      <td>94.726023</td>\n",
              "      <td>92.513163</td>\n",
              "      <td>95.330575</td>\n",
              "      <td>96.487887</td>\n",
              "      <td>105.857628</td>\n",
              "      <td>97.458983</td>\n",
              "      <td>96.971336</td>\n",
              "      <td>94.389733</td>\n",
              "      <td>94.064528</td>\n",
              "      <td>98.720048</td>\n",
              "      <td>100.800030</td>\n",
              "      <td>95.626477</td>\n",
              "      <td>92.337531</td>\n",
              "      <td>92.352792</td>\n",
              "      <td>100.000000</td>\n",
              "      <td>95.448346</td>\n",
              "      <td>98.634815</td>\n",
              "      <td>97.950789</td>\n",
              "      <td>96.026532</td>\n",
              "      <td>99.173291</td>\n",
              "      <td>96.611813</td>\n",
              "      <td>96.831338</td>\n",
              "      <td>94.545847</td>\n",
              "      <td>96.003806</td>\n",
              "      <td>...</td>\n",
              "      <td>96.224293</td>\n",
              "      <td>95.488722</td>\n",
              "      <td>100.000000</td>\n",
              "      <td>101.818182</td>\n",
              "      <td>97.408179</td>\n",
              "      <td>101.554453</td>\n",
              "      <td>98.847545</td>\n",
              "      <td>97.897257</td>\n",
              "      <td>93.055496</td>\n",
              "      <td>96.370364</td>\n",
              "      <td>92.989076</td>\n",
              "      <td>96.777906</td>\n",
              "      <td>94.769697</td>\n",
              "      <td>101.099203</td>\n",
              "      <td>98.069051</td>\n",
              "      <td>98.932214</td>\n",
              "      <td>97.0700</td>\n",
              "      <td>91.611045</td>\n",
              "      <td>102.459279</td>\n",
              "      <td>99.120312</td>\n",
              "      <td>98.714653</td>\n",
              "      <td>95.663493</td>\n",
              "      <td>94.133458</td>\n",
              "      <td>100.000000</td>\n",
              "      <td>100.000000</td>\n",
              "      <td>104.206922</td>\n",
              "      <td>98.903111</td>\n",
              "      <td>98.185123</td>\n",
              "      <td>97.218155</td>\n",
              "      <td>97.292714</td>\n",
              "      <td>96.888889</td>\n",
              "      <td>95.499022</td>\n",
              "      <td>97.457971</td>\n",
              "      <td>99.282297</td>\n",
              "      <td>101.296698</td>\n",
              "      <td>98.310678</td>\n",
              "      <td>100.489134</td>\n",
              "      <td>99.602234</td>\n",
              "      <td>93.263158</td>\n",
              "      <td>-1</td>\n",
              "    </tr>\n",
              "    <tr>\n",
              "      <th>2</th>\n",
              "      <td>92.908600</td>\n",
              "      <td>97.640753</td>\n",
              "      <td>103.112398</td>\n",
              "      <td>98.130312</td>\n",
              "      <td>78.041958</td>\n",
              "      <td>97.693843</td>\n",
              "      <td>95.6250</td>\n",
              "      <td>95.744681</td>\n",
              "      <td>94.089712</td>\n",
              "      <td>96.655229</td>\n",
              "      <td>94.293732</td>\n",
              "      <td>100.104235</td>\n",
              "      <td>96.034989</td>\n",
              "      <td>97.843137</td>\n",
              "      <td>101.222400</td>\n",
              "      <td>101.943199</td>\n",
              "      <td>94.247407</td>\n",
              "      <td>90.106749</td>\n",
              "      <td>96.120690</td>\n",
              "      <td>100.184832</td>\n",
              "      <td>110.251104</td>\n",
              "      <td>95.086102</td>\n",
              "      <td>102.325581</td>\n",
              "      <td>94.100642</td>\n",
              "      <td>95.096784</td>\n",
              "      <td>98.481917</td>\n",
              "      <td>100.267291</td>\n",
              "      <td>96.099299</td>\n",
              "      <td>91.464713</td>\n",
              "      <td>95.530522</td>\n",
              "      <td>105.978261</td>\n",
              "      <td>94.669849</td>\n",
              "      <td>98.407284</td>\n",
              "      <td>99.528076</td>\n",
              "      <td>98.806900</td>\n",
              "      <td>104.628087</td>\n",
              "      <td>98.573995</td>\n",
              "      <td>98.787707</td>\n",
              "      <td>100.000000</td>\n",
              "      <td>97.906755</td>\n",
              "      <td>...</td>\n",
              "      <td>93.640754</td>\n",
              "      <td>94.736842</td>\n",
              "      <td>104.519211</td>\n",
              "      <td>105.151515</td>\n",
              "      <td>100.424129</td>\n",
              "      <td>106.606308</td>\n",
              "      <td>93.483725</td>\n",
              "      <td>98.498327</td>\n",
              "      <td>89.074078</td>\n",
              "      <td>97.446316</td>\n",
              "      <td>89.836916</td>\n",
              "      <td>97.016601</td>\n",
              "      <td>92.000945</td>\n",
              "      <td>106.318790</td>\n",
              "      <td>96.275903</td>\n",
              "      <td>101.705728</td>\n",
              "      <td>97.2650</td>\n",
              "      <td>93.422449</td>\n",
              "      <td>105.410098</td>\n",
              "      <td>98.533742</td>\n",
              "      <td>101.671157</td>\n",
              "      <td>93.495100</td>\n",
              "      <td>94.397986</td>\n",
              "      <td>100.826374</td>\n",
              "      <td>97.176774</td>\n",
              "      <td>111.340752</td>\n",
              "      <td>101.919409</td>\n",
              "      <td>97.640370</td>\n",
              "      <td>99.414348</td>\n",
              "      <td>95.093172</td>\n",
              "      <td>97.333333</td>\n",
              "      <td>96.379804</td>\n",
              "      <td>93.397222</td>\n",
              "      <td>100.478469</td>\n",
              "      <td>101.179953</td>\n",
              "      <td>98.141624</td>\n",
              "      <td>96.084839</td>\n",
              "      <td>99.204467</td>\n",
              "      <td>86.421053</td>\n",
              "      <td>1</td>\n",
              "    </tr>\n",
              "    <tr>\n",
              "      <th>3</th>\n",
              "      <td>84.869178</td>\n",
              "      <td>94.369892</td>\n",
              "      <td>109.018217</td>\n",
              "      <td>102.209632</td>\n",
              "      <td>73.357203</td>\n",
              "      <td>100.676878</td>\n",
              "      <td>96.9166</td>\n",
              "      <td>93.085106</td>\n",
              "      <td>98.243067</td>\n",
              "      <td>98.113343</td>\n",
              "      <td>95.322732</td>\n",
              "      <td>98.435915</td>\n",
              "      <td>100.524688</td>\n",
              "      <td>101.764706</td>\n",
              "      <td>101.333333</td>\n",
              "      <td>106.128550</td>\n",
              "      <td>92.233233</td>\n",
              "      <td>93.582895</td>\n",
              "      <td>90.517241</td>\n",
              "      <td>101.571147</td>\n",
              "      <td>106.903840</td>\n",
              "      <td>99.322034</td>\n",
              "      <td>101.460249</td>\n",
              "      <td>92.538954</td>\n",
              "      <td>101.677209</td>\n",
              "      <td>102.664087</td>\n",
              "      <td>98.399941</td>\n",
              "      <td>102.482262</td>\n",
              "      <td>92.725595</td>\n",
              "      <td>97.119387</td>\n",
              "      <td>110.144927</td>\n",
              "      <td>101.108080</td>\n",
              "      <td>105.119263</td>\n",
              "      <td>98.107256</td>\n",
              "      <td>106.753836</td>\n",
              "      <td>97.520403</td>\n",
              "      <td>99.820323</td>\n",
              "      <td>101.397194</td>\n",
              "      <td>99.481348</td>\n",
              "      <td>100.761180</td>\n",
              "      <td>...</td>\n",
              "      <td>95.627991</td>\n",
              "      <td>96.240601</td>\n",
              "      <td>110.096117</td>\n",
              "      <td>105.151515</td>\n",
              "      <td>103.251652</td>\n",
              "      <td>108.549256</td>\n",
              "      <td>98.847545</td>\n",
              "      <td>102.101741</td>\n",
              "      <td>90.740602</td>\n",
              "      <td>98.521133</td>\n",
              "      <td>86.630347</td>\n",
              "      <td>97.136049</td>\n",
              "      <td>97.538449</td>\n",
              "      <td>106.593771</td>\n",
              "      <td>100.689583</td>\n",
              "      <td>100.852864</td>\n",
              "      <td>97.0700</td>\n",
              "      <td>94.185082</td>\n",
              "      <td>106.065836</td>\n",
              "      <td>100.097762</td>\n",
              "      <td>106.169666</td>\n",
              "      <td>89.245462</td>\n",
              "      <td>101.599966</td>\n",
              "      <td>105.221978</td>\n",
              "      <td>105.241290</td>\n",
              "      <td>111.719865</td>\n",
              "      <td>104.113187</td>\n",
              "      <td>97.459173</td>\n",
              "      <td>110.834553</td>\n",
              "      <td>97.461792</td>\n",
              "      <td>101.925926</td>\n",
              "      <td>95.988415</td>\n",
              "      <td>94.412410</td>\n",
              "      <td>100.956938</td>\n",
              "      <td>99.287025</td>\n",
              "      <td>102.027024</td>\n",
              "      <td>100.326263</td>\n",
              "      <td>103.985313</td>\n",
              "      <td>77.513179</td>\n",
              "      <td>1</td>\n",
              "    </tr>\n",
              "    <tr>\n",
              "      <th>4</th>\n",
              "      <td>88.888889</td>\n",
              "      <td>95.603221</td>\n",
              "      <td>108.459686</td>\n",
              "      <td>103.116147</td>\n",
              "      <td>77.832727</td>\n",
              "      <td>104.677398</td>\n",
              "      <td>100.8750</td>\n",
              "      <td>93.617021</td>\n",
              "      <td>100.000000</td>\n",
              "      <td>99.828542</td>\n",
              "      <td>102.525725</td>\n",
              "      <td>98.123023</td>\n",
              "      <td>108.687945</td>\n",
              "      <td>108.627451</td>\n",
              "      <td>107.777778</td>\n",
              "      <td>107.922272</td>\n",
              "      <td>96.356691</td>\n",
              "      <td>90.641614</td>\n",
              "      <td>94.252874</td>\n",
              "      <td>110.905691</td>\n",
              "      <td>104.393476</td>\n",
              "      <td>104.406780</td>\n",
              "      <td>98.215251</td>\n",
              "      <td>97.975618</td>\n",
              "      <td>100.516128</td>\n",
              "      <td>114.064593</td>\n",
              "      <td>101.067320</td>\n",
              "      <td>103.073289</td>\n",
              "      <td>106.886504</td>\n",
              "      <td>108.042836</td>\n",
              "      <td>122.463768</td>\n",
              "      <td>116.535970</td>\n",
              "      <td>107.053457</td>\n",
              "      <td>100.630915</td>\n",
              "      <td>109.072222</td>\n",
              "      <td>99.503869</td>\n",
              "      <td>106.773522</td>\n",
              "      <td>98.974099</td>\n",
              "      <td>99.481348</td>\n",
              "      <td>108.182683</td>\n",
              "      <td>...</td>\n",
              "      <td>96.899928</td>\n",
              "      <td>95.488722</td>\n",
              "      <td>110.480748</td>\n",
              "      <td>107.727515</td>\n",
              "      <td>105.560947</td>\n",
              "      <td>111.399008</td>\n",
              "      <td>112.260161</td>\n",
              "      <td>104.203482</td>\n",
              "      <td>93.749911</td>\n",
              "      <td>99.328097</td>\n",
              "      <td>92.717387</td>\n",
              "      <td>104.415176</td>\n",
              "      <td>100.000000</td>\n",
              "      <td>108.516474</td>\n",
              "      <td>99.586597</td>\n",
              "      <td>106.396479</td>\n",
              "      <td>98.2425</td>\n",
              "      <td>98.760875</td>\n",
              "      <td>106.393705</td>\n",
              "      <td>103.030444</td>\n",
              "      <td>109.640309</td>\n",
              "      <td>93.668560</td>\n",
              "      <td>100.264528</td>\n",
              "      <td>106.043956</td>\n",
              "      <td>103.628387</td>\n",
              "      <td>114.650850</td>\n",
              "      <td>113.710819</td>\n",
              "      <td>97.640370</td>\n",
              "      <td>111.273792</td>\n",
              "      <td>102.537953</td>\n",
              "      <td>102.074074</td>\n",
              "      <td>102.152642</td>\n",
              "      <td>105.579469</td>\n",
              "      <td>106.937799</td>\n",
              "      <td>101.651101</td>\n",
              "      <td>103.884995</td>\n",
              "      <td>106.688139</td>\n",
              "      <td>108.525205</td>\n",
              "      <td>85.736842</td>\n",
              "      <td>1</td>\n",
              "    </tr>\n",
              "  </tbody>\n",
              "</table>\n",
              "<p>5 rows × 101 columns</p>\n",
              "</div>"
            ],
            "text/plain": [
              "           X1          X2          X3  ...         X99        X100  Y\n",
              "0  100.000000  100.000000  100.000000  ...  100.000000  100.000000  1\n",
              "1   91.567862   96.621901   98.084599  ...   99.602234   93.263158 -1\n",
              "2   92.908600   97.640753  103.112398  ...   99.204467   86.421053  1\n",
              "3   84.869178   94.369892  109.018217  ...  103.985313   77.513179  1\n",
              "4   88.888889   95.603221  108.459686  ...  108.525205   85.736842  1\n",
              "\n",
              "[5 rows x 101 columns]"
            ]
          },
          "metadata": {
            "tags": []
          },
          "execution_count": 10
        }
      ]
    },
    {
      "cell_type": "code",
      "metadata": {
        "id": "Oe2qSVMqDfXH",
        "colab_type": "code",
        "outputId": "cabca734-b97a-4f48-c404-9f5fc9ff5e11",
        "colab": {
          "base_uri": "https://localhost:8080/",
          "height": 34
        }
      },
      "source": [
        "df.shape"
      ],
      "execution_count": 11,
      "outputs": [
        {
          "output_type": "execute_result",
          "data": {
            "text/plain": [
              "(3000, 101)"
            ]
          },
          "metadata": {
            "tags": []
          },
          "execution_count": 11
        }
      ]
    },
    {
      "cell_type": "code",
      "metadata": {
        "id": "OzWKom1bD0qn",
        "colab_type": "code",
        "outputId": "a4f99575-0413-4602-d43f-731e8aca3f03",
        "colab": {
          "base_uri": "https://localhost:8080/",
          "height": 34
        }
      },
      "source": [
        "X = df.drop('Y', 1)\n",
        "X.shape"
      ],
      "execution_count": 12,
      "outputs": [
        {
          "output_type": "execute_result",
          "data": {
            "text/plain": [
              "(3000, 100)"
            ]
          },
          "metadata": {
            "tags": []
          },
          "execution_count": 12
        }
      ]
    },
    {
      "cell_type": "code",
      "metadata": {
        "id": "1GAzxXf1ERcM",
        "colab_type": "code",
        "outputId": "c1e7844c-cca3-445f-9c04-6d0ff77274d4",
        "colab": {
          "base_uri": "https://localhost:8080/",
          "height": 34
        }
      },
      "source": [
        "y = df.Y.values\n",
        "y.shape"
      ],
      "execution_count": 13,
      "outputs": [
        {
          "output_type": "execute_result",
          "data": {
            "text/plain": [
              "(3000,)"
            ]
          },
          "metadata": {
            "tags": []
          },
          "execution_count": 13
        }
      ]
    },
    {
      "cell_type": "markdown",
      "metadata": {
        "id": "5MZJpfGQETxZ",
        "colab_type": "text"
      },
      "source": [
        "# Feature Scaling"
      ]
    },
    {
      "cell_type": "code",
      "metadata": {
        "id": "Ip53o6bXEW0D",
        "colab_type": "code",
        "colab": {}
      },
      "source": [
        "from sklearn.preprocessing import StandardScaler"
      ],
      "execution_count": 0,
      "outputs": []
    },
    {
      "cell_type": "code",
      "metadata": {
        "id": "b9TIMAF6EZ3w",
        "colab_type": "code",
        "colab": {}
      },
      "source": [
        "from sklearn.model_selection import train_test_split"
      ],
      "execution_count": 0,
      "outputs": []
    },
    {
      "cell_type": "code",
      "metadata": {
        "id": "OJZtu-mIEgQ2",
        "colab_type": "code",
        "outputId": "559c4d02-1c7f-4aa3-f77d-e608a05525aa",
        "colab": {
          "base_uri": "https://localhost:8080/",
          "height": 34
        }
      },
      "source": [
        "X_train, X_test, y_train, y_test = train_test_split(X, y, test_size = .3, random_state = 0)\n",
        "X_train.shape, X_test.shape, y_train.shape, y_test.shape"
      ],
      "execution_count": 16,
      "outputs": [
        {
          "output_type": "execute_result",
          "data": {
            "text/plain": [
              "((2100, 100), (900, 100), (2100,), (900,))"
            ]
          },
          "metadata": {
            "tags": []
          },
          "execution_count": 16
        }
      ]
    },
    {
      "cell_type": "code",
      "metadata": {
        "id": "hg4huFb1Eqyo",
        "colab_type": "code",
        "colab": {}
      },
      "source": [
        "sc = StandardScaler()\n",
        "X_train = sc.fit_transform(X_train)\n",
        "X_test = sc.transform(X_test)"
      ],
      "execution_count": 0,
      "outputs": []
    },
    {
      "cell_type": "markdown",
      "metadata": {
        "id": "3RtnvPxNE3r1",
        "colab_type": "text"
      },
      "source": [
        "# Train model"
      ]
    },
    {
      "cell_type": "markdown",
      "metadata": {
        "id": "ZY-O9Lv-R3G1",
        "colab_type": "text"
      },
      "source": [
        "## Checking which is best Classifier for our Dataset"
      ]
    },
    {
      "cell_type": "code",
      "metadata": {
        "id": "Lea2-5KZblau",
        "colab_type": "code",
        "colab": {}
      },
      "source": [
        "import warnings\n",
        "warnings.filterwarnings(action = 'ignore')"
      ],
      "execution_count": 0,
      "outputs": []
    },
    {
      "cell_type": "code",
      "metadata": {
        "id": "TsPccfzEbO6L",
        "colab_type": "code",
        "colab": {
          "base_uri": "https://localhost:8080/",
          "height": 396
        },
        "outputId": "8692b3ba-459a-4ad0-bc01-8f886c747bf7"
      },
      "source": [
        "choose_best_classifier(X, y)"
      ],
      "execution_count": 22,
      "outputs": [
        {
          "output_type": "stream",
          "text": [
            "LR: 0.491333 (0.026466)\n",
            "LDA: 0.487000 (0.022728)\n",
            "KNN: 0.497000 (0.037311)\n",
            "DTree: 0.502333 (0.037359)\n",
            "NB: 0.501000 (0.033067)\n",
            "SVM: 0.489333 (0.037172)\n"
          ],
          "name": "stdout"
        },
        {
          "output_type": "display_data",
          "data": {
            "image/png": "[encoded data removed]",
            "text/plain": [
              "<Figure size 432x288 with 1 Axes>"
            ]
          },
          "metadata": {
            "tags": []
          }
        }
      ]
    },
    {
      "cell_type": "code",
      "metadata": {
        "id": "qjX28VdLFsCg",
        "colab_type": "code",
        "colab": {}
      },
      "source": [
        "from sklearn.linear_model import LogisticRegression"
      ],
      "execution_count": 0,
      "outputs": []
    },
    {
      "cell_type": "markdown",
      "metadata": {
        "id": "BE1KHUAVZQ_f",
        "colab_type": "text"
      },
      "source": [
        "## 1.NaiveBayes Classifier"
      ]
    },
    {
      "cell_type": "code",
      "metadata": {
        "id": "4yqBv_mAZWez",
        "colab_type": "code",
        "colab": {}
      },
      "source": [
        "from sklearn.naive_bayes import GaussianNB\n",
        "from sklearn.metrics import confusion_matrix, classification_report"
      ],
      "execution_count": 0,
      "outputs": []
    },
    {
      "cell_type": "markdown",
      "metadata": {
        "id": "SnbvxC2Gc7o2",
        "colab_type": "text"
      },
      "source": [
        "####initialise my global variables first"
      ]
    },
    {
      "cell_type": "code",
      "metadata": {
        "id": "CTsrdHYqc40Q",
        "colab_type": "code",
        "colab": {}
      },
      "source": [
        "my_global_variables.init()"
      ],
      "execution_count": 0,
      "outputs": []
    },
    {
      "cell_type": "code",
      "metadata": {
        "id": "aUEMR1EMdGp-",
        "colab_type": "code",
        "colab": {}
      },
      "source": [
        "from sklearn.naive_bayes import GaussianNB"
      ],
      "execution_count": 0,
      "outputs": []
    },
    {
      "cell_type": "code",
      "metadata": {
        "id": "UNrguPb9cuRR",
        "colab_type": "code",
        "colab": {
          "base_uri": "https://localhost:8080/",
          "height": 476
        },
        "outputId": "f909c456-adbd-41da-e72d-54645673a0de"
      },
      "source": [
        "model = GaussianNB()\n",
        "model = print_model_results(X_train, X_test, y_train, y_test, model)"
      ],
      "execution_count": 28,
      "outputs": [
        {
          "output_type": "stream",
          "text": [
            " Train score is 0.5166666666666667\n",
            "\n",
            "\n",
            "Test score is 0.5011111111111111\n",
            "\n",
            "\n",
            "\n",
            "Train confusion matrix is \n",
            " [[583 464]\n",
            " [551 502]]\n",
            "\n",
            "Test confusion matrix is \n",
            " [[228 233]\n",
            " [216 223]]\n",
            "\n",
            "\n",
            "\n",
            "Test Set classification report is \n",
            "               precision    recall  f1-score   support\n",
            "\n",
            "          -1       0.51      0.49      0.50       461\n",
            "           1       0.49      0.51      0.50       439\n",
            "\n",
            "    accuracy                           0.50       900\n",
            "   macro avg       0.50      0.50      0.50       900\n",
            "weighted avg       0.50      0.50      0.50       900\n",
            "\n"
          ],
          "name": "stdout"
        }
      ]
    },
    {
      "cell_type": "markdown",
      "metadata": {
        "id": "HWRchUh3TuQg",
        "colab_type": "text"
      },
      "source": [
        "## 1.LogisticRegression"
      ]
    },
    {
      "cell_type": "code",
      "metadata": {
        "id": "T2n-R2NAHN4K",
        "colab_type": "code",
        "outputId": "760fc915-41dd-42a9-a5fe-e524b5aba597",
        "colab": {
          "base_uri": "https://localhost:8080/",
          "height": 378
        }
      },
      "source": [
        "import numpy as np\n",
        "import matplotlib.pyplot as plt\n",
        "from sklearn.linear_model import LogisticRegression\n",
        "x = np.linspace(0.00001, 1, 50)\n",
        "train_s = []\n",
        "test_s = []\n",
        "for i in x:\n",
        "  model = LogisticRegression(C = i)\n",
        "  model.fit(X_train, y_train)\n",
        "  train_s.append(model.score(X_train, y_train))\n",
        "  test_s.append(model.score(X_test, y_test))\n",
        "  \n",
        "plt.figure(figsize = (10, 6))\n",
        "plt.plot(x, train_s, c = 'r', label = 'Train score')\n",
        "plt.plot(x, test_s, c = 'g', label = 'Test score')\n",
        "plt.xticks(x)\n",
        "plt.legend()\n",
        "plt.grid()\n",
        "plt.show()"
      ],
      "execution_count": 32,
      "outputs": [
        {
          "output_type": "display_data",
          "data": {
            "image/png": "[encoded data removed]",
            "text/plain": [
              "<Figure size 720x432 with 1 Axes>"
            ]
          },
          "metadata": {
            "tags": []
          }
        }
      ]
    },
    {
      "cell_type": "code",
      "metadata": {
        "id": "pzzLWHeAUo_S",
        "colab_type": "code",
        "outputId": "c300dac1-e2f9-4ec1-8622-79b367d2f9ed",
        "colab": {
          "base_uri": "https://localhost:8080/",
          "height": 34
        }
      },
      "source": [
        "max(test_s)"
      ],
      "execution_count": 33,
      "outputs": [
        {
          "output_type": "execute_result",
          "data": {
            "text/plain": [
              "0.5511111111111111"
            ]
          },
          "metadata": {
            "tags": []
          },
          "execution_count": 33
        }
      ]
    },
    {
      "cell_type": "markdown",
      "metadata": {
        "id": "2QVPrafCT5Nn",
        "colab_type": "text"
      },
      "source": [
        "## 2.DecisionTreeClassifier"
      ]
    },
    {
      "cell_type": "code",
      "metadata": {
        "id": "bFsDoP4RH4iz",
        "colab_type": "code",
        "outputId": "7a0f4209-e1b9-4ec2-96d0-fbdcd67c93f7",
        "colab": {
          "base_uri": "https://localhost:8080/",
          "height": 374
        }
      },
      "source": [
        "import numpy as np\n",
        "import matplotlib.pyplot as plt\n",
        "%matplotlib inline\n",
        "from sklearn.tree import DecisionTreeClassifier\n",
        "x = range(1, 50)\n",
        "train_s = []\n",
        "test_s = []\n",
        "for i in x:\n",
        "  model = DecisionTreeClassifier(max_depth = i)\n",
        "  model.fit(X_train, y_train)\n",
        "  train_s.append(model.score(X_train, y_train))\n",
        "  test_s.append(model.score(X_test, y_test))\n",
        "  \n",
        "plt.figure(figsize = (10, 6))\n",
        "plt.plot(x, train_s, c = 'r', label = 'Train score')\n",
        "plt.plot(x, test_s, c = 'g', label = 'Test score')\n",
        "plt.xticks(x)\n",
        "plt.legend()\n",
        "plt.grid()\n",
        "plt.show()"
      ],
      "execution_count": 0,
      "outputs": [
        {
          "output_type": "display_data",
          "data": {
            "image/png": "[encoded data removed]",
            "text/plain": [
              "<matplotlib.figure.Figure at 0x7f12e6704438>"
            ]
          },
          "metadata": {
            "tags": []
          }
        }
      ]
    },
    {
      "cell_type": "markdown",
      "metadata": {
        "id": "JKpqrVsBT8sU",
        "colab_type": "text"
      },
      "source": [
        "## 3.KNN"
      ]
    },
    {
      "cell_type": "code",
      "metadata": {
        "id": "HU1r-cwqI5MA",
        "colab_type": "code",
        "outputId": "8260c807-197e-4107-9d5d-7e4abc50b834",
        "colab": {
          "base_uri": "https://localhost:8080/",
          "height": 374
        }
      },
      "source": [
        "import numpy as np\n",
        "import matplotlib.pyplot as plt\n",
        "%matplotlib inline\n",
        "from sklearn.neighbors import KNeighborsClassifier\n",
        "X_train, X_test, y_train, y_test = train_test_split(X, y, test_size = .3)\n",
        "sc = StandardScaler()\n",
        "X_train = sc.fit_transform(X_train)\n",
        "X_test = sc.transform(X_test)\n",
        "x = range(40, 70)\n",
        "train_s = []\n",
        "test_s = []\n",
        "for i in x:\n",
        "  model = KNeighborsClassifier(i)\n",
        "  model.fit(X_train, y_train)\n",
        "  train_s.append(model.score(X_train, y_train))\n",
        "  test_s.append(model.score(X_test, y_test))\n",
        "  \n",
        "plt.figure(figsize = (10, 6))\n",
        "plt.plot(x, train_s, c = 'r', label = 'Train score')\n",
        "plt.plot(x, test_s, c = 'g', label = 'Test score')\n",
        "plt.xticks(x)\n",
        "plt.legend()\n",
        "plt.grid()\n",
        "plt.show()"
      ],
      "execution_count": 0,
      "outputs": [
        {
          "output_type": "display_data",
          "data": {
            "image/png": "[encoded data removed]",
            "text/plain": [
              "<matplotlib.figure.Figure at 0x7f12e5441cc0>"
            ]
          },
          "metadata": {
            "tags": []
          }
        }
      ]
    },
    {
      "cell_type": "code",
      "metadata": {
        "id": "5UK8DwfdMXNO",
        "colab_type": "code",
        "colab": {}
      },
      "source": [
        "X_transformed = sc.fit_transform(X)"
      ],
      "execution_count": 0,
      "outputs": []
    },
    {
      "cell_type": "code",
      "metadata": {
        "id": "bVBi4Y1qKqd8",
        "colab_type": "code",
        "outputId": "dd7e4509-4c37-4d66-9c3e-093f9404e7b6",
        "colab": {
          "base_uri": "https://localhost:8080/",
          "height": 398
        }
      },
      "source": [
        "import numpy as np\n",
        "import matplotlib.pyplot as plt\n",
        "%matplotlib inline\n",
        "from sklearn.neighbors import KNeighborsClassifier\n",
        "from sklearn.model_selection import cross_val_score\n",
        "x = range(1, 70)\n",
        "mean_score = []\n",
        "train_s = []\n",
        "test_s = []\n",
        "std = []\n",
        "for i in x:\n",
        "  model = KNeighborsClassifier(i)\n",
        "  cv = cross_val_score(model, X, y, cv = 10)\n",
        "  #model.fit(X_train, y_train)\n",
        "  #train_s.append(model.score(X_train, y_train))\n",
        "  #test_s.append(model.score(X_test, y_test))\n",
        "  std.append(cv.std())\n",
        "  mean = np.mean(cv)\n",
        "  mean_score.append(mean)\n",
        "  \n",
        "plt.figure(figsize = (30, 6))\n",
        "plt.plot(x, mean_score, c = 'b', label = 'Mean score')\n",
        "#plt.plot(x, train_s, c = 'r', label = 'Train score')\n",
        "#plt.plot(x, test_s, c = 'g', label = 'Test score')\n",
        "#plt.plot(x, std, c = 'g', label = 'Variance')\n",
        "plt.xticks(x)\n",
        "plt.legend()\n",
        "plt.grid()\n",
        "plt.show()"
      ],
      "execution_count": 35,
      "outputs": [
        {
          "output_type": "display_data",
          "data": {
            "image/png": "[encoded data removed]",
            "text/plain": [
              "<Figure size 2160x432 with 1 Axes>"
            ]
          },
          "metadata": {
            "tags": []
          }
        }
      ]
    },
    {
      "cell_type": "markdown",
      "metadata": {
        "id": "gefmuS_eYAFS",
        "colab_type": "text"
      },
      "source": [
        "## 4.RandomForestClassifier"
      ]
    },
    {
      "cell_type": "code",
      "metadata": {
        "id": "HK0SPApnU1tU",
        "colab_type": "code",
        "outputId": "8d86ad8c-0773-47cf-b22b-7b64cbcb0bf9",
        "colab": {
          "base_uri": "https://localhost:8080/",
          "height": 374
        }
      },
      "source": [
        "from sklearn.ensemble import RandomForestClassifier\n",
        "import numpy as np\n",
        "import matplotlib.pyplot as plt\n",
        "%matplotlib inline\n",
        "x = range(10, 300, 50)\n",
        "train_s = []\n",
        "test_s = []\n",
        "for i in x:\n",
        "  model = RandomForestClassifier(n_estimators = i, max_depth = 10)\n",
        "  model.fit(X_train, y_train)\n",
        "  train_s.append(model.score(X_train, y_train))\n",
        "  test_s.append(model.score(X_test, y_test))\n",
        "  \n",
        "plt.figure(figsize = (10, 6))\n",
        "plt.plot(x, train_s, c = 'r', label = 'Train score')\n",
        "plt.plot(x, test_s, c = 'g', label = 'Test score')\n",
        "plt.xticks(x)\n",
        "plt.legend()\n",
        "plt.grid()\n",
        "plt.show()"
      ],
      "execution_count": 0,
      "outputs": [
        {
          "output_type": "display_data",
          "data": {
            "image/png": "[encoded data removed]",
            "text/plain": [
              "<matplotlib.figure.Figure at 0x7f12ef577550>"
            ]
          },
          "metadata": {
            "tags": []
          }
        }
      ]
    },
    {
      "cell_type": "markdown",
      "metadata": {
        "id": "eaDt5epML1kG",
        "colab_type": "text"
      },
      "source": [
        "# Clustering"
      ]
    },
    {
      "cell_type": "markdown",
      "metadata": {
        "id": "YpenSoVUPAGA",
        "colab_type": "text"
      },
      "source": [
        "## Heirarchical cluster"
      ]
    },
    {
      "cell_type": "code",
      "metadata": {
        "id": "gU9uH48GL92e",
        "colab_type": "code",
        "outputId": "05e543cf-4ffb-46d7-c1b7-db5c23d04e2d",
        "colab": {
          "base_uri": "https://localhost:8080/",
          "height": 430
        }
      },
      "source": [
        "import scipy.cluster.hierarchy as sch\n",
        "import numpy as np\n",
        "plt.figure(figsize = (10, 7))\n",
        "dendrogram = sch.dendrogram(sch.linkage(X, method = 'ward'))\n",
        "plt.axhline(y = 55000, linewidth=3, color='r',linestyle = '--', label = 'Optimal Horizontal Line')\n",
        "plt.plot(())\n",
        "#method = ward means we are minimizing the variance between clusters, before in k-means  cluster we are minimze the WCSS**\n",
        "plt.legend(bbox_to_anchor = (1.3, 1), fontsize = 'large')\n",
        "plt.show()"
      ],
      "execution_count": 0,
      "outputs": [
        {
          "output_type": "display_data",
          "data": {
            "image/png": "[encoded data removed]",
            "text/plain": [
              "<matplotlib.figure.Figure at 0x7f12e630a908>"
            ]
          },
          "metadata": {
            "tags": []
          }
        }
      ]
    },
    {
      "cell_type": "code",
      "metadata": {
        "id": "eLvQqMucYKGI",
        "colab_type": "code",
        "colab": {}
      },
      "source": [
        "optimal_clusters = 2"
      ],
      "execution_count": 0,
      "outputs": []
    },
    {
      "cell_type": "markdown",
      "metadata": {
        "id": "c-RAs7PZOFD5",
        "colab_type": "text"
      },
      "source": [
        "## KmeanCluster"
      ]
    },
    {
      "cell_type": "code",
      "metadata": {
        "id": "po75W0dQPI_T",
        "colab_type": "code",
        "outputId": "92cb74a2-bd18-4b8e-f8a1-27176e7a03aa",
        "colab": {
          "base_uri": "https://localhost:8080/",
          "height": 350
        }
      },
      "source": [
        "def optimal_clusters(X, step_size = 1, slope_threshold = 0.4 , end_point = 10):\n",
        "  from sklearn.cluster import KMeans\n",
        "  import numpy as np\n",
        "  wcss = []\n",
        "  #choose the step size for n_clusters\n",
        "  Range = range(1, end_point, step_size)\n",
        "  for i in Range:\n",
        "    model = KMeans(n_clusters = i, init = 'k-means++', n_init = 10)\n",
        "    #fit the model\n",
        "    model.fit(X)\n",
        "\n",
        "    #calculate wcss\n",
        "    wcss_this_cluster = model.inertia_\n",
        "    wcss.append(wcss_this_cluster)\n",
        "\n",
        "  #select optimal number of clusters\n",
        "  for i in range(len(wcss) - 1):\n",
        "    #calculate slope of line\n",
        "    slope = ((wcss[i] - wcss[i + 1])/step_size)/np.mean(wcss)\n",
        "    if slope > slope_threshold:\n",
        "      optimal_clusters, wcss_optimal = Range[i + 1], wcss[i+1]\n",
        "\n",
        "  plt.figure(figsize = (10, 5))\n",
        "  plt.plot(Range, wcss, c = 'r')\n",
        "  plt.scatter(optimal_clusters, wcss_optimal, c = 'orange', s = 200, edgecolors = 'black')\n",
        "  plt.annotate('optimal number of clusters',(optimal_clusters, wcss_optimal + 2 * min(wcss)))\n",
        "  plt.title('WCSS vs. no. of clusters')\n",
        "  plt.xlabel('No. of cluseters')\n",
        "  plt.ylabel('WCSS')\n",
        "  plt.xticks(Range, rotation = -20)\n",
        "  #plt.grid()\n",
        "  plt.show()\n",
        "  return optimal_clusters, wcss_optimal\n",
        "\n",
        "optimal_clusters, wcss_optimal = optimal_clusters(X, slope_threshold = 0.5)"
      ],
      "execution_count": 0,
      "outputs": [
        {
          "output_type": "display_data",
          "data": {
            "image/png": "[encoded data removed]",
            "text/plain": [
              "<matplotlib.figure.Figure at 0x7f12e5eeacf8>"
            ]
          },
          "metadata": {
            "tags": []
          }
        }
      ]
    },
    {
      "cell_type": "code",
      "metadata": {
        "id": "6W54eXBWPXjA",
        "colab_type": "code",
        "colab": {}
      },
      "source": [
        "optimal_cluster = 2"
      ],
      "execution_count": 0,
      "outputs": []
    },
    {
      "cell_type": "markdown",
      "metadata": {
        "id": "tcF1TupuYPWr",
        "colab_type": "text"
      },
      "source": [
        "## fit model"
      ]
    },
    {
      "cell_type": "code",
      "metadata": {
        "id": "QiTnKA1aPkRc",
        "colab_type": "code",
        "colab": {}
      },
      "source": [
        "from sklearn.cluster import KMeans\n",
        "model = KMeans(2)"
      ],
      "execution_count": 0,
      "outputs": []
    },
    {
      "cell_type": "code",
      "metadata": {
        "id": "erAj52aiPnzx",
        "colab_type": "code",
        "colab": {}
      },
      "source": [
        "X_train_cls = model.fit_transform(X_train)\n",
        "X_test_cls = model.transform(X_test)"
      ],
      "execution_count": 0,
      "outputs": []
    },
    {
      "cell_type": "code",
      "metadata": {
        "id": "TIYS6X-WQEP4",
        "colab_type": "code",
        "outputId": "12117be1-25d9-4d4e-cd39-64303c513f50",
        "colab": {
          "base_uri": "https://localhost:8080/",
          "height": 102
        }
      },
      "source": [
        "X_train_cls[:5]"
      ],
      "execution_count": 39,
      "outputs": [
        {
          "output_type": "execute_result",
          "data": {
            "text/plain": [
              "array([[11.87063196,  5.72148409],\n",
              "       [11.52676581,  9.4373546 ],\n",
              "       [ 6.44799787, 10.1894141 ],\n",
              "       [ 5.33620097, 11.16203026],\n",
              "       [19.69094706,  9.49694708]])"
            ]
          },
          "metadata": {
            "tags": []
          },
          "execution_count": 39
        }
      ]
    },
    {
      "cell_type": "code",
      "metadata": {
        "id": "tsVsdAfUQHKJ",
        "colab_type": "code",
        "outputId": "fc9669dd-b3ab-4db6-fcfb-12c073fbd0ac",
        "colab": {
          "base_uri": "https://localhost:8080/",
          "height": 34
        }
      },
      "source": [
        "X_train_cls.shape"
      ],
      "execution_count": 40,
      "outputs": [
        {
          "output_type": "execute_result",
          "data": {
            "text/plain": [
              "(2100, 2)"
            ]
          },
          "metadata": {
            "tags": []
          },
          "execution_count": 40
        }
      ]
    },
    {
      "cell_type": "code",
      "metadata": {
        "id": "er0wEmDpQTry",
        "colab_type": "code",
        "outputId": "0710ee48-5d0b-41df-ef86-1002af10838c",
        "colab": {
          "base_uri": "https://localhost:8080/",
          "height": 34
        }
      },
      "source": [
        "X_test_cls.shape"
      ],
      "execution_count": 41,
      "outputs": [
        {
          "output_type": "execute_result",
          "data": {
            "text/plain": [
              "(900, 2)"
            ]
          },
          "metadata": {
            "tags": []
          },
          "execution_count": 41
        }
      ]
    },
    {
      "cell_type": "code",
      "metadata": {
        "id": "rf90tKC-d_oe",
        "colab_type": "code",
        "colab": {}
      },
      "source": [
        "model = KMeans(2)"
      ],
      "execution_count": 0,
      "outputs": []
    },
    {
      "cell_type": "code",
      "metadata": {
        "id": "T9zl4o8IQW1d",
        "colab_type": "code",
        "colab": {}
      },
      "source": [
        "model = KMeans(5)\n",
        "X_cls = model.fit_transform(X)"
      ],
      "execution_count": 0,
      "outputs": []
    },
    {
      "cell_type": "code",
      "metadata": {
        "id": "ngOlpV0QQvg0",
        "colab_type": "code",
        "outputId": "4c6d49fe-d01a-4311-ac7c-9fc59bab5a6f",
        "colab": {
          "base_uri": "https://localhost:8080/",
          "height": 34
        }
      },
      "source": [
        "X_cls.shape"
      ],
      "execution_count": 44,
      "outputs": [
        {
          "output_type": "execute_result",
          "data": {
            "text/plain": [
              "(3000, 5)"
            ]
          },
          "metadata": {
            "tags": []
          },
          "execution_count": 44
        }
      ]
    },
    {
      "cell_type": "code",
      "metadata": {
        "id": "kkw-GHJjQwpe",
        "colab_type": "code",
        "outputId": "1325a355-e712-48ec-aa27-31ce728b8628",
        "colab": {
          "base_uri": "https://localhost:8080/",
          "height": 396
        }
      },
      "source": [
        "choose_best_classifier(X_cls, y)"
      ],
      "execution_count": 46,
      "outputs": [
        {
          "output_type": "stream",
          "text": [
            "LR: 0.483667 (0.032777)\n",
            "LDA: 0.485000 (0.030450)\n",
            "KNN: 0.508000 (0.032971)\n",
            "DTree: 0.501000 (0.039329)\n",
            "NB: 0.507667 (0.039974)\n",
            "SVM: 0.488333 (0.036916)\n"
          ],
          "name": "stdout"
        },
        {
          "output_type": "display_data",
          "data": {
            "image/png": "[encoded data removed]",
            "text/plain": [
              "<Figure size 432x288 with 1 Axes>"
            ]
          },
          "metadata": {
            "tags": []
          }
        }
      ]
    },
    {
      "cell_type": "markdown",
      "metadata": {
        "id": "yCETQD8qeLo_",
        "colab_type": "text"
      },
      "source": [
        "# PCA"
      ]
    },
    {
      "cell_type": "code",
      "metadata": {
        "id": "s6W02_wzbnkr",
        "colab_type": "code",
        "colab": {}
      },
      "source": [
        "from sklearn.decomposition import PCA"
      ],
      "execution_count": 0,
      "outputs": []
    },
    {
      "cell_type": "markdown",
      "metadata": {
        "id": "qp4By1kHyriE",
        "colab_type": "text"
      },
      "source": [
        "## normalize X"
      ]
    },
    {
      "cell_type": "code",
      "metadata": {
        "id": "l4fQKMW3y1Ah",
        "colab_type": "code",
        "outputId": "50602d83-721d-4a04-a75f-c46caf3d41bc",
        "colab": {
          "base_uri": "https://localhost:8080/",
          "height": 34
        }
      },
      "source": [
        "from sklearn.preprocessing import StandardScaler\n",
        "sc = StandardScaler()\n",
        "X_scaled = sc.fit_transform(X)\n",
        "X_scaled.shape"
      ],
      "execution_count": 0,
      "outputs": [
        {
          "output_type": "execute_result",
          "data": {
            "text/plain": [
              "(3000, 100)"
            ]
          },
          "metadata": {
            "tags": []
          },
          "execution_count": 138
        }
      ]
    },
    {
      "cell_type": "code",
      "metadata": {
        "id": "ezgbbze1eTcQ",
        "colab_type": "code",
        "outputId": "a8182333-2a29-415e-a058-c4b9bc95e4f3",
        "colab": {
          "base_uri": "https://localhost:8080/",
          "height": 51
        }
      },
      "source": [
        "pca = PCA()\n",
        "pca.fit(X_scaled)"
      ],
      "execution_count": 0,
      "outputs": [
        {
          "output_type": "execute_result",
          "data": {
            "text/plain": [
              "PCA(copy=True, iterated_power='auto', n_components=None, random_state=None,\n",
              "  svd_solver='auto', tol=0.0, whiten=False)"
            ]
          },
          "metadata": {
            "tags": []
          },
          "execution_count": 154
        }
      ]
    },
    {
      "cell_type": "code",
      "metadata": {
        "id": "WUKZXT6EedJ-",
        "colab_type": "code",
        "outputId": "04e58028-1e6f-44c1-fb0b-53f80300b5d3",
        "colab": {
          "base_uri": "https://localhost:8080/",
          "height": 442
        }
      },
      "source": [
        "std = pca.explained_variance_ratio_\n",
        "std"
      ],
      "execution_count": 0,
      "outputs": [
        {
          "output_type": "execute_result",
          "data": {
            "text/plain": [
              "array([5.04237706e-01, 1.74421837e-01, 1.25954588e-01, 4.22752545e-02,\n",
              "       3.36213783e-02, 1.99171211e-02, 1.15079954e-02, 1.05110848e-02,\n",
              "       8.28916710e-03, 7.41691871e-03, 6.32445067e-03, 5.79906471e-03,\n",
              "       5.05404428e-03, 4.38839520e-03, 3.98103095e-03, 3.17287724e-03,\n",
              "       2.80536536e-03, 2.36378601e-03, 2.17710105e-03, 1.87495022e-03,\n",
              "       1.67885170e-03, 1.53784074e-03, 1.44524398e-03, 1.27973539e-03,\n",
              "       1.18944282e-03, 9.77462502e-04, 9.17173295e-04, 8.26598184e-04,\n",
              "       7.88358491e-04, 7.31678633e-04, 7.17401432e-04, 6.70401184e-04,\n",
              "       6.44797657e-04, 6.02580944e-04, 5.81155702e-04, 5.01423264e-04,\n",
              "       4.66570484e-04, 4.56217537e-04, 4.33453886e-04, 4.21970598e-04,\n",
              "       3.91960180e-04, 3.67465598e-04, 3.27031379e-04, 3.08302559e-04,\n",
              "       2.97700808e-04, 2.84793699e-04, 2.75366901e-04, 2.45652795e-04,\n",
              "       2.19074628e-04, 2.14384929e-04, 2.07181699e-04, 2.04101942e-04,\n",
              "       1.92144314e-04, 1.77489893e-04, 1.71384529e-04, 1.62871863e-04,\n",
              "       1.61897404e-04, 1.50576187e-04, 1.41850696e-04, 1.31390927e-04,\n",
              "       1.27571694e-04, 1.22685305e-04, 1.18560740e-04, 1.10146347e-04,\n",
              "       1.06803452e-04, 1.03015151e-04, 9.84978225e-05, 9.64061398e-05,\n",
              "       9.27303689e-05, 8.89439870e-05, 8.42418648e-05, 7.96672266e-05,\n",
              "       7.84115246e-05, 7.40828567e-05, 7.24203711e-05, 6.59232353e-05,\n",
              "       6.36475120e-05, 6.13452739e-05, 5.56816814e-05, 5.43948410e-05,\n",
              "       5.21867448e-05, 5.13796124e-05, 4.97767707e-05, 4.78073054e-05,\n",
              "       4.34634485e-05, 4.06858429e-05, 3.75231509e-05, 3.64126552e-05,\n",
              "       3.45021163e-05, 3.30387788e-05, 3.06518443e-05, 2.95929187e-05,\n",
              "       2.67458913e-05, 2.42463453e-05, 2.23376544e-05, 2.02087798e-05,\n",
              "       1.95737320e-05, 1.80527713e-05, 1.73595294e-05, 1.41788435e-05])"
            ]
          },
          "metadata": {
            "tags": []
          },
          "execution_count": 155
        }
      ]
    },
    {
      "cell_type": "markdown",
      "metadata": {
        "id": "QonJEDCH6wwp",
        "colab_type": "text"
      },
      "source": [
        "### Plot variance"
      ]
    },
    {
      "cell_type": "code",
      "metadata": {
        "id": "xNsIHypc52CY",
        "colab_type": "code",
        "outputId": "695f2f0a-905e-4e5c-b9f2-ef5732e1dd08",
        "colab": {
          "base_uri": "https://localhost:8080/",
          "height": 282
        }
      },
      "source": [
        "var1=np.cumsum(np.round(pca.explained_variance_ratio_, decimals=4)*100)\n",
        "plt.plot(var1)"
      ],
      "execution_count": 0,
      "outputs": [
        {
          "output_type": "execute_result",
          "data": {
            "text/plain": [
              "[<matplotlib.lines.Line2D at 0x7f12e4801a20>]"
            ]
          },
          "metadata": {
            "tags": []
          },
          "execution_count": 157
        },
        {
          "output_type": "display_data",
          "data": {
            "image/png": "[encoded data removed]",
            "text/plain": [
              "<matplotlib.figure.Figure at 0x7f12e65181d0>"
            ]
          },
          "metadata": {
            "tags": []
          }
        }
      ]
    },
    {
      "cell_type": "markdown",
      "metadata": {
        "id": "wAQSNvcB6ygQ",
        "colab_type": "text"
      },
      "source": [
        "**^^As we can see 100% of variance is explained by 40 principle components**"
      ]
    },
    {
      "cell_type": "code",
      "metadata": {
        "id": "0W2Rvao9ee6R",
        "colab_type": "code",
        "outputId": "cfc4c08d-398b-40fd-a9dd-d0cdbb450fbc",
        "colab": {
          "base_uri": "https://localhost:8080/",
          "height": 396
        }
      },
      "source": [
        "pca = PCA(30)\n",
        "X_pca = pca.fit_transform(X_scaled)\n",
        "choose_best_classifier(X_pca, y)"
      ],
      "execution_count": 0,
      "outputs": [
        {
          "output_type": "stream",
          "text": [
            "LR: 0.501667 (0.032770)\n",
            "LDA: 0.503000 (0.033680)\n",
            "KNN: 0.501667 (0.037543)\n",
            "DTree: 0.500000 (0.032318)\n",
            "NB: 0.497333 (0.030869)\n",
            "SVM: 0.500333 (0.039566)\n"
          ],
          "name": "stdout"
        },
        {
          "output_type": "display_data",
          "data": {
            "image/png": "[encoded data removed]",
            "text/plain": [
              "<matplotlib.figure.Figure at 0x7f12e4c86630>"
            ]
          },
          "metadata": {
            "tags": []
          }
        }
      ]
    },
    {
      "cell_type": "code",
      "metadata": {
        "id": "sYA9Vftn6O3o",
        "colab_type": "code",
        "colab": {}
      },
      "source": [
        ""
      ],
      "execution_count": 0,
      "outputs": []
    }
  ]
}