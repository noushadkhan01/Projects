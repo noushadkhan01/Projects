{
  "nbformat": 4,
  "nbformat_minor": 0,
  "metadata": {
    "colab": {
      "name": "classify wheather it decrease or increase.ipynb",
      "version": "0.3.2",
      "provenance": [],
      "collapsed_sections": [],
      "include_colab_link": true
    },
    "kernelspec": {
      "name": "python3",
      "display_name": "Python 3"
    },
    "accelerator": "GPU"
  },
  "cells": [
    {
      "cell_type": "markdown",
      "metadata": {
        "id": "view-in-github",
        "colab_type": "text"
      },
      "source": [
        "<a href=\"https://colab.research.google.com/github/noushadkhan01/Projects/blob/master/Machine-Learning/Clustering/KMean%20-%20Heirarchical%20Clustering/classify_wheather_stocks_decrease_or_increase.ipynb\" target=\"_parent\"><img src=\"https://colab.research.google.com/assets/colab-badge.svg\" alt=\"Open In Colab\"/></a>"
      ]
    },
    {
      "metadata": {
        "id": "dg30QMzNAbEU",
        "colab_type": "code",
        "colab": {
          "base_uri": "https://localhost:8080/",
          "height": 122
        },
        "outputId": "e0838440-db00-4376-d3a5-6766501567c4"
      },
      "cell_type": "code",
      "source": [
        "from google.colab import drive\n",
        "drive.mount('/content/gdrive')"
      ],
      "execution_count": 1,
      "outputs": [
        {
          "output_type": "stream",
          "text": [
            "Go to this URL in a browser: https://accounts.google.com/o/oauth2/auth?client_id=947318989803-6bn6qk8qdgf4n4g3pfee6491hc0brc4i.apps.googleusercontent.com&redirect_uri=urn%3Aietf%3Awg%3Aoauth%3A2.0%3Aoob&scope=email%20https%3A%2F%2Fwww.googleapis.com%2Fauth%2Fdocs.test%20https%3A%2F%2Fwww.googleapis.com%2Fauth%2Fdrive%20https%3A%2F%2Fwww.googleapis.com%2Fauth%2Fdrive.photos.readonly%20https%3A%2F%2Fwww.googleapis.com%2Fauth%2Fpeopleapi.readonly&response_type=code\n",
            "\n",
            "Enter your authorization code:\n",
            "··········\n",
            "Mounted at /content/gdrive\n"
          ],
          "name": "stdout"
        }
      ]
    },
    {
      "metadata": {
        "id": "-Bq762bxDolQ",
        "colab_type": "code",
        "colab": {
          "base_uri": "https://localhost:8080/",
          "height": 34
        },
        "outputId": "ea49ed33-4f65-47f7-c8bb-c62b50e13f97"
      },
      "cell_type": "code",
      "source": [
        "!ls"
      ],
      "execution_count": 15,
      "outputs": [
        {
          "output_type": "stream",
          "text": [
            "gdrive\tsample_data\n"
          ],
          "name": "stdout"
        }
      ]
    },
    {
      "metadata": {
        "id": "ExTcUtqMC-fC",
        "colab_type": "code",
        "colab": {}
      },
      "cell_type": "code",
      "source": [
        "df = pd.read_csv('gdrive/My Drive/stock_data.csv')"
      ],
      "execution_count": 0,
      "outputs": []
    },
    {
      "metadata": {
        "id": "WR6ZCy7sDd-9",
        "colab_type": "code",
        "colab": {
          "base_uri": "https://localhost:8080/",
          "height": 253
        },
        "outputId": "479b2b07-befb-424b-e72c-407c96459c01"
      },
      "cell_type": "code",
      "source": [
        "df.head()"
      ],
      "execution_count": 17,
      "outputs": [
        {
          "output_type": "execute_result",
          "data": {
            "text/html": [
              "<div>\n",
              "<style scoped>\n",
              "    .dataframe tbody tr th:only-of-type {\n",
              "        vertical-align: middle;\n",
              "    }\n",
              "\n",
              "    .dataframe tbody tr th {\n",
              "        vertical-align: top;\n",
              "    }\n",
              "\n",
              "    .dataframe thead th {\n",
              "        text-align: right;\n",
              "    }\n",
              "</style>\n",
              "<table border=\"1\" class=\"dataframe\">\n",
              "  <thead>\n",
              "    <tr style=\"text-align: right;\">\n",
              "      <th></th>\n",
              "      <th>X1</th>\n",
              "      <th>X2</th>\n",
              "      <th>X3</th>\n",
              "      <th>X4</th>\n",
              "      <th>X5</th>\n",
              "      <th>X6</th>\n",
              "      <th>X7</th>\n",
              "      <th>X8</th>\n",
              "      <th>X9</th>\n",
              "      <th>X10</th>\n",
              "      <th>...</th>\n",
              "      <th>X92</th>\n",
              "      <th>X93</th>\n",
              "      <th>X94</th>\n",
              "      <th>X95</th>\n",
              "      <th>X96</th>\n",
              "      <th>X97</th>\n",
              "      <th>X98</th>\n",
              "      <th>X99</th>\n",
              "      <th>X100</th>\n",
              "      <th>Y</th>\n",
              "    </tr>\n",
              "  </thead>\n",
              "  <tbody>\n",
              "    <tr>\n",
              "      <th>0</th>\n",
              "      <td>100.000000</td>\n",
              "      <td>100.000000</td>\n",
              "      <td>100.000000</td>\n",
              "      <td>100.000000</td>\n",
              "      <td>100.000000</td>\n",
              "      <td>100.000000</td>\n",
              "      <td>100.0000</td>\n",
              "      <td>100.000000</td>\n",
              "      <td>100.000000</td>\n",
              "      <td>100.000000</td>\n",
              "      <td>...</td>\n",
              "      <td>100.000000</td>\n",
              "      <td>100.000000</td>\n",
              "      <td>100.000000</td>\n",
              "      <td>100.000000</td>\n",
              "      <td>100.000000</td>\n",
              "      <td>100.000000</td>\n",
              "      <td>100.000000</td>\n",
              "      <td>100.000000</td>\n",
              "      <td>100.000000</td>\n",
              "      <td>1</td>\n",
              "    </tr>\n",
              "    <tr>\n",
              "      <th>1</th>\n",
              "      <td>91.567862</td>\n",
              "      <td>96.621901</td>\n",
              "      <td>98.084599</td>\n",
              "      <td>96.543909</td>\n",
              "      <td>91.678881</td>\n",
              "      <td>96.337918</td>\n",
              "      <td>96.1250</td>\n",
              "      <td>94.015957</td>\n",
              "      <td>94.409201</td>\n",
              "      <td>97.084183</td>\n",
              "      <td>...</td>\n",
              "      <td>96.888889</td>\n",
              "      <td>95.499022</td>\n",
              "      <td>97.457971</td>\n",
              "      <td>99.282297</td>\n",
              "      <td>101.296698</td>\n",
              "      <td>98.310678</td>\n",
              "      <td>100.489134</td>\n",
              "      <td>99.602234</td>\n",
              "      <td>93.263158</td>\n",
              "      <td>-1</td>\n",
              "    </tr>\n",
              "    <tr>\n",
              "      <th>2</th>\n",
              "      <td>92.908600</td>\n",
              "      <td>97.640753</td>\n",
              "      <td>103.112398</td>\n",
              "      <td>98.130312</td>\n",
              "      <td>78.041958</td>\n",
              "      <td>97.693843</td>\n",
              "      <td>95.6250</td>\n",
              "      <td>95.744681</td>\n",
              "      <td>94.089712</td>\n",
              "      <td>96.655229</td>\n",
              "      <td>...</td>\n",
              "      <td>97.333333</td>\n",
              "      <td>96.379804</td>\n",
              "      <td>93.397222</td>\n",
              "      <td>100.478469</td>\n",
              "      <td>101.179953</td>\n",
              "      <td>98.141624</td>\n",
              "      <td>96.084839</td>\n",
              "      <td>99.204467</td>\n",
              "      <td>86.421053</td>\n",
              "      <td>1</td>\n",
              "    </tr>\n",
              "    <tr>\n",
              "      <th>3</th>\n",
              "      <td>84.869178</td>\n",
              "      <td>94.369892</td>\n",
              "      <td>109.018217</td>\n",
              "      <td>102.209632</td>\n",
              "      <td>73.357203</td>\n",
              "      <td>100.676878</td>\n",
              "      <td>96.9166</td>\n",
              "      <td>93.085106</td>\n",
              "      <td>98.243067</td>\n",
              "      <td>98.113343</td>\n",
              "      <td>...</td>\n",
              "      <td>101.925926</td>\n",
              "      <td>95.988415</td>\n",
              "      <td>94.412410</td>\n",
              "      <td>100.956938</td>\n",
              "      <td>99.287025</td>\n",
              "      <td>102.027024</td>\n",
              "      <td>100.326263</td>\n",
              "      <td>103.985313</td>\n",
              "      <td>77.513179</td>\n",
              "      <td>1</td>\n",
              "    </tr>\n",
              "    <tr>\n",
              "      <th>4</th>\n",
              "      <td>88.888889</td>\n",
              "      <td>95.603221</td>\n",
              "      <td>108.459686</td>\n",
              "      <td>103.116147</td>\n",
              "      <td>77.832727</td>\n",
              "      <td>104.677398</td>\n",
              "      <td>100.8750</td>\n",
              "      <td>93.617021</td>\n",
              "      <td>100.000000</td>\n",
              "      <td>99.828542</td>\n",
              "      <td>...</td>\n",
              "      <td>102.074074</td>\n",
              "      <td>102.152642</td>\n",
              "      <td>105.579469</td>\n",
              "      <td>106.937799</td>\n",
              "      <td>101.651101</td>\n",
              "      <td>103.884995</td>\n",
              "      <td>106.688139</td>\n",
              "      <td>108.525205</td>\n",
              "      <td>85.736842</td>\n",
              "      <td>1</td>\n",
              "    </tr>\n",
              "  </tbody>\n",
              "</table>\n",
              "<p>5 rows × 101 columns</p>\n",
              "</div>"
            ],
            "text/plain": [
              "           X1          X2          X3          X4          X5          X6  \\\n",
              "0  100.000000  100.000000  100.000000  100.000000  100.000000  100.000000   \n",
              "1   91.567862   96.621901   98.084599   96.543909   91.678881   96.337918   \n",
              "2   92.908600   97.640753  103.112398   98.130312   78.041958   97.693843   \n",
              "3   84.869178   94.369892  109.018217  102.209632   73.357203  100.676878   \n",
              "4   88.888889   95.603221  108.459686  103.116147   77.832727  104.677398   \n",
              "\n",
              "         X7          X8          X9         X10 ...         X92         X93  \\\n",
              "0  100.0000  100.000000  100.000000  100.000000 ...  100.000000  100.000000   \n",
              "1   96.1250   94.015957   94.409201   97.084183 ...   96.888889   95.499022   \n",
              "2   95.6250   95.744681   94.089712   96.655229 ...   97.333333   96.379804   \n",
              "3   96.9166   93.085106   98.243067   98.113343 ...  101.925926   95.988415   \n",
              "4  100.8750   93.617021  100.000000   99.828542 ...  102.074074  102.152642   \n",
              "\n",
              "          X94         X95         X96         X97         X98         X99  \\\n",
              "0  100.000000  100.000000  100.000000  100.000000  100.000000  100.000000   \n",
              "1   97.457971   99.282297  101.296698   98.310678  100.489134   99.602234   \n",
              "2   93.397222  100.478469  101.179953   98.141624   96.084839   99.204467   \n",
              "3   94.412410  100.956938   99.287025  102.027024  100.326263  103.985313   \n",
              "4  105.579469  106.937799  101.651101  103.884995  106.688139  108.525205   \n",
              "\n",
              "         X100  Y  \n",
              "0  100.000000  1  \n",
              "1   93.263158 -1  \n",
              "2   86.421053  1  \n",
              "3   77.513179  1  \n",
              "4   85.736842  1  \n",
              "\n",
              "[5 rows x 101 columns]"
            ]
          },
          "metadata": {
            "tags": []
          },
          "execution_count": 17
        }
      ]
    },
    {
      "metadata": {
        "id": "Oe2qSVMqDfXH",
        "colab_type": "code",
        "colab": {
          "base_uri": "https://localhost:8080/",
          "height": 34
        },
        "outputId": "d4b39471-19c5-4262-b0cb-e236377ce4a4"
      },
      "cell_type": "code",
      "source": [
        "df.shape"
      ],
      "execution_count": 18,
      "outputs": [
        {
          "output_type": "execute_result",
          "data": {
            "text/plain": [
              "(3000, 101)"
            ]
          },
          "metadata": {
            "tags": []
          },
          "execution_count": 18
        }
      ]
    },
    {
      "metadata": {
        "id": "OzWKom1bD0qn",
        "colab_type": "code",
        "colab": {
          "base_uri": "https://localhost:8080/",
          "height": 34
        },
        "outputId": "d42f4e62-4429-4632-da7d-d9daefd430e5"
      },
      "cell_type": "code",
      "source": [
        "X = df.drop('Y', 1)\n",
        "X.shape"
      ],
      "execution_count": 125,
      "outputs": [
        {
          "output_type": "execute_result",
          "data": {
            "text/plain": [
              "(3000, 100)"
            ]
          },
          "metadata": {
            "tags": []
          },
          "execution_count": 125
        }
      ]
    },
    {
      "metadata": {
        "id": "1GAzxXf1ERcM",
        "colab_type": "code",
        "colab": {
          "base_uri": "https://localhost:8080/",
          "height": 34
        },
        "outputId": "e0657a54-2281-426e-8325-f526d9f0698e"
      },
      "cell_type": "code",
      "source": [
        "y = df.Y.values\n",
        "y.shape"
      ],
      "execution_count": 20,
      "outputs": [
        {
          "output_type": "execute_result",
          "data": {
            "text/plain": [
              "(3000,)"
            ]
          },
          "metadata": {
            "tags": []
          },
          "execution_count": 20
        }
      ]
    },
    {
      "metadata": {
        "id": "5MZJpfGQETxZ",
        "colab_type": "text"
      },
      "cell_type": "markdown",
      "source": [
        "# Feature Scaling"
      ]
    },
    {
      "metadata": {
        "id": "Ip53o6bXEW0D",
        "colab_type": "code",
        "colab": {}
      },
      "cell_type": "code",
      "source": [
        "from sklearn.preprocessing import StandardScaler"
      ],
      "execution_count": 0,
      "outputs": []
    },
    {
      "metadata": {
        "id": "b9TIMAF6EZ3w",
        "colab_type": "code",
        "colab": {}
      },
      "cell_type": "code",
      "source": [
        "from sklearn.model_selection import train_test_split"
      ],
      "execution_count": 0,
      "outputs": []
    },
    {
      "metadata": {
        "id": "OJZtu-mIEgQ2",
        "colab_type": "code",
        "colab": {
          "base_uri": "https://localhost:8080/",
          "height": 34
        },
        "outputId": "cf602651-ef2a-48fc-f241-188e73f3f252"
      },
      "cell_type": "code",
      "source": [
        "X_train, X_test, y_train, y_test = train_test_split(X, y, test_size = .3, random_state = 0)\n",
        "X_train.shape, X_test.shape, y_train.shape, y_test.shape"
      ],
      "execution_count": 24,
      "outputs": [
        {
          "output_type": "execute_result",
          "data": {
            "text/plain": [
              "((2100, 100), (900, 100), (2100,), (900,))"
            ]
          },
          "metadata": {
            "tags": []
          },
          "execution_count": 24
        }
      ]
    },
    {
      "metadata": {
        "id": "hg4huFb1Eqyo",
        "colab_type": "code",
        "colab": {}
      },
      "cell_type": "code",
      "source": [
        "sc = StandardScaler()\n",
        "X_train = sc.fit_transform(X_train)\n",
        "X_test = sc.transform(X_test)"
      ],
      "execution_count": 0,
      "outputs": []
    },
    {
      "metadata": {
        "id": "3RtnvPxNE3r1",
        "colab_type": "text"
      },
      "cell_type": "markdown",
      "source": [
        "# Train model"
      ]
    },
    {
      "metadata": {
        "id": "ZY-O9Lv-R3G1",
        "colab_type": "text"
      },
      "cell_type": "markdown",
      "source": [
        "## Checking which is best Classifier for our Dataset"
      ]
    },
    {
      "metadata": {
        "id": "JMIhTAiNFJPZ",
        "colab_type": "code",
        "colab": {
          "base_uri": "https://localhost:8080/",
          "height": 396
        },
        "outputId": "da29b374-442d-4412-ae8d-ddbeb07f67e5"
      },
      "cell_type": "code",
      "source": [
        "def bestClassifier(X, y, C = 1.0, n_neighbors = 5, max_depth = None):\n",
        "  import matplotlib.pyplot as plt\n",
        "  from sklearn import model_selection\n",
        "  from sklearn.model_selection import cross_val_score\n",
        "  from sklearn.linear_model import LogisticRegression\n",
        "  from sklearn.tree import DecisionTreeClassifier\n",
        "  from sklearn.neighbors import KNeighborsClassifier\n",
        "  from sklearn.discriminant_analysis import LinearDiscriminantAnalysis\n",
        "  from sklearn.naive_bayes import GaussianNB\n",
        "  from sklearn.svm import SVC \n",
        "  # prepare configuration for cross validation test harness\n",
        "  seed = 7\n",
        "  # prepare models\n",
        "  models = []\n",
        "  models.append(('LR', LogisticRegression(C = 1.0)))\n",
        "  models.append(('LDA', LinearDiscriminantAnalysis()))\n",
        "  models.append(('KNN', KNeighborsClassifier(n_neighbors = 5)))\n",
        "  models.append(('DTree', DecisionTreeClassifier(max_depth = None)))\n",
        "  models.append(('NB', GaussianNB()))\n",
        "  models.append(('SVM', SVC()))\n",
        "  # evaluate each model in turn\n",
        "  results = []\n",
        "  names = []\n",
        "  scoring = 'accuracy'\n",
        "  for name, model in models:\n",
        "    kfold = model_selection.KFold(n_splits=10, random_state=seed)\n",
        "    cv_results = model_selection.cross_val_score(model, X, y, cv=kfold, scoring=scoring)\n",
        "    results.append(cv_results)\n",
        "    names.append(name)\n",
        "    msg = \"%s: %f (%f)\" % (name, cv_results.mean(), cv_results.std())\n",
        "    print(msg)\n",
        "  # boxplot algorithm comparison\n",
        "  fig = plt.figure()\n",
        "  fig.suptitle('Algorithm Comparison')\n",
        "  ax = fig.add_subplot(111)\n",
        "  plt.boxplot(results)\n",
        "  ax.set_xticklabels(names)\n",
        "  plt.show()\n",
        "bestClassifier(X, y, n_neighbors = 31)"
      ],
      "execution_count": 103,
      "outputs": [
        {
          "output_type": "stream",
          "text": [
            "LR: 0.491000 (0.026627)\n",
            "LDA: 0.487000 (0.022728)\n",
            "KNN: 0.497000 (0.037311)\n",
            "DTree: 0.495667 (0.021294)\n",
            "NB: 0.501000 (0.033067)\n",
            "SVM: 0.489333 (0.037172)\n"
          ],
          "name": "stdout"
        },
        {
          "output_type": "display_data",
          "data": {
            "image/png": "[encoded data removed]",
            "text/plain": [
              "<matplotlib.figure.Figure at 0x7f12e543bc88>"
            ]
          },
          "metadata": {
            "tags": []
          }
        }
      ]
    },
    {
      "metadata": {
        "id": "qjX28VdLFsCg",
        "colab_type": "code",
        "colab": {}
      },
      "cell_type": "code",
      "source": [
        "from sklearn.linear_model import LogisticRegression"
      ],
      "execution_count": 0,
      "outputs": []
    },
    {
      "metadata": {
        "id": "BE1KHUAVZQ_f",
        "colab_type": "text"
      },
      "cell_type": "markdown",
      "source": [
        "## 1.NaiveBayes Classifier"
      ]
    },
    {
      "metadata": {
        "id": "4yqBv_mAZWez",
        "colab_type": "code",
        "colab": {}
      },
      "cell_type": "code",
      "source": [
        "from sklearn.naive_bayes import GaussianNB\n",
        "from sklearn.metrics import confusion_matrix, classification_report"
      ],
      "execution_count": 0,
      "outputs": []
    },
    {
      "metadata": {
        "id": "1c2B8CWBZar4",
        "colab_type": "code",
        "colab": {
          "base_uri": "https://localhost:8080/",
          "height": 187
        },
        "outputId": "fff4a43b-5719-471a-f45a-d5587790c799"
      },
      "cell_type": "code",
      "source": [
        "model = GaussianNB()\n",
        "model.fit(X_train, y_train)\n",
        "print(f'Train score is {model.score(X_train, y_train)}')\n",
        "print(f'Train score is {model.score(X_test, y_test)}')\n",
        "print(f'Train Confusion matrix is \\n {confusion_matrix(y_train, model.predict(X_train))}\\n\\n')\n",
        "print(f'Test Confusion matrix is \\n {confusion_matrix(y_test, model.predict(X_test))}')"
      ],
      "execution_count": 97,
      "outputs": [
        {
          "output_type": "stream",
          "text": [
            "Train score is 0.5114285714285715\n",
            "Train score is 0.5344444444444445\n",
            "Train Confusion matrix is \n",
            " [[455 620]\n",
            " [406 619]]\n",
            "\n",
            "\n",
            "Test Confusion matrix is \n",
            " [[200 233]\n",
            " [186 281]]\n"
          ],
          "name": "stdout"
        }
      ]
    },
    {
      "metadata": {
        "id": "HWRchUh3TuQg",
        "colab_type": "text"
      },
      "cell_type": "markdown",
      "source": [
        "## 1.LogisticRegression"
      ]
    },
    {
      "metadata": {
        "id": "T2n-R2NAHN4K",
        "colab_type": "code",
        "colab": {
          "base_uri": "https://localhost:8080/",
          "height": 374
        },
        "outputId": "9b474b4e-c8a5-4586-f271-bd54054b565b"
      },
      "cell_type": "code",
      "source": [
        "import numpy as np\n",
        "import matplotlib.pyplot as plt\n",
        "%matplotlib inline\n",
        "x = np.linspace(0.00001, 1, 50)\n",
        "train_s = []\n",
        "test_s = []\n",
        "for i in x:\n",
        "  model = LogisticRegression(C = i)\n",
        "  model.fit(X_train, y_train)\n",
        "  train_s.append(model.score(X_train, y_train))\n",
        "  test_s.append(model.score(X_test, y_test))\n",
        "  \n",
        "plt.figure(figsize = (10, 6))\n",
        "plt.plot(x, train_s, c = 'r', label = 'Train score')\n",
        "plt.plot(x, test_s, c = 'g', label = 'Test score')\n",
        "plt.xticks(x)\n",
        "plt.legend()\n",
        "plt.grid()\n",
        "plt.show()"
      ],
      "execution_count": 79,
      "outputs": [
        {
          "output_type": "display_data",
          "data": {
            "image/png": "[encoded data removed]",
            "text/plain": [
              "<matplotlib.figure.Figure at 0x7f12e57b9dd8>"
            ]
          },
          "metadata": {
            "tags": []
          }
        }
      ]
    },
    {
      "metadata": {
        "id": "pzzLWHeAUo_S",
        "colab_type": "code",
        "colab": {
          "base_uri": "https://localhost:8080/",
          "height": 34
        },
        "outputId": "9b604db8-4a8e-4293-cafc-29cbd66da861"
      },
      "cell_type": "code",
      "source": [
        "max(test_s)"
      ],
      "execution_count": 80,
      "outputs": [
        {
          "output_type": "execute_result",
          "data": {
            "text/plain": [
              "0.5511111111111111"
            ]
          },
          "metadata": {
            "tags": []
          },
          "execution_count": 80
        }
      ]
    },
    {
      "metadata": {
        "id": "w4ri4n2uUsnl",
        "colab_type": "code",
        "colab": {}
      },
      "cell_type": "code",
      "source": [
        ""
      ],
      "execution_count": 0,
      "outputs": []
    },
    {
      "metadata": {
        "id": "2QVPrafCT5Nn",
        "colab_type": "text"
      },
      "cell_type": "markdown",
      "source": [
        "## 2.DecisionTreeClassifier"
      ]
    },
    {
      "metadata": {
        "id": "bFsDoP4RH4iz",
        "colab_type": "code",
        "colab": {
          "base_uri": "https://localhost:8080/",
          "height": 374
        },
        "outputId": "7a0f4209-e1b9-4ec2-96d0-fbdcd67c93f7"
      },
      "cell_type": "code",
      "source": [
        "import numpy as np\n",
        "import matplotlib.pyplot as plt\n",
        "%matplotlib inline\n",
        "from sklearn.tree import DecisionTreeClassifier\n",
        "x = range(1, 50)\n",
        "train_s = []\n",
        "test_s = []\n",
        "for i in x:\n",
        "  model = DecisionTreeClassifier(max_depth = i)\n",
        "  model.fit(X_train, y_train)\n",
        "  train_s.append(model.score(X_train, y_train))\n",
        "  test_s.append(model.score(X_test, y_test))\n",
        "  \n",
        "plt.figure(figsize = (10, 6))\n",
        "plt.plot(x, train_s, c = 'r', label = 'Train score')\n",
        "plt.plot(x, test_s, c = 'g', label = 'Test score')\n",
        "plt.xticks(x)\n",
        "plt.legend()\n",
        "plt.grid()\n",
        "plt.show()"
      ],
      "execution_count": 36,
      "outputs": [
        {
          "output_type": "display_data",
          "data": {
            "image/png": "[encoded data removed]",
            "text/plain": [
              "<matplotlib.figure.Figure at 0x7f12e6704438>"
            ]
          },
          "metadata": {
            "tags": []
          }
        }
      ]
    },
    {
      "metadata": {
        "id": "JKpqrVsBT8sU",
        "colab_type": "text"
      },
      "cell_type": "markdown",
      "source": [
        "## 3.KNN"
      ]
    },
    {
      "metadata": {
        "id": "HU1r-cwqI5MA",
        "colab_type": "code",
        "colab": {
          "base_uri": "https://localhost:8080/",
          "height": 374
        },
        "outputId": "8260c807-197e-4107-9d5d-7e4abc50b834"
      },
      "cell_type": "code",
      "source": [
        "import numpy as np\n",
        "import matplotlib.pyplot as plt\n",
        "%matplotlib inline\n",
        "from sklearn.neighbors import KNeighborsClassifier\n",
        "X_train, X_test, y_train, y_test = train_test_split(X, y, test_size = .3)\n",
        "sc = StandardScaler()\n",
        "X_train = sc.fit_transform(X_train)\n",
        "X_test = sc.transform(X_test)\n",
        "x = range(40, 70)\n",
        "train_s = []\n",
        "test_s = []\n",
        "for i in x:\n",
        "  model = KNeighborsClassifier(i)\n",
        "  model.fit(X_train, y_train)\n",
        "  train_s.append(model.score(X_train, y_train))\n",
        "  test_s.append(model.score(X_test, y_test))\n",
        "  \n",
        "plt.figure(figsize = (10, 6))\n",
        "plt.plot(x, train_s, c = 'r', label = 'Train score')\n",
        "plt.plot(x, test_s, c = 'g', label = 'Test score')\n",
        "plt.xticks(x)\n",
        "plt.legend()\n",
        "plt.grid()\n",
        "plt.show()"
      ],
      "execution_count": 88,
      "outputs": [
        {
          "output_type": "display_data",
          "data": {
            "image/png": "[encoded data removed]",
            "text/plain": [
              "<matplotlib.figure.Figure at 0x7f12e5441cc0>"
            ]
          },
          "metadata": {
            "tags": []
          }
        }
      ]
    },
    {
      "metadata": {
        "id": "5UK8DwfdMXNO",
        "colab_type": "code",
        "colab": {}
      },
      "cell_type": "code",
      "source": [
        "X_transformed = sc.fit_transform(X)"
      ],
      "execution_count": 0,
      "outputs": []
    },
    {
      "metadata": {
        "id": "bVBi4Y1qKqd8",
        "colab_type": "code",
        "colab": {
          "base_uri": "https://localhost:8080/",
          "height": 394
        },
        "outputId": "159eda15-3664-410a-9b5d-ce4faae6d0c5"
      },
      "cell_type": "code",
      "source": [
        "import numpy as np\n",
        "import matplotlib.pyplot as plt\n",
        "%matplotlib inline\n",
        "from sklearn.neighbors import KNeighborsClassifier\n",
        "from sklearn.model_selection import cross_val_score\n",
        "x = range(1, 70)\n",
        "mean_score = []\n",
        "train_s = []\n",
        "test_s = []\n",
        "std = []\n",
        "for i in x:\n",
        "  model = KNeighborsClassifier(i)\n",
        "  cv = cross_val_score(model, X, y, cv = 10)\n",
        "  #model.fit(X_train, y_train)\n",
        "  #train_s.append(model.score(X_train, y_train))\n",
        "  #test_s.append(model.score(X_test, y_test))\n",
        "  std.append(cv.std())\n",
        "  mean = np.mean(cv)\n",
        "  mean_score.append(mean)\n",
        "  \n",
        "plt.figure(figsize = (30, 6))\n",
        "plt.plot(x, mean_score, c = 'b', label = 'Mean score')\n",
        "#plt.plot(x, train_s, c = 'r', label = 'Train score')\n",
        "#plt.plot(x, test_s, c = 'g', label = 'Test score')\n",
        "#plt.plot(x, std, c = 'g', label = 'Variance')\n",
        "plt.xticks(x)\n",
        "plt.legend()\n",
        "plt.grid()\n",
        "plt.show()"
      ],
      "execution_count": 89,
      "outputs": [
        {
          "output_type": "display_data",
          "data": {
            "image/png": "[encoded data removed]",
            "text/plain": [
              "<matplotlib.figure.Figure at 0x7f12e53c0d30>"
            ]
          },
          "metadata": {
            "tags": []
          }
        }
      ]
    },
    {
      "metadata": {
        "id": "gefmuS_eYAFS",
        "colab_type": "text"
      },
      "cell_type": "markdown",
      "source": [
        "## 4.RandomForestClassifier"
      ]
    },
    {
      "metadata": {
        "id": "HK0SPApnU1tU",
        "colab_type": "code",
        "colab": {
          "base_uri": "https://localhost:8080/",
          "height": 374
        },
        "outputId": "8d86ad8c-0773-47cf-b22b-7b64cbcb0bf9"
      },
      "cell_type": "code",
      "source": [
        "from sklearn.ensemble import RandomForestClassifier\n",
        "import numpy as np\n",
        "import matplotlib.pyplot as plt\n",
        "%matplotlib inline\n",
        "x = range(10, 300, 50)\n",
        "train_s = []\n",
        "test_s = []\n",
        "for i in x:\n",
        "  model = RandomForestClassifier(n_estimators = i, max_depth = 10)\n",
        "  model.fit(X_train, y_train)\n",
        "  train_s.append(model.score(X_train, y_train))\n",
        "  test_s.append(model.score(X_test, y_test))\n",
        "  \n",
        "plt.figure(figsize = (10, 6))\n",
        "plt.plot(x, train_s, c = 'r', label = 'Train score')\n",
        "plt.plot(x, test_s, c = 'g', label = 'Test score')\n",
        "plt.xticks(x)\n",
        "plt.legend()\n",
        "plt.grid()\n",
        "plt.show()"
      ],
      "execution_count": 83,
      "outputs": [
        {
          "output_type": "display_data",
          "data": {
            "image/png": "[encoded data removed]",
            "text/plain": [
              "<matplotlib.figure.Figure at 0x7f12ef577550>"
            ]
          },
          "metadata": {
            "tags": []
          }
        }
      ]
    },
    {
      "metadata": {
        "id": "eaDt5epML1kG",
        "colab_type": "text"
      },
      "cell_type": "markdown",
      "source": [
        "# Clustering"
      ]
    },
    {
      "metadata": {
        "id": "YpenSoVUPAGA",
        "colab_type": "text"
      },
      "cell_type": "markdown",
      "source": [
        "## Heirarchical cluster"
      ]
    },
    {
      "metadata": {
        "id": "gU9uH48GL92e",
        "colab_type": "code",
        "colab": {
          "base_uri": "https://localhost:8080/",
          "height": 430
        },
        "outputId": "05e543cf-4ffb-46d7-c1b7-db5c23d04e2d"
      },
      "cell_type": "code",
      "source": [
        "import scipy.cluster.hierarchy as sch\n",
        "import matplotlib.pyplot as plt\n",
        "import numpy as np\n",
        "%matplotlib inline\n",
        "plt.figure(figsize = (10, 7))\n",
        "dendrogram = sch.dendrogram(sch.linkage(X, method = 'ward'))\n",
        "plt.axhline(y = 55000, linewidth=3, color='r',linestyle = '--', label = 'Optimal Horizontal Line')\n",
        "plt.plot(())\n",
        "#method = ward means we are minimizing the variance between clusters, before in k-means  cluster we are minimze the WCSS**\n",
        "plt.legend(bbox_to_anchor = (1.3, 1), fontsize = 'large')\n",
        "plt.show()"
      ],
      "execution_count": 57,
      "outputs": [
        {
          "output_type": "display_data",
          "data": {
            "image/png": "[encoded data removed]",
            "text/plain": [
              "<matplotlib.figure.Figure at 0x7f12e630a908>"
            ]
          },
          "metadata": {
            "tags": []
          }
        }
      ]
    },
    {
      "metadata": {
        "id": "eLvQqMucYKGI",
        "colab_type": "code",
        "colab": {}
      },
      "cell_type": "code",
      "source": [
        "optimal_clusters = 2"
      ],
      "execution_count": 0,
      "outputs": []
    },
    {
      "metadata": {
        "id": "c-RAs7PZOFD5",
        "colab_type": "text"
      },
      "cell_type": "markdown",
      "source": [
        "## KmeanCluster"
      ]
    },
    {
      "metadata": {
        "id": "po75W0dQPI_T",
        "colab_type": "code",
        "colab": {
          "base_uri": "https://localhost:8080/",
          "height": 350
        },
        "outputId": "92cb74a2-bd18-4b8e-f8a1-27176e7a03aa"
      },
      "cell_type": "code",
      "source": [
        "def optimal_clusters(X, step_size = 1, slope_threshold = 0.4 , end_point = 10):\n",
        "  from sklearn.cluster import KMeans\n",
        "  import numpy as np\n",
        "  wcss = []\n",
        "  #choose the step size for n_clusters\n",
        "  Range = range(1, end_point, step_size)\n",
        "  for i in Range:\n",
        "    model = KMeans(n_clusters = i, init = 'k-means++', n_init = 10)\n",
        "    #fit the model\n",
        "    model.fit(X)\n",
        "\n",
        "    #calculate wcss\n",
        "    wcss_this_cluster = model.inertia_\n",
        "    wcss.append(wcss_this_cluster)\n",
        "\n",
        "  #select optimal number of clusters\n",
        "  for i in range(len(wcss) - 1):\n",
        "    #calculate slope of line\n",
        "    slope = ((wcss[i] - wcss[i + 1])/step_size)/np.mean(wcss)\n",
        "    if slope > slope_threshold:\n",
        "      optimal_clusters, wcss_optimal = Range[i + 1], wcss[i+1]\n",
        "\n",
        "  plt.figure(figsize = (10, 5))\n",
        "  plt.plot(Range, wcss, c = 'r')\n",
        "  plt.scatter(optimal_clusters, wcss_optimal, c = 'orange', s = 200, edgecolors = 'black')\n",
        "  plt.annotate('optimal number of clusters',(optimal_clusters, wcss_optimal + 2 * min(wcss)))\n",
        "  plt.title('WCSS vs. no. of clusters')\n",
        "  plt.xlabel('No. of cluseters')\n",
        "  plt.ylabel('WCSS')\n",
        "  plt.xticks(Range, rotation = -20)\n",
        "  #plt.grid()\n",
        "  plt.show()\n",
        "  return optimal_clusters, wcss_optimal\n",
        "\n",
        "optimal_clusters, wcss_optimal = optimal_clusters(X, slope_threshold = 0.5)"
      ],
      "execution_count": 60,
      "outputs": [
        {
          "output_type": "display_data",
          "data": {
            "image/png": "[encoded data removed]",
            "text/plain": [
              "<matplotlib.figure.Figure at 0x7f12e5eeacf8>"
            ]
          },
          "metadata": {
            "tags": []
          }
        }
      ]
    },
    {
      "metadata": {
        "id": "6W54eXBWPXjA",
        "colab_type": "code",
        "colab": {}
      },
      "cell_type": "code",
      "source": [
        "optimal_cluster = 2"
      ],
      "execution_count": 0,
      "outputs": []
    },
    {
      "metadata": {
        "id": "tcF1TupuYPWr",
        "colab_type": "text"
      },
      "cell_type": "markdown",
      "source": [
        "## fit model"
      ]
    },
    {
      "metadata": {
        "id": "9O3J9W7XbX0m",
        "colab_type": "code",
        "colab": {}
      },
      "cell_type": "code",
      "source": [
        "del model"
      ],
      "execution_count": 0,
      "outputs": []
    },
    {
      "metadata": {
        "id": "QiTnKA1aPkRc",
        "colab_type": "code",
        "colab": {}
      },
      "cell_type": "code",
      "source": [
        "model = KMeans(2)"
      ],
      "execution_count": 0,
      "outputs": []
    },
    {
      "metadata": {
        "id": "erAj52aiPnzx",
        "colab_type": "code",
        "colab": {}
      },
      "cell_type": "code",
      "source": [
        "X_train_cls = model.fit_transform(X_train)\n",
        "X_test_cls = model.transform(X_test)"
      ],
      "execution_count": 0,
      "outputs": []
    },
    {
      "metadata": {
        "id": "TIYS6X-WQEP4",
        "colab_type": "code",
        "colab": {
          "base_uri": "https://localhost:8080/",
          "height": 34
        },
        "outputId": "888d086f-c50b-4b1b-e0c3-87d6fc57c0e4"
      },
      "cell_type": "code",
      "source": [
        "X_train_cls[0][:2]"
      ],
      "execution_count": 72,
      "outputs": [
        {
          "output_type": "execute_result",
          "data": {
            "text/plain": [
              "array([11.87063196,  5.72148409])"
            ]
          },
          "metadata": {
            "tags": []
          },
          "execution_count": 72
        }
      ]
    },
    {
      "metadata": {
        "id": "tsVsdAfUQHKJ",
        "colab_type": "code",
        "colab": {
          "base_uri": "https://localhost:8080/",
          "height": 34
        },
        "outputId": "c397dbca-39a0-40c6-c335-e1f7d36df020"
      },
      "cell_type": "code",
      "source": [
        "X_train_cls.shape"
      ],
      "execution_count": 73,
      "outputs": [
        {
          "output_type": "execute_result",
          "data": {
            "text/plain": [
              "(2100, 2)"
            ]
          },
          "metadata": {
            "tags": []
          },
          "execution_count": 73
        }
      ]
    },
    {
      "metadata": {
        "id": "er0wEmDpQTry",
        "colab_type": "code",
        "colab": {
          "base_uri": "https://localhost:8080/",
          "height": 34
        },
        "outputId": "d708ca0b-4803-44b7-a384-6d3d2fd274ba"
      },
      "cell_type": "code",
      "source": [
        "X_test_cls.shape"
      ],
      "execution_count": 74,
      "outputs": [
        {
          "output_type": "execute_result",
          "data": {
            "text/plain": [
              "(900, 2)"
            ]
          },
          "metadata": {
            "tags": []
          },
          "execution_count": 74
        }
      ]
    },
    {
      "metadata": {
        "id": "rf90tKC-d_oe",
        "colab_type": "code",
        "colab": {}
      },
      "cell_type": "code",
      "source": [
        "model = KMeans(2)"
      ],
      "execution_count": 0,
      "outputs": []
    },
    {
      "metadata": {
        "id": "T9zl4o8IQW1d",
        "colab_type": "code",
        "colab": {}
      },
      "cell_type": "code",
      "source": [
        "model = KMeans(5)\n",
        "X_cls = model.fit_transform(X)"
      ],
      "execution_count": 0,
      "outputs": []
    },
    {
      "metadata": {
        "id": "ngOlpV0QQvg0",
        "colab_type": "code",
        "colab": {
          "base_uri": "https://localhost:8080/",
          "height": 34
        },
        "outputId": "6962b885-7f31-4e69-adcb-8cd4b5ed2a84"
      },
      "cell_type": "code",
      "source": [
        "X_cls.shape"
      ],
      "execution_count": 113,
      "outputs": [
        {
          "output_type": "execute_result",
          "data": {
            "text/plain": [
              "(3000, 5)"
            ]
          },
          "metadata": {
            "tags": []
          },
          "execution_count": 113
        }
      ]
    },
    {
      "metadata": {
        "id": "kkw-GHJjQwpe",
        "colab_type": "code",
        "colab": {
          "base_uri": "https://localhost:8080/",
          "height": 396
        },
        "outputId": "dac35441-2fe1-4a58-d8b3-10aaae31b220"
      },
      "cell_type": "code",
      "source": [
        "bestClassifier(X_cls, y)"
      ],
      "execution_count": 114,
      "outputs": [
        {
          "output_type": "stream",
          "text": [
            "LR: 0.485667 (0.037684)\n",
            "LDA: 0.482667 (0.033092)\n",
            "KNN: 0.504000 (0.032823)\n",
            "DTree: 0.497667 (0.036970)\n",
            "NB: 0.508667 (0.038621)\n",
            "SVM: 0.488333 (0.036916)\n"
          ],
          "name": "stdout"
        },
        {
          "output_type": "display_data",
          "data": {
            "image/png": "[encoded data removed]",
            "text/plain": [
              "<matplotlib.figure.Figure at 0x7f12e4420eb8>"
            ]
          },
          "metadata": {
            "tags": []
          }
        }
      ]
    },
    {
      "metadata": {
        "id": "yCETQD8qeLo_",
        "colab_type": "text"
      },
      "cell_type": "markdown",
      "source": [
        "# PCA"
      ]
    },
    {
      "metadata": {
        "id": "s6W02_wzbnkr",
        "colab_type": "code",
        "colab": {}
      },
      "cell_type": "code",
      "source": [
        "from sklearn.decomposition import PCA"
      ],
      "execution_count": 0,
      "outputs": []
    },
    {
      "metadata": {
        "id": "qp4By1kHyriE",
        "colab_type": "text"
      },
      "cell_type": "markdown",
      "source": [
        "## normalize X"
      ]
    },
    {
      "metadata": {
        "id": "l4fQKMW3y1Ah",
        "colab_type": "code",
        "colab": {
          "base_uri": "https://localhost:8080/",
          "height": 34
        },
        "outputId": "50602d83-721d-4a04-a75f-c46caf3d41bc"
      },
      "cell_type": "code",
      "source": [
        "from sklearn.preprocessing import StandardScaler\n",
        "sc = StandardScaler()\n",
        "X_scaled = sc.fit_transform(X)\n",
        "X_scaled.shape"
      ],
      "execution_count": 138,
      "outputs": [
        {
          "output_type": "execute_result",
          "data": {
            "text/plain": [
              "(3000, 100)"
            ]
          },
          "metadata": {
            "tags": []
          },
          "execution_count": 138
        }
      ]
    },
    {
      "metadata": {
        "id": "ezgbbze1eTcQ",
        "colab_type": "code",
        "colab": {
          "base_uri": "https://localhost:8080/",
          "height": 51
        },
        "outputId": "a8182333-2a29-415e-a058-c4b9bc95e4f3"
      },
      "cell_type": "code",
      "source": [
        "pca = PCA()\n",
        "pca.fit(X_scaled)"
      ],
      "execution_count": 154,
      "outputs": [
        {
          "output_type": "execute_result",
          "data": {
            "text/plain": [
              "PCA(copy=True, iterated_power='auto', n_components=None, random_state=None,\n",
              "  svd_solver='auto', tol=0.0, whiten=False)"
            ]
          },
          "metadata": {
            "tags": []
          },
          "execution_count": 154
        }
      ]
    },
    {
      "metadata": {
        "id": "WUKZXT6EedJ-",
        "colab_type": "code",
        "colab": {
          "base_uri": "https://localhost:8080/",
          "height": 442
        },
        "outputId": "04e58028-1e6f-44c1-fb0b-53f80300b5d3"
      },
      "cell_type": "code",
      "source": [
        "std = pca.explained_variance_ratio_\n",
        "std"
      ],
      "execution_count": 155,
      "outputs": [
        {
          "output_type": "execute_result",
          "data": {
            "text/plain": [
              "array([5.04237706e-01, 1.74421837e-01, 1.25954588e-01, 4.22752545e-02,\n",
              "       3.36213783e-02, 1.99171211e-02, 1.15079954e-02, 1.05110848e-02,\n",
              "       8.28916710e-03, 7.41691871e-03, 6.32445067e-03, 5.79906471e-03,\n",
              "       5.05404428e-03, 4.38839520e-03, 3.98103095e-03, 3.17287724e-03,\n",
              "       2.80536536e-03, 2.36378601e-03, 2.17710105e-03, 1.87495022e-03,\n",
              "       1.67885170e-03, 1.53784074e-03, 1.44524398e-03, 1.27973539e-03,\n",
              "       1.18944282e-03, 9.77462502e-04, 9.17173295e-04, 8.26598184e-04,\n",
              "       7.88358491e-04, 7.31678633e-04, 7.17401432e-04, 6.70401184e-04,\n",
              "       6.44797657e-04, 6.02580944e-04, 5.81155702e-04, 5.01423264e-04,\n",
              "       4.66570484e-04, 4.56217537e-04, 4.33453886e-04, 4.21970598e-04,\n",
              "       3.91960180e-04, 3.67465598e-04, 3.27031379e-04, 3.08302559e-04,\n",
              "       2.97700808e-04, 2.84793699e-04, 2.75366901e-04, 2.45652795e-04,\n",
              "       2.19074628e-04, 2.14384929e-04, 2.07181699e-04, 2.04101942e-04,\n",
              "       1.92144314e-04, 1.77489893e-04, 1.71384529e-04, 1.62871863e-04,\n",
              "       1.61897404e-04, 1.50576187e-04, 1.41850696e-04, 1.31390927e-04,\n",
              "       1.27571694e-04, 1.22685305e-04, 1.18560740e-04, 1.10146347e-04,\n",
              "       1.06803452e-04, 1.03015151e-04, 9.84978225e-05, 9.64061398e-05,\n",
              "       9.27303689e-05, 8.89439870e-05, 8.42418648e-05, 7.96672266e-05,\n",
              "       7.84115246e-05, 7.40828567e-05, 7.24203711e-05, 6.59232353e-05,\n",
              "       6.36475120e-05, 6.13452739e-05, 5.56816814e-05, 5.43948410e-05,\n",
              "       5.21867448e-05, 5.13796124e-05, 4.97767707e-05, 4.78073054e-05,\n",
              "       4.34634485e-05, 4.06858429e-05, 3.75231509e-05, 3.64126552e-05,\n",
              "       3.45021163e-05, 3.30387788e-05, 3.06518443e-05, 2.95929187e-05,\n",
              "       2.67458913e-05, 2.42463453e-05, 2.23376544e-05, 2.02087798e-05,\n",
              "       1.95737320e-05, 1.80527713e-05, 1.73595294e-05, 1.41788435e-05])"
            ]
          },
          "metadata": {
            "tags": []
          },
          "execution_count": 155
        }
      ]
    },
    {
      "metadata": {
        "id": "QonJEDCH6wwp",
        "colab_type": "text"
      },
      "cell_type": "markdown",
      "source": [
        "### Plot variance"
      ]
    },
    {
      "metadata": {
        "id": "xNsIHypc52CY",
        "colab_type": "code",
        "colab": {
          "base_uri": "https://localhost:8080/",
          "height": 282
        },
        "outputId": "695f2f0a-905e-4e5c-b9f2-ef5732e1dd08"
      },
      "cell_type": "code",
      "source": [
        "var1=np.cumsum(np.round(pca.explained_variance_ratio_, decimals=4)*100)\n",
        "plt.plot(var1)"
      ],
      "execution_count": 157,
      "outputs": [
        {
          "output_type": "execute_result",
          "data": {
            "text/plain": [
              "[<matplotlib.lines.Line2D at 0x7f12e4801a20>]"
            ]
          },
          "metadata": {
            "tags": []
          },
          "execution_count": 157
        },
        {
          "output_type": "display_data",
          "data": {
            "image/png": "[encoded data removed]",
            "text/plain": [
              "<matplotlib.figure.Figure at 0x7f12e65181d0>"
            ]
          },
          "metadata": {
            "tags": []
          }
        }
      ]
    },
    {
      "metadata": {
        "id": "wAQSNvcB6ygQ",
        "colab_type": "text"
      },
      "cell_type": "markdown",
      "source": [
        "**^^As we can see 100% of variance is explained by 40 principle components**"
      ]
    },
    {
      "metadata": {
        "id": "0W2Rvao9ee6R",
        "colab_type": "code",
        "colab": {
          "base_uri": "https://localhost:8080/",
          "height": 396
        },
        "outputId": "cfc4c08d-398b-40fd-a9dd-d0cdbb450fbc"
      },
      "cell_type": "code",
      "source": [
        "pca = PCA(30)\n",
        "X_pca = pca.fit_transform(X_scaled)\n",
        "bestClassifier(X_pca, y)"
      ],
      "execution_count": 160,
      "outputs": [
        {
          "output_type": "stream",
          "text": [
            "LR: 0.501667 (0.032770)\n",
            "LDA: 0.503000 (0.033680)\n",
            "KNN: 0.501667 (0.037543)\n",
            "DTree: 0.500000 (0.032318)\n",
            "NB: 0.497333 (0.030869)\n",
            "SVM: 0.500333 (0.039566)\n"
          ],
          "name": "stdout"
        },
        {
          "output_type": "display_data",
          "data": {
            "image/png": "[encoded data removed]",
            "text/plain": [
              "<matplotlib.figure.Figure at 0x7f12e4c86630>"
            ]
          },
          "metadata": {
            "tags": []
          }
        }
      ]
    },
    {
      "metadata": {
        "id": "sYA9Vftn6O3o",
        "colab_type": "code",
        "colab": {}
      },
      "cell_type": "code",
      "source": [
        ""
      ],
      "execution_count": 0,
      "outputs": []
    }
  ]
}