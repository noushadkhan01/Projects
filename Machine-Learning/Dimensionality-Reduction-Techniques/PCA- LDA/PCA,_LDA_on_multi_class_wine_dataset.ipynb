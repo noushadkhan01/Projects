{
  "nbformat": 4,
  "nbformat_minor": 0,
  "metadata": {
    "colab": {
      "name": "PCA, LDA on multi class wine dataset.ipynb",
      "version": "0.3.2",
      "provenance": [],
      "include_colab_link": true
    },
    "kernelspec": {
      "name": "python3",
      "display_name": "Python 3"
    },
    "accelerator": "GPU"
  },
  "cells": [
    {
      "cell_type": "markdown",
      "metadata": {
        "id": "view-in-github",
        "colab_type": "text"
      },
      "source": [
        "<a href=\"https://colab.research.google.com/github/noushadkhan01/Projects/blob/master/Machine-Learning/Dimensionality-Reduction-Techniques/PCA-%20LDA/PCA%2C_LDA_on_multi_class_wine_dataset.ipynb\" target=\"_parent\"><img src=\"https://colab.research.google.com/assets/colab-badge.svg\" alt=\"Open In Colab\"/></a>"
      ]
    },
    {
      "cell_type": "code",
      "metadata": {
        "id": "2xb4BS4cVOh8",
        "colab_type": "code",
        "colab": {}
      },
      "source": [
        "from sklearn.datasets import load_wine\n",
        "import pandas as pd\n",
        "import matplotlib.pyplot as plt\n",
        "%matplotlib inline"
      ],
      "execution_count": 0,
      "outputs": []
    },
    {
      "cell_type": "code",
      "metadata": {
        "id": "60RQUPddVZlT",
        "colab_type": "code",
        "colab": {}
      },
      "source": [
        "wine = load_wine()"
      ],
      "execution_count": 0,
      "outputs": []
    },
    {
      "cell_type": "code",
      "metadata": {
        "id": "wj-VA_fXVtJj",
        "colab_type": "code",
        "outputId": "e5f6cdea-9656-4152-af75-dd0613bb2bed",
        "colab": {
          "base_uri": "https://localhost:8080/",
          "height": 1000
        }
      },
      "source": [
        "print(wine.DESCR)"
      ],
      "execution_count": 3,
      "outputs": [
        {
          "output_type": "stream",
          "text": [
            ".. _wine_dataset:\n",
            "\n",
            "Wine recognition dataset\n",
            "------------------------\n",
            "\n",
            "**Data Set Characteristics:**\n",
            "\n",
            "    :Number of Instances: 178 (50 in each of three classes)\n",
            "    :Number of Attributes: 13 numeric, predictive attributes and the class\n",
            "    :Attribute Information:\n",
            " \t\t- Alcohol\n",
            " \t\t- Malic acid\n",
            " \t\t- Ash\n",
            "\t\t- Alcalinity of ash  \n",
            " \t\t- Magnesium\n",
            "\t\t- Total phenols\n",
            " \t\t- Flavanoids\n",
            " \t\t- Nonflavanoid phenols\n",
            " \t\t- Proanthocyanins\n",
            "\t\t- Color intensity\n",
            " \t\t- Hue\n",
            " \t\t- OD280/OD315 of diluted wines\n",
            " \t\t- Proline\n",
            "\n",
            "    - class:\n",
            "            - class_0\n",
            "            - class_1\n",
            "            - class_2\n",
            "\t\t\n",
            "    :Summary Statistics:\n",
            "    \n",
            "    ============================= ==== ===== ======= =====\n",
            "                                   Min   Max   Mean     SD\n",
            "    ============================= ==== ===== ======= =====\n",
            "    Alcohol:                      11.0  14.8    13.0   0.8\n",
            "    Malic Acid:                   0.74  5.80    2.34  1.12\n",
            "    Ash:                          1.36  3.23    2.36  0.27\n",
            "    Alcalinity of Ash:            10.6  30.0    19.5   3.3\n",
            "    Magnesium:                    70.0 162.0    99.7  14.3\n",
            "    Total Phenols:                0.98  3.88    2.29  0.63\n",
            "    Flavanoids:                   0.34  5.08    2.03  1.00\n",
            "    Nonflavanoid Phenols:         0.13  0.66    0.36  0.12\n",
            "    Proanthocyanins:              0.41  3.58    1.59  0.57\n",
            "    Colour Intensity:              1.3  13.0     5.1   2.3\n",
            "    Hue:                          0.48  1.71    0.96  0.23\n",
            "    OD280/OD315 of diluted wines: 1.27  4.00    2.61  0.71\n",
            "    Proline:                       278  1680     746   315\n",
            "    ============================= ==== ===== ======= =====\n",
            "\n",
            "    :Missing Attribute Values: None\n",
            "    :Class Distribution: class_0 (59), class_1 (71), class_2 (48)\n",
            "    :Creator: R.A. Fisher\n",
            "    :Donor: Michael Marshall (MARSHALL%PLU@io.arc.nasa.gov)\n",
            "    :Date: July, 1988\n",
            "\n",
            "This is a copy of UCI ML Wine recognition datasets.\n",
            "https://archive.ics.uci.edu/ml/machine-learning-databases/wine/wine.data\n",
            "\n",
            "The data is the results of a chemical analysis of wines grown in the same\n",
            "region in Italy by three different cultivators. There are thirteen different\n",
            "measurements taken for different constituents found in the three types of\n",
            "wine.\n",
            "\n",
            "Original Owners: \n",
            "\n",
            "Forina, M. et al, PARVUS - \n",
            "An Extendible Package for Data Exploration, Classification and Correlation. \n",
            "Institute of Pharmaceutical and Food Analysis and Technologies,\n",
            "Via Brigata Salerno, 16147 Genoa, Italy.\n",
            "\n",
            "Citation:\n",
            "\n",
            "Lichman, M. (2013). UCI Machine Learning Repository\n",
            "[https://archive.ics.uci.edu/ml]. Irvine, CA: University of California,\n",
            "School of Information and Computer Science. \n",
            "\n",
            ".. topic:: References\n",
            "\n",
            "  (1) S. Aeberhard, D. Coomans and O. de Vel, \n",
            "  Comparison of Classifiers in High Dimensional Settings, \n",
            "  Tech. Rep. no. 92-02, (1992), Dept. of Computer Science and Dept. of  \n",
            "  Mathematics and Statistics, James Cook University of North Queensland. \n",
            "  (Also submitted to Technometrics). \n",
            "\n",
            "  The data was used with many others for comparing various \n",
            "  classifiers. The classes are separable, though only RDA \n",
            "  has achieved 100% correct classification. \n",
            "  (RDA : 100%, QDA 99.4%, LDA 98.9%, 1NN 96.1% (z-transformed data)) \n",
            "  (All results using the leave-one-out technique) \n",
            "\n",
            "  (2) S. Aeberhard, D. Coomans and O. de Vel, \n",
            "  \"THE CLASSIFICATION PERFORMANCE OF RDA\" \n",
            "  Tech. Rep. no. 92-01, (1992), Dept. of Computer Science and Dept. of \n",
            "  Mathematics and Statistics, James Cook University of North Queensland. \n",
            "  (Also submitted to Journal of Chemometrics).\n",
            "\n"
          ],
          "name": "stdout"
        }
      ]
    },
    {
      "cell_type": "code",
      "metadata": {
        "id": "llwLAMq2VucL",
        "colab_type": "code",
        "outputId": "f6381eb9-fe9d-43f4-b91e-490c1cef701b",
        "colab": {
          "base_uri": "https://localhost:8080/",
          "height": 34
        }
      },
      "source": [
        "wine.keys()"
      ],
      "execution_count": 4,
      "outputs": [
        {
          "output_type": "execute_result",
          "data": {
            "text/plain": [
              "dict_keys(['data', 'target', 'target_names', 'DESCR', 'feature_names'])"
            ]
          },
          "metadata": {
            "tags": []
          },
          "execution_count": 4
        }
      ]
    },
    {
      "cell_type": "code",
      "metadata": {
        "id": "oMMGN8zdWDeG",
        "colab_type": "code",
        "outputId": "fa1a5e23-845c-4a2c-b2fc-07e750013e5e",
        "colab": {
          "base_uri": "https://localhost:8080/",
          "height": 131
        }
      },
      "source": [
        "X = pd.DataFrame(wine.data, columns = wine.feature_names)\n",
        "X.head(2)"
      ],
      "execution_count": 5,
      "outputs": [
        {
          "output_type": "execute_result",
          "data": {
            "text/html": [
              "<div>\n",
              "<style scoped>\n",
              "    .dataframe tbody tr th:only-of-type {\n",
              "        vertical-align: middle;\n",
              "    }\n",
              "\n",
              "    .dataframe tbody tr th {\n",
              "        vertical-align: top;\n",
              "    }\n",
              "\n",
              "    .dataframe thead th {\n",
              "        text-align: right;\n",
              "    }\n",
              "</style>\n",
              "<table border=\"1\" class=\"dataframe\">\n",
              "  <thead>\n",
              "    <tr style=\"text-align: right;\">\n",
              "      <th></th>\n",
              "      <th>alcohol</th>\n",
              "      <th>malic_acid</th>\n",
              "      <th>ash</th>\n",
              "      <th>alcalinity_of_ash</th>\n",
              "      <th>magnesium</th>\n",
              "      <th>total_phenols</th>\n",
              "      <th>flavanoids</th>\n",
              "      <th>nonflavanoid_phenols</th>\n",
              "      <th>proanthocyanins</th>\n",
              "      <th>color_intensity</th>\n",
              "      <th>hue</th>\n",
              "      <th>od280/od315_of_diluted_wines</th>\n",
              "      <th>proline</th>\n",
              "    </tr>\n",
              "  </thead>\n",
              "  <tbody>\n",
              "    <tr>\n",
              "      <th>0</th>\n",
              "      <td>14.23</td>\n",
              "      <td>1.71</td>\n",
              "      <td>2.43</td>\n",
              "      <td>15.6</td>\n",
              "      <td>127.0</td>\n",
              "      <td>2.80</td>\n",
              "      <td>3.06</td>\n",
              "      <td>0.28</td>\n",
              "      <td>2.29</td>\n",
              "      <td>5.64</td>\n",
              "      <td>1.04</td>\n",
              "      <td>3.92</td>\n",
              "      <td>1065.0</td>\n",
              "    </tr>\n",
              "    <tr>\n",
              "      <th>1</th>\n",
              "      <td>13.20</td>\n",
              "      <td>1.78</td>\n",
              "      <td>2.14</td>\n",
              "      <td>11.2</td>\n",
              "      <td>100.0</td>\n",
              "      <td>2.65</td>\n",
              "      <td>2.76</td>\n",
              "      <td>0.26</td>\n",
              "      <td>1.28</td>\n",
              "      <td>4.38</td>\n",
              "      <td>1.05</td>\n",
              "      <td>3.40</td>\n",
              "      <td>1050.0</td>\n",
              "    </tr>\n",
              "  </tbody>\n",
              "</table>\n",
              "</div>"
            ],
            "text/plain": [
              "   alcohol  malic_acid   ash  ...   hue  od280/od315_of_diluted_wines  proline\n",
              "0    14.23        1.71  2.43  ...  1.04                          3.92   1065.0\n",
              "1    13.20        1.78  2.14  ...  1.05                          3.40   1050.0\n",
              "\n",
              "[2 rows x 13 columns]"
            ]
          },
          "metadata": {
            "tags": []
          },
          "execution_count": 5
        }
      ]
    },
    {
      "cell_type": "code",
      "metadata": {
        "id": "wSvtDLFWWOoK",
        "colab_type": "code",
        "outputId": "957a8219-ef8d-40d6-c01b-94c66daa98e6",
        "colab": {
          "base_uri": "https://localhost:8080/",
          "height": 34
        }
      },
      "source": [
        "X.shape"
      ],
      "execution_count": 6,
      "outputs": [
        {
          "output_type": "execute_result",
          "data": {
            "text/plain": [
              "(178, 13)"
            ]
          },
          "metadata": {
            "tags": []
          },
          "execution_count": 6
        }
      ]
    },
    {
      "cell_type": "code",
      "metadata": {
        "id": "GaECe2boiXHo",
        "colab_type": "code",
        "outputId": "8cec501e-36a2-4b4b-c84f-7023716f2a68",
        "colab": {
          "base_uri": "https://localhost:8080/",
          "height": 34
        }
      },
      "source": [
        "y = wine.target\n",
        "y[:2]"
      ],
      "execution_count": 7,
      "outputs": [
        {
          "output_type": "execute_result",
          "data": {
            "text/plain": [
              "array([0, 0])"
            ]
          },
          "metadata": {
            "tags": []
          },
          "execution_count": 7
        }
      ]
    },
    {
      "cell_type": "markdown",
      "metadata": {
        "id": "Zd18sGaKWXxs",
        "colab_type": "text"
      },
      "source": [
        "# Scaled data"
      ]
    },
    {
      "cell_type": "code",
      "metadata": {
        "id": "mf-Y-3zGWddX",
        "colab_type": "code",
        "colab": {}
      },
      "source": [
        "from sklearn.model_selection import train_test_split, cross_val_score"
      ],
      "execution_count": 0,
      "outputs": []
    },
    {
      "cell_type": "code",
      "metadata": {
        "id": "O4pr_9zVWjPr",
        "colab_type": "code",
        "outputId": "d907502b-bd75-4b25-faf3-2076a71e2c02",
        "colab": {
          "base_uri": "https://localhost:8080/",
          "height": 34
        }
      },
      "source": [
        "X_train, X_test, y_train, y_test = train_test_split(X, y, test_size = .2, random_state = 0)\n",
        "X_train.shape, X_test.shape, y_train.shape, y_test.shape"
      ],
      "execution_count": 9,
      "outputs": [
        {
          "output_type": "execute_result",
          "data": {
            "text/plain": [
              "((142, 13), (36, 13), (142,), (36,))"
            ]
          },
          "metadata": {
            "tags": []
          },
          "execution_count": 9
        }
      ]
    },
    {
      "cell_type": "markdown",
      "metadata": {
        "id": "MQnUw6L20LeA",
        "colab_type": "text"
      },
      "source": [
        "#feature scaling"
      ]
    },
    {
      "cell_type": "code",
      "metadata": {
        "id": "PNuFPAZf0OEt",
        "colab_type": "code",
        "colab": {}
      },
      "source": [
        "from sklearn.preprocessing import StandardScaler"
      ],
      "execution_count": 0,
      "outputs": []
    },
    {
      "cell_type": "code",
      "metadata": {
        "id": "VGq35eJc0Syy",
        "colab_type": "code",
        "colab": {}
      },
      "source": [
        "sc = StandardScaler()\n",
        "X_train_scaled = sc.fit_transform(X_train)\n",
        "X_test_scaled = sc.transform(X_test)"
      ],
      "execution_count": 0,
      "outputs": []
    },
    {
      "cell_type": "markdown",
      "metadata": {
        "id": "ZuZqQQmdFw6v",
        "colab_type": "text"
      },
      "source": [
        "# check for best classifier for this dataset"
      ]
    },
    {
      "cell_type": "code",
      "metadata": {
        "id": "GsZtPfAR0jih",
        "colab_type": "code",
        "colab": {
          "base_uri": "https://localhost:8080/",
          "height": 153
        },
        "outputId": "277cdd5c-1dd3-4b01-f24f-659ac0165ada"
      },
      "source": [
        "!git clone https://github.com/noushadkhan01/my_methods\n",
        "%cd my_methods"
      ],
      "execution_count": 12,
      "outputs": [
        {
          "output_type": "stream",
          "text": [
            "Cloning into 'my_methods'...\n",
            "remote: Enumerating objects: 68, done.\u001b[K\n",
            "remote: Counting objects: 100% (68/68), done.\u001b[K\n",
            "remote: Compressing objects: 100% (68/68), done.\u001b[K\n",
            "remote: Total 221 (delta 39), reused 0 (delta 0), pack-reused 153\u001b[K\n",
            "Receiving objects: 100% (221/221), 58.09 KiB | 639.00 KiB/s, done.\n",
            "Resolving deltas: 100% (126/126), done.\n",
            "/content/my_methods\n"
          ],
          "name": "stdout"
        }
      ]
    },
    {
      "cell_type": "code",
      "metadata": {
        "id": "Xb7LfqDTohPM",
        "colab_type": "code",
        "colab": {}
      },
      "source": [
        "from choose_best_classifier import choose_best_classifier\n",
        "from print_model_results import print_model_results\n",
        "from get_cross_validation import get_cross_validation\n",
        "import my_global_variables\n",
        "my_global_variables.init()\n",
        "from visualise_classifier_performance import visualise_classifier_performance"
      ],
      "execution_count": 0,
      "outputs": []
    },
    {
      "cell_type": "code",
      "metadata": {
        "id": "z3hfJCDO09bb",
        "colab_type": "code",
        "colab": {}
      },
      "source": [
        "X_scaled = StandardScaler().fit_transform(X)"
      ],
      "execution_count": 0,
      "outputs": []
    },
    {
      "cell_type": "code",
      "metadata": {
        "id": "SEAYdKuJ6zs2",
        "colab_type": "code",
        "colab": {}
      },
      "source": [
        "import warnings\n",
        "warnings.filterwarnings(action = 'ignore')"
      ],
      "execution_count": 0,
      "outputs": []
    },
    {
      "cell_type": "code",
      "metadata": {
        "id": "gUZ6EQ5QjLnT",
        "colab_type": "code",
        "outputId": "0ac220b4-364d-4509-c98b-a345200363ee",
        "colab": {
          "base_uri": "https://localhost:8080/",
          "height": 396
        }
      },
      "source": [
        "choose_best_classifier(X_scaled, y)"
      ],
      "execution_count": 16,
      "outputs": [
        {
          "output_type": "stream",
          "text": [
            "LR: 0.972222 (0.037268)\n",
            "LDA: 0.961111 (0.035573)\n",
            "KNN: 0.944444 (0.060858)\n",
            "DTree: 0.849020 (0.110763)\n",
            "NB: 0.961111 (0.055833)\n",
            "SVM: 0.960784 (0.043527)\n"
          ],
          "name": "stdout"
        },
        {
          "output_type": "display_data",
          "data": {
            "image/png": "[encoded data removed]",
            "text/plain": [
              "<Figure size 432x288 with 1 Axes>"
            ]
          },
          "metadata": {
            "tags": []
          }
        }
      ]
    },
    {
      "cell_type": "markdown",
      "metadata": {
        "id": "OMNSXHnabxQf",
        "colab_type": "text"
      },
      "source": [
        "**^^As we can see best model is LDA for this dataset which have high score and low variance**"
      ]
    },
    {
      "cell_type": "markdown",
      "metadata": {
        "id": "o5YvbNTzF2jg",
        "colab_type": "text"
      },
      "source": [
        "# Train model"
      ]
    },
    {
      "cell_type": "markdown",
      "metadata": {
        "id": "HyzevgVPb61-",
        "colab_type": "text"
      },
      "source": [
        "## LDA"
      ]
    },
    {
      "cell_type": "code",
      "metadata": {
        "id": "P33gyv6ocAj-",
        "colab_type": "code",
        "colab": {}
      },
      "source": [
        "from sklearn.discriminant_analysis import LinearDiscriminantAnalysis as LDA"
      ],
      "execution_count": 0,
      "outputs": []
    },
    {
      "cell_type": "code",
      "metadata": {
        "colab_type": "code",
        "id": "D7QRS-uVd_et",
        "outputId": "2078aa4e-b7e4-43f6-cc4d-14c5284a1dfc",
        "colab": {
          "base_uri": "https://localhost:8080/",
          "height": 527
        }
      },
      "source": [
        "lda = LDA(n_components = 2)\n",
        "lda = print_model_results(X_train_scaled, X_test_scaled, y_train, y_test, lda)"
      ],
      "execution_count": 18,
      "outputs": [
        {
          "output_type": "stream",
          "text": [
            " Train score is 1.0\n",
            "\n",
            "\n",
            "Test score is 0.9722222222222222\n",
            "\n",
            "\n",
            "\n",
            "Train confusion matrix is \n",
            " [[45  0  0]\n",
            " [ 0 55  0]\n",
            " [ 0  0 42]]\n",
            "\n",
            "Test confusion matrix is \n",
            " [[14  0  0]\n",
            " [ 1 15  0]\n",
            " [ 0  0  6]]\n",
            "\n",
            "\n",
            "\n",
            "Test Set classification report is \n",
            "               precision    recall  f1-score   support\n",
            "\n",
            "           0       0.93      1.00      0.97        14\n",
            "           1       1.00      0.94      0.97        16\n",
            "           2       1.00      1.00      1.00         6\n",
            "\n",
            "    accuracy                           0.97        36\n",
            "   macro avg       0.98      0.98      0.98        36\n",
            "weighted avg       0.97      0.97      0.97        36\n",
            "\n"
          ],
          "name": "stdout"
        }
      ]
    },
    {
      "cell_type": "markdown",
      "metadata": {
        "id": "izE5VrX-E3cr",
        "colab_type": "text"
      },
      "source": [
        "# PCA\n",
        "**its unsupervised learning model**"
      ]
    },
    {
      "cell_type": "code",
      "metadata": {
        "id": "qWCmilkUFuP2",
        "colab_type": "code",
        "colab": {}
      },
      "source": [
        "from sklearn.decomposition import PCA"
      ],
      "execution_count": 0,
      "outputs": []
    },
    {
      "cell_type": "markdown",
      "metadata": {
        "id": "W5AcSgueOevp",
        "colab_type": "text"
      },
      "source": [
        "## check variance for all features"
      ]
    },
    {
      "cell_type": "code",
      "metadata": {
        "id": "RJuQEkhXOhza",
        "colab_type": "code",
        "colab": {}
      },
      "source": [
        "from sklearn.decomposition import PCA\n",
        "pca = PCA()\n",
        "X_pca = pca.fit_transform(X_scaled)"
      ],
      "execution_count": 0,
      "outputs": []
    },
    {
      "cell_type": "code",
      "metadata": {
        "id": "xt6F2X5-U4EO",
        "colab_type": "code",
        "outputId": "a8136e05-c23d-4333-cd54-32df7bf9be8e",
        "colab": {
          "base_uri": "https://localhost:8080/",
          "height": 68
        }
      },
      "source": [
        "variance = pca.explained_variance_ratio_\n",
        "variance"
      ],
      "execution_count": 21,
      "outputs": [
        {
          "output_type": "execute_result",
          "data": {
            "text/plain": [
              "array([0.36198848, 0.1920749 , 0.11123631, 0.0706903 , 0.06563294,\n",
              "       0.04935823, 0.04238679, 0.02680749, 0.02222153, 0.01930019,\n",
              "       0.01736836, 0.01298233, 0.00795215])"
            ]
          },
          "metadata": {
            "tags": []
          },
          "execution_count": 21
        }
      ]
    },
    {
      "cell_type": "code",
      "metadata": {
        "id": "GC3j-61yOtdE",
        "colab_type": "code",
        "outputId": "6198b10d-238a-474d-f01b-8e23641036df",
        "colab": {
          "base_uri": "https://localhost:8080/",
          "height": 432
        }
      },
      "source": [
        "def plot_variance(variance, figsize = (7, 7), linestyle = '-'):\n",
        "  import numpy as np\n",
        "  import matplotlib.pyplot as plt\n",
        "  import math\n",
        "  cum_variance = np.cumsum(variance)*100\n",
        "  cum_variance\n",
        "  plt.figure(figsize = figsize)\n",
        "  plt.plot(cum_variance, linestyle = linestyle)\n",
        "  plt.xticks(range(len(variance)))\n",
        "plot_variance(variance, linestyle = '--')\n",
        "plt.grid()"
      ],
      "execution_count": 22,
      "outputs": [
        {
          "output_type": "display_data",
          "data": {
            "image/png": "[encoded data removed]",
            "text/plain": [
              "<Figure size 504x504 with 1 Axes>"
            ]
          },
          "metadata": {
            "tags": []
          }
        }
      ]
    },
    {
      "cell_type": "markdown",
      "metadata": {
        "id": "_DDeVKNHRUNZ",
        "colab_type": "text"
      },
      "source": [
        "**^^As we can see most of the variance is described by 10 features so.. we can select 10 features at all**"
      ]
    },
    {
      "cell_type": "markdown",
      "metadata": {
        "id": "0DYnKsf7NX42",
        "colab_type": "text"
      },
      "source": [
        "### Train model"
      ]
    },
    {
      "cell_type": "markdown",
      "metadata": {
        "id": "ZR1xZ_Z_Rfjd",
        "colab_type": "text"
      },
      "source": [
        "**scaled X_train, X_test because for pca we need scaled features for better result**"
      ]
    },
    {
      "cell_type": "code",
      "metadata": {
        "id": "_IT_0okuNzy7",
        "colab_type": "code",
        "outputId": "e00c0df4-5eed-497b-d9cb-a9333cebbdfb",
        "colab": {
          "base_uri": "https://localhost:8080/",
          "height": 527
        }
      },
      "source": [
        "from sklearn.decomposition import PCA\n",
        "pca = PCA(2)\n",
        "X_train_pca = pca.fit_transform(X_train_scaled)\n",
        "X_test_pca = pca.transform(X_test_scaled)\n",
        "from sklearn.linear_model import LogisticRegression\n",
        "model = LogisticRegression()\n",
        "model = print_model_results(X_train_pca,X_test_pca, y_train, y_test, model)"
      ],
      "execution_count": 23,
      "outputs": [
        {
          "output_type": "stream",
          "text": [
            " Train score is 0.9647887323943662\n",
            "\n",
            "\n",
            "Test score is 0.9722222222222222\n",
            "\n",
            "\n",
            "\n",
            "Train confusion matrix is \n",
            " [[43  2  0]\n",
            " [ 2 52  1]\n",
            " [ 0  0 42]]\n",
            "\n",
            "Test confusion matrix is \n",
            " [[14  0  0]\n",
            " [ 1 15  0]\n",
            " [ 0  0  6]]\n",
            "\n",
            "\n",
            "\n",
            "Test Set classification report is \n",
            "               precision    recall  f1-score   support\n",
            "\n",
            "           0       0.93      1.00      0.97        14\n",
            "           1       1.00      0.94      0.97        16\n",
            "           2       1.00      1.00      1.00         6\n",
            "\n",
            "    accuracy                           0.97        36\n",
            "   macro avg       0.98      0.98      0.98        36\n",
            "weighted avg       0.97      0.97      0.97        36\n",
            "\n"
          ],
          "name": "stdout"
        }
      ]
    },
    {
      "cell_type": "markdown",
      "metadata": {
        "id": "Q30S43bXOVJf",
        "colab_type": "text"
      },
      "source": [
        "## cross_validation with pca"
      ]
    },
    {
      "cell_type": "code",
      "metadata": {
        "id": "yXQhHhUEG7d6",
        "colab_type": "code",
        "outputId": "723e2af3-2a63-4e8f-dc28-6cbeb67fad66",
        "colab": {
          "base_uri": "https://localhost:8080/",
          "height": 221
        }
      },
      "source": [
        "from sklearn.decomposition import PCA\n",
        "X_pca = PCA(2).fit_transform(X_scaled)\n",
        "model = LogisticRegression()\n",
        "get_cross_validation(X_pca, y, model)"
      ],
      "execution_count": 24,
      "outputs": [
        {
          "output_type": "stream",
          "text": [
            "10 fold cross-validation for -- LogisticRegression-- Model \n",
            "\n",
            "\n",
            "cross validation score for 10 fold cross-validation is:-- \n",
            " [0.94736842 0.94444444 1.         0.88888889 1.         0.94444444\n",
            " 0.94444444 1.         0.94117647 1.        ]\n",
            "\n",
            "\n",
            "variance in scores for 10 fold cross-validationn for LogisticRegression:-- 0.035616014686525255\n",
            "\n",
            "\n"
          ],
          "name": "stdout"
        },
        {
          "output_type": "execute_result",
          "data": {
            "text/plain": [
              "'Mean for 10 fold cross-validation score:-- 0.9610767113863089'"
            ]
          },
          "metadata": {
            "tags": []
          },
          "execution_count": 24
        }
      ]
    },
    {
      "cell_type": "markdown",
      "metadata": {
        "id": "ziBCJSbuQo2t",
        "colab_type": "text"
      },
      "source": [
        "## for visualisation"
      ]
    },
    {
      "cell_type": "code",
      "metadata": {
        "id": "zuZOPq8iT9t6",
        "colab_type": "code",
        "outputId": "9d7a0a8f-672b-4ed0-d9f2-24e150c0a48f",
        "colab": {
          "base_uri": "https://localhost:8080/",
          "height": 417
        }
      },
      "source": [
        "from sklearn.decomposition import PCA\n",
        "pca = PCA(2)\n",
        "X_train_pca = pca.fit_transform(X_train_scaled)\n",
        "X_test_pca = pca.transform(X_test_scaled)\n",
        "from sklearn.linear_model import LogisticRegression\n",
        "model = LogisticRegression()\n",
        "model.fit(X_train_pca, y_train)\n",
        "plt.figure(figsize = (15, 15))\n",
        "visualise_classifier_performance(X_train_pca,X_test_pca, y_train, y_test, model, x_label = 'PCA1', \n",
        "                                 y_label = 'PCA2', colors = ('red', 'green', 'blue'), loc = (.5, -.4))"
      ],
      "execution_count": 28,
      "outputs": [
        {
          "output_type": "stream",
          "text": [
            "LogisticRegression Classifier \n",
            "\n"
          ],
          "name": "stdout"
        },
        {
          "output_type": "display_data",
          "data": {
            "image/png": "[encoded data removed]",
            "text/plain": [
              "<Figure size 1080x1080 with 2 Axes>"
            ]
          },
          "metadata": {
            "tags": []
          }
        }
      ]
    },
    {
      "cell_type": "markdown",
      "metadata": {
        "id": "upuvxy6vUSQ-",
        "colab_type": "text"
      },
      "source": [
        "## LDA with LogisticRegression"
      ]
    },
    {
      "cell_type": "code",
      "metadata": {
        "id": "c-4vVI4fUT0l",
        "colab_type": "code",
        "colab": {}
      },
      "source": [
        "from sklearn.discriminant_analysis import LinearDiscriminantAnalysis"
      ],
      "execution_count": 0,
      "outputs": []
    },
    {
      "cell_type": "code",
      "metadata": {
        "id": "JL5YkT_zUdDs",
        "colab_type": "code",
        "outputId": "b9666525-54fd-4fdb-b886-1a5b4cdc1197",
        "colab": {
          "base_uri": "https://localhost:8080/",
          "height": 51
        }
      },
      "source": [
        "lda = LinearDiscriminantAnalysis(n_components = X_scaled.shape[1])\n",
        "lda.fit(X_scaled, y)"
      ],
      "execution_count": 30,
      "outputs": [
        {
          "output_type": "execute_result",
          "data": {
            "text/plain": [
              "LinearDiscriminantAnalysis(n_components=13, priors=None, shrinkage=None,\n",
              "                           solver='svd', store_covariance=False, tol=0.0001)"
            ]
          },
          "metadata": {
            "tags": []
          },
          "execution_count": 30
        }
      ]
    },
    {
      "cell_type": "code",
      "metadata": {
        "id": "ZH1gbdmlUnS4",
        "colab_type": "code",
        "outputId": "f7503c1e-9c7b-44f7-da94-a91a3688e814",
        "colab": {
          "base_uri": "https://localhost:8080/",
          "height": 34
        }
      },
      "source": [
        "variance = lda.explained_variance_ratio_\n",
        "variance"
      ],
      "execution_count": 31,
      "outputs": [
        {
          "output_type": "execute_result",
          "data": {
            "text/plain": [
              "array([0.68747889, 0.31252111])"
            ]
          },
          "metadata": {
            "tags": []
          },
          "execution_count": 31
        }
      ]
    },
    {
      "cell_type": "code",
      "metadata": {
        "id": "AtE6uzMC9F87",
        "colab_type": "code",
        "colab": {
          "base_uri": "https://localhost:8080/",
          "height": 432
        },
        "outputId": "0a4ce99f-9da6-42bb-98e5-aaf9d3089e22"
      },
      "source": [
        "plot_variance(variance)\n",
        "plt.grid()"
      ],
      "execution_count": 32,
      "outputs": [
        {
          "output_type": "display_data",
          "data": {
            "image/png": "[encoded data removed]",
            "text/plain": [
              "<Figure size 504x504 with 1 Axes>"
            ]
          },
          "metadata": {
            "tags": []
          }
        }
      ]
    },
    {
      "cell_type": "code",
      "metadata": {
        "id": "nrfEdETGew2c",
        "colab_type": "code",
        "colab": {}
      },
      "source": [
        "lda = LinearDiscriminantAnalysis(n_components = 2)\n",
        "X_train_lda = lda.fit_transform(X_train_scaled, y_train)\n",
        "X_test_lda = lda.transform(X_test_scaled)"
      ],
      "execution_count": 0,
      "outputs": []
    },
    {
      "cell_type": "code",
      "metadata": {
        "id": "X9t7FwlKe9hj",
        "colab_type": "code",
        "outputId": "80a762ce-737a-4a98-f006-4cf44f6ad227",
        "colab": {
          "base_uri": "https://localhost:8080/",
          "height": 527
        }
      },
      "source": [
        "from sklearn.linear_model import LogisticRegression\n",
        "model_lda = LogisticRegression()\n",
        "model_lda = print_model_results(X_train_lda, X_test_lda, y_train, y_test, model)"
      ],
      "execution_count": 34,
      "outputs": [
        {
          "output_type": "stream",
          "text": [
            " Train score is 0.9929577464788732\n",
            "\n",
            "\n",
            "Test score is 1.0\n",
            "\n",
            "\n",
            "\n",
            "Train confusion matrix is \n",
            " [[45  0  0]\n",
            " [ 0 54  1]\n",
            " [ 0  0 42]]\n",
            "\n",
            "Test confusion matrix is \n",
            " [[14  0  0]\n",
            " [ 0 16  0]\n",
            " [ 0  0  6]]\n",
            "\n",
            "\n",
            "\n",
            "Test Set classification report is \n",
            "               precision    recall  f1-score   support\n",
            "\n",
            "           0       1.00      1.00      1.00        14\n",
            "           1       1.00      1.00      1.00        16\n",
            "           2       1.00      1.00      1.00         6\n",
            "\n",
            "    accuracy                           1.00        36\n",
            "   macro avg       1.00      1.00      1.00        36\n",
            "weighted avg       1.00      1.00      1.00        36\n",
            "\n"
          ],
          "name": "stdout"
        }
      ]
    },
    {
      "cell_type": "markdown",
      "metadata": {
        "id": "4MR6hwrNfVj8",
        "colab_type": "text"
      },
      "source": [
        "### cross_val_score"
      ]
    },
    {
      "cell_type": "code",
      "metadata": {
        "id": "iq12OfMRfbjp",
        "colab_type": "code",
        "outputId": "c6c5b8d5-536b-422f-8cb1-042b18334a70",
        "colab": {
          "base_uri": "https://localhost:8080/",
          "height": 204
        }
      },
      "source": [
        "from get_cross_validation import get_cross_validation\n",
        "lda = LDA()\n",
        "X_lda = lda.fit_transform(X_scaled, y)\n",
        "model = LogisticRegression()\n",
        "get_cross_validation(X_lda, y, model)"
      ],
      "execution_count": 35,
      "outputs": [
        {
          "output_type": "stream",
          "text": [
            "10 fold cross-validation for -- LogisticRegression-- Model \n",
            "\n",
            "\n",
            "cross validation score for 10 fold cross-validation is:-- \n",
            " [1. 1. 1. 1. 1. 1. 1. 1. 1. 1.]\n",
            "\n",
            "\n",
            "variance in scores for 10 fold cross-validationn for LogisticRegression:-- 0.0\n",
            "\n",
            "\n"
          ],
          "name": "stdout"
        },
        {
          "output_type": "execute_result",
          "data": {
            "text/plain": [
              "'Mean for 10 fold cross-validation score:-- 1.0'"
            ]
          },
          "metadata": {
            "tags": []
          },
          "execution_count": 35
        }
      ]
    },
    {
      "cell_type": "markdown",
      "metadata": {
        "id": "FoW7SFIKBddk",
        "colab_type": "text"
      },
      "source": [
        "#PCA vs. LDA"
      ]
    },
    {
      "cell_type": "code",
      "metadata": {
        "id": "HfiDYP776Xa8",
        "colab_type": "code",
        "colab": {}
      },
      "source": [
        "model1 = LogisticRegression().fit(X_train_pca, y_train)\n",
        "model2 = LogisticRegression().fit(X_train_lda, y_train)"
      ],
      "execution_count": 0,
      "outputs": []
    },
    {
      "cell_type": "code",
      "metadata": {
        "id": "emJc90IB-fjm",
        "colab_type": "code",
        "colab": {
          "base_uri": "https://localhost:8080/",
          "height": 950
        },
        "outputId": "574a5398-c36f-4f26-8195-b6e27f57135f"
      },
      "source": [
        "plt.figure(figsize = (15, 13))\n",
        "visualise_classifier_performance(X_train_pca, X_test_pca, y_train, y_test,model1,x_label = 'PCA1', y_label = 'PCA2', colors = ('green', 'red', 'blue'),\n",
        "                                subplot = (2, 2, 1))\n",
        "visualise_classifier_performance(X_train_lda, X_test_lda, y_train, y_test,model2,  colors = ('green', 'red', 'blue'),\n",
        "                                x_label = 'LDA1', y_label = 'LDA2', subplot = (2, 2, 3), loc = (.5, -.4))\n",
        "#plt.show()"
      ],
      "execution_count": 37,
      "outputs": [
        {
          "output_type": "stream",
          "text": [
            "LogisticRegression Classifier \n",
            "\n",
            "LogisticRegression Classifier \n",
            "\n"
          ],
          "name": "stdout"
        },
        {
          "output_type": "display_data",
          "data": {
            "image/png": "[encoded data removed]",
            "text/plain": [
              "<Figure size 1080x936 with 4 Axes>"
            ]
          },
          "metadata": {
            "tags": []
          }
        }
      ]
    },
    {
      "cell_type": "code",
      "metadata": {
        "id": "L0TGfNY2_SOF",
        "colab_type": "code",
        "colab": {}
      },
      "source": [
        ""
      ],
      "execution_count": 0,
      "outputs": []
    }
  ]
}