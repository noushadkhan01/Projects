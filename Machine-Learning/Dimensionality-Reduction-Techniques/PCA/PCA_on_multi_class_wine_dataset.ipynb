{
  "nbformat": 4,
  "nbformat_minor": 0,
  "metadata": {
    "colab": {
      "name": "PCA on multi class wine dataset.ipynb",
      "version": "0.3.2",
      "provenance": [],
      "include_colab_link": true
    },
    "kernelspec": {
      "name": "python3",
      "display_name": "Python 3"
    },
    "accelerator": "GPU"
  },
  "cells": [
    {
      "cell_type": "markdown",
      "metadata": {
        "id": "view-in-github",
        "colab_type": "text"
      },
      "source": [
        "<a href=\"https://colab.research.google.com/github/noushadkhan01/Projects/blob/master/Machine-Learning/Dimensionality-Reduction-Techniques/PCA/PCA_on_multi_class_wine_dataset.ipynb\" target=\"_parent\"><img src=\"https://colab.research.google.com/assets/colab-badge.svg\" alt=\"Open In Colab\"/></a>"
      ]
    },
    {
      "cell_type": "code",
      "metadata": {
        "id": "2xb4BS4cVOh8",
        "colab_type": "code",
        "colab": {}
      },
      "source": [
        "from sklearn.datasets import load_wine\n",
        "import pandas as pd\n",
        "import matplotlib.pyplot as plt\n",
        "%matplotlib inline"
      ],
      "execution_count": 0,
      "outputs": []
    },
    {
      "cell_type": "code",
      "metadata": {
        "id": "60RQUPddVZlT",
        "colab_type": "code",
        "colab": {}
      },
      "source": [
        "wine = load_wine()"
      ],
      "execution_count": 0,
      "outputs": []
    },
    {
      "cell_type": "code",
      "metadata": {
        "id": "wj-VA_fXVtJj",
        "colab_type": "code",
        "outputId": "7f3c42ad-d523-4f89-8308-aaa6db5cd353",
        "colab": {
          "base_uri": "https://localhost:8080/",
          "height": 1000
        }
      },
      "source": [
        "print(wine.DESCR)"
      ],
      "execution_count": 3,
      "outputs": [
        {
          "output_type": "stream",
          "text": [
            ".. _wine_dataset:\n",
            "\n",
            "Wine recognition dataset\n",
            "------------------------\n",
            "\n",
            "**Data Set Characteristics:**\n",
            "\n",
            "    :Number of Instances: 178 (50 in each of three classes)\n",
            "    :Number of Attributes: 13 numeric, predictive attributes and the class\n",
            "    :Attribute Information:\n",
            " \t\t- Alcohol\n",
            " \t\t- Malic acid\n",
            " \t\t- Ash\n",
            "\t\t- Alcalinity of ash  \n",
            " \t\t- Magnesium\n",
            "\t\t- Total phenols\n",
            " \t\t- Flavanoids\n",
            " \t\t- Nonflavanoid phenols\n",
            " \t\t- Proanthocyanins\n",
            "\t\t- Color intensity\n",
            " \t\t- Hue\n",
            " \t\t- OD280/OD315 of diluted wines\n",
            " \t\t- Proline\n",
            "\n",
            "    - class:\n",
            "            - class_0\n",
            "            - class_1\n",
            "            - class_2\n",
            "\t\t\n",
            "    :Summary Statistics:\n",
            "    \n",
            "    ============================= ==== ===== ======= =====\n",
            "                                   Min   Max   Mean     SD\n",
            "    ============================= ==== ===== ======= =====\n",
            "    Alcohol:                      11.0  14.8    13.0   0.8\n",
            "    Malic Acid:                   0.74  5.80    2.34  1.12\n",
            "    Ash:                          1.36  3.23    2.36  0.27\n",
            "    Alcalinity of Ash:            10.6  30.0    19.5   3.3\n",
            "    Magnesium:                    70.0 162.0    99.7  14.3\n",
            "    Total Phenols:                0.98  3.88    2.29  0.63\n",
            "    Flavanoids:                   0.34  5.08    2.03  1.00\n",
            "    Nonflavanoid Phenols:         0.13  0.66    0.36  0.12\n",
            "    Proanthocyanins:              0.41  3.58    1.59  0.57\n",
            "    Colour Intensity:              1.3  13.0     5.1   2.3\n",
            "    Hue:                          0.48  1.71    0.96  0.23\n",
            "    OD280/OD315 of diluted wines: 1.27  4.00    2.61  0.71\n",
            "    Proline:                       278  1680     746   315\n",
            "    ============================= ==== ===== ======= =====\n",
            "\n",
            "    :Missing Attribute Values: None\n",
            "    :Class Distribution: class_0 (59), class_1 (71), class_2 (48)\n",
            "    :Creator: R.A. Fisher\n",
            "    :Donor: Michael Marshall (MARSHALL%PLU@io.arc.nasa.gov)\n",
            "    :Date: July, 1988\n",
            "\n",
            "This is a copy of UCI ML Wine recognition datasets.\n",
            "https://archive.ics.uci.edu/ml/machine-learning-databases/wine/wine.data\n",
            "\n",
            "The data is the results of a chemical analysis of wines grown in the same\n",
            "region in Italy by three different cultivators. There are thirteen different\n",
            "measurements taken for different constituents found in the three types of\n",
            "wine.\n",
            "\n",
            "Original Owners: \n",
            "\n",
            "Forina, M. et al, PARVUS - \n",
            "An Extendible Package for Data Exploration, Classification and Correlation. \n",
            "Institute of Pharmaceutical and Food Analysis and Technologies,\n",
            "Via Brigata Salerno, 16147 Genoa, Italy.\n",
            "\n",
            "Citation:\n",
            "\n",
            "Lichman, M. (2013). UCI Machine Learning Repository\n",
            "[https://archive.ics.uci.edu/ml]. Irvine, CA: University of California,\n",
            "School of Information and Computer Science. \n",
            "\n",
            ".. topic:: References\n",
            "\n",
            "  (1) S. Aeberhard, D. Coomans and O. de Vel, \n",
            "  Comparison of Classifiers in High Dimensional Settings, \n",
            "  Tech. Rep. no. 92-02, (1992), Dept. of Computer Science and Dept. of  \n",
            "  Mathematics and Statistics, James Cook University of North Queensland. \n",
            "  (Also submitted to Technometrics). \n",
            "\n",
            "  The data was used with many others for comparing various \n",
            "  classifiers. The classes are separable, though only RDA \n",
            "  has achieved 100% correct classification. \n",
            "  (RDA : 100%, QDA 99.4%, LDA 98.9%, 1NN 96.1% (z-transformed data)) \n",
            "  (All results using the leave-one-out technique) \n",
            "\n",
            "  (2) S. Aeberhard, D. Coomans and O. de Vel, \n",
            "  \"THE CLASSIFICATION PERFORMANCE OF RDA\" \n",
            "  Tech. Rep. no. 92-01, (1992), Dept. of Computer Science and Dept. of \n",
            "  Mathematics and Statistics, James Cook University of North Queensland. \n",
            "  (Also submitted to Journal of Chemometrics).\n",
            "\n"
          ],
          "name": "stdout"
        }
      ]
    },
    {
      "cell_type": "code",
      "metadata": {
        "id": "llwLAMq2VucL",
        "colab_type": "code",
        "outputId": "dc71690e-f7cf-430c-9f0d-083afcf59e4a",
        "colab": {
          "base_uri": "https://localhost:8080/",
          "height": 34
        }
      },
      "source": [
        "wine.keys()"
      ],
      "execution_count": 4,
      "outputs": [
        {
          "output_type": "execute_result",
          "data": {
            "text/plain": [
              "dict_keys(['data', 'target', 'target_names', 'DESCR', 'feature_names'])"
            ]
          },
          "metadata": {
            "tags": []
          },
          "execution_count": 4
        }
      ]
    },
    {
      "cell_type": "code",
      "metadata": {
        "id": "oMMGN8zdWDeG",
        "colab_type": "code",
        "outputId": "308320c0-794e-40aa-f831-2d1c40633971",
        "colab": {
          "base_uri": "https://localhost:8080/",
          "height": 131
        }
      },
      "source": [
        "X = pd.DataFrame(wine.data, columns = wine.feature_names)\n",
        "X.head(2)"
      ],
      "execution_count": 5,
      "outputs": [
        {
          "output_type": "execute_result",
          "data": {
            "text/html": [
              "<div>\n",
              "<style scoped>\n",
              "    .dataframe tbody tr th:only-of-type {\n",
              "        vertical-align: middle;\n",
              "    }\n",
              "\n",
              "    .dataframe tbody tr th {\n",
              "        vertical-align: top;\n",
              "    }\n",
              "\n",
              "    .dataframe thead th {\n",
              "        text-align: right;\n",
              "    }\n",
              "</style>\n",
              "<table border=\"1\" class=\"dataframe\">\n",
              "  <thead>\n",
              "    <tr style=\"text-align: right;\">\n",
              "      <th></th>\n",
              "      <th>alcohol</th>\n",
              "      <th>malic_acid</th>\n",
              "      <th>ash</th>\n",
              "      <th>alcalinity_of_ash</th>\n",
              "      <th>magnesium</th>\n",
              "      <th>total_phenols</th>\n",
              "      <th>flavanoids</th>\n",
              "      <th>nonflavanoid_phenols</th>\n",
              "      <th>proanthocyanins</th>\n",
              "      <th>color_intensity</th>\n",
              "      <th>hue</th>\n",
              "      <th>od280/od315_of_diluted_wines</th>\n",
              "      <th>proline</th>\n",
              "    </tr>\n",
              "  </thead>\n",
              "  <tbody>\n",
              "    <tr>\n",
              "      <th>0</th>\n",
              "      <td>14.23</td>\n",
              "      <td>1.71</td>\n",
              "      <td>2.43</td>\n",
              "      <td>15.6</td>\n",
              "      <td>127.0</td>\n",
              "      <td>2.80</td>\n",
              "      <td>3.06</td>\n",
              "      <td>0.28</td>\n",
              "      <td>2.29</td>\n",
              "      <td>5.64</td>\n",
              "      <td>1.04</td>\n",
              "      <td>3.92</td>\n",
              "      <td>1065.0</td>\n",
              "    </tr>\n",
              "    <tr>\n",
              "      <th>1</th>\n",
              "      <td>13.20</td>\n",
              "      <td>1.78</td>\n",
              "      <td>2.14</td>\n",
              "      <td>11.2</td>\n",
              "      <td>100.0</td>\n",
              "      <td>2.65</td>\n",
              "      <td>2.76</td>\n",
              "      <td>0.26</td>\n",
              "      <td>1.28</td>\n",
              "      <td>4.38</td>\n",
              "      <td>1.05</td>\n",
              "      <td>3.40</td>\n",
              "      <td>1050.0</td>\n",
              "    </tr>\n",
              "  </tbody>\n",
              "</table>\n",
              "</div>"
            ],
            "text/plain": [
              "   alcohol  malic_acid   ash  ...   hue  od280/od315_of_diluted_wines  proline\n",
              "0    14.23        1.71  2.43  ...  1.04                          3.92   1065.0\n",
              "1    13.20        1.78  2.14  ...  1.05                          3.40   1050.0\n",
              "\n",
              "[2 rows x 13 columns]"
            ]
          },
          "metadata": {
            "tags": []
          },
          "execution_count": 5
        }
      ]
    },
    {
      "cell_type": "code",
      "metadata": {
        "id": "wSvtDLFWWOoK",
        "colab_type": "code",
        "outputId": "ccfc6120-3e1a-4282-d76e-9d8962648e79",
        "colab": {
          "base_uri": "https://localhost:8080/",
          "height": 34
        }
      },
      "source": [
        "X.shape"
      ],
      "execution_count": 6,
      "outputs": [
        {
          "output_type": "execute_result",
          "data": {
            "text/plain": [
              "(178, 13)"
            ]
          },
          "metadata": {
            "tags": []
          },
          "execution_count": 6
        }
      ]
    },
    {
      "cell_type": "code",
      "metadata": {
        "id": "GaECe2boiXHo",
        "colab_type": "code",
        "outputId": "84d23c64-b231-483d-f3bf-6e05898af687",
        "colab": {
          "base_uri": "https://localhost:8080/",
          "height": 34
        }
      },
      "source": [
        "y = wine.target\n",
        "y[:2]"
      ],
      "execution_count": 7,
      "outputs": [
        {
          "output_type": "execute_result",
          "data": {
            "text/plain": [
              "array([0, 0])"
            ]
          },
          "metadata": {
            "tags": []
          },
          "execution_count": 7
        }
      ]
    },
    {
      "cell_type": "markdown",
      "metadata": {
        "id": "Zd18sGaKWXxs",
        "colab_type": "text"
      },
      "source": [
        "# Scaled data"
      ]
    },
    {
      "cell_type": "code",
      "metadata": {
        "id": "mf-Y-3zGWddX",
        "colab_type": "code",
        "colab": {}
      },
      "source": [
        "from sklearn.model_selection import train_test_split, cross_val_score"
      ],
      "execution_count": 0,
      "outputs": []
    },
    {
      "cell_type": "code",
      "metadata": {
        "id": "O4pr_9zVWjPr",
        "colab_type": "code",
        "outputId": "b7eaa37d-8daa-492a-d235-ca9c00dc1aea",
        "colab": {
          "base_uri": "https://localhost:8080/",
          "height": 34
        }
      },
      "source": [
        "X_train, X_test, y_train, y_test = train_test_split(X, y, test_size = .2, random_state = 0)\n",
        "X_train.shape, X_test.shape, y_train.shape, y_test.shape"
      ],
      "execution_count": 9,
      "outputs": [
        {
          "output_type": "execute_result",
          "data": {
            "text/plain": [
              "((142, 13), (36, 13), (142,), (36,))"
            ]
          },
          "metadata": {
            "tags": []
          },
          "execution_count": 9
        }
      ]
    },
    {
      "cell_type": "markdown",
      "metadata": {
        "id": "3NkVzR1mnJwk",
        "colab_type": "text"
      },
      "source": [
        "#feature scaling"
      ]
    },
    {
      "cell_type": "code",
      "metadata": {
        "id": "OlByZYlWnLtp",
        "colab_type": "code",
        "colab": {}
      },
      "source": [
        "from sklearn.preprocessing import StandardScaler"
      ],
      "execution_count": 0,
      "outputs": []
    },
    {
      "cell_type": "code",
      "metadata": {
        "id": "l1NzCvfKnQ5l",
        "colab_type": "code",
        "colab": {}
      },
      "source": [
        "sc = StandardScaler()\n",
        "X_train = sc.fit_transform(X_train)\n",
        "X_test = sc.transform(X_test)"
      ],
      "execution_count": 0,
      "outputs": []
    },
    {
      "cell_type": "code",
      "metadata": {
        "id": "i8hXVv_3k3hA",
        "colab_type": "code",
        "colab": {
          "base_uri": "https://localhost:8080/",
          "height": 136
        },
        "outputId": "0a4e7460-e16a-44e0-b0f3-bc34f4b21302"
      },
      "source": [
        "!git clone https://github.com/noushadkhan01/my_methods"
      ],
      "execution_count": 10,
      "outputs": [
        {
          "output_type": "stream",
          "text": [
            "Cloning into 'my_methods'...\n",
            "remote: Enumerating objects: 53, done.\u001b[K\n",
            "remote: Counting objects:   1% (1/53)   \u001b[K\rremote: Counting objects:   3% (2/53)   \u001b[K\rremote: Counting objects:   5% (3/53)   \u001b[K\rremote: Counting objects:   7% (4/53)   \u001b[K\rremote: Counting objects:   9% (5/53)   \u001b[K\rremote: Counting objects:  11% (6/53)   \u001b[K\rremote: Counting objects:  13% (7/53)   \u001b[K\rremote: Counting objects:  15% (8/53)   \u001b[K\rremote: Counting objects:  16% (9/53)   \u001b[K\rremote: Counting objects:  18% (10/53)   \u001b[K\rremote: Counting objects:  20% (11/53)   \u001b[K\rremote: Counting objects:  22% (12/53)   \u001b[K\rremote: Counting objects:  24% (13/53)   \u001b[K\rremote: Counting objects:  26% (14/53)   \u001b[K\rremote: Counting objects:  28% (15/53)   \u001b[K\rremote: Counting objects:  30% (16/53)   \u001b[K\rremote: Counting objects:  32% (17/53)   \u001b[K\rremote: Counting objects:  33% (18/53)   \u001b[K\rremote: Counting objects:  35% (19/53)   \u001b[K\rremote: Counting objects:  37% (20/53)   \u001b[K\rremote: Counting objects:  39% (21/53)   \u001b[K\rremote: Counting objects:  41% (22/53)   \u001b[K\rremote: Counting objects:  43% (23/53)   \u001b[K\rremote: Counting objects:  45% (24/53)   \u001b[K\rremote: Counting objects:  47% (25/53)   \u001b[K\rremote: Counting objects:  49% (26/53)   \u001b[K\rremote: Counting objects:  50% (27/53)   \u001b[K\rremote: Counting objects:  52% (28/53)   \u001b[K\rremote: Counting objects:  54% (29/53)   \u001b[K\rremote: Counting objects:  56% (30/53)   \u001b[K\rremote: Counting objects:  58% (31/53)   \u001b[K\rremote: Counting objects:  60% (32/53)   \u001b[K\rremote: Counting objects:  62% (33/53)   \u001b[K\rremote: Counting objects:  64% (34/53)   \u001b[K\rremote: Counting objects:  66% (35/53)   \u001b[K\rremote: Counting objects:  67% (36/53)   \u001b[K\rremote: Counting objects:  69% (37/53)   \u001b[K\rremote: Counting objects:  71% (38/53)   \u001b[K\rremote: Counting objects:  73% (39/53)   \u001b[K\rremote: Counting objects:  75% (40/53)   \u001b[K\rremote: Counting objects:  77% (41/53)   \u001b[K\rremote: Counting objects:  79% (42/53)   \u001b[K\rremote: Counting objects:  81% (43/53)   \u001b[K\rremote: Counting objects:  83% (44/53)   \u001b[K\rremote: Counting objects:  84% (45/53)   \u001b[K\rremote: Counting objects:  86% (46/53)   \u001b[K\rremote: Counting objects:  88% (47/53)   \u001b[K\rremote: Counting objects:  90% (48/53)   \u001b[K\rremote: Counting objects:  92% (49/53)   \u001b[K\rremote: Counting objects:  94% (50/53)   \u001b[K\rremote: Counting objects:  96% (51/53)   \u001b[K\rremote: Counting objects:  98% (52/53)   \u001b[K\rremote: Counting objects: 100% (53/53)   \u001b[K\rremote: Counting objects: 100% (53/53), done.\u001b[K\n",
            "remote: Compressing objects: 100% (53/53), done.\u001b[K\n",
            "remote: Total 206 (delta 30), reused 0 (delta 0), pack-reused 153\u001b[K\n",
            "Receiving objects: 100% (206/206), 53.91 KiB | 195.00 KiB/s, done.\n",
            "Resolving deltas: 100% (117/117), done.\n"
          ],
          "name": "stdout"
        }
      ]
    },
    {
      "cell_type": "code",
      "metadata": {
        "id": "Gi6QEoKAlOlS",
        "colab_type": "code",
        "colab": {
          "base_uri": "https://localhost:8080/",
          "height": 136
        },
        "outputId": "9740f708-287d-4710-db00-9c5005330bed"
      },
      "source": [
        "%cd my_methods\n",
        "!ls"
      ],
      "execution_count": 11,
      "outputs": [
        {
          "output_type": "stream",
          "text": [
            "/content/my_methods\n",
            "choose_best_classifier.py\t      my_global_variables.py\n",
            "choose_optimal_number_of_clusters.py  my_roc_curve.py\n",
            "get_cross_validation.py\t\t      print_model_results.py\n",
            "my_cap_curve.py\t\t\t      README.md\n",
            "my_dummy_variable_2.py\t\t      visualise_classifier_performance.py\n",
            "my_dummy_variable_creator.py\n"
          ],
          "name": "stdout"
        }
      ]
    },
    {
      "cell_type": "code",
      "metadata": {
        "id": "xibGHQtak82Z",
        "colab_type": "code",
        "colab": {}
      },
      "source": [
        "from choose_best_classifier import choose_best_classifier\n",
        "from print_model_results import print_model_results\n",
        "import my_global_variables\n",
        "from get_cross_validation import get_cross_validation\n",
        "from my_cap_curve import my_cap_curve\n",
        "from visualise_classifier_performance import visualise_classifier_performance"
      ],
      "execution_count": 0,
      "outputs": []
    },
    {
      "cell_type": "markdown",
      "metadata": {
        "id": "ZuZqQQmdFw6v",
        "colab_type": "text"
      },
      "source": [
        "# check for best classifier for this dataset"
      ]
    },
    {
      "cell_type": "code",
      "metadata": {
        "id": "F_UedE2HoIBu",
        "colab_type": "code",
        "colab": {
          "base_uri": "https://localhost:8080/",
          "height": 119
        },
        "outputId": "87530903-4d59-4ca3-8cd3-7d581f457ddd"
      },
      "source": [
        "X_scaled = StandardScaler().fit_transform(X)\n",
        "X_scaled[:2]"
      ],
      "execution_count": 19,
      "outputs": [
        {
          "output_type": "execute_result",
          "data": {
            "text/plain": [
              "array([[ 1.51861254, -0.5622498 ,  0.23205254, -1.16959318,  1.91390522,\n",
              "         0.80899739,  1.03481896, -0.65956311,  1.22488398,  0.25171685,\n",
              "         0.36217728,  1.84791957,  1.01300893],\n",
              "       [ 0.24628963, -0.49941338, -0.82799632, -2.49084714,  0.01814502,\n",
              "         0.56864766,  0.73362894, -0.82071924, -0.54472099, -0.29332133,\n",
              "         0.40605066,  1.1134493 ,  0.96524152]])"
            ]
          },
          "metadata": {
            "tags": []
          },
          "execution_count": 19
        }
      ]
    },
    {
      "cell_type": "code",
      "metadata": {
        "id": "sSTv6EZTogES",
        "colab_type": "code",
        "colab": {}
      },
      "source": [
        "import warnings\n",
        "warnings.filterwarnings(action = 'ignore')"
      ],
      "execution_count": 0,
      "outputs": []
    },
    {
      "cell_type": "markdown",
      "metadata": {
        "id": "l_UklKQLpiNW",
        "colab_type": "text"
      },
      "source": [
        "##With scaled"
      ]
    },
    {
      "cell_type": "code",
      "metadata": {
        "id": "gUZ6EQ5QjLnT",
        "colab_type": "code",
        "outputId": "3f28ffaf-be3b-4f4c-8ee1-ddf1e8081d2f",
        "colab": {
          "base_uri": "https://localhost:8080/",
          "height": 396
        }
      },
      "source": [
        "choose_best_classifier(X_scaled, y)"
      ],
      "execution_count": 23,
      "outputs": [
        {
          "output_type": "stream",
          "text": [
            "LR: 0.972222 (0.037268)\n",
            "LDA: 0.961111 (0.035573)\n",
            "KNN: 0.944444 (0.060858)\n",
            "DTree: 0.854575 (0.111229)\n",
            "NB: 0.961111 (0.055833)\n",
            "SVM: 0.960784 (0.043527)\n"
          ],
          "name": "stdout"
        },
        {
          "output_type": "display_data",
          "data": {
            "image/png": "[encoded data removed]",
            "text/plain": [
              "<Figure size 432x288 with 1 Axes>"
            ]
          },
          "metadata": {
            "tags": []
          }
        }
      ]
    },
    {
      "cell_type": "markdown",
      "metadata": {
        "id": "LxZpPGRzpnZ7",
        "colab_type": "text"
      },
      "source": [
        "##without scaled"
      ]
    },
    {
      "cell_type": "code",
      "metadata": {
        "id": "AHjIxlmnpWvF",
        "colab_type": "code",
        "colab": {
          "base_uri": "https://localhost:8080/",
          "height": 396
        },
        "outputId": "4190683a-fc18-4e75-d4ab-1b76387d3e9d"
      },
      "source": [
        "choose_best_classifier(X, y)"
      ],
      "execution_count": 25,
      "outputs": [
        {
          "output_type": "stream",
          "text": [
            "LR: 0.944444 (0.060858)\n",
            "LDA: 0.961111 (0.035573)\n",
            "KNN: 0.631046 (0.215931)\n",
            "DTree: 0.860131 (0.105731)\n",
            "NB: 0.961111 (0.055833)\n",
            "SVM: 0.172876 (0.186266)\n"
          ],
          "name": "stdout"
        },
        {
          "output_type": "display_data",
          "data": {
            "image/png": "[encoded data removed]",
            "text/plain": [
              "<Figure size 432x288 with 1 Axes>"
            ]
          },
          "metadata": {
            "tags": []
          }
        }
      ]
    },
    {
      "cell_type": "markdown",
      "metadata": {
        "id": "o5YvbNTzF2jg",
        "colab_type": "text"
      },
      "source": [
        "# Train model"
      ]
    },
    {
      "cell_type": "markdown",
      "metadata": {
        "id": "TRE3xfZsF7xv",
        "colab_type": "text"
      },
      "source": [
        "## logisticRegression without PCA"
      ]
    },
    {
      "cell_type": "code",
      "metadata": {
        "id": "YhoIU-2aqMDR",
        "colab_type": "code",
        "colab": {}
      },
      "source": [
        "my_global_variables.init()"
      ],
      "execution_count": 0,
      "outputs": []
    },
    {
      "cell_type": "code",
      "metadata": {
        "id": "XAlycCPPknOW",
        "colab_type": "code",
        "outputId": "4cbbcc60-1168-42f5-bea7-e5728dbf777a",
        "colab": {
          "base_uri": "https://localhost:8080/",
          "height": 527
        }
      },
      "source": [
        "from sklearn.linear_model import LogisticRegression\n",
        "model = LogisticRegression()\n",
        "model = print_model_results(X_train, X_test, y_train, y_test, model)"
      ],
      "execution_count": 32,
      "outputs": [
        {
          "output_type": "stream",
          "text": [
            " Train score is 0.9929577464788732\n",
            "\n",
            "\n",
            "Test score is 1.0\n",
            "\n",
            "\n",
            "\n",
            "Train confusion matrix is \n",
            " [[45  0  0]\n",
            " [ 0 54  1]\n",
            " [ 0  0 42]]\n",
            "\n",
            "Test confusion matrix is \n",
            " [[14  0  0]\n",
            " [ 0 16  0]\n",
            " [ 0  0  6]]\n",
            "\n",
            "\n",
            "\n",
            "Test Set classification report is \n",
            "               precision    recall  f1-score   support\n",
            "\n",
            "           0       1.00      1.00      1.00        14\n",
            "           1       1.00      1.00      1.00        16\n",
            "           2       1.00      1.00      1.00         6\n",
            "\n",
            "    accuracy                           1.00        36\n",
            "   macro avg       1.00      1.00      1.00        36\n",
            "weighted avg       1.00      1.00      1.00        36\n",
            "\n"
          ],
          "name": "stdout"
        }
      ]
    },
    {
      "cell_type": "markdown",
      "metadata": {
        "id": "n61twtoAGE_i",
        "colab_type": "text"
      },
      "source": [
        "### cross_validation_score"
      ]
    },
    {
      "cell_type": "code",
      "metadata": {
        "id": "CZNFF8Lq0WbL",
        "colab_type": "code",
        "outputId": "40aae300-74d7-4da1-e3dc-4a5ef9ecf07d",
        "colab": {
          "base_uri": "https://localhost:8080/",
          "height": 221
        }
      },
      "source": [
        "model = LogisticRegression()\n",
        "get_cross_validation(X_scaled, y, model)"
      ],
      "execution_count": 34,
      "outputs": [
        {
          "output_type": "stream",
          "text": [
            "10 fold cross-validation for -- LogisticRegression-- Model \n",
            "\n",
            "\n",
            "cross validation score for 10 fold cross-validation is:-- \n",
            " [1.         0.94444444 1.         0.94444444 1.         0.94444444\n",
            " 1.         1.         1.         1.        ]\n",
            "\n",
            "\n",
            "variance in scores for 10 fold cross-validationn for LogisticRegression:-- 0.02545875386086579\n",
            "\n",
            "\n"
          ],
          "name": "stdout"
        },
        {
          "output_type": "execute_result",
          "data": {
            "text/plain": [
              "'Mean for 10 fold cross-validation score:-- 0.9833333333333334'"
            ]
          },
          "metadata": {
            "tags": []
          },
          "execution_count": 34
        }
      ]
    },
    {
      "cell_type": "markdown",
      "metadata": {
        "id": "izE5VrX-E3cr",
        "colab_type": "text"
      },
      "source": [
        "# PCA"
      ]
    },
    {
      "cell_type": "code",
      "metadata": {
        "id": "qWCmilkUFuP2",
        "colab_type": "code",
        "colab": {}
      },
      "source": [
        "from sklearn.decomposition import PCA"
      ],
      "execution_count": 0,
      "outputs": []
    },
    {
      "cell_type": "markdown",
      "metadata": {
        "id": "W5AcSgueOevp",
        "colab_type": "text"
      },
      "source": [
        "## check variance for all features"
      ]
    },
    {
      "cell_type": "code",
      "metadata": {
        "id": "RJuQEkhXOhza",
        "colab_type": "code",
        "outputId": "5eb4301f-98d0-4154-df94-3bee93867cb3",
        "colab": {
          "base_uri": "https://localhost:8080/",
          "height": 51
        }
      },
      "source": [
        "from sklearn.decomposition import PCA\n",
        "pca = PCA()\n",
        "pca.fit(X_scaled)"
      ],
      "execution_count": 35,
      "outputs": [
        {
          "output_type": "execute_result",
          "data": {
            "text/plain": [
              "PCA(copy=True, iterated_power='auto', n_components=None, random_state=None,\n",
              "    svd_solver='auto', tol=0.0, whiten=False)"
            ]
          },
          "metadata": {
            "tags": []
          },
          "execution_count": 35
        }
      ]
    },
    {
      "cell_type": "code",
      "metadata": {
        "id": "GC3j-61yOtdE",
        "colab_type": "code",
        "outputId": "e38ce028-94d6-43a9-df57-5d2680a1bd1e",
        "colab": {
          "base_uri": "https://localhost:8080/",
          "height": 68
        }
      },
      "source": [
        "variance = pca.explained_variance_ratio_\n",
        "variance"
      ],
      "execution_count": 36,
      "outputs": [
        {
          "output_type": "execute_result",
          "data": {
            "text/plain": [
              "array([0.36198848, 0.1920749 , 0.11123631, 0.0706903 , 0.06563294,\n",
              "       0.04935823, 0.04238679, 0.02680749, 0.02222153, 0.01930019,\n",
              "       0.01736836, 0.01298233, 0.00795215])"
            ]
          },
          "metadata": {
            "tags": []
          },
          "execution_count": 36
        }
      ]
    },
    {
      "cell_type": "code",
      "metadata": {
        "id": "knMOtwjQOw20",
        "colab_type": "code",
        "outputId": "be37fbb2-dbb8-40c8-96e6-34a1fd7a28d4",
        "colab": {
          "base_uri": "https://localhost:8080/",
          "height": 85
        }
      },
      "source": [
        "import numpy as np\n",
        "import math\n",
        "cum_variance = np.cumsum(variance)*100\n",
        "cum_variance"
      ],
      "execution_count": 37,
      "outputs": [
        {
          "output_type": "execute_result",
          "data": {
            "text/plain": [
              "array([ 36.1988481 ,  55.40633836,  66.52996889,  73.59899908,\n",
              "        80.16229276,  85.09811607,  89.3367954 ,  92.01754435,\n",
              "        94.23969775,  96.16971684,  97.90655253,  99.20478511,\n",
              "       100.        ])"
            ]
          },
          "metadata": {
            "tags": []
          },
          "execution_count": 37
        }
      ]
    },
    {
      "cell_type": "code",
      "metadata": {
        "id": "ltFEYI9FP4-8",
        "colab_type": "code",
        "outputId": "f7ce36d8-b398-4708-f241-27575136e15f",
        "colab": {
          "base_uri": "https://localhost:8080/",
          "height": 269
        }
      },
      "source": [
        "plt.plot(cum_variance)\n",
        "plt.grid()"
      ],
      "execution_count": 40,
      "outputs": [
        {
          "output_type": "display_data",
          "data": {
            "image/png": "[encoded data removed]",
            "text/plain": [
              "<Figure size 432x288 with 1 Axes>"
            ]
          },
          "metadata": {
            "tags": []
          }
        }
      ]
    },
    {
      "cell_type": "markdown",
      "metadata": {
        "id": "_DDeVKNHRUNZ",
        "colab_type": "text"
      },
      "source": [
        "**^^As we can see most of the variance is described by 10 features so.. we can select 10 features at all**"
      ]
    },
    {
      "cell_type": "markdown",
      "metadata": {
        "id": "0DYnKsf7NX42",
        "colab_type": "text"
      },
      "source": [
        "### Train model"
      ]
    },
    {
      "cell_type": "markdown",
      "metadata": {
        "id": "ZR1xZ_Z_Rfjd",
        "colab_type": "text"
      },
      "source": [
        "**scaled X_train, X_test because for pca we need scaled features for better result**"
      ]
    },
    {
      "cell_type": "code",
      "metadata": {
        "id": "_IT_0okuNzy7",
        "colab_type": "code",
        "outputId": "1e918a9d-8ab2-4721-8286-0a3c2fccd516",
        "colab": {
          "base_uri": "https://localhost:8080/",
          "height": 527
        }
      },
      "source": [
        "from sklearn.decomposition import PCA\n",
        "pca = PCA(2)\n",
        "X_train_pca = pca.fit_transform(X_train)\n",
        "X_test_pca = pca.transform(X_test)\n",
        "from sklearn.linear_model import LogisticRegression\n",
        "model = LogisticRegression()\n",
        "model = print_model_results(X_train_pca,X_test_pca, y_train, y_test, model)"
      ],
      "execution_count": 41,
      "outputs": [
        {
          "output_type": "stream",
          "text": [
            " Train score is 0.9647887323943662\n",
            "\n",
            "\n",
            "Test score is 0.9722222222222222\n",
            "\n",
            "\n",
            "\n",
            "Train confusion matrix is \n",
            " [[43  2  0]\n",
            " [ 2 52  1]\n",
            " [ 0  0 42]]\n",
            "\n",
            "Test confusion matrix is \n",
            " [[14  0  0]\n",
            " [ 1 15  0]\n",
            " [ 0  0  6]]\n",
            "\n",
            "\n",
            "\n",
            "Test Set classification report is \n",
            "               precision    recall  f1-score   support\n",
            "\n",
            "           0       0.93      1.00      0.97        14\n",
            "           1       1.00      0.94      0.97        16\n",
            "           2       1.00      1.00      1.00         6\n",
            "\n",
            "    accuracy                           0.97        36\n",
            "   macro avg       0.98      0.98      0.98        36\n",
            "weighted avg       0.97      0.97      0.97        36\n",
            "\n"
          ],
          "name": "stdout"
        }
      ]
    },
    {
      "cell_type": "markdown",
      "metadata": {
        "id": "Q30S43bXOVJf",
        "colab_type": "text"
      },
      "source": [
        "## cross_validation with pca"
      ]
    },
    {
      "cell_type": "code",
      "metadata": {
        "id": "yXQhHhUEG7d6",
        "colab_type": "code",
        "outputId": "ac86cec8-8b98-4e50-b340-7ec80fa60703",
        "colab": {
          "base_uri": "https://localhost:8080/",
          "height": 221
        }
      },
      "source": [
        "from sklearn.decomposition import PCA\n",
        "X_pca = PCA(2).fit_transform(X_scaled)\n",
        "model = LogisticRegression()\n",
        "get_cross_validation(X_pca, y, model)"
      ],
      "execution_count": 43,
      "outputs": [
        {
          "output_type": "stream",
          "text": [
            "10 fold cross-validation for -- LogisticRegression-- Model \n",
            "\n",
            "\n",
            "cross validation score for 10 fold cross-validation is:-- \n",
            " [0.94736842 0.94444444 1.         0.88888889 1.         0.94444444\n",
            " 0.94444444 1.         0.94117647 1.        ]\n",
            "\n",
            "\n",
            "variance in scores for 10 fold cross-validationn for LogisticRegression:-- 0.035616014686525255\n",
            "\n",
            "\n"
          ],
          "name": "stdout"
        },
        {
          "output_type": "execute_result",
          "data": {
            "text/plain": [
              "'Mean for 10 fold cross-validation score:-- 0.9610767113863089'"
            ]
          },
          "metadata": {
            "tags": []
          },
          "execution_count": 43
        }
      ]
    },
    {
      "cell_type": "markdown",
      "metadata": {
        "id": "ziBCJSbuQo2t",
        "colab_type": "text"
      },
      "source": [
        "## for visualisation"
      ]
    },
    {
      "cell_type": "code",
      "metadata": {
        "id": "Mo4CxA_xvZXO",
        "colab_type": "code",
        "colab": {}
      },
      "source": [
        ""
      ],
      "execution_count": 0,
      "outputs": []
    },
    {
      "cell_type": "code",
      "metadata": {
        "id": "z6-f_FYaTxpY",
        "colab_type": "code",
        "outputId": "89286c87-5e7f-4612-d872-5358a9f405d3",
        "colab": {
          "base_uri": "https://localhost:8080/",
          "height": 729
        }
      },
      "source": [
        "%matplotlib inline\n",
        "from sklearn.decomposition import PCA\n",
        "pca = PCA(2)\n",
        "X_train_pca = pca.fit_transform(X_train)\n",
        "X_test_pca = pca.transform(X_test)\n",
        "from sklearn.linear_model import LogisticRegression\n",
        "model = LogisticRegression()\n",
        "model.fit(X_train_pca, y_train)\n",
        "visualise_classifier_performance(X_train_pca,X_test_pca, y_train, y_test, model, colors = ('green', 'blue', 'red'))"
      ],
      "execution_count": 53,
      "outputs": [
        {
          "output_type": "stream",
          "text": [
            "'c' argument looks like a single numeric RGB or RGBA sequence, which should be avoided as value-mapping will have precedence in case its length matches with 'x' & 'y'.  Please use a 2-D array with a single row if you really want to specify the same RGB or RGBA value for all points.\n",
            "'c' argument looks like a single numeric RGB or RGBA sequence, which should be avoided as value-mapping will have precedence in case its length matches with 'x' & 'y'.  Please use a 2-D array with a single row if you really want to specify the same RGB or RGBA value for all points.\n"
          ],
          "name": "stderr"
        },
        {
          "output_type": "stream",
          "text": [
            "LogisticRegression Classifier \n",
            "\n"
          ],
          "name": "stdout"
        },
        {
          "output_type": "stream",
          "text": [
            "'c' argument looks like a single numeric RGB or RGBA sequence, which should be avoided as value-mapping will have precedence in case its length matches with 'x' & 'y'.  Please use a 2-D array with a single row if you really want to specify the same RGB or RGBA value for all points.\n"
          ],
          "name": "stderr"
        },
        {
          "output_type": "display_data",
          "data": {
            "image/png": "[encoded data removed]",
            "text/plain": [
              "<Figure size 432x288 with 1 Axes>"
            ]
          },
          "metadata": {
            "tags": []
          }
        },
        {
          "output_type": "stream",
          "text": [
            "'c' argument looks like a single numeric RGB or RGBA sequence, which should be avoided as value-mapping will have precedence in case its length matches with 'x' & 'y'.  Please use a 2-D array with a single row if you really want to specify the same RGB or RGBA value for all points.\n",
            "'c' argument looks like a single numeric RGB or RGBA sequence, which should be avoided as value-mapping will have precedence in case its length matches with 'x' & 'y'.  Please use a 2-D array with a single row if you really want to specify the same RGB or RGBA value for all points.\n",
            "'c' argument looks like a single numeric RGB or RGBA sequence, which should be avoided as value-mapping will have precedence in case its length matches with 'x' & 'y'.  Please use a 2-D array with a single row if you really want to specify the same RGB or RGBA value for all points.\n"
          ],
          "name": "stderr"
        },
        {
          "output_type": "display_data",
          "data": {
            "image/png": "[encoded data removed]",
            "text/plain": [
              "<Figure size 432x288 with 1 Axes>"
            ]
          },
          "metadata": {
            "tags": []
          }
        }
      ]
    },
    {
      "cell_type": "code",
      "metadata": {
        "id": "m000jlWwsRzg",
        "colab_type": "code",
        "colab": {}
      },
      "source": [
        ""
      ],
      "execution_count": 0,
      "outputs": []
    }
  ]
}