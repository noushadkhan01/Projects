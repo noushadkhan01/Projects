{
  "nbformat": 4,
  "nbformat_minor": 0,
  "metadata": {
    "colab": {
      "name": "XGBoost on Churn_Modelling Bank Dataset.ipynb",
      "version": "0.3.2",
      "provenance": [],
      "include_colab_link": true
    },
    "kernelspec": {
      "name": "python3",
      "display_name": "Python 3"
    },
    "accelerator": "GPU"
  },
  "cells": [
    {
      "cell_type": "markdown",
      "metadata": {
        "id": "view-in-github",
        "colab_type": "text"
      },
      "source": [
        "<a href=\"https://colab.research.google.com/github/noushadkhan01/Projects/blob/master/XGBoost/XGBoost_on_Churn_Modelling_Bank_Dataset%20with%20SMOTE%20and%20ADASYN.ipynb\" target=\"_parent\"><img src=\"https://colab.research.google.com/assets/colab-badge.svg\" alt=\"Open In Colab\"/></a>"
      ]
    },
    {
      "cell_type": "code",
      "metadata": {
        "id": "ufD6A-igAFRp",
        "colab_type": "code",
        "colab": {}
      },
      "source": [
        "from xgboost import XGBClassifier\n",
        "import pandas as pd\n",
        "import matplotlib.pyplot as plt\n",
        "%matplotlib inline\n",
        "import numpy as np"
      ],
      "execution_count": 0,
      "outputs": []
    },
    {
      "cell_type": "code",
      "metadata": {
        "id": "i3wmsyijANF7",
        "colab_type": "code",
        "outputId": "53bee9b1-88c9-468c-9fdc-5d6b2ed6e479",
        "colab": {
          "base_uri": "https://localhost:8080/",
          "height": 204
        }
      },
      "source": [
        "df = pd.read_csv('https://bit.ly/2QMuIPs')\n",
        "df.head()"
      ],
      "execution_count": 2,
      "outputs": [
        {
          "output_type": "execute_result",
          "data": {
            "text/html": [
              "<div>\n",
              "<style scoped>\n",
              "    .dataframe tbody tr th:only-of-type {\n",
              "        vertical-align: middle;\n",
              "    }\n",
              "\n",
              "    .dataframe tbody tr th {\n",
              "        vertical-align: top;\n",
              "    }\n",
              "\n",
              "    .dataframe thead th {\n",
              "        text-align: right;\n",
              "    }\n",
              "</style>\n",
              "<table border=\"1\" class=\"dataframe\">\n",
              "  <thead>\n",
              "    <tr style=\"text-align: right;\">\n",
              "      <th></th>\n",
              "      <th>RowNumber</th>\n",
              "      <th>CustomerId</th>\n",
              "      <th>Surname</th>\n",
              "      <th>CreditScore</th>\n",
              "      <th>Geography</th>\n",
              "      <th>Gender</th>\n",
              "      <th>Age</th>\n",
              "      <th>Tenure</th>\n",
              "      <th>Balance</th>\n",
              "      <th>NumOfProducts</th>\n",
              "      <th>HasCrCard</th>\n",
              "      <th>IsActiveMember</th>\n",
              "      <th>EstimatedSalary</th>\n",
              "      <th>Exited</th>\n",
              "    </tr>\n",
              "  </thead>\n",
              "  <tbody>\n",
              "    <tr>\n",
              "      <th>0</th>\n",
              "      <td>1</td>\n",
              "      <td>15634602</td>\n",
              "      <td>Hargrave</td>\n",
              "      <td>619</td>\n",
              "      <td>France</td>\n",
              "      <td>Female</td>\n",
              "      <td>42</td>\n",
              "      <td>2</td>\n",
              "      <td>0.00</td>\n",
              "      <td>1</td>\n",
              "      <td>1</td>\n",
              "      <td>1</td>\n",
              "      <td>101348.88</td>\n",
              "      <td>1</td>\n",
              "    </tr>\n",
              "    <tr>\n",
              "      <th>1</th>\n",
              "      <td>2</td>\n",
              "      <td>15647311</td>\n",
              "      <td>Hill</td>\n",
              "      <td>608</td>\n",
              "      <td>Spain</td>\n",
              "      <td>Female</td>\n",
              "      <td>41</td>\n",
              "      <td>1</td>\n",
              "      <td>83807.86</td>\n",
              "      <td>1</td>\n",
              "      <td>0</td>\n",
              "      <td>1</td>\n",
              "      <td>112542.58</td>\n",
              "      <td>0</td>\n",
              "    </tr>\n",
              "    <tr>\n",
              "      <th>2</th>\n",
              "      <td>3</td>\n",
              "      <td>15619304</td>\n",
              "      <td>Onio</td>\n",
              "      <td>502</td>\n",
              "      <td>France</td>\n",
              "      <td>Female</td>\n",
              "      <td>42</td>\n",
              "      <td>8</td>\n",
              "      <td>159660.80</td>\n",
              "      <td>3</td>\n",
              "      <td>1</td>\n",
              "      <td>0</td>\n",
              "      <td>113931.57</td>\n",
              "      <td>1</td>\n",
              "    </tr>\n",
              "    <tr>\n",
              "      <th>3</th>\n",
              "      <td>4</td>\n",
              "      <td>15701354</td>\n",
              "      <td>Boni</td>\n",
              "      <td>699</td>\n",
              "      <td>France</td>\n",
              "      <td>Female</td>\n",
              "      <td>39</td>\n",
              "      <td>1</td>\n",
              "      <td>0.00</td>\n",
              "      <td>2</td>\n",
              "      <td>0</td>\n",
              "      <td>0</td>\n",
              "      <td>93826.63</td>\n",
              "      <td>0</td>\n",
              "    </tr>\n",
              "    <tr>\n",
              "      <th>4</th>\n",
              "      <td>5</td>\n",
              "      <td>15737888</td>\n",
              "      <td>Mitchell</td>\n",
              "      <td>850</td>\n",
              "      <td>Spain</td>\n",
              "      <td>Female</td>\n",
              "      <td>43</td>\n",
              "      <td>2</td>\n",
              "      <td>125510.82</td>\n",
              "      <td>1</td>\n",
              "      <td>1</td>\n",
              "      <td>1</td>\n",
              "      <td>79084.10</td>\n",
              "      <td>0</td>\n",
              "    </tr>\n",
              "  </tbody>\n",
              "</table>\n",
              "</div>"
            ],
            "text/plain": [
              "   RowNumber  CustomerId   Surname  ...  IsActiveMember EstimatedSalary Exited\n",
              "0          1    15634602  Hargrave  ...               1       101348.88      1\n",
              "1          2    15647311      Hill  ...               1       112542.58      0\n",
              "2          3    15619304      Onio  ...               0       113931.57      1\n",
              "3          4    15701354      Boni  ...               0        93826.63      0\n",
              "4          5    15737888  Mitchell  ...               1        79084.10      0\n",
              "\n",
              "[5 rows x 14 columns]"
            ]
          },
          "metadata": {
            "tags": []
          },
          "execution_count": 2
        }
      ]
    },
    {
      "cell_type": "code",
      "metadata": {
        "id": "oR-bHZQ0Dq3U",
        "colab_type": "code",
        "outputId": "57f89bf6-cc89-4ae7-9076-eca0f9039d93",
        "colab": {
          "base_uri": "https://localhost:8080/",
          "height": 34
        }
      },
      "source": [
        "df.shape"
      ],
      "execution_count": 3,
      "outputs": [
        {
          "output_type": "execute_result",
          "data": {
            "text/plain": [
              "(10000, 14)"
            ]
          },
          "metadata": {
            "tags": []
          },
          "execution_count": 3
        }
      ]
    },
    {
      "cell_type": "code",
      "metadata": {
        "id": "3iWoLOKbDVAu",
        "colab_type": "code",
        "outputId": "8eacfea7-9d5b-425f-d5dd-f70ef889d3cb",
        "colab": {
          "base_uri": "https://localhost:8080/",
          "height": 80
        }
      },
      "source": [
        "X = df.iloc[:, 3:-1]\n",
        "X.head(1)"
      ],
      "execution_count": 4,
      "outputs": [
        {
          "output_type": "execute_result",
          "data": {
            "text/html": [
              "<div>\n",
              "<style scoped>\n",
              "    .dataframe tbody tr th:only-of-type {\n",
              "        vertical-align: middle;\n",
              "    }\n",
              "\n",
              "    .dataframe tbody tr th {\n",
              "        vertical-align: top;\n",
              "    }\n",
              "\n",
              "    .dataframe thead th {\n",
              "        text-align: right;\n",
              "    }\n",
              "</style>\n",
              "<table border=\"1\" class=\"dataframe\">\n",
              "  <thead>\n",
              "    <tr style=\"text-align: right;\">\n",
              "      <th></th>\n",
              "      <th>CreditScore</th>\n",
              "      <th>Geography</th>\n",
              "      <th>Gender</th>\n",
              "      <th>Age</th>\n",
              "      <th>Tenure</th>\n",
              "      <th>Balance</th>\n",
              "      <th>NumOfProducts</th>\n",
              "      <th>HasCrCard</th>\n",
              "      <th>IsActiveMember</th>\n",
              "      <th>EstimatedSalary</th>\n",
              "    </tr>\n",
              "  </thead>\n",
              "  <tbody>\n",
              "    <tr>\n",
              "      <th>0</th>\n",
              "      <td>619</td>\n",
              "      <td>France</td>\n",
              "      <td>Female</td>\n",
              "      <td>42</td>\n",
              "      <td>2</td>\n",
              "      <td>0.0</td>\n",
              "      <td>1</td>\n",
              "      <td>1</td>\n",
              "      <td>1</td>\n",
              "      <td>101348.88</td>\n",
              "    </tr>\n",
              "  </tbody>\n",
              "</table>\n",
              "</div>"
            ],
            "text/plain": [
              "   CreditScore Geography  Gender  ...  HasCrCard  IsActiveMember  EstimatedSalary\n",
              "0          619    France  Female  ...          1               1        101348.88\n",
              "\n",
              "[1 rows x 10 columns]"
            ]
          },
          "metadata": {
            "tags": []
          },
          "execution_count": 4
        }
      ]
    },
    {
      "cell_type": "code",
      "metadata": {
        "id": "lp7Sak_mEFfL",
        "colab_type": "code",
        "outputId": "af798cbb-c119-4fe0-ba05-a9f560c8436e",
        "colab": {
          "base_uri": "https://localhost:8080/",
          "height": 34
        }
      },
      "source": [
        "X.shape"
      ],
      "execution_count": 5,
      "outputs": [
        {
          "output_type": "execute_result",
          "data": {
            "text/plain": [
              "(10000, 10)"
            ]
          },
          "metadata": {
            "tags": []
          },
          "execution_count": 5
        }
      ]
    },
    {
      "cell_type": "code",
      "metadata": {
        "id": "HRE57OwY4Qm2",
        "colab_type": "code",
        "colab": {
          "base_uri": "https://localhost:8080/",
          "height": 68
        },
        "outputId": "7935d073-aaeb-4e62-c699-a3496814a633"
      },
      "source": [
        "y = df.Exited\n",
        "y[:2]"
      ],
      "execution_count": 6,
      "outputs": [
        {
          "output_type": "execute_result",
          "data": {
            "text/plain": [
              "0    1\n",
              "1    0\n",
              "Name: Exited, dtype: int64"
            ]
          },
          "metadata": {
            "tags": []
          },
          "execution_count": 6
        }
      ]
    },
    {
      "cell_type": "markdown",
      "metadata": {
        "id": "9CN9kp_a47ys",
        "colab_type": "text"
      },
      "source": [
        "#Check for class imbalance"
      ]
    },
    {
      "cell_type": "code",
      "metadata": {
        "id": "X8nIFW6P4uSb",
        "colab_type": "code",
        "colab": {
          "base_uri": "https://localhost:8080/",
          "height": 68
        },
        "outputId": "99655c44-dc3b-4fae-a47f-faea4987bff6"
      },
      "source": [
        "y.value_counts()"
      ],
      "execution_count": 7,
      "outputs": [
        {
          "output_type": "execute_result",
          "data": {
            "text/plain": [
              "0    7963\n",
              "1    2037\n",
              "Name: Exited, dtype: int64"
            ]
          },
          "metadata": {
            "tags": []
          },
          "execution_count": 7
        }
      ]
    },
    {
      "cell_type": "markdown",
      "metadata": {
        "id": "iSc1RkQX5CNu",
        "colab_type": "text"
      },
      "source": [
        "#check for null values"
      ]
    },
    {
      "cell_type": "code",
      "metadata": {
        "id": "TwQePn_b5EHn",
        "colab_type": "code",
        "colab": {
          "base_uri": "https://localhost:8080/",
          "height": 68
        },
        "outputId": "1517dbdd-45d2-4303-d379-297d68edee2a"
      },
      "source": [
        "df.isnull().sum().sort_values(ascending = False)[:2]"
      ],
      "execution_count": 8,
      "outputs": [
        {
          "output_type": "execute_result",
          "data": {
            "text/plain": [
              "Exited             0\n",
              "EstimatedSalary    0\n",
              "dtype: int64"
            ]
          },
          "metadata": {
            "tags": []
          },
          "execution_count": 8
        }
      ]
    },
    {
      "cell_type": "markdown",
      "metadata": {
        "id": "r04hP0R6EJtB",
        "colab_type": "text"
      },
      "source": [
        "## get dummy variable"
      ]
    },
    {
      "cell_type": "code",
      "metadata": {
        "id": "VemBIjxxEOtV",
        "colab_type": "code",
        "outputId": "f608bb5d-3eda-4ba0-9e99-0a1651e0aeca",
        "colab": {
          "base_uri": "https://localhost:8080/",
          "height": 34
        }
      },
      "source": [
        "X = pd.get_dummies(X, drop_first = True).values\n",
        "X.shape"
      ],
      "execution_count": 9,
      "outputs": [
        {
          "output_type": "execute_result",
          "data": {
            "text/plain": [
              "(10000, 11)"
            ]
          },
          "metadata": {
            "tags": []
          },
          "execution_count": 9
        }
      ]
    },
    {
      "cell_type": "code",
      "metadata": {
        "id": "8ecgI0akEdSA",
        "colab_type": "code",
        "outputId": "e2c7cbc8-3cec-4096-8545-4fca87d683aa",
        "colab": {
          "base_uri": "https://localhost:8080/",
          "height": 34
        }
      },
      "source": [
        "y = df.Exited\n",
        "y.shape"
      ],
      "execution_count": 10,
      "outputs": [
        {
          "output_type": "execute_result",
          "data": {
            "text/plain": [
              "(10000,)"
            ]
          },
          "metadata": {
            "tags": []
          },
          "execution_count": 10
        }
      ]
    },
    {
      "cell_type": "markdown",
      "metadata": {
        "id": "wowVbFB4EhwP",
        "colab_type": "text"
      },
      "source": [
        "### Train test split"
      ]
    },
    {
      "cell_type": "code",
      "metadata": {
        "id": "FzwgdJCeEkZY",
        "colab_type": "code",
        "colab": {}
      },
      "source": [
        "from sklearn.model_selection import train_test_split as tts"
      ],
      "execution_count": 0,
      "outputs": []
    },
    {
      "cell_type": "code",
      "metadata": {
        "id": "9AHtyXlWEp-b",
        "colab_type": "code",
        "outputId": "e3ce37d4-cb4c-4b09-f1f3-0f89fa3af4ec",
        "colab": {
          "base_uri": "https://localhost:8080/",
          "height": 34
        }
      },
      "source": [
        "X_train, X_test, y_train, y_test = tts(X, y, test_size = .2, random_state = 0)\n",
        "X_train.shape, X_test.shape, y_train.shape, y_test.shape"
      ],
      "execution_count": 12,
      "outputs": [
        {
          "output_type": "execute_result",
          "data": {
            "text/plain": [
              "((8000, 11), (2000, 11), (8000,), (2000,))"
            ]
          },
          "metadata": {
            "tags": []
          },
          "execution_count": 12
        }
      ]
    },
    {
      "cell_type": "markdown",
      "metadata": {
        "id": "f-uQ4oct5Rmg",
        "colab_type": "text"
      },
      "source": [
        "#Over Sampling using SMOTE"
      ]
    },
    {
      "cell_type": "code",
      "metadata": {
        "id": "hrpA_BMW5XZu",
        "colab_type": "code",
        "colab": {
          "base_uri": "https://localhost:8080/",
          "height": 71
        },
        "outputId": "b0e868da-29bf-4e37-8cc1-a069d4ac9fbc"
      },
      "source": [
        "from imblearn.over_sampling import SMOTE"
      ],
      "execution_count": 13,
      "outputs": [
        {
          "output_type": "stream",
          "text": [
            "/usr/local/lib/python3.6/dist-packages/sklearn/externals/six.py:31: DeprecationWarning: The module is deprecated in version 0.21 and will be removed in version 0.23 since we've dropped support for Python 2.7. Please rely on the official version of six (https://pypi.org/project/six/).\n",
            "  \"(https://pypi.org/project/six/).\", DeprecationWarning)\n"
          ],
          "name": "stderr"
        }
      ]
    },
    {
      "cell_type": "code",
      "metadata": {
        "id": "oaMB_t088Zmo",
        "colab_type": "code",
        "colab": {
          "base_uri": "https://localhost:8080/",
          "height": 34
        },
        "outputId": "47c50be7-3b09-451d-8095-c98a6749e78c"
      },
      "source": [
        "X_train.shape, y_train.shape"
      ],
      "execution_count": 14,
      "outputs": [
        {
          "output_type": "execute_result",
          "data": {
            "text/plain": [
              "((8000, 11), (8000,))"
            ]
          },
          "metadata": {
            "tags": []
          },
          "execution_count": 14
        }
      ]
    },
    {
      "cell_type": "code",
      "metadata": {
        "id": "HqLcN4tm7HjT",
        "colab_type": "code",
        "colab": {
          "base_uri": "https://localhost:8080/",
          "height": 34
        },
        "outputId": "3259fce8-7107-424b-c87b-5ee7db93c724"
      },
      "source": [
        "X_train_smote, y_train_smote = SMOTE().fit_sample(X_train, y_train)\n",
        "X_train_smote.shape, y_train.shape"
      ],
      "execution_count": 15,
      "outputs": [
        {
          "output_type": "execute_result",
          "data": {
            "text/plain": [
              "((12736, 11), (8000,))"
            ]
          },
          "metadata": {
            "tags": []
          },
          "execution_count": 15
        }
      ]
    },
    {
      "cell_type": "code",
      "metadata": {
        "id": "ip2CKs3K8psH",
        "colab_type": "code",
        "colab": {
          "base_uri": "https://localhost:8080/",
          "height": 68
        },
        "outputId": "394a5e85-ce3f-4b3f-825c-43e722773992"
      },
      "source": [
        "pd.Series(y_train_smote).value_counts()"
      ],
      "execution_count": 16,
      "outputs": [
        {
          "output_type": "execute_result",
          "data": {
            "text/plain": [
              "1    6368\n",
              "0    6368\n",
              "dtype: int64"
            ]
          },
          "metadata": {
            "tags": []
          },
          "execution_count": 16
        }
      ]
    },
    {
      "cell_type": "code",
      "metadata": {
        "id": "vQ9069Ld6njv",
        "colab_type": "code",
        "colab": {}
      },
      "source": [
        "from imblearn.over_sampling import ADASYN"
      ],
      "execution_count": 0,
      "outputs": []
    },
    {
      "cell_type": "code",
      "metadata": {
        "id": "sgpaH3VA9Fu5",
        "colab_type": "code",
        "colab": {
          "base_uri": "https://localhost:8080/",
          "height": 34
        },
        "outputId": "f6593983-748b-400a-eb48-3eb4198c3a83"
      },
      "source": [
        "X_train_adasyn, y_train_adasyn = ADASYN().fit_sample(X_train, y_train)\n",
        "X_train_adasyn.shape, y_train_adasyn.shape"
      ],
      "execution_count": 18,
      "outputs": [
        {
          "output_type": "execute_result",
          "data": {
            "text/plain": [
              "((12835, 11), (12835,))"
            ]
          },
          "metadata": {
            "tags": []
          },
          "execution_count": 18
        }
      ]
    },
    {
      "cell_type": "code",
      "metadata": {
        "id": "jEGBZ7im-N3P",
        "colab_type": "code",
        "colab": {
          "base_uri": "https://localhost:8080/",
          "height": 68
        },
        "outputId": "2ad0b6af-6340-4bcd-a627-7710e29ccb5a"
      },
      "source": [
        "pd.Series(y_train_adasyn).value_counts()"
      ],
      "execution_count": 19,
      "outputs": [
        {
          "output_type": "execute_result",
          "data": {
            "text/plain": [
              "1    6467\n",
              "0    6368\n",
              "dtype: int64"
            ]
          },
          "metadata": {
            "tags": []
          },
          "execution_count": 19
        }
      ]
    },
    {
      "cell_type": "markdown",
      "metadata": {
        "id": "WYS8A5EJHoc1",
        "colab_type": "text"
      },
      "source": [
        "# Train model"
      ]
    },
    {
      "cell_type": "code",
      "metadata": {
        "id": "uoieeGFcE_Qy",
        "colab_type": "code",
        "colab": {
          "base_uri": "https://localhost:8080/",
          "height": 136
        },
        "outputId": "7b4298e0-f88b-4248-e8a0-21c28b5001d9"
      },
      "source": [
        "!git clone https://github.com/noushadkhan01/my_methods"
      ],
      "execution_count": 20,
      "outputs": [
        {
          "output_type": "stream",
          "text": [
            "Cloning into 'my_methods'...\n",
            "remote: Enumerating objects: 110, done.\u001b[K\n",
            "remote: Counting objects: 100% (110/110), done.\u001b[K\n",
            "remote: Compressing objects: 100% (110/110), done.\u001b[K\n",
            "remote: Total 263 (delta 63), reused 0 (delta 0), pack-reused 153\u001b[K\n",
            "Receiving objects: 100% (263/263), 68.80 KiB | 1.13 MiB/s, done.\n",
            "Resolving deltas: 100% (150/150), done.\n"
          ],
          "name": "stdout"
        }
      ]
    },
    {
      "cell_type": "code",
      "metadata": {
        "id": "qtgmuAc1-62X",
        "colab_type": "code",
        "colab": {
          "base_uri": "https://localhost:8080/",
          "height": 34
        },
        "outputId": "a97b5120-fd9a-46ea-df6b-56e619db76fe"
      },
      "source": [
        "%cd my_methods"
      ],
      "execution_count": 21,
      "outputs": [
        {
          "output_type": "stream",
          "text": [
            "/content/my_methods\n"
          ],
          "name": "stdout"
        }
      ]
    },
    {
      "cell_type": "code",
      "metadata": {
        "id": "V-AVyJKP_Dpl",
        "colab_type": "code",
        "colab": {
          "base_uri": "https://localhost:8080/",
          "height": 119
        },
        "outputId": "81a6fdfd-8820-4e5e-bd3c-6e1833091a71"
      },
      "source": [
        "!ls"
      ],
      "execution_count": 22,
      "outputs": [
        {
          "output_type": "stream",
          "text": [
            "choose_best_classifier.py\t      my_global_variables.py\n",
            "choose_optimal_number_of_clusters.py  my_roc_curve.py\n",
            "get_cross_validation.py\t\t      print_model_results.py\n",
            "my_cap_curve.py\t\t\t      README.md\n",
            "my_dummy_variable_2.py\t\t      visualise_classifier_performance.py\n",
            "my_dummy_variable_creator.py\n"
          ],
          "name": "stdout"
        }
      ]
    },
    {
      "cell_type": "code",
      "metadata": {
        "id": "F8N5XskC-_0K",
        "colab_type": "code",
        "colab": {}
      },
      "source": [
        "from print_model_results import print_model_results\n",
        "from get_cross_validation import get_cross_validation\n",
        "import my_global_variables\n",
        "my_global_variables.init()"
      ],
      "execution_count": 0,
      "outputs": []
    },
    {
      "cell_type": "code",
      "metadata": {
        "id": "EXnUefNxG_qc",
        "colab_type": "code",
        "colab": {}
      },
      "source": [
        "import warnings\n",
        "warnings.filterwarnings('ignore')"
      ],
      "execution_count": 0,
      "outputs": []
    },
    {
      "cell_type": "code",
      "metadata": {
        "id": "4QhgHbniBqJx",
        "colab_type": "code",
        "outputId": "f78b4ab6-c881-4a29-a0b4-77d04ad91033",
        "colab": {
          "base_uri": "https://localhost:8080/",
          "height": 136
        }
      },
      "source": [
        "classifier = XGBClassifier(max_depth = 4, random_state = 0)\n",
        "classifier"
      ],
      "execution_count": 25,
      "outputs": [
        {
          "output_type": "execute_result",
          "data": {
            "text/plain": [
              "XGBClassifier(base_score=0.5, booster='gbtree', colsample_bylevel=1,\n",
              "              colsample_bynode=1, colsample_bytree=1, gamma=0,\n",
              "              learning_rate=0.1, max_delta_step=0, max_depth=4,\n",
              "              min_child_weight=1, missing=None, n_estimators=100, n_jobs=1,\n",
              "              nthread=None, objective='binary:logistic', random_state=0,\n",
              "              reg_alpha=0, reg_lambda=1, scale_pos_weight=1, seed=None,\n",
              "              silent=None, subsample=1, verbosity=1)"
            ]
          },
          "metadata": {
            "tags": []
          },
          "execution_count": 25
        }
      ]
    },
    {
      "cell_type": "code",
      "metadata": {
        "id": "LyKmQDIoFH2Z",
        "colab_type": "code",
        "outputId": "86d4b787-dcee-4776-e0de-35461eca0b0c",
        "colab": {
          "base_uri": "https://localhost:8080/",
          "height": 476
        }
      },
      "source": [
        "model = print_model_results(X_train, X_test, y_train, y_test, classifier, extra_name = 'simple')"
      ],
      "execution_count": 26,
      "outputs": [
        {
          "output_type": "stream",
          "text": [
            " Train score is 0.879625\n",
            "\n",
            "\n",
            "Test score is 0.866\n",
            "\n",
            "\n",
            "\n",
            "Train confusion matrix is \n",
            " [[6208  160]\n",
            " [ 803  829]]\n",
            "\n",
            "Test confusion matrix is \n",
            " [[1526   69]\n",
            " [ 199  206]]\n",
            "\n",
            "\n",
            "\n",
            "Test Set classification report is \n",
            "               precision    recall  f1-score   support\n",
            "\n",
            "           0       0.88      0.96      0.92      1595\n",
            "           1       0.75      0.51      0.61       405\n",
            "\n",
            "    accuracy                           0.87      2000\n",
            "   macro avg       0.82      0.73      0.76      2000\n",
            "weighted avg       0.86      0.87      0.86      2000\n",
            "\n"
          ],
          "name": "stdout"
        }
      ]
    },
    {
      "cell_type": "markdown",
      "metadata": {
        "id": "LQG6vf5tHj0C",
        "colab_type": "text"
      },
      "source": [
        "## Cross_validation"
      ]
    },
    {
      "cell_type": "code",
      "metadata": {
        "id": "01vtueluFSWB",
        "colab_type": "code",
        "colab": {}
      },
      "source": [
        "from get_cross_validation import get_cross_validation"
      ],
      "execution_count": 0,
      "outputs": []
    },
    {
      "cell_type": "code",
      "metadata": {
        "id": "3VbWgZMpQDWg",
        "colab_type": "code",
        "outputId": "635bcbb2-bbb0-4936-eb97-24d496faf8fc",
        "colab": {
          "base_uri": "https://localhost:8080/",
          "height": 221
        }
      },
      "source": [
        "model = XGBClassifier(max_depth = 4)\n",
        "get_cross_validation(X_train, y_train, model, extra_name = 'simple')"
      ],
      "execution_count": 28,
      "outputs": [
        {
          "output_type": "stream",
          "text": [
            "10 fold cross-validation for -- XGBClassifier_simple-- Model \n",
            "\n",
            "\n",
            "cross validation score for 10 fold cross-validation is:-- \n",
            " [0.86891386 0.86267166 0.88       0.865      0.85875    0.86375\n",
            " 0.87       0.85625    0.84355444 0.87484355]\n",
            "\n",
            "\n",
            "variance in scores for 10 fold cross-validationn for XGBClassifier:-- 0.00969952339670716\n",
            "\n",
            "\n"
          ],
          "name": "stdout"
        },
        {
          "output_type": "execute_result",
          "data": {
            "text/plain": [
              "'Mean for 10 fold cross-validation score:-- 0.8643733515599242'"
            ]
          },
          "metadata": {
            "tags": []
          },
          "execution_count": 28
        }
      ]
    },
    {
      "cell_type": "markdown",
      "metadata": {
        "id": "5DSB_oQ4B-6k",
        "colab_type": "text"
      },
      "source": [
        "##train model with smote features"
      ]
    },
    {
      "cell_type": "code",
      "metadata": {
        "colab_type": "code",
        "outputId": "b4a4a87b-684a-4cde-998d-7be9209d1390",
        "id": "3vnOcINtCRas",
        "colab": {
          "base_uri": "https://localhost:8080/",
          "height": 680
        }
      },
      "source": [
        "classifier = XGBClassifier(max_depth = 4, random_state = 0)\n",
        "model = print_model_results(X_train_smote, X_test, y_train_smote, y_test, classifier, extra_name = 'smote')\n",
        "model = XGBClassifier(max_depth = 4)\n",
        "get_cross_validation(X_train_smote, y_train_smote, model, extra_name = 'smote')"
      ],
      "execution_count": 29,
      "outputs": [
        {
          "output_type": "stream",
          "text": [
            " Train score is 0.9159076633165829\n",
            "\n",
            "\n",
            "Test score is 0.862\n",
            "\n",
            "\n",
            "\n",
            "Train confusion matrix is \n",
            " [[6082  286]\n",
            " [ 785 5583]]\n",
            "\n",
            "Test confusion matrix is \n",
            " [[1495  100]\n",
            " [ 176  229]]\n",
            "\n",
            "\n",
            "\n",
            "Test Set classification report is \n",
            "               precision    recall  f1-score   support\n",
            "\n",
            "           0       0.89      0.94      0.92      1595\n",
            "           1       0.70      0.57      0.62       405\n",
            "\n",
            "    accuracy                           0.86      2000\n",
            "   macro avg       0.80      0.75      0.77      2000\n",
            "weighted avg       0.85      0.86      0.86      2000\n",
            "\n",
            "10 fold cross-validation for -- XGBClassifier_smote-- Model \n",
            "\n",
            "\n",
            "cross validation score for 10 fold cross-validation is:-- \n",
            " [0.72135008 0.71036107 0.84301413 0.96310832 0.96389325 0.96860283\n",
            " 0.9678179  0.95761381 0.95597484 0.96619497]\n",
            "\n",
            "\n",
            "variance in scores for 10 fold cross-validationn for XGBClassifier:-- 0.09964882671990548\n",
            "\n",
            "\n"
          ],
          "name": "stdout"
        },
        {
          "output_type": "execute_result",
          "data": {
            "text/plain": [
              "'Mean for 10 fold cross-validation score:-- 0.9017931192796423'"
            ]
          },
          "metadata": {
            "tags": []
          },
          "execution_count": 29
        }
      ]
    },
    {
      "cell_type": "markdown",
      "metadata": {
        "id": "3rf_heQ5D_Z7",
        "colab_type": "text"
      },
      "source": [
        "##train model with adasyn features"
      ]
    },
    {
      "cell_type": "code",
      "metadata": {
        "colab_type": "code",
        "outputId": "0dddcd3b-d463-4130-fd64-a0ca0107bc55",
        "id": "xb3wiPg2ECaL",
        "colab": {
          "base_uri": "https://localhost:8080/",
          "height": 680
        }
      },
      "source": [
        "classifier = XGBClassifier(max_depth = 4, random_state = 0)\n",
        "model = print_model_results(X_train_adasyn, X_test, y_train_adasyn, y_test, classifier, extra_name = 'adasyn')\n",
        "model = XGBClassifier(max_depth = 4)\n",
        "get_cross_validation(X_train_adasyn, y_train_adasyn, model, extra_name = 'adasyn')"
      ],
      "execution_count": 30,
      "outputs": [
        {
          "output_type": "stream",
          "text": [
            " Train score is 0.9166342033502143\n",
            "\n",
            "\n",
            "Test score is 0.86\n",
            "\n",
            "\n",
            "\n",
            "Train confusion matrix is \n",
            " [[6075  293]\n",
            " [ 777 5690]]\n",
            "\n",
            "Test confusion matrix is \n",
            " [[1490  105]\n",
            " [ 175  230]]\n",
            "\n",
            "\n",
            "\n",
            "Test Set classification report is \n",
            "               precision    recall  f1-score   support\n",
            "\n",
            "           0       0.89      0.93      0.91      1595\n",
            "           1       0.69      0.57      0.62       405\n",
            "\n",
            "    accuracy                           0.86      2000\n",
            "   macro avg       0.79      0.75      0.77      2000\n",
            "weighted avg       0.85      0.86      0.85      2000\n",
            "\n",
            "10 fold cross-validation for -- XGBClassifier_adasyn-- Model \n",
            "\n",
            "\n",
            "cross validation score for 10 fold cross-validation is:-- \n",
            " [0.72352025 0.71183801 0.855919   0.96495327 0.9665109  0.96962617\n",
            " 0.95872274 0.95791115 0.95943838 0.96567863]\n",
            "\n",
            "\n",
            "variance in scores for 10 fold cross-validationn for XGBClassifier:-- 0.09824248592553005\n",
            "\n",
            "\n"
          ],
          "name": "stdout"
        },
        {
          "output_type": "execute_result",
          "data": {
            "text/plain": [
              "'Mean for 10 fold cross-validation score:-- 0.9034118493111458'"
            ]
          },
          "metadata": {
            "tags": []
          },
          "execution_count": 30
        }
      ]
    },
    {
      "cell_type": "code",
      "metadata": {
        "id": "ECMqWDJgHTI4",
        "colab_type": "code",
        "outputId": "88393f85-b112-4eab-ef37-55dce7f7ba4c",
        "colab": {
          "base_uri": "https://localhost:8080/",
          "height": 366
        }
      },
      "source": [
        "x = range(1, 7)\n",
        "means = []\n",
        "variances = []\n",
        "import sys\n",
        "for i in x:\n",
        "  sys.stdout.write(f'\\r Running {i}/{len(x)}')\n",
        "  model = XGBClassifier(max_depth = i)\n",
        "  mean, variance = get_cross_validation(X, y, model, cv = 10, out = False, variance = True)\n",
        "  means.append(mean)\n",
        "  variances.append(variance)\n",
        "  sys.stdout.flush()\n",
        "  if i == x[-1]:\n",
        "    sys.stdout.write(f'\\r Done {i}/{len(x)}')\n",
        "\n",
        "plt.figure(figsize = (12, 5))\n",
        "plt.subplot(1, 2, 1)\n",
        "plt.title('Mean score vs max_depth')\n",
        "plt.xlabel('max_depth')\n",
        "plt.ylabel('Mean Score')\n",
        "plt.plot(x, means, c = 'r', label = 'Mean Scores')\n",
        "plt.legend()\n",
        "plt.subplot(1, 2, 2)\n",
        "plt.title('Variance vs max_depth')\n",
        "plt.xlabel('max_depth')\n",
        "plt.ylabel('Variance')\n",
        "plt.plot(x, variances, c = 'r', label = 'Mean Scores')\n",
        "plt.legend()\n",
        "plt.show()"
      ],
      "execution_count": 0,
      "outputs": [
        {
          "output_type": "stream",
          "text": [
            " Done 6/6"
          ],
          "name": "stdout"
        },
        {
          "output_type": "display_data",
          "data": {
            "image/png": "[encoded data removed]",
            "text/plain": [
              "<matplotlib.figure.Figure at 0x7f1ba3014f98>"
            ]
          },
          "metadata": {
            "tags": []
          }
        }
      ]
    },
    {
      "cell_type": "code",
      "metadata": {
        "id": "cD4hb7n1EicI",
        "colab_type": "code",
        "colab": {
          "base_uri": "https://localhost:8080/",
          "height": 136
        },
        "outputId": "a64ebde1-9d83-414e-d7cf-74880387a8f5"
      },
      "source": [
        "my_global_variables.model_cm"
      ],
      "execution_count": 32,
      "outputs": [
        {
          "output_type": "execute_result",
          "data": {
            "text/plain": [
              "{'XGBClassifier_adasyn': {'test': array([[1490,  105],\n",
              "         [ 175,  230]]), 'train': array([[6075,  293],\n",
              "         [ 777, 5690]])}, 'XGBClassifier_simple': {'test': array([[1526,   69],\n",
              "         [ 199,  206]]), 'train': array([[6208,  160],\n",
              "         [ 803,  829]])}, 'XGBClassifier_smote': {'test': array([[1495,  100],\n",
              "         [ 176,  229]]), 'train': array([[6082,  286],\n",
              "         [ 785, 5583]])}}"
            ]
          },
          "metadata": {
            "tags": []
          },
          "execution_count": 32
        }
      ]
    },
    {
      "cell_type": "code",
      "metadata": {
        "id": "edc7dDB5Enbx",
        "colab_type": "code",
        "colab": {
          "base_uri": "https://localhost:8080/",
          "height": 119
        },
        "outputId": "1950a1f7-2969-44c1-92f8-e1c186d48e67"
      },
      "source": [
        "my_global_variables.model_cross_validation"
      ],
      "execution_count": 34,
      "outputs": [
        {
          "output_type": "execute_result",
          "data": {
            "text/plain": [
              "{'XGBClassifier_adasyn': {'mean': 0.9034118493111458,\n",
              "  'variance': 0.09824248592553005},\n",
              " 'XGBClassifier_simple': {'mean': 0.8643733515599242,\n",
              "  'variance': 0.00969952339670716},\n",
              " 'XGBClassifier_smote': {'mean': 0.9017931192796423,\n",
              "  'variance': 0.09964882671990548}}"
            ]
          },
          "metadata": {
            "tags": []
          },
          "execution_count": 34
        }
      ]
    },
    {
      "cell_type": "code",
      "metadata": {
        "id": "quJz9cfmGm98",
        "colab_type": "code",
        "colab": {
          "base_uri": "https://localhost:8080/",
          "height": 68
        },
        "outputId": "70677eb6-d5ae-4211-8492-bc12327d5ea9"
      },
      "source": [
        "my_global_variables.model_score"
      ],
      "execution_count": 35,
      "outputs": [
        {
          "output_type": "execute_result",
          "data": {
            "text/plain": [
              "{'XGBClassifier_adasyn': {'test': 0.86, 'train': 0.9166342033502143},\n",
              " 'XGBClassifier_simple': {'test': 0.866, 'train': 0.879625},\n",
              " 'XGBClassifier_smote': {'test': 0.862, 'train': 0.9159076633165829}}"
            ]
          },
          "metadata": {
            "tags": []
          },
          "execution_count": 35
        }
      ]
    },
    {
      "cell_type": "code",
      "metadata": {
        "id": "wumcG9tIG2GG",
        "colab_type": "code",
        "colab": {}
      },
      "source": [
        "import seaborn as sns"
      ],
      "execution_count": 0,
      "outputs": []
    },
    {
      "cell_type": "code",
      "metadata": {
        "id": "E6ZSZUYUG8ON",
        "colab_type": "code",
        "colab": {
          "base_uri": "https://localhost:8080/",
          "height": 716
        },
        "outputId": "b6a86170-4af5-462a-f3b6-4d38cfb6f664"
      },
      "source": [
        "plt.figure(figsize = (10, 12))\n",
        "n = 1\n",
        "for i, j in my_global_variables.model_cm.items():\n",
        "  plt.subplot(3, 2, n)\n",
        "  plt.title(f'{i} Train')\n",
        "  sns.heatmap(j.get('train'), annot = True, cmap = 'coolwarm', lw = 2, fmt = 'd')\n",
        "  n += 1\n",
        "  plt.subplot(3, 2, n)\n",
        "  plt.title(f'{i} Test')\n",
        "  sns.heatmap(j.get('test'), annot = True, cmap = 'coolwarm', lw = 2, fmt = 'd')\n",
        "  n += 1\n",
        "  \n",
        "plt.show()"
      ],
      "execution_count": 45,
      "outputs": [
        {
          "output_type": "display_data",
          "data": {
            "image/png": "[encoded data removed]",
            "text/plain": [
              "<Figure size 720x864 with 12 Axes>"
            ]
          },
          "metadata": {
            "tags": []
          }
        }
      ]
    },
    {
      "cell_type": "code",
      "metadata": {
        "id": "nhGgv6MhHeWS",
        "colab_type": "code",
        "colab": {}
      },
      "source": [
        ""
      ],
      "execution_count": 0,
      "outputs": []
    }
  ]
}