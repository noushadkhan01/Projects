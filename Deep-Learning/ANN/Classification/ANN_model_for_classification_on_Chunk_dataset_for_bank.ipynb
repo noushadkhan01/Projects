{
  "nbformat": 4,
  "nbformat_minor": 0,
  "metadata": {
    "colab": {
      "name": "ANN model for classification on Chunk_dataset for bank.ipynb",
      "version": "0.3.2",
      "provenance": [],
      "include_colab_link": true
    },
    "kernelspec": {
      "name": "python3",
      "display_name": "Python 3"
    },
    "accelerator": "TPU"
  },
  "cells": [
    {
      "cell_type": "markdown",
      "metadata": {
        "id": "view-in-github",
        "colab_type": "text"
      },
      "source": [
        "<a href=\"https://colab.research.google.com/github/noushadkhan01/Projects/blob/master/Deep-Learning/ANN/Classification/ANN_model_for_classification_on_Chunk_dataset_for_bank.ipynb\" target=\"_parent\"><img src=\"https://colab.research.google.com/assets/colab-badge.svg\" alt=\"Open In Colab\"/></a>"
      ]
    },
    {
      "cell_type": "code",
      "metadata": {
        "id": "S99Srbfbfibd",
        "colab_type": "code",
        "colab": {}
      },
      "source": [
        "import time\n",
        "start = time.time()\n",
        "import pandas as pd\n",
        "import numpy as np\n",
        "import seaborn as sns\n",
        "import matplotlib.pyplot as plt\n",
        "%matplotlib inline"
      ],
      "execution_count": 0,
      "outputs": []
    },
    {
      "cell_type": "code",
      "metadata": {
        "id": "oQv0_MRnfxdw",
        "colab_type": "code",
        "outputId": "5edd302a-0e71-48e6-8821-7a7df319287d",
        "colab": {
          "base_uri": "https://localhost:8080/",
          "height": 204
        }
      },
      "source": [
        "df = pd.read_csv('https://bit.ly/2QMuIPs')\n",
        "df.head()"
      ],
      "execution_count": 2,
      "outputs": [
        {
          "output_type": "execute_result",
          "data": {
            "text/html": [
              "<div>\n",
              "<style scoped>\n",
              "    .dataframe tbody tr th:only-of-type {\n",
              "        vertical-align: middle;\n",
              "    }\n",
              "\n",
              "    .dataframe tbody tr th {\n",
              "        vertical-align: top;\n",
              "    }\n",
              "\n",
              "    .dataframe thead th {\n",
              "        text-align: right;\n",
              "    }\n",
              "</style>\n",
              "<table border=\"1\" class=\"dataframe\">\n",
              "  <thead>\n",
              "    <tr style=\"text-align: right;\">\n",
              "      <th></th>\n",
              "      <th>RowNumber</th>\n",
              "      <th>CustomerId</th>\n",
              "      <th>Surname</th>\n",
              "      <th>CreditScore</th>\n",
              "      <th>Geography</th>\n",
              "      <th>Gender</th>\n",
              "      <th>Age</th>\n",
              "      <th>Tenure</th>\n",
              "      <th>Balance</th>\n",
              "      <th>NumOfProducts</th>\n",
              "      <th>HasCrCard</th>\n",
              "      <th>IsActiveMember</th>\n",
              "      <th>EstimatedSalary</th>\n",
              "      <th>Exited</th>\n",
              "    </tr>\n",
              "  </thead>\n",
              "  <tbody>\n",
              "    <tr>\n",
              "      <th>0</th>\n",
              "      <td>1</td>\n",
              "      <td>15634602</td>\n",
              "      <td>Hargrave</td>\n",
              "      <td>619</td>\n",
              "      <td>France</td>\n",
              "      <td>Female</td>\n",
              "      <td>42</td>\n",
              "      <td>2</td>\n",
              "      <td>0.00</td>\n",
              "      <td>1</td>\n",
              "      <td>1</td>\n",
              "      <td>1</td>\n",
              "      <td>101348.88</td>\n",
              "      <td>1</td>\n",
              "    </tr>\n",
              "    <tr>\n",
              "      <th>1</th>\n",
              "      <td>2</td>\n",
              "      <td>15647311</td>\n",
              "      <td>Hill</td>\n",
              "      <td>608</td>\n",
              "      <td>Spain</td>\n",
              "      <td>Female</td>\n",
              "      <td>41</td>\n",
              "      <td>1</td>\n",
              "      <td>83807.86</td>\n",
              "      <td>1</td>\n",
              "      <td>0</td>\n",
              "      <td>1</td>\n",
              "      <td>112542.58</td>\n",
              "      <td>0</td>\n",
              "    </tr>\n",
              "    <tr>\n",
              "      <th>2</th>\n",
              "      <td>3</td>\n",
              "      <td>15619304</td>\n",
              "      <td>Onio</td>\n",
              "      <td>502</td>\n",
              "      <td>France</td>\n",
              "      <td>Female</td>\n",
              "      <td>42</td>\n",
              "      <td>8</td>\n",
              "      <td>159660.80</td>\n",
              "      <td>3</td>\n",
              "      <td>1</td>\n",
              "      <td>0</td>\n",
              "      <td>113931.57</td>\n",
              "      <td>1</td>\n",
              "    </tr>\n",
              "    <tr>\n",
              "      <th>3</th>\n",
              "      <td>4</td>\n",
              "      <td>15701354</td>\n",
              "      <td>Boni</td>\n",
              "      <td>699</td>\n",
              "      <td>France</td>\n",
              "      <td>Female</td>\n",
              "      <td>39</td>\n",
              "      <td>1</td>\n",
              "      <td>0.00</td>\n",
              "      <td>2</td>\n",
              "      <td>0</td>\n",
              "      <td>0</td>\n",
              "      <td>93826.63</td>\n",
              "      <td>0</td>\n",
              "    </tr>\n",
              "    <tr>\n",
              "      <th>4</th>\n",
              "      <td>5</td>\n",
              "      <td>15737888</td>\n",
              "      <td>Mitchell</td>\n",
              "      <td>850</td>\n",
              "      <td>Spain</td>\n",
              "      <td>Female</td>\n",
              "      <td>43</td>\n",
              "      <td>2</td>\n",
              "      <td>125510.82</td>\n",
              "      <td>1</td>\n",
              "      <td>1</td>\n",
              "      <td>1</td>\n",
              "      <td>79084.10</td>\n",
              "      <td>0</td>\n",
              "    </tr>\n",
              "  </tbody>\n",
              "</table>\n",
              "</div>"
            ],
            "text/plain": [
              "   RowNumber  CustomerId   Surname  ...  IsActiveMember EstimatedSalary Exited\n",
              "0          1    15634602  Hargrave  ...               1       101348.88      1\n",
              "1          2    15647311      Hill  ...               1       112542.58      0\n",
              "2          3    15619304      Onio  ...               0       113931.57      1\n",
              "3          4    15701354      Boni  ...               0        93826.63      0\n",
              "4          5    15737888  Mitchell  ...               1        79084.10      0\n",
              "\n",
              "[5 rows x 14 columns]"
            ]
          },
          "metadata": {
            "tags": []
          },
          "execution_count": 2
        }
      ]
    },
    {
      "cell_type": "code",
      "metadata": {
        "id": "zDubxtvaf7vQ",
        "colab_type": "code",
        "outputId": "45ab7d21-195e-4f9a-a380-ba9578c82229",
        "colab": {
          "base_uri": "https://localhost:8080/",
          "height": 34
        }
      },
      "source": [
        "df.shape"
      ],
      "execution_count": 3,
      "outputs": [
        {
          "output_type": "execute_result",
          "data": {
            "text/plain": [
              "(10000, 14)"
            ]
          },
          "metadata": {
            "tags": []
          },
          "execution_count": 3
        }
      ]
    },
    {
      "cell_type": "code",
      "metadata": {
        "id": "dyotbPV0f-i4",
        "colab_type": "code",
        "outputId": "5d3a1008-41f2-4caf-e502-6a55e1a6c38c",
        "colab": {
          "base_uri": "https://localhost:8080/",
          "height": 340
        }
      },
      "source": [
        "df.info()"
      ],
      "execution_count": 4,
      "outputs": [
        {
          "output_type": "stream",
          "text": [
            "<class 'pandas.core.frame.DataFrame'>\n",
            "RangeIndex: 10000 entries, 0 to 9999\n",
            "Data columns (total 14 columns):\n",
            "RowNumber          10000 non-null int64\n",
            "CustomerId         10000 non-null int64\n",
            "Surname            10000 non-null object\n",
            "CreditScore        10000 non-null int64\n",
            "Geography          10000 non-null object\n",
            "Gender             10000 non-null object\n",
            "Age                10000 non-null int64\n",
            "Tenure             10000 non-null int64\n",
            "Balance            10000 non-null float64\n",
            "NumOfProducts      10000 non-null int64\n",
            "HasCrCard          10000 non-null int64\n",
            "IsActiveMember     10000 non-null int64\n",
            "EstimatedSalary    10000 non-null float64\n",
            "Exited             10000 non-null int64\n",
            "dtypes: float64(2), int64(9), object(3)\n",
            "memory usage: 1.1+ MB\n"
          ],
          "name": "stdout"
        }
      ]
    },
    {
      "cell_type": "code",
      "metadata": {
        "id": "HQo3UiHlf_h8",
        "colab_type": "code",
        "outputId": "7f38a5da-bbdb-4144-a723-af501a82c9cb",
        "colab": {
          "base_uri": "https://localhost:8080/",
          "height": 317
        }
      },
      "source": [
        "df.describe()"
      ],
      "execution_count": 5,
      "outputs": [
        {
          "output_type": "execute_result",
          "data": {
            "text/html": [
              "<div>\n",
              "<style scoped>\n",
              "    .dataframe tbody tr th:only-of-type {\n",
              "        vertical-align: middle;\n",
              "    }\n",
              "\n",
              "    .dataframe tbody tr th {\n",
              "        vertical-align: top;\n",
              "    }\n",
              "\n",
              "    .dataframe thead th {\n",
              "        text-align: right;\n",
              "    }\n",
              "</style>\n",
              "<table border=\"1\" class=\"dataframe\">\n",
              "  <thead>\n",
              "    <tr style=\"text-align: right;\">\n",
              "      <th></th>\n",
              "      <th>RowNumber</th>\n",
              "      <th>CustomerId</th>\n",
              "      <th>CreditScore</th>\n",
              "      <th>Age</th>\n",
              "      <th>Tenure</th>\n",
              "      <th>Balance</th>\n",
              "      <th>NumOfProducts</th>\n",
              "      <th>HasCrCard</th>\n",
              "      <th>IsActiveMember</th>\n",
              "      <th>EstimatedSalary</th>\n",
              "      <th>Exited</th>\n",
              "    </tr>\n",
              "  </thead>\n",
              "  <tbody>\n",
              "    <tr>\n",
              "      <th>count</th>\n",
              "      <td>10000.00000</td>\n",
              "      <td>1.000000e+04</td>\n",
              "      <td>10000.000000</td>\n",
              "      <td>10000.000000</td>\n",
              "      <td>10000.000000</td>\n",
              "      <td>10000.000000</td>\n",
              "      <td>10000.000000</td>\n",
              "      <td>10000.00000</td>\n",
              "      <td>10000.000000</td>\n",
              "      <td>10000.000000</td>\n",
              "      <td>10000.000000</td>\n",
              "    </tr>\n",
              "    <tr>\n",
              "      <th>mean</th>\n",
              "      <td>5000.50000</td>\n",
              "      <td>1.569094e+07</td>\n",
              "      <td>650.528800</td>\n",
              "      <td>38.921800</td>\n",
              "      <td>5.012800</td>\n",
              "      <td>76485.889288</td>\n",
              "      <td>1.530200</td>\n",
              "      <td>0.70550</td>\n",
              "      <td>0.515100</td>\n",
              "      <td>100090.239881</td>\n",
              "      <td>0.203700</td>\n",
              "    </tr>\n",
              "    <tr>\n",
              "      <th>std</th>\n",
              "      <td>2886.89568</td>\n",
              "      <td>7.193619e+04</td>\n",
              "      <td>96.653299</td>\n",
              "      <td>10.487806</td>\n",
              "      <td>2.892174</td>\n",
              "      <td>62397.405202</td>\n",
              "      <td>0.581654</td>\n",
              "      <td>0.45584</td>\n",
              "      <td>0.499797</td>\n",
              "      <td>57510.492818</td>\n",
              "      <td>0.402769</td>\n",
              "    </tr>\n",
              "    <tr>\n",
              "      <th>min</th>\n",
              "      <td>1.00000</td>\n",
              "      <td>1.556570e+07</td>\n",
              "      <td>350.000000</td>\n",
              "      <td>18.000000</td>\n",
              "      <td>0.000000</td>\n",
              "      <td>0.000000</td>\n",
              "      <td>1.000000</td>\n",
              "      <td>0.00000</td>\n",
              "      <td>0.000000</td>\n",
              "      <td>11.580000</td>\n",
              "      <td>0.000000</td>\n",
              "    </tr>\n",
              "    <tr>\n",
              "      <th>25%</th>\n",
              "      <td>2500.75000</td>\n",
              "      <td>1.562853e+07</td>\n",
              "      <td>584.000000</td>\n",
              "      <td>32.000000</td>\n",
              "      <td>3.000000</td>\n",
              "      <td>0.000000</td>\n",
              "      <td>1.000000</td>\n",
              "      <td>0.00000</td>\n",
              "      <td>0.000000</td>\n",
              "      <td>51002.110000</td>\n",
              "      <td>0.000000</td>\n",
              "    </tr>\n",
              "    <tr>\n",
              "      <th>50%</th>\n",
              "      <td>5000.50000</td>\n",
              "      <td>1.569074e+07</td>\n",
              "      <td>652.000000</td>\n",
              "      <td>37.000000</td>\n",
              "      <td>5.000000</td>\n",
              "      <td>97198.540000</td>\n",
              "      <td>1.000000</td>\n",
              "      <td>1.00000</td>\n",
              "      <td>1.000000</td>\n",
              "      <td>100193.915000</td>\n",
              "      <td>0.000000</td>\n",
              "    </tr>\n",
              "    <tr>\n",
              "      <th>75%</th>\n",
              "      <td>7500.25000</td>\n",
              "      <td>1.575323e+07</td>\n",
              "      <td>718.000000</td>\n",
              "      <td>44.000000</td>\n",
              "      <td>7.000000</td>\n",
              "      <td>127644.240000</td>\n",
              "      <td>2.000000</td>\n",
              "      <td>1.00000</td>\n",
              "      <td>1.000000</td>\n",
              "      <td>149388.247500</td>\n",
              "      <td>0.000000</td>\n",
              "    </tr>\n",
              "    <tr>\n",
              "      <th>max</th>\n",
              "      <td>10000.00000</td>\n",
              "      <td>1.581569e+07</td>\n",
              "      <td>850.000000</td>\n",
              "      <td>92.000000</td>\n",
              "      <td>10.000000</td>\n",
              "      <td>250898.090000</td>\n",
              "      <td>4.000000</td>\n",
              "      <td>1.00000</td>\n",
              "      <td>1.000000</td>\n",
              "      <td>199992.480000</td>\n",
              "      <td>1.000000</td>\n",
              "    </tr>\n",
              "  </tbody>\n",
              "</table>\n",
              "</div>"
            ],
            "text/plain": [
              "         RowNumber    CustomerId  ...  EstimatedSalary        Exited\n",
              "count  10000.00000  1.000000e+04  ...     10000.000000  10000.000000\n",
              "mean    5000.50000  1.569094e+07  ...    100090.239881      0.203700\n",
              "std     2886.89568  7.193619e+04  ...     57510.492818      0.402769\n",
              "min        1.00000  1.556570e+07  ...        11.580000      0.000000\n",
              "25%     2500.75000  1.562853e+07  ...     51002.110000      0.000000\n",
              "50%     5000.50000  1.569074e+07  ...    100193.915000      0.000000\n",
              "75%     7500.25000  1.575323e+07  ...    149388.247500      0.000000\n",
              "max    10000.00000  1.581569e+07  ...    199992.480000      1.000000\n",
              "\n",
              "[8 rows x 11 columns]"
            ]
          },
          "metadata": {
            "tags": []
          },
          "execution_count": 5
        }
      ]
    },
    {
      "cell_type": "markdown",
      "metadata": {
        "id": "nE0p3BFggAto",
        "colab_type": "text"
      },
      "source": [
        "## check for null values"
      ]
    },
    {
      "cell_type": "code",
      "metadata": {
        "id": "jNEcDk-_gDs-",
        "colab_type": "code",
        "outputId": "fecfd6db-41bd-4b6e-f35d-ed37d955d222",
        "colab": {
          "base_uri": "https://localhost:8080/",
          "height": 68
        }
      },
      "source": [
        "df.isnull().sum().sort_values(ascending = False)[:2]"
      ],
      "execution_count": 6,
      "outputs": [
        {
          "output_type": "execute_result",
          "data": {
            "text/plain": [
              "Exited             0\n",
              "EstimatedSalary    0\n",
              "dtype: int64"
            ]
          },
          "metadata": {
            "tags": []
          },
          "execution_count": 6
        }
      ]
    },
    {
      "cell_type": "markdown",
      "metadata": {
        "id": "pCkbns8fgH_F",
        "colab_type": "text"
      },
      "source": [
        "**^^as u can see there is no null value**"
      ]
    },
    {
      "cell_type": "code",
      "metadata": {
        "id": "uv6nWlkWgUB0",
        "colab_type": "code",
        "outputId": "abbd4958-79ed-4d1e-fdde-47694f9cc5e3",
        "colab": {
          "base_uri": "https://localhost:8080/",
          "height": 221
        }
      },
      "source": [
        "df.skew()"
      ],
      "execution_count": 7,
      "outputs": [
        {
          "output_type": "execute_result",
          "data": {
            "text/plain": [
              "RowNumber          0.000000\n",
              "CustomerId         0.001149\n",
              "CreditScore       -0.071607\n",
              "Age                1.011320\n",
              "Tenure             0.010991\n",
              "Balance           -0.141109\n",
              "NumOfProducts      0.745568\n",
              "HasCrCard         -0.901812\n",
              "IsActiveMember    -0.060437\n",
              "EstimatedSalary    0.002085\n",
              "Exited             1.471611\n",
              "dtype: float64"
            ]
          },
          "metadata": {
            "tags": []
          },
          "execution_count": 7
        }
      ]
    },
    {
      "cell_type": "code",
      "metadata": {
        "id": "q7OojanNgllv",
        "colab_type": "code",
        "outputId": "9c23045b-f42f-4aad-fdf0-7a32a01123ca",
        "colab": {
          "base_uri": "https://localhost:8080/",
          "height": 34
        }
      },
      "source": [
        "np.log1p(df.Age).skew()"
      ],
      "execution_count": 8,
      "outputs": [
        {
          "output_type": "execute_result",
          "data": {
            "text/plain": [
              "0.20336041516983316"
            ]
          },
          "metadata": {
            "tags": []
          },
          "execution_count": 8
        }
      ]
    },
    {
      "cell_type": "markdown",
      "metadata": {
        "id": "u7d9RSYyiOKm",
        "colab_type": "text"
      },
      "source": [
        "## import important dependencies"
      ]
    },
    {
      "cell_type": "code",
      "metadata": {
        "id": "kHURLRKli0yL",
        "colab_type": "code",
        "colab": {}
      },
      "source": [
        "import tensorflow as tf\n",
        "from tensorflow import keras"
      ],
      "execution_count": 0,
      "outputs": []
    },
    {
      "cell_type": "code",
      "metadata": {
        "id": "h3LD0pKijiDY",
        "colab_type": "code",
        "outputId": "1f176525-2d8b-4a80-8e26-394ef25f3c27",
        "colab": {
          "base_uri": "https://localhost:8080/",
          "height": 80
        }
      },
      "source": [
        "df.head(1)"
      ],
      "execution_count": 10,
      "outputs": [
        {
          "output_type": "execute_result",
          "data": {
            "text/html": [
              "<div>\n",
              "<style scoped>\n",
              "    .dataframe tbody tr th:only-of-type {\n",
              "        vertical-align: middle;\n",
              "    }\n",
              "\n",
              "    .dataframe tbody tr th {\n",
              "        vertical-align: top;\n",
              "    }\n",
              "\n",
              "    .dataframe thead th {\n",
              "        text-align: right;\n",
              "    }\n",
              "</style>\n",
              "<table border=\"1\" class=\"dataframe\">\n",
              "  <thead>\n",
              "    <tr style=\"text-align: right;\">\n",
              "      <th></th>\n",
              "      <th>RowNumber</th>\n",
              "      <th>CustomerId</th>\n",
              "      <th>Surname</th>\n",
              "      <th>CreditScore</th>\n",
              "      <th>Geography</th>\n",
              "      <th>Gender</th>\n",
              "      <th>Age</th>\n",
              "      <th>Tenure</th>\n",
              "      <th>Balance</th>\n",
              "      <th>NumOfProducts</th>\n",
              "      <th>HasCrCard</th>\n",
              "      <th>IsActiveMember</th>\n",
              "      <th>EstimatedSalary</th>\n",
              "      <th>Exited</th>\n",
              "    </tr>\n",
              "  </thead>\n",
              "  <tbody>\n",
              "    <tr>\n",
              "      <th>0</th>\n",
              "      <td>1</td>\n",
              "      <td>15634602</td>\n",
              "      <td>Hargrave</td>\n",
              "      <td>619</td>\n",
              "      <td>France</td>\n",
              "      <td>Female</td>\n",
              "      <td>42</td>\n",
              "      <td>2</td>\n",
              "      <td>0.0</td>\n",
              "      <td>1</td>\n",
              "      <td>1</td>\n",
              "      <td>1</td>\n",
              "      <td>101348.88</td>\n",
              "      <td>1</td>\n",
              "    </tr>\n",
              "  </tbody>\n",
              "</table>\n",
              "</div>"
            ],
            "text/plain": [
              "   RowNumber  CustomerId   Surname  ...  IsActiveMember EstimatedSalary Exited\n",
              "0          1    15634602  Hargrave  ...               1       101348.88      1\n",
              "\n",
              "[1 rows x 14 columns]"
            ]
          },
          "metadata": {
            "tags": []
          },
          "execution_count": 10
        }
      ]
    },
    {
      "cell_type": "code",
      "metadata": {
        "id": "bqgrcYKKj2de",
        "colab_type": "code",
        "outputId": "78c6f5dd-89d8-4eaf-d36a-c9bad346693e",
        "colab": {
          "base_uri": "https://localhost:8080/",
          "height": 80
        }
      },
      "source": [
        "df = df.iloc[:, 3:]\n",
        "df.head(1)"
      ],
      "execution_count": 11,
      "outputs": [
        {
          "output_type": "execute_result",
          "data": {
            "text/html": [
              "<div>\n",
              "<style scoped>\n",
              "    .dataframe tbody tr th:only-of-type {\n",
              "        vertical-align: middle;\n",
              "    }\n",
              "\n",
              "    .dataframe tbody tr th {\n",
              "        vertical-align: top;\n",
              "    }\n",
              "\n",
              "    .dataframe thead th {\n",
              "        text-align: right;\n",
              "    }\n",
              "</style>\n",
              "<table border=\"1\" class=\"dataframe\">\n",
              "  <thead>\n",
              "    <tr style=\"text-align: right;\">\n",
              "      <th></th>\n",
              "      <th>CreditScore</th>\n",
              "      <th>Geography</th>\n",
              "      <th>Gender</th>\n",
              "      <th>Age</th>\n",
              "      <th>Tenure</th>\n",
              "      <th>Balance</th>\n",
              "      <th>NumOfProducts</th>\n",
              "      <th>HasCrCard</th>\n",
              "      <th>IsActiveMember</th>\n",
              "      <th>EstimatedSalary</th>\n",
              "      <th>Exited</th>\n",
              "    </tr>\n",
              "  </thead>\n",
              "  <tbody>\n",
              "    <tr>\n",
              "      <th>0</th>\n",
              "      <td>619</td>\n",
              "      <td>France</td>\n",
              "      <td>Female</td>\n",
              "      <td>42</td>\n",
              "      <td>2</td>\n",
              "      <td>0.0</td>\n",
              "      <td>1</td>\n",
              "      <td>1</td>\n",
              "      <td>1</td>\n",
              "      <td>101348.88</td>\n",
              "      <td>1</td>\n",
              "    </tr>\n",
              "  </tbody>\n",
              "</table>\n",
              "</div>"
            ],
            "text/plain": [
              "   CreditScore Geography  Gender  ...  IsActiveMember  EstimatedSalary  Exited\n",
              "0          619    France  Female  ...               1        101348.88       1\n",
              "\n",
              "[1 rows x 11 columns]"
            ]
          },
          "metadata": {
            "tags": []
          },
          "execution_count": 11
        }
      ]
    },
    {
      "cell_type": "code",
      "metadata": {
        "id": "I2DQlX3LkAjW",
        "colab_type": "code",
        "outputId": "a90af8f7-56f8-4bd9-ebaf-428d6b04f819",
        "colab": {
          "base_uri": "https://localhost:8080/",
          "height": 80
        }
      },
      "source": [
        "df = pd.get_dummies(df, drop_first = True)\n",
        "df.head(1)"
      ],
      "execution_count": 12,
      "outputs": [
        {
          "output_type": "execute_result",
          "data": {
            "text/html": [
              "<div>\n",
              "<style scoped>\n",
              "    .dataframe tbody tr th:only-of-type {\n",
              "        vertical-align: middle;\n",
              "    }\n",
              "\n",
              "    .dataframe tbody tr th {\n",
              "        vertical-align: top;\n",
              "    }\n",
              "\n",
              "    .dataframe thead th {\n",
              "        text-align: right;\n",
              "    }\n",
              "</style>\n",
              "<table border=\"1\" class=\"dataframe\">\n",
              "  <thead>\n",
              "    <tr style=\"text-align: right;\">\n",
              "      <th></th>\n",
              "      <th>CreditScore</th>\n",
              "      <th>Age</th>\n",
              "      <th>Tenure</th>\n",
              "      <th>Balance</th>\n",
              "      <th>NumOfProducts</th>\n",
              "      <th>HasCrCard</th>\n",
              "      <th>IsActiveMember</th>\n",
              "      <th>EstimatedSalary</th>\n",
              "      <th>Exited</th>\n",
              "      <th>Geography_Germany</th>\n",
              "      <th>Geography_Spain</th>\n",
              "      <th>Gender_Male</th>\n",
              "    </tr>\n",
              "  </thead>\n",
              "  <tbody>\n",
              "    <tr>\n",
              "      <th>0</th>\n",
              "      <td>619</td>\n",
              "      <td>42</td>\n",
              "      <td>2</td>\n",
              "      <td>0.0</td>\n",
              "      <td>1</td>\n",
              "      <td>1</td>\n",
              "      <td>1</td>\n",
              "      <td>101348.88</td>\n",
              "      <td>1</td>\n",
              "      <td>0</td>\n",
              "      <td>0</td>\n",
              "      <td>0</td>\n",
              "    </tr>\n",
              "  </tbody>\n",
              "</table>\n",
              "</div>"
            ],
            "text/plain": [
              "   CreditScore  Age  Tenure  ...  Geography_Germany  Geography_Spain  Gender_Male\n",
              "0          619   42       2  ...                  0                0            0\n",
              "\n",
              "[1 rows x 12 columns]"
            ]
          },
          "metadata": {
            "tags": []
          },
          "execution_count": 12
        }
      ]
    },
    {
      "cell_type": "code",
      "metadata": {
        "id": "yAMvq6oFkIge",
        "colab_type": "code",
        "outputId": "c519f47c-046b-403e-8f4f-84221dcac2fd",
        "colab": {
          "base_uri": "https://localhost:8080/",
          "height": 34
        }
      },
      "source": [
        "X = df.drop('Exited', 1)\n",
        "y = df.Exited\n",
        "X.shape, y.shape"
      ],
      "execution_count": 13,
      "outputs": [
        {
          "output_type": "execute_result",
          "data": {
            "text/plain": [
              "((10000, 11), (10000,))"
            ]
          },
          "metadata": {
            "tags": []
          },
          "execution_count": 13
        }
      ]
    },
    {
      "cell_type": "markdown",
      "metadata": {
        "id": "3vllGMuVkSo2",
        "colab_type": "text"
      },
      "source": [
        "## StandardScaler"
      ]
    },
    {
      "cell_type": "markdown",
      "metadata": {
        "id": "TCWLZVx3kfZY",
        "colab_type": "text"
      },
      "source": [
        "We need to scale out data before applying to neural network becuase of speed"
      ]
    },
    {
      "cell_type": "code",
      "metadata": {
        "id": "rW0Ev8GCl0XC",
        "colab_type": "code",
        "colab": {}
      },
      "source": [
        "from sklearn.model_selection import train_test_split"
      ],
      "execution_count": 0,
      "outputs": []
    },
    {
      "cell_type": "code",
      "metadata": {
        "id": "7A5r1i7fl308",
        "colab_type": "code",
        "outputId": "7263e39c-5e22-424c-cebe-7d49f9718ab5",
        "colab": {
          "base_uri": "https://localhost:8080/",
          "height": 0
        }
      },
      "source": [
        "X_train, X_test, y_train, y_test =train_test_split(X, y, test_size = 0.3, random_state = 0)\n",
        "X_train.shape, X_test.shape, y_train.shape, y_test.shape"
      ],
      "execution_count": 15,
      "outputs": [
        {
          "output_type": "execute_result",
          "data": {
            "text/plain": [
              "((7000, 11), (3000, 11), (7000,), (3000,))"
            ]
          },
          "metadata": {
            "tags": []
          },
          "execution_count": 15
        }
      ]
    },
    {
      "cell_type": "code",
      "metadata": {
        "id": "-5ZEcWv_knNX",
        "colab_type": "code",
        "colab": {}
      },
      "source": [
        "from sklearn.preprocessing import StandardScaler"
      ],
      "execution_count": 0,
      "outputs": []
    },
    {
      "cell_type": "code",
      "metadata": {
        "id": "2rylEvaVbBBU",
        "colab_type": "code",
        "colab": {}
      },
      "source": [
        "sc = StandardScaler()"
      ],
      "execution_count": 0,
      "outputs": []
    },
    {
      "cell_type": "code",
      "metadata": {
        "id": "MKdMfJJ6lXv6",
        "colab_type": "code",
        "outputId": "a12bf04e-fa74-457e-b4e8-633f0fb40fa7",
        "colab": {
          "base_uri": "https://localhost:8080/",
          "height": 0
        }
      },
      "source": [
        "X_train = sc.fit_transform(X_train)\n",
        "X_test = sc.transform(X_test)\n",
        "X_train[:1], X_test[:1]"
      ],
      "execution_count": 18,
      "outputs": [
        {
          "output_type": "execute_result",
          "data": {
            "text/plain": [
              "(array([[-0.09792126, -0.55759842, -1.03635146,  1.13249447,  0.81039385,\n",
              "          0.64198477,  0.96683535, -0.76862426, -0.56987189, -0.5731713 ,\n",
              "          0.92295821]]),\n",
              " array([[-0.55032881, -0.36597914,  1.0436811 ,  0.89172052, -0.92971564,\n",
              "          0.64198477,  0.96683535,  1.61245299,  1.75478035, -0.5731713 ,\n",
              "         -1.08347268]]))"
            ]
          },
          "metadata": {
            "tags": []
          },
          "execution_count": 18
        }
      ]
    },
    {
      "cell_type": "code",
      "metadata": {
        "id": "anfg2SMklcv5",
        "colab_type": "code",
        "outputId": "3ce992a7-c6fd-4806-c3bf-ac5363ce5cfd",
        "colab": {
          "base_uri": "https://localhost:8080/",
          "height": 0
        }
      },
      "source": [
        "y_train = y_train.values\n",
        "y_test = y_test.values\n",
        "y_train[:2], y_test[:2]"
      ],
      "execution_count": 19,
      "outputs": [
        {
          "output_type": "execute_result",
          "data": {
            "text/plain": [
              "(array([1, 0]), array([0, 1]))"
            ]
          },
          "metadata": {
            "tags": []
          },
          "execution_count": 19
        }
      ]
    },
    {
      "cell_type": "markdown",
      "metadata": {
        "id": "7VghYEDmlm9G",
        "colab_type": "text"
      },
      "source": [
        "# Make ANN"
      ]
    },
    {
      "cell_type": "code",
      "metadata": {
        "id": "bP5A2Qxcmw9m",
        "colab_type": "code",
        "colab": {}
      },
      "source": [
        "from tensorflow import keras"
      ],
      "execution_count": 0,
      "outputs": []
    },
    {
      "cell_type": "markdown",
      "metadata": {
        "id": "MhsZ8esrm0Va",
        "colab_type": "text"
      },
      "source": [
        "## import Sequential from keras\n",
        "**it is required to initialize our neural network model**"
      ]
    },
    {
      "cell_type": "markdown",
      "metadata": {
        "id": "KQhGzWV9oza1",
        "colab_type": "text"
      },
      "source": [
        "### Step 1:- create ann model by sequential"
      ]
    },
    {
      "cell_type": "code",
      "metadata": {
        "id": "1UDYUiWInC4S",
        "colab_type": "code",
        "outputId": "2ccd0e44-09e3-4bff-cbc8-f2cc9103be84",
        "colab": {
          "base_uri": "https://localhost:8080/",
          "height": 34
        }
      },
      "source": [
        "#1 first initialize our keras model by Sequential\n",
        "model = keras.models.Sequential()\n",
        "model"
      ],
      "execution_count": 0,
      "outputs": [
        {
          "output_type": "execute_result",
          "data": {
            "text/plain": [
              "<tensorflow.python.keras.engine.sequential.Sequential at 0x7f829ed3b908>"
            ]
          },
          "metadata": {
            "tags": []
          },
          "execution_count": 23
        }
      ]
    },
    {
      "cell_type": "markdown",
      "metadata": {
        "id": "YTm7qlIMoyVA",
        "colab_type": "text"
      },
      "source": [
        "### Step 2:- Add dense layer"
      ]
    },
    {
      "cell_type": "markdown",
      "metadata": {
        "id": "QWMXKUoyrxnv",
        "colab_type": "text"
      },
      "source": [
        "if a data is linenarly separable then their is no need to add hidden layer or don't even need a neural networks by convention"
      ]
    },
    {
      "cell_type": "markdown",
      "metadata": {
        "id": "UI3bNueisCfC",
        "colab_type": "text"
      },
      "source": [
        "**Tip:-- ** no. of nodes in hidden layers is the average of no. of nodes in input layers and no. of node in output layer"
      ]
    },
    {
      "cell_type": "code",
      "metadata": {
        "id": "n7_6nHTpsmmM",
        "colab_type": "code",
        "outputId": "5e579e39-07c7-4da0-f5d4-58dad5c64bd0",
        "colab": {
          "base_uri": "https://localhost:8080/"
        }
      },
      "source": [
        "ninput = 11 #no of independent variables\n",
        "noutput = 1 #output is either 1 or either 0 so no of hidden layers in output is 1\n",
        "nhidden = (ninput + noutput) / 2\n",
        "nhidden"
      ],
      "execution_count": 0,
      "outputs": [
        {
          "output_type": "execute_result",
          "data": {
            "text/plain": [
              "6.0"
            ]
          },
          "metadata": {
            "tags": []
          },
          "execution_count": 24
        }
      ]
    },
    {
      "cell_type": "code",
      "metadata": {
        "id": "-X7gEIosogyu",
        "colab_type": "code",
        "outputId": "f9d63e1b-b3b6-4a95-e9f4-c398ad6b6347",
        "colab": {
          "base_uri": "https://localhost:8080/"
        }
      },
      "source": [
        "model.add(keras.layers.Dense(units = 6, activation = tf.nn.relu, input_dim = 11))"
      ],
      "execution_count": 0,
      "outputs": [
        {
          "output_type": "stream",
          "text": [
            "WARNING: Logging before flag parsing goes to stderr.\n",
            "W0808 17:17:57.034063 140200105752448 deprecation.py:506] From /usr/local/lib/python3.6/dist-packages/tensorflow/python/ops/init_ops.py:1251: calling VarianceScaling.__init__ (from tensorflow.python.ops.init_ops) with dtype is deprecated and will be removed in a future version.\n",
            "Instructions for updating:\n",
            "Call initializer instance with the dtype argument instead of passing it to the constructor\n"
          ],
          "name": "stderr"
        }
      ]
    },
    {
      "cell_type": "code",
      "metadata": {
        "id": "nKeq0BavvReV",
        "colab_type": "code",
        "outputId": "58d59a13-3bd4-43f7-b1f5-3d338b3ece81",
        "colab": {
          "base_uri": "https://localhost:8080/"
        }
      },
      "source": [
        "model"
      ],
      "execution_count": 0,
      "outputs": [
        {
          "output_type": "execute_result",
          "data": {
            "text/plain": [
              "<tensorflow.python.keras.engine.sequential.Sequential at 0x7f829ed3b908>"
            ]
          },
          "metadata": {
            "tags": []
          },
          "execution_count": 26
        }
      ]
    },
    {
      "cell_type": "markdown",
      "metadata": {
        "id": "b2FBW04kKM_p",
        "colab_type": "text"
      },
      "source": [
        "### add 2nd layer"
      ]
    },
    {
      "cell_type": "code",
      "metadata": {
        "id": "nJ-IE_P-KYq_",
        "colab_type": "code",
        "outputId": "f04aa53b-916c-40f9-a2a9-ff9f13574341",
        "colab": {
          "base_uri": "https://localhost:8080/"
        }
      },
      "source": [
        "model.add(keras.layers.Dense(units = 6, activation = tf.nn.relu))\n",
        "model"
      ],
      "execution_count": 0,
      "outputs": [
        {
          "output_type": "execute_result",
          "data": {
            "text/plain": [
              "<tensorflow.python.keras.engine.sequential.Sequential at 0x7f829ed3b908>"
            ]
          },
          "metadata": {
            "tags": []
          },
          "execution_count": 27
        }
      ]
    },
    {
      "cell_type": "markdown",
      "metadata": {
        "id": "-bWgJ-TnKm-E",
        "colab_type": "text"
      },
      "source": [
        "### Step 3:- add output layer"
      ]
    },
    {
      "cell_type": "markdown",
      "metadata": {
        "id": "WVfmLyW1LcN-",
        "colab_type": "text"
      },
      "source": [
        "**there are two types of activation function for output of categorical varibles **\n",
        "- 1**softmax**, which is used when dependent varible have more than two categorical variables\n",
        "- 2 **sigmoid** , which is used when dependent varable have 2 categorical variables"
      ]
    },
    {
      "cell_type": "code",
      "metadata": {
        "id": "CNMiNKekKzMi",
        "colab_type": "code",
        "colab": {}
      },
      "source": [
        "model.add(keras.layers.Dense(units = 1, activation = tf.nn.sigmoid))"
      ],
      "execution_count": 0,
      "outputs": []
    },
    {
      "cell_type": "code",
      "metadata": {
        "id": "awDpLdM8L3V3",
        "colab_type": "code",
        "outputId": "19eea61f-90b4-4c10-d203-244c5906d6f1",
        "colab": {
          "base_uri": "https://localhost:8080/"
        }
      },
      "source": [
        "model"
      ],
      "execution_count": 0,
      "outputs": [
        {
          "output_type": "execute_result",
          "data": {
            "text/plain": [
              "<tensorflow.python.keras.engine.sequential.Sequential at 0x7f829ed3b908>"
            ]
          },
          "metadata": {
            "tags": []
          },
          "execution_count": 29
        }
      ]
    },
    {
      "cell_type": "code",
      "metadata": {
        "id": "AryET_xIbrvI",
        "colab_type": "code",
        "outputId": "12437475-6192-484a-c697-091b93a93249",
        "colab": {
          "base_uri": "https://localhost:8080/"
        }
      },
      "source": [
        "model.summary()"
      ],
      "execution_count": 0,
      "outputs": [
        {
          "output_type": "stream",
          "text": [
            "Model: \"sequential\"\n",
            "_________________________________________________________________\n",
            "Layer (type)                 Output Shape              Param #   \n",
            "=================================================================\n",
            "dense (Dense)                (None, 6)                 72        \n",
            "_________________________________________________________________\n",
            "dense_1 (Dense)              (None, 6)                 42        \n",
            "_________________________________________________________________\n",
            "dense_2 (Dense)              (None, 1)                 7         \n",
            "=================================================================\n",
            "Total params: 121\n",
            "Trainable params: 121\n",
            "Non-trainable params: 0\n",
            "_________________________________________________________________\n"
          ],
          "name": "stdout"
        }
      ]
    },
    {
      "cell_type": "markdown",
      "metadata": {
        "id": "yiYLtGE8ML-z",
        "colab_type": "text"
      },
      "source": [
        "## Step 4:-- compile the model\n",
        "apply stochastic gradient descent method"
      ]
    },
    {
      "cell_type": "code",
      "metadata": {
        "id": "QTa5eId2MiQk",
        "colab_type": "code",
        "outputId": "eaebf91d-e776-4c84-8bb9-61452be8db22",
        "colab": {
          "base_uri": "https://localhost:8080/",
          "height": 105
        }
      },
      "source": [
        "model.compile(optimizer = 'adam', loss = 'binary_crossentropy', metrics = ['accuracy'])\n",
        "model"
      ],
      "execution_count": 0,
      "outputs": [
        {
          "output_type": "stream",
          "text": [
            "W0808 17:17:57.259725 140200105752448 deprecation.py:323] From /usr/local/lib/python3.6/dist-packages/tensorflow/python/ops/nn_impl.py:180: add_dispatch_support.<locals>.wrapper (from tensorflow.python.ops.array_ops) is deprecated and will be removed in a future version.\n",
            "Instructions for updating:\n",
            "Use tf.where in 2.0, which has the same broadcast rule as np.where\n"
          ],
          "name": "stderr"
        },
        {
          "output_type": "execute_result",
          "data": {
            "text/plain": [
              "<tensorflow.python.keras.engine.sequential.Sequential at 0x7f829ed3b908>"
            ]
          },
          "metadata": {
            "tags": []
          },
          "execution_count": 31
        }
      ]
    },
    {
      "cell_type": "markdown",
      "metadata": {
        "id": "gIehsHvMzETc",
        "colab_type": "text"
      },
      "source": [
        "###all step in one one method"
      ]
    },
    {
      "cell_type": "code",
      "metadata": {
        "id": "OBXbWAMLzIWv",
        "colab_type": "code",
        "colab": {}
      },
      "source": [
        "def create_model():\n",
        "  import tensorflow as tf\n",
        "  model = tf.keras.models.Sequential([\n",
        "    tf.keras.layers.Dense(6, activation = tf.nn.relu, input_dim = 11),\n",
        "    tf.keras.layers.Dense(6, activation = tf.nn.relu),\n",
        "    tf.keras.layers.Dense(1, activation = tf.nn.sigmoid)])\n",
        "  model.compile(optimizer='adam',\n",
        "              loss='binary_crossentropy',\n",
        "              metrics=['accuracy'])\n",
        "  return model"
      ],
      "execution_count": 0,
      "outputs": []
    },
    {
      "cell_type": "markdown",
      "metadata": {
        "id": "1WSsamwMN_HI",
        "colab_type": "text"
      },
      "source": [
        "### Step 5:-- fit the model"
      ]
    },
    {
      "cell_type": "markdown",
      "metadata": {
        "id": "aaI6lPV7O7sT",
        "colab_type": "text"
      },
      "source": [
        "batch_size = no. of observation afterwhich u want to update the weights"
      ]
    },
    {
      "cell_type": "code",
      "metadata": {
        "id": "qry1aYV-_15h",
        "colab_type": "code",
        "colab": {}
      },
      "source": [
        "import os\n",
        "checkpoint_path = \"training_1/cp.ckpt\"\n",
        "checkpoint_dir = os.path.dirname(checkpoint_path)\n",
        "\n",
        "# Create checkpoint callback\n",
        "cp_callback = tf.keras.callbacks.ModelCheckpoint(checkpoint_path,\n",
        "                                                 save_weights_only=True,\n",
        "                                                 verbose=1)"
      ],
      "execution_count": 0,
      "outputs": []
    },
    {
      "cell_type": "code",
      "metadata": {
        "id": "BBG13tyga6Gq",
        "colab_type": "code",
        "outputId": "03e55c5f-ee95-444f-8901-c7e5c5badcb9",
        "colab": {
          "base_uri": "https://localhost:8080/",
          "height": 1000
        }
      },
      "source": [
        "import time\n",
        "start = time.time()\n",
        "model.fit(X_train, y_train, batch_size = 10 , epochs = 70,verbose = 0,  class_weight = 'balanced', \n",
        "          validation_data = (X_test, y_test), #callbacks = [cp_callback] use callback if you want to save model in checkpoints\n",
        "          )\n",
        "end = time.time()\n",
        "tpu_time = end - start\n",
        "print(f'tpu run time is {tpu_time}')"
      ],
      "execution_count": 0,
      "outputs": [
        {
          "output_type": "stream",
          "text": [
            "Train on 7000 samples, validate on 3000 samples\n",
            "Epoch 1/70\n",
            "7000/7000 [==============================] - 1s 200us/sample - loss: 0.5116 - acc: 0.7571 - val_loss: 0.4485 - val_acc: 0.7930\n",
            "Epoch 2/70\n",
            "7000/7000 [==============================] - 1s 146us/sample - loss: 0.4311 - acc: 0.7977 - val_loss: 0.4361 - val_acc: 0.7930\n",
            "Epoch 3/70\n",
            "7000/7000 [==============================] - 1s 145us/sample - loss: 0.4227 - acc: 0.7977 - val_loss: 0.4290 - val_acc: 0.7930\n",
            "Epoch 4/70\n",
            "7000/7000 [==============================] - 1s 146us/sample - loss: 0.4156 - acc: 0.7977 - val_loss: 0.4219 - val_acc: 0.7930\n",
            "Epoch 5/70\n",
            "7000/7000 [==============================] - 1s 146us/sample - loss: 0.4092 - acc: 0.8086 - val_loss: 0.4179 - val_acc: 0.8213\n",
            "Epoch 6/70\n",
            "7000/7000 [==============================] - 1s 146us/sample - loss: 0.4030 - acc: 0.8264 - val_loss: 0.4110 - val_acc: 0.8213\n",
            "Epoch 7/70\n",
            "7000/7000 [==============================] - 1s 149us/sample - loss: 0.3969 - acc: 0.8280 - val_loss: 0.4044 - val_acc: 0.8237\n",
            "Epoch 8/70\n",
            "7000/7000 [==============================] - 1s 144us/sample - loss: 0.3918 - acc: 0.8289 - val_loss: 0.3981 - val_acc: 0.8237\n",
            "Epoch 9/70\n",
            "7000/7000 [==============================] - 1s 144us/sample - loss: 0.3867 - acc: 0.8307 - val_loss: 0.3949 - val_acc: 0.8220\n",
            "Epoch 10/70\n",
            "7000/7000 [==============================] - 1s 144us/sample - loss: 0.3829 - acc: 0.8331 - val_loss: 0.3870 - val_acc: 0.8260\n",
            "Epoch 11/70\n",
            "7000/7000 [==============================] - 1s 144us/sample - loss: 0.3788 - acc: 0.8354 - val_loss: 0.3838 - val_acc: 0.8387\n",
            "Epoch 12/70\n",
            "7000/7000 [==============================] - 1s 146us/sample - loss: 0.3761 - acc: 0.8441 - val_loss: 0.3795 - val_acc: 0.8440\n",
            "Epoch 13/70\n",
            "7000/7000 [==============================] - 1s 144us/sample - loss: 0.3733 - acc: 0.8464 - val_loss: 0.3783 - val_acc: 0.8413\n",
            "Epoch 14/70\n",
            "7000/7000 [==============================] - 1s 144us/sample - loss: 0.3712 - acc: 0.8469 - val_loss: 0.3751 - val_acc: 0.8460\n",
            "Epoch 15/70\n",
            "7000/7000 [==============================] - 1s 144us/sample - loss: 0.3690 - acc: 0.8500 - val_loss: 0.3716 - val_acc: 0.8447\n",
            "Epoch 16/70\n",
            "7000/7000 [==============================] - 1s 141us/sample - loss: 0.3662 - acc: 0.8501 - val_loss: 0.3710 - val_acc: 0.8467\n",
            "Epoch 17/70\n",
            "7000/7000 [==============================] - 1s 145us/sample - loss: 0.3644 - acc: 0.8529 - val_loss: 0.3691 - val_acc: 0.8493\n",
            "Epoch 18/70\n",
            "7000/7000 [==============================] - 1s 145us/sample - loss: 0.3630 - acc: 0.8516 - val_loss: 0.3656 - val_acc: 0.8487\n",
            "Epoch 19/70\n",
            "7000/7000 [==============================] - 1s 142us/sample - loss: 0.3617 - acc: 0.8511 - val_loss: 0.3657 - val_acc: 0.8500\n",
            "Epoch 20/70\n",
            "7000/7000 [==============================] - 1s 145us/sample - loss: 0.3606 - acc: 0.8521 - val_loss: 0.3629 - val_acc: 0.8503\n",
            "Epoch 21/70\n",
            "7000/7000 [==============================] - 1s 143us/sample - loss: 0.3594 - acc: 0.8531 - val_loss: 0.3639 - val_acc: 0.8487\n",
            "Epoch 22/70\n",
            "7000/7000 [==============================] - 1s 141us/sample - loss: 0.3584 - acc: 0.8520 - val_loss: 0.3624 - val_acc: 0.8493\n",
            "Epoch 23/70\n",
            "7000/7000 [==============================] - 1s 141us/sample - loss: 0.3583 - acc: 0.8516 - val_loss: 0.3611 - val_acc: 0.8483\n",
            "Epoch 24/70\n",
            "7000/7000 [==============================] - 1s 144us/sample - loss: 0.3573 - acc: 0.8519 - val_loss: 0.3569 - val_acc: 0.8520\n",
            "Epoch 25/70\n",
            "7000/7000 [==============================] - 1s 143us/sample - loss: 0.3569 - acc: 0.8540 - val_loss: 0.3557 - val_acc: 0.8533\n",
            "Epoch 26/70\n",
            "7000/7000 [==============================] - 1s 142us/sample - loss: 0.3562 - acc: 0.8539 - val_loss: 0.3566 - val_acc: 0.8523\n",
            "Epoch 27/70\n",
            "7000/7000 [==============================] - 1s 143us/sample - loss: 0.3552 - acc: 0.8539 - val_loss: 0.3573 - val_acc: 0.8537\n",
            "Epoch 28/70\n",
            "7000/7000 [==============================] - 1s 144us/sample - loss: 0.3545 - acc: 0.8524 - val_loss: 0.3552 - val_acc: 0.8540\n",
            "Epoch 29/70\n",
            "7000/7000 [==============================] - 1s 143us/sample - loss: 0.3545 - acc: 0.8556 - val_loss: 0.3559 - val_acc: 0.8513\n",
            "Epoch 30/70\n",
            "7000/7000 [==============================] - 1s 144us/sample - loss: 0.3537 - acc: 0.8556 - val_loss: 0.3562 - val_acc: 0.8533\n",
            "Epoch 31/70\n",
            "7000/7000 [==============================] - 1s 143us/sample - loss: 0.3535 - acc: 0.8569 - val_loss: 0.3538 - val_acc: 0.8557\n",
            "Epoch 32/70\n",
            "7000/7000 [==============================] - 1s 145us/sample - loss: 0.3533 - acc: 0.8556 - val_loss: 0.3573 - val_acc: 0.8517\n",
            "Epoch 33/70\n",
            "7000/7000 [==============================] - 1s 144us/sample - loss: 0.3519 - acc: 0.8547 - val_loss: 0.3532 - val_acc: 0.8550\n",
            "Epoch 34/70\n",
            "7000/7000 [==============================] - 1s 145us/sample - loss: 0.3522 - acc: 0.8564 - val_loss: 0.3559 - val_acc: 0.8513\n",
            "Epoch 35/70\n",
            "7000/7000 [==============================] - 1s 145us/sample - loss: 0.3515 - acc: 0.8583 - val_loss: 0.3532 - val_acc: 0.8547\n",
            "Epoch 36/70\n",
            "7000/7000 [==============================] - 1s 144us/sample - loss: 0.3510 - acc: 0.8571 - val_loss: 0.3650 - val_acc: 0.8447\n",
            "Epoch 37/70\n",
            "7000/7000 [==============================] - 1s 141us/sample - loss: 0.3517 - acc: 0.8563 - val_loss: 0.3530 - val_acc: 0.8533\n",
            "Epoch 38/70\n",
            "7000/7000 [==============================] - 1s 143us/sample - loss: 0.3511 - acc: 0.8549 - val_loss: 0.3549 - val_acc: 0.8530\n",
            "Epoch 39/70\n",
            "7000/7000 [==============================] - 1s 146us/sample - loss: 0.3507 - acc: 0.8554 - val_loss: 0.3537 - val_acc: 0.8513\n",
            "Epoch 40/70\n",
            "7000/7000 [==============================] - 1s 144us/sample - loss: 0.3501 - acc: 0.8560 - val_loss: 0.3512 - val_acc: 0.8533\n",
            "Epoch 41/70\n",
            "7000/7000 [==============================] - 1s 143us/sample - loss: 0.3499 - acc: 0.8557 - val_loss: 0.3497 - val_acc: 0.8553\n",
            "Epoch 42/70\n",
            "7000/7000 [==============================] - 1s 144us/sample - loss: 0.3499 - acc: 0.8563 - val_loss: 0.3512 - val_acc: 0.8553\n",
            "Epoch 43/70\n",
            "7000/7000 [==============================] - 1s 143us/sample - loss: 0.3495 - acc: 0.8596 - val_loss: 0.3524 - val_acc: 0.8540\n",
            "Epoch 44/70\n",
            "7000/7000 [==============================] - 1s 142us/sample - loss: 0.3494 - acc: 0.8570 - val_loss: 0.3545 - val_acc: 0.8490\n",
            "Epoch 45/70\n",
            "7000/7000 [==============================] - 1s 145us/sample - loss: 0.3494 - acc: 0.8581 - val_loss: 0.3497 - val_acc: 0.8550\n",
            "Epoch 46/70\n",
            "7000/7000 [==============================] - 1s 144us/sample - loss: 0.3489 - acc: 0.8589 - val_loss: 0.3541 - val_acc: 0.8493\n",
            "Epoch 47/70\n",
            "7000/7000 [==============================] - 1s 145us/sample - loss: 0.3491 - acc: 0.8579 - val_loss: 0.3536 - val_acc: 0.8510\n",
            "Epoch 48/70\n",
            "7000/7000 [==============================] - 1s 143us/sample - loss: 0.3487 - acc: 0.8561 - val_loss: 0.3525 - val_acc: 0.8537\n",
            "Epoch 49/70\n",
            "7000/7000 [==============================] - 1s 147us/sample - loss: 0.3489 - acc: 0.8557 - val_loss: 0.3514 - val_acc: 0.8533\n",
            "Epoch 50/70\n",
            "7000/7000 [==============================] - 1s 144us/sample - loss: 0.3480 - acc: 0.8591 - val_loss: 0.3523 - val_acc: 0.8520\n",
            "Epoch 51/70\n",
            "7000/7000 [==============================] - 1s 144us/sample - loss: 0.3481 - acc: 0.8570 - val_loss: 0.3478 - val_acc: 0.8577\n",
            "Epoch 52/70\n",
            "7000/7000 [==============================] - 1s 143us/sample - loss: 0.3472 - acc: 0.8597 - val_loss: 0.3504 - val_acc: 0.8543\n",
            "Epoch 53/70\n",
            "7000/7000 [==============================] - 1s 145us/sample - loss: 0.3478 - acc: 0.8576 - val_loss: 0.3480 - val_acc: 0.8570\n",
            "Epoch 54/70\n",
            "7000/7000 [==============================] - 1s 143us/sample - loss: 0.3473 - acc: 0.8594 - val_loss: 0.3493 - val_acc: 0.8560\n",
            "Epoch 55/70\n",
            "7000/7000 [==============================] - 1s 143us/sample - loss: 0.3473 - acc: 0.8587 - val_loss: 0.3470 - val_acc: 0.8553\n",
            "Epoch 56/70\n",
            "7000/7000 [==============================] - 1s 145us/sample - loss: 0.3464 - acc: 0.8594 - val_loss: 0.3485 - val_acc: 0.8530\n",
            "Epoch 57/70\n",
            "7000/7000 [==============================] - 1s 146us/sample - loss: 0.3469 - acc: 0.8604 - val_loss: 0.3502 - val_acc: 0.8540\n",
            "Epoch 58/70\n",
            "7000/7000 [==============================] - 1s 145us/sample - loss: 0.3449 - acc: 0.8581 - val_loss: 0.3541 - val_acc: 0.8517\n",
            "Epoch 59/70\n",
            "7000/7000 [==============================] - 1s 144us/sample - loss: 0.3462 - acc: 0.8611 - val_loss: 0.3493 - val_acc: 0.8563\n",
            "Epoch 60/70\n",
            "7000/7000 [==============================] - 1s 148us/sample - loss: 0.3459 - acc: 0.8594 - val_loss: 0.3484 - val_acc: 0.8540\n",
            "Epoch 61/70\n",
            "7000/7000 [==============================] - 1s 146us/sample - loss: 0.3456 - acc: 0.8589 - val_loss: 0.3507 - val_acc: 0.8510\n",
            "Epoch 62/70\n",
            "7000/7000 [==============================] - 1s 148us/sample - loss: 0.3455 - acc: 0.8603 - val_loss: 0.3488 - val_acc: 0.8523\n",
            "Epoch 63/70\n",
            "7000/7000 [==============================] - 1s 144us/sample - loss: 0.3451 - acc: 0.8584 - val_loss: 0.3477 - val_acc: 0.8543\n",
            "Epoch 64/70\n",
            "7000/7000 [==============================] - 1s 144us/sample - loss: 0.3451 - acc: 0.8610 - val_loss: 0.3462 - val_acc: 0.8580\n",
            "Epoch 65/70\n",
            "7000/7000 [==============================] - 1s 145us/sample - loss: 0.3448 - acc: 0.8613 - val_loss: 0.3482 - val_acc: 0.8553\n",
            "Epoch 66/70\n",
            "7000/7000 [==============================] - 1s 145us/sample - loss: 0.3439 - acc: 0.8620 - val_loss: 0.3455 - val_acc: 0.8550\n",
            "Epoch 67/70\n",
            "7000/7000 [==============================] - 1s 144us/sample - loss: 0.3440 - acc: 0.8589 - val_loss: 0.3490 - val_acc: 0.8533\n",
            "Epoch 68/70\n",
            "7000/7000 [==============================] - 1s 145us/sample - loss: 0.3439 - acc: 0.8587 - val_loss: 0.3469 - val_acc: 0.8567\n",
            "Epoch 69/70\n",
            "7000/7000 [==============================] - 1s 145us/sample - loss: 0.3434 - acc: 0.8624 - val_loss: 0.3531 - val_acc: 0.8470\n",
            "Epoch 70/70\n",
            "7000/7000 [==============================] - 1s 149us/sample - loss: 0.3444 - acc: 0.8599 - val_loss: 0.3441 - val_acc: 0.8587\n",
            "tpu run time is 72.03990364074707\n"
          ],
          "name": "stdout"
        }
      ]
    },
    {
      "cell_type": "code",
      "metadata": {
        "id": "OvDFrTgGPdXj",
        "colab_type": "code",
        "outputId": "fc561abe-2822-4b25-b41a-8b53f657fa1c",
        "colab": {
          "base_uri": "https://localhost:8080/",
          "height": 34
        }
      },
      "source": [
        "tpu_time"
      ],
      "execution_count": 0,
      "outputs": [
        {
          "output_type": "execute_result",
          "data": {
            "text/plain": [
              "72.03990364074707"
            ]
          },
          "metadata": {
            "tags": []
          },
          "execution_count": 35
        }
      ]
    },
    {
      "cell_type": "markdown",
      "metadata": {
        "id": "RTxMWeaxSlju",
        "colab_type": "text"
      },
      "source": [
        "### Save model with save method"
      ]
    },
    {
      "cell_type": "code",
      "metadata": {
        "id": "LC8UZNEuSr3g",
        "colab_type": "code",
        "colab": {}
      },
      "source": [
        "model.save('my_ann_model_without_dropout.h5')"
      ],
      "execution_count": 0,
      "outputs": []
    },
    {
      "cell_type": "code",
      "metadata": {
        "id": "MjPhI0v7AdZS",
        "colab_type": "code",
        "colab": {}
      },
      "source": [
        "#!ls {checkpoint_dir} for checkp"
      ],
      "execution_count": 0,
      "outputs": []
    },
    {
      "cell_type": "markdown",
      "metadata": {
        "id": "E1GW-z6IPNc8",
        "colab_type": "text"
      },
      "source": [
        "###Train score"
      ]
    },
    {
      "cell_type": "code",
      "metadata": {
        "id": "7v0asej4hB6D",
        "colab_type": "code",
        "outputId": "0da0f4b1-1e0e-426d-9a3a-081c077d1c0a",
        "colab": {
          "base_uri": "https://localhost:8080/",
          "height": 51
        }
      },
      "source": [
        "model.evaluate(X_train, y_train, batch_size = 10)"
      ],
      "execution_count": 0,
      "outputs": [
        {
          "output_type": "stream",
          "text": [
            "7000/7000 [==============================] - 0s 63us/sample - loss: 0.3406 - acc: 0.8614\n"
          ],
          "name": "stdout"
        },
        {
          "output_type": "execute_result",
          "data": {
            "text/plain": [
              "[0.34062693089778934, 0.86142856]"
            ]
          },
          "metadata": {
            "tags": []
          },
          "execution_count": 36
        }
      ]
    },
    {
      "cell_type": "markdown",
      "metadata": {
        "id": "TZm_8zpl9O75",
        "colab_type": "text"
      },
      "source": [
        "###test score"
      ]
    },
    {
      "cell_type": "code",
      "metadata": {
        "id": "PmkSW_m59SGQ",
        "colab_type": "code",
        "outputId": "16c36824-624e-4e59-c51c-98769ed0b46f",
        "colab": {
          "base_uri": "https://localhost:8080/",
          "height": 51
        }
      },
      "source": [
        "model.evaluate(X_test, y_test)"
      ],
      "execution_count": 0,
      "outputs": [
        {
          "output_type": "stream",
          "text": [
            "3000/3000 [==============================] - 0s 25us/sample - loss: 0.3441 - acc: 0.8587\n"
          ],
          "name": "stdout"
        },
        {
          "output_type": "execute_result",
          "data": {
            "text/plain": [
              "[0.34413528577486674, 0.85866666]"
            ]
          },
          "metadata": {
            "tags": []
          },
          "execution_count": 37
        }
      ]
    },
    {
      "cell_type": "markdown",
      "metadata": {
        "id": "QzwDRGL5PfWC",
        "colab_type": "text"
      },
      "source": [
        "### Step 7:- make predictions"
      ]
    },
    {
      "cell_type": "code",
      "metadata": {
        "id": "wBVoGp-QQL2F",
        "colab_type": "code",
        "outputId": "b74f39f0-389f-4075-ead8-ab59148bc4d5",
        "colab": {
          "base_uri": "https://localhost:8080/",
          "height": 51
        }
      },
      "source": [
        "y_pred = model.predict(X_test)\n",
        "y_pred[:2]"
      ],
      "execution_count": 0,
      "outputs": [
        {
          "output_type": "execute_result",
          "data": {
            "text/plain": [
              "array([[0.2118898 ],\n",
              "       [0.34375626]], dtype=float32)"
            ]
          },
          "metadata": {
            "tags": []
          },
          "execution_count": 38
        }
      ]
    },
    {
      "cell_type": "code",
      "metadata": {
        "id": "9kK8TGSBcwn7",
        "colab_type": "code",
        "colab": {}
      },
      "source": [
        "y_pred = y_pred.reshape((y_pred.shape[0]))"
      ],
      "execution_count": 0,
      "outputs": []
    },
    {
      "cell_type": "code",
      "metadata": {
        "id": "WdhEJhPHdt1A",
        "colab_type": "code",
        "outputId": "f5ba833d-dd18-4b9c-eac3-3c4f25bbbdc1",
        "colab": {
          "base_uri": "https://localhost:8080/",
          "height": 51
        }
      },
      "source": [
        "y_pred"
      ],
      "execution_count": 0,
      "outputs": [
        {
          "output_type": "execute_result",
          "data": {
            "text/plain": [
              "array([0.2118898 , 0.34375626, 0.14856061, ..., 0.19052774, 0.04095182,\n",
              "       0.5987141 ], dtype=float32)"
            ]
          },
          "metadata": {
            "tags": []
          },
          "execution_count": 40
        }
      ]
    },
    {
      "cell_type": "code",
      "metadata": {
        "id": "hQ_GjDMwdwve",
        "colab_type": "code",
        "outputId": "355827ee-2068-4a42-9898-101b2c121795",
        "colab": {
          "base_uri": "https://localhost:8080/",
          "height": 34
        }
      },
      "source": [
        "y_test"
      ],
      "execution_count": 0,
      "outputs": [
        {
          "output_type": "execute_result",
          "data": {
            "text/plain": [
              "array([0, 1, 0, ..., 0, 0, 1])"
            ]
          },
          "metadata": {
            "tags": []
          },
          "execution_count": 41
        }
      ]
    },
    {
      "cell_type": "code",
      "metadata": {
        "id": "9bx0px8FdzX6",
        "colab_type": "code",
        "outputId": "1432e5c3-4eec-448a-cfe7-d200cb9b1372",
        "colab": {
          "base_uri": "https://localhost:8080/",
          "height": 34
        }
      },
      "source": [
        "y_pred.shape, y_test.shape"
      ],
      "execution_count": 0,
      "outputs": [
        {
          "output_type": "execute_result",
          "data": {
            "text/plain": [
              "((3000,), (3000,))"
            ]
          },
          "metadata": {
            "tags": []
          },
          "execution_count": 42
        }
      ]
    },
    {
      "cell_type": "code",
      "metadata": {
        "id": "m4yS40lcSK4S",
        "colab_type": "code",
        "outputId": "da39ddba-c38c-48af-e991-fdf1ea2daaf2",
        "colab": {
          "base_uri": "https://localhost:8080/",
          "height": 51
        }
      },
      "source": [
        "from sklearn.metrics import confusion_matrix\n",
        "f_ypred = [1 if i > .5 else 0 for i in y_pred]\n",
        "confusion_matrix(y_test, f_ypred)"
      ],
      "execution_count": 0,
      "outputs": [
        {
          "output_type": "execute_result",
          "data": {
            "text/plain": [
              "array([[2284,   95],\n",
              "       [ 329,  292]])"
            ]
          },
          "metadata": {
            "tags": []
          },
          "execution_count": 43
        }
      ]
    },
    {
      "cell_type": "markdown",
      "metadata": {
        "id": "4uhIHLahPmg0",
        "colab_type": "text"
      },
      "source": [
        "##Cross validation"
      ]
    },
    {
      "cell_type": "markdown",
      "metadata": {
        "id": "JU1cRkwxPrrD",
        "colab_type": "text"
      },
      "source": [
        "to use cross validation with keras models we need to import **KerasClassifier **from keras.models"
      ]
    },
    {
      "cell_type": "code",
      "metadata": {
        "id": "ISL_nm0OP7Sq",
        "colab_type": "code",
        "colab": {}
      },
      "source": [
        "def my_keras_cross_val_score(build_fn):\n",
        "  from keras.wrappers.scikit_learn import KerasClassifier\n",
        "  from sklearn.model_selection import cross_val_score\n",
        "  classifier = KerasClassifier(build_fn = build_fn, batch_size = 10, epochs = 70, verbose = 1)\n",
        "  import time\n",
        "  start = time.time()\n",
        "  scores = cross_val_score(classifier, X_train, y_train, cv = 10, n_jobs = -1, verbose = 1)\n",
        "  end = time.time()\n",
        "  tpu_runtime = end - start\n",
        "  print(f'tpu run time is {tpu_runtime}')\n",
        "  return scores"
      ],
      "execution_count": 0,
      "outputs": []
    },
    {
      "cell_type": "code",
      "metadata": {
        "id": "jXTPcG2LZoeB",
        "colab_type": "code",
        "colab": {}
      },
      "source": [
        "my_keras_cross_val_score(create_model)"
      ],
      "execution_count": 0,
      "outputs": []
    },
    {
      "cell_type": "code",
      "metadata": {
        "id": "d-W5fIloSQ7y",
        "colab_type": "code",
        "outputId": "d8657234-34ab-4339-a3d0-0807b96314ad",
        "colab": {
          "base_uri": "https://localhost:8080/",
          "height": 51
        }
      },
      "source": [
        "scores"
      ],
      "execution_count": 0,
      "outputs": [
        {
          "output_type": "execute_result",
          "data": {
            "text/plain": [
              "array([0.85857141, 0.88571429, 0.85285717, 0.86714286, 0.86714286,\n",
              "       0.84857142, 0.85428572, 0.85714287, 0.86142856, 0.86142856])"
            ]
          },
          "metadata": {
            "tags": []
          },
          "execution_count": 65
        }
      ]
    },
    {
      "cell_type": "code",
      "metadata": {
        "id": "2AHV9pGnTi1I",
        "colab_type": "code",
        "outputId": "99798600-cac5-4cd9-8bee-c161a47794fa",
        "colab": {
          "base_uri": "https://localhost:8080/",
          "height": 34
        }
      },
      "source": [
        "scores.mean(), scores.std()"
      ],
      "execution_count": 0,
      "outputs": [
        {
          "output_type": "execute_result",
          "data": {
            "text/plain": [
              "(0.8614285707473754, 0.009856107709771569)"
            ]
          },
          "metadata": {
            "tags": []
          },
          "execution_count": 67
        }
      ]
    },
    {
      "cell_type": "markdown",
      "metadata": {
        "id": "OZGP_mE2272E",
        "colab_type": "text"
      },
      "source": [
        "##How to use saved model"
      ]
    },
    {
      "cell_type": "code",
      "metadata": {
        "id": "3jK_ESGq3B8R",
        "colab_type": "code",
        "outputId": "3d4c941c-5d88-47a7-c1a2-6e53ec2186af",
        "colab": {
          "base_uri": "https://localhost:8080/",
          "height": 255
        }
      },
      "source": [
        "model2 = tf.keras.models.load_model('my_ann_model_without_dropout.h5')\n",
        "model2.summary()"
      ],
      "execution_count": 0,
      "outputs": [
        {
          "output_type": "stream",
          "text": [
            "Model: \"sequential\"\n",
            "_________________________________________________________________\n",
            "Layer (type)                 Output Shape              Param #   \n",
            "=================================================================\n",
            "dense (Dense)                (None, 6)                 72        \n",
            "_________________________________________________________________\n",
            "dense_1 (Dense)              (None, 6)                 42        \n",
            "_________________________________________________________________\n",
            "dense_2 (Dense)              (None, 1)                 7         \n",
            "=================================================================\n",
            "Total params: 121\n",
            "Trainable params: 121\n",
            "Non-trainable params: 0\n",
            "_________________________________________________________________\n"
          ],
          "name": "stdout"
        }
      ]
    },
    {
      "cell_type": "code",
      "metadata": {
        "id": "Q-WPQL_b3soM",
        "colab_type": "code",
        "outputId": "b3d328e5-fd8c-4d1d-e0b1-e68a6f20af5a",
        "colab": {
          "base_uri": "https://localhost:8080/",
          "height": 34
        }
      },
      "source": [
        "test_loss, test_score = model2.evaluate(X_test, y_test)"
      ],
      "execution_count": 0,
      "outputs": [
        {
          "output_type": "stream",
          "text": [
            "3000/3000 [==============================] - 0s 28us/sample - loss: 0.3441 - acc: 0.8587\n"
          ],
          "name": "stdout"
        }
      ]
    },
    {
      "cell_type": "code",
      "metadata": {
        "id": "4jJCAD3Y9hQX",
        "colab_type": "code",
        "outputId": "6a0ba62b-0127-42f7-d5ab-61c91906b6bf",
        "colab": {
          "base_uri": "https://localhost:8080/",
          "height": 34
        }
      },
      "source": [
        "test_loss, test_score"
      ],
      "execution_count": 0,
      "outputs": [
        {
          "output_type": "execute_result",
          "data": {
            "text/plain": [
              "(0.34413528577486674, 0.85866666)"
            ]
          },
          "metadata": {
            "tags": []
          },
          "execution_count": 71
        }
      ]
    },
    {
      "cell_type": "code",
      "metadata": {
        "id": "1h_lmMdfVw2t",
        "colab_type": "code",
        "outputId": "47a4699f-3ee3-4647-b482-8a10eab7292c",
        "colab": {
          "base_uri": "https://localhost:8080/",
          "height": 51
        }
      },
      "source": [
        "train_loss, test_loss = model2.evaluate(X_train, y_train)\n",
        "train_loss, test_loss"
      ],
      "execution_count": 0,
      "outputs": [
        {
          "output_type": "stream",
          "text": [
            "7000/7000 [==============================] - 0s 24us/sample - loss: 0.3406 - acc: 0.8614\n"
          ],
          "name": "stdout"
        },
        {
          "output_type": "execute_result",
          "data": {
            "text/plain": [
              "(0.34062693190574644, 0.86142856)"
            ]
          },
          "metadata": {
            "tags": []
          },
          "execution_count": 72
        }
      ]
    },
    {
      "cell_type": "markdown",
      "metadata": {
        "id": "NmUr6lDaV5zB",
        "colab_type": "text"
      },
      "source": [
        "##Dropout"
      ]
    },
    {
      "cell_type": "markdown",
      "metadata": {
        "id": "-Gq3a3tyWQ0r",
        "colab_type": "text"
      },
      "source": [
        "dropout is useful when somehow we overfitted the trainig dataset so we need to dismantle some neurons from the layers \n",
        "like .2 dropout means 20 % of neurons are dismantled from the layers after which we have implemented the dropout layer"
      ]
    },
    {
      "cell_type": "code",
      "metadata": {
        "id": "sNvtlKXfWkdO",
        "colab_type": "code",
        "outputId": "55ce05c8-c2d1-4566-825d-bdeed163f2b7",
        "colab": {
          "base_uri": "https://localhost:8080/",
          "height": 323
        }
      },
      "source": [
        "def create_dropout_model():\n",
        "  import tensorflow as tf\n",
        "  model = tf.keras.models.Sequential([\n",
        "    tf.keras.layers.Dense(6, activation = tf.nn.relu, input_dim = 11),\n",
        "    tf.keras.layers.Dropout(rate = .1, seed = 0),\n",
        "    tf.keras.layers.Dense(6, activation = tf.nn.relu),\n",
        "    tf.keras.layers.Dropout(rate = .1, seed = 0),\n",
        "    tf.keras.layers.Dense(1, activation = tf.nn.sigmoid)])\n",
        "  model.compile(optimizer='adam',\n",
        "              loss='binary_crossentropy',\n",
        "              metrics=['accuracy'])\n",
        "  return model\n",
        "model3 = create_dropout_model()\n",
        "model3.summary()"
      ],
      "execution_count": 0,
      "outputs": [
        {
          "output_type": "stream",
          "text": [
            "Model: \"sequential_2\"\n",
            "_________________________________________________________________\n",
            "Layer (type)                 Output Shape              Param #   \n",
            "=================================================================\n",
            "dense_7 (Dense)              (None, 6)                 72        \n",
            "_________________________________________________________________\n",
            "dropout_2 (Dropout)          (None, 6)                 0         \n",
            "_________________________________________________________________\n",
            "dense_8 (Dense)              (None, 6)                 42        \n",
            "_________________________________________________________________\n",
            "dropout_3 (Dropout)          (None, 6)                 0         \n",
            "_________________________________________________________________\n",
            "dense_9 (Dense)              (None, 1)                 7         \n",
            "=================================================================\n",
            "Total params: 121\n",
            "Trainable params: 121\n",
            "Non-trainable params: 0\n",
            "_________________________________________________________________\n"
          ],
          "name": "stdout"
        }
      ]
    },
    {
      "cell_type": "code",
      "metadata": {
        "id": "J_XBs81wX6Y4",
        "colab_type": "code",
        "outputId": "527bacea-f980-415b-b3d7-3eb5615a642d",
        "colab": {
          "base_uri": "https://localhost:8080/",
          "height": 34
        }
      },
      "source": [
        "start = time.time()\n",
        "model3.fit(X_train, y_train, batch_size = 10, epochs = 70, validation_data = (X_test, y_test), verbose = 0)\n",
        "end = time.time()\n",
        "tpu_runtime = end - start\n",
        "print(f'tpu runtime is {tpu_runtime}')"
      ],
      "execution_count": 0,
      "outputs": [
        {
          "output_type": "stream",
          "text": [
            "tpu runtime is 75.71206855773926\n"
          ],
          "name": "stdout"
        }
      ]
    },
    {
      "cell_type": "code",
      "metadata": {
        "id": "WvW4osqSad4U",
        "colab_type": "code",
        "outputId": "71a2db41-bb29-415d-d159-76e70c58d4a7",
        "colab": {
          "base_uri": "https://localhost:8080/",
          "height": 51
        }
      },
      "source": [
        "model3.evaluate(X_train, y_train)"
      ],
      "execution_count": 0,
      "outputs": [
        {
          "output_type": "stream",
          "text": [
            "7000/7000 [==============================] - 0s 26us/sample - loss: 0.3433 - acc: 0.8570\n"
          ],
          "name": "stdout"
        },
        {
          "output_type": "execute_result",
          "data": {
            "text/plain": [
              "[0.3433252932344164, 0.857]"
            ]
          },
          "metadata": {
            "tags": []
          },
          "execution_count": 85
        }
      ]
    },
    {
      "cell_type": "code",
      "metadata": {
        "id": "o7NVUoG9a09W",
        "colab_type": "code",
        "outputId": "3d3e840e-8a79-425b-c629-e399c9f51edb",
        "colab": {
          "base_uri": "https://localhost:8080/",
          "height": 51
        }
      },
      "source": [
        "model3.evaluate(X_test, y_test)"
      ],
      "execution_count": 0,
      "outputs": [
        {
          "output_type": "stream",
          "text": [
            "3000/3000 [==============================] - 0s 32us/sample - loss: 0.3471 - acc: 0.8633\n"
          ],
          "name": "stdout"
        },
        {
          "output_type": "execute_result",
          "data": {
            "text/plain": [
              "[0.34714239565531413, 0.86333334]"
            ]
          },
          "metadata": {
            "tags": []
          },
          "execution_count": 86
        }
      ]
    },
    {
      "cell_type": "markdown",
      "metadata": {
        "id": "75LRMEAXa23a",
        "colab_type": "text"
      },
      "source": [
        "**Now it's may be a good model**"
      ]
    },
    {
      "cell_type": "code",
      "metadata": {
        "id": "azUmYteza_OW",
        "colab_type": "code",
        "colab": {}
      },
      "source": [
        "model3.save('my_ann_with_dropout.h5')"
      ],
      "execution_count": 0,
      "outputs": []
    },
    {
      "cell_type": "code",
      "metadata": {
        "id": "gOf7TLgVbMPU",
        "colab_type": "code",
        "colab": {}
      },
      "source": [
        "from google.colab import files\n",
        "files.download('my_ann_with_dropout.h5')"
      ],
      "execution_count": 0,
      "outputs": []
    },
    {
      "cell_type": "code",
      "metadata": {
        "id": "noKB0NkjbgCo",
        "colab_type": "code",
        "colab": {}
      },
      "source": [
        "files.download('my_ann_model_without_dropout.h5')"
      ],
      "execution_count": 0,
      "outputs": []
    },
    {
      "cell_type": "markdown",
      "metadata": {
        "id": "KWIhVCBBbm8x",
        "colab_type": "text"
      },
      "source": [
        "#Parameter tuning with Scikit_learn's GridSearchCV"
      ]
    },
    {
      "cell_type": "code",
      "metadata": {
        "id": "JWHfN6oxdt3z",
        "colab_type": "code",
        "colab": {}
      },
      "source": [
        "from sklearn.model_selection import GridSearchCV"
      ],
      "execution_count": 0,
      "outputs": []
    },
    {
      "cell_type": "code",
      "metadata": {
        "id": "uIl1VCd-dzEd",
        "colab_type": "code",
        "colab": {}
      },
      "source": [
        "def create_model_for_grid_search(optimizer, units):\n",
        "  import tensorflow as tf\n",
        "  model = tf.keras.models.Sequential([\n",
        "              tf.keras.layers.Dense(units = units, activation = tf.nn.relu, input_dim = 11),\n",
        "              tf.keras.layers.Dropout(0.1),\n",
        "              tf.keras.layers.Dense(units = units, activation = tf.nn.relu),\n",
        "              tf.keras.layers.Dropout(0.1),\n",
        "              tf.keras.layers.Dense(units = 1, activation = tf.nn.sigmoid)\n",
        "              ])\n",
        "  model.compile(optimizer = optimizer,loss = 'binary_crossentropy', metrics = ['accuracy'])\n",
        "  return model"
      ],
      "execution_count": 0,
      "outputs": []
    },
    {
      "cell_type": "code",
      "metadata": {
        "id": "dwOgiRuNfvPa",
        "colab_type": "code",
        "colab": {
          "base_uri": "https://localhost:8080/",
          "height": 34
        },
        "outputId": "18cb21e6-852c-4e2f-ffb9-1b7ec8b0a599"
      },
      "source": [
        "from keras.wrappers.scikit_learn import KerasClassifier"
      ],
      "execution_count": 20,
      "outputs": [
        {
          "output_type": "stream",
          "text": [
            "Using TensorFlow backend.\n"
          ],
          "name": "stderr"
        }
      ]
    },
    {
      "cell_type": "code",
      "metadata": {
        "id": "QmoTZpTcgFtK",
        "colab_type": "code",
        "colab": {}
      },
      "source": [
        "classifier = KerasClassifier(build_fn = create_model_for_grid_search)"
      ],
      "execution_count": 0,
      "outputs": []
    },
    {
      "cell_type": "code",
      "metadata": {
        "id": "eau6gAqXgRzg",
        "colab_type": "code",
        "colab": {}
      },
      "source": [
        "param_grid = {'units': [6],\n",
        "              'optimizer': ['adam', 'rmsprop'],\n",
        "              'batch_size': [10],\n",
        "              'epochs': [70],\n",
        "              }"
      ],
      "execution_count": 0,
      "outputs": []
    },
    {
      "cell_type": "code",
      "metadata": {
        "id": "jixhFv_4gz4L",
        "colab_type": "code",
        "colab": {}
      },
      "source": [
        "grid = GridSearchCV(classifier, param_grid, scoring = 'accuracy', n_jobs = -1, cv = 3, verbose = 10)"
      ],
      "execution_count": 0,
      "outputs": []
    },
    {
      "cell_type": "code",
      "metadata": {
        "id": "YpyChwohhW0P",
        "colab_type": "code",
        "colab": {}
      },
      "source": [
        "from sklearn.preprocessing import StandardScaler"
      ],
      "execution_count": 0,
      "outputs": []
    },
    {
      "cell_type": "code",
      "metadata": {
        "id": "-Oj8-tE-hafb",
        "colab_type": "code",
        "colab": {}
      },
      "source": [
        "sc = StandardScaler()"
      ],
      "execution_count": 0,
      "outputs": []
    },
    {
      "cell_type": "code",
      "metadata": {
        "id": "IRqFmhWshckR",
        "colab_type": "code",
        "outputId": "1caa7922-6ca8-417b-84e5-26038a4cbf07",
        "colab": {
          "base_uri": "https://localhost:8080/",
          "height": 111
        }
      },
      "source": [
        "X[:2]"
      ],
      "execution_count": 38,
      "outputs": [
        {
          "output_type": "execute_result",
          "data": {
            "text/html": [
              "<div>\n",
              "<style scoped>\n",
              "    .dataframe tbody tr th:only-of-type {\n",
              "        vertical-align: middle;\n",
              "    }\n",
              "\n",
              "    .dataframe tbody tr th {\n",
              "        vertical-align: top;\n",
              "    }\n",
              "\n",
              "    .dataframe thead th {\n",
              "        text-align: right;\n",
              "    }\n",
              "</style>\n",
              "<table border=\"1\" class=\"dataframe\">\n",
              "  <thead>\n",
              "    <tr style=\"text-align: right;\">\n",
              "      <th></th>\n",
              "      <th>CreditScore</th>\n",
              "      <th>Age</th>\n",
              "      <th>Tenure</th>\n",
              "      <th>Balance</th>\n",
              "      <th>NumOfProducts</th>\n",
              "      <th>HasCrCard</th>\n",
              "      <th>IsActiveMember</th>\n",
              "      <th>EstimatedSalary</th>\n",
              "      <th>Geography_Germany</th>\n",
              "      <th>Geography_Spain</th>\n",
              "      <th>Gender_Male</th>\n",
              "    </tr>\n",
              "  </thead>\n",
              "  <tbody>\n",
              "    <tr>\n",
              "      <th>0</th>\n",
              "      <td>619</td>\n",
              "      <td>42</td>\n",
              "      <td>2</td>\n",
              "      <td>0.00</td>\n",
              "      <td>1</td>\n",
              "      <td>1</td>\n",
              "      <td>1</td>\n",
              "      <td>101348.88</td>\n",
              "      <td>0</td>\n",
              "      <td>0</td>\n",
              "      <td>0</td>\n",
              "    </tr>\n",
              "    <tr>\n",
              "      <th>1</th>\n",
              "      <td>608</td>\n",
              "      <td>41</td>\n",
              "      <td>1</td>\n",
              "      <td>83807.86</td>\n",
              "      <td>1</td>\n",
              "      <td>0</td>\n",
              "      <td>1</td>\n",
              "      <td>112542.58</td>\n",
              "      <td>0</td>\n",
              "      <td>1</td>\n",
              "      <td>0</td>\n",
              "    </tr>\n",
              "  </tbody>\n",
              "</table>\n",
              "</div>"
            ],
            "text/plain": [
              "   CreditScore  Age  Tenure  ...  Geography_Germany  Geography_Spain  Gender_Male\n",
              "0          619   42       2  ...                  0                0            0\n",
              "1          608   41       1  ...                  0                1            0\n",
              "\n",
              "[2 rows x 11 columns]"
            ]
          },
          "metadata": {
            "tags": []
          },
          "execution_count": 38
        }
      ]
    },
    {
      "cell_type": "code",
      "metadata": {
        "id": "gIAYhZpahfW9",
        "colab_type": "code",
        "outputId": "aa06bd38-67e3-4f95-c6b2-011f56b115b9",
        "colab": {
          "base_uri": "https://localhost:8080/",
          "height": 68
        }
      },
      "source": [
        "y[:2]"
      ],
      "execution_count": 39,
      "outputs": [
        {
          "output_type": "execute_result",
          "data": {
            "text/plain": [
              "0    1\n",
              "1    0\n",
              "Name: Exited, dtype: int64"
            ]
          },
          "metadata": {
            "tags": []
          },
          "execution_count": 39
        }
      ]
    },
    {
      "cell_type": "code",
      "metadata": {
        "id": "4K7cCXqKhgTq",
        "colab_type": "code",
        "outputId": "9d712cef-4f77-4833-9d51-5bf21c6ffb72",
        "colab": {
          "base_uri": "https://localhost:8080/",
          "height": 119
        }
      },
      "source": [
        "X_sc = sc.fit_transform(X)\n",
        "X_sc[:2]"
      ],
      "execution_count": 40,
      "outputs": [
        {
          "output_type": "execute_result",
          "data": {
            "text/plain": [
              "array([[-0.32622142,  0.29351742, -1.04175968, -1.22584767, -0.91158349,\n",
              "         0.64609167,  0.97024255,  0.02188649, -0.57873591, -0.57380915,\n",
              "        -1.09598752],\n",
              "       [-0.44003595,  0.19816383, -1.38753759,  0.11735002, -0.91158349,\n",
              "        -1.54776799,  0.97024255,  0.21653375, -0.57873591,  1.74273971,\n",
              "        -1.09598752]])"
            ]
          },
          "metadata": {
            "tags": []
          },
          "execution_count": 40
        }
      ]
    },
    {
      "cell_type": "code",
      "metadata": {
        "colab_type": "code",
        "id": "zoqtIpXVquIQ",
        "colab": {}
      },
      "source": [
        "param_grid = {'units': [4, 6, 10],\n",
        "              'optimizer': ['adam', 'rmsprop'],\n",
        "              'batch_size': [5, 10],\n",
        "              'epochs': [50, 70],\n",
        "              }"
      ],
      "execution_count": 0,
      "outputs": []
    },
    {
      "cell_type": "code",
      "metadata": {
        "colab_type": "code",
        "id": "Je06WOwZquIw",
        "colab": {}
      },
      "source": [
        "grid = GridSearchCV(estimator = classifier, param_grid = param_grid, scoring = 'accuracy', n_jobs = -1, cv = 2, verbose = 10)"
      ],
      "execution_count": 0,
      "outputs": []
    },
    {
      "cell_type": "code",
      "metadata": {
        "colab_type": "code",
        "outputId": "488dbd9b-a40a-4382-842c-bb1a3222e3ac",
        "id": "AQnw8ZOKquI1",
        "colab": {
          "base_uri": "https://localhost:8080/",
          "height": 1000
        }
      },
      "source": [
        "import time\n",
        "start = time.time()\n",
        "grid.fit(X_sc, y)\n",
        "end = time.time()\n",
        "tpu_runtime = end - start\n",
        "print(f'tpu running time of this script is {tpu_runtime}')"
      ],
      "execution_count": 55,
      "outputs": [
        {
          "output_type": "stream",
          "text": [
            "Fitting 2 folds for each of 24 candidates, totalling 48 fits\n"
          ],
          "name": "stdout"
        },
        {
          "output_type": "stream",
          "text": [
            "[Parallel(n_jobs=-1)]: Using backend LokyBackend with 2 concurrent workers.\n",
            "[Parallel(n_jobs=-1)]: Done   1 tasks      | elapsed:  1.2min\n",
            "[Parallel(n_jobs=-1)]: Done   4 tasks      | elapsed:  2.4min\n",
            "[Parallel(n_jobs=-1)]: Done   9 tasks      | elapsed:  6.0min\n",
            "[Parallel(n_jobs=-1)]: Done  14 tasks      | elapsed:  9.1min\n",
            "[Parallel(n_jobs=-1)]: Done  21 tasks      | elapsed: 16.2min\n",
            "/usr/local/lib/python3.6/dist-packages/joblib/externals/loky/process_executor.py:706: UserWarning: A worker stopped while some jobs were given to the executor. This can be caused by a too short worker timeout or by a memory leak.\n",
            "  \"timeout or by a memory leak.\", UserWarning\n",
            "[Parallel(n_jobs=-1)]: Done  28 tasks      | elapsed: 19.7min\n",
            "[Parallel(n_jobs=-1)]: Done  37 tasks      | elapsed: 23.0min\n",
            "[Parallel(n_jobs=-1)]: Done  48 out of  48 | elapsed: 27.9min finished\n"
          ],
          "name": "stderr"
        },
        {
          "output_type": "stream",
          "text": [
            "Epoch 1/50\n",
            "10000/10000 [==============================] - 2s 167us/sample - loss: 0.5078 - acc: 0.7690\n",
            "Epoch 2/50\n",
            "10000/10000 [==============================] - 2s 154us/sample - loss: 0.4488 - acc: 0.7986\n",
            "Epoch 3/50\n",
            "10000/10000 [==============================] - 2s 155us/sample - loss: 0.4312 - acc: 0.8152\n",
            "Epoch 4/50\n",
            "10000/10000 [==============================] - 2s 155us/sample - loss: 0.4077 - acc: 0.8290\n",
            "Epoch 5/50\n",
            "10000/10000 [==============================] - 2s 154us/sample - loss: 0.3906 - acc: 0.8432\n",
            "Epoch 6/50\n",
            "10000/10000 [==============================] - 2s 152us/sample - loss: 0.3748 - acc: 0.8479\n",
            "Epoch 7/50\n",
            "10000/10000 [==============================] - 2s 152us/sample - loss: 0.3700 - acc: 0.8472\n",
            "Epoch 8/50\n",
            "10000/10000 [==============================] - 2s 156us/sample - loss: 0.3636 - acc: 0.8491\n",
            "Epoch 9/50\n",
            "10000/10000 [==============================] - 2s 154us/sample - loss: 0.3617 - acc: 0.8493\n",
            "Epoch 10/50\n",
            "10000/10000 [==============================] - 2s 155us/sample - loss: 0.3612 - acc: 0.8510\n",
            "Epoch 11/50\n",
            "10000/10000 [==============================] - 2s 152us/sample - loss: 0.3588 - acc: 0.8499\n",
            "Epoch 12/50\n",
            "10000/10000 [==============================] - 2s 152us/sample - loss: 0.3608 - acc: 0.8527\n",
            "Epoch 13/50\n",
            "10000/10000 [==============================] - 2s 153us/sample - loss: 0.3567 - acc: 0.8501\n",
            "Epoch 14/50\n",
            "10000/10000 [==============================] - 2s 154us/sample - loss: 0.3592 - acc: 0.8548\n",
            "Epoch 15/50\n",
            "10000/10000 [==============================] - 2s 171us/sample - loss: 0.3587 - acc: 0.8544\n",
            "Epoch 16/50\n",
            "10000/10000 [==============================] - 2s 166us/sample - loss: 0.3594 - acc: 0.8477\n",
            "Epoch 17/50\n",
            "10000/10000 [==============================] - 2s 167us/sample - loss: 0.3527 - acc: 0.8536\n",
            "Epoch 18/50\n",
            "10000/10000 [==============================] - 2s 166us/sample - loss: 0.3524 - acc: 0.8551\n",
            "Epoch 19/50\n",
            "10000/10000 [==============================] - 2s 168us/sample - loss: 0.3561 - acc: 0.8559\n",
            "Epoch 20/50\n",
            "10000/10000 [==============================] - 2s 165us/sample - loss: 0.3573 - acc: 0.8526\n",
            "Epoch 21/50\n",
            "10000/10000 [==============================] - 2s 165us/sample - loss: 0.3554 - acc: 0.8528\n",
            "Epoch 22/50\n",
            "10000/10000 [==============================] - 2s 154us/sample - loss: 0.3529 - acc: 0.8562\n",
            "Epoch 23/50\n",
            "10000/10000 [==============================] - 2s 152us/sample - loss: 0.3549 - acc: 0.8543\n",
            "Epoch 24/50\n",
            "10000/10000 [==============================] - 2s 154us/sample - loss: 0.3493 - acc: 0.8571\n",
            "Epoch 25/50\n",
            "10000/10000 [==============================] - 2s 154us/sample - loss: 0.3468 - acc: 0.8576\n",
            "Epoch 26/50\n",
            "10000/10000 [==============================] - 2s 153us/sample - loss: 0.3501 - acc: 0.8580\n",
            "Epoch 27/50\n",
            "10000/10000 [==============================] - 2s 153us/sample - loss: 0.3503 - acc: 0.8569\n",
            "Epoch 28/50\n",
            "10000/10000 [==============================] - 2s 157us/sample - loss: 0.3515 - acc: 0.8552\n",
            "Epoch 29/50\n",
            "10000/10000 [==============================] - 2s 150us/sample - loss: 0.3483 - acc: 0.8568\n",
            "Epoch 30/50\n",
            "10000/10000 [==============================] - 2s 155us/sample - loss: 0.3510 - acc: 0.8591\n",
            "Epoch 31/50\n",
            "10000/10000 [==============================] - 2s 154us/sample - loss: 0.3505 - acc: 0.8561\n",
            "Epoch 32/50\n",
            "10000/10000 [==============================] - 2s 155us/sample - loss: 0.3480 - acc: 0.8580\n",
            "Epoch 33/50\n",
            "10000/10000 [==============================] - 2s 152us/sample - loss: 0.3502 - acc: 0.8554\n",
            "Epoch 34/50\n",
            "10000/10000 [==============================] - 2s 154us/sample - loss: 0.3486 - acc: 0.8576\n",
            "Epoch 35/50\n",
            "10000/10000 [==============================] - 2s 156us/sample - loss: 0.3468 - acc: 0.8589\n",
            "Epoch 36/50\n",
            "10000/10000 [==============================] - 2s 156us/sample - loss: 0.3457 - acc: 0.8612\n",
            "Epoch 37/50\n",
            "10000/10000 [==============================] - 2s 160us/sample - loss: 0.3447 - acc: 0.8580\n",
            "Epoch 38/50\n",
            "10000/10000 [==============================] - 2s 154us/sample - loss: 0.3448 - acc: 0.8590\n",
            "Epoch 39/50\n",
            "10000/10000 [==============================] - 2s 155us/sample - loss: 0.3458 - acc: 0.8591\n",
            "Epoch 40/50\n",
            "10000/10000 [==============================] - 2s 155us/sample - loss: 0.3460 - acc: 0.8598\n",
            "Epoch 41/50\n",
            "10000/10000 [==============================] - 2s 157us/sample - loss: 0.3463 - acc: 0.8582\n",
            "Epoch 42/50\n",
            "10000/10000 [==============================] - 2s 153us/sample - loss: 0.3424 - acc: 0.8606\n",
            "Epoch 43/50\n",
            "10000/10000 [==============================] - 2s 157us/sample - loss: 0.3447 - acc: 0.8592\n",
            "Epoch 44/50\n",
            "10000/10000 [==============================] - 2s 154us/sample - loss: 0.3475 - acc: 0.8573\n",
            "Epoch 45/50\n",
            "10000/10000 [==============================] - 2s 154us/sample - loss: 0.3449 - acc: 0.8578\n",
            "Epoch 46/50\n",
            "10000/10000 [==============================] - 2s 152us/sample - loss: 0.3438 - acc: 0.8585\n",
            "Epoch 47/50\n",
            "10000/10000 [==============================] - 2s 154us/sample - loss: 0.3408 - acc: 0.8605\n",
            "Epoch 48/50\n",
            "10000/10000 [==============================] - 2s 160us/sample - loss: 0.3415 - acc: 0.8570\n",
            "Epoch 49/50\n",
            "10000/10000 [==============================] - 2s 151us/sample - loss: 0.3406 - acc: 0.8617\n",
            "Epoch 50/50\n",
            "10000/10000 [==============================] - 2s 155us/sample - loss: 0.3415 - acc: 0.8611\n",
            "tpu running time of this script is 1751.2760183811188\n"
          ],
          "name": "stdout"
        }
      ]
    },
    {
      "cell_type": "code",
      "metadata": {
        "id": "iybsgSsCr2-X",
        "colab_type": "code",
        "colab": {
          "base_uri": "https://localhost:8080/",
          "height": 34
        },
        "outputId": "99a0ea17-8182-49f1-83cb-00dbb57f7fa5"
      },
      "source": [
        "grid.best_params_"
      ],
      "execution_count": 56,
      "outputs": [
        {
          "output_type": "execute_result",
          "data": {
            "text/plain": [
              "{'batch_size': 10, 'epochs': 50, 'optimizer': 'adam', 'units': 10}"
            ]
          },
          "metadata": {
            "tags": []
          },
          "execution_count": 56
        }
      ]
    },
    {
      "cell_type": "code",
      "metadata": {
        "id": "NrNcs9p6yo_D",
        "colab_type": "code",
        "colab": {
          "base_uri": "https://localhost:8080/",
          "height": 34
        },
        "outputId": "b0adeeed-aafb-4552-8644-15d729fdd248"
      },
      "source": [
        "grid.best_score_"
      ],
      "execution_count": 59,
      "outputs": [
        {
          "output_type": "execute_result",
          "data": {
            "text/plain": [
              "0.8612"
            ]
          },
          "metadata": {
            "tags": []
          },
          "execution_count": 59
        }
      ]
    },
    {
      "cell_type": "code",
      "metadata": {
        "id": "xvLVMlxzy3cz",
        "colab_type": "code",
        "colab": {}
      },
      "source": [
        "def create_model():\n",
        "  model = tf.keras.models.Sequential([\n",
        "                                    tf.keras.layers.Dense(units = 10, activation = tf.nn.relu, input_dim = 11),\n",
        "                                    tf.keras.layers.Dropout(rate = 0.1),\n",
        "                                    tf.keras.layers.Dense(units = 10, activation = tf.nn.relu),\n",
        "                                    tf.keras.layers.Dropout(rate = 0.1),\n",
        "                                    tf.keras.layers.Dense(units = 1, activation = tf.nn.sigmoid)\n",
        "  ])\n",
        "  model.compile(optimizer = 'adam', loss = 'binary_crossentropy', metrics = ['accuracy'])\n",
        "  return model"
      ],
      "execution_count": 0,
      "outputs": []
    },
    {
      "cell_type": "code",
      "metadata": {
        "id": "WCoy6Eng3XrZ",
        "colab_type": "code",
        "colab": {
          "base_uri": "https://localhost:8080/",
          "height": 323
        },
        "outputId": "21d8b87a-f57b-4894-c2f7-df6ccbdd7685"
      },
      "source": [
        "model = create_model()\n",
        "model.summary()"
      ],
      "execution_count": 82,
      "outputs": [
        {
          "output_type": "stream",
          "text": [
            "Model: \"sequential_3\"\n",
            "_________________________________________________________________\n",
            "Layer (type)                 Output Shape              Param #   \n",
            "=================================================================\n",
            "dense_9 (Dense)              (None, 10)                120       \n",
            "_________________________________________________________________\n",
            "dropout_6 (Dropout)          (None, 10)                0         \n",
            "_________________________________________________________________\n",
            "dense_10 (Dense)             (None, 10)                110       \n",
            "_________________________________________________________________\n",
            "dropout_7 (Dropout)          (None, 10)                0         \n",
            "_________________________________________________________________\n",
            "dense_11 (Dense)             (None, 1)                 11        \n",
            "=================================================================\n",
            "Total params: 241\n",
            "Trainable params: 241\n",
            "Non-trainable params: 0\n",
            "_________________________________________________________________\n"
          ],
          "name": "stdout"
        }
      ]
    },
    {
      "cell_type": "code",
      "metadata": {
        "id": "Z0N5rklY0k-S",
        "colab_type": "code",
        "colab": {
          "base_uri": "https://localhost:8080/",
          "height": 1000
        },
        "outputId": "6ccd865b-492c-4389-8a97-32c0f5abb714"
      },
      "source": [
        "model.fit(X_train, y_train,batch_size = 10, epochs = 50, class_weight = 'balanced', validation_data = (X_test, y_test))"
      ],
      "execution_count": 66,
      "outputs": [
        {
          "output_type": "stream",
          "text": [
            "Train on 7000 samples, validate on 3000 samples\n",
            "Epoch 1/50\n",
            "7000/7000 [==============================] - 2s 249us/sample - loss: 0.5132 - acc: 0.7723 - val_loss: 0.4467 - val_acc: 0.8097\n",
            "Epoch 2/50\n",
            "7000/7000 [==============================] - 1s 197us/sample - loss: 0.4527 - acc: 0.8077 - val_loss: 0.4306 - val_acc: 0.8140\n",
            "Epoch 3/50\n",
            "7000/7000 [==============================] - 1s 197us/sample - loss: 0.4327 - acc: 0.8159 - val_loss: 0.4131 - val_acc: 0.8273\n",
            "Epoch 4/50\n",
            "7000/7000 [==============================] - 1s 199us/sample - loss: 0.4168 - acc: 0.8214 - val_loss: 0.3954 - val_acc: 0.8433\n",
            "Epoch 5/50\n",
            "7000/7000 [==============================] - 1s 196us/sample - loss: 0.3998 - acc: 0.8349 - val_loss: 0.3761 - val_acc: 0.8520\n",
            "Epoch 6/50\n",
            "7000/7000 [==============================] - 1s 204us/sample - loss: 0.3862 - acc: 0.8421 - val_loss: 0.3653 - val_acc: 0.8577\n",
            "Epoch 7/50\n",
            "7000/7000 [==============================] - 1s 197us/sample - loss: 0.3825 - acc: 0.8477 - val_loss: 0.3605 - val_acc: 0.8597\n",
            "Epoch 8/50\n",
            "7000/7000 [==============================] - 1s 195us/sample - loss: 0.3738 - acc: 0.8493 - val_loss: 0.3567 - val_acc: 0.8613\n",
            "Epoch 9/50\n",
            "7000/7000 [==============================] - 1s 192us/sample - loss: 0.3742 - acc: 0.8463 - val_loss: 0.3530 - val_acc: 0.8627\n",
            "Epoch 10/50\n",
            "7000/7000 [==============================] - 1s 194us/sample - loss: 0.3742 - acc: 0.8457 - val_loss: 0.3559 - val_acc: 0.8603\n",
            "Epoch 11/50\n",
            "7000/7000 [==============================] - 1s 192us/sample - loss: 0.3669 - acc: 0.8501 - val_loss: 0.3518 - val_acc: 0.8607\n",
            "Epoch 12/50\n",
            "7000/7000 [==============================] - 1s 192us/sample - loss: 0.3672 - acc: 0.8527 - val_loss: 0.3489 - val_acc: 0.8580\n",
            "Epoch 13/50\n",
            "7000/7000 [==============================] - 1s 194us/sample - loss: 0.3662 - acc: 0.8519 - val_loss: 0.3486 - val_acc: 0.8577\n",
            "Epoch 14/50\n",
            "7000/7000 [==============================] - 1s 197us/sample - loss: 0.3609 - acc: 0.8547 - val_loss: 0.3461 - val_acc: 0.8603\n",
            "Epoch 15/50\n",
            "7000/7000 [==============================] - 1s 194us/sample - loss: 0.3633 - acc: 0.8537 - val_loss: 0.3442 - val_acc: 0.8633\n",
            "Epoch 16/50\n",
            "7000/7000 [==============================] - 1s 195us/sample - loss: 0.3596 - acc: 0.8571 - val_loss: 0.3437 - val_acc: 0.8613\n",
            "Epoch 17/50\n",
            "7000/7000 [==============================] - 1s 197us/sample - loss: 0.3608 - acc: 0.8530 - val_loss: 0.3435 - val_acc: 0.8607\n",
            "Epoch 18/50\n",
            "7000/7000 [==============================] - 1s 194us/sample - loss: 0.3570 - acc: 0.8557 - val_loss: 0.3427 - val_acc: 0.8627\n",
            "Epoch 19/50\n",
            "7000/7000 [==============================] - 1s 198us/sample - loss: 0.3648 - acc: 0.8477 - val_loss: 0.3467 - val_acc: 0.8607\n",
            "Epoch 20/50\n",
            "7000/7000 [==============================] - 1s 201us/sample - loss: 0.3562 - acc: 0.8547 - val_loss: 0.3427 - val_acc: 0.8590\n",
            "Epoch 21/50\n",
            "7000/7000 [==============================] - 1s 205us/sample - loss: 0.3634 - acc: 0.8511 - val_loss: 0.3433 - val_acc: 0.8637\n",
            "Epoch 22/50\n",
            "7000/7000 [==============================] - 1s 198us/sample - loss: 0.3605 - acc: 0.8533 - val_loss: 0.3427 - val_acc: 0.8613\n",
            "Epoch 23/50\n",
            "7000/7000 [==============================] - 1s 195us/sample - loss: 0.3608 - acc: 0.8551 - val_loss: 0.3427 - val_acc: 0.8607\n",
            "Epoch 24/50\n",
            "7000/7000 [==============================] - 1s 198us/sample - loss: 0.3602 - acc: 0.8513 - val_loss: 0.3418 - val_acc: 0.8607\n",
            "Epoch 25/50\n",
            "7000/7000 [==============================] - 1s 195us/sample - loss: 0.3586 - acc: 0.8514 - val_loss: 0.3443 - val_acc: 0.8600\n",
            "Epoch 26/50\n",
            "7000/7000 [==============================] - 1s 199us/sample - loss: 0.3612 - acc: 0.8517 - val_loss: 0.3433 - val_acc: 0.8627\n",
            "Epoch 27/50\n",
            "7000/7000 [==============================] - 1s 196us/sample - loss: 0.3591 - acc: 0.8523 - val_loss: 0.3426 - val_acc: 0.8597\n",
            "Epoch 28/50\n",
            "7000/7000 [==============================] - 1s 197us/sample - loss: 0.3574 - acc: 0.8523 - val_loss: 0.3420 - val_acc: 0.8607\n",
            "Epoch 29/50\n",
            "7000/7000 [==============================] - 1s 204us/sample - loss: 0.3556 - acc: 0.8520 - val_loss: 0.3401 - val_acc: 0.8627\n",
            "Epoch 30/50\n",
            "7000/7000 [==============================] - 1s 206us/sample - loss: 0.3544 - acc: 0.8554 - val_loss: 0.3417 - val_acc: 0.8593\n",
            "Epoch 31/50\n",
            "7000/7000 [==============================] - 1s 201us/sample - loss: 0.3552 - acc: 0.8549 - val_loss: 0.3424 - val_acc: 0.8600\n",
            "Epoch 32/50\n",
            "7000/7000 [==============================] - 1s 195us/sample - loss: 0.3581 - acc: 0.8523 - val_loss: 0.3415 - val_acc: 0.8580\n",
            "Epoch 33/50\n",
            "7000/7000 [==============================] - 1s 198us/sample - loss: 0.3505 - acc: 0.8537 - val_loss: 0.3438 - val_acc: 0.8577\n",
            "Epoch 34/50\n",
            "7000/7000 [==============================] - 1s 197us/sample - loss: 0.3539 - acc: 0.8541 - val_loss: 0.3421 - val_acc: 0.8583\n",
            "Epoch 35/50\n",
            "7000/7000 [==============================] - 1s 195us/sample - loss: 0.3536 - acc: 0.8527 - val_loss: 0.3409 - val_acc: 0.8600\n",
            "Epoch 36/50\n",
            "7000/7000 [==============================] - 1s 198us/sample - loss: 0.3539 - acc: 0.8506 - val_loss: 0.3410 - val_acc: 0.8613\n",
            "Epoch 37/50\n",
            "7000/7000 [==============================] - 1s 198us/sample - loss: 0.3526 - acc: 0.8554 - val_loss: 0.3388 - val_acc: 0.8597\n",
            "Epoch 38/50\n",
            "7000/7000 [==============================] - 1s 199us/sample - loss: 0.3531 - acc: 0.8517 - val_loss: 0.3407 - val_acc: 0.8583\n",
            "Epoch 39/50\n",
            "7000/7000 [==============================] - 1s 194us/sample - loss: 0.3536 - acc: 0.8541 - val_loss: 0.3397 - val_acc: 0.8607\n",
            "Epoch 40/50\n",
            "7000/7000 [==============================] - 1s 195us/sample - loss: 0.3523 - acc: 0.8541 - val_loss: 0.3410 - val_acc: 0.8603\n",
            "Epoch 41/50\n",
            "7000/7000 [==============================] - 1s 193us/sample - loss: 0.3480 - acc: 0.8553 - val_loss: 0.3423 - val_acc: 0.8593\n",
            "Epoch 42/50\n",
            "7000/7000 [==============================] - 1s 196us/sample - loss: 0.3523 - acc: 0.8576 - val_loss: 0.3412 - val_acc: 0.8610\n",
            "Epoch 43/50\n",
            "7000/7000 [==============================] - 1s 199us/sample - loss: 0.3532 - acc: 0.8511 - val_loss: 0.3415 - val_acc: 0.8613\n",
            "Epoch 44/50\n",
            "7000/7000 [==============================] - 1s 199us/sample - loss: 0.3519 - acc: 0.8549 - val_loss: 0.3388 - val_acc: 0.8610\n",
            "Epoch 45/50\n",
            "7000/7000 [==============================] - 1s 198us/sample - loss: 0.3520 - acc: 0.8551 - val_loss: 0.3406 - val_acc: 0.8590\n",
            "Epoch 46/50\n",
            "7000/7000 [==============================] - 1s 203us/sample - loss: 0.3472 - acc: 0.8551 - val_loss: 0.3396 - val_acc: 0.8607\n",
            "Epoch 47/50\n",
            "7000/7000 [==============================] - 1s 196us/sample - loss: 0.3568 - acc: 0.8534 - val_loss: 0.3422 - val_acc: 0.8607\n",
            "Epoch 48/50\n",
            "7000/7000 [==============================] - 1s 197us/sample - loss: 0.3466 - acc: 0.8590 - val_loss: 0.3383 - val_acc: 0.8587\n",
            "Epoch 49/50\n",
            "7000/7000 [==============================] - 1s 196us/sample - loss: 0.3506 - acc: 0.8601 - val_loss: 0.3422 - val_acc: 0.8590\n",
            "Epoch 50/50\n",
            "7000/7000 [==============================] - 1s 194us/sample - loss: 0.3520 - acc: 0.8540 - val_loss: 0.3399 - val_acc: 0.8603\n"
          ],
          "name": "stdout"
        },
        {
          "output_type": "execute_result",
          "data": {
            "text/plain": [
              "<tensorflow.python.keras.callbacks.History at 0x7f34544e4470>"
            ]
          },
          "metadata": {
            "tags": []
          },
          "execution_count": 66
        }
      ]
    },
    {
      "cell_type": "code",
      "metadata": {
        "id": "-uj1I57a04dw",
        "colab_type": "code",
        "colab": {
          "base_uri": "https://localhost:8080/",
          "height": 51
        },
        "outputId": "5d4c789d-c692-4dbf-b8f3-93e2238fbf06"
      },
      "source": [
        "model.evaluate(X_train, y_train)"
      ],
      "execution_count": 67,
      "outputs": [
        {
          "output_type": "stream",
          "text": [
            "7000/7000 [==============================] - 0s 25us/sample - loss: 0.3313 - acc: 0.8650\n"
          ],
          "name": "stdout"
        },
        {
          "output_type": "execute_result",
          "data": {
            "text/plain": [
              "[0.33126282599994117, 0.865]"
            ]
          },
          "metadata": {
            "tags": []
          },
          "execution_count": 67
        }
      ]
    },
    {
      "cell_type": "code",
      "metadata": {
        "id": "SsAGu8i_1mdM",
        "colab_type": "code",
        "colab": {
          "base_uri": "https://localhost:8080/",
          "height": 51
        },
        "outputId": "d818e8d2-b77b-4314-b680-760a90251928"
      },
      "source": [
        "model.evaluate(X_test, y_test)"
      ],
      "execution_count": 68,
      "outputs": [
        {
          "output_type": "stream",
          "text": [
            "3000/3000 [==============================] - 0s 27us/sample - loss: 0.3399 - acc: 0.8603\n"
          ],
          "name": "stdout"
        },
        {
          "output_type": "execute_result",
          "data": {
            "text/plain": [
              "[0.33993459765116374, 0.8603333]"
            ]
          },
          "metadata": {
            "tags": []
          },
          "execution_count": 68
        }
      ]
    },
    {
      "cell_type": "code",
      "metadata": {
        "id": "9BYtnNI91ox8",
        "colab_type": "code",
        "colab": {
          "base_uri": "https://localhost:8080/",
          "height": 51
        },
        "outputId": "d61d4829-b3c0-4c3f-d7cf-7a9f35e89a7a"
      },
      "source": [
        "y_pred = model.predict_classes(X_test)\n",
        "y_pred[:2]"
      ],
      "execution_count": 69,
      "outputs": [
        {
          "output_type": "execute_result",
          "data": {
            "text/plain": [
              "array([[0],\n",
              "       [0]], dtype=int32)"
            ]
          },
          "metadata": {
            "tags": []
          },
          "execution_count": 69
        }
      ]
    },
    {
      "cell_type": "code",
      "metadata": {
        "id": "NMCN7Bwy170B",
        "colab_type": "code",
        "colab": {}
      },
      "source": [
        "from sklearn.metrics import confusion_matrix, classification_report"
      ],
      "execution_count": 0,
      "outputs": []
    },
    {
      "cell_type": "code",
      "metadata": {
        "id": "vanyVtpB2BGe",
        "colab_type": "code",
        "colab": {
          "base_uri": "https://localhost:8080/",
          "height": 51
        },
        "outputId": "0f704d2a-7468-4d28-ce76-e69bb4af7f57"
      },
      "source": [
        "confusion_matrix(y_test, y_pred)"
      ],
      "execution_count": 71,
      "outputs": [
        {
          "output_type": "execute_result",
          "data": {
            "text/plain": [
              "array([[2304,   75],\n",
              "       [ 344,  277]])"
            ]
          },
          "metadata": {
            "tags": []
          },
          "execution_count": 71
        }
      ]
    },
    {
      "cell_type": "code",
      "metadata": {
        "id": "A6XNhtJb2Ee5",
        "colab_type": "code",
        "colab": {
          "base_uri": "https://localhost:8080/",
          "height": 170
        },
        "outputId": "4724d369-c42b-4019-cb1d-c2bc982d5997"
      },
      "source": [
        "print(classification_report(y_test, y_pred))"
      ],
      "execution_count": 74,
      "outputs": [
        {
          "output_type": "stream",
          "text": [
            "              precision    recall  f1-score   support\n",
            "\n",
            "           0       0.87      0.97      0.92      2379\n",
            "           1       0.79      0.45      0.57       621\n",
            "\n",
            "    accuracy                           0.86      3000\n",
            "   macro avg       0.83      0.71      0.74      3000\n",
            "weighted avg       0.85      0.86      0.84      3000\n",
            "\n"
          ],
          "name": "stdout"
        }
      ]
    },
    {
      "cell_type": "markdown",
      "metadata": {
        "id": "vNqMSL9k514z",
        "colab_type": "text"
      },
      "source": [
        "#Handle Class imbalance"
      ]
    },
    {
      "cell_type": "markdown",
      "metadata": {
        "id": "L2nWNoPm56c1",
        "colab_type": "text"
      },
      "source": [
        "##1. SMOTE"
      ]
    },
    {
      "cell_type": "code",
      "metadata": {
        "id": "OpHHGlun2N7t",
        "colab_type": "code",
        "colab": {}
      },
      "source": [
        "from imblearn.over_sampling import SMOTE, ADASYN"
      ],
      "execution_count": 0,
      "outputs": []
    },
    {
      "cell_type": "code",
      "metadata": {
        "id": "2dobU5oD2olj",
        "colab_type": "code",
        "colab": {}
      },
      "source": [
        "sm = SMOTE(random_state = 0)"
      ],
      "execution_count": 0,
      "outputs": []
    },
    {
      "cell_type": "code",
      "metadata": {
        "id": "WA1WY9a-2jvS",
        "colab_type": "code",
        "colab": {
          "base_uri": "https://localhost:8080/",
          "height": 34
        },
        "outputId": "f920caaa-561e-4188-e719-f7f007cedd9e"
      },
      "source": [
        "X_smote, y_smote = sm.fit_resample(X_sc, y)\n",
        "X_smote.shape, y_smote.shape"
      ],
      "execution_count": 78,
      "outputs": [
        {
          "output_type": "execute_result",
          "data": {
            "text/plain": [
              "((15926, 11), (15926,))"
            ]
          },
          "metadata": {
            "tags": []
          },
          "execution_count": 78
        }
      ]
    },
    {
      "cell_type": "code",
      "metadata": {
        "id": "roS3ND_v3Mpf",
        "colab_type": "code",
        "colab": {}
      },
      "source": [
        "model_sm = create_model()"
      ],
      "execution_count": 0,
      "outputs": []
    },
    {
      "cell_type": "code",
      "metadata": {
        "id": "_8Nld5Up3lTs",
        "colab_type": "code",
        "colab": {}
      },
      "source": [
        "from sklearn.model_selection import train_test_split"
      ],
      "execution_count": 0,
      "outputs": []
    },
    {
      "cell_type": "code",
      "metadata": {
        "id": "xHDVwBqm3qwi",
        "colab_type": "code",
        "colab": {
          "base_uri": "https://localhost:8080/",
          "height": 34
        },
        "outputId": "3cceb902-9275-423a-88df-f9eb1f1d2a04"
      },
      "source": [
        "X_train_sm, X_test_sm, y_train_sm, y_test_sm = train_test_split(X_smote, y_smote, test_size = 0.3, random_state = 0)\n",
        "X_train_sm.shape,X_test_sm.shape, y_train_sm.shape, y_test_sm.shape"
      ],
      "execution_count": 87,
      "outputs": [
        {
          "output_type": "execute_result",
          "data": {
            "text/plain": [
              "((11148, 11), (4778, 11), (11148,), (4778,))"
            ]
          },
          "metadata": {
            "tags": []
          },
          "execution_count": 87
        }
      ]
    },
    {
      "cell_type": "code",
      "metadata": {
        "id": "pZL3XpAI3jIr",
        "colab_type": "code",
        "colab": {
          "base_uri": "https://localhost:8080/",
          "height": 34
        },
        "outputId": "3b003c94-bbc2-4a4c-a881-5c5761842ba8"
      },
      "source": [
        "model_sm.fit(X_train_sm, y_train_sm, epochs = 50, batch_size = 10,  validation_data = (X_test, y_test), verbose = 0)"
      ],
      "execution_count": 88,
      "outputs": [
        {
          "output_type": "execute_result",
          "data": {
            "text/plain": [
              "<tensorflow.python.keras.callbacks.History at 0x7f3454515390>"
            ]
          },
          "metadata": {
            "tags": []
          },
          "execution_count": 88
        }
      ]
    },
    {
      "cell_type": "code",
      "metadata": {
        "id": "8k2FmaRH5KkO",
        "colab_type": "code",
        "colab": {
          "base_uri": "https://localhost:8080/",
          "height": 51
        },
        "outputId": "f134fdec-b76c-411b-baf8-f8b6585baeca"
      },
      "source": [
        "model_sm.evaluate(X_train_sm, y_train_sm)"
      ],
      "execution_count": 89,
      "outputs": [
        {
          "output_type": "stream",
          "text": [
            "11148/11148 [==============================] - 0s 27us/sample - loss: 0.4284 - acc: 0.7973\n"
          ],
          "name": "stdout"
        },
        {
          "output_type": "execute_result",
          "data": {
            "text/plain": [
              "[0.4283800165810207, 0.79727304]"
            ]
          },
          "metadata": {
            "tags": []
          },
          "execution_count": 89
        }
      ]
    },
    {
      "cell_type": "code",
      "metadata": {
        "id": "wLXoSo5p5Qpu",
        "colab_type": "code",
        "colab": {
          "base_uri": "https://localhost:8080/",
          "height": 51
        },
        "outputId": "c2f1d9f0-8a50-4984-a696-89eaa6fc2841"
      },
      "source": [
        "model_sm.evaluate(X_test_sm, y_test_sm)"
      ],
      "execution_count": 90,
      "outputs": [
        {
          "output_type": "stream",
          "text": [
            "4778/4778 [==============================] - 0s 42us/sample - loss: 0.4521 - acc: 0.7821\n"
          ],
          "name": "stdout"
        },
        {
          "output_type": "execute_result",
          "data": {
            "text/plain": [
              "[0.45206666549113367, 0.7821264]"
            ]
          },
          "metadata": {
            "tags": []
          },
          "execution_count": 90
        }
      ]
    },
    {
      "cell_type": "code",
      "metadata": {
        "id": "NL-93Rc34V55",
        "colab_type": "code",
        "colab": {}
      },
      "source": [
        "def matrix(model, X_test, y_test):\n",
        "  y_pred = model.predict_classes(X_test)\n",
        "  from sklearn.metrics import confusion_matrix, classification_report\n",
        "  print(confusion_matrix(y_test, y_pred))\n",
        "  print(classification_report(y_test, y_pred))"
      ],
      "execution_count": 0,
      "outputs": []
    },
    {
      "cell_type": "code",
      "metadata": {
        "id": "gi_SaYDa5b_z",
        "colab_type": "code",
        "colab": {
          "base_uri": "https://localhost:8080/",
          "height": 204
        },
        "outputId": "0d7cd59b-1b7e-49cf-94b7-517144b61f7d"
      },
      "source": [
        "matrix(model_sm, X_test_sm, y_test_sm)"
      ],
      "execution_count": 92,
      "outputs": [
        {
          "output_type": "stream",
          "text": [
            "[[1961  423]\n",
            " [ 618 1776]]\n",
            "              precision    recall  f1-score   support\n",
            "\n",
            "           0       0.76      0.82      0.79      2384\n",
            "           1       0.81      0.74      0.77      2394\n",
            "\n",
            "    accuracy                           0.78      4778\n",
            "   macro avg       0.78      0.78      0.78      4778\n",
            "weighted avg       0.78      0.78      0.78      4778\n",
            "\n"
          ],
          "name": "stdout"
        }
      ]
    },
    {
      "cell_type": "markdown",
      "metadata": {
        "id": "EPOoCsWK5itf",
        "colab_type": "text"
      },
      "source": [
        "##2. ADASYN"
      ]
    },
    {
      "cell_type": "code",
      "metadata": {
        "id": "p6GJriBK24JM",
        "colab_type": "code",
        "colab": {}
      },
      "source": [
        "ad = ADASYN(random_state = 0)"
      ],
      "execution_count": 0,
      "outputs": []
    },
    {
      "cell_type": "code",
      "metadata": {
        "id": "JPWV3Vb13FmG",
        "colab_type": "code",
        "outputId": "4a615649-b610-4fcf-96cd-3d2a75ee1224",
        "colab": {
          "base_uri": "https://localhost:8080/",
          "height": 34
        }
      },
      "source": [
        "X_ad, y_ad = ad.fit_resample(X_sc, y)\n",
        "X_ad.shape, y_ad.shape"
      ],
      "execution_count": 94,
      "outputs": [
        {
          "output_type": "execute_result",
          "data": {
            "text/plain": [
              "((15959, 11), (15959,))"
            ]
          },
          "metadata": {
            "tags": []
          },
          "execution_count": 94
        }
      ]
    },
    {
      "cell_type": "code",
      "metadata": {
        "id": "m5FU06_v6HVK",
        "colab_type": "code",
        "colab": {
          "base_uri": "https://localhost:8080/",
          "height": 323
        },
        "outputId": "2dcaf351-4f83-4e69-fa33-0d096dbb5c9e"
      },
      "source": [
        "model_ad = create_model()\n",
        "model_ad.summary()"
      ],
      "execution_count": 95,
      "outputs": [
        {
          "output_type": "stream",
          "text": [
            "Model: \"sequential_5\"\n",
            "_________________________________________________________________\n",
            "Layer (type)                 Output Shape              Param #   \n",
            "=================================================================\n",
            "dense_15 (Dense)             (None, 10)                120       \n",
            "_________________________________________________________________\n",
            "dropout_10 (Dropout)         (None, 10)                0         \n",
            "_________________________________________________________________\n",
            "dense_16 (Dense)             (None, 10)                110       \n",
            "_________________________________________________________________\n",
            "dropout_11 (Dropout)         (None, 10)                0         \n",
            "_________________________________________________________________\n",
            "dense_17 (Dense)             (None, 1)                 11        \n",
            "=================================================================\n",
            "Total params: 241\n",
            "Trainable params: 241\n",
            "Non-trainable params: 0\n",
            "_________________________________________________________________\n"
          ],
          "name": "stdout"
        }
      ]
    },
    {
      "cell_type": "code",
      "metadata": {
        "id": "TGCnUZMf6tJh",
        "colab_type": "code",
        "colab": {
          "base_uri": "https://localhost:8080/",
          "height": 34
        },
        "outputId": "35fc3854-cd61-4f32-e270-df090b1f0fcb"
      },
      "source": [
        "X_train, X_test, y_train, y_test = train_test_split(X_ad, y_ad, random_state = 0, test_size = 0.3)\n",
        "X_train.shape, X_test.shape, y_train.shape, y_test.shape"
      ],
      "execution_count": 96,
      "outputs": [
        {
          "output_type": "execute_result",
          "data": {
            "text/plain": [
              "((11171, 11), (4788, 11), (11171,), (4788,))"
            ]
          },
          "metadata": {
            "tags": []
          },
          "execution_count": 96
        }
      ]
    },
    {
      "cell_type": "code",
      "metadata": {
        "id": "PWZYk5IB6VJa",
        "colab_type": "code",
        "colab": {
          "base_uri": "https://localhost:8080/",
          "height": 34
        },
        "outputId": "8261bc30-02ac-432d-e492-c071914604c3"
      },
      "source": [
        "model_ad.fit(X_train, y_train, batch_size = 10, epochs = 50, verbose = 0, validation_data = (X_test, y_test))"
      ],
      "execution_count": 97,
      "outputs": [
        {
          "output_type": "execute_result",
          "data": {
            "text/plain": [
              "<tensorflow.python.keras.callbacks.History at 0x7f3451a02e48>"
            ]
          },
          "metadata": {
            "tags": []
          },
          "execution_count": 97
        }
      ]
    },
    {
      "cell_type": "code",
      "metadata": {
        "id": "UwCrCc0W8Pm0",
        "colab_type": "code",
        "colab": {
          "base_uri": "https://localhost:8080/",
          "height": 204
        },
        "outputId": "ebee6d0b-bacc-4dde-b3f9-29658f6b73a9"
      },
      "source": [
        "matrix(model_ad, X_test, y_test)"
      ],
      "execution_count": 98,
      "outputs": [
        {
          "output_type": "stream",
          "text": [
            "[[1674  697]\n",
            " [ 483 1934]]\n",
            "              precision    recall  f1-score   support\n",
            "\n",
            "           0       0.78      0.71      0.74      2371\n",
            "           1       0.74      0.80      0.77      2417\n",
            "\n",
            "    accuracy                           0.75      4788\n",
            "   macro avg       0.76      0.75      0.75      4788\n",
            "weighted avg       0.76      0.75      0.75      4788\n",
            "\n"
          ],
          "name": "stdout"
        }
      ]
    },
    {
      "cell_type": "code",
      "metadata": {
        "id": "q4z2fpn68T__",
        "colab_type": "code",
        "colab": {}
      },
      "source": [
        ""
      ],
      "execution_count": 0,
      "outputs": []
    }
  ]
}