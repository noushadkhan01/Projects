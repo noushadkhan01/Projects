{
  "nbformat": 4,
  "nbformat_minor": 0,
  "metadata": {
    "colab": {
      "name": "ANN model for classification on Chunk_dataset for bank.ipynb",
      "version": "0.3.2",
      "provenance": [],
      "include_colab_link": true
    },
    "kernelspec": {
      "name": "python3",
      "display_name": "Python 3"
    },
    "accelerator": "TPU"
  },
  "cells": [
    {
      "cell_type": "markdown",
      "metadata": {
        "id": "view-in-github",
        "colab_type": "text"
      },
      "source": [
        "<a href=\"https://colab.research.google.com/github/noushadkhan01/Projects/blob/master/Deep-Learning/ANN/Classification/ANN_model_for_classification_on_Chunk_dataset_for_bank.ipynb\" target=\"_parent\"><img src=\"https://colab.research.google.com/assets/colab-badge.svg\" alt=\"Open In Colab\"/></a>"
      ]
    },
    {
      "cell_type": "code",
      "metadata": {
        "id": "S99Srbfbfibd",
        "colab_type": "code",
        "colab": {}
      },
      "source": [
        "import time\n",
        "start = time.time()\n",
        "import pandas as pd\n",
        "import numpy as np\n",
        "import seaborn as sns\n",
        "import matplotlib.pyplot as plt\n",
        "%matplotlib inline"
      ],
      "execution_count": 0,
      "outputs": []
    },
    {
      "cell_type": "code",
      "metadata": {
        "id": "oQv0_MRnfxdw",
        "colab_type": "code",
        "outputId": "31de9d65-ec5a-48ba-e328-cf7334777492",
        "colab": {
          "base_uri": "https://localhost:8080/",
          "height": 204
        }
      },
      "source": [
        "df = pd.read_csv('https://bit.ly/2QMuIPs')\n",
        "df.head()"
      ],
      "execution_count": 2,
      "outputs": [
        {
          "output_type": "execute_result",
          "data": {
            "text/html": [
              "<div>\n",
              "<style scoped>\n",
              "    .dataframe tbody tr th:only-of-type {\n",
              "        vertical-align: middle;\n",
              "    }\n",
              "\n",
              "    .dataframe tbody tr th {\n",
              "        vertical-align: top;\n",
              "    }\n",
              "\n",
              "    .dataframe thead th {\n",
              "        text-align: right;\n",
              "    }\n",
              "</style>\n",
              "<table border=\"1\" class=\"dataframe\">\n",
              "  <thead>\n",
              "    <tr style=\"text-align: right;\">\n",
              "      <th></th>\n",
              "      <th>RowNumber</th>\n",
              "      <th>CustomerId</th>\n",
              "      <th>Surname</th>\n",
              "      <th>CreditScore</th>\n",
              "      <th>Geography</th>\n",
              "      <th>Gender</th>\n",
              "      <th>Age</th>\n",
              "      <th>Tenure</th>\n",
              "      <th>Balance</th>\n",
              "      <th>NumOfProducts</th>\n",
              "      <th>HasCrCard</th>\n",
              "      <th>IsActiveMember</th>\n",
              "      <th>EstimatedSalary</th>\n",
              "      <th>Exited</th>\n",
              "    </tr>\n",
              "  </thead>\n",
              "  <tbody>\n",
              "    <tr>\n",
              "      <th>0</th>\n",
              "      <td>1</td>\n",
              "      <td>15634602</td>\n",
              "      <td>Hargrave</td>\n",
              "      <td>619</td>\n",
              "      <td>France</td>\n",
              "      <td>Female</td>\n",
              "      <td>42</td>\n",
              "      <td>2</td>\n",
              "      <td>0.00</td>\n",
              "      <td>1</td>\n",
              "      <td>1</td>\n",
              "      <td>1</td>\n",
              "      <td>101348.88</td>\n",
              "      <td>1</td>\n",
              "    </tr>\n",
              "    <tr>\n",
              "      <th>1</th>\n",
              "      <td>2</td>\n",
              "      <td>15647311</td>\n",
              "      <td>Hill</td>\n",
              "      <td>608</td>\n",
              "      <td>Spain</td>\n",
              "      <td>Female</td>\n",
              "      <td>41</td>\n",
              "      <td>1</td>\n",
              "      <td>83807.86</td>\n",
              "      <td>1</td>\n",
              "      <td>0</td>\n",
              "      <td>1</td>\n",
              "      <td>112542.58</td>\n",
              "      <td>0</td>\n",
              "    </tr>\n",
              "    <tr>\n",
              "      <th>2</th>\n",
              "      <td>3</td>\n",
              "      <td>15619304</td>\n",
              "      <td>Onio</td>\n",
              "      <td>502</td>\n",
              "      <td>France</td>\n",
              "      <td>Female</td>\n",
              "      <td>42</td>\n",
              "      <td>8</td>\n",
              "      <td>159660.80</td>\n",
              "      <td>3</td>\n",
              "      <td>1</td>\n",
              "      <td>0</td>\n",
              "      <td>113931.57</td>\n",
              "      <td>1</td>\n",
              "    </tr>\n",
              "    <tr>\n",
              "      <th>3</th>\n",
              "      <td>4</td>\n",
              "      <td>15701354</td>\n",
              "      <td>Boni</td>\n",
              "      <td>699</td>\n",
              "      <td>France</td>\n",
              "      <td>Female</td>\n",
              "      <td>39</td>\n",
              "      <td>1</td>\n",
              "      <td>0.00</td>\n",
              "      <td>2</td>\n",
              "      <td>0</td>\n",
              "      <td>0</td>\n",
              "      <td>93826.63</td>\n",
              "      <td>0</td>\n",
              "    </tr>\n",
              "    <tr>\n",
              "      <th>4</th>\n",
              "      <td>5</td>\n",
              "      <td>15737888</td>\n",
              "      <td>Mitchell</td>\n",
              "      <td>850</td>\n",
              "      <td>Spain</td>\n",
              "      <td>Female</td>\n",
              "      <td>43</td>\n",
              "      <td>2</td>\n",
              "      <td>125510.82</td>\n",
              "      <td>1</td>\n",
              "      <td>1</td>\n",
              "      <td>1</td>\n",
              "      <td>79084.10</td>\n",
              "      <td>0</td>\n",
              "    </tr>\n",
              "  </tbody>\n",
              "</table>\n",
              "</div>"
            ],
            "text/plain": [
              "   RowNumber  CustomerId   Surname  ...  IsActiveMember EstimatedSalary Exited\n",
              "0          1    15634602  Hargrave  ...               1       101348.88      1\n",
              "1          2    15647311      Hill  ...               1       112542.58      0\n",
              "2          3    15619304      Onio  ...               0       113931.57      1\n",
              "3          4    15701354      Boni  ...               0        93826.63      0\n",
              "4          5    15737888  Mitchell  ...               1        79084.10      0\n",
              "\n",
              "[5 rows x 14 columns]"
            ]
          },
          "metadata": {
            "tags": []
          },
          "execution_count": 2
        }
      ]
    },
    {
      "cell_type": "code",
      "metadata": {
        "id": "zDubxtvaf7vQ",
        "colab_type": "code",
        "outputId": "2aba3732-65f2-464c-da5b-d50faa386508",
        "colab": {
          "base_uri": "https://localhost:8080/",
          "height": 34
        }
      },
      "source": [
        "df.shape"
      ],
      "execution_count": 3,
      "outputs": [
        {
          "output_type": "execute_result",
          "data": {
            "text/plain": [
              "(10000, 14)"
            ]
          },
          "metadata": {
            "tags": []
          },
          "execution_count": 3
        }
      ]
    },
    {
      "cell_type": "code",
      "metadata": {
        "id": "dyotbPV0f-i4",
        "colab_type": "code",
        "outputId": "848d6450-c24c-4efd-de00-c420e7684a59",
        "colab": {
          "base_uri": "https://localhost:8080/",
          "height": 340
        }
      },
      "source": [
        "df.info()"
      ],
      "execution_count": 4,
      "outputs": [
        {
          "output_type": "stream",
          "text": [
            "<class 'pandas.core.frame.DataFrame'>\n",
            "RangeIndex: 10000 entries, 0 to 9999\n",
            "Data columns (total 14 columns):\n",
            "RowNumber          10000 non-null int64\n",
            "CustomerId         10000 non-null int64\n",
            "Surname            10000 non-null object\n",
            "CreditScore        10000 non-null int64\n",
            "Geography          10000 non-null object\n",
            "Gender             10000 non-null object\n",
            "Age                10000 non-null int64\n",
            "Tenure             10000 non-null int64\n",
            "Balance            10000 non-null float64\n",
            "NumOfProducts      10000 non-null int64\n",
            "HasCrCard          10000 non-null int64\n",
            "IsActiveMember     10000 non-null int64\n",
            "EstimatedSalary    10000 non-null float64\n",
            "Exited             10000 non-null int64\n",
            "dtypes: float64(2), int64(9), object(3)\n",
            "memory usage: 1.1+ MB\n"
          ],
          "name": "stdout"
        }
      ]
    },
    {
      "cell_type": "code",
      "metadata": {
        "id": "HQo3UiHlf_h8",
        "colab_type": "code",
        "outputId": "91fecc33-8a84-4b08-85d1-cfdd4ed423cc",
        "colab": {
          "base_uri": "https://localhost:8080/",
          "height": 317
        }
      },
      "source": [
        "df.describe()"
      ],
      "execution_count": 5,
      "outputs": [
        {
          "output_type": "execute_result",
          "data": {
            "text/html": [
              "<div>\n",
              "<style scoped>\n",
              "    .dataframe tbody tr th:only-of-type {\n",
              "        vertical-align: middle;\n",
              "    }\n",
              "\n",
              "    .dataframe tbody tr th {\n",
              "        vertical-align: top;\n",
              "    }\n",
              "\n",
              "    .dataframe thead th {\n",
              "        text-align: right;\n",
              "    }\n",
              "</style>\n",
              "<table border=\"1\" class=\"dataframe\">\n",
              "  <thead>\n",
              "    <tr style=\"text-align: right;\">\n",
              "      <th></th>\n",
              "      <th>RowNumber</th>\n",
              "      <th>CustomerId</th>\n",
              "      <th>CreditScore</th>\n",
              "      <th>Age</th>\n",
              "      <th>Tenure</th>\n",
              "      <th>Balance</th>\n",
              "      <th>NumOfProducts</th>\n",
              "      <th>HasCrCard</th>\n",
              "      <th>IsActiveMember</th>\n",
              "      <th>EstimatedSalary</th>\n",
              "      <th>Exited</th>\n",
              "    </tr>\n",
              "  </thead>\n",
              "  <tbody>\n",
              "    <tr>\n",
              "      <th>count</th>\n",
              "      <td>10000.00000</td>\n",
              "      <td>1.000000e+04</td>\n",
              "      <td>10000.000000</td>\n",
              "      <td>10000.000000</td>\n",
              "      <td>10000.000000</td>\n",
              "      <td>10000.000000</td>\n",
              "      <td>10000.000000</td>\n",
              "      <td>10000.00000</td>\n",
              "      <td>10000.000000</td>\n",
              "      <td>10000.000000</td>\n",
              "      <td>10000.000000</td>\n",
              "    </tr>\n",
              "    <tr>\n",
              "      <th>mean</th>\n",
              "      <td>5000.50000</td>\n",
              "      <td>1.569094e+07</td>\n",
              "      <td>650.528800</td>\n",
              "      <td>38.921800</td>\n",
              "      <td>5.012800</td>\n",
              "      <td>76485.889288</td>\n",
              "      <td>1.530200</td>\n",
              "      <td>0.70550</td>\n",
              "      <td>0.515100</td>\n",
              "      <td>100090.239881</td>\n",
              "      <td>0.203700</td>\n",
              "    </tr>\n",
              "    <tr>\n",
              "      <th>std</th>\n",
              "      <td>2886.89568</td>\n",
              "      <td>7.193619e+04</td>\n",
              "      <td>96.653299</td>\n",
              "      <td>10.487806</td>\n",
              "      <td>2.892174</td>\n",
              "      <td>62397.405202</td>\n",
              "      <td>0.581654</td>\n",
              "      <td>0.45584</td>\n",
              "      <td>0.499797</td>\n",
              "      <td>57510.492818</td>\n",
              "      <td>0.402769</td>\n",
              "    </tr>\n",
              "    <tr>\n",
              "      <th>min</th>\n",
              "      <td>1.00000</td>\n",
              "      <td>1.556570e+07</td>\n",
              "      <td>350.000000</td>\n",
              "      <td>18.000000</td>\n",
              "      <td>0.000000</td>\n",
              "      <td>0.000000</td>\n",
              "      <td>1.000000</td>\n",
              "      <td>0.00000</td>\n",
              "      <td>0.000000</td>\n",
              "      <td>11.580000</td>\n",
              "      <td>0.000000</td>\n",
              "    </tr>\n",
              "    <tr>\n",
              "      <th>25%</th>\n",
              "      <td>2500.75000</td>\n",
              "      <td>1.562853e+07</td>\n",
              "      <td>584.000000</td>\n",
              "      <td>32.000000</td>\n",
              "      <td>3.000000</td>\n",
              "      <td>0.000000</td>\n",
              "      <td>1.000000</td>\n",
              "      <td>0.00000</td>\n",
              "      <td>0.000000</td>\n",
              "      <td>51002.110000</td>\n",
              "      <td>0.000000</td>\n",
              "    </tr>\n",
              "    <tr>\n",
              "      <th>50%</th>\n",
              "      <td>5000.50000</td>\n",
              "      <td>1.569074e+07</td>\n",
              "      <td>652.000000</td>\n",
              "      <td>37.000000</td>\n",
              "      <td>5.000000</td>\n",
              "      <td>97198.540000</td>\n",
              "      <td>1.000000</td>\n",
              "      <td>1.00000</td>\n",
              "      <td>1.000000</td>\n",
              "      <td>100193.915000</td>\n",
              "      <td>0.000000</td>\n",
              "    </tr>\n",
              "    <tr>\n",
              "      <th>75%</th>\n",
              "      <td>7500.25000</td>\n",
              "      <td>1.575323e+07</td>\n",
              "      <td>718.000000</td>\n",
              "      <td>44.000000</td>\n",
              "      <td>7.000000</td>\n",
              "      <td>127644.240000</td>\n",
              "      <td>2.000000</td>\n",
              "      <td>1.00000</td>\n",
              "      <td>1.000000</td>\n",
              "      <td>149388.247500</td>\n",
              "      <td>0.000000</td>\n",
              "    </tr>\n",
              "    <tr>\n",
              "      <th>max</th>\n",
              "      <td>10000.00000</td>\n",
              "      <td>1.581569e+07</td>\n",
              "      <td>850.000000</td>\n",
              "      <td>92.000000</td>\n",
              "      <td>10.000000</td>\n",
              "      <td>250898.090000</td>\n",
              "      <td>4.000000</td>\n",
              "      <td>1.00000</td>\n",
              "      <td>1.000000</td>\n",
              "      <td>199992.480000</td>\n",
              "      <td>1.000000</td>\n",
              "    </tr>\n",
              "  </tbody>\n",
              "</table>\n",
              "</div>"
            ],
            "text/plain": [
              "         RowNumber    CustomerId  ...  EstimatedSalary        Exited\n",
              "count  10000.00000  1.000000e+04  ...     10000.000000  10000.000000\n",
              "mean    5000.50000  1.569094e+07  ...    100090.239881      0.203700\n",
              "std     2886.89568  7.193619e+04  ...     57510.492818      0.402769\n",
              "min        1.00000  1.556570e+07  ...        11.580000      0.000000\n",
              "25%     2500.75000  1.562853e+07  ...     51002.110000      0.000000\n",
              "50%     5000.50000  1.569074e+07  ...    100193.915000      0.000000\n",
              "75%     7500.25000  1.575323e+07  ...    149388.247500      0.000000\n",
              "max    10000.00000  1.581569e+07  ...    199992.480000      1.000000\n",
              "\n",
              "[8 rows x 11 columns]"
            ]
          },
          "metadata": {
            "tags": []
          },
          "execution_count": 5
        }
      ]
    },
    {
      "cell_type": "markdown",
      "metadata": {
        "id": "nE0p3BFggAto",
        "colab_type": "text"
      },
      "source": [
        "## check for null values"
      ]
    },
    {
      "cell_type": "code",
      "metadata": {
        "id": "jNEcDk-_gDs-",
        "colab_type": "code",
        "outputId": "177f4d80-a2d8-4316-8458-9e9f46116f69",
        "colab": {
          "base_uri": "https://localhost:8080/",
          "height": 68
        }
      },
      "source": [
        "df.isnull().sum().sort_values(ascending = False)[:2]"
      ],
      "execution_count": 6,
      "outputs": [
        {
          "output_type": "execute_result",
          "data": {
            "text/plain": [
              "Exited             0\n",
              "EstimatedSalary    0\n",
              "dtype: int64"
            ]
          },
          "metadata": {
            "tags": []
          },
          "execution_count": 6
        }
      ]
    },
    {
      "cell_type": "markdown",
      "metadata": {
        "id": "pCkbns8fgH_F",
        "colab_type": "text"
      },
      "source": [
        "**^^as u can see there is no null value**"
      ]
    },
    {
      "cell_type": "code",
      "metadata": {
        "id": "uv6nWlkWgUB0",
        "colab_type": "code",
        "outputId": "cfdaa68c-a21e-49cf-9b64-51becc30c25c",
        "colab": {
          "base_uri": "https://localhost:8080/",
          "height": 221
        }
      },
      "source": [
        "df.skew()"
      ],
      "execution_count": 7,
      "outputs": [
        {
          "output_type": "execute_result",
          "data": {
            "text/plain": [
              "RowNumber          0.000000\n",
              "CustomerId         0.001149\n",
              "CreditScore       -0.071607\n",
              "Age                1.011320\n",
              "Tenure             0.010991\n",
              "Balance           -0.141109\n",
              "NumOfProducts      0.745568\n",
              "HasCrCard         -0.901812\n",
              "IsActiveMember    -0.060437\n",
              "EstimatedSalary    0.002085\n",
              "Exited             1.471611\n",
              "dtype: float64"
            ]
          },
          "metadata": {
            "tags": []
          },
          "execution_count": 7
        }
      ]
    },
    {
      "cell_type": "code",
      "metadata": {
        "id": "q7OojanNgllv",
        "colab_type": "code",
        "outputId": "d9b62aac-1702-4fce-a7b7-03e147d46b87",
        "colab": {
          "base_uri": "https://localhost:8080/",
          "height": 34
        }
      },
      "source": [
        "np.log1p(df.Age).skew()"
      ],
      "execution_count": 8,
      "outputs": [
        {
          "output_type": "execute_result",
          "data": {
            "text/plain": [
              "0.20336041516983316"
            ]
          },
          "metadata": {
            "tags": []
          },
          "execution_count": 8
        }
      ]
    },
    {
      "cell_type": "markdown",
      "metadata": {
        "id": "u7d9RSYyiOKm",
        "colab_type": "text"
      },
      "source": [
        "## import important dependencies"
      ]
    },
    {
      "cell_type": "code",
      "metadata": {
        "id": "kHURLRKli0yL",
        "colab_type": "code",
        "colab": {}
      },
      "source": [
        "import tensorflow as tf\n",
        "from tensorflow import keras"
      ],
      "execution_count": 0,
      "outputs": []
    },
    {
      "cell_type": "code",
      "metadata": {
        "id": "h3LD0pKijiDY",
        "colab_type": "code",
        "outputId": "e649b82b-02e3-46f0-c4b6-a3b905f63417",
        "colab": {
          "base_uri": "https://localhost:8080/",
          "height": 80
        }
      },
      "source": [
        "df.head(1)"
      ],
      "execution_count": 10,
      "outputs": [
        {
          "output_type": "execute_result",
          "data": {
            "text/html": [
              "<div>\n",
              "<style scoped>\n",
              "    .dataframe tbody tr th:only-of-type {\n",
              "        vertical-align: middle;\n",
              "    }\n",
              "\n",
              "    .dataframe tbody tr th {\n",
              "        vertical-align: top;\n",
              "    }\n",
              "\n",
              "    .dataframe thead th {\n",
              "        text-align: right;\n",
              "    }\n",
              "</style>\n",
              "<table border=\"1\" class=\"dataframe\">\n",
              "  <thead>\n",
              "    <tr style=\"text-align: right;\">\n",
              "      <th></th>\n",
              "      <th>RowNumber</th>\n",
              "      <th>CustomerId</th>\n",
              "      <th>Surname</th>\n",
              "      <th>CreditScore</th>\n",
              "      <th>Geography</th>\n",
              "      <th>Gender</th>\n",
              "      <th>Age</th>\n",
              "      <th>Tenure</th>\n",
              "      <th>Balance</th>\n",
              "      <th>NumOfProducts</th>\n",
              "      <th>HasCrCard</th>\n",
              "      <th>IsActiveMember</th>\n",
              "      <th>EstimatedSalary</th>\n",
              "      <th>Exited</th>\n",
              "    </tr>\n",
              "  </thead>\n",
              "  <tbody>\n",
              "    <tr>\n",
              "      <th>0</th>\n",
              "      <td>1</td>\n",
              "      <td>15634602</td>\n",
              "      <td>Hargrave</td>\n",
              "      <td>619</td>\n",
              "      <td>France</td>\n",
              "      <td>Female</td>\n",
              "      <td>42</td>\n",
              "      <td>2</td>\n",
              "      <td>0.0</td>\n",
              "      <td>1</td>\n",
              "      <td>1</td>\n",
              "      <td>1</td>\n",
              "      <td>101348.88</td>\n",
              "      <td>1</td>\n",
              "    </tr>\n",
              "  </tbody>\n",
              "</table>\n",
              "</div>"
            ],
            "text/plain": [
              "   RowNumber  CustomerId   Surname  ...  IsActiveMember EstimatedSalary Exited\n",
              "0          1    15634602  Hargrave  ...               1       101348.88      1\n",
              "\n",
              "[1 rows x 14 columns]"
            ]
          },
          "metadata": {
            "tags": []
          },
          "execution_count": 10
        }
      ]
    },
    {
      "cell_type": "code",
      "metadata": {
        "id": "bqgrcYKKj2de",
        "colab_type": "code",
        "outputId": "5300fd3a-4d15-4772-cd6d-e86f58c3308e",
        "colab": {
          "base_uri": "https://localhost:8080/",
          "height": 80
        }
      },
      "source": [
        "df = df.iloc[:, 3:]\n",
        "df.head(1)"
      ],
      "execution_count": 11,
      "outputs": [
        {
          "output_type": "execute_result",
          "data": {
            "text/html": [
              "<div>\n",
              "<style scoped>\n",
              "    .dataframe tbody tr th:only-of-type {\n",
              "        vertical-align: middle;\n",
              "    }\n",
              "\n",
              "    .dataframe tbody tr th {\n",
              "        vertical-align: top;\n",
              "    }\n",
              "\n",
              "    .dataframe thead th {\n",
              "        text-align: right;\n",
              "    }\n",
              "</style>\n",
              "<table border=\"1\" class=\"dataframe\">\n",
              "  <thead>\n",
              "    <tr style=\"text-align: right;\">\n",
              "      <th></th>\n",
              "      <th>CreditScore</th>\n",
              "      <th>Geography</th>\n",
              "      <th>Gender</th>\n",
              "      <th>Age</th>\n",
              "      <th>Tenure</th>\n",
              "      <th>Balance</th>\n",
              "      <th>NumOfProducts</th>\n",
              "      <th>HasCrCard</th>\n",
              "      <th>IsActiveMember</th>\n",
              "      <th>EstimatedSalary</th>\n",
              "      <th>Exited</th>\n",
              "    </tr>\n",
              "  </thead>\n",
              "  <tbody>\n",
              "    <tr>\n",
              "      <th>0</th>\n",
              "      <td>619</td>\n",
              "      <td>France</td>\n",
              "      <td>Female</td>\n",
              "      <td>42</td>\n",
              "      <td>2</td>\n",
              "      <td>0.0</td>\n",
              "      <td>1</td>\n",
              "      <td>1</td>\n",
              "      <td>1</td>\n",
              "      <td>101348.88</td>\n",
              "      <td>1</td>\n",
              "    </tr>\n",
              "  </tbody>\n",
              "</table>\n",
              "</div>"
            ],
            "text/plain": [
              "   CreditScore Geography  Gender  ...  IsActiveMember  EstimatedSalary  Exited\n",
              "0          619    France  Female  ...               1        101348.88       1\n",
              "\n",
              "[1 rows x 11 columns]"
            ]
          },
          "metadata": {
            "tags": []
          },
          "execution_count": 11
        }
      ]
    },
    {
      "cell_type": "code",
      "metadata": {
        "id": "I2DQlX3LkAjW",
        "colab_type": "code",
        "outputId": "8266e83b-0909-4836-d315-3d02e5d179bf",
        "colab": {
          "base_uri": "https://localhost:8080/",
          "height": 80
        }
      },
      "source": [
        "df = pd.get_dummies(df, drop_first = True)\n",
        "df.head(1)"
      ],
      "execution_count": 12,
      "outputs": [
        {
          "output_type": "execute_result",
          "data": {
            "text/html": [
              "<div>\n",
              "<style scoped>\n",
              "    .dataframe tbody tr th:only-of-type {\n",
              "        vertical-align: middle;\n",
              "    }\n",
              "\n",
              "    .dataframe tbody tr th {\n",
              "        vertical-align: top;\n",
              "    }\n",
              "\n",
              "    .dataframe thead th {\n",
              "        text-align: right;\n",
              "    }\n",
              "</style>\n",
              "<table border=\"1\" class=\"dataframe\">\n",
              "  <thead>\n",
              "    <tr style=\"text-align: right;\">\n",
              "      <th></th>\n",
              "      <th>CreditScore</th>\n",
              "      <th>Age</th>\n",
              "      <th>Tenure</th>\n",
              "      <th>Balance</th>\n",
              "      <th>NumOfProducts</th>\n",
              "      <th>HasCrCard</th>\n",
              "      <th>IsActiveMember</th>\n",
              "      <th>EstimatedSalary</th>\n",
              "      <th>Exited</th>\n",
              "      <th>Geography_Germany</th>\n",
              "      <th>Geography_Spain</th>\n",
              "      <th>Gender_Male</th>\n",
              "    </tr>\n",
              "  </thead>\n",
              "  <tbody>\n",
              "    <tr>\n",
              "      <th>0</th>\n",
              "      <td>619</td>\n",
              "      <td>42</td>\n",
              "      <td>2</td>\n",
              "      <td>0.0</td>\n",
              "      <td>1</td>\n",
              "      <td>1</td>\n",
              "      <td>1</td>\n",
              "      <td>101348.88</td>\n",
              "      <td>1</td>\n",
              "      <td>0</td>\n",
              "      <td>0</td>\n",
              "      <td>0</td>\n",
              "    </tr>\n",
              "  </tbody>\n",
              "</table>\n",
              "</div>"
            ],
            "text/plain": [
              "   CreditScore  Age  Tenure  ...  Geography_Germany  Geography_Spain  Gender_Male\n",
              "0          619   42       2  ...                  0                0            0\n",
              "\n",
              "[1 rows x 12 columns]"
            ]
          },
          "metadata": {
            "tags": []
          },
          "execution_count": 12
        }
      ]
    },
    {
      "cell_type": "code",
      "metadata": {
        "id": "yAMvq6oFkIge",
        "colab_type": "code",
        "outputId": "286d0b90-4029-45dc-ac59-1d0cac2d9080",
        "colab": {
          "base_uri": "https://localhost:8080/",
          "height": 34
        }
      },
      "source": [
        "X = df.drop('Exited', 1)\n",
        "y = df.Exited\n",
        "X.shape, y.shape"
      ],
      "execution_count": 13,
      "outputs": [
        {
          "output_type": "execute_result",
          "data": {
            "text/plain": [
              "((10000, 11), (10000,))"
            ]
          },
          "metadata": {
            "tags": []
          },
          "execution_count": 13
        }
      ]
    },
    {
      "cell_type": "markdown",
      "metadata": {
        "id": "3vllGMuVkSo2",
        "colab_type": "text"
      },
      "source": [
        "## StandardScaler"
      ]
    },
    {
      "cell_type": "markdown",
      "metadata": {
        "id": "TCWLZVx3kfZY",
        "colab_type": "text"
      },
      "source": [
        "We need to scale out data before applying to neural network becuase of speed"
      ]
    },
    {
      "cell_type": "code",
      "metadata": {
        "id": "rW0Ev8GCl0XC",
        "colab_type": "code",
        "colab": {}
      },
      "source": [
        "from sklearn.model_selection import train_test_split"
      ],
      "execution_count": 0,
      "outputs": []
    },
    {
      "cell_type": "code",
      "metadata": {
        "id": "7A5r1i7fl308",
        "colab_type": "code",
        "outputId": "c7da21f3-7e89-4f4f-a089-156a2142f50f",
        "colab": {
          "base_uri": "https://localhost:8080/",
          "height": 34
        }
      },
      "source": [
        "X_train, X_test, y_train, y_test =train_test_split(X, y, test_size = 0.3, random_state = 0)\n",
        "X_train.shape, X_test.shape, y_train.shape, y_test.shape"
      ],
      "execution_count": 15,
      "outputs": [
        {
          "output_type": "execute_result",
          "data": {
            "text/plain": [
              "((7000, 11), (3000, 11), (7000,), (3000,))"
            ]
          },
          "metadata": {
            "tags": []
          },
          "execution_count": 15
        }
      ]
    },
    {
      "cell_type": "code",
      "metadata": {
        "id": "-5ZEcWv_knNX",
        "colab_type": "code",
        "colab": {}
      },
      "source": [
        "from sklearn.preprocessing import StandardScaler"
      ],
      "execution_count": 0,
      "outputs": []
    },
    {
      "cell_type": "code",
      "metadata": {
        "id": "2rylEvaVbBBU",
        "colab_type": "code",
        "colab": {}
      },
      "source": [
        "sc = StandardScaler()"
      ],
      "execution_count": 0,
      "outputs": []
    },
    {
      "cell_type": "code",
      "metadata": {
        "id": "MKdMfJJ6lXv6",
        "colab_type": "code",
        "outputId": "5c6e40ce-10c5-4bb7-da64-ed8ce11f8c82",
        "colab": {
          "base_uri": "https://localhost:8080/",
          "height": 119
        }
      },
      "source": [
        "X_train = sc.fit_transform(X_train)\n",
        "X_test = sc.transform(X_test)\n",
        "X_train[:1], X_test[:1]"
      ],
      "execution_count": 18,
      "outputs": [
        {
          "output_type": "execute_result",
          "data": {
            "text/plain": [
              "(array([[-0.09792126, -0.55759842, -1.03635146,  1.13249447,  0.81039385,\n",
              "          0.64198477,  0.96683535, -0.76862426, -0.56987189, -0.5731713 ,\n",
              "          0.92295821]]),\n",
              " array([[-0.55032881, -0.36597914,  1.0436811 ,  0.89172052, -0.92971564,\n",
              "          0.64198477,  0.96683535,  1.61245299,  1.75478035, -0.5731713 ,\n",
              "         -1.08347268]]))"
            ]
          },
          "metadata": {
            "tags": []
          },
          "execution_count": 18
        }
      ]
    },
    {
      "cell_type": "code",
      "metadata": {
        "id": "anfg2SMklcv5",
        "colab_type": "code",
        "outputId": "840f4b81-c89c-44f7-e687-8f619a5b59fe",
        "colab": {
          "base_uri": "https://localhost:8080/",
          "height": 34
        }
      },
      "source": [
        "y_train = y_train.values\n",
        "y_test = y_test.values\n",
        "y_train[:2], y_test[:2]"
      ],
      "execution_count": 19,
      "outputs": [
        {
          "output_type": "execute_result",
          "data": {
            "text/plain": [
              "(array([1, 0]), array([0, 1]))"
            ]
          },
          "metadata": {
            "tags": []
          },
          "execution_count": 19
        }
      ]
    },
    {
      "cell_type": "markdown",
      "metadata": {
        "id": "7VghYEDmlm9G",
        "colab_type": "text"
      },
      "source": [
        "# Make ANN"
      ]
    },
    {
      "cell_type": "code",
      "metadata": {
        "id": "bP5A2Qxcmw9m",
        "colab_type": "code",
        "colab": {}
      },
      "source": [
        "from tensorflow import keras"
      ],
      "execution_count": 0,
      "outputs": []
    },
    {
      "cell_type": "markdown",
      "metadata": {
        "id": "MhsZ8esrm0Va",
        "colab_type": "text"
      },
      "source": [
        "## import Sequential from keras\n",
        "**it is required to initialize our neural network model**"
      ]
    },
    {
      "cell_type": "markdown",
      "metadata": {
        "id": "KQhGzWV9oza1",
        "colab_type": "text"
      },
      "source": [
        "### Step 1:- create ann model by sequential"
      ]
    },
    {
      "cell_type": "code",
      "metadata": {
        "id": "1UDYUiWInC4S",
        "colab_type": "code",
        "outputId": "75de7421-44aa-4b41-f2b2-af5128926c01",
        "colab": {
          "base_uri": "https://localhost:8080/",
          "height": 0
        }
      },
      "source": [
        "#1 first initialize our keras model by Sequential\n",
        "model = keras.models.Sequential()\n",
        "model"
      ],
      "execution_count": 21,
      "outputs": [
        {
          "output_type": "execute_result",
          "data": {
            "text/plain": [
              "<tensorflow.python.keras.engine.sequential.Sequential at 0x7fd7b380a4a8>"
            ]
          },
          "metadata": {
            "tags": []
          },
          "execution_count": 21
        }
      ]
    },
    {
      "cell_type": "markdown",
      "metadata": {
        "id": "YTm7qlIMoyVA",
        "colab_type": "text"
      },
      "source": [
        "### Step 2:- Add dense layer"
      ]
    },
    {
      "cell_type": "markdown",
      "metadata": {
        "id": "QWMXKUoyrxnv",
        "colab_type": "text"
      },
      "source": [
        "if a data is linenarly separable then their is no need to add hidden layer or don't even need a neural networks by convention"
      ]
    },
    {
      "cell_type": "markdown",
      "metadata": {
        "id": "UI3bNueisCfC",
        "colab_type": "text"
      },
      "source": [
        "**Tip:-- ** no. of nodes in hidden layers is the average of no. of nodes in input layers and no. of node in output layer"
      ]
    },
    {
      "cell_type": "code",
      "metadata": {
        "id": "n7_6nHTpsmmM",
        "colab_type": "code",
        "outputId": "402d0507-a869-4e34-a9f7-e80ac9dee034",
        "colab": {
          "base_uri": "https://localhost:8080/",
          "height": 0
        }
      },
      "source": [
        "ninput = 11 #no of independent variables\n",
        "noutput = 1 #output is either 1 or either 0 so no of hidden layers in output is 1\n",
        "nhidden = (ninput + noutput) / 2\n",
        "nhidden"
      ],
      "execution_count": 22,
      "outputs": [
        {
          "output_type": "execute_result",
          "data": {
            "text/plain": [
              "6.0"
            ]
          },
          "metadata": {
            "tags": []
          },
          "execution_count": 22
        }
      ]
    },
    {
      "cell_type": "code",
      "metadata": {
        "id": "-X7gEIosogyu",
        "colab_type": "code",
        "outputId": "b57175a3-ca7e-4061-e87a-39cc1e2cc5ca",
        "colab": {
          "base_uri": "https://localhost:8080/",
          "height": 0
        }
      },
      "source": [
        "model.add(keras.layers.Dense(units = 6, activation = tf.nn.relu, input_dim = 11))"
      ],
      "execution_count": 23,
      "outputs": [
        {
          "output_type": "stream",
          "text": [
            "WARNING: Logging before flag parsing goes to stderr.\n",
            "W0808 11:32:48.253828 140565524244352 deprecation.py:506] From /usr/local/lib/python3.6/dist-packages/tensorflow/python/ops/init_ops.py:1251: calling VarianceScaling.__init__ (from tensorflow.python.ops.init_ops) with dtype is deprecated and will be removed in a future version.\n",
            "Instructions for updating:\n",
            "Call initializer instance with the dtype argument instead of passing it to the constructor\n"
          ],
          "name": "stderr"
        }
      ]
    },
    {
      "cell_type": "code",
      "metadata": {
        "id": "nKeq0BavvReV",
        "colab_type": "code",
        "outputId": "b0cfc8a2-e3b8-45f5-d7f7-6fd6c4a648d4",
        "colab": {
          "base_uri": "https://localhost:8080/",
          "height": 0
        }
      },
      "source": [
        "model"
      ],
      "execution_count": 24,
      "outputs": [
        {
          "output_type": "execute_result",
          "data": {
            "text/plain": [
              "<tensorflow.python.keras.engine.sequential.Sequential at 0x7fd7b380a4a8>"
            ]
          },
          "metadata": {
            "tags": []
          },
          "execution_count": 24
        }
      ]
    },
    {
      "cell_type": "markdown",
      "metadata": {
        "id": "b2FBW04kKM_p",
        "colab_type": "text"
      },
      "source": [
        "### add 2nd layer"
      ]
    },
    {
      "cell_type": "code",
      "metadata": {
        "id": "nJ-IE_P-KYq_",
        "colab_type": "code",
        "outputId": "86dd9cf6-f9c1-4447-a852-1670e5a0ddc0",
        "colab": {
          "base_uri": "https://localhost:8080/",
          "height": 0
        }
      },
      "source": [
        "model.add(keras.layers.Dense(units = 6, activation = tf.nn.relu))\n",
        "model"
      ],
      "execution_count": 25,
      "outputs": [
        {
          "output_type": "execute_result",
          "data": {
            "text/plain": [
              "<tensorflow.python.keras.engine.sequential.Sequential at 0x7fd7b380a4a8>"
            ]
          },
          "metadata": {
            "tags": []
          },
          "execution_count": 25
        }
      ]
    },
    {
      "cell_type": "markdown",
      "metadata": {
        "id": "-bWgJ-TnKm-E",
        "colab_type": "text"
      },
      "source": [
        "### Step 3:- add output layer"
      ]
    },
    {
      "cell_type": "markdown",
      "metadata": {
        "id": "WVfmLyW1LcN-",
        "colab_type": "text"
      },
      "source": [
        "**there are two types of activation function for output of categorical varibles **\n",
        "- 1**softmax**, which is used when dependent varible have more than two categorical variables\n",
        "- 2 **sigmoid** , which is used when dependent varable have 2 categorical variables"
      ]
    },
    {
      "cell_type": "code",
      "metadata": {
        "id": "CNMiNKekKzMi",
        "colab_type": "code",
        "colab": {}
      },
      "source": [
        "model.add(keras.layers.Dense(units = 1, activation = tf.nn.sigmoid))"
      ],
      "execution_count": 0,
      "outputs": []
    },
    {
      "cell_type": "code",
      "metadata": {
        "id": "awDpLdM8L3V3",
        "colab_type": "code",
        "outputId": "b5cf16d9-2463-412f-cb6e-9e26f5e5b6d1",
        "colab": {
          "base_uri": "https://localhost:8080/",
          "height": 34
        }
      },
      "source": [
        "model"
      ],
      "execution_count": 27,
      "outputs": [
        {
          "output_type": "execute_result",
          "data": {
            "text/plain": [
              "<tensorflow.python.keras.engine.sequential.Sequential at 0x7fd7b380a4a8>"
            ]
          },
          "metadata": {
            "tags": []
          },
          "execution_count": 27
        }
      ]
    },
    {
      "cell_type": "code",
      "metadata": {
        "id": "AryET_xIbrvI",
        "colab_type": "code",
        "outputId": "07930f62-7f7a-4b09-94a6-ba6db125fa60",
        "colab": {
          "base_uri": "https://localhost:8080/",
          "height": 255
        }
      },
      "source": [
        "model.summary()"
      ],
      "execution_count": 28,
      "outputs": [
        {
          "output_type": "stream",
          "text": [
            "Model: \"sequential\"\n",
            "_________________________________________________________________\n",
            "Layer (type)                 Output Shape              Param #   \n",
            "=================================================================\n",
            "dense (Dense)                (None, 6)                 72        \n",
            "_________________________________________________________________\n",
            "dense_1 (Dense)              (None, 6)                 42        \n",
            "_________________________________________________________________\n",
            "dense_2 (Dense)              (None, 1)                 7         \n",
            "=================================================================\n",
            "Total params: 121\n",
            "Trainable params: 121\n",
            "Non-trainable params: 0\n",
            "_________________________________________________________________\n"
          ],
          "name": "stdout"
        }
      ]
    },
    {
      "cell_type": "markdown",
      "metadata": {
        "id": "yiYLtGE8ML-z",
        "colab_type": "text"
      },
      "source": [
        "## Step 4:-- compile the model\n",
        "apply stochastic gradient descent method"
      ]
    },
    {
      "cell_type": "code",
      "metadata": {
        "id": "QTa5eId2MiQk",
        "colab_type": "code",
        "outputId": "37db3aa0-30b2-4bb4-d6d0-a43e34096226",
        "colab": {
          "base_uri": "https://localhost:8080/",
          "height": 105
        }
      },
      "source": [
        "model.compile(optimizer = 'adam', loss = 'binary_crossentropy', metrics = ['accuracy'])\n",
        "model"
      ],
      "execution_count": 29,
      "outputs": [
        {
          "output_type": "stream",
          "text": [
            "W0808 11:32:48.491668 140565524244352 deprecation.py:323] From /usr/local/lib/python3.6/dist-packages/tensorflow/python/ops/nn_impl.py:180: add_dispatch_support.<locals>.wrapper (from tensorflow.python.ops.array_ops) is deprecated and will be removed in a future version.\n",
            "Instructions for updating:\n",
            "Use tf.where in 2.0, which has the same broadcast rule as np.where\n"
          ],
          "name": "stderr"
        },
        {
          "output_type": "execute_result",
          "data": {
            "text/plain": [
              "<tensorflow.python.keras.engine.sequential.Sequential at 0x7fd7b380a4a8>"
            ]
          },
          "metadata": {
            "tags": []
          },
          "execution_count": 29
        }
      ]
    },
    {
      "cell_type": "markdown",
      "metadata": {
        "id": "1WSsamwMN_HI",
        "colab_type": "text"
      },
      "source": [
        "### Step 5:-- fit the model"
      ]
    },
    {
      "cell_type": "markdown",
      "metadata": {
        "id": "aaI6lPV7O7sT",
        "colab_type": "text"
      },
      "source": [
        "batch_size = no. of observation afterwhich u want to update the weights"
      ]
    },
    {
      "cell_type": "code",
      "metadata": {
        "id": "qry1aYV-_15h",
        "colab_type": "code",
        "colab": {}
      },
      "source": [
        "import os\n",
        "checkpoint_path = \"training_1/cp.ckpt\"\n",
        "checkpoint_dir = os.path.dirname(checkpoint_path)\n",
        "\n",
        "# Create checkpoint callback\n",
        "cp_callback = tf.keras.callbacks.ModelCheckpoint(checkpoint_path,\n",
        "                                                 save_weights_only=True,\n",
        "                                                 verbose=1)"
      ],
      "execution_count": 0,
      "outputs": []
    },
    {
      "cell_type": "code",
      "metadata": {
        "id": "BBG13tyga6Gq",
        "colab_type": "code",
        "outputId": "d37aa92a-e259-487c-ca4f-59055a2476b6",
        "colab": {
          "base_uri": "https://localhost:8080/",
          "height": 1000
        }
      },
      "source": [
        "model.fit(X_train, y_train, batch_size = 10 , epochs = 70,verbose = 1,  class_weight = 'balanced', \n",
        "          validation_data = (X_test, y_test), callbacks = [cp_callback])"
      ],
      "execution_count": 32,
      "outputs": [
        {
          "output_type": "stream",
          "text": [
            "Train on 7000 samples, validate on 3000 samples\n",
            "Epoch 1/70\n",
            "6660/7000 [===========================>..] - ETA: 0s - loss: 0.4875 - acc: 0.8021\n",
            "Epoch 00001: saving model to training_1/cp.ckpt\n",
            "7000/7000 [==============================] - 1s 213us/sample - loss: 0.4863 - acc: 0.8017 - val_loss: 0.4459 - val_acc: 0.8150\n",
            "Epoch 2/70\n",
            "6770/7000 [============================>.] - ETA: 0s - loss: 0.4334 - acc: 0.8148\n",
            "Epoch 00002: saving model to training_1/cp.ckpt\n",
            "7000/7000 [==============================] - 1s 152us/sample - loss: 0.4340 - acc: 0.8146 - val_loss: 0.4257 - val_acc: 0.8267\n",
            "Epoch 3/70\n",
            "6610/7000 [===========================>..] - ETA: 0s - loss: 0.4209 - acc: 0.8198\n",
            "Epoch 00003: saving model to training_1/cp.ckpt\n",
            "7000/7000 [==============================] - 1s 147us/sample - loss: 0.4223 - acc: 0.8201 - val_loss: 0.4162 - val_acc: 0.8293\n",
            "Epoch 4/70\n",
            "6880/7000 [============================>.] - ETA: 0s - loss: 0.4154 - acc: 0.8247\n",
            "Epoch 00004: saving model to training_1/cp.ckpt\n",
            "7000/7000 [==============================] - 1s 152us/sample - loss: 0.4157 - acc: 0.8241 - val_loss: 0.4119 - val_acc: 0.8313\n",
            "Epoch 5/70\n",
            "6710/7000 [===========================>..] - ETA: 0s - loss: 0.4123 - acc: 0.8271\n",
            "Epoch 00005: saving model to training_1/cp.ckpt\n",
            "7000/7000 [==============================] - 1s 147us/sample - loss: 0.4115 - acc: 0.8271 - val_loss: 0.4085 - val_acc: 0.8363\n",
            "Epoch 6/70\n",
            "6650/7000 [===========================>..] - ETA: 0s - loss: 0.4059 - acc: 0.8298\n",
            "Epoch 00006: saving model to training_1/cp.ckpt\n",
            "7000/7000 [==============================] - 1s 146us/sample - loss: 0.4084 - acc: 0.8283 - val_loss: 0.4071 - val_acc: 0.8357\n",
            "Epoch 7/70\n",
            "6650/7000 [===========================>..] - ETA: 0s - loss: 0.4041 - acc: 0.8296\n",
            "Epoch 00007: saving model to training_1/cp.ckpt\n",
            "7000/7000 [==============================] - 1s 147us/sample - loss: 0.4054 - acc: 0.8296 - val_loss: 0.4050 - val_acc: 0.8390\n",
            "Epoch 8/70\n",
            "6630/7000 [===========================>..] - ETA: 0s - loss: 0.4068 - acc: 0.8305\n",
            "Epoch 00008: saving model to training_1/cp.ckpt\n",
            "7000/7000 [==============================] - 1s 147us/sample - loss: 0.4034 - acc: 0.8320 - val_loss: 0.4040 - val_acc: 0.8383\n",
            "Epoch 9/70\n",
            "6600/7000 [===========================>..] - ETA: 0s - loss: 0.4022 - acc: 0.8320\n",
            "Epoch 00009: saving model to training_1/cp.ckpt\n",
            "7000/7000 [==============================] - 1s 148us/sample - loss: 0.4011 - acc: 0.8330 - val_loss: 0.4026 - val_acc: 0.8373\n",
            "Epoch 10/70\n",
            "6550/7000 [===========================>..] - ETA: 0s - loss: 0.4003 - acc: 0.8316\n",
            "Epoch 00010: saving model to training_1/cp.ckpt\n",
            "7000/7000 [==============================] - 1s 148us/sample - loss: 0.3985 - acc: 0.8319 - val_loss: 0.4013 - val_acc: 0.8333\n",
            "Epoch 11/70\n",
            "6630/7000 [===========================>..] - ETA: 0s - loss: 0.3968 - acc: 0.8324\n",
            "Epoch 00011: saving model to training_1/cp.ckpt\n",
            "7000/7000 [==============================] - 1s 147us/sample - loss: 0.3944 - acc: 0.8330 - val_loss: 0.3989 - val_acc: 0.8310\n",
            "Epoch 12/70\n",
            "6660/7000 [===========================>..] - ETA: 0s - loss: 0.3876 - acc: 0.8342\n",
            "Epoch 00012: saving model to training_1/cp.ckpt\n",
            "7000/7000 [==============================] - 1s 151us/sample - loss: 0.3892 - acc: 0.8333 - val_loss: 0.3937 - val_acc: 0.8300\n",
            "Epoch 13/70\n",
            "6720/7000 [===========================>..] - ETA: 0s - loss: 0.3825 - acc: 0.8382\n",
            "Epoch 00013: saving model to training_1/cp.ckpt\n",
            "7000/7000 [==============================] - 1s 148us/sample - loss: 0.3821 - acc: 0.8381 - val_loss: 0.3862 - val_acc: 0.8347\n",
            "Epoch 14/70\n",
            "6900/7000 [============================>.] - ETA: 0s - loss: 0.3743 - acc: 0.8423\n",
            "Epoch 00014: saving model to training_1/cp.ckpt\n",
            "7000/7000 [==============================] - 1s 153us/sample - loss: 0.3744 - acc: 0.8423 - val_loss: 0.3783 - val_acc: 0.8380\n",
            "Epoch 15/70\n",
            "6820/7000 [============================>.] - ETA: 0s - loss: 0.3692 - acc: 0.8455\n",
            "Epoch 00015: saving model to training_1/cp.ckpt\n",
            "7000/7000 [==============================] - 1s 152us/sample - loss: 0.3692 - acc: 0.8450 - val_loss: 0.3763 - val_acc: 0.8433\n",
            "Epoch 16/70\n",
            "6960/7000 [============================>.] - ETA: 0s - loss: 0.3647 - acc: 0.8470\n",
            "Epoch 00016: saving model to training_1/cp.ckpt\n",
            "7000/7000 [==============================] - 1s 152us/sample - loss: 0.3642 - acc: 0.8473 - val_loss: 0.3703 - val_acc: 0.8477\n",
            "Epoch 17/70\n",
            "6970/7000 [============================>.] - ETA: 0s - loss: 0.3604 - acc: 0.8515\n",
            "Epoch 00017: saving model to training_1/cp.ckpt\n",
            "7000/7000 [==============================] - 1s 151us/sample - loss: 0.3604 - acc: 0.8516 - val_loss: 0.3663 - val_acc: 0.8473\n",
            "Epoch 18/70\n",
            "6630/7000 [===========================>..] - ETA: 0s - loss: 0.3598 - acc: 0.8511\n",
            "Epoch 00018: saving model to training_1/cp.ckpt\n",
            "7000/7000 [==============================] - 1s 147us/sample - loss: 0.3574 - acc: 0.8524 - val_loss: 0.3624 - val_acc: 0.8457\n",
            "Epoch 19/70\n",
            "6770/7000 [============================>.] - ETA: 0s - loss: 0.3557 - acc: 0.8510\n",
            "Epoch 00019: saving model to training_1/cp.ckpt\n",
            "7000/7000 [==============================] - 1s 146us/sample - loss: 0.3541 - acc: 0.8519 - val_loss: 0.3584 - val_acc: 0.8507\n",
            "Epoch 20/70\n",
            "6700/7000 [===========================>..] - ETA: 0s - loss: 0.3535 - acc: 0.8540\n",
            "Epoch 00020: saving model to training_1/cp.ckpt\n",
            "7000/7000 [==============================] - 1s 147us/sample - loss: 0.3526 - acc: 0.8551 - val_loss: 0.3575 - val_acc: 0.8510\n",
            "Epoch 21/70\n",
            "6590/7000 [===========================>..] - ETA: 0s - loss: 0.3494 - acc: 0.8575\n",
            "Epoch 00021: saving model to training_1/cp.ckpt\n",
            "7000/7000 [==============================] - 1s 148us/sample - loss: 0.3507 - acc: 0.8570 - val_loss: 0.3541 - val_acc: 0.8523\n",
            "Epoch 22/70\n",
            "6610/7000 [===========================>..] - ETA: 0s - loss: 0.3482 - acc: 0.8578\n",
            "Epoch 00022: saving model to training_1/cp.ckpt\n",
            "7000/7000 [==============================] - 1s 151us/sample - loss: 0.3485 - acc: 0.8576 - val_loss: 0.3559 - val_acc: 0.8493\n",
            "Epoch 23/70\n",
            "6690/7000 [===========================>..] - ETA: 0s - loss: 0.3472 - acc: 0.8571\n",
            "Epoch 00023: saving model to training_1/cp.ckpt\n",
            "7000/7000 [==============================] - 1s 147us/sample - loss: 0.3478 - acc: 0.8566 - val_loss: 0.3572 - val_acc: 0.8503\n",
            "Epoch 24/70\n",
            "6790/7000 [============================>.] - ETA: 0s - loss: 0.3476 - acc: 0.8576\n",
            "Epoch 00024: saving model to training_1/cp.ckpt\n",
            "7000/7000 [==============================] - 1s 146us/sample - loss: 0.3469 - acc: 0.8583 - val_loss: 0.3511 - val_acc: 0.8537\n",
            "Epoch 25/70\n",
            "6660/7000 [===========================>..] - ETA: 0s - loss: 0.3472 - acc: 0.8586\n",
            "Epoch 00025: saving model to training_1/cp.ckpt\n",
            "7000/7000 [==============================] - 1s 149us/sample - loss: 0.3458 - acc: 0.8591 - val_loss: 0.3494 - val_acc: 0.8540\n",
            "Epoch 26/70\n",
            "6640/7000 [===========================>..] - ETA: 0s - loss: 0.3465 - acc: 0.8550\n",
            "Epoch 00026: saving model to training_1/cp.ckpt\n",
            "7000/7000 [==============================] - 1s 150us/sample - loss: 0.3452 - acc: 0.8551 - val_loss: 0.3466 - val_acc: 0.8570\n",
            "Epoch 27/70\n",
            "6850/7000 [============================>.] - ETA: 0s - loss: 0.3453 - acc: 0.8578\n",
            "Epoch 00027: saving model to training_1/cp.ckpt\n",
            "7000/7000 [==============================] - 1s 155us/sample - loss: 0.3438 - acc: 0.8586 - val_loss: 0.3540 - val_acc: 0.8570\n",
            "Epoch 28/70\n",
            "6630/7000 [===========================>..] - ETA: 0s - loss: 0.3447 - acc: 0.8563\n",
            "Epoch 00028: saving model to training_1/cp.ckpt\n",
            "7000/7000 [==============================] - 1s 157us/sample - loss: 0.3449 - acc: 0.8561 - val_loss: 0.3484 - val_acc: 0.8547\n",
            "Epoch 29/70\n",
            "6750/7000 [===========================>..] - ETA: 0s - loss: 0.3442 - acc: 0.8585\n",
            "Epoch 00029: saving model to training_1/cp.ckpt\n",
            "7000/7000 [==============================] - 1s 156us/sample - loss: 0.3437 - acc: 0.8594 - val_loss: 0.3459 - val_acc: 0.8543\n",
            "Epoch 30/70\n",
            "6700/7000 [===========================>..] - ETA: 0s - loss: 0.3433 - acc: 0.8585\n",
            "Epoch 00030: saving model to training_1/cp.ckpt\n",
            "7000/7000 [==============================] - 1s 158us/sample - loss: 0.3442 - acc: 0.8587 - val_loss: 0.3446 - val_acc: 0.8557\n",
            "Epoch 31/70\n",
            "6700/7000 [===========================>..] - ETA: 0s - loss: 0.3447 - acc: 0.8587\n",
            "Epoch 00031: saving model to training_1/cp.ckpt\n",
            "7000/7000 [==============================] - 1s 155us/sample - loss: 0.3436 - acc: 0.8593 - val_loss: 0.3438 - val_acc: 0.8557\n",
            "Epoch 32/70\n",
            "6690/7000 [===========================>..] - ETA: 0s - loss: 0.3421 - acc: 0.8596\n",
            "Epoch 00032: saving model to training_1/cp.ckpt\n",
            "7000/7000 [==============================] - 1s 150us/sample - loss: 0.3436 - acc: 0.8587 - val_loss: 0.3456 - val_acc: 0.8560\n",
            "Epoch 33/70\n",
            "6620/7000 [===========================>..] - ETA: 0s - loss: 0.3452 - acc: 0.8601\n",
            "Epoch 00033: saving model to training_1/cp.ckpt\n",
            "7000/7000 [==============================] - 1s 148us/sample - loss: 0.3422 - acc: 0.8614 - val_loss: 0.3444 - val_acc: 0.8547\n",
            "Epoch 34/70\n",
            "6620/7000 [===========================>..] - ETA: 0s - loss: 0.3424 - acc: 0.8598\n",
            "Epoch 00034: saving model to training_1/cp.ckpt\n",
            "7000/7000 [==============================] - 1s 147us/sample - loss: 0.3429 - acc: 0.8604 - val_loss: 0.3411 - val_acc: 0.8573\n",
            "Epoch 35/70\n",
            "6710/7000 [===========================>..] - ETA: 0s - loss: 0.3404 - acc: 0.8595\n",
            "Epoch 00035: saving model to training_1/cp.ckpt\n",
            "7000/7000 [==============================] - 1s 147us/sample - loss: 0.3415 - acc: 0.8596 - val_loss: 0.3470 - val_acc: 0.8547\n",
            "Epoch 36/70\n",
            "6870/7000 [============================>.] - ETA: 0s - loss: 0.3403 - acc: 0.8608\n",
            "Epoch 00036: saving model to training_1/cp.ckpt\n",
            "7000/7000 [==============================] - 1s 152us/sample - loss: 0.3412 - acc: 0.8604 - val_loss: 0.3434 - val_acc: 0.8573\n",
            "Epoch 37/70\n",
            "6990/7000 [============================>.] - ETA: 0s - loss: 0.3416 - acc: 0.8581\n",
            "Epoch 00037: saving model to training_1/cp.ckpt\n",
            "7000/7000 [==============================] - 1s 151us/sample - loss: 0.3421 - acc: 0.8579 - val_loss: 0.3424 - val_acc: 0.8600\n",
            "Epoch 38/70\n",
            "6770/7000 [============================>.] - ETA: 0s - loss: 0.3402 - acc: 0.8612\n",
            "Epoch 00038: saving model to training_1/cp.ckpt\n",
            "7000/7000 [==============================] - 1s 146us/sample - loss: 0.3418 - acc: 0.8601 - val_loss: 0.3453 - val_acc: 0.8560\n",
            "Epoch 39/70\n",
            "6770/7000 [============================>.] - ETA: 0s - loss: 0.3411 - acc: 0.8597\n",
            "Epoch 00039: saving model to training_1/cp.ckpt\n",
            "7000/7000 [==============================] - 1s 146us/sample - loss: 0.3405 - acc: 0.8599 - val_loss: 0.3445 - val_acc: 0.8553\n",
            "Epoch 40/70\n",
            "6880/7000 [============================>.] - ETA: 0s - loss: 0.3417 - acc: 0.8609\n",
            "Epoch 00040: saving model to training_1/cp.ckpt\n",
            "7000/7000 [==============================] - 1s 153us/sample - loss: 0.3409 - acc: 0.8611 - val_loss: 0.3418 - val_acc: 0.8567\n",
            "Epoch 41/70\n",
            "6730/7000 [===========================>..] - ETA: 0s - loss: 0.3420 - acc: 0.8585\n",
            "Epoch 00041: saving model to training_1/cp.ckpt\n",
            "7000/7000 [==============================] - 1s 147us/sample - loss: 0.3418 - acc: 0.8590 - val_loss: 0.3427 - val_acc: 0.8567\n",
            "Epoch 42/70\n",
            "6610/7000 [===========================>..] - ETA: 0s - loss: 0.3420 - acc: 0.8573\n",
            "Epoch 00042: saving model to training_1/cp.ckpt\n",
            "7000/7000 [==============================] - 1s 148us/sample - loss: 0.3408 - acc: 0.8587 - val_loss: 0.3419 - val_acc: 0.8577\n",
            "Epoch 43/70\n",
            "6990/7000 [============================>.] - ETA: 0s - loss: 0.3404 - acc: 0.8599\n",
            "Epoch 00043: saving model to training_1/cp.ckpt\n",
            "7000/7000 [==============================] - 1s 150us/sample - loss: 0.3408 - acc: 0.8597 - val_loss: 0.3398 - val_acc: 0.8567\n",
            "Epoch 44/70\n",
            "6700/7000 [===========================>..] - ETA: 0s - loss: 0.3410 - acc: 0.8593\n",
            "Epoch 00044: saving model to training_1/cp.ckpt\n",
            "7000/7000 [==============================] - 1s 147us/sample - loss: 0.3409 - acc: 0.8596 - val_loss: 0.3415 - val_acc: 0.8567\n",
            "Epoch 45/70\n",
            "6590/7000 [===========================>..] - ETA: 0s - loss: 0.3363 - acc: 0.8601\n",
            "Epoch 00045: saving model to training_1/cp.ckpt\n",
            "7000/7000 [==============================] - 1s 148us/sample - loss: 0.3393 - acc: 0.8587 - val_loss: 0.3475 - val_acc: 0.8537\n",
            "Epoch 46/70\n",
            "6600/7000 [===========================>..] - ETA: 0s - loss: 0.3391 - acc: 0.8639\n",
            "Epoch 00046: saving model to training_1/cp.ckpt\n",
            "7000/7000 [==============================] - 1s 148us/sample - loss: 0.3402 - acc: 0.8636 - val_loss: 0.3429 - val_acc: 0.8537\n",
            "Epoch 47/70\n",
            "6710/7000 [===========================>..] - ETA: 0s - loss: 0.3384 - acc: 0.8590\n",
            "Epoch 00047: saving model to training_1/cp.ckpt\n",
            "7000/7000 [==============================] - 1s 147us/sample - loss: 0.3399 - acc: 0.8586 - val_loss: 0.3423 - val_acc: 0.8547\n",
            "Epoch 48/70\n",
            "6720/7000 [===========================>..] - ETA: 0s - loss: 0.3398 - acc: 0.8606\n",
            "Epoch 00048: saving model to training_1/cp.ckpt\n",
            "7000/7000 [==============================] - 1s 147us/sample - loss: 0.3399 - acc: 0.8607 - val_loss: 0.3458 - val_acc: 0.8537\n",
            "Epoch 49/70\n",
            "6740/7000 [===========================>..] - ETA: 0s - loss: 0.3358 - acc: 0.8605\n",
            "Epoch 00049: saving model to training_1/cp.ckpt\n",
            "7000/7000 [==============================] - 1s 148us/sample - loss: 0.3388 - acc: 0.8597 - val_loss: 0.3447 - val_acc: 0.8530\n",
            "Epoch 50/70\n",
            "6660/7000 [===========================>..] - ETA: 0s - loss: 0.3387 - acc: 0.8590\n",
            "Epoch 00050: saving model to training_1/cp.ckpt\n",
            "7000/7000 [==============================] - 1s 148us/sample - loss: 0.3389 - acc: 0.8587 - val_loss: 0.3424 - val_acc: 0.8570\n",
            "Epoch 51/70\n",
            "6760/7000 [===========================>..] - ETA: 0s - loss: 0.3394 - acc: 0.8605\n",
            "Epoch 00051: saving model to training_1/cp.ckpt\n",
            "7000/7000 [==============================] - 1s 147us/sample - loss: 0.3388 - acc: 0.8613 - val_loss: 0.3435 - val_acc: 0.8597\n",
            "Epoch 52/70\n",
            "6700/7000 [===========================>..] - ETA: 0s - loss: 0.3388 - acc: 0.8606\n",
            "Epoch 00052: saving model to training_1/cp.ckpt\n",
            "7000/7000 [==============================] - 1s 147us/sample - loss: 0.3383 - acc: 0.8604 - val_loss: 0.3505 - val_acc: 0.8493\n",
            "Epoch 53/70\n",
            "6720/7000 [===========================>..] - ETA: 0s - loss: 0.3389 - acc: 0.8622\n",
            "Epoch 00053: saving model to training_1/cp.ckpt\n",
            "7000/7000 [==============================] - 1s 147us/sample - loss: 0.3392 - acc: 0.8620 - val_loss: 0.3436 - val_acc: 0.8583\n",
            "Epoch 54/70\n",
            "6850/7000 [============================>.] - ETA: 0s - loss: 0.3373 - acc: 0.8645\n",
            "Epoch 00054: saving model to training_1/cp.ckpt\n",
            "7000/7000 [==============================] - 1s 153us/sample - loss: 0.3389 - acc: 0.8641 - val_loss: 0.3402 - val_acc: 0.8590\n",
            "Epoch 55/70\n",
            "6620/7000 [===========================>..] - ETA: 0s - loss: 0.3381 - acc: 0.8603\n",
            "Epoch 00055: saving model to training_1/cp.ckpt\n",
            "7000/7000 [==============================] - 1s 148us/sample - loss: 0.3387 - acc: 0.8616 - val_loss: 0.3417 - val_acc: 0.8573\n",
            "Epoch 56/70\n",
            "6690/7000 [===========================>..] - ETA: 0s - loss: 0.3405 - acc: 0.8608\n",
            "Epoch 00056: saving model to training_1/cp.ckpt\n",
            "7000/7000 [==============================] - 1s 147us/sample - loss: 0.3389 - acc: 0.8619 - val_loss: 0.3408 - val_acc: 0.8547\n",
            "Epoch 57/70\n",
            "6700/7000 [===========================>..] - ETA: 0s - loss: 0.3385 - acc: 0.8610\n",
            "Epoch 00057: saving model to training_1/cp.ckpt\n",
            "7000/7000 [==============================] - 1s 147us/sample - loss: 0.3380 - acc: 0.8611 - val_loss: 0.3416 - val_acc: 0.8593\n",
            "Epoch 58/70\n",
            "6610/7000 [===========================>..] - ETA: 0s - loss: 0.3387 - acc: 0.8602\n",
            "Epoch 00058: saving model to training_1/cp.ckpt\n",
            "7000/7000 [==============================] - 1s 148us/sample - loss: 0.3386 - acc: 0.8601 - val_loss: 0.3402 - val_acc: 0.8563\n",
            "Epoch 59/70\n",
            "6620/7000 [===========================>..] - ETA: 0s - loss: 0.3375 - acc: 0.8592\n",
            "Epoch 00059: saving model to training_1/cp.ckpt\n",
            "7000/7000 [==============================] - 1s 148us/sample - loss: 0.3383 - acc: 0.8590 - val_loss: 0.3472 - val_acc: 0.8523\n",
            "Epoch 60/70\n",
            "6730/7000 [===========================>..] - ETA: 0s - loss: 0.3389 - acc: 0.8646\n",
            "Epoch 00060: saving model to training_1/cp.ckpt\n",
            "7000/7000 [==============================] - 1s 147us/sample - loss: 0.3387 - acc: 0.8640 - val_loss: 0.3394 - val_acc: 0.8567\n",
            "Epoch 61/70\n",
            "6710/7000 [===========================>..] - ETA: 0s - loss: 0.3386 - acc: 0.8626\n",
            "Epoch 00061: saving model to training_1/cp.ckpt\n",
            "7000/7000 [==============================] - 1s 146us/sample - loss: 0.3388 - acc: 0.8617 - val_loss: 0.3444 - val_acc: 0.8533\n",
            "Epoch 62/70\n",
            "6780/7000 [============================>.] - ETA: 0s - loss: 0.3370 - acc: 0.8625\n",
            "Epoch 00062: saving model to training_1/cp.ckpt\n",
            "7000/7000 [==============================] - 1s 145us/sample - loss: 0.3381 - acc: 0.8616 - val_loss: 0.3419 - val_acc: 0.8550\n",
            "Epoch 63/70\n",
            "6730/7000 [===========================>..] - ETA: 0s - loss: 0.3364 - acc: 0.8626\n",
            "Epoch 00063: saving model to training_1/cp.ckpt\n",
            "7000/7000 [==============================] - 1s 146us/sample - loss: 0.3374 - acc: 0.8609 - val_loss: 0.3501 - val_acc: 0.8537\n",
            "Epoch 64/70\n",
            "6810/7000 [============================>.] - ETA: 0s - loss: 0.3383 - acc: 0.8620\n",
            "Epoch 00064: saving model to training_1/cp.ckpt\n",
            "7000/7000 [==============================] - 1s 145us/sample - loss: 0.3377 - acc: 0.8626 - val_loss: 0.3389 - val_acc: 0.8597\n",
            "Epoch 65/70\n",
            "6760/7000 [===========================>..] - ETA: 0s - loss: 0.3385 - acc: 0.8615\n",
            "Epoch 00065: saving model to training_1/cp.ckpt\n",
            "7000/7000 [==============================] - 1s 146us/sample - loss: 0.3384 - acc: 0.8617 - val_loss: 0.3409 - val_acc: 0.8560\n",
            "Epoch 66/70\n",
            "6790/7000 [============================>.] - ETA: 0s - loss: 0.3392 - acc: 0.8611\n",
            "Epoch 00066: saving model to training_1/cp.ckpt\n",
            "7000/7000 [==============================] - 1s 146us/sample - loss: 0.3392 - acc: 0.8610 - val_loss: 0.3423 - val_acc: 0.8563\n",
            "Epoch 67/70\n",
            "6770/7000 [============================>.] - ETA: 0s - loss: 0.3388 - acc: 0.8612\n",
            "Epoch 00067: saving model to training_1/cp.ckpt\n",
            "7000/7000 [==============================] - 1s 147us/sample - loss: 0.3376 - acc: 0.8620 - val_loss: 0.3403 - val_acc: 0.8580\n",
            "Epoch 68/70\n",
            "6710/7000 [===========================>..] - ETA: 0s - loss: 0.3381 - acc: 0.8599\n",
            "Epoch 00068: saving model to training_1/cp.ckpt\n",
            "7000/7000 [==============================] - 1s 146us/sample - loss: 0.3379 - acc: 0.8597 - val_loss: 0.3415 - val_acc: 0.8580\n",
            "Epoch 69/70\n",
            "6820/7000 [============================>.] - ETA: 0s - loss: 0.3368 - acc: 0.8611\n",
            "Epoch 00069: saving model to training_1/cp.ckpt\n",
            "7000/7000 [==============================] - 1s 146us/sample - loss: 0.3376 - acc: 0.8609 - val_loss: 0.3450 - val_acc: 0.8573\n",
            "Epoch 70/70\n",
            "6780/7000 [============================>.] - ETA: 0s - loss: 0.3378 - acc: 0.8600\n",
            "Epoch 00070: saving model to training_1/cp.ckpt\n",
            "7000/7000 [==============================] - 1s 146us/sample - loss: 0.3377 - acc: 0.8606 - val_loss: 0.3401 - val_acc: 0.8547\n"
          ],
          "name": "stdout"
        },
        {
          "output_type": "execute_result",
          "data": {
            "text/plain": [
              "<tensorflow.python.keras.callbacks.History at 0x7fd7b2c379b0>"
            ]
          },
          "metadata": {
            "tags": []
          },
          "execution_count": 32
        }
      ]
    },
    {
      "cell_type": "code",
      "metadata": {
        "id": "MjPhI0v7AdZS",
        "colab_type": "code",
        "colab": {
          "base_uri": "https://localhost:8080/",
          "height": 51
        },
        "outputId": "a8268981-1538-4707-9fc5-f22354dd80b4"
      },
      "source": [
        "!ls {checkpoint_dir}"
      ],
      "execution_count": 33,
      "outputs": [
        {
          "output_type": "stream",
          "text": [
            "checkpoint\t\t     cp.ckpt.data-00001-of-00002\n",
            "cp.ckpt.data-00000-of-00002  cp.ckpt.index\n"
          ],
          "name": "stdout"
        }
      ]
    },
    {
      "cell_type": "code",
      "metadata": {
        "id": "WuhZy3lkA5Pm",
        "colab_type": "code",
        "colab": {}
      },
      "source": [
        ""
      ],
      "execution_count": 0,
      "outputs": []
    },
    {
      "cell_type": "code",
      "metadata": {
        "id": "7v0asej4hB6D",
        "colab_type": "code",
        "outputId": "c964b8b2-4ef2-4536-9b6d-b813eb69d587",
        "colab": {
          "base_uri": "https://localhost:8080/",
          "height": 51
        }
      },
      "source": [
        "model.evaluate(X_train, y_train, batch_size = 10)"
      ],
      "execution_count": 32,
      "outputs": [
        {
          "output_type": "stream",
          "text": [
            "7000/7000 [==============================] - 0s 60us/sample - loss: 0.3330 - acc: 0.8629\n"
          ],
          "name": "stdout"
        },
        {
          "output_type": "execute_result",
          "data": {
            "text/plain": [
              "[0.3329931390285492, 0.86285716]"
            ]
          },
          "metadata": {
            "tags": []
          },
          "execution_count": 32
        }
      ]
    },
    {
      "cell_type": "markdown",
      "metadata": {
        "id": "TZm_8zpl9O75",
        "colab_type": "text"
      },
      "source": [
        "###test score"
      ]
    },
    {
      "cell_type": "code",
      "metadata": {
        "id": "PmkSW_m59SGQ",
        "colab_type": "code",
        "colab": {
          "base_uri": "https://localhost:8080/",
          "height": 51
        },
        "outputId": "a3e7082f-fb5d-4384-e447-38bf506f51ec"
      },
      "source": [
        "model.evaluate(X_test, y_test)"
      ],
      "execution_count": 33,
      "outputs": [
        {
          "output_type": "stream",
          "text": [
            "3000/3000 [==============================] - 0s 29us/sample - loss: 0.3383 - acc: 0.8597\n"
          ],
          "name": "stdout"
        },
        {
          "output_type": "execute_result",
          "data": {
            "text/plain": [
              "[0.3382910006841024, 0.85966665]"
            ]
          },
          "metadata": {
            "tags": []
          },
          "execution_count": 33
        }
      ]
    },
    {
      "cell_type": "markdown",
      "metadata": {
        "id": "QzwDRGL5PfWC",
        "colab_type": "text"
      },
      "source": [
        "### Step 7:- make predictions"
      ]
    },
    {
      "cell_type": "code",
      "metadata": {
        "id": "wBVoGp-QQL2F",
        "colab_type": "code",
        "outputId": "e03f5f66-2066-4c5e-96c0-8cc85a8b3d69",
        "colab": {
          "base_uri": "https://localhost:8080/",
          "height": 51
        }
      },
      "source": [
        "y_pred = model.predict(X_test)\n",
        "y_pred[:2]"
      ],
      "execution_count": 109,
      "outputs": [
        {
          "output_type": "execute_result",
          "data": {
            "text/plain": [
              "array([[0.2960694 ],\n",
              "       [0.26959217]], dtype=float32)"
            ]
          },
          "metadata": {
            "tags": []
          },
          "execution_count": 109
        }
      ]
    },
    {
      "cell_type": "code",
      "metadata": {
        "id": "9kK8TGSBcwn7",
        "colab_type": "code",
        "colab": {}
      },
      "source": [
        "y_pred = y_pred.reshape((y_pred.shape[0]))"
      ],
      "execution_count": 0,
      "outputs": []
    },
    {
      "cell_type": "code",
      "metadata": {
        "id": "WdhEJhPHdt1A",
        "colab_type": "code",
        "outputId": "42b07bfd-5191-4525-8caf-fdc4b56d8375",
        "colab": {
          "base_uri": "https://localhost:8080/",
          "height": 51
        }
      },
      "source": [
        "y_pred"
      ],
      "execution_count": 111,
      "outputs": [
        {
          "output_type": "execute_result",
          "data": {
            "text/plain": [
              "array([0.2960694 , 0.26959217, 0.18748736, ..., 0.10858262, 0.09513777,\n",
              "       0.6939407 ], dtype=float32)"
            ]
          },
          "metadata": {
            "tags": []
          },
          "execution_count": 111
        }
      ]
    },
    {
      "cell_type": "code",
      "metadata": {
        "id": "hQ_GjDMwdwve",
        "colab_type": "code",
        "outputId": "9b856f8a-f389-4b99-9f0b-19dce6988375",
        "colab": {
          "base_uri": "https://localhost:8080/",
          "height": 34
        }
      },
      "source": [
        "y_test"
      ],
      "execution_count": 112,
      "outputs": [
        {
          "output_type": "execute_result",
          "data": {
            "text/plain": [
              "array([0, 1, 0, ..., 0, 0, 1])"
            ]
          },
          "metadata": {
            "tags": []
          },
          "execution_count": 112
        }
      ]
    },
    {
      "cell_type": "code",
      "metadata": {
        "id": "9bx0px8FdzX6",
        "colab_type": "code",
        "outputId": "11057241-d914-4533-a265-c1a25cab7b60",
        "colab": {
          "base_uri": "https://localhost:8080/",
          "height": 34
        }
      },
      "source": [
        "y_pred.shape, y_test.shape"
      ],
      "execution_count": 113,
      "outputs": [
        {
          "output_type": "execute_result",
          "data": {
            "text/plain": [
              "((3000,), (3000,))"
            ]
          },
          "metadata": {
            "tags": []
          },
          "execution_count": 113
        }
      ]
    },
    {
      "cell_type": "code",
      "metadata": {
        "id": "m4yS40lcSK4S",
        "colab_type": "code",
        "outputId": "a9b1d61f-fb2a-43cc-f9fb-e4a772e4b66e",
        "colab": {
          "base_uri": "https://localhost:8080/",
          "height": 51
        }
      },
      "source": [
        "from sklearn.metrics import confusion_matrix\n",
        "f_ypred = [1 if i > .5 else 0 for i in y_pred]\n",
        "confusion_matrix(y_test, f_ypred)"
      ],
      "execution_count": 116,
      "outputs": [
        {
          "output_type": "execute_result",
          "data": {
            "text/plain": [
              "array([[2259,  120],\n",
              "       [ 303,  318]])"
            ]
          },
          "metadata": {
            "tags": []
          },
          "execution_count": 116
        }
      ]
    },
    {
      "cell_type": "code",
      "metadata": {
        "id": "bs1l31lJg9Q9",
        "colab_type": "code",
        "outputId": "d346c0e7-7418-43e5-822a-66c3352b8c5d",
        "colab": {
          "base_uri": "https://localhost:8080/",
          "height": 34
        }
      },
      "source": [
        "end = time.time()\n",
        "tpu_runtime = end - start\n",
        "print(f'tpu run time is {tpu_runtime} seconds')"
      ],
      "execution_count": 117,
      "outputs": [
        {
          "output_type": "stream",
          "text": [
            "tpu run time is 87.4222891330719 seconds\n"
          ],
          "name": "stdout"
        }
      ]
    },
    {
      "cell_type": "code",
      "metadata": {
        "id": "4jJCAD3Y9hQX",
        "colab_type": "code",
        "colab": {}
      },
      "source": [
        ""
      ],
      "execution_count": 0,
      "outputs": []
    }
  ]
}