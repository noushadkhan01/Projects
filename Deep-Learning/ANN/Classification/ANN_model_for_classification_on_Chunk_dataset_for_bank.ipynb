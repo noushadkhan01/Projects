{
  "nbformat": 4,
  "nbformat_minor": 0,
  "metadata": {
    "colab": {
      "name": "ANN model for classification on Chunk_dataset for bank.ipynb",
      "version": "0.3.2",
      "provenance": [],
      "include_colab_link": true
    },
    "kernelspec": {
      "name": "python3",
      "display_name": "Python 3"
    },
    "accelerator": "TPU"
  },
  "cells": [
    {
      "cell_type": "markdown",
      "metadata": {
        "id": "view-in-github",
        "colab_type": "text"
      },
      "source": [
        "<a href=\"https://colab.research.google.com/github/noushadkhan01/Projects/blob/master/Deep-Learning/ANN/Classification/ANN_model_for_classification_on_Chunk_dataset_for_bank.ipynb\" target=\"_parent\"><img src=\"https://colab.research.google.com/assets/colab-badge.svg\" alt=\"Open In Colab\"/></a>"
      ]
    },
    {
      "cell_type": "code",
      "metadata": {
        "id": "S99Srbfbfibd",
        "colab_type": "code",
        "colab": {}
      },
      "source": [
        "import time\n",
        "start = time.time()\n",
        "import pandas as pd\n",
        "import numpy as np\n",
        "import seaborn as sns\n",
        "import matplotlib.pyplot as plt\n",
        "%matplotlib inline"
      ],
      "execution_count": 0,
      "outputs": []
    },
    {
      "cell_type": "code",
      "metadata": {
        "id": "oQv0_MRnfxdw",
        "colab_type": "code",
        "outputId": "cfa5228c-c5b9-424b-ee4a-f2528d9e2580",
        "colab": {
          "base_uri": "https://localhost:8080/",
          "height": 204
        }
      },
      "source": [
        "df = pd.read_csv('https://bit.ly/2QMuIPs')\n",
        "df.head()"
      ],
      "execution_count": 8,
      "outputs": [
        {
          "output_type": "execute_result",
          "data": {
            "text/html": [
              "<div>\n",
              "<style scoped>\n",
              "    .dataframe tbody tr th:only-of-type {\n",
              "        vertical-align: middle;\n",
              "    }\n",
              "\n",
              "    .dataframe tbody tr th {\n",
              "        vertical-align: top;\n",
              "    }\n",
              "\n",
              "    .dataframe thead th {\n",
              "        text-align: right;\n",
              "    }\n",
              "</style>\n",
              "<table border=\"1\" class=\"dataframe\">\n",
              "  <thead>\n",
              "    <tr style=\"text-align: right;\">\n",
              "      <th></th>\n",
              "      <th>RowNumber</th>\n",
              "      <th>CustomerId</th>\n",
              "      <th>Surname</th>\n",
              "      <th>CreditScore</th>\n",
              "      <th>Geography</th>\n",
              "      <th>Gender</th>\n",
              "      <th>Age</th>\n",
              "      <th>Tenure</th>\n",
              "      <th>Balance</th>\n",
              "      <th>NumOfProducts</th>\n",
              "      <th>HasCrCard</th>\n",
              "      <th>IsActiveMember</th>\n",
              "      <th>EstimatedSalary</th>\n",
              "      <th>Exited</th>\n",
              "    </tr>\n",
              "  </thead>\n",
              "  <tbody>\n",
              "    <tr>\n",
              "      <th>0</th>\n",
              "      <td>1</td>\n",
              "      <td>15634602</td>\n",
              "      <td>Hargrave</td>\n",
              "      <td>619</td>\n",
              "      <td>France</td>\n",
              "      <td>Female</td>\n",
              "      <td>42</td>\n",
              "      <td>2</td>\n",
              "      <td>0.00</td>\n",
              "      <td>1</td>\n",
              "      <td>1</td>\n",
              "      <td>1</td>\n",
              "      <td>101348.88</td>\n",
              "      <td>1</td>\n",
              "    </tr>\n",
              "    <tr>\n",
              "      <th>1</th>\n",
              "      <td>2</td>\n",
              "      <td>15647311</td>\n",
              "      <td>Hill</td>\n",
              "      <td>608</td>\n",
              "      <td>Spain</td>\n",
              "      <td>Female</td>\n",
              "      <td>41</td>\n",
              "      <td>1</td>\n",
              "      <td>83807.86</td>\n",
              "      <td>1</td>\n",
              "      <td>0</td>\n",
              "      <td>1</td>\n",
              "      <td>112542.58</td>\n",
              "      <td>0</td>\n",
              "    </tr>\n",
              "    <tr>\n",
              "      <th>2</th>\n",
              "      <td>3</td>\n",
              "      <td>15619304</td>\n",
              "      <td>Onio</td>\n",
              "      <td>502</td>\n",
              "      <td>France</td>\n",
              "      <td>Female</td>\n",
              "      <td>42</td>\n",
              "      <td>8</td>\n",
              "      <td>159660.80</td>\n",
              "      <td>3</td>\n",
              "      <td>1</td>\n",
              "      <td>0</td>\n",
              "      <td>113931.57</td>\n",
              "      <td>1</td>\n",
              "    </tr>\n",
              "    <tr>\n",
              "      <th>3</th>\n",
              "      <td>4</td>\n",
              "      <td>15701354</td>\n",
              "      <td>Boni</td>\n",
              "      <td>699</td>\n",
              "      <td>France</td>\n",
              "      <td>Female</td>\n",
              "      <td>39</td>\n",
              "      <td>1</td>\n",
              "      <td>0.00</td>\n",
              "      <td>2</td>\n",
              "      <td>0</td>\n",
              "      <td>0</td>\n",
              "      <td>93826.63</td>\n",
              "      <td>0</td>\n",
              "    </tr>\n",
              "    <tr>\n",
              "      <th>4</th>\n",
              "      <td>5</td>\n",
              "      <td>15737888</td>\n",
              "      <td>Mitchell</td>\n",
              "      <td>850</td>\n",
              "      <td>Spain</td>\n",
              "      <td>Female</td>\n",
              "      <td>43</td>\n",
              "      <td>2</td>\n",
              "      <td>125510.82</td>\n",
              "      <td>1</td>\n",
              "      <td>1</td>\n",
              "      <td>1</td>\n",
              "      <td>79084.10</td>\n",
              "      <td>0</td>\n",
              "    </tr>\n",
              "  </tbody>\n",
              "</table>\n",
              "</div>"
            ],
            "text/plain": [
              "   RowNumber  CustomerId   Surname  ...  IsActiveMember EstimatedSalary Exited\n",
              "0          1    15634602  Hargrave  ...               1       101348.88      1\n",
              "1          2    15647311      Hill  ...               1       112542.58      0\n",
              "2          3    15619304      Onio  ...               0       113931.57      1\n",
              "3          4    15701354      Boni  ...               0        93826.63      0\n",
              "4          5    15737888  Mitchell  ...               1        79084.10      0\n",
              "\n",
              "[5 rows x 14 columns]"
            ]
          },
          "metadata": {
            "tags": []
          },
          "execution_count": 8
        }
      ]
    },
    {
      "cell_type": "code",
      "metadata": {
        "id": "zDubxtvaf7vQ",
        "colab_type": "code",
        "outputId": "de0c55bc-8105-4b16-c0f2-51e1207effaf",
        "colab": {
          "base_uri": "https://localhost:8080/",
          "height": 34
        }
      },
      "source": [
        "df.shape"
      ],
      "execution_count": 9,
      "outputs": [
        {
          "output_type": "execute_result",
          "data": {
            "text/plain": [
              "(10000, 14)"
            ]
          },
          "metadata": {
            "tags": []
          },
          "execution_count": 9
        }
      ]
    },
    {
      "cell_type": "code",
      "metadata": {
        "id": "dyotbPV0f-i4",
        "colab_type": "code",
        "outputId": "6560df11-ebf8-44ce-9e50-9f94c7dec7b7",
        "colab": {
          "base_uri": "https://localhost:8080/",
          "height": 340
        }
      },
      "source": [
        "df.info()"
      ],
      "execution_count": 10,
      "outputs": [
        {
          "output_type": "stream",
          "text": [
            "<class 'pandas.core.frame.DataFrame'>\n",
            "RangeIndex: 10000 entries, 0 to 9999\n",
            "Data columns (total 14 columns):\n",
            "RowNumber          10000 non-null int64\n",
            "CustomerId         10000 non-null int64\n",
            "Surname            10000 non-null object\n",
            "CreditScore        10000 non-null int64\n",
            "Geography          10000 non-null object\n",
            "Gender             10000 non-null object\n",
            "Age                10000 non-null int64\n",
            "Tenure             10000 non-null int64\n",
            "Balance            10000 non-null float64\n",
            "NumOfProducts      10000 non-null int64\n",
            "HasCrCard          10000 non-null int64\n",
            "IsActiveMember     10000 non-null int64\n",
            "EstimatedSalary    10000 non-null float64\n",
            "Exited             10000 non-null int64\n",
            "dtypes: float64(2), int64(9), object(3)\n",
            "memory usage: 1.1+ MB\n"
          ],
          "name": "stdout"
        }
      ]
    },
    {
      "cell_type": "code",
      "metadata": {
        "id": "HQo3UiHlf_h8",
        "colab_type": "code",
        "outputId": "088f5883-f996-44dc-ab2c-a1259e1bafeb",
        "colab": {
          "base_uri": "https://localhost:8080/",
          "height": 317
        }
      },
      "source": [
        "df.describe()"
      ],
      "execution_count": 11,
      "outputs": [
        {
          "output_type": "execute_result",
          "data": {
            "text/html": [
              "<div>\n",
              "<style scoped>\n",
              "    .dataframe tbody tr th:only-of-type {\n",
              "        vertical-align: middle;\n",
              "    }\n",
              "\n",
              "    .dataframe tbody tr th {\n",
              "        vertical-align: top;\n",
              "    }\n",
              "\n",
              "    .dataframe thead th {\n",
              "        text-align: right;\n",
              "    }\n",
              "</style>\n",
              "<table border=\"1\" class=\"dataframe\">\n",
              "  <thead>\n",
              "    <tr style=\"text-align: right;\">\n",
              "      <th></th>\n",
              "      <th>RowNumber</th>\n",
              "      <th>CustomerId</th>\n",
              "      <th>CreditScore</th>\n",
              "      <th>Age</th>\n",
              "      <th>Tenure</th>\n",
              "      <th>Balance</th>\n",
              "      <th>NumOfProducts</th>\n",
              "      <th>HasCrCard</th>\n",
              "      <th>IsActiveMember</th>\n",
              "      <th>EstimatedSalary</th>\n",
              "      <th>Exited</th>\n",
              "    </tr>\n",
              "  </thead>\n",
              "  <tbody>\n",
              "    <tr>\n",
              "      <th>count</th>\n",
              "      <td>10000.00000</td>\n",
              "      <td>1.000000e+04</td>\n",
              "      <td>10000.000000</td>\n",
              "      <td>10000.000000</td>\n",
              "      <td>10000.000000</td>\n",
              "      <td>10000.000000</td>\n",
              "      <td>10000.000000</td>\n",
              "      <td>10000.00000</td>\n",
              "      <td>10000.000000</td>\n",
              "      <td>10000.000000</td>\n",
              "      <td>10000.000000</td>\n",
              "    </tr>\n",
              "    <tr>\n",
              "      <th>mean</th>\n",
              "      <td>5000.50000</td>\n",
              "      <td>1.569094e+07</td>\n",
              "      <td>650.528800</td>\n",
              "      <td>38.921800</td>\n",
              "      <td>5.012800</td>\n",
              "      <td>76485.889288</td>\n",
              "      <td>1.530200</td>\n",
              "      <td>0.70550</td>\n",
              "      <td>0.515100</td>\n",
              "      <td>100090.239881</td>\n",
              "      <td>0.203700</td>\n",
              "    </tr>\n",
              "    <tr>\n",
              "      <th>std</th>\n",
              "      <td>2886.89568</td>\n",
              "      <td>7.193619e+04</td>\n",
              "      <td>96.653299</td>\n",
              "      <td>10.487806</td>\n",
              "      <td>2.892174</td>\n",
              "      <td>62397.405202</td>\n",
              "      <td>0.581654</td>\n",
              "      <td>0.45584</td>\n",
              "      <td>0.499797</td>\n",
              "      <td>57510.492818</td>\n",
              "      <td>0.402769</td>\n",
              "    </tr>\n",
              "    <tr>\n",
              "      <th>min</th>\n",
              "      <td>1.00000</td>\n",
              "      <td>1.556570e+07</td>\n",
              "      <td>350.000000</td>\n",
              "      <td>18.000000</td>\n",
              "      <td>0.000000</td>\n",
              "      <td>0.000000</td>\n",
              "      <td>1.000000</td>\n",
              "      <td>0.00000</td>\n",
              "      <td>0.000000</td>\n",
              "      <td>11.580000</td>\n",
              "      <td>0.000000</td>\n",
              "    </tr>\n",
              "    <tr>\n",
              "      <th>25%</th>\n",
              "      <td>2500.75000</td>\n",
              "      <td>1.562853e+07</td>\n",
              "      <td>584.000000</td>\n",
              "      <td>32.000000</td>\n",
              "      <td>3.000000</td>\n",
              "      <td>0.000000</td>\n",
              "      <td>1.000000</td>\n",
              "      <td>0.00000</td>\n",
              "      <td>0.000000</td>\n",
              "      <td>51002.110000</td>\n",
              "      <td>0.000000</td>\n",
              "    </tr>\n",
              "    <tr>\n",
              "      <th>50%</th>\n",
              "      <td>5000.50000</td>\n",
              "      <td>1.569074e+07</td>\n",
              "      <td>652.000000</td>\n",
              "      <td>37.000000</td>\n",
              "      <td>5.000000</td>\n",
              "      <td>97198.540000</td>\n",
              "      <td>1.000000</td>\n",
              "      <td>1.00000</td>\n",
              "      <td>1.000000</td>\n",
              "      <td>100193.915000</td>\n",
              "      <td>0.000000</td>\n",
              "    </tr>\n",
              "    <tr>\n",
              "      <th>75%</th>\n",
              "      <td>7500.25000</td>\n",
              "      <td>1.575323e+07</td>\n",
              "      <td>718.000000</td>\n",
              "      <td>44.000000</td>\n",
              "      <td>7.000000</td>\n",
              "      <td>127644.240000</td>\n",
              "      <td>2.000000</td>\n",
              "      <td>1.00000</td>\n",
              "      <td>1.000000</td>\n",
              "      <td>149388.247500</td>\n",
              "      <td>0.000000</td>\n",
              "    </tr>\n",
              "    <tr>\n",
              "      <th>max</th>\n",
              "      <td>10000.00000</td>\n",
              "      <td>1.581569e+07</td>\n",
              "      <td>850.000000</td>\n",
              "      <td>92.000000</td>\n",
              "      <td>10.000000</td>\n",
              "      <td>250898.090000</td>\n",
              "      <td>4.000000</td>\n",
              "      <td>1.00000</td>\n",
              "      <td>1.000000</td>\n",
              "      <td>199992.480000</td>\n",
              "      <td>1.000000</td>\n",
              "    </tr>\n",
              "  </tbody>\n",
              "</table>\n",
              "</div>"
            ],
            "text/plain": [
              "         RowNumber    CustomerId  ...  EstimatedSalary        Exited\n",
              "count  10000.00000  1.000000e+04  ...     10000.000000  10000.000000\n",
              "mean    5000.50000  1.569094e+07  ...    100090.239881      0.203700\n",
              "std     2886.89568  7.193619e+04  ...     57510.492818      0.402769\n",
              "min        1.00000  1.556570e+07  ...        11.580000      0.000000\n",
              "25%     2500.75000  1.562853e+07  ...     51002.110000      0.000000\n",
              "50%     5000.50000  1.569074e+07  ...    100193.915000      0.000000\n",
              "75%     7500.25000  1.575323e+07  ...    149388.247500      0.000000\n",
              "max    10000.00000  1.581569e+07  ...    199992.480000      1.000000\n",
              "\n",
              "[8 rows x 11 columns]"
            ]
          },
          "metadata": {
            "tags": []
          },
          "execution_count": 11
        }
      ]
    },
    {
      "cell_type": "markdown",
      "metadata": {
        "id": "nE0p3BFggAto",
        "colab_type": "text"
      },
      "source": [
        "## check for null values"
      ]
    },
    {
      "cell_type": "code",
      "metadata": {
        "id": "jNEcDk-_gDs-",
        "colab_type": "code",
        "outputId": "a785643f-11b3-4e04-82a4-30dfe7e24df7",
        "colab": {
          "base_uri": "https://localhost:8080/",
          "height": 68
        }
      },
      "source": [
        "df.isnull().sum().sort_values(ascending = False)[:2]"
      ],
      "execution_count": 12,
      "outputs": [
        {
          "output_type": "execute_result",
          "data": {
            "text/plain": [
              "Exited             0\n",
              "EstimatedSalary    0\n",
              "dtype: int64"
            ]
          },
          "metadata": {
            "tags": []
          },
          "execution_count": 12
        }
      ]
    },
    {
      "cell_type": "markdown",
      "metadata": {
        "id": "pCkbns8fgH_F",
        "colab_type": "text"
      },
      "source": [
        "**^^as u can see there is no null value**"
      ]
    },
    {
      "cell_type": "code",
      "metadata": {
        "id": "uv6nWlkWgUB0",
        "colab_type": "code",
        "outputId": "ba959b06-70ae-4428-d6f5-d44a9ec64422",
        "colab": {
          "base_uri": "https://localhost:8080/",
          "height": 221
        }
      },
      "source": [
        "df.skew()"
      ],
      "execution_count": 13,
      "outputs": [
        {
          "output_type": "execute_result",
          "data": {
            "text/plain": [
              "RowNumber          0.000000\n",
              "CustomerId         0.001149\n",
              "CreditScore       -0.071607\n",
              "Age                1.011320\n",
              "Tenure             0.010991\n",
              "Balance           -0.141109\n",
              "NumOfProducts      0.745568\n",
              "HasCrCard         -0.901812\n",
              "IsActiveMember    -0.060437\n",
              "EstimatedSalary    0.002085\n",
              "Exited             1.471611\n",
              "dtype: float64"
            ]
          },
          "metadata": {
            "tags": []
          },
          "execution_count": 13
        }
      ]
    },
    {
      "cell_type": "code",
      "metadata": {
        "id": "q7OojanNgllv",
        "colab_type": "code",
        "outputId": "2991596b-6456-488b-cd75-b8c20d630f98",
        "colab": {
          "base_uri": "https://localhost:8080/",
          "height": 34
        }
      },
      "source": [
        "np.log1p(df.Age).skew()"
      ],
      "execution_count": 14,
      "outputs": [
        {
          "output_type": "execute_result",
          "data": {
            "text/plain": [
              "0.20336041516983316"
            ]
          },
          "metadata": {
            "tags": []
          },
          "execution_count": 14
        }
      ]
    },
    {
      "cell_type": "markdown",
      "metadata": {
        "id": "u7d9RSYyiOKm",
        "colab_type": "text"
      },
      "source": [
        "## import important dependencies"
      ]
    },
    {
      "cell_type": "code",
      "metadata": {
        "id": "kHURLRKli0yL",
        "colab_type": "code",
        "colab": {}
      },
      "source": [
        "import tensorflow as tf\n",
        "from tensorflow import keras"
      ],
      "execution_count": 0,
      "outputs": []
    },
    {
      "cell_type": "code",
      "metadata": {
        "id": "h3LD0pKijiDY",
        "colab_type": "code",
        "outputId": "665c2f3f-9c7b-4377-dadb-3851aef89689",
        "colab": {
          "base_uri": "https://localhost:8080/",
          "height": 80
        }
      },
      "source": [
        "df.head(1)"
      ],
      "execution_count": 16,
      "outputs": [
        {
          "output_type": "execute_result",
          "data": {
            "text/html": [
              "<div>\n",
              "<style scoped>\n",
              "    .dataframe tbody tr th:only-of-type {\n",
              "        vertical-align: middle;\n",
              "    }\n",
              "\n",
              "    .dataframe tbody tr th {\n",
              "        vertical-align: top;\n",
              "    }\n",
              "\n",
              "    .dataframe thead th {\n",
              "        text-align: right;\n",
              "    }\n",
              "</style>\n",
              "<table border=\"1\" class=\"dataframe\">\n",
              "  <thead>\n",
              "    <tr style=\"text-align: right;\">\n",
              "      <th></th>\n",
              "      <th>RowNumber</th>\n",
              "      <th>CustomerId</th>\n",
              "      <th>Surname</th>\n",
              "      <th>CreditScore</th>\n",
              "      <th>Geography</th>\n",
              "      <th>Gender</th>\n",
              "      <th>Age</th>\n",
              "      <th>Tenure</th>\n",
              "      <th>Balance</th>\n",
              "      <th>NumOfProducts</th>\n",
              "      <th>HasCrCard</th>\n",
              "      <th>IsActiveMember</th>\n",
              "      <th>EstimatedSalary</th>\n",
              "      <th>Exited</th>\n",
              "    </tr>\n",
              "  </thead>\n",
              "  <tbody>\n",
              "    <tr>\n",
              "      <th>0</th>\n",
              "      <td>1</td>\n",
              "      <td>15634602</td>\n",
              "      <td>Hargrave</td>\n",
              "      <td>619</td>\n",
              "      <td>France</td>\n",
              "      <td>Female</td>\n",
              "      <td>42</td>\n",
              "      <td>2</td>\n",
              "      <td>0.0</td>\n",
              "      <td>1</td>\n",
              "      <td>1</td>\n",
              "      <td>1</td>\n",
              "      <td>101348.88</td>\n",
              "      <td>1</td>\n",
              "    </tr>\n",
              "  </tbody>\n",
              "</table>\n",
              "</div>"
            ],
            "text/plain": [
              "   RowNumber  CustomerId   Surname  ...  IsActiveMember EstimatedSalary Exited\n",
              "0          1    15634602  Hargrave  ...               1       101348.88      1\n",
              "\n",
              "[1 rows x 14 columns]"
            ]
          },
          "metadata": {
            "tags": []
          },
          "execution_count": 16
        }
      ]
    },
    {
      "cell_type": "code",
      "metadata": {
        "id": "bqgrcYKKj2de",
        "colab_type": "code",
        "outputId": "e355bf8d-4c01-467a-835b-476158f3a94e",
        "colab": {
          "base_uri": "https://localhost:8080/",
          "height": 80
        }
      },
      "source": [
        "df = df.iloc[:, 3:]\n",
        "df.head(1)"
      ],
      "execution_count": 17,
      "outputs": [
        {
          "output_type": "execute_result",
          "data": {
            "text/html": [
              "<div>\n",
              "<style scoped>\n",
              "    .dataframe tbody tr th:only-of-type {\n",
              "        vertical-align: middle;\n",
              "    }\n",
              "\n",
              "    .dataframe tbody tr th {\n",
              "        vertical-align: top;\n",
              "    }\n",
              "\n",
              "    .dataframe thead th {\n",
              "        text-align: right;\n",
              "    }\n",
              "</style>\n",
              "<table border=\"1\" class=\"dataframe\">\n",
              "  <thead>\n",
              "    <tr style=\"text-align: right;\">\n",
              "      <th></th>\n",
              "      <th>CreditScore</th>\n",
              "      <th>Geography</th>\n",
              "      <th>Gender</th>\n",
              "      <th>Age</th>\n",
              "      <th>Tenure</th>\n",
              "      <th>Balance</th>\n",
              "      <th>NumOfProducts</th>\n",
              "      <th>HasCrCard</th>\n",
              "      <th>IsActiveMember</th>\n",
              "      <th>EstimatedSalary</th>\n",
              "      <th>Exited</th>\n",
              "    </tr>\n",
              "  </thead>\n",
              "  <tbody>\n",
              "    <tr>\n",
              "      <th>0</th>\n",
              "      <td>619</td>\n",
              "      <td>France</td>\n",
              "      <td>Female</td>\n",
              "      <td>42</td>\n",
              "      <td>2</td>\n",
              "      <td>0.0</td>\n",
              "      <td>1</td>\n",
              "      <td>1</td>\n",
              "      <td>1</td>\n",
              "      <td>101348.88</td>\n",
              "      <td>1</td>\n",
              "    </tr>\n",
              "  </tbody>\n",
              "</table>\n",
              "</div>"
            ],
            "text/plain": [
              "   CreditScore Geography  Gender  ...  IsActiveMember  EstimatedSalary  Exited\n",
              "0          619    France  Female  ...               1        101348.88       1\n",
              "\n",
              "[1 rows x 11 columns]"
            ]
          },
          "metadata": {
            "tags": []
          },
          "execution_count": 17
        }
      ]
    },
    {
      "cell_type": "code",
      "metadata": {
        "id": "I2DQlX3LkAjW",
        "colab_type": "code",
        "outputId": "a7c4799e-22f0-4207-e070-7749f799110f",
        "colab": {
          "base_uri": "https://localhost:8080/",
          "height": 80
        }
      },
      "source": [
        "df = pd.get_dummies(df, drop_first = True)\n",
        "df.head(1)"
      ],
      "execution_count": 18,
      "outputs": [
        {
          "output_type": "execute_result",
          "data": {
            "text/html": [
              "<div>\n",
              "<style scoped>\n",
              "    .dataframe tbody tr th:only-of-type {\n",
              "        vertical-align: middle;\n",
              "    }\n",
              "\n",
              "    .dataframe tbody tr th {\n",
              "        vertical-align: top;\n",
              "    }\n",
              "\n",
              "    .dataframe thead th {\n",
              "        text-align: right;\n",
              "    }\n",
              "</style>\n",
              "<table border=\"1\" class=\"dataframe\">\n",
              "  <thead>\n",
              "    <tr style=\"text-align: right;\">\n",
              "      <th></th>\n",
              "      <th>CreditScore</th>\n",
              "      <th>Age</th>\n",
              "      <th>Tenure</th>\n",
              "      <th>Balance</th>\n",
              "      <th>NumOfProducts</th>\n",
              "      <th>HasCrCard</th>\n",
              "      <th>IsActiveMember</th>\n",
              "      <th>EstimatedSalary</th>\n",
              "      <th>Exited</th>\n",
              "      <th>Geography_Germany</th>\n",
              "      <th>Geography_Spain</th>\n",
              "      <th>Gender_Male</th>\n",
              "    </tr>\n",
              "  </thead>\n",
              "  <tbody>\n",
              "    <tr>\n",
              "      <th>0</th>\n",
              "      <td>619</td>\n",
              "      <td>42</td>\n",
              "      <td>2</td>\n",
              "      <td>0.0</td>\n",
              "      <td>1</td>\n",
              "      <td>1</td>\n",
              "      <td>1</td>\n",
              "      <td>101348.88</td>\n",
              "      <td>1</td>\n",
              "      <td>0</td>\n",
              "      <td>0</td>\n",
              "      <td>0</td>\n",
              "    </tr>\n",
              "  </tbody>\n",
              "</table>\n",
              "</div>"
            ],
            "text/plain": [
              "   CreditScore  Age  Tenure  ...  Geography_Germany  Geography_Spain  Gender_Male\n",
              "0          619   42       2  ...                  0                0            0\n",
              "\n",
              "[1 rows x 12 columns]"
            ]
          },
          "metadata": {
            "tags": []
          },
          "execution_count": 18
        }
      ]
    },
    {
      "cell_type": "code",
      "metadata": {
        "id": "yAMvq6oFkIge",
        "colab_type": "code",
        "outputId": "3e9e2bf5-fb07-4c03-de6a-a5203047de8a",
        "colab": {
          "base_uri": "https://localhost:8080/",
          "height": 34
        }
      },
      "source": [
        "X = df.drop('Exited', 1)\n",
        "y = df.Exited\n",
        "X.shape, y.shape"
      ],
      "execution_count": 19,
      "outputs": [
        {
          "output_type": "execute_result",
          "data": {
            "text/plain": [
              "((10000, 11), (10000,))"
            ]
          },
          "metadata": {
            "tags": []
          },
          "execution_count": 19
        }
      ]
    },
    {
      "cell_type": "markdown",
      "metadata": {
        "id": "3vllGMuVkSo2",
        "colab_type": "text"
      },
      "source": [
        "## StandardScaler"
      ]
    },
    {
      "cell_type": "markdown",
      "metadata": {
        "id": "TCWLZVx3kfZY",
        "colab_type": "text"
      },
      "source": [
        "We need to scale out data before applying to neural network becuase of speed"
      ]
    },
    {
      "cell_type": "code",
      "metadata": {
        "id": "rW0Ev8GCl0XC",
        "colab_type": "code",
        "colab": {}
      },
      "source": [
        "from sklearn.model_selection import train_test_split"
      ],
      "execution_count": 0,
      "outputs": []
    },
    {
      "cell_type": "code",
      "metadata": {
        "id": "7A5r1i7fl308",
        "colab_type": "code",
        "outputId": "57e0eff8-81ef-4c3b-82e3-8baba73e16b4",
        "colab": {
          "base_uri": "https://localhost:8080/",
          "height": 34
        }
      },
      "source": [
        "X_train, X_test, y_train, y_test =train_test_split(X, y, test_size = 0.3, random_state = 0)\n",
        "X_train.shape, X_test.shape, y_train.shape, y_test.shape"
      ],
      "execution_count": 21,
      "outputs": [
        {
          "output_type": "execute_result",
          "data": {
            "text/plain": [
              "((7000, 11), (3000, 11), (7000,), (3000,))"
            ]
          },
          "metadata": {
            "tags": []
          },
          "execution_count": 21
        }
      ]
    },
    {
      "cell_type": "code",
      "metadata": {
        "id": "-5ZEcWv_knNX",
        "colab_type": "code",
        "colab": {}
      },
      "source": [
        "from sklearn.preprocessing import StandardScaler"
      ],
      "execution_count": 0,
      "outputs": []
    },
    {
      "cell_type": "code",
      "metadata": {
        "id": "2rylEvaVbBBU",
        "colab_type": "code",
        "colab": {}
      },
      "source": [
        "sc = StandardScaler()"
      ],
      "execution_count": 0,
      "outputs": []
    },
    {
      "cell_type": "code",
      "metadata": {
        "id": "MKdMfJJ6lXv6",
        "colab_type": "code",
        "outputId": "976da025-9085-4b38-c4cb-ac7c08e8c2f4",
        "colab": {
          "base_uri": "https://localhost:8080/",
          "height": 119
        }
      },
      "source": [
        "X_train = sc.fit_transform(X_train)\n",
        "X_test = sc.transform(X_test)\n",
        "X_train[:1], X_test[:1]"
      ],
      "execution_count": 24,
      "outputs": [
        {
          "output_type": "execute_result",
          "data": {
            "text/plain": [
              "(array([[-0.09792126, -0.55759842, -1.03635146,  1.13249447,  0.81039385,\n",
              "          0.64198477,  0.96683535, -0.76862426, -0.56987189, -0.5731713 ,\n",
              "          0.92295821]]),\n",
              " array([[-0.55032881, -0.36597914,  1.0436811 ,  0.89172052, -0.92971564,\n",
              "          0.64198477,  0.96683535,  1.61245299,  1.75478035, -0.5731713 ,\n",
              "         -1.08347268]]))"
            ]
          },
          "metadata": {
            "tags": []
          },
          "execution_count": 24
        }
      ]
    },
    {
      "cell_type": "code",
      "metadata": {
        "id": "anfg2SMklcv5",
        "colab_type": "code",
        "outputId": "650a6928-c025-4b94-93c4-45aa08182cfe",
        "colab": {
          "base_uri": "https://localhost:8080/",
          "height": 34
        }
      },
      "source": [
        "y_train = y_train.values\n",
        "y_test = y_test.values\n",
        "y_train[:2], y_test[:2]"
      ],
      "execution_count": 25,
      "outputs": [
        {
          "output_type": "execute_result",
          "data": {
            "text/plain": [
              "(array([1, 0]), array([0, 1]))"
            ]
          },
          "metadata": {
            "tags": []
          },
          "execution_count": 25
        }
      ]
    },
    {
      "cell_type": "markdown",
      "metadata": {
        "id": "7VghYEDmlm9G",
        "colab_type": "text"
      },
      "source": [
        "# Make ANN"
      ]
    },
    {
      "cell_type": "code",
      "metadata": {
        "id": "bP5A2Qxcmw9m",
        "colab_type": "code",
        "colab": {}
      },
      "source": [
        "from tensorflow import keras"
      ],
      "execution_count": 0,
      "outputs": []
    },
    {
      "cell_type": "markdown",
      "metadata": {
        "id": "MhsZ8esrm0Va",
        "colab_type": "text"
      },
      "source": [
        "## import Sequential from keras\n",
        "**it is required to initialize our neural network model**"
      ]
    },
    {
      "cell_type": "markdown",
      "metadata": {
        "id": "KQhGzWV9oza1",
        "colab_type": "text"
      },
      "source": [
        "### Step 1:- create ann model by sequential"
      ]
    },
    {
      "cell_type": "code",
      "metadata": {
        "id": "1UDYUiWInC4S",
        "colab_type": "code",
        "outputId": "a8a4458c-8f94-41ac-a840-d1393358b875",
        "colab": {
          "base_uri": "https://localhost:8080/",
          "height": 34
        }
      },
      "source": [
        "#1 first initialize our keras model by Sequential\n",
        "model = keras.models.Sequential()\n",
        "model"
      ],
      "execution_count": 27,
      "outputs": [
        {
          "output_type": "execute_result",
          "data": {
            "text/plain": [
              "<tensorflow.python.keras.engine.sequential.Sequential at 0x7fb867bfb9e8>"
            ]
          },
          "metadata": {
            "tags": []
          },
          "execution_count": 27
        }
      ]
    },
    {
      "cell_type": "markdown",
      "metadata": {
        "id": "YTm7qlIMoyVA",
        "colab_type": "text"
      },
      "source": [
        "### Step 2:- Add dense layer"
      ]
    },
    {
      "cell_type": "markdown",
      "metadata": {
        "id": "QWMXKUoyrxnv",
        "colab_type": "text"
      },
      "source": [
        "if a data is linenarly separable then their is no need to add hidden layer or don't even need a neural networks by convention"
      ]
    },
    {
      "cell_type": "markdown",
      "metadata": {
        "id": "UI3bNueisCfC",
        "colab_type": "text"
      },
      "source": [
        "**Tip:-- ** no. of nodes in hidden layers is the average of no. of nodes in input layers and no. of node in output layer"
      ]
    },
    {
      "cell_type": "code",
      "metadata": {
        "id": "n7_6nHTpsmmM",
        "colab_type": "code",
        "outputId": "c7ec0c3c-a267-4ba3-e608-acfe246c2e30",
        "colab": {
          "base_uri": "https://localhost:8080/",
          "height": 34
        }
      },
      "source": [
        "ninput = 11 #no of independent variables\n",
        "noutput = 1 #output is either 1 or either 0 so no of hidden layers in output is 1\n",
        "nhidden = (ninput + noutput) / 2\n",
        "nhidden"
      ],
      "execution_count": 28,
      "outputs": [
        {
          "output_type": "execute_result",
          "data": {
            "text/plain": [
              "6.0"
            ]
          },
          "metadata": {
            "tags": []
          },
          "execution_count": 28
        }
      ]
    },
    {
      "cell_type": "code",
      "metadata": {
        "id": "-X7gEIosogyu",
        "colab_type": "code",
        "outputId": "18b58b59-5e94-4b72-8b67-7cab59a61751",
        "colab": {
          "base_uri": "https://localhost:8080/",
          "height": 105
        }
      },
      "source": [
        "model.add(keras.layers.Dense(units = 6, activation = tf.nn.relu, input_dim = 11))"
      ],
      "execution_count": 29,
      "outputs": [
        {
          "output_type": "stream",
          "text": [
            "WARNING: Logging before flag parsing goes to stderr.\n",
            "W0808 15:26:03.914803 140431107536768 deprecation.py:506] From /usr/local/lib/python3.6/dist-packages/tensorflow/python/ops/init_ops.py:1251: calling VarianceScaling.__init__ (from tensorflow.python.ops.init_ops) with dtype is deprecated and will be removed in a future version.\n",
            "Instructions for updating:\n",
            "Call initializer instance with the dtype argument instead of passing it to the constructor\n"
          ],
          "name": "stderr"
        }
      ]
    },
    {
      "cell_type": "code",
      "metadata": {
        "id": "nKeq0BavvReV",
        "colab_type": "code",
        "outputId": "2b232051-3ef4-44b3-acaf-02bed38dae2b",
        "colab": {
          "base_uri": "https://localhost:8080/",
          "height": 34
        }
      },
      "source": [
        "model"
      ],
      "execution_count": 30,
      "outputs": [
        {
          "output_type": "execute_result",
          "data": {
            "text/plain": [
              "<tensorflow.python.keras.engine.sequential.Sequential at 0x7fb867bfb9e8>"
            ]
          },
          "metadata": {
            "tags": []
          },
          "execution_count": 30
        }
      ]
    },
    {
      "cell_type": "markdown",
      "metadata": {
        "id": "b2FBW04kKM_p",
        "colab_type": "text"
      },
      "source": [
        "### add 2nd layer"
      ]
    },
    {
      "cell_type": "code",
      "metadata": {
        "id": "nJ-IE_P-KYq_",
        "colab_type": "code",
        "outputId": "389a6ae6-1518-43a5-90cf-ac1893538291",
        "colab": {
          "base_uri": "https://localhost:8080/",
          "height": 34
        }
      },
      "source": [
        "model.add(keras.layers.Dense(units = 6, activation = tf.nn.relu))\n",
        "model"
      ],
      "execution_count": 31,
      "outputs": [
        {
          "output_type": "execute_result",
          "data": {
            "text/plain": [
              "<tensorflow.python.keras.engine.sequential.Sequential at 0x7fb867bfb9e8>"
            ]
          },
          "metadata": {
            "tags": []
          },
          "execution_count": 31
        }
      ]
    },
    {
      "cell_type": "markdown",
      "metadata": {
        "id": "-bWgJ-TnKm-E",
        "colab_type": "text"
      },
      "source": [
        "### Step 3:- add output layer"
      ]
    },
    {
      "cell_type": "markdown",
      "metadata": {
        "id": "WVfmLyW1LcN-",
        "colab_type": "text"
      },
      "source": [
        "**there are two types of activation function for output of categorical varibles **\n",
        "- 1**softmax**, which is used when dependent varible have more than two categorical variables\n",
        "- 2 **sigmoid** , which is used when dependent varable have 2 categorical variables"
      ]
    },
    {
      "cell_type": "code",
      "metadata": {
        "id": "CNMiNKekKzMi",
        "colab_type": "code",
        "colab": {}
      },
      "source": [
        "model.add(keras.layers.Dense(units = 1, activation = tf.nn.sigmoid))"
      ],
      "execution_count": 0,
      "outputs": []
    },
    {
      "cell_type": "code",
      "metadata": {
        "id": "awDpLdM8L3V3",
        "colab_type": "code",
        "outputId": "712a8c68-3cbd-4118-9862-db5d2fe75a7a",
        "colab": {
          "base_uri": "https://localhost:8080/",
          "height": 34
        }
      },
      "source": [
        "model"
      ],
      "execution_count": 33,
      "outputs": [
        {
          "output_type": "execute_result",
          "data": {
            "text/plain": [
              "<tensorflow.python.keras.engine.sequential.Sequential at 0x7fb867bfb9e8>"
            ]
          },
          "metadata": {
            "tags": []
          },
          "execution_count": 33
        }
      ]
    },
    {
      "cell_type": "code",
      "metadata": {
        "id": "AryET_xIbrvI",
        "colab_type": "code",
        "outputId": "6abb4955-c81f-4b3c-cb42-b780dce82df1",
        "colab": {
          "base_uri": "https://localhost:8080/",
          "height": 255
        }
      },
      "source": [
        "model.summary()"
      ],
      "execution_count": 34,
      "outputs": [
        {
          "output_type": "stream",
          "text": [
            "Model: \"sequential\"\n",
            "_________________________________________________________________\n",
            "Layer (type)                 Output Shape              Param #   \n",
            "=================================================================\n",
            "dense (Dense)                (None, 6)                 72        \n",
            "_________________________________________________________________\n",
            "dense_1 (Dense)              (None, 6)                 42        \n",
            "_________________________________________________________________\n",
            "dense_2 (Dense)              (None, 1)                 7         \n",
            "=================================================================\n",
            "Total params: 121\n",
            "Trainable params: 121\n",
            "Non-trainable params: 0\n",
            "_________________________________________________________________\n"
          ],
          "name": "stdout"
        }
      ]
    },
    {
      "cell_type": "markdown",
      "metadata": {
        "id": "yiYLtGE8ML-z",
        "colab_type": "text"
      },
      "source": [
        "## Step 4:-- compile the model\n",
        "apply stochastic gradient descent method"
      ]
    },
    {
      "cell_type": "code",
      "metadata": {
        "id": "QTa5eId2MiQk",
        "colab_type": "code",
        "outputId": "ec3c38cd-d5f0-49d6-e296-92648694e131",
        "colab": {
          "base_uri": "https://localhost:8080/",
          "height": 105
        }
      },
      "source": [
        "model.compile(optimizer = 'adam', loss = 'binary_crossentropy', metrics = ['accuracy'])\n",
        "model"
      ],
      "execution_count": 35,
      "outputs": [
        {
          "output_type": "stream",
          "text": [
            "W0808 15:26:04.142704 140431107536768 deprecation.py:323] From /usr/local/lib/python3.6/dist-packages/tensorflow/python/ops/nn_impl.py:180: add_dispatch_support.<locals>.wrapper (from tensorflow.python.ops.array_ops) is deprecated and will be removed in a future version.\n",
            "Instructions for updating:\n",
            "Use tf.where in 2.0, which has the same broadcast rule as np.where\n"
          ],
          "name": "stderr"
        },
        {
          "output_type": "execute_result",
          "data": {
            "text/plain": [
              "<tensorflow.python.keras.engine.sequential.Sequential at 0x7fb867bfb9e8>"
            ]
          },
          "metadata": {
            "tags": []
          },
          "execution_count": 35
        }
      ]
    },
    {
      "cell_type": "markdown",
      "metadata": {
        "id": "gIehsHvMzETc",
        "colab_type": "text"
      },
      "source": [
        "###all step in one one method"
      ]
    },
    {
      "cell_type": "code",
      "metadata": {
        "id": "OBXbWAMLzIWv",
        "colab_type": "code",
        "colab": {}
      },
      "source": [
        "def create_model():\n",
        "  import tensorflow as tf\n",
        "  model = tf.keras.models.Sequential([\n",
        "    tf.keras.layers.Dense(6, activation = tf.nn.relu, input_dim = 11),\n",
        "    tf.keras.layers.Dense(6, activation = tf.nn.relu),\n",
        "    tf.keras.layers.Dense(1, activation = tf.nn.sigmoid)])\n",
        "  model.compile(optimizer='adam',\n",
        "              loss='binary_crossentropy',\n",
        "              metrics=['accuracy'])\n",
        "  return model"
      ],
      "execution_count": 0,
      "outputs": []
    },
    {
      "cell_type": "markdown",
      "metadata": {
        "id": "1WSsamwMN_HI",
        "colab_type": "text"
      },
      "source": [
        "### Step 5:-- fit the model"
      ]
    },
    {
      "cell_type": "markdown",
      "metadata": {
        "id": "aaI6lPV7O7sT",
        "colab_type": "text"
      },
      "source": [
        "batch_size = no. of observation afterwhich u want to update the weights"
      ]
    },
    {
      "cell_type": "code",
      "metadata": {
        "id": "qry1aYV-_15h",
        "colab_type": "code",
        "colab": {}
      },
      "source": [
        "import os\n",
        "checkpoint_path = \"training_1/cp.ckpt\"\n",
        "checkpoint_dir = os.path.dirname(checkpoint_path)\n",
        "\n",
        "# Create checkpoint callback\n",
        "cp_callback = tf.keras.callbacks.ModelCheckpoint(checkpoint_path,\n",
        "                                                 save_weights_only=True,\n",
        "                                                 verbose=1)"
      ],
      "execution_count": 0,
      "outputs": []
    },
    {
      "cell_type": "code",
      "metadata": {
        "id": "BBG13tyga6Gq",
        "colab_type": "code",
        "outputId": "7f08dea9-4969-4cc5-b7fd-398a1dee432e",
        "colab": {
          "base_uri": "https://localhost:8080/",
          "height": 1000
        }
      },
      "source": [
        "model.fit(X_train, y_train, batch_size = 10 , epochs = 70,verbose = 1,  class_weight = 'balanced', \n",
        "          validation_data = (X_test, y_test), callbacks = [cp_callback])"
      ],
      "execution_count": 38,
      "outputs": [
        {
          "output_type": "stream",
          "text": [
            "Train on 7000 samples, validate on 3000 samples\n",
            "Epoch 1/70\n",
            "6650/7000 [===========================>..] - ETA: 0s - loss: 0.5145 - acc: 0.7968\n",
            "Epoch 00001: saving model to training_1/cp.ckpt\n",
            "7000/7000 [==============================] - 2s 224us/sample - loss: 0.5114 - acc: 0.7973 - val_loss: 0.4696 - val_acc: 0.7930\n",
            "Epoch 2/70\n",
            "6620/7000 [===========================>..] - ETA: 0s - loss: 0.4500 - acc: 0.7985\n",
            "Epoch 00002: saving model to training_1/cp.ckpt\n",
            "7000/7000 [==============================] - 1s 148us/sample - loss: 0.4485 - acc: 0.7997 - val_loss: 0.4412 - val_acc: 0.8013\n",
            "Epoch 3/70\n",
            "6660/7000 [===========================>..] - ETA: 0s - loss: 0.4345 - acc: 0.8081\n",
            "Epoch 00003: saving model to training_1/cp.ckpt\n",
            "7000/7000 [==============================] - 1s 149us/sample - loss: 0.4336 - acc: 0.8083 - val_loss: 0.4298 - val_acc: 0.8140\n",
            "Epoch 4/70\n",
            "6730/7000 [===========================>..] - ETA: 0s - loss: 0.4244 - acc: 0.8156\n",
            "Epoch 00004: saving model to training_1/cp.ckpt\n",
            "7000/7000 [==============================] - 1s 147us/sample - loss: 0.4260 - acc: 0.8144 - val_loss: 0.4234 - val_acc: 0.8173\n",
            "Epoch 5/70\n",
            "6910/7000 [============================>.] - ETA: 0s - loss: 0.4192 - acc: 0.8164\n",
            "Epoch 00005: saving model to training_1/cp.ckpt\n",
            "7000/7000 [==============================] - 1s 152us/sample - loss: 0.4187 - acc: 0.8167 - val_loss: 0.4142 - val_acc: 0.8217\n",
            "Epoch 6/70\n",
            "6870/7000 [============================>.] - ETA: 0s - loss: 0.4103 - acc: 0.8236\n",
            "Epoch 00006: saving model to training_1/cp.ckpt\n",
            "7000/7000 [==============================] - 1s 144us/sample - loss: 0.4091 - acc: 0.8243 - val_loss: 0.4046 - val_acc: 0.8303\n",
            "Epoch 7/70\n",
            "6720/7000 [===========================>..] - ETA: 0s - loss: 0.3999 - acc: 0.8289\n",
            "Epoch 00007: saving model to training_1/cp.ckpt\n",
            "7000/7000 [==============================] - 1s 146us/sample - loss: 0.3999 - acc: 0.8289 - val_loss: 0.3952 - val_acc: 0.8367\n",
            "Epoch 8/70\n",
            "6770/7000 [============================>.] - ETA: 0s - loss: 0.3890 - acc: 0.8352\n",
            "Epoch 00008: saving model to training_1/cp.ckpt\n",
            "7000/7000 [==============================] - 1s 147us/sample - loss: 0.3909 - acc: 0.8339 - val_loss: 0.3866 - val_acc: 0.8400\n",
            "Epoch 9/70\n",
            "6880/7000 [============================>.] - ETA: 0s - loss: 0.3824 - acc: 0.8385\n",
            "Epoch 00009: saving model to training_1/cp.ckpt\n",
            "7000/7000 [==============================] - 1s 151us/sample - loss: 0.3815 - acc: 0.8386 - val_loss: 0.3774 - val_acc: 0.8453\n",
            "Epoch 10/70\n",
            "6640/7000 [===========================>..] - ETA: 0s - loss: 0.3728 - acc: 0.8422\n",
            "Epoch 00010: saving model to training_1/cp.ckpt\n",
            "7000/7000 [==============================] - 1s 147us/sample - loss: 0.3743 - acc: 0.8423 - val_loss: 0.3708 - val_acc: 0.8453\n",
            "Epoch 11/70\n",
            "6680/7000 [===========================>..] - ETA: 0s - loss: 0.3676 - acc: 0.8448\n",
            "Epoch 00011: saving model to training_1/cp.ckpt\n",
            "7000/7000 [==============================] - 1s 147us/sample - loss: 0.3678 - acc: 0.8451 - val_loss: 0.3666 - val_acc: 0.8473\n",
            "Epoch 12/70\n",
            "6720/7000 [===========================>..] - ETA: 0s - loss: 0.3622 - acc: 0.8500\n",
            "Epoch 00012: saving model to training_1/cp.ckpt\n",
            "7000/7000 [==============================] - 1s 147us/sample - loss: 0.3626 - acc: 0.8497 - val_loss: 0.3597 - val_acc: 0.8507\n",
            "Epoch 13/70\n",
            "6890/7000 [============================>.] - ETA: 0s - loss: 0.3571 - acc: 0.8515\n",
            "Epoch 00013: saving model to training_1/cp.ckpt\n",
            "7000/7000 [==============================] - 1s 162us/sample - loss: 0.3576 - acc: 0.8517 - val_loss: 0.3555 - val_acc: 0.8497\n",
            "Epoch 14/70\n",
            "6620/7000 [===========================>..] - ETA: 0s - loss: 0.3505 - acc: 0.8560\n",
            "Epoch 00014: saving model to training_1/cp.ckpt\n",
            "7000/7000 [==============================] - 1s 158us/sample - loss: 0.3535 - acc: 0.8549 - val_loss: 0.3524 - val_acc: 0.8533\n",
            "Epoch 15/70\n",
            "6690/7000 [===========================>..] - ETA: 0s - loss: 0.3511 - acc: 0.8555\n",
            "Epoch 00015: saving model to training_1/cp.ckpt\n",
            "7000/7000 [==============================] - 1s 159us/sample - loss: 0.3505 - acc: 0.8553 - val_loss: 0.3508 - val_acc: 0.8533\n",
            "Epoch 16/70\n",
            "6680/7000 [===========================>..] - ETA: 0s - loss: 0.3484 - acc: 0.8600\n",
            "Epoch 00016: saving model to training_1/cp.ckpt\n",
            "7000/7000 [==============================] - 1s 157us/sample - loss: 0.3478 - acc: 0.8603 - val_loss: 0.3484 - val_acc: 0.8540\n",
            "Epoch 17/70\n",
            "6580/7000 [===========================>..] - ETA: 0s - loss: 0.3430 - acc: 0.8597\n",
            "Epoch 00017: saving model to training_1/cp.ckpt\n",
            "7000/7000 [==============================] - 1s 159us/sample - loss: 0.3462 - acc: 0.8581 - val_loss: 0.3460 - val_acc: 0.8567\n",
            "Epoch 18/70\n",
            "6700/7000 [===========================>..] - ETA: 0s - loss: 0.3443 - acc: 0.8606\n",
            "Epoch 00018: saving model to training_1/cp.ckpt\n",
            "7000/7000 [==============================] - 1s 151us/sample - loss: 0.3447 - acc: 0.8604 - val_loss: 0.3438 - val_acc: 0.8583\n",
            "Epoch 19/70\n",
            "6670/7000 [===========================>..] - ETA: 0s - loss: 0.3436 - acc: 0.8600\n",
            "Epoch 00019: saving model to training_1/cp.ckpt\n",
            "7000/7000 [==============================] - 1s 148us/sample - loss: 0.3431 - acc: 0.8603 - val_loss: 0.3409 - val_acc: 0.8590\n",
            "Epoch 20/70\n",
            "6990/7000 [============================>.] - ETA: 0s - loss: 0.3421 - acc: 0.8612\n",
            "Epoch 00020: saving model to training_1/cp.ckpt\n",
            "7000/7000 [==============================] - 1s 150us/sample - loss: 0.3420 - acc: 0.8611 - val_loss: 0.3408 - val_acc: 0.8553\n",
            "Epoch 21/70\n",
            "6780/7000 [============================>.] - ETA: 0s - loss: 0.3392 - acc: 0.8624\n",
            "Epoch 00021: saving model to training_1/cp.ckpt\n",
            "7000/7000 [==============================] - 1s 146us/sample - loss: 0.3409 - acc: 0.8619 - val_loss: 0.3434 - val_acc: 0.8553\n",
            "Epoch 22/70\n",
            "6830/7000 [============================>.] - ETA: 0s - loss: 0.3396 - acc: 0.8624\n",
            "Epoch 00022: saving model to training_1/cp.ckpt\n",
            "7000/7000 [==============================] - 1s 145us/sample - loss: 0.3403 - acc: 0.8623 - val_loss: 0.3390 - val_acc: 0.8603\n",
            "Epoch 23/70\n",
            "6770/7000 [============================>.] - ETA: 0s - loss: 0.3417 - acc: 0.8592\n",
            "Epoch 00023: saving model to training_1/cp.ckpt\n",
            "7000/7000 [==============================] - 1s 148us/sample - loss: 0.3395 - acc: 0.8604 - val_loss: 0.3381 - val_acc: 0.8583\n",
            "Epoch 24/70\n",
            "6650/7000 [===========================>..] - ETA: 0s - loss: 0.3406 - acc: 0.8606\n",
            "Epoch 00024: saving model to training_1/cp.ckpt\n",
            "7000/7000 [==============================] - 1s 149us/sample - loss: 0.3386 - acc: 0.8621 - val_loss: 0.3376 - val_acc: 0.8577\n",
            "Epoch 25/70\n",
            "6750/7000 [===========================>..] - ETA: 0s - loss: 0.3364 - acc: 0.8631\n",
            "Epoch 00025: saving model to training_1/cp.ckpt\n",
            "7000/7000 [==============================] - 1s 147us/sample - loss: 0.3385 - acc: 0.8620 - val_loss: 0.3362 - val_acc: 0.8600\n",
            "Epoch 26/70\n",
            "6740/7000 [===========================>..] - ETA: 0s - loss: 0.3390 - acc: 0.8641\n",
            "Epoch 00026: saving model to training_1/cp.ckpt\n",
            "7000/7000 [==============================] - 1s 148us/sample - loss: 0.3375 - acc: 0.8640 - val_loss: 0.3352 - val_acc: 0.8573\n",
            "Epoch 27/70\n",
            "6710/7000 [===========================>..] - ETA: 0s - loss: 0.3381 - acc: 0.8629\n",
            "Epoch 00027: saving model to training_1/cp.ckpt\n",
            "7000/7000 [==============================] - 1s 147us/sample - loss: 0.3373 - acc: 0.8633 - val_loss: 0.3354 - val_acc: 0.8603\n",
            "Epoch 28/70\n",
            "6670/7000 [===========================>..] - ETA: 0s - loss: 0.3384 - acc: 0.8612\n",
            "Epoch 00028: saving model to training_1/cp.ckpt\n",
            "7000/7000 [==============================] - 1s 148us/sample - loss: 0.3370 - acc: 0.8624 - val_loss: 0.3344 - val_acc: 0.8597\n",
            "Epoch 29/70\n",
            "6920/7000 [============================>.] - ETA: 0s - loss: 0.3375 - acc: 0.8629\n",
            "Epoch 00029: saving model to training_1/cp.ckpt\n",
            "7000/7000 [==============================] - 1s 152us/sample - loss: 0.3371 - acc: 0.8629 - val_loss: 0.3351 - val_acc: 0.8580\n",
            "Epoch 30/70\n",
            "6580/7000 [===========================>..] - ETA: 0s - loss: 0.3395 - acc: 0.8609\n",
            "Epoch 00030: saving model to training_1/cp.ckpt\n",
            "7000/7000 [==============================] - 1s 149us/sample - loss: 0.3367 - acc: 0.8636 - val_loss: 0.3327 - val_acc: 0.8597\n",
            "Epoch 31/70\n",
            "6690/7000 [===========================>..] - ETA: 0s - loss: 0.3392 - acc: 0.8625\n",
            "Epoch 00031: saving model to training_1/cp.ckpt\n",
            "7000/7000 [==============================] - 1s 148us/sample - loss: 0.3371 - acc: 0.8634 - val_loss: 0.3330 - val_acc: 0.8603\n",
            "Epoch 32/70\n",
            "6660/7000 [===========================>..] - ETA: 0s - loss: 0.3370 - acc: 0.8628\n",
            "Epoch 00032: saving model to training_1/cp.ckpt\n",
            "7000/7000 [==============================] - 1s 150us/sample - loss: 0.3368 - acc: 0.8629 - val_loss: 0.3359 - val_acc: 0.8580\n",
            "Epoch 33/70\n",
            "6950/7000 [============================>.] - ETA: 0s - loss: 0.3343 - acc: 0.8629\n",
            "Epoch 00033: saving model to training_1/cp.ckpt\n",
            "7000/7000 [==============================] - 1s 152us/sample - loss: 0.3362 - acc: 0.8619 - val_loss: 0.3325 - val_acc: 0.8600\n",
            "Epoch 34/70\n",
            "6620/7000 [===========================>..] - ETA: 0s - loss: 0.3334 - acc: 0.8645\n",
            "Epoch 00034: saving model to training_1/cp.ckpt\n",
            "7000/7000 [==============================] - 1s 148us/sample - loss: 0.3357 - acc: 0.8631 - val_loss: 0.3335 - val_acc: 0.8600\n",
            "Epoch 35/70\n",
            "6560/7000 [===========================>..] - ETA: 0s - loss: 0.3372 - acc: 0.8636\n",
            "Epoch 00035: saving model to training_1/cp.ckpt\n",
            "7000/7000 [==============================] - 1s 149us/sample - loss: 0.3353 - acc: 0.8633 - val_loss: 0.3336 - val_acc: 0.8600\n",
            "Epoch 36/70\n",
            "6980/7000 [============================>.] - ETA: 0s - loss: 0.3357 - acc: 0.8629\n",
            "Epoch 00036: saving model to training_1/cp.ckpt\n",
            "7000/7000 [==============================] - 1s 151us/sample - loss: 0.3355 - acc: 0.8629 - val_loss: 0.3349 - val_acc: 0.8580\n",
            "Epoch 37/70\n",
            "6600/7000 [===========================>..] - ETA: 0s - loss: 0.3343 - acc: 0.8626\n",
            "Epoch 00037: saving model to training_1/cp.ckpt\n",
            "7000/7000 [==============================] - 1s 149us/sample - loss: 0.3354 - acc: 0.8630 - val_loss: 0.3313 - val_acc: 0.8590\n",
            "Epoch 38/70\n",
            "6990/7000 [============================>.] - ETA: 0s - loss: 0.3361 - acc: 0.8628\n",
            "Epoch 00038: saving model to training_1/cp.ckpt\n",
            "7000/7000 [==============================] - 1s 150us/sample - loss: 0.3359 - acc: 0.8629 - val_loss: 0.3319 - val_acc: 0.8600\n",
            "Epoch 39/70\n",
            "6690/7000 [===========================>..] - ETA: 0s - loss: 0.3354 - acc: 0.8637\n",
            "Epoch 00039: saving model to training_1/cp.ckpt\n",
            "7000/7000 [==============================] - 1s 155us/sample - loss: 0.3359 - acc: 0.8633 - val_loss: 0.3330 - val_acc: 0.8607\n",
            "Epoch 40/70\n",
            "6970/7000 [============================>.] - ETA: 0s - loss: 0.3350 - acc: 0.8628\n",
            "Epoch 00040: saving model to training_1/cp.ckpt\n",
            "7000/7000 [==============================] - 1s 153us/sample - loss: 0.3347 - acc: 0.8631 - val_loss: 0.3365 - val_acc: 0.8603\n",
            "Epoch 41/70\n",
            "6950/7000 [============================>.] - ETA: 0s - loss: 0.3357 - acc: 0.8610\n",
            "Epoch 00041: saving model to training_1/cp.ckpt\n",
            "7000/7000 [==============================] - 1s 151us/sample - loss: 0.3356 - acc: 0.8613 - val_loss: 0.3346 - val_acc: 0.8597\n",
            "Epoch 42/70\n",
            "6590/7000 [===========================>..] - ETA: 0s - loss: 0.3372 - acc: 0.8616\n",
            "Epoch 00042: saving model to training_1/cp.ckpt\n",
            "7000/7000 [==============================] - 1s 149us/sample - loss: 0.3350 - acc: 0.8631 - val_loss: 0.3307 - val_acc: 0.8617\n",
            "Epoch 43/70\n",
            "6960/7000 [============================>.] - ETA: 0s - loss: 0.3354 - acc: 0.8609\n",
            "Epoch 00043: saving model to training_1/cp.ckpt\n",
            "7000/7000 [==============================] - 1s 151us/sample - loss: 0.3348 - acc: 0.8610 - val_loss: 0.3353 - val_acc: 0.8590\n",
            "Epoch 44/70\n",
            "6940/7000 [============================>.] - ETA: 0s - loss: 0.3358 - acc: 0.8634\n",
            "Epoch 00044: saving model to training_1/cp.ckpt\n",
            "7000/7000 [==============================] - 1s 152us/sample - loss: 0.3354 - acc: 0.8636 - val_loss: 0.3329 - val_acc: 0.8583\n",
            "Epoch 45/70\n",
            "6610/7000 [===========================>..] - ETA: 0s - loss: 0.3332 - acc: 0.8654\n",
            "Epoch 00045: saving model to training_1/cp.ckpt\n",
            "7000/7000 [==============================] - 1s 148us/sample - loss: 0.3348 - acc: 0.8649 - val_loss: 0.3326 - val_acc: 0.8587\n",
            "Epoch 46/70\n",
            "6960/7000 [============================>.] - ETA: 0s - loss: 0.3345 - acc: 0.8644\n",
            "Epoch 00046: saving model to training_1/cp.ckpt\n",
            "7000/7000 [==============================] - 1s 152us/sample - loss: 0.3353 - acc: 0.8640 - val_loss: 0.3311 - val_acc: 0.8593\n",
            "Epoch 47/70\n",
            "6920/7000 [============================>.] - ETA: 0s - loss: 0.3341 - acc: 0.8627\n",
            "Epoch 00047: saving model to training_1/cp.ckpt\n",
            "7000/7000 [==============================] - 1s 151us/sample - loss: 0.3348 - acc: 0.8619 - val_loss: 0.3319 - val_acc: 0.8607\n",
            "Epoch 48/70\n",
            "6840/7000 [============================>.] - ETA: 0s - loss: 0.3351 - acc: 0.8623\n",
            "Epoch 00048: saving model to training_1/cp.ckpt\n",
            "7000/7000 [==============================] - 1s 152us/sample - loss: 0.3348 - acc: 0.8627 - val_loss: 0.3316 - val_acc: 0.8570\n",
            "Epoch 49/70\n",
            "6840/7000 [============================>.] - ETA: 0s - loss: 0.3324 - acc: 0.8640\n",
            "Epoch 00049: saving model to training_1/cp.ckpt\n",
            "7000/7000 [==============================] - 1s 153us/sample - loss: 0.3348 - acc: 0.8634 - val_loss: 0.3338 - val_acc: 0.8573\n",
            "Epoch 50/70\n",
            "6980/7000 [============================>.] - ETA: 0s - loss: 0.3352 - acc: 0.8636\n",
            "Epoch 00050: saving model to training_1/cp.ckpt\n",
            "7000/7000 [==============================] - 1s 152us/sample - loss: 0.3349 - acc: 0.8637 - val_loss: 0.3305 - val_acc: 0.8613\n",
            "Epoch 51/70\n",
            "6950/7000 [============================>.] - ETA: 0s - loss: 0.3333 - acc: 0.8619\n",
            "Epoch 00051: saving model to training_1/cp.ckpt\n",
            "7000/7000 [==============================] - 1s 151us/sample - loss: 0.3342 - acc: 0.8616 - val_loss: 0.3355 - val_acc: 0.8573\n",
            "Epoch 52/70\n",
            "6630/7000 [===========================>..] - ETA: 0s - loss: 0.3352 - acc: 0.8623\n",
            "Epoch 00052: saving model to training_1/cp.ckpt\n",
            "7000/7000 [==============================] - 1s 151us/sample - loss: 0.3339 - acc: 0.8633 - val_loss: 0.3330 - val_acc: 0.8607\n",
            "Epoch 53/70\n",
            "6810/7000 [============================>.] - ETA: 0s - loss: 0.3345 - acc: 0.8631\n",
            "Epoch 00053: saving model to training_1/cp.ckpt\n",
            "7000/7000 [==============================] - 1s 154us/sample - loss: 0.3348 - acc: 0.8634 - val_loss: 0.3321 - val_acc: 0.8573\n",
            "Epoch 54/70\n",
            "6800/7000 [============================>.] - ETA: 0s - loss: 0.3322 - acc: 0.8625\n",
            "Epoch 00054: saving model to training_1/cp.ckpt\n",
            "7000/7000 [==============================] - 1s 155us/sample - loss: 0.3348 - acc: 0.8614 - val_loss: 0.3313 - val_acc: 0.8607\n",
            "Epoch 55/70\n",
            "6560/7000 [===========================>..] - ETA: 0s - loss: 0.3354 - acc: 0.8613\n",
            "Epoch 00055: saving model to training_1/cp.ckpt\n",
            "7000/7000 [==============================] - 1s 150us/sample - loss: 0.3345 - acc: 0.8623 - val_loss: 0.3306 - val_acc: 0.8587\n",
            "Epoch 56/70\n",
            "6990/7000 [============================>.] - ETA: 0s - loss: 0.3343 - acc: 0.8631\n",
            "Epoch 00056: saving model to training_1/cp.ckpt\n",
            "7000/7000 [==============================] - 1s 150us/sample - loss: 0.3345 - acc: 0.8630 - val_loss: 0.3326 - val_acc: 0.8573\n",
            "Epoch 57/70\n",
            "6880/7000 [============================>.] - ETA: 0s - loss: 0.3344 - acc: 0.8619\n",
            "Epoch 00057: saving model to training_1/cp.ckpt\n",
            "7000/7000 [==============================] - 1s 153us/sample - loss: 0.3347 - acc: 0.8626 - val_loss: 0.3302 - val_acc: 0.8603\n",
            "Epoch 58/70\n",
            "6570/7000 [===========================>..] - ETA: 0s - loss: 0.3372 - acc: 0.8623\n",
            "Epoch 00058: saving model to training_1/cp.ckpt\n",
            "7000/7000 [==============================] - 1s 150us/sample - loss: 0.3350 - acc: 0.8624 - val_loss: 0.3321 - val_acc: 0.8580\n",
            "Epoch 59/70\n",
            "6750/7000 [===========================>..] - ETA: 0s - loss: 0.3355 - acc: 0.8636\n",
            "Epoch 00059: saving model to training_1/cp.ckpt\n",
            "7000/7000 [==============================] - 1s 154us/sample - loss: 0.3345 - acc: 0.8637 - val_loss: 0.3314 - val_acc: 0.8607\n",
            "Epoch 60/70\n",
            "6980/7000 [============================>.] - ETA: 0s - loss: 0.3350 - acc: 0.8612\n",
            "Epoch 00060: saving model to training_1/cp.ckpt\n",
            "7000/7000 [==============================] - 1s 151us/sample - loss: 0.3346 - acc: 0.8613 - val_loss: 0.3349 - val_acc: 0.8543\n",
            "Epoch 61/70\n",
            "6660/7000 [===========================>..] - ETA: 0s - loss: 0.3340 - acc: 0.8634\n",
            "Epoch 00061: saving model to training_1/cp.ckpt\n",
            "7000/7000 [==============================] - 1s 148us/sample - loss: 0.3340 - acc: 0.8634 - val_loss: 0.3299 - val_acc: 0.8610\n",
            "Epoch 62/70\n",
            "6980/7000 [============================>.] - ETA: 0s - loss: 0.3351 - acc: 0.8623\n",
            "Epoch 00062: saving model to training_1/cp.ckpt\n",
            "7000/7000 [==============================] - 1s 151us/sample - loss: 0.3345 - acc: 0.8627 - val_loss: 0.3347 - val_acc: 0.8580\n",
            "Epoch 63/70\n",
            "6570/7000 [===========================>..] - ETA: 0s - loss: 0.3344 - acc: 0.8636\n",
            "Epoch 00063: saving model to training_1/cp.ckpt\n",
            "7000/7000 [==============================] - 1s 149us/sample - loss: 0.3346 - acc: 0.8641 - val_loss: 0.3306 - val_acc: 0.8593\n",
            "Epoch 64/70\n",
            "6970/7000 [============================>.] - ETA: 0s - loss: 0.3337 - acc: 0.8624\n",
            "Epoch 00064: saving model to training_1/cp.ckpt\n",
            "7000/7000 [==============================] - 1s 151us/sample - loss: 0.3347 - acc: 0.8619 - val_loss: 0.3311 - val_acc: 0.8587\n",
            "Epoch 65/70\n",
            "6920/7000 [============================>.] - ETA: 0s - loss: 0.3350 - acc: 0.8633\n",
            "Epoch 00065: saving model to training_1/cp.ckpt\n",
            "7000/7000 [==============================] - 1s 151us/sample - loss: 0.3343 - acc: 0.8633 - val_loss: 0.3318 - val_acc: 0.8593\n",
            "Epoch 66/70\n",
            "6620/7000 [===========================>..] - ETA: 0s - loss: 0.3324 - acc: 0.8628\n",
            "Epoch 00066: saving model to training_1/cp.ckpt\n",
            "7000/7000 [==============================] - 1s 148us/sample - loss: 0.3344 - acc: 0.8626 - val_loss: 0.3308 - val_acc: 0.8603\n",
            "Epoch 67/70\n",
            "6860/7000 [============================>.] - ETA: 0s - loss: 0.3341 - acc: 0.8638\n",
            "Epoch 00067: saving model to training_1/cp.ckpt\n",
            "7000/7000 [==============================] - 1s 153us/sample - loss: 0.3340 - acc: 0.8637 - val_loss: 0.3320 - val_acc: 0.8590\n",
            "Epoch 68/70\n",
            "6920/7000 [============================>.] - ETA: 0s - loss: 0.3345 - acc: 0.8633\n",
            "Epoch 00068: saving model to training_1/cp.ckpt\n",
            "7000/7000 [==============================] - 1s 151us/sample - loss: 0.3340 - acc: 0.8636 - val_loss: 0.3304 - val_acc: 0.8583\n",
            "Epoch 69/70\n",
            "6730/7000 [===========================>..] - ETA: 0s - loss: 0.3314 - acc: 0.8626\n",
            "Epoch 00069: saving model to training_1/cp.ckpt\n",
            "7000/7000 [==============================] - 1s 155us/sample - loss: 0.3336 - acc: 0.8620 - val_loss: 0.3330 - val_acc: 0.8560\n",
            "Epoch 70/70\n",
            "6610/7000 [===========================>..] - ETA: 0s - loss: 0.3367 - acc: 0.8605\n",
            "Epoch 00070: saving model to training_1/cp.ckpt\n",
            "7000/7000 [==============================] - 1s 150us/sample - loss: 0.3340 - acc: 0.8616 - val_loss: 0.3323 - val_acc: 0.8590\n"
          ],
          "name": "stdout"
        },
        {
          "output_type": "execute_result",
          "data": {
            "text/plain": [
              "<tensorflow.python.keras.callbacks.History at 0x7fb866ea7828>"
            ]
          },
          "metadata": {
            "tags": []
          },
          "execution_count": 38
        }
      ]
    },
    {
      "cell_type": "code",
      "metadata": {
        "id": "MjPhI0v7AdZS",
        "colab_type": "code",
        "outputId": "b6f0e0f6-b472-4d09-98c6-1cc412640f66",
        "colab": {
          "base_uri": "https://localhost:8080/",
          "height": 51
        }
      },
      "source": [
        "!ls {checkpoint_dir}"
      ],
      "execution_count": 39,
      "outputs": [
        {
          "output_type": "stream",
          "text": [
            "checkpoint\t\t     cp.ckpt.data-00001-of-00002\n",
            "cp.ckpt.data-00000-of-00002  cp.ckpt.index\n"
          ],
          "name": "stdout"
        }
      ]
    },
    {
      "cell_type": "code",
      "metadata": {
        "id": "7v0asej4hB6D",
        "colab_type": "code",
        "outputId": "2f6e86d6-6000-4cb1-a626-16ba0c6df1d7",
        "colab": {
          "base_uri": "https://localhost:8080/",
          "height": 51
        }
      },
      "source": [
        "model.evaluate(X_train, y_train, batch_size = 10)"
      ],
      "execution_count": 40,
      "outputs": [
        {
          "output_type": "stream",
          "text": [
            "7000/7000 [==============================] - 0s 67us/sample - loss: 0.3327 - acc: 0.8629\n"
          ],
          "name": "stdout"
        },
        {
          "output_type": "execute_result",
          "data": {
            "text/plain": [
              "[0.3327235257306269, 0.86285716]"
            ]
          },
          "metadata": {
            "tags": []
          },
          "execution_count": 40
        }
      ]
    },
    {
      "cell_type": "markdown",
      "metadata": {
        "id": "TZm_8zpl9O75",
        "colab_type": "text"
      },
      "source": [
        "###test score"
      ]
    },
    {
      "cell_type": "code",
      "metadata": {
        "id": "PmkSW_m59SGQ",
        "colab_type": "code",
        "outputId": "4f0245ea-c106-401a-c371-87ad17f044d9",
        "colab": {
          "base_uri": "https://localhost:8080/",
          "height": 51
        }
      },
      "source": [
        "model.evaluate(X_test, y_test)"
      ],
      "execution_count": 41,
      "outputs": [
        {
          "output_type": "stream",
          "text": [
            "3000/3000 [==============================] - 0s 26us/sample - loss: 0.3323 - acc: 0.8590\n"
          ],
          "name": "stdout"
        },
        {
          "output_type": "execute_result",
          "data": {
            "text/plain": [
              "[0.33233984247843423, 0.859]"
            ]
          },
          "metadata": {
            "tags": []
          },
          "execution_count": 41
        }
      ]
    },
    {
      "cell_type": "markdown",
      "metadata": {
        "id": "QzwDRGL5PfWC",
        "colab_type": "text"
      },
      "source": [
        "### Step 7:- make predictions"
      ]
    },
    {
      "cell_type": "code",
      "metadata": {
        "id": "wBVoGp-QQL2F",
        "colab_type": "code",
        "outputId": "50730873-5872-4a94-cd05-7801bd2e2bfe",
        "colab": {
          "base_uri": "https://localhost:8080/",
          "height": 51
        }
      },
      "source": [
        "y_pred = model.predict(X_test)\n",
        "y_pred[:2]"
      ],
      "execution_count": 42,
      "outputs": [
        {
          "output_type": "execute_result",
          "data": {
            "text/plain": [
              "array([[0.31126678],\n",
              "       [0.2631623 ]], dtype=float32)"
            ]
          },
          "metadata": {
            "tags": []
          },
          "execution_count": 42
        }
      ]
    },
    {
      "cell_type": "code",
      "metadata": {
        "id": "9kK8TGSBcwn7",
        "colab_type": "code",
        "colab": {}
      },
      "source": [
        "y_pred = y_pred.reshape((y_pred.shape[0]))"
      ],
      "execution_count": 0,
      "outputs": []
    },
    {
      "cell_type": "code",
      "metadata": {
        "id": "WdhEJhPHdt1A",
        "colab_type": "code",
        "outputId": "829fe6c5-4859-410b-a619-2ffe1ac37bc1",
        "colab": {
          "base_uri": "https://localhost:8080/",
          "height": 51
        }
      },
      "source": [
        "y_pred"
      ],
      "execution_count": 44,
      "outputs": [
        {
          "output_type": "execute_result",
          "data": {
            "text/plain": [
              "array([0.31126678, 0.2631623 , 0.13478377, ..., 0.06294498, 0.03133217,\n",
              "       0.7786493 ], dtype=float32)"
            ]
          },
          "metadata": {
            "tags": []
          },
          "execution_count": 44
        }
      ]
    },
    {
      "cell_type": "code",
      "metadata": {
        "id": "hQ_GjDMwdwve",
        "colab_type": "code",
        "outputId": "a1982c5b-b96e-44c2-ad41-0c92f0f41a41",
        "colab": {
          "base_uri": "https://localhost:8080/",
          "height": 34
        }
      },
      "source": [
        "y_test"
      ],
      "execution_count": 45,
      "outputs": [
        {
          "output_type": "execute_result",
          "data": {
            "text/plain": [
              "array([0, 1, 0, ..., 0, 0, 1])"
            ]
          },
          "metadata": {
            "tags": []
          },
          "execution_count": 45
        }
      ]
    },
    {
      "cell_type": "code",
      "metadata": {
        "id": "9bx0px8FdzX6",
        "colab_type": "code",
        "outputId": "66078648-a01e-4c7d-e4ea-eb60a7168cc4",
        "colab": {
          "base_uri": "https://localhost:8080/",
          "height": 34
        }
      },
      "source": [
        "y_pred.shape, y_test.shape"
      ],
      "execution_count": 46,
      "outputs": [
        {
          "output_type": "execute_result",
          "data": {
            "text/plain": [
              "((3000,), (3000,))"
            ]
          },
          "metadata": {
            "tags": []
          },
          "execution_count": 46
        }
      ]
    },
    {
      "cell_type": "code",
      "metadata": {
        "id": "m4yS40lcSK4S",
        "colab_type": "code",
        "outputId": "37d8baf5-b1eb-43ad-bb27-161a0103c4dd",
        "colab": {
          "base_uri": "https://localhost:8080/",
          "height": 51
        }
      },
      "source": [
        "from sklearn.metrics import confusion_matrix\n",
        "f_ypred = [1 if i > .5 else 0 for i in y_pred]\n",
        "confusion_matrix(y_test, f_ypred)"
      ],
      "execution_count": 47,
      "outputs": [
        {
          "output_type": "execute_result",
          "data": {
            "text/plain": [
              "array([[2281,   98],\n",
              "       [ 325,  296]])"
            ]
          },
          "metadata": {
            "tags": []
          },
          "execution_count": 47
        }
      ]
    },
    {
      "cell_type": "markdown",
      "metadata": {
        "id": "OZGP_mE2272E",
        "colab_type": "text"
      },
      "source": [
        "##How to use saved model"
      ]
    },
    {
      "cell_type": "code",
      "metadata": {
        "id": "3jK_ESGq3B8R",
        "colab_type": "code",
        "colab": {
          "base_uri": "https://localhost:8080/",
          "height": 255
        },
        "outputId": "bce0db49-ccba-4c23-be0c-9d0d1eb51845"
      },
      "source": [
        "model2 = create_model()\n",
        "model2.summary()"
      ],
      "execution_count": 50,
      "outputs": [
        {
          "output_type": "stream",
          "text": [
            "Model: \"sequential_2\"\n",
            "_________________________________________________________________\n",
            "Layer (type)                 Output Shape              Param #   \n",
            "=================================================================\n",
            "dense_6 (Dense)              (None, 6)                 72        \n",
            "_________________________________________________________________\n",
            "dense_7 (Dense)              (None, 6)                 42        \n",
            "_________________________________________________________________\n",
            "dense_8 (Dense)              (None, 1)                 7         \n",
            "=================================================================\n",
            "Total params: 121\n",
            "Trainable params: 121\n",
            "Non-trainable params: 0\n",
            "_________________________________________________________________\n"
          ],
          "name": "stdout"
        }
      ]
    },
    {
      "cell_type": "code",
      "metadata": {
        "id": "W9CNhLnN3OJ-",
        "colab_type": "code",
        "colab": {
          "base_uri": "https://localhost:8080/",
          "height": 51
        },
        "outputId": "edc23e9b-5820-4ebe-f896-c7c5cda6e8b8"
      },
      "source": [
        "model2.evaluate(X_test, y_test)"
      ],
      "execution_count": 51,
      "outputs": [
        {
          "output_type": "stream",
          "text": [
            "3000/3000 [==============================] - 0s 32us/sample - loss: 0.5942 - acc: 0.6613\n"
          ],
          "name": "stdout"
        },
        {
          "output_type": "execute_result",
          "data": {
            "text/plain": [
              "[0.5942327877680461, 0.6613333]"
            ]
          },
          "metadata": {
            "tags": []
          },
          "execution_count": 51
        }
      ]
    },
    {
      "cell_type": "code",
      "metadata": {
        "id": "-40b5aw43lL_",
        "colab_type": "code",
        "colab": {
          "base_uri": "https://localhost:8080/",
          "height": 34
        },
        "outputId": "eb3d9eef-f583-4a45-bac4-94b51072049e"
      },
      "source": [
        "model2.load_weights(checkpoint_path)"
      ],
      "execution_count": 52,
      "outputs": [
        {
          "output_type": "execute_result",
          "data": {
            "text/plain": [
              "<tensorflow.python.training.tracking.util.CheckpointLoadStatus at 0x7fb861611b70>"
            ]
          },
          "metadata": {
            "tags": []
          },
          "execution_count": 52
        }
      ]
    },
    {
      "cell_type": "code",
      "metadata": {
        "id": "Q-WPQL_b3soM",
        "colab_type": "code",
        "colab": {
          "base_uri": "https://localhost:8080/",
          "height": 51
        },
        "outputId": "aa655786-6cc9-4d4f-914d-0a339966a24c"
      },
      "source": [
        "model2.evaluate(X_test, y_test)"
      ],
      "execution_count": 53,
      "outputs": [
        {
          "output_type": "stream",
          "text": [
            "3000/3000 [==============================] - 0s 26us/sample - loss: 0.3323 - acc: 0.8590\n"
          ],
          "name": "stdout"
        },
        {
          "output_type": "execute_result",
          "data": {
            "text/plain": [
              "[0.33233984247843423, 0.859]"
            ]
          },
          "metadata": {
            "tags": []
          },
          "execution_count": 53
        }
      ]
    },
    {
      "cell_type": "code",
      "metadata": {
        "id": "JAfTNy0u30B7",
        "colab_type": "code",
        "colab": {
          "base_uri": "https://localhost:8080/",
          "height": 51
        },
        "outputId": "689fde00-ae17-4360-ae62-dae2e0ae443e"
      },
      "source": [
        "!ls {checkpoint_dir}"
      ],
      "execution_count": 54,
      "outputs": [
        {
          "output_type": "stream",
          "text": [
            "checkpoint\t\t     cp.ckpt.data-00001-of-00002\n",
            "cp.ckpt.data-00000-of-00002  cp.ckpt.index\n"
          ],
          "name": "stdout"
        }
      ]
    },
    {
      "cell_type": "code",
      "metadata": {
        "id": "NMCiJvkc34Bu",
        "colab_type": "code",
        "colab": {}
      },
      "source": [
        ""
      ],
      "execution_count": 0,
      "outputs": []
    },
    {
      "cell_type": "code",
      "metadata": {
        "id": "bs1l31lJg9Q9",
        "colab_type": "code",
        "outputId": "51f43a21-db31-455b-d807-e6ebea489ecc",
        "colab": {
          "base_uri": "https://localhost:8080/",
          "height": 34
        }
      },
      "source": [
        "end = time.time()\n",
        "tpu_runtime = end - start\n",
        "print(f'tpu run time is {tpu_runtime} seconds')"
      ],
      "execution_count": 48,
      "outputs": [
        {
          "output_type": "stream",
          "text": [
            "tpu run time is 360.7293882369995 seconds\n"
          ],
          "name": "stdout"
        }
      ]
    },
    {
      "cell_type": "code",
      "metadata": {
        "id": "4jJCAD3Y9hQX",
        "colab_type": "code",
        "colab": {}
      },
      "source": [
        ""
      ],
      "execution_count": 0,
      "outputs": []
    }
  ]
}