{
  "nbformat": 4,
  "nbformat_minor": 0,
  "metadata": {
    "colab": {
      "name": "mnist digit recognizer by udacity deep learning nanodegree program.ipynb",
      "version": "0.3.2",
      "provenance": [],
      "include_colab_link": true
    },
    "kernelspec": {
      "name": "python3",
      "display_name": "Python 3"
    },
    "accelerator": "GPU"
  },
  "cells": [
    {
      "cell_type": "markdown",
      "metadata": {
        "id": "view-in-github",
        "colab_type": "text"
      },
      "source": [
        "<a href=\"https://colab.research.google.com/github/noushadkhan01/Projects/blob/master/Deep-Learning/CNN/mnist_digit_recognizer_by_udacity_deep_learning_nanodegree_program.ipynb\" target=\"_parent\"><img src=\"https://colab.research.google.com/assets/colab-badge.svg\" alt=\"Open In Colab\"/></a>"
      ]
    },
    {
      "cell_type": "code",
      "metadata": {
        "id": "l1ES6Ha9RMxE",
        "colab_type": "code",
        "outputId": "68336143-2522-415c-d81a-57eb98f53c20",
        "colab": {
          "base_uri": "https://localhost:8080/",
          "height": 34
        }
      },
      "source": [
        "!git clone https://github.com/udacity/aind2-cnn.git"
      ],
      "execution_count": 1,
      "outputs": [
        {
          "output_type": "stream",
          "text": [
            "fatal: destination path 'aind2-cnn' already exists and is not an empty directory.\n"
          ],
          "name": "stdout"
        }
      ]
    },
    {
      "cell_type": "code",
      "metadata": {
        "id": "e4zE9-FWRdmb",
        "colab_type": "code",
        "outputId": "2d5c88f8-ef23-4dc2-ce9d-36de54eb8cac",
        "colab": {
          "base_uri": "https://localhost:8080/",
          "height": 34
        }
      },
      "source": [
        "!ls"
      ],
      "execution_count": 2,
      "outputs": [
        {
          "output_type": "stream",
          "text": [
            "aind2-cnn  sample_data\n"
          ],
          "name": "stdout"
        }
      ]
    },
    {
      "cell_type": "code",
      "metadata": {
        "id": "9R7GY7FfRc8s",
        "colab_type": "code",
        "outputId": "42a3d4de-dba1-4419-9065-7e83facf7b36",
        "colab": {
          "base_uri": "https://localhost:8080/",
          "height": 34
        }
      },
      "source": [
        "%cd aind2-cnn"
      ],
      "execution_count": 3,
      "outputs": [
        {
          "output_type": "stream",
          "text": [
            "/content/aind2-cnn\n"
          ],
          "name": "stdout"
        }
      ]
    },
    {
      "cell_type": "markdown",
      "metadata": {
        "id": "OhEd8oquPnkr",
        "colab_type": "text"
      },
      "source": [
        "# Artificial Intelligence Nanodegree\n",
        "\n",
        "## Convolutional Neural Networks\n",
        "\n",
        "---\n",
        "\n",
        "In this notebook, we train an MLP to classify images from the MNIST database.\n",
        "\n",
        "### 1. Load MNIST Database"
      ]
    },
    {
      "cell_type": "code",
      "metadata": {
        "id": "45X7MwBmPnku",
        "colab_type": "code",
        "outputId": "63aaf820-4131-4d1c-f575-51d9c6914c97",
        "colab": {
          "base_uri": "https://localhost:8080/",
          "height": 68
        }
      },
      "source": [
        "from keras.datasets import mnist\n",
        "\n",
        "# use Keras to import pre-shuffled MNIST database\n",
        "(X_train, y_train), (X_test, y_test) = mnist.load_data()\n",
        "\n",
        "print(\"The MNIST database has a training set of %d examples.\" % len(X_train))\n",
        "print(\"The MNIST database has a test set of %d examples.\" % len(X_test))"
      ],
      "execution_count": 4,
      "outputs": [
        {
          "output_type": "stream",
          "text": [
            "Using TensorFlow backend.\n"
          ],
          "name": "stderr"
        },
        {
          "output_type": "stream",
          "text": [
            "The MNIST database has a training set of 60000 examples.\n",
            "The MNIST database has a test set of 10000 examples.\n"
          ],
          "name": "stdout"
        }
      ]
    },
    {
      "cell_type": "markdown",
      "metadata": {
        "id": "owFyG0gRPnk0",
        "colab_type": "text"
      },
      "source": [
        "### 2. Visualize the First Six Training Images"
      ]
    },
    {
      "cell_type": "code",
      "metadata": {
        "id": "9UpTZahQPnk1",
        "colab_type": "code",
        "outputId": "c937852a-c4b0-4bff-be88-8abc61ba331d",
        "colab": {
          "base_uri": "https://localhost:8080/",
          "height": 210
        }
      },
      "source": [
        "import matplotlib.pyplot as plt\n",
        "%matplotlib inline\n",
        "import matplotlib.cm as cm\n",
        "import numpy as np\n",
        "\n",
        "# plot first six training images\n",
        "fig = plt.figure(figsize=(20,20))\n",
        "for i in range(6):\n",
        "    ax = fig.add_subplot(1, 6, i+1, xticks=[], yticks=[])\n",
        "    ax.imshow(X_train[i], cmap='gray')\n",
        "    ax.set_title(str(y_train[i]))"
      ],
      "execution_count": 5,
      "outputs": [
        {
          "output_type": "display_data",
          "data": {
            "image/png": "[encoded data removed]",
            "text/plain": [
              "<Figure size 1440x1440 with 6 Axes>"
            ]
          },
          "metadata": {
            "tags": []
          }
        }
      ]
    },
    {
      "cell_type": "markdown",
      "metadata": {
        "id": "oLHmdUDxPnk6",
        "colab_type": "text"
      },
      "source": [
        "### 3. View an Image in More Detail"
      ]
    },
    {
      "cell_type": "code",
      "metadata": {
        "id": "MvAcSYc6Pnk7",
        "colab_type": "code",
        "outputId": "338d4bb5-c0a6-421b-f431-b97979452ad2",
        "colab": {
          "base_uri": "https://localhost:8080/",
          "height": 704
        }
      },
      "source": [
        "def visualize_input(img, ax):\n",
        "    ax.imshow(img, cmap='gray')\n",
        "    width, height = img.shape\n",
        "    thresh = img.max()/2.5\n",
        "    for x in range(width):\n",
        "        for y in range(height):\n",
        "            ax.annotate(str(round(img[x][y],2)), xy=(y,x),\n",
        "                        horizontalalignment='center',\n",
        "                        verticalalignment='center',\n",
        "                        color='white' if img[x][y]<thresh else 'black')\n",
        "\n",
        "fig = plt.figure(figsize = (12,12)) \n",
        "ax = fig.add_subplot(111)\n",
        "visualize_input(X_train[0], ax)"
      ],
      "execution_count": 6,
      "outputs": [
        {
          "output_type": "display_data",
          "data": {
            "image/png": "[encoded data removed]",
            "text/plain": [
              "<Figure size 864x864 with 1 Axes>"
            ]
          },
          "metadata": {
            "tags": []
          }
        }
      ]
    },
    {
      "cell_type": "markdown",
      "metadata": {
        "id": "sXqc41M5Pnk_",
        "colab_type": "text"
      },
      "source": [
        "### 4. Rescale the Images by Dividing Every Pixel in Every Image by 255"
      ]
    },
    {
      "cell_type": "code",
      "metadata": {
        "id": "ZL6n-tcaPnk_",
        "colab_type": "code",
        "colab": {}
      },
      "source": [
        "# rescale [0,255] --> [0,1]\n",
        "X_train = X_train.astype('float32')/255\n",
        "X_test = X_test.astype('float32')/255 "
      ],
      "execution_count": 0,
      "outputs": []
    },
    {
      "cell_type": "code",
      "metadata": {
        "id": "6TnUT8YsQU0j",
        "colab_type": "code",
        "outputId": "d66c4ef9-d0ae-46bc-8dcd-43bab8ae4d33",
        "colab": {
          "base_uri": "https://localhost:8080/",
          "height": 210
        }
      },
      "source": [
        "import matplotlib.pyplot as plt\n",
        "%matplotlib inline\n",
        "import matplotlib.cm as cm\n",
        "import numpy as np\n",
        "\n",
        "# plot first six training images\n",
        "fig = plt.figure(figsize=(20,20))\n",
        "for i in range(6):\n",
        "    ax = fig.add_subplot(1, 6, i+1, xticks=[], yticks=[])\n",
        "    ax.imshow(X_train[i], cmap='gray')\n",
        "    ax.set_title(str(y_train[i]))"
      ],
      "execution_count": 8,
      "outputs": [
        {
          "output_type": "display_data",
          "data": {
            "image/png": "[encoded data removed]",
            "text/plain": [
              "<Figure size 1440x1440 with 6 Axes>"
            ]
          },
          "metadata": {
            "tags": []
          }
        }
      ]
    },
    {
      "cell_type": "markdown",
      "metadata": {
        "id": "fCyuWwOhPnlD",
        "colab_type": "text"
      },
      "source": [
        "### 5. Encode Categorical Integer Labels Using a One-Hot Scheme"
      ]
    },
    {
      "cell_type": "code",
      "metadata": {
        "id": "qWyRuS8QPnlE",
        "colab_type": "code",
        "outputId": "e0249d9f-9e55-44f0-81a3-7e1f2a63ae9f",
        "colab": {
          "base_uri": "https://localhost:8080/",
          "height": 51
        }
      },
      "source": [
        "from keras.utils import np_utils\n",
        "\n",
        "# print first ten (integer-valued) training labels\n",
        "print('Integer-valued labels:')\n",
        "print(y_train[:10])\n",
        "from sklearn.preprocessing import OneHotEncoder"
      ],
      "execution_count": 9,
      "outputs": [
        {
          "output_type": "stream",
          "text": [
            "Integer-valued labels:\n",
            "[5 0 4 1 9 2 1 3 1 4]\n"
          ],
          "name": "stdout"
        }
      ]
    },
    {
      "cell_type": "code",
      "metadata": {
        "id": "J796sJL6F9CX",
        "colab_type": "code",
        "colab": {
          "base_uri": "https://localhost:8080/",
          "height": 34
        },
        "outputId": "333f5d94-dbb0-4789-9bda-958c4ca5c424"
      },
      "source": [
        "y_train.shape"
      ],
      "execution_count": 10,
      "outputs": [
        {
          "output_type": "execute_result",
          "data": {
            "text/plain": [
              "(60000,)"
            ]
          },
          "metadata": {
            "tags": []
          },
          "execution_count": 10
        }
      ]
    },
    {
      "cell_type": "code",
      "metadata": {
        "id": "OJFfvYxbGX8_",
        "colab_type": "code",
        "colab": {}
      },
      "source": [
        "import numpy as np"
      ],
      "execution_count": 0,
      "outputs": []
    },
    {
      "cell_type": "code",
      "metadata": {
        "id": "2jHdRpa8FjGB",
        "colab_type": "code",
        "colab": {
          "base_uri": "https://localhost:8080/",
          "height": 68
        },
        "outputId": "482b25dc-193d-4f2e-cd35-7c63e53e9037"
      },
      "source": [
        "ohe = OneHotEncoder(sparse = False, categories = 'auto')\n",
        "y_train = ohe.fit_transform(y_train[:, np.newaxis])\n",
        "y_train[:3]"
      ],
      "execution_count": 12,
      "outputs": [
        {
          "output_type": "execute_result",
          "data": {
            "text/plain": [
              "array([[0., 0., 0., 0., 0., 1., 0., 0., 0., 0.],\n",
              "       [1., 0., 0., 0., 0., 0., 0., 0., 0., 0.],\n",
              "       [0., 0., 0., 0., 1., 0., 0., 0., 0., 0.]])"
            ]
          },
          "metadata": {
            "tags": []
          },
          "execution_count": 12
        }
      ]
    },
    {
      "cell_type": "code",
      "metadata": {
        "id": "P2CxTlHrHM-M",
        "colab_type": "code",
        "colab": {
          "base_uri": "https://localhost:8080/",
          "height": 51
        },
        "outputId": "1b58d770-fd82-428a-e91d-678281f7c1bb"
      },
      "source": [
        "y_test = ohe.transform(y_test[:, np.newaxis])\n",
        "y_test[:2]"
      ],
      "execution_count": 13,
      "outputs": [
        {
          "output_type": "execute_result",
          "data": {
            "text/plain": [
              "array([[0., 0., 0., 0., 0., 0., 0., 1., 0., 0.],\n",
              "       [0., 0., 1., 0., 0., 0., 0., 0., 0., 0.]])"
            ]
          },
          "metadata": {
            "tags": []
          },
          "execution_count": 13
        }
      ]
    },
    {
      "cell_type": "markdown",
      "metadata": {
        "id": "SKnB_zS5Ha1T",
        "colab_type": "text"
      },
      "source": [
        "###2nd method for onehotencoder with np.utils"
      ]
    },
    {
      "cell_type": "code",
      "metadata": {
        "id": "zQeg1RYZFInR",
        "colab_type": "code",
        "colab": {}
      },
      "source": [
        "from keras.utils import np_utils\n",
        "# one-hot encode the labels\n",
        "#y_train = np_utils.to_categorical(y_train, 10)\n",
        "#y_test = np_utils.to_categorical(y_test, 10)"
      ],
      "execution_count": 0,
      "outputs": []
    },
    {
      "cell_type": "markdown",
      "metadata": {
        "id": "0xlM-5qcPnlH",
        "colab_type": "text"
      },
      "source": [
        "### 6. Define the Model Architecture"
      ]
    },
    {
      "cell_type": "code",
      "metadata": {
        "id": "ApfJKbQUIH50",
        "colab_type": "code",
        "colab": {
          "base_uri": "https://localhost:8080/",
          "height": 34
        },
        "outputId": "d6333c00-8cdd-495d-cb83-1019c8b666c6"
      },
      "source": [
        "%tensorflow_version 2.x"
      ],
      "execution_count": 15,
      "outputs": [
        {
          "output_type": "stream",
          "text": [
            "TensorFlow is already loaded. Please restart the runtime to change versions.\n"
          ],
          "name": "stdout"
        }
      ]
    },
    {
      "cell_type": "code",
      "metadata": {
        "id": "mt4XotFNILv0",
        "colab_type": "code",
        "colab": {
          "base_uri": "https://localhost:8080/",
          "height": 34
        },
        "outputId": "6d70ea50-394b-4724-9e2a-c10e8bdaa60e"
      },
      "source": [
        "import tensorflow as tf\n",
        "tf.__version__"
      ],
      "execution_count": 16,
      "outputs": [
        {
          "output_type": "execute_result",
          "data": {
            "text/plain": [
              "'1.14.0'"
            ]
          },
          "metadata": {
            "tags": []
          },
          "execution_count": 16
        }
      ]
    },
    {
      "cell_type": "code",
      "metadata": {
        "id": "Ua8tUlEWPnlI",
        "colab_type": "code",
        "colab": {}
      },
      "source": [
        "def create_model():\n",
        "# define the model\n",
        "  model = tf.keras.models.Sequential([\n",
        "  tf.keras.layers.Flatten(input_shape=X_train.shape[1:]),\n",
        "  tf.keras.layers.Dense(512, activation= tf.nn.relu),\n",
        "  tf.keras.layers.Dropout(0.2),\n",
        "  tf.keras.layers.Dense(512, activation= tf.nn.relu),\n",
        "  tf.keras.layers.Dropout(0.2),\n",
        "  tf.keras.layers.Dense(10, activation= tf.nn.softmax)\n",
        "  ])\n",
        "  model.compile(optimizer = 'rmsprop', loss = 'categorical_crossentropy', metrics = ['accuracy'])\n",
        "  return model"
      ],
      "execution_count": 0,
      "outputs": []
    },
    {
      "cell_type": "code",
      "metadata": {
        "id": "LuWeY8ixI1B4",
        "colab_type": "code",
        "colab": {
          "base_uri": "https://localhost:8080/",
          "height": 357
        },
        "outputId": "3cd10a7b-bf67-4064-ac7c-bce64c834b50"
      },
      "source": [
        "model = create_model()\n",
        "model.summary()"
      ],
      "execution_count": 20,
      "outputs": [
        {
          "output_type": "stream",
          "text": [
            "Model: \"sequential_1\"\n",
            "_________________________________________________________________\n",
            "Layer (type)                 Output Shape              Param #   \n",
            "=================================================================\n",
            "flatten_1 (Flatten)          (None, 784)               0         \n",
            "_________________________________________________________________\n",
            "dense_3 (Dense)              (None, 512)               401920    \n",
            "_________________________________________________________________\n",
            "dropout_2 (Dropout)          (None, 512)               0         \n",
            "_________________________________________________________________\n",
            "dense_4 (Dense)              (None, 512)               262656    \n",
            "_________________________________________________________________\n",
            "dropout_3 (Dropout)          (None, 512)               0         \n",
            "_________________________________________________________________\n",
            "dense_5 (Dense)              (None, 10)                5130      \n",
            "=================================================================\n",
            "Total params: 669,706\n",
            "Trainable params: 669,706\n",
            "Non-trainable params: 0\n",
            "_________________________________________________________________\n"
          ],
          "name": "stdout"
        }
      ]
    },
    {
      "cell_type": "markdown",
      "metadata": {
        "id": "P05H6rDnPnlS",
        "colab_type": "text"
      },
      "source": [
        "### 8. Calculate the Classification Accuracy on the Test Set (Before Training)"
      ]
    },
    {
      "cell_type": "code",
      "metadata": {
        "id": "z-FEJ5OLPnlT",
        "colab_type": "code",
        "outputId": "14a188d0-cdff-44c8-e5e6-6669fdbdd143",
        "colab": {
          "base_uri": "https://localhost:8080/",
          "height": 34
        }
      },
      "source": [
        "# evaluate test accuracy\n",
        "score = model.evaluate(X_test, y_test, verbose=0)\n",
        "accuracy = 100*score[1]\n",
        "\n",
        "# print test accuracy\n",
        "print('Test accuracy: %.4f%%' % accuracy)"
      ],
      "execution_count": 21,
      "outputs": [
        {
          "output_type": "stream",
          "text": [
            "Test accuracy: 8.7100%\n"
          ],
          "name": "stdout"
        }
      ]
    },
    {
      "cell_type": "markdown",
      "metadata": {
        "id": "EXcgLF8NPnlX",
        "colab_type": "text"
      },
      "source": [
        "### 9. Train the Model"
      ]
    },
    {
      "cell_type": "code",
      "metadata": {
        "id": "FMZBQTc6PnlY",
        "colab_type": "code",
        "outputId": "1170a093-5690-444c-8f78-e1586896abb5",
        "colab": {
          "base_uri": "https://localhost:8080/",
          "height": 391
        }
      },
      "source": [
        "#train model\n",
        "model.fit(X_train, y_train, batch_size=128, epochs=10,\n",
        "          validation_data = (X_test, y_test),\n",
        "          verbose=1, shuffle=True)"
      ],
      "execution_count": 24,
      "outputs": [
        {
          "output_type": "stream",
          "text": [
            "Train on 60000 samples, validate on 10000 samples\n",
            "Epoch 1/10\n",
            "60000/60000 [==============================] - 2s 31us/sample - loss: 0.1028 - acc: 0.9696 - val_loss: 0.0792 - val_acc: 0.9771\n",
            "Epoch 2/10\n",
            "60000/60000 [==============================] - 2s 30us/sample - loss: 0.0739 - acc: 0.9782 - val_loss: 0.0760 - val_acc: 0.9779\n",
            "Epoch 3/10\n",
            "60000/60000 [==============================] - 2s 30us/sample - loss: 0.0604 - acc: 0.9822 - val_loss: 0.0717 - val_acc: 0.9796\n",
            "Epoch 4/10\n",
            "60000/60000 [==============================] - 2s 31us/sample - loss: 0.0504 - acc: 0.9850 - val_loss: 0.0812 - val_acc: 0.9796\n",
            "Epoch 5/10\n",
            "60000/60000 [==============================] - 2s 30us/sample - loss: 0.0458 - acc: 0.9860 - val_loss: 0.0749 - val_acc: 0.9827\n",
            "Epoch 6/10\n",
            "60000/60000 [==============================] - 2s 31us/sample - loss: 0.0397 - acc: 0.9877 - val_loss: 0.0839 - val_acc: 0.9811\n",
            "Epoch 7/10\n",
            "60000/60000 [==============================] - 2s 30us/sample - loss: 0.0362 - acc: 0.9894 - val_loss: 0.0779 - val_acc: 0.9813\n",
            "Epoch 8/10\n",
            "60000/60000 [==============================] - 2s 30us/sample - loss: 0.0307 - acc: 0.9906 - val_loss: 0.0880 - val_acc: 0.9808\n",
            "Epoch 9/10\n",
            "60000/60000 [==============================] - 2s 30us/sample - loss: 0.0282 - acc: 0.9915 - val_loss: 0.0820 - val_acc: 0.9834\n",
            "Epoch 10/10\n",
            "60000/60000 [==============================] - 2s 29us/sample - loss: 0.0253 - acc: 0.9925 - val_loss: 0.0986 - val_acc: 0.9827\n"
          ],
          "name": "stdout"
        },
        {
          "output_type": "execute_result",
          "data": {
            "text/plain": [
              "<tensorflow.python.keras.callbacks.History at 0x7fb7e008e9e8>"
            ]
          },
          "metadata": {
            "tags": []
          },
          "execution_count": 24
        }
      ]
    },
    {
      "cell_type": "code",
      "metadata": {
        "id": "vCc-wQQaRv5z",
        "colab_type": "code",
        "colab": {}
      },
      "source": [
        "model.save('saved_model.h5')"
      ],
      "execution_count": 0,
      "outputs": []
    },
    {
      "cell_type": "code",
      "metadata": {
        "id": "YB_zI-DlSBNp",
        "colab_type": "code",
        "colab": {
          "base_uri": "https://localhost:8080/",
          "height": 139
        },
        "outputId": "9ff01d3d-8e88-4bfa-abe3-b89a47f209b9"
      },
      "source": [
        "model2 = tf.keras.models.load_model('saved_model.h5')"
      ],
      "execution_count": 27,
      "outputs": [
        {
          "output_type": "stream",
          "text": [
            "W0820 13:48:22.858572 140429671012224 deprecation.py:506] From /usr/local/lib/python3.6/dist-packages/tensorflow/python/ops/init_ops.py:97: calling GlorotUniform.__init__ (from tensorflow.python.ops.init_ops) with dtype is deprecated and will be removed in a future version.\n",
            "Instructions for updating:\n",
            "Call initializer instance with the dtype argument instead of passing it to the constructor\n",
            "W0820 13:48:22.860233 140429671012224 deprecation.py:506] From /usr/local/lib/python3.6/dist-packages/tensorflow/python/ops/init_ops.py:97: calling Zeros.__init__ (from tensorflow.python.ops.init_ops) with dtype is deprecated and will be removed in a future version.\n",
            "Instructions for updating:\n",
            "Call initializer instance with the dtype argument instead of passing it to the constructor\n"
          ],
          "name": "stderr"
        }
      ]
    },
    {
      "cell_type": "markdown",
      "metadata": {
        "id": "mC-KVqVNPnlg",
        "colab_type": "text"
      },
      "source": [
        "### 11. Calculate the Classification Accuracy on the Test Set"
      ]
    },
    {
      "cell_type": "code",
      "metadata": {
        "colab_type": "code",
        "outputId": "aa960838-a9e5-4ad4-eb0f-017e40217d20",
        "id": "bNrFWZx6bskH",
        "colab": {
          "base_uri": "https://localhost:8080/",
          "height": 51
        }
      },
      "source": [
        "test_score1 = model2.evaluate(X_test, y_test)\n",
        "test_score1"
      ],
      "execution_count": 28,
      "outputs": [
        {
          "output_type": "stream",
          "text": [
            "10000/10000 [==============================] - 1s 62us/sample - loss: 0.0986 - acc: 0.9827\n"
          ],
          "name": "stdout"
        },
        {
          "output_type": "execute_result",
          "data": {
            "text/plain": [
              "[0.09856279919306707, 0.9827]"
            ]
          },
          "metadata": {
            "tags": []
          },
          "execution_count": 28
        }
      ]
    },
    {
      "cell_type": "code",
      "metadata": {
        "colab_type": "code",
        "outputId": "192d7ffb-fff5-4e86-eda9-bd94a9be7837",
        "id": "sQjQyOSebskL",
        "colab": {
          "base_uri": "https://localhost:8080/",
          "height": 34
        }
      },
      "source": [
        "test_accuracy1 = test_score1[1]*100\n",
        "test_accuracy1"
      ],
      "execution_count": 29,
      "outputs": [
        {
          "output_type": "execute_result",
          "data": {
            "text/plain": [
              "98.2699990272522"
            ]
          },
          "metadata": {
            "tags": []
          },
          "execution_count": 29
        }
      ]
    },
    {
      "cell_type": "code",
      "metadata": {
        "colab_type": "code",
        "outputId": "4ce07df8-634e-4fc6-adb0-615fb6b70af3",
        "id": "j1meBWLAbskT",
        "colab": {
          "base_uri": "https://localhost:8080/",
          "height": 51
        }
      },
      "source": [
        "train_score1 = model.evaluate(X_train, y_train)\n",
        "train_score1"
      ],
      "execution_count": 30,
      "outputs": [
        {
          "output_type": "stream",
          "text": [
            "60000/60000 [==============================] - 3s 54us/sample - loss: 0.0100 - acc: 0.9968\n"
          ],
          "name": "stdout"
        },
        {
          "output_type": "execute_result",
          "data": {
            "text/plain": [
              "[0.010003087292319825, 0.9967833]"
            ]
          },
          "metadata": {
            "tags": []
          },
          "execution_count": 30
        }
      ]
    },
    {
      "cell_type": "code",
      "metadata": {
        "colab_type": "code",
        "outputId": "5afb38fe-101f-4d66-f2b2-c5385412312b",
        "id": "yA9YIj6DbskZ",
        "colab": {
          "base_uri": "https://localhost:8080/",
          "height": 34
        }
      },
      "source": [
        "train_accuracy1 = train_score1[1]*100\n",
        "train_accuracy1"
      ],
      "execution_count": 40,
      "outputs": [
        {
          "output_type": "execute_result",
          "data": {
            "text/plain": [
              "99.67833161354065"
            ]
          },
          "metadata": {
            "tags": []
          },
          "execution_count": 40
        }
      ]
    },
    {
      "cell_type": "markdown",
      "metadata": {
        "id": "b4O3NJBHTfHp",
        "colab_type": "text"
      },
      "source": [
        "# Adam Optimizer"
      ]
    },
    {
      "cell_type": "code",
      "metadata": {
        "id": "wiLM3WHbVRSd",
        "colab_type": "code",
        "outputId": "125c314d-be47-4df4-cd5a-52a42edba728",
        "colab": {
          "base_uri": "https://localhost:8080/",
          "height": 411
        }
      },
      "source": [
        "from keras.models import Sequential\n",
        "from keras.layers import Dense, Dropout, Flatten\n",
        "import keras\n",
        "# define the model\n",
        "model2 = Sequential([\n",
        "                  keras.layers.Flatten(input_shape=X_train.shape[1:]),\n",
        "                  keras.layers.Dense(512, activation='relu'),\n",
        "                  keras.layers.Dropout(0.2),\n",
        "                  keras.layers.Dense(512, activation='relu'),\n",
        "                  keras.layers.Dropout(0.2),\n",
        "                  keras.layers.Dense(10, activation='softmax')\n",
        "                  ])\n",
        "# summarize the model\n",
        "model2.summary()"
      ],
      "execution_count": 32,
      "outputs": [
        {
          "output_type": "stream",
          "text": [
            "W0820 13:49:41.612818 140429671012224 deprecation.py:506] From /usr/local/lib/python3.6/dist-packages/keras/backend/tensorflow_backend.py:3445: calling dropout (from tensorflow.python.ops.nn_ops) with keep_prob is deprecated and will be removed in a future version.\n",
            "Instructions for updating:\n",
            "Please use `rate` instead of `keep_prob`. Rate should be set to `rate = 1 - keep_prob`.\n"
          ],
          "name": "stderr"
        },
        {
          "output_type": "stream",
          "text": [
            "_________________________________________________________________\n",
            "Layer (type)                 Output Shape              Param #   \n",
            "=================================================================\n",
            "flatten_1 (Flatten)          (None, 784)               0         \n",
            "_________________________________________________________________\n",
            "dense_1 (Dense)              (None, 512)               401920    \n",
            "_________________________________________________________________\n",
            "dropout_1 (Dropout)          (None, 512)               0         \n",
            "_________________________________________________________________\n",
            "dense_2 (Dense)              (None, 512)               262656    \n",
            "_________________________________________________________________\n",
            "dropout_2 (Dropout)          (None, 512)               0         \n",
            "_________________________________________________________________\n",
            "dense_3 (Dense)              (None, 10)                5130      \n",
            "=================================================================\n",
            "Total params: 669,706\n",
            "Trainable params: 669,706\n",
            "Non-trainable params: 0\n",
            "_________________________________________________________________\n"
          ],
          "name": "stdout"
        }
      ]
    },
    {
      "cell_type": "code",
      "metadata": {
        "id": "Bax6c194Upxh",
        "colab_type": "code",
        "colab": {
          "base_uri": "https://localhost:8080/",
          "height": 71
        },
        "outputId": "d9e4277e-d55c-4e69-b9aa-e0c54aa8be02"
      },
      "source": [
        "model2.compile(optimizer = 'adam', loss = 'categorical_crossentropy', metrics = ['accuracy'])"
      ],
      "execution_count": 33,
      "outputs": [
        {
          "output_type": "stream",
          "text": [
            "W0820 13:49:57.082216 140429671012224 deprecation_wrapper.py:119] From /usr/local/lib/python3.6/dist-packages/keras/optimizers.py:790: The name tf.train.Optimizer is deprecated. Please use tf.compat.v1.train.Optimizer instead.\n",
            "\n"
          ],
          "name": "stderr"
        }
      ]
    },
    {
      "cell_type": "code",
      "metadata": {
        "id": "EkpkblJ8WTY8",
        "colab_type": "code",
        "outputId": "5c8bcd9f-cce6-4732-91eb-654a7b485d00",
        "colab": {
          "base_uri": "https://localhost:8080/",
          "height": 85
        }
      },
      "source": [
        "!ls"
      ],
      "execution_count": 0,
      "outputs": [
        {
          "output_type": "stream",
          "text": [
            "cifar10-augmentation\tLICENSE.txt\t       requirements\n",
            "cifar10-classification\tmnist-mlp\t       transfer-learning\n",
            "CODEOWNERS\t\tmnist.model.best.hdf5\n",
            "conv-visualization\tREADME.md\n"
          ],
          "name": "stdout"
        }
      ]
    },
    {
      "cell_type": "code",
      "metadata": {
        "id": "Jh-62iosWN-h",
        "colab_type": "code",
        "outputId": "65faa9ae-4260-459c-f9e0-021d190a0ef8",
        "colab": {
          "base_uri": "https://localhost:8080/",
          "height": 445
        }
      },
      "source": [
        "model2.fit(X_train, y_train, batch_size=128, epochs=10,\n",
        "          verbose=1, shuffle=True)"
      ],
      "execution_count": 34,
      "outputs": [
        {
          "output_type": "stream",
          "text": [
            "W0820 13:50:47.116948 140429671012224 deprecation.py:323] From /usr/local/lib/python3.6/dist-packages/tensorflow/python/ops/math_grad.py:1250: add_dispatch_support.<locals>.wrapper (from tensorflow.python.ops.array_ops) is deprecated and will be removed in a future version.\n",
            "Instructions for updating:\n",
            "Use tf.where in 2.0, which has the same broadcast rule as np.where\n"
          ],
          "name": "stderr"
        },
        {
          "output_type": "stream",
          "text": [
            "Epoch 1/10\n",
            "60000/60000 [==============================] - 2s 40us/step - loss: 0.2462 - acc: 0.9264\n",
            "Epoch 2/10\n",
            "60000/60000 [==============================] - 2s 36us/step - loss: 0.1006 - acc: 0.9695\n",
            "Epoch 3/10\n",
            "60000/60000 [==============================] - 2s 35us/step - loss: 0.0718 - acc: 0.9774\n",
            "Epoch 4/10\n",
            "60000/60000 [==============================] - 2s 34us/step - loss: 0.0558 - acc: 0.9822\n",
            "Epoch 5/10\n",
            "60000/60000 [==============================] - 2s 34us/step - loss: 0.0454 - acc: 0.9850\n",
            "Epoch 6/10\n",
            "60000/60000 [==============================] - 2s 33us/step - loss: 0.0394 - acc: 0.9874\n",
            "Epoch 7/10\n",
            "60000/60000 [==============================] - 2s 32us/step - loss: 0.0367 - acc: 0.9877\n",
            "Epoch 8/10\n",
            "60000/60000 [==============================] - 2s 33us/step - loss: 0.0317 - acc: 0.9897\n",
            "Epoch 9/10\n",
            "60000/60000 [==============================] - 2s 34us/step - loss: 0.0277 - acc: 0.9905\n",
            "Epoch 10/10\n",
            "60000/60000 [==============================] - 2s 33us/step - loss: 0.0248 - acc: 0.9910\n"
          ],
          "name": "stdout"
        },
        {
          "output_type": "execute_result",
          "data": {
            "text/plain": [
              "<keras.callbacks.History at 0x7fb78dc42240>"
            ]
          },
          "metadata": {
            "tags": []
          },
          "execution_count": 34
        }
      ]
    },
    {
      "cell_type": "code",
      "metadata": {
        "id": "JRX-C6eWWqqY",
        "colab_type": "code",
        "outputId": "c0cf340c-33f8-47cc-8cbb-f6cfa02ab1fa",
        "colab": {
          "base_uri": "https://localhost:8080/",
          "height": 51
        }
      },
      "source": [
        "test_score2 = model2.evaluate(X_test, y_test)\n",
        "test_score2"
      ],
      "execution_count": 35,
      "outputs": [
        {
          "output_type": "stream",
          "text": [
            "10000/10000 [==============================] - 1s 50us/step\n"
          ],
          "name": "stdout"
        },
        {
          "output_type": "execute_result",
          "data": {
            "text/plain": [
              "[0.061980861790540805, 0.983]"
            ]
          },
          "metadata": {
            "tags": []
          },
          "execution_count": 35
        }
      ]
    },
    {
      "cell_type": "code",
      "metadata": {
        "id": "5pEFXhmAW0FO",
        "colab_type": "code",
        "outputId": "2573d50c-72a0-48c6-fc8a-bf180021c28b",
        "colab": {
          "base_uri": "https://localhost:8080/",
          "height": 34
        }
      },
      "source": [
        "test_accuracy2 = test_score2[1]*100\n",
        "test_accuracy2"
      ],
      "execution_count": 36,
      "outputs": [
        {
          "output_type": "execute_result",
          "data": {
            "text/plain": [
              "98.3"
            ]
          },
          "metadata": {
            "tags": []
          },
          "execution_count": 36
        }
      ]
    },
    {
      "cell_type": "code",
      "metadata": {
        "id": "-I2j4fufbT8f",
        "colab_type": "code",
        "outputId": "c2e4755f-6116-47bc-a710-d5824facbfe6",
        "colab": {
          "base_uri": "https://localhost:8080/",
          "height": 51
        }
      },
      "source": [
        "train_score2 = model2.evaluate(X_train, y_train)\n",
        "train_score2"
      ],
      "execution_count": 37,
      "outputs": [
        {
          "output_type": "stream",
          "text": [
            "60000/60000 [==============================] - 3s 44us/step\n"
          ],
          "name": "stdout"
        },
        {
          "output_type": "execute_result",
          "data": {
            "text/plain": [
              "[0.007150208506677154, 0.9977666666666667]"
            ]
          },
          "metadata": {
            "tags": []
          },
          "execution_count": 37
        }
      ]
    },
    {
      "cell_type": "code",
      "metadata": {
        "id": "yEJHqETHbaq8",
        "colab_type": "code",
        "outputId": "0501233d-5813-4964-9ece-bafd135b2841",
        "colab": {
          "base_uri": "https://localhost:8080/",
          "height": 34
        }
      },
      "source": [
        "train_accuracy2 = train_score2[1]*100\n",
        "train_accuracy2"
      ],
      "execution_count": 38,
      "outputs": [
        {
          "output_type": "execute_result",
          "data": {
            "text/plain": [
              "99.77666666666667"
            ]
          },
          "metadata": {
            "tags": []
          },
          "execution_count": 38
        }
      ]
    },
    {
      "cell_type": "markdown",
      "metadata": {
        "id": "uCK6HGZTW7uq",
        "colab_type": "text"
      },
      "source": [
        "# RMSProp vs. Adam"
      ]
    },
    {
      "cell_type": "code",
      "metadata": {
        "id": "jAVNfWQFXHhL",
        "colab_type": "code",
        "outputId": "0e94f2c0-1026-4319-c88b-7b44e647561b",
        "colab": {
          "base_uri": "https://localhost:8080/",
          "height": 153
        }
      },
      "source": [
        "print(f'Adam\\'s Optimizer Accuracy (Training Set):--- {train_accuracy2}\\n')\n",
        "print(f'Adam\\'s Optimzer Accuracy (Test Set):--- {test_accuracy2}\\n\\n')\n",
        "\n",
        "print(f'RMSProp\\'s Optimizer Accuracy (Training Set):--- {train_accuracy1}\\n')\n",
        "print(f'RMSProp\\'s Optimizer Accuracy (Test Set):--- {test_accuracy1}')"
      ],
      "execution_count": 41,
      "outputs": [
        {
          "output_type": "stream",
          "text": [
            "Adam's Optimizer Accuracy (Training Set):--- 99.77666666666667\n",
            "\n",
            "Adam's Optimzer Accuracy (Test Set):--- 98.3\n",
            "\n",
            "\n",
            "RMSProp's Optimizer Accuracy (Training Set):--- 99.67833161354065\n",
            "\n",
            "RMSProp's Optimizer Accuracy (Test Set):--- 98.2699990272522\n"
          ],
          "name": "stdout"
        }
      ]
    },
    {
      "cell_type": "code",
      "metadata": {
        "id": "oS21QaspXVxS",
        "colab_type": "code",
        "colab": {}
      },
      "source": [
        ""
      ],
      "execution_count": 0,
      "outputs": []
    }
  ]
}