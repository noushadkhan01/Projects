{
  "nbformat": 4,
  "nbformat_minor": 0,
  "metadata": {
    "colab": {
      "name": "Copy of GradientDescent.ipynb",
      "version": "0.3.2",
      "provenance": [],
      "include_colab_link": true
    },
    "kernelspec": {
      "name": "python3",
      "display_name": "Python 3"
    },
    "accelerator": "GPU"
  },
  "cells": [
    {
      "cell_type": "markdown",
      "metadata": {
        "id": "view-in-github",
        "colab_type": "text"
      },
      "source": [
        "<a href=\"https://colab.research.google.com/github/noushadkhan01/Projects/blob/master/Deep-Learning/Udacity%20Projects/project1/GradientDescent.ipynb\" target=\"_parent\"><img src=\"https://colab.research.google.com/assets/colab-badge.svg\" alt=\"Open In Colab\"/></a>"
      ]
    },
    {
      "metadata": {
        "id": "qBjsPrZrWQ_2",
        "colab_type": "text"
      },
      "cell_type": "markdown",
      "source": [
        "# Implementing the Gradient Descent Algorithm\n",
        "\n",
        "In this lab, we'll implement the basic functions of the Gradient Descent algorithm to find the boundary in a small dataset. First, we'll start with some functions that will help us plot and visualize the data."
      ]
    },
    {
      "metadata": {
        "id": "LWhUGC17WQ__",
        "colab_type": "code",
        "colab": {}
      },
      "cell_type": "code",
      "source": [
        "import matplotlib.pyplot as plt\n",
        "import numpy as np\n",
        "import pandas as pd\n",
        "\n",
        "#Some helper functions for plotting and drawing lines\n",
        "\n",
        "def plot_points(X, y):\n",
        "    admitted = X[np.argwhere(y==1)]\n",
        "    rejected = X[np.argwhere(y==0)]\n",
        "    plt.scatter([s[0][0] for s in rejected], [s[0][1] for s in rejected], s = 25, color = 'blue', edgecolor = 'k')\n",
        "    plt.scatter([s[0][0] for s in admitted], [s[0][1] for s in admitted], s = 25, color = 'red', edgecolor = 'k')\n",
        "\n",
        "def display(m, b, color='g--'):\n",
        "    plt.xlim(-0.05,1.05)\n",
        "    plt.ylim(-0.05,1.05)\n",
        "    x = np.arange(-10, 10, 0.1)\n",
        "    plt.plot(x, m*x+b, color)"
      ],
      "execution_count": 0,
      "outputs": []
    },
    {
      "metadata": {
        "id": "1KsGtZh2a6Jd",
        "colab_type": "code",
        "outputId": "b0104883-bfa1-404f-f946-b969b901b866",
        "colab": {
          "base_uri": "https://localhost:8080/",
          "height": 34
        }
      },
      "cell_type": "code",
      "source": [
        "!git clone https://github.com/udacity/deep-learning.git"
      ],
      "execution_count": 3,
      "outputs": [
        {
          "output_type": "stream",
          "text": [
            "fatal: destination path 'deep-learning' already exists and is not an empty directory.\n"
          ],
          "name": "stdout"
        }
      ]
    },
    {
      "metadata": {
        "id": "OJ9Vl1oza_zb",
        "colab_type": "code",
        "outputId": "169b6adf-9da6-4ea3-9068-3e2c7a0b2276",
        "colab": {
          "base_uri": "https://localhost:8080/",
          "height": 34
        }
      },
      "cell_type": "code",
      "source": [
        "%cd deep-learning/gradient-descent"
      ],
      "execution_count": 4,
      "outputs": [
        {
          "output_type": "stream",
          "text": [
            "/content/deep-learning/gradient-descent\n"
          ],
          "name": "stdout"
        }
      ]
    },
    {
      "metadata": {
        "id": "_c8TGQljWRAH",
        "colab_type": "text"
      },
      "cell_type": "markdown",
      "source": [
        "## Reading and plotting the data"
      ]
    },
    {
      "metadata": {
        "id": "1URThHmvWRAI",
        "colab_type": "code",
        "outputId": "392000c9-7eec-43fa-b7d9-19e5ce032a39",
        "colab": {
          "base_uri": "https://localhost:8080/",
          "height": 347
        }
      },
      "cell_type": "code",
      "source": [
        "data = pd.read_csv('data.csv', header=None)\n",
        "X = np.array(data[[0,1]])\n",
        "y = np.array(data[2])\n",
        "plot_points(X,y)\n",
        "plt.show()"
      ],
      "execution_count": 5,
      "outputs": [
        {
          "output_type": "display_data",
          "data": {
            "image/png": "[encoded data removed]",
            "text/plain": [
              "<matplotlib.figure.Figure at 0x7f4fc0fcd8d0>"
            ]
          },
          "metadata": {
            "tags": []
          }
        }
      ]
    },
    {
      "metadata": {
        "id": "RkuJe4J5WRAM",
        "colab_type": "text"
      },
      "cell_type": "markdown",
      "source": [
        "## TODO: Implementing the basic functions\n",
        "Here is your turn to shine. Implement the following formulas, as explained in the text.\n",
        "- Sigmoid activation function\n",
        "\n",
        "$$\\sigma(x) = \\frac{1}{1+e^{-x}}$$\n",
        "\n",
        "- Output (prediction) formula\n",
        "\n",
        "$$\\hat{y} = \\sigma(w_1 x_1 + w_2 x_2 + b)$$\n",
        "\n",
        "- Error function\n",
        "\n",
        "$$Error(y, \\hat{y}) = - y \\log(\\hat{y}) - (1-y) \\log(1-\\hat{y})$$\n",
        "\n",
        "- The function that updates the weights\n",
        "\n",
        "$$ w_i \\longrightarrow w_i + \\alpha (y - \\hat{y}) x_i$$\n",
        "\n",
        "$$ b \\longrightarrow b + \\alpha (y - \\hat{y})$$"
      ]
    },
    {
      "metadata": {
        "id": "qbSaTmGG8Sms",
        "colab_type": "code",
        "colab": {}
      },
      "cell_type": "code",
      "source": [
        "# Activation (sigmoid) function\n",
        "def sigmoid(x):\n",
        "    return 1 / (1 + np.exp(-x))\n",
        "\n",
        "def output_formula(features, weights, bias):\n",
        "    return sigmoid(np.dot(features, weights) + bias)\n",
        "\n",
        "def error_formula(y, output):\n",
        "    return - y*np.log(output) - (1 - y) * np.log(1-output)\n",
        "\n",
        "def update_weights(x, y, weights, bias, learning_rate):\n",
        "    output = output_formula(x, weights, bias)\n",
        "    delta_error = -(y - output)\n",
        "    weights -= learning_rate * delta_error * x\n",
        "    bias -= learning_rate * delta_error\n",
        "    return weights, bias"
      ],
      "execution_count": 0,
      "outputs": []
    },
    {
      "metadata": {
        "id": "VLTmz8lBWRAQ",
        "colab_type": "text"
      },
      "cell_type": "markdown",
      "source": [
        "## Training function\n",
        "This function will help us iterate the gradient descent algorithm through all the data, for a number of epochs. It will also plot the data, and some of the boundary lines obtained as we run the algorithm."
      ]
    },
    {
      "metadata": {
        "id": "g_DjV2sYWRAT",
        "colab_type": "code",
        "colab": {}
      },
      "cell_type": "code",
      "source": [
        "import sys\n",
        "np.random.seed(44)\n",
        "epochs = 100\n",
        "learning_rate = 0.01\n",
        "\n",
        "def train(features, targets, epochs, learning_rate, graph_lines=False):\n",
        "    \n",
        "    errors = []\n",
        "    n_records, n_features = features.shape\n",
        "    last_loss = None\n",
        "    weights = np.random.normal(scale=1 / n_features**.5, size=n_features)\n",
        "    bias = 0\n",
        "    for e in range(epochs):\n",
        "        del_w = np.zeros(weights.shape)\n",
        "        for x, y in zip(features, targets):\n",
        "            output = output_formula(x, weights, bias)\n",
        "            error = error_formula(y, output)\n",
        "            weights, bias = update_weights(x, y, weights, bias, learning_rate)\n",
        "        # Printing out the log-loss error on the training set\n",
        "        out = output_formula(features, weights, bias)\n",
        "        loss = np.mean(error_formula(targets, out))\n",
        "        errors.append(loss)\n",
        "        sys.stdout.write(f'\\r EPOCHS {e + 1}/{epochs}:-- ')\n",
        "        if e % (epochs / 10) == 0:\n",
        "            if last_loss and last_loss < loss:\n",
        "                print(f'Train loss:- {loss }  WARNING - Loss Increasing', end = '\\n')\n",
        "            else:\n",
        "                print(f'Train loss:- {loss}', end = '\\n')\n",
        "            last_loss = loss\n",
        "            predictions = out > 0.5\n",
        "            accuracy = np.mean(predictions == targets)\n",
        "            print(f'Accuracy:- {accuracy}')\n",
        "            sys.stdout.flush()\n",
        "        elif e + 1 == epochs:\n",
        "          print(f'Train loss:- {loss}', end = '\\n')\n",
        "          predictions = out > 0.5\n",
        "          accuracy = np.mean(predictions == targets)\n",
        "          print(f'Accuracy:- {accuracy}')\n",
        "          sys.stdout.flush()\n",
        "        if graph_lines and e % (epochs / 100) == 0:\n",
        "            display(-weights[0]/weights[1], -bias/weights[1])\n",
        "            \n",
        "    # Plotting the solution boundary\n",
        "    plt.title(\"Solution boundary\")\n",
        "    display(-weights[0]/weights[1], -bias/weights[1], 'black')\n",
        "\n",
        "    # Plotting the data\n",
        "    plot_points(features, targets)\n",
        "    plt.show()\n",
        "\n",
        "    # Plotting the error\n",
        "    plt.title(\"Error Plot\")\n",
        "    plt.xlabel('Number of epochs')\n",
        "    plt.ylabel('Error')\n",
        "    plt.plot(errors)\n",
        "    plt.show()"
      ],
      "execution_count": 0,
      "outputs": []
    },
    {
      "metadata": {
        "id": "eL-CS90lWRAb",
        "colab_type": "text"
      },
      "cell_type": "markdown",
      "source": [
        "## Time to train the algorithm!\n",
        "When we run the function, we'll obtain the following:\n",
        "- 10 updates with the current training loss and accuracy\n",
        "- A plot of the data and some of the boundary lines obtained. The final one is in black. Notice how the lines get closer and closer to the best fit, as we go through more epochs.\n",
        "- A plot of the error function. Notice how it decreases as we go through more epochs."
      ]
    },
    {
      "metadata": {
        "id": "KrjsuBLzWRAc",
        "colab_type": "code",
        "outputId": "e553eb5b-2488-45bb-8653-cf2b354fba98",
        "colab": {
          "base_uri": "https://localhost:8080/",
          "height": 1095
        }
      },
      "cell_type": "code",
      "source": [
        "train(X, y, epochs, learning_rate, False)"
      ],
      "execution_count": 17,
      "outputs": [
        {
          "output_type": "stream",
          "text": [
            "\r EPOCHS 1/100:-- Train loss:- 0.7135845195381634\n",
            "Accuracy:- 0.4\n",
            " EPOCHS 11/100:-- Train loss:- 0.6225835210454962\n",
            "Accuracy:- 0.59\n",
            " EPOCHS 21/100:-- Train loss:- 0.5548744083669508\n",
            "Accuracy:- 0.74\n",
            " EPOCHS 31/100:-- Train loss:- 0.501606141872473\n",
            "Accuracy:- 0.84\n",
            " EPOCHS 41/100:-- Train loss:- 0.4593334641861401\n",
            "Accuracy:- 0.86\n",
            " EPOCHS 51/100:-- Train loss:- 0.42525543433469976\n",
            "Accuracy:- 0.93\n",
            " EPOCHS 61/100:-- Train loss:- 0.3973461571671399\n",
            "Accuracy:- 0.93\n",
            " EPOCHS 71/100:-- Train loss:- 0.3741469765239074\n",
            "Accuracy:- 0.93\n",
            " EPOCHS 81/100:-- Train loss:- 0.35459973368161973\n",
            "Accuracy:- 0.94\n",
            " EPOCHS 91/100:-- Train loss:- 0.3379273658879921\n",
            "Accuracy:- 0.94\n",
            " EPOCHS 100/100:-- Train loss:- 0.3248987759028333\n",
            "Accuracy:- 0.94\n"
          ],
          "name": "stdout"
        },
        {
          "output_type": "display_data",
          "data": {
            "image/png": "[encoded data removed]",
            "text/plain": [
              "<matplotlib.figure.Figure at 0x7f4fbdc937b8>"
            ]
          },
          "metadata": {
            "tags": []
          }
        },
        {
          "output_type": "display_data",
          "data": {
            "image/png": "[encoded data removed]",
            "text/plain": [
              "<matplotlib.figure.Figure at 0x7f4fbdd34278>"
            ]
          },
          "metadata": {
            "tags": []
          }
        }
      ]
    },
    {
      "metadata": {
        "id": "vP7Y88p38370",
        "colab_type": "code",
        "colab": {}
      },
      "cell_type": "code",
      "source": [
        ""
      ],
      "execution_count": 0,
      "outputs": []
    }
  ]
}