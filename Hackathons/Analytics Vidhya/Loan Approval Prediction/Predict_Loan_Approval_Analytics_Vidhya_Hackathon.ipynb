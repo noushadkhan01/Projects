{
  "nbformat": 4,
  "nbformat_minor": 0,
  "metadata": {
    "colab": {
      "name": "Predict Loan Approval Analytics Vidhya Hackathon.ipynb",
      "version": "0.3.2",
      "provenance": [],
      "include_colab_link": true
    },
    "kernelspec": {
      "name": "python3",
      "display_name": "Python 3"
    }
  },
  "cells": [
    {
      "cell_type": "markdown",
      "metadata": {
        "id": "view-in-github",
        "colab_type": "text"
      },
      "source": [
        "<a href=\"https://colab.research.google.com/github/noushadkhan01/Projects/blob/master/Hackathons/Analytics%20Vidhya/Loan%20Approval%20Prediction/Predict_Loan_Approval_Analytics_Vidhya_Hackathon.ipynb\" target=\"_parent\"><img src=\"https://colab.research.google.com/assets/colab-badge.svg\" alt=\"Open In Colab\"/></a>"
      ]
    },
    {
      "cell_type": "code",
      "metadata": {
        "id": "h9hAQH_uNG7i",
        "colab_type": "code",
        "colab": {}
      },
      "source": [
        "import pandas as pd\n",
        "import seaborn as sns\n",
        "import matplotlib.pyplot as plt\n",
        "%matplotlib inline\n",
        "import numpy as np"
      ],
      "execution_count": 0,
      "outputs": []
    },
    {
      "cell_type": "code",
      "metadata": {
        "id": "nX_BPu6TV2DX",
        "colab_type": "code",
        "outputId": "d07fbc7a-7cc9-470c-fc1c-7a6cf7661378",
        "colab": {
          "base_uri": "https://localhost:8080/",
          "height": 68
        }
      },
      "source": [
        "!git clone https://github.com/noushadkhan01/my_methods\n",
        "%cd my_methods\n",
        "from print_model_results import print_model_results\n",
        "from get_cross_validation import get_cross_validation\n",
        "from my_dummy_variable_creator import MyDummyVariable\n",
        "import my_global_variables\n",
        "#initialize my_global_variable\n",
        "my_global_variables.init()\n",
        "from choose_best_classifier import choose_best_classifier\n",
        "%cd ../"
      ],
      "execution_count": 59,
      "outputs": [
        {
          "output_type": "stream",
          "text": [
            "fatal: destination path 'my_methods' already exists and is not an empty directory.\n",
            "/content/my_methods\n",
            "/content\n"
          ],
          "name": "stdout"
        }
      ]
    },
    {
      "cell_type": "code",
      "metadata": {
        "id": "RJBmXdAsOXtV",
        "colab_type": "code",
        "outputId": "0ce294a6-ff4e-446f-c6c0-5b895e750b3b",
        "colab": {
          "base_uri": "https://localhost:8080/",
          "height": 241
        }
      },
      "source": [
        "train = pd.read_csv('https://bit.ly/310J7ZX')\n",
        "train.head()"
      ],
      "execution_count": 60,
      "outputs": [
        {
          "output_type": "execute_result",
          "data": {
            "text/html": [
              "<div>\n",
              "<style scoped>\n",
              "    .dataframe tbody tr th:only-of-type {\n",
              "        vertical-align: middle;\n",
              "    }\n",
              "\n",
              "    .dataframe tbody tr th {\n",
              "        vertical-align: top;\n",
              "    }\n",
              "\n",
              "    .dataframe thead th {\n",
              "        text-align: right;\n",
              "    }\n",
              "</style>\n",
              "<table border=\"1\" class=\"dataframe\">\n",
              "  <thead>\n",
              "    <tr style=\"text-align: right;\">\n",
              "      <th></th>\n",
              "      <th>Loan_ID</th>\n",
              "      <th>Gender</th>\n",
              "      <th>Married</th>\n",
              "      <th>Dependents</th>\n",
              "      <th>Education</th>\n",
              "      <th>Self_Employed</th>\n",
              "      <th>ApplicantIncome</th>\n",
              "      <th>CoapplicantIncome</th>\n",
              "      <th>LoanAmount</th>\n",
              "      <th>Loan_Amount_Term</th>\n",
              "      <th>Credit_History</th>\n",
              "      <th>Property_Area</th>\n",
              "      <th>Loan_Status</th>\n",
              "    </tr>\n",
              "  </thead>\n",
              "  <tbody>\n",
              "    <tr>\n",
              "      <th>0</th>\n",
              "      <td>LP001002</td>\n",
              "      <td>Male</td>\n",
              "      <td>No</td>\n",
              "      <td>0</td>\n",
              "      <td>Graduate</td>\n",
              "      <td>No</td>\n",
              "      <td>5849</td>\n",
              "      <td>0.0</td>\n",
              "      <td>NaN</td>\n",
              "      <td>360.0</td>\n",
              "      <td>1.0</td>\n",
              "      <td>Urban</td>\n",
              "      <td>Y</td>\n",
              "    </tr>\n",
              "    <tr>\n",
              "      <th>1</th>\n",
              "      <td>LP001003</td>\n",
              "      <td>Male</td>\n",
              "      <td>Yes</td>\n",
              "      <td>1</td>\n",
              "      <td>Graduate</td>\n",
              "      <td>No</td>\n",
              "      <td>4583</td>\n",
              "      <td>1508.0</td>\n",
              "      <td>128.0</td>\n",
              "      <td>360.0</td>\n",
              "      <td>1.0</td>\n",
              "      <td>Rural</td>\n",
              "      <td>N</td>\n",
              "    </tr>\n",
              "    <tr>\n",
              "      <th>2</th>\n",
              "      <td>LP001005</td>\n",
              "      <td>Male</td>\n",
              "      <td>Yes</td>\n",
              "      <td>0</td>\n",
              "      <td>Graduate</td>\n",
              "      <td>Yes</td>\n",
              "      <td>3000</td>\n",
              "      <td>0.0</td>\n",
              "      <td>66.0</td>\n",
              "      <td>360.0</td>\n",
              "      <td>1.0</td>\n",
              "      <td>Urban</td>\n",
              "      <td>Y</td>\n",
              "    </tr>\n",
              "    <tr>\n",
              "      <th>3</th>\n",
              "      <td>LP001006</td>\n",
              "      <td>Male</td>\n",
              "      <td>Yes</td>\n",
              "      <td>0</td>\n",
              "      <td>Not Graduate</td>\n",
              "      <td>No</td>\n",
              "      <td>2583</td>\n",
              "      <td>2358.0</td>\n",
              "      <td>120.0</td>\n",
              "      <td>360.0</td>\n",
              "      <td>1.0</td>\n",
              "      <td>Urban</td>\n",
              "      <td>Y</td>\n",
              "    </tr>\n",
              "    <tr>\n",
              "      <th>4</th>\n",
              "      <td>LP001008</td>\n",
              "      <td>Male</td>\n",
              "      <td>No</td>\n",
              "      <td>0</td>\n",
              "      <td>Graduate</td>\n",
              "      <td>No</td>\n",
              "      <td>6000</td>\n",
              "      <td>0.0</td>\n",
              "      <td>141.0</td>\n",
              "      <td>360.0</td>\n",
              "      <td>1.0</td>\n",
              "      <td>Urban</td>\n",
              "      <td>Y</td>\n",
              "    </tr>\n",
              "  </tbody>\n",
              "</table>\n",
              "</div>"
            ],
            "text/plain": [
              "    Loan_ID Gender Married  ... Credit_History Property_Area Loan_Status\n",
              "0  LP001002   Male      No  ...            1.0         Urban           Y\n",
              "1  LP001003   Male     Yes  ...            1.0         Rural           N\n",
              "2  LP001005   Male     Yes  ...            1.0         Urban           Y\n",
              "3  LP001006   Male     Yes  ...            1.0         Urban           Y\n",
              "4  LP001008   Male      No  ...            1.0         Urban           Y\n",
              "\n",
              "[5 rows x 13 columns]"
            ]
          },
          "metadata": {
            "tags": []
          },
          "execution_count": 60
        }
      ]
    },
    {
      "cell_type": "code",
      "metadata": {
        "id": "l5B_wbzsPU2H",
        "colab_type": "code",
        "outputId": "0aac04dd-ddb3-4e4c-cea9-e648815cca9c",
        "colab": {
          "base_uri": "https://localhost:8080/",
          "height": 241
        }
      },
      "source": [
        "test = pd.read_csv('https://bit.ly/2LJwq1U')\n",
        "test.head()"
      ],
      "execution_count": 61,
      "outputs": [
        {
          "output_type": "execute_result",
          "data": {
            "text/html": [
              "<div>\n",
              "<style scoped>\n",
              "    .dataframe tbody tr th:only-of-type {\n",
              "        vertical-align: middle;\n",
              "    }\n",
              "\n",
              "    .dataframe tbody tr th {\n",
              "        vertical-align: top;\n",
              "    }\n",
              "\n",
              "    .dataframe thead th {\n",
              "        text-align: right;\n",
              "    }\n",
              "</style>\n",
              "<table border=\"1\" class=\"dataframe\">\n",
              "  <thead>\n",
              "    <tr style=\"text-align: right;\">\n",
              "      <th></th>\n",
              "      <th>Loan_ID</th>\n",
              "      <th>Gender</th>\n",
              "      <th>Married</th>\n",
              "      <th>Dependents</th>\n",
              "      <th>Education</th>\n",
              "      <th>Self_Employed</th>\n",
              "      <th>ApplicantIncome</th>\n",
              "      <th>CoapplicantIncome</th>\n",
              "      <th>LoanAmount</th>\n",
              "      <th>Loan_Amount_Term</th>\n",
              "      <th>Credit_History</th>\n",
              "      <th>Property_Area</th>\n",
              "    </tr>\n",
              "  </thead>\n",
              "  <tbody>\n",
              "    <tr>\n",
              "      <th>0</th>\n",
              "      <td>LP001015</td>\n",
              "      <td>Male</td>\n",
              "      <td>Yes</td>\n",
              "      <td>0</td>\n",
              "      <td>Graduate</td>\n",
              "      <td>No</td>\n",
              "      <td>5720</td>\n",
              "      <td>0</td>\n",
              "      <td>110.0</td>\n",
              "      <td>360.0</td>\n",
              "      <td>1.0</td>\n",
              "      <td>Urban</td>\n",
              "    </tr>\n",
              "    <tr>\n",
              "      <th>1</th>\n",
              "      <td>LP001022</td>\n",
              "      <td>Male</td>\n",
              "      <td>Yes</td>\n",
              "      <td>1</td>\n",
              "      <td>Graduate</td>\n",
              "      <td>No</td>\n",
              "      <td>3076</td>\n",
              "      <td>1500</td>\n",
              "      <td>126.0</td>\n",
              "      <td>360.0</td>\n",
              "      <td>1.0</td>\n",
              "      <td>Urban</td>\n",
              "    </tr>\n",
              "    <tr>\n",
              "      <th>2</th>\n",
              "      <td>LP001031</td>\n",
              "      <td>Male</td>\n",
              "      <td>Yes</td>\n",
              "      <td>2</td>\n",
              "      <td>Graduate</td>\n",
              "      <td>No</td>\n",
              "      <td>5000</td>\n",
              "      <td>1800</td>\n",
              "      <td>208.0</td>\n",
              "      <td>360.0</td>\n",
              "      <td>1.0</td>\n",
              "      <td>Urban</td>\n",
              "    </tr>\n",
              "    <tr>\n",
              "      <th>3</th>\n",
              "      <td>LP001035</td>\n",
              "      <td>Male</td>\n",
              "      <td>Yes</td>\n",
              "      <td>2</td>\n",
              "      <td>Graduate</td>\n",
              "      <td>No</td>\n",
              "      <td>2340</td>\n",
              "      <td>2546</td>\n",
              "      <td>100.0</td>\n",
              "      <td>360.0</td>\n",
              "      <td>NaN</td>\n",
              "      <td>Urban</td>\n",
              "    </tr>\n",
              "    <tr>\n",
              "      <th>4</th>\n",
              "      <td>LP001051</td>\n",
              "      <td>Male</td>\n",
              "      <td>No</td>\n",
              "      <td>0</td>\n",
              "      <td>Not Graduate</td>\n",
              "      <td>No</td>\n",
              "      <td>3276</td>\n",
              "      <td>0</td>\n",
              "      <td>78.0</td>\n",
              "      <td>360.0</td>\n",
              "      <td>1.0</td>\n",
              "      <td>Urban</td>\n",
              "    </tr>\n",
              "  </tbody>\n",
              "</table>\n",
              "</div>"
            ],
            "text/plain": [
              "    Loan_ID Gender Married  ... Loan_Amount_Term Credit_History Property_Area\n",
              "0  LP001015   Male     Yes  ...            360.0            1.0         Urban\n",
              "1  LP001022   Male     Yes  ...            360.0            1.0         Urban\n",
              "2  LP001031   Male     Yes  ...            360.0            1.0         Urban\n",
              "3  LP001035   Male     Yes  ...            360.0            NaN         Urban\n",
              "4  LP001051   Male      No  ...            360.0            1.0         Urban\n",
              "\n",
              "[5 rows x 12 columns]"
            ]
          },
          "metadata": {
            "tags": []
          },
          "execution_count": 61
        }
      ]
    },
    {
      "cell_type": "code",
      "metadata": {
        "id": "QgVKPMUDqZny",
        "colab_type": "code",
        "colab": {}
      },
      "source": [
        "test_id = test[['Loan_ID']]"
      ],
      "execution_count": 0,
      "outputs": []
    },
    {
      "cell_type": "code",
      "metadata": {
        "id": "I9idmFhfPfIV",
        "colab_type": "code",
        "outputId": "f8487f89-6e5a-4636-e7da-355280709494",
        "colab": {
          "base_uri": "https://localhost:8080/",
          "height": 34
        }
      },
      "source": [
        "train.shape, test.shape"
      ],
      "execution_count": 63,
      "outputs": [
        {
          "output_type": "execute_result",
          "data": {
            "text/plain": [
              "((614, 13), (367, 12))"
            ]
          },
          "metadata": {
            "tags": []
          },
          "execution_count": 63
        }
      ]
    },
    {
      "cell_type": "markdown",
      "metadata": {
        "id": "tOBGm9EbPj2k",
        "colab_type": "text"
      },
      "source": [
        "###ratio of class in training dataset"
      ]
    },
    {
      "cell_type": "code",
      "metadata": {
        "id": "FlEtA0elPzvU",
        "colab_type": "code",
        "outputId": "91096b9d-2cca-483d-8f69-aa90e8e0bc79",
        "colab": {
          "base_uri": "https://localhost:8080/",
          "height": 68
        }
      },
      "source": [
        "train.Loan_Status.value_counts()"
      ],
      "execution_count": 64,
      "outputs": [
        {
          "output_type": "execute_result",
          "data": {
            "text/plain": [
              "Y    422\n",
              "N    192\n",
              "Name: Loan_Status, dtype: int64"
            ]
          },
          "metadata": {
            "tags": []
          },
          "execution_count": 64
        }
      ]
    },
    {
      "cell_type": "markdown",
      "metadata": {
        "id": "rUkdmbRAtZsG",
        "colab_type": "text"
      },
      "source": [
        "#Data Preprocessing"
      ]
    },
    {
      "cell_type": "markdown",
      "metadata": {
        "id": "yp8rW9ittbTr",
        "colab_type": "text"
      },
      "source": [
        "##check null values"
      ]
    },
    {
      "cell_type": "code",
      "metadata": {
        "id": "s-m9PN6Gtfvm",
        "colab_type": "code",
        "outputId": "2950429d-f8bf-48c2-bcd9-683c84a80b8e",
        "colab": {
          "base_uri": "https://localhost:8080/",
          "height": 425
        }
      },
      "source": [
        "print('train\\n', train.isnull().sum().sort_values(ascending = False)[:9])\n",
        "print('\\n\\n test\\n', test.isnull().sum().sort_values(ascending = False)[:9])"
      ],
      "execution_count": 65,
      "outputs": [
        {
          "output_type": "stream",
          "text": [
            "train\n",
            " Credit_History      50\n",
            "Self_Employed       32\n",
            "LoanAmount          22\n",
            "Dependents          15\n",
            "Loan_Amount_Term    14\n",
            "Gender              13\n",
            "Married              3\n",
            "Loan_Status          0\n",
            "Property_Area        0\n",
            "dtype: int64\n",
            "\n",
            "\n",
            " test\n",
            " Credit_History       29\n",
            "Self_Employed        23\n",
            "Gender               11\n",
            "Dependents           10\n",
            "Loan_Amount_Term      6\n",
            "LoanAmount            5\n",
            "Property_Area         0\n",
            "CoapplicantIncome     0\n",
            "ApplicantIncome       0\n",
            "dtype: int64\n"
          ],
          "name": "stdout"
        }
      ]
    },
    {
      "cell_type": "code",
      "metadata": {
        "id": "uZ--sLedJnMG",
        "colab_type": "code",
        "outputId": "ad64657e-19f4-4c82-f59f-81e765f63b05",
        "colab": {
          "base_uri": "https://localhost:8080/",
          "height": 68
        }
      },
      "source": [
        "train_null_columns = train.isnull().any(axis = 0)\n",
        "train_null_columns = train_null_columns[train_null_columns == True].keys()\n",
        "train_null_columns"
      ],
      "execution_count": 66,
      "outputs": [
        {
          "output_type": "execute_result",
          "data": {
            "text/plain": [
              "Index(['Gender', 'Married', 'Dependents', 'Self_Employed', 'LoanAmount',\n",
              "       'Loan_Amount_Term', 'Credit_History'],\n",
              "      dtype='object')"
            ]
          },
          "metadata": {
            "tags": []
          },
          "execution_count": 66
        }
      ]
    },
    {
      "cell_type": "code",
      "metadata": {
        "id": "snxV4LUQKRzj",
        "colab_type": "code",
        "outputId": "bc9faf30-967d-43b2-9433-273e54860609",
        "colab": {
          "base_uri": "https://localhost:8080/",
          "height": 68
        }
      },
      "source": [
        "test_null_columns = test.isnull().any(axis = 0)\n",
        "test_null_columns = test_null_columns[test_null_columns == True].keys()\n",
        "test_null_columns"
      ],
      "execution_count": 67,
      "outputs": [
        {
          "output_type": "execute_result",
          "data": {
            "text/plain": [
              "Index(['Gender', 'Dependents', 'Self_Employed', 'LoanAmount',\n",
              "       'Loan_Amount_Term', 'Credit_History'],\n",
              "      dtype='object')"
            ]
          },
          "metadata": {
            "tags": []
          },
          "execution_count": 67
        }
      ]
    },
    {
      "cell_type": "markdown",
      "metadata": {
        "id": "ntBrDyocP-VD",
        "colab_type": "text"
      },
      "source": [
        "##Drop irrelevant features"
      ]
    },
    {
      "cell_type": "code",
      "metadata": {
        "id": "3LfsAJw4QSow",
        "colab_type": "code",
        "colab": {}
      },
      "source": [
        "train.drop(['Loan_ID'], inplace = True, axis = 1)\n",
        "test.drop(['Loan_ID'], inplace = True, axis = 1)"
      ],
      "execution_count": 0,
      "outputs": []
    },
    {
      "cell_type": "code",
      "metadata": {
        "id": "L9RsyTsFQgjx",
        "colab_type": "code",
        "outputId": "755fbd8d-0fa5-4f22-fb72-6cb4a2344241",
        "colab": {
          "base_uri": "https://localhost:8080/",
          "height": 34
        }
      },
      "source": [
        "#make test and train columns in same order if they are in different order\n",
        "test = test[train.columns.values[:-1]]\n",
        "test.shape"
      ],
      "execution_count": 69,
      "outputs": [
        {
          "output_type": "execute_result",
          "data": {
            "text/plain": [
              "(367, 11)"
            ]
          },
          "metadata": {
            "tags": []
          },
          "execution_count": 69
        }
      ]
    },
    {
      "cell_type": "code",
      "metadata": {
        "id": "hftOcLmQQnhX",
        "colab_type": "code",
        "outputId": "d35ae398-2370-4c23-8888-8773e64da911",
        "colab": {
          "base_uri": "https://localhost:8080/",
          "height": 111
        }
      },
      "source": [
        "test.head(2)"
      ],
      "execution_count": 70,
      "outputs": [
        {
          "output_type": "execute_result",
          "data": {
            "text/html": [
              "<div>\n",
              "<style scoped>\n",
              "    .dataframe tbody tr th:only-of-type {\n",
              "        vertical-align: middle;\n",
              "    }\n",
              "\n",
              "    .dataframe tbody tr th {\n",
              "        vertical-align: top;\n",
              "    }\n",
              "\n",
              "    .dataframe thead th {\n",
              "        text-align: right;\n",
              "    }\n",
              "</style>\n",
              "<table border=\"1\" class=\"dataframe\">\n",
              "  <thead>\n",
              "    <tr style=\"text-align: right;\">\n",
              "      <th></th>\n",
              "      <th>Gender</th>\n",
              "      <th>Married</th>\n",
              "      <th>Dependents</th>\n",
              "      <th>Education</th>\n",
              "      <th>Self_Employed</th>\n",
              "      <th>ApplicantIncome</th>\n",
              "      <th>CoapplicantIncome</th>\n",
              "      <th>LoanAmount</th>\n",
              "      <th>Loan_Amount_Term</th>\n",
              "      <th>Credit_History</th>\n",
              "      <th>Property_Area</th>\n",
              "    </tr>\n",
              "  </thead>\n",
              "  <tbody>\n",
              "    <tr>\n",
              "      <th>0</th>\n",
              "      <td>Male</td>\n",
              "      <td>Yes</td>\n",
              "      <td>0</td>\n",
              "      <td>Graduate</td>\n",
              "      <td>No</td>\n",
              "      <td>5720</td>\n",
              "      <td>0</td>\n",
              "      <td>110.0</td>\n",
              "      <td>360.0</td>\n",
              "      <td>1.0</td>\n",
              "      <td>Urban</td>\n",
              "    </tr>\n",
              "    <tr>\n",
              "      <th>1</th>\n",
              "      <td>Male</td>\n",
              "      <td>Yes</td>\n",
              "      <td>1</td>\n",
              "      <td>Graduate</td>\n",
              "      <td>No</td>\n",
              "      <td>3076</td>\n",
              "      <td>1500</td>\n",
              "      <td>126.0</td>\n",
              "      <td>360.0</td>\n",
              "      <td>1.0</td>\n",
              "      <td>Urban</td>\n",
              "    </tr>\n",
              "  </tbody>\n",
              "</table>\n",
              "</div>"
            ],
            "text/plain": [
              "  Gender Married Dependents  ... Loan_Amount_Term Credit_History  Property_Area\n",
              "0   Male     Yes          0  ...            360.0            1.0          Urban\n",
              "1   Male     Yes          1  ...            360.0            1.0          Urban\n",
              "\n",
              "[2 rows x 11 columns]"
            ]
          },
          "metadata": {
            "tags": []
          },
          "execution_count": 70
        }
      ]
    },
    {
      "cell_type": "code",
      "metadata": {
        "id": "Zt6zThw1mBew",
        "colab_type": "code",
        "outputId": "d86b19af-3e54-4db0-9ba9-066643c88119",
        "colab": {
          "base_uri": "https://localhost:8080/",
          "height": 85
        }
      },
      "source": [
        "train.columns"
      ],
      "execution_count": 71,
      "outputs": [
        {
          "output_type": "execute_result",
          "data": {
            "text/plain": [
              "Index(['Gender', 'Married', 'Dependents', 'Education', 'Self_Employed',\n",
              "       'ApplicantIncome', 'CoapplicantIncome', 'LoanAmount',\n",
              "       'Loan_Amount_Term', 'Credit_History', 'Property_Area', 'Loan_Status'],\n",
              "      dtype='object')"
            ]
          },
          "metadata": {
            "tags": []
          },
          "execution_count": 71
        }
      ]
    },
    {
      "cell_type": "code",
      "metadata": {
        "id": "Icx5Z34AmXrK",
        "colab_type": "code",
        "outputId": "0b9a8750-590f-4afe-ec45-76ab97615a4d",
        "colab": {
          "base_uri": "https://localhost:8080/",
          "height": 68
        }
      },
      "source": [
        "train_null_columns"
      ],
      "execution_count": 72,
      "outputs": [
        {
          "output_type": "execute_result",
          "data": {
            "text/plain": [
              "Index(['Gender', 'Married', 'Dependents', 'Self_Employed', 'LoanAmount',\n",
              "       'Loan_Amount_Term', 'Credit_History'],\n",
              "      dtype='object')"
            ]
          },
          "metadata": {
            "tags": []
          },
          "execution_count": 72
        }
      ]
    },
    {
      "cell_type": "markdown",
      "metadata": {
        "id": "asr92_C9mk7C",
        "colab_type": "text"
      },
      "source": [
        "##Fill Null Values"
      ]
    },
    {
      "cell_type": "markdown",
      "metadata": {
        "id": "rwd0lW0rm6rI",
        "colab_type": "text"
      },
      "source": [
        "###Check which null column directly related to any other column"
      ]
    },
    {
      "cell_type": "markdown",
      "metadata": {
        "id": "NzT6nh6OQ8iD",
        "colab_type": "text"
      },
      "source": [
        "##Visualisation"
      ]
    },
    {
      "cell_type": "code",
      "metadata": {
        "id": "GU6f1lR4pW7A",
        "colab_type": "code",
        "outputId": "61b0c42c-0140-489a-f2c3-50fa2c216f4c",
        "colab": {
          "base_uri": "https://localhost:8080/",
          "height": 68
        }
      },
      "source": [
        "cat_columns = train.select_dtypes(include = 'object').columns\n",
        "cat_columns"
      ],
      "execution_count": 73,
      "outputs": [
        {
          "output_type": "execute_result",
          "data": {
            "text/plain": [
              "Index(['Gender', 'Married', 'Dependents', 'Education', 'Self_Employed',\n",
              "       'Property_Area', 'Loan_Status'],\n",
              "      dtype='object')"
            ]
          },
          "metadata": {
            "tags": []
          },
          "execution_count": 73
        }
      ]
    },
    {
      "cell_type": "code",
      "metadata": {
        "id": "_Hpa_7EwqiWn",
        "colab_type": "code",
        "outputId": "194f945d-a26b-4057-94bf-4912bd9f00ff",
        "colab": {
          "base_uri": "https://localhost:8080/",
          "height": 68
        }
      },
      "source": [
        "cat_columns"
      ],
      "execution_count": 74,
      "outputs": [
        {
          "output_type": "execute_result",
          "data": {
            "text/plain": [
              "Index(['Gender', 'Married', 'Dependents', 'Education', 'Self_Employed',\n",
              "       'Property_Area', 'Loan_Status'],\n",
              "      dtype='object')"
            ]
          },
          "metadata": {
            "tags": []
          },
          "execution_count": 74
        }
      ]
    },
    {
      "cell_type": "code",
      "metadata": {
        "id": "4enhSbZ_uv3W",
        "colab_type": "code",
        "colab": {}
      },
      "source": [
        "def plot_text(text, figsize = (20, 1.5)):\n",
        "  plt.figure(figsize = figsize)\n",
        "  plt.text(.5, 0.5, s = text, size= 40,\n",
        "           ha=\"center\", va=\"center\",\n",
        "           bbox=dict(boxstyle=\"round\",\n",
        "                     facecolor = 'blue',\n",
        "                     ec=(1., 0.5, 0.5),\n",
        "                     fc=(1., 0.8, 0.8),\n",
        "                     ))\n",
        "  sns.despine(left = True, bottom = True)\n",
        "  plt.xticks([])\n",
        "  plt.yticks([])\n",
        "  plt.show()"
      ],
      "execution_count": 0,
      "outputs": []
    },
    {
      "cell_type": "code",
      "metadata": {
        "id": "TWvaMNemgbxc",
        "colab_type": "code",
        "outputId": "67dfca32-8dee-4929-fcc5-30a540320fe5",
        "colab": {
          "base_uri": "https://localhost:8080/",
          "height": 85
        }
      },
      "source": [
        "train.columns"
      ],
      "execution_count": 76,
      "outputs": [
        {
          "output_type": "execute_result",
          "data": {
            "text/plain": [
              "Index(['Gender', 'Married', 'Dependents', 'Education', 'Self_Employed',\n",
              "       'ApplicantIncome', 'CoapplicantIncome', 'LoanAmount',\n",
              "       'Loan_Amount_Term', 'Credit_History', 'Property_Area', 'Loan_Status'],\n",
              "      dtype='object')"
            ]
          },
          "metadata": {
            "tags": []
          },
          "execution_count": 76
        }
      ]
    },
    {
      "cell_type": "markdown",
      "metadata": {
        "id": "iwrBhyaLzMp9",
        "colab_type": "text"
      },
      "source": [
        "for i in cat_columns:\n",
        "  plot_text(i)\n",
        "  n = 1\n",
        "  l = cat_columns.tolist()\n",
        "  column = i\n",
        "  l.remove(column)\n",
        "  plt.figure(figsize = (20, 15))\n",
        "  for i in l:\n",
        "    plt.subplot(3, 3, n)\n",
        "    sns.countplot(x = i, hue = column, data = train.dropna())\n",
        "    n += 1\n",
        "  plt.show()\n"
      ]
    },
    {
      "cell_type": "code",
      "metadata": {
        "id": "4OHwrAIBh5CP",
        "colab_type": "code",
        "outputId": "872d811e-bd42-4652-a155-17ad57aab384",
        "colab": {
          "base_uri": "https://localhost:8080/",
          "height": 85
        }
      },
      "source": [
        "train.columns"
      ],
      "execution_count": 77,
      "outputs": [
        {
          "output_type": "execute_result",
          "data": {
            "text/plain": [
              "Index(['Gender', 'Married', 'Dependents', 'Education', 'Self_Employed',\n",
              "       'ApplicantIncome', 'CoapplicantIncome', 'LoanAmount',\n",
              "       'Loan_Amount_Term', 'Credit_History', 'Property_Area', 'Loan_Status'],\n",
              "      dtype='object')"
            ]
          },
          "metadata": {
            "tags": []
          },
          "execution_count": 77
        }
      ]
    },
    {
      "cell_type": "markdown",
      "metadata": {
        "id": "JTk4LwJiawm1",
        "colab_type": "text"
      },
      "source": [
        "##fill categorical column's null values with mode"
      ]
    },
    {
      "cell_type": "code",
      "metadata": {
        "id": "bcBOcZJDa8TT",
        "colab_type": "code",
        "outputId": "facf5f6e-b41d-4680-8fdf-e88003ec4791",
        "colab": {
          "base_uri": "https://localhost:8080/",
          "height": 34
        }
      },
      "source": [
        "cat_null_columns = train[cat_columns].isnull().any()\n",
        "cat_null_columns = cat_null_columns[cat_null_columns == True].keys()\n",
        "cat_null_columns"
      ],
      "execution_count": 78,
      "outputs": [
        {
          "output_type": "execute_result",
          "data": {
            "text/plain": [
              "Index(['Gender', 'Married', 'Dependents', 'Self_Employed'], dtype='object')"
            ]
          },
          "metadata": {
            "tags": []
          },
          "execution_count": 78
        }
      ]
    },
    {
      "cell_type": "code",
      "metadata": {
        "id": "ndqPKazta10i",
        "colab_type": "code",
        "colab": {}
      },
      "source": [
        "#Credit_History is also a categorical column but it's is in numeric form\n",
        "for i in cat_null_columns.tolist() + ['Credit_History']:\n",
        "  mode = train[i].mode()[0]\n",
        "  train[i].fillna(mode, inplace = True)\n",
        "  test[i].fillna(mode, inplace = True)"
      ],
      "execution_count": 0,
      "outputs": []
    },
    {
      "cell_type": "code",
      "metadata": {
        "id": "HhCT35njY0TR",
        "colab_type": "code",
        "outputId": "35884933-c89a-48b0-c87f-453acbc7c14a",
        "colab": {
          "base_uri": "https://localhost:8080/",
          "height": 102
        }
      },
      "source": [
        "train.isnull().sum().sort_values(ascending = False)[:4]"
      ],
      "execution_count": 80,
      "outputs": [
        {
          "output_type": "execute_result",
          "data": {
            "text/plain": [
              "LoanAmount          22\n",
              "Loan_Amount_Term    14\n",
              "Loan_Status          0\n",
              "Property_Area        0\n",
              "dtype: int64"
            ]
          },
          "metadata": {
            "tags": []
          },
          "execution_count": 80
        }
      ]
    },
    {
      "cell_type": "code",
      "metadata": {
        "id": "zeEDQ6OiZPwU",
        "colab_type": "code",
        "outputId": "5c2f87d8-960d-405f-8419-4861b5c889a2",
        "colab": {
          "base_uri": "https://localhost:8080/",
          "height": 85
        }
      },
      "source": [
        "test.isnull().sum().sort_values(ascending = False)[:3]"
      ],
      "execution_count": 81,
      "outputs": [
        {
          "output_type": "execute_result",
          "data": {
            "text/plain": [
              "Loan_Amount_Term    6\n",
              "LoanAmount          5\n",
              "Property_Area       0\n",
              "dtype: int64"
            ]
          },
          "metadata": {
            "tags": []
          },
          "execution_count": 81
        }
      ]
    },
    {
      "cell_type": "code",
      "metadata": {
        "id": "dXEs0l7jXe-V",
        "colab_type": "code",
        "outputId": "e649887c-007c-450d-dbb9-4db5aeec3787",
        "colab": {
          "base_uri": "https://localhost:8080/",
          "height": 34
        }
      },
      "source": [
        "num_columns = train.select_dtypes(exclude = 'object')\n",
        "num_null_columns = num_columns.isnull().any()\n",
        "num_null_columns = num_null_columns[num_null_columns == True].keys()\n",
        "num_null_columns"
      ],
      "execution_count": 82,
      "outputs": [
        {
          "output_type": "execute_result",
          "data": {
            "text/plain": [
              "Index(['LoanAmount', 'Loan_Amount_Term'], dtype='object')"
            ]
          },
          "metadata": {
            "tags": []
          },
          "execution_count": 82
        }
      ]
    },
    {
      "cell_type": "markdown",
      "metadata": {
        "id": "TJQXK1P9Op4q",
        "colab_type": "text"
      },
      "source": [
        "###fill numeric columns with median"
      ]
    },
    {
      "cell_type": "code",
      "metadata": {
        "id": "351tRmYJXdag",
        "colab_type": "code",
        "colab": {}
      },
      "source": [
        "for i in num_null_columns:\n",
        "  median = train[i].median()\n",
        "  train[i].fillna(median, inplace = True)\n",
        "  test[i].fillna(median, inplace = True)"
      ],
      "execution_count": 0,
      "outputs": []
    },
    {
      "cell_type": "code",
      "metadata": {
        "id": "QoRzz_OpZ1KV",
        "colab_type": "code",
        "outputId": "04b610c2-74bd-4d8b-e097-10e70c8c2dcc",
        "colab": {
          "base_uri": "https://localhost:8080/",
          "height": 68
        }
      },
      "source": [
        "train.isnull().sum().sort_values(ascending = False)[:2]"
      ],
      "execution_count": 84,
      "outputs": [
        {
          "output_type": "execute_result",
          "data": {
            "text/plain": [
              "Loan_Status      0\n",
              "Property_Area    0\n",
              "dtype: int64"
            ]
          },
          "metadata": {
            "tags": []
          },
          "execution_count": 84
        }
      ]
    },
    {
      "cell_type": "code",
      "metadata": {
        "id": "nLtq1vPWZ5Sq",
        "colab_type": "code",
        "outputId": "4e708606-0bf9-4284-83b5-2cde88b00bea",
        "colab": {
          "base_uri": "https://localhost:8080/",
          "height": 68
        }
      },
      "source": [
        "test.isnull().sum().sort_values(ascending = False)[:2]"
      ],
      "execution_count": 85,
      "outputs": [
        {
          "output_type": "execute_result",
          "data": {
            "text/plain": [
              "Property_Area     0\n",
              "Credit_History    0\n",
              "dtype: int64"
            ]
          },
          "metadata": {
            "tags": []
          },
          "execution_count": 85
        }
      ]
    },
    {
      "cell_type": "markdown",
      "metadata": {
        "id": "zgaDvsb9aHEM",
        "colab_type": "text"
      },
      "source": [
        "##One Hot Encode"
      ]
    },
    {
      "cell_type": "code",
      "metadata": {
        "id": "fnIERMRpcxsY",
        "colab_type": "code",
        "outputId": "87e049c7-97c3-49f7-8720-c12747133c3a",
        "colab": {
          "base_uri": "https://localhost:8080/",
          "height": 131
        }
      },
      "source": [
        "train.head(2)"
      ],
      "execution_count": 86,
      "outputs": [
        {
          "output_type": "execute_result",
          "data": {
            "text/html": [
              "<div>\n",
              "<style scoped>\n",
              "    .dataframe tbody tr th:only-of-type {\n",
              "        vertical-align: middle;\n",
              "    }\n",
              "\n",
              "    .dataframe tbody tr th {\n",
              "        vertical-align: top;\n",
              "    }\n",
              "\n",
              "    .dataframe thead th {\n",
              "        text-align: right;\n",
              "    }\n",
              "</style>\n",
              "<table border=\"1\" class=\"dataframe\">\n",
              "  <thead>\n",
              "    <tr style=\"text-align: right;\">\n",
              "      <th></th>\n",
              "      <th>Gender</th>\n",
              "      <th>Married</th>\n",
              "      <th>Dependents</th>\n",
              "      <th>Education</th>\n",
              "      <th>Self_Employed</th>\n",
              "      <th>ApplicantIncome</th>\n",
              "      <th>CoapplicantIncome</th>\n",
              "      <th>LoanAmount</th>\n",
              "      <th>Loan_Amount_Term</th>\n",
              "      <th>Credit_History</th>\n",
              "      <th>Property_Area</th>\n",
              "      <th>Loan_Status</th>\n",
              "    </tr>\n",
              "  </thead>\n",
              "  <tbody>\n",
              "    <tr>\n",
              "      <th>0</th>\n",
              "      <td>Male</td>\n",
              "      <td>No</td>\n",
              "      <td>0</td>\n",
              "      <td>Graduate</td>\n",
              "      <td>No</td>\n",
              "      <td>5849</td>\n",
              "      <td>0.0</td>\n",
              "      <td>128.0</td>\n",
              "      <td>360.0</td>\n",
              "      <td>1.0</td>\n",
              "      <td>Urban</td>\n",
              "      <td>Y</td>\n",
              "    </tr>\n",
              "    <tr>\n",
              "      <th>1</th>\n",
              "      <td>Male</td>\n",
              "      <td>Yes</td>\n",
              "      <td>1</td>\n",
              "      <td>Graduate</td>\n",
              "      <td>No</td>\n",
              "      <td>4583</td>\n",
              "      <td>1508.0</td>\n",
              "      <td>128.0</td>\n",
              "      <td>360.0</td>\n",
              "      <td>1.0</td>\n",
              "      <td>Rural</td>\n",
              "      <td>N</td>\n",
              "    </tr>\n",
              "  </tbody>\n",
              "</table>\n",
              "</div>"
            ],
            "text/plain": [
              "  Gender Married Dependents  ... Credit_History Property_Area  Loan_Status\n",
              "0   Male      No          0  ...            1.0         Urban            Y\n",
              "1   Male     Yes          1  ...            1.0         Rural            N\n",
              "\n",
              "[2 rows x 12 columns]"
            ]
          },
          "metadata": {
            "tags": []
          },
          "execution_count": 86
        }
      ]
    },
    {
      "cell_type": "code",
      "metadata": {
        "id": "UR8IZzlUc1FZ",
        "colab_type": "code",
        "outputId": "2eef4fb7-adc0-489e-872b-89bd5497ca9e",
        "colab": {
          "base_uri": "https://localhost:8080/",
          "height": 34
        }
      },
      "source": [
        "y = train.Loan_Status\n",
        "X = train.drop('Loan_Status', axis = 1)\n",
        "X.shape, y.shape"
      ],
      "execution_count": 87,
      "outputs": [
        {
          "output_type": "execute_result",
          "data": {
            "text/plain": [
              "((614, 11), (614,))"
            ]
          },
          "metadata": {
            "tags": []
          },
          "execution_count": 87
        }
      ]
    },
    {
      "cell_type": "code",
      "metadata": {
        "id": "SkzJmgcpaM2q",
        "colab_type": "code",
        "outputId": "07621866-d3a6-4d2f-8fb2-1607b034694a",
        "colab": {
          "base_uri": "https://localhost:8080/",
          "height": 34
        }
      },
      "source": [
        "ohe = MyDummyVariable()\n",
        "X = ohe.fit_transform(X)\n",
        "X.shape"
      ],
      "execution_count": 88,
      "outputs": [
        {
          "output_type": "execute_result",
          "data": {
            "text/plain": [
              "(614, 14)"
            ]
          },
          "metadata": {
            "tags": []
          },
          "execution_count": 88
        }
      ]
    },
    {
      "cell_type": "code",
      "metadata": {
        "id": "v6n4ci9UdHnU",
        "colab_type": "code",
        "outputId": "e32de14e-8576-4f78-862f-8eeff60e94bd",
        "colab": {
          "base_uri": "https://localhost:8080/",
          "height": 148
        }
      },
      "source": [
        "X.head(2)"
      ],
      "execution_count": 89,
      "outputs": [
        {
          "output_type": "execute_result",
          "data": {
            "text/html": [
              "<div>\n",
              "<style scoped>\n",
              "    .dataframe tbody tr th:only-of-type {\n",
              "        vertical-align: middle;\n",
              "    }\n",
              "\n",
              "    .dataframe tbody tr th {\n",
              "        vertical-align: top;\n",
              "    }\n",
              "\n",
              "    .dataframe thead th {\n",
              "        text-align: right;\n",
              "    }\n",
              "</style>\n",
              "<table border=\"1\" class=\"dataframe\">\n",
              "  <thead>\n",
              "    <tr style=\"text-align: right;\">\n",
              "      <th></th>\n",
              "      <th>Gender_Male</th>\n",
              "      <th>Married_Yes</th>\n",
              "      <th>Dependents_1</th>\n",
              "      <th>Dependents_2</th>\n",
              "      <th>Dependents_3+</th>\n",
              "      <th>Education_Not Graduate</th>\n",
              "      <th>Self_Employed_Yes</th>\n",
              "      <th>Property_Area_Semiurban</th>\n",
              "      <th>Property_Area_Urban</th>\n",
              "      <th>ApplicantIncome</th>\n",
              "      <th>CoapplicantIncome</th>\n",
              "      <th>LoanAmount</th>\n",
              "      <th>Loan_Amount_Term</th>\n",
              "      <th>Credit_History</th>\n",
              "    </tr>\n",
              "  </thead>\n",
              "  <tbody>\n",
              "    <tr>\n",
              "      <th>0</th>\n",
              "      <td>1.0</td>\n",
              "      <td>0.0</td>\n",
              "      <td>0.0</td>\n",
              "      <td>0.0</td>\n",
              "      <td>0.0</td>\n",
              "      <td>0.0</td>\n",
              "      <td>0.0</td>\n",
              "      <td>0.0</td>\n",
              "      <td>1.0</td>\n",
              "      <td>5849.0</td>\n",
              "      <td>0.0</td>\n",
              "      <td>128.0</td>\n",
              "      <td>360.0</td>\n",
              "      <td>1.0</td>\n",
              "    </tr>\n",
              "    <tr>\n",
              "      <th>1</th>\n",
              "      <td>1.0</td>\n",
              "      <td>1.0</td>\n",
              "      <td>1.0</td>\n",
              "      <td>0.0</td>\n",
              "      <td>0.0</td>\n",
              "      <td>0.0</td>\n",
              "      <td>0.0</td>\n",
              "      <td>0.0</td>\n",
              "      <td>0.0</td>\n",
              "      <td>4583.0</td>\n",
              "      <td>1508.0</td>\n",
              "      <td>128.0</td>\n",
              "      <td>360.0</td>\n",
              "      <td>1.0</td>\n",
              "    </tr>\n",
              "  </tbody>\n",
              "</table>\n",
              "</div>"
            ],
            "text/plain": [
              "   Gender_Male  Married_Yes  ...  Loan_Amount_Term  Credit_History\n",
              "0          1.0          0.0  ...             360.0             1.0\n",
              "1          1.0          1.0  ...             360.0             1.0\n",
              "\n",
              "[2 rows x 14 columns]"
            ]
          },
          "metadata": {
            "tags": []
          },
          "execution_count": 89
        }
      ]
    },
    {
      "cell_type": "code",
      "metadata": {
        "id": "Qv3Ex38kdJkZ",
        "colab_type": "code",
        "outputId": "85811dcd-b515-48d9-97ad-f61565724083",
        "colab": {
          "base_uri": "https://localhost:8080/",
          "height": 80
        }
      },
      "source": [
        "test.head(1)"
      ],
      "execution_count": 90,
      "outputs": [
        {
          "output_type": "execute_result",
          "data": {
            "text/html": [
              "<div>\n",
              "<style scoped>\n",
              "    .dataframe tbody tr th:only-of-type {\n",
              "        vertical-align: middle;\n",
              "    }\n",
              "\n",
              "    .dataframe tbody tr th {\n",
              "        vertical-align: top;\n",
              "    }\n",
              "\n",
              "    .dataframe thead th {\n",
              "        text-align: right;\n",
              "    }\n",
              "</style>\n",
              "<table border=\"1\" class=\"dataframe\">\n",
              "  <thead>\n",
              "    <tr style=\"text-align: right;\">\n",
              "      <th></th>\n",
              "      <th>Gender</th>\n",
              "      <th>Married</th>\n",
              "      <th>Dependents</th>\n",
              "      <th>Education</th>\n",
              "      <th>Self_Employed</th>\n",
              "      <th>ApplicantIncome</th>\n",
              "      <th>CoapplicantIncome</th>\n",
              "      <th>LoanAmount</th>\n",
              "      <th>Loan_Amount_Term</th>\n",
              "      <th>Credit_History</th>\n",
              "      <th>Property_Area</th>\n",
              "    </tr>\n",
              "  </thead>\n",
              "  <tbody>\n",
              "    <tr>\n",
              "      <th>0</th>\n",
              "      <td>Male</td>\n",
              "      <td>Yes</td>\n",
              "      <td>0</td>\n",
              "      <td>Graduate</td>\n",
              "      <td>No</td>\n",
              "      <td>5720</td>\n",
              "      <td>0</td>\n",
              "      <td>110.0</td>\n",
              "      <td>360.0</td>\n",
              "      <td>1.0</td>\n",
              "      <td>Urban</td>\n",
              "    </tr>\n",
              "  </tbody>\n",
              "</table>\n",
              "</div>"
            ],
            "text/plain": [
              "  Gender Married Dependents  ... Loan_Amount_Term Credit_History  Property_Area\n",
              "0   Male     Yes          0  ...            360.0            1.0          Urban\n",
              "\n",
              "[1 rows x 11 columns]"
            ]
          },
          "metadata": {
            "tags": []
          },
          "execution_count": 90
        }
      ]
    },
    {
      "cell_type": "code",
      "metadata": {
        "id": "7m4HUI-1dRxg",
        "colab_type": "code",
        "outputId": "155710f1-2de8-4eef-d65e-bce77c8be960",
        "colab": {
          "base_uri": "https://localhost:8080/",
          "height": 34
        }
      },
      "source": [
        "test = ohe.transform(test)\n",
        "test.shape"
      ],
      "execution_count": 91,
      "outputs": [
        {
          "output_type": "execute_result",
          "data": {
            "text/plain": [
              "(367, 14)"
            ]
          },
          "metadata": {
            "tags": []
          },
          "execution_count": 91
        }
      ]
    },
    {
      "cell_type": "markdown",
      "metadata": {
        "id": "2g5J6RJmmoLI",
        "colab_type": "text"
      },
      "source": [
        "##Scaling"
      ]
    },
    {
      "cell_type": "code",
      "metadata": {
        "id": "iJEFrXuemt5-",
        "colab_type": "code",
        "colab": {}
      },
      "source": [
        "from sklearn.preprocessing import StandardScaler"
      ],
      "execution_count": 0,
      "outputs": []
    },
    {
      "cell_type": "code",
      "metadata": {
        "id": "eUi5qY5XmxCl",
        "colab_type": "code",
        "colab": {}
      },
      "source": [
        "sc = StandardScaler()\n",
        "X_sc = sc.fit_transform(X)"
      ],
      "execution_count": 0,
      "outputs": []
    },
    {
      "cell_type": "code",
      "metadata": {
        "id": "huj0OHTUoyKa",
        "colab_type": "code",
        "outputId": "fb2c3d23-a06d-4aa4-9a20-9cff88b257d2",
        "colab": {
          "base_uri": "https://localhost:8080/",
          "height": 119
        }
      },
      "source": [
        "y[:5]"
      ],
      "execution_count": 104,
      "outputs": [
        {
          "output_type": "execute_result",
          "data": {
            "text/plain": [
              "0    Y\n",
              "1    N\n",
              "2    Y\n",
              "3    Y\n",
              "4    Y\n",
              "Name: Loan_Status, dtype: object"
            ]
          },
          "metadata": {
            "tags": []
          },
          "execution_count": 104
        }
      ]
    },
    {
      "cell_type": "code",
      "metadata": {
        "id": "gXT5GvCpouD9",
        "colab_type": "code",
        "colab": {}
      },
      "source": [
        "y.replace(['N', 'Y'], [0, 1], inplace = True)"
      ],
      "execution_count": 0,
      "outputs": []
    },
    {
      "cell_type": "markdown",
      "metadata": {
        "id": "jFM9YDHLZ-S-",
        "colab_type": "text"
      },
      "source": [
        "#Make Model"
      ]
    },
    {
      "cell_type": "markdown",
      "metadata": {
        "id": "H4uP1FPidZKL",
        "colab_type": "text"
      },
      "source": [
        "##Check best classifier"
      ]
    },
    {
      "cell_type": "code",
      "metadata": {
        "id": "IU2V9HBlbdrr",
        "colab_type": "code",
        "colab": {}
      },
      "source": [
        "from imblearn.over_sampling import SMOTE, ADASYN"
      ],
      "execution_count": 0,
      "outputs": []
    },
    {
      "cell_type": "code",
      "metadata": {
        "id": "mLgczVIcbkpo",
        "colab_type": "code",
        "colab": {}
      },
      "source": [
        "sm = SMOTE(k_neighbors = 5, random_state = 0)\n",
        "ad = ADASYN(n_neighbors = 5, random_state = 0)"
      ],
      "execution_count": 0,
      "outputs": []
    },
    {
      "cell_type": "code",
      "metadata": {
        "id": "Q8wPpC81dwbP",
        "colab_type": "code",
        "colab": {}
      },
      "source": [
        "import warnings\n",
        "warnings.filterwarnings(action = 'ignore')"
      ],
      "execution_count": 0,
      "outputs": []
    },
    {
      "cell_type": "code",
      "metadata": {
        "id": "Dnm1pI8pdeiR",
        "colab_type": "code",
        "outputId": "92cdf160-f836-4322-ede2-70468a245f35",
        "colab": {
          "base_uri": "https://localhost:8080/",
          "height": 550
        }
      },
      "source": [
        "plt.figure(figsize = (10, 5))\n",
        "choose_best_classifier(X, y)"
      ],
      "execution_count": 0,
      "outputs": [
        {
          "output_type": "stream",
          "text": [
            "PCA with LR: 0.687335 (0.029224)\n",
            "LR: 0.807985 (0.038146)\n",
            "LDA: 0.807985 (0.038146)\n",
            "KNN: 0.617292 (0.045222)\n",
            "DTree: 0.731438 (0.054225)\n",
            "RandomForest: 0.785061 (0.038688)\n",
            "NB: 0.790058 (0.038596)\n",
            "SVM: 0.688974 (0.032301)\n",
            "Xgboost: 0.765574 (0.042809)\n",
            " Done"
          ],
          "name": "stdout"
        },
        {
          "output_type": "display_data",
          "data": {
            "image/png": "[encoded data removed]",
            "text/plain": [
              "<Figure size 720x360 with 1 Axes>"
            ]
          },
          "metadata": {
            "tags": []
          }
        }
      ]
    },
    {
      "cell_type": "markdown",
      "metadata": {
        "id": "ilDXpTveb766",
        "colab_type": "text"
      },
      "source": [
        "##SMOTE"
      ]
    },
    {
      "cell_type": "code",
      "metadata": {
        "id": "MNEcq_lPcFgy",
        "colab_type": "code",
        "outputId": "3ab65f6b-3190-47bd-b099-4764a8082abc",
        "colab": {
          "base_uri": "https://localhost:8080/",
          "height": 550
        }
      },
      "source": [
        "sm = SMOTE(k_neighbors = 5, random_state = 0 )\n",
        "X_sm, y_sm = sm.fit_resample(X, y)\n",
        "plt.figure(figsize = (10, 5))\n",
        "choose_best_classifier(X_sm, y_sm)"
      ],
      "execution_count": 0,
      "outputs": [
        {
          "output_type": "stream",
          "text": [
            "PCA with LR: 0.263936 (0.137470)\n",
            "LR: 0.745210 (0.073988)\n",
            "LDA: 0.740448 (0.088251)\n",
            "KNN: 0.612493 (0.056079)\n",
            "DTree: 0.777591 (0.083909)\n",
            "RandomForest: 0.832017 (0.073082)\n",
            "NB: 0.739132 (0.092335)\n",
            "SVM: 0.264006 (0.119129)\n",
            "Xgboost: 0.832059 (0.082710)\n",
            " Done"
          ],
          "name": "stdout"
        },
        {
          "output_type": "display_data",
          "data": {
            "image/png": "[encoded data removed]",
            "text/plain": [
              "<Figure size 720x360 with 1 Axes>"
            ]
          },
          "metadata": {
            "tags": []
          }
        }
      ]
    },
    {
      "cell_type": "markdown",
      "metadata": {
        "id": "vZS2tLTmckMJ",
        "colab_type": "text"
      },
      "source": [
        "##ADASYN"
      ]
    },
    {
      "cell_type": "code",
      "metadata": {
        "id": "KYXEUIPscoE2",
        "colab_type": "code",
        "outputId": "ae1ce139-3581-4150-faf4-dc3953e1cf0d",
        "colab": {
          "base_uri": "https://localhost:8080/",
          "height": 550
        }
      },
      "source": [
        "ad = ADASYN(n_neighbors = 5, random_state = 0)\n",
        "X_ad, y_ad = ad.fit_resample(X, y)\n",
        "plt.figure(figsize = (10, 5))\n",
        "choose_best_classifier(X_ad, y_ad)"
      ],
      "execution_count": 0,
      "outputs": [
        {
          "output_type": "stream",
          "text": [
            "PCA with LR: 0.255106 (0.135000)\n",
            "LR: 0.736876 (0.078757)\n",
            "LDA: 0.737980 (0.090573)\n",
            "KNN: 0.574627 (0.035229)\n",
            "DTree: 0.787722 (0.077368)\n",
            "RandomForest: 0.840261 (0.073358)\n",
            "NB: 0.733032 (0.113512)\n",
            "SVM: 0.283821 (0.150313)\n",
            "Xgboost: 0.833133 (0.079785)\n",
            " Done"
          ],
          "name": "stdout"
        },
        {
          "output_type": "display_data",
          "data": {
            "image/png": "[encoded data removed]",
            "text/plain": [
              "<Figure size 720x360 with 1 Axes>"
            ]
          },
          "metadata": {
            "tags": []
          }
        }
      ]
    },
    {
      "cell_type": "markdown",
      "metadata": {
        "id": "HcBJ21tldtgi",
        "colab_type": "text"
      },
      "source": [
        "There is a lot of class imbalanced in our dataset so we need to apply oversampling in our data so for SMOTE and ADASYN data RandomForest and XGBoost performs well"
      ]
    },
    {
      "cell_type": "code",
      "metadata": {
        "id": "0CEx25UNeDB1",
        "colab_type": "code",
        "colab": {}
      },
      "source": [
        "from sklearn.ensemble import RandomForestClassifier"
      ],
      "execution_count": 0,
      "outputs": []
    },
    {
      "cell_type": "code",
      "metadata": {
        "id": "h-6WFVWpeY3Z",
        "colab_type": "code",
        "colab": {}
      },
      "source": [
        "from xgboost import XGBClassifier"
      ],
      "execution_count": 0,
      "outputs": []
    },
    {
      "cell_type": "markdown",
      "metadata": {
        "id": "DUS-DtDNdsa4",
        "colab_type": "text"
      },
      "source": [
        "##Model for SMOTE"
      ]
    },
    {
      "cell_type": "code",
      "metadata": {
        "id": "hkGmQh_QoMNg",
        "colab_type": "code",
        "colab": {}
      },
      "source": [
        "from sklearn.metrics import f1_score"
      ],
      "execution_count": 0,
      "outputs": []
    },
    {
      "cell_type": "code",
      "metadata": {
        "id": "mrcLGB8juX_F",
        "colab_type": "code",
        "colab": {}
      },
      "source": [
        "from sklearn.metrics import recall_score"
      ],
      "execution_count": 0,
      "outputs": []
    },
    {
      "cell_type": "code",
      "metadata": {
        "id": "_WT41PQIehB4",
        "colab_type": "code",
        "colab": {}
      },
      "source": [
        "from sklearn.model_selection import train_test_split\n",
        "f1_scores = []\n",
        "recall_scores = []\n",
        "for i in range(1, 30):\n",
        "  sm = SMOTE(k_neighbors = i, random_state = 0)\n",
        "  X_sm, y_sm = sm.fit_resample(X_sc, y)\n",
        "  X_train, X_test, y_train, y_test = train_test_split(X_sm, y_sm, test_size = .2, random_state = 0)\n",
        "  X_train.shape, X_test.shape, y_train.shape, y_test.shape\n",
        "  model = RandomForestClassifier(random_state = 0)\n",
        "  from sklearn.metrics import f1_score, recall_score\n",
        "  model.fit(X_train, y_train)\n",
        "  y_pred = model.predict(X_test)\n",
        "  f1_score = f1_score(y_test, y_pred)\n",
        "  f1_scores.append(f1_score)\n",
        "  recall_score = recall_score(y_test, y_pred)\n",
        "  recall_scores.append(recall_score)"
      ],
      "execution_count": 0,
      "outputs": []
    },
    {
      "cell_type": "code",
      "metadata": {
        "id": "FwmrxW8Po-vZ",
        "colab_type": "code",
        "outputId": "e781b4b0-5acd-4458-989a-0b8ee3d29295",
        "colab": {
          "base_uri": "https://localhost:8080/",
          "height": 323
        }
      },
      "source": [
        "plt.figure(figsize = (7, 5))\n",
        "plt.plot(f1_scores, c = 'r', label = 'f1')\n",
        "plt.plot(recall_scores, c = 'g', label = 'recall')\n",
        "plt.xticks(range(1, 30))\n",
        "plt.grid()\n",
        "plt.legend()\n",
        "plt.show()"
      ],
      "execution_count": 0,
      "outputs": [
        {
          "output_type": "display_data",
          "data": {
            "image/png": "[encoded data removed]",
            "text/plain": [
              "<Figure size 504x360 with 1 Axes>"
            ]
          },
          "metadata": {
            "tags": []
          }
        }
      ]
    },
    {
      "cell_type": "code",
      "metadata": {
        "id": "Y8wmNDFnfzz9",
        "colab_type": "code",
        "colab": {}
      },
      "source": [
        "from sklearn.model_selection import GridSearchCV"
      ],
      "execution_count": 0,
      "outputs": []
    },
    {
      "cell_type": "code",
      "metadata": {
        "id": "N1ry6F8rpez2",
        "colab_type": "code",
        "colab": {}
      },
      "source": [
        "sm = SMOTE(k_neighbors = 22, random_state = 0)\n",
        "X_sm , y_sm = sm.fit_resample(X_sc, y)"
      ],
      "execution_count": 0,
      "outputs": []
    },
    {
      "cell_type": "code",
      "metadata": {
        "id": "YlEDE7hyp8yO",
        "colab_type": "code",
        "colab": {}
      },
      "source": [
        "X_train, X_test, y_train, y_test = train_test_split(X_sm, y_sm, test_size = 0.2, random_state = 0)"
      ],
      "execution_count": 0,
      "outputs": []
    },
    {
      "cell_type": "code",
      "metadata": {
        "id": "mBuXvr69qUKl",
        "colab_type": "code",
        "outputId": "5eac0cd3-e01c-40fd-f15a-f37f65125fd6",
        "colab": {
          "base_uri": "https://localhost:8080/",
          "height": 595
        }
      },
      "source": [
        "model = RandomForestClassifier(random_state = 0)\n",
        "print_model_results(X_train, X_test, y_train, y_test, model, extra_name = 'smote_25')"
      ],
      "execution_count": 0,
      "outputs": [
        {
          "output_type": "stream",
          "text": [
            " Train score is 0.9866666666666667\n",
            "\n",
            "\n",
            "Test score is 0.7869822485207101\n",
            "\n",
            "\n",
            "\n",
            "Train confusion matrix is \n",
            " [[332   4]\n",
            " [  5 334]]\n",
            "\n",
            "Test confusion matrix is \n",
            " [[59 27]\n",
            " [ 9 74]]\n",
            "\n",
            "\n",
            "\n",
            "Test Set classification report is \n",
            "               precision    recall  f1-score   support\n",
            "\n",
            "           0       0.87      0.69      0.77        86\n",
            "           1       0.73      0.89      0.80        83\n",
            "\n",
            "    accuracy                           0.79       169\n",
            "   macro avg       0.80      0.79      0.79       169\n",
            "weighted avg       0.80      0.79      0.78       169\n",
            "\n"
          ],
          "name": "stdout"
        },
        {
          "output_type": "execute_result",
          "data": {
            "text/plain": [
              "RandomForestClassifier(bootstrap=True, class_weight=None, criterion='gini',\n",
              "                       max_depth=None, max_features='auto', max_leaf_nodes=None,\n",
              "                       min_impurity_decrease=0.0, min_impurity_split=None,\n",
              "                       min_samples_leaf=1, min_samples_split=2,\n",
              "                       min_weight_fraction_leaf=0.0, n_estimators=10,\n",
              "                       n_jobs=None, oob_score=False, random_state=0, verbose=0,\n",
              "                       warm_start=False)"
            ]
          },
          "metadata": {
            "tags": []
          },
          "execution_count": 187
        }
      ]
    },
    {
      "cell_type": "code",
      "metadata": {
        "id": "V6caRNrswNeG",
        "colab_type": "code",
        "outputId": "11a5c1d1-3e60-4af9-845e-525e87ba05e8",
        "colab": {
          "base_uri": "https://localhost:8080/",
          "height": 34
        }
      },
      "source": [
        "model = RandomForestClassifier(random_state = 0)\n",
        "model.fit(X_train, y_train)\n",
        "y_pred = model.predict(X_test)\n",
        "from sklearn.metrics import f1_score\n",
        "f1_score(y_test, y_pred)"
      ],
      "execution_count": 0,
      "outputs": [
        {
          "output_type": "execute_result",
          "data": {
            "text/plain": [
              "0.8043478260869565"
            ]
          },
          "metadata": {
            "tags": []
          },
          "execution_count": 189
        }
      ]
    },
    {
      "cell_type": "code",
      "metadata": {
        "id": "FNFSULJRt6mW",
        "colab_type": "code",
        "colab": {}
      },
      "source": [
        "from sklearn.metrics import re"
      ],
      "execution_count": 0,
      "outputs": []
    },
    {
      "cell_type": "code",
      "metadata": {
        "id": "NpQjhqcpgI5l",
        "colab_type": "code",
        "colab": {}
      },
      "source": [
        "train_scores = []\n",
        "test_scores = []\n",
        "for i in range(10, 30):\n",
        "  model = RandomForestClassifier(min_samples_split = i, random_state = 0)\n",
        "  model.fit(X_train, y_train)\n",
        "  train_score = model.score(X_train, y_train)\n",
        "  test_score = model.score(X_test, y_test)\n",
        "  train_scores.append(train_score)\n",
        "  test_scores.append(test_score)"
      ],
      "execution_count": 0,
      "outputs": []
    },
    {
      "cell_type": "code",
      "metadata": {
        "id": "0UXvmg8PhBlc",
        "colab_type": "code",
        "outputId": "fb49a94b-fdf3-498d-f99e-17ab39469829",
        "colab": {
          "base_uri": "https://localhost:8080/",
          "height": 323
        }
      },
      "source": [
        "plt.figure(figsize = (10, 5))\n",
        "plt.plot(train_scores, c = 'r', label = 'Train Score')\n",
        "plt.plot(test_scores, c = 'g', label = 'Test Score')\n",
        "plt.legend()\n",
        "plt.grid()\n",
        "plt.show()"
      ],
      "execution_count": 0,
      "outputs": [
        {
          "output_type": "display_data",
          "data": {
            "image/png": "[encoded data removed]",
            "text/plain": [
              "<Figure size 720x360 with 1 Axes>"
            ]
          },
          "metadata": {
            "tags": []
          }
        }
      ]
    },
    {
      "cell_type": "code",
      "metadata": {
        "colab_type": "code",
        "id": "vhu7oTKYjy-W",
        "colab": {}
      },
      "source": [
        "train_scores = []\n",
        "test_scores = []\n",
        "for i in range(10, 70):\n",
        "  model = RandomForestClassifier(max_depth = i, random_state = 0)\n",
        "  model.fit(X_train, y_train)\n",
        "  train_score = model.score(X_train, y_train)\n",
        "  test_score = model.score(X_test, y_test)\n",
        "  train_scores.append(train_score)\n",
        "  test_scores.append(test_score)"
      ],
      "execution_count": 0,
      "outputs": []
    },
    {
      "cell_type": "code",
      "metadata": {
        "colab_type": "code",
        "outputId": "7ce16d37-7bcd-438f-a8b2-3ee55310fd8e",
        "id": "TB6c-9nAjy-j",
        "colab": {
          "base_uri": "https://localhost:8080/",
          "height": 323
        }
      },
      "source": [
        "plt.figure(figsize = (10, 5))\n",
        "plt.plot(train_scores, c = 'r', label = 'Train Score')\n",
        "plt.plot(test_scores, c = 'g', label = 'Test Score')\n",
        "plt.legend()\n",
        "plt.grid()\n",
        "plt.show()"
      ],
      "execution_count": 0,
      "outputs": [
        {
          "output_type": "display_data",
          "data": {
            "image/png": "[encoded data removed]",
            "text/plain": [
              "<Figure size 720x360 with 1 Axes>"
            ]
          },
          "metadata": {
            "tags": []
          }
        }
      ]
    },
    {
      "cell_type": "code",
      "metadata": {
        "id": "JwzoXWRZkSeY",
        "colab_type": "code",
        "colab": {}
      },
      "source": [
        "param_grid = {'min_samples_split': range(10, 50), 'max_depth': range(5, 30), 'random_state':[0]}"
      ],
      "execution_count": 0,
      "outputs": []
    },
    {
      "cell_type": "code",
      "metadata": {
        "id": "-BNK9yEOkp7r",
        "colab_type": "code",
        "colab": {}
      },
      "source": [
        "model = RandomForestClassifier()"
      ],
      "execution_count": 0,
      "outputs": []
    },
    {
      "cell_type": "code",
      "metadata": {
        "id": "8nS6TnyNkn-9",
        "colab_type": "code",
        "outputId": "1f4bdb61-ca20-4fac-80cf-54ae9c8b11da",
        "colab": {
          "base_uri": "https://localhost:8080/",
          "height": 442
        }
      },
      "source": [
        "grid = GridSearchCV(estimator = model, param_grid = param_grid,cv = 2, scoring = 'accuracy', n_jobs = -1, verbose = 5, return_train_score = True)\n",
        "grid.fit(X_sm, y_sm)"
      ],
      "execution_count": 0,
      "outputs": [
        {
          "output_type": "stream",
          "text": [
            "Fitting 2 folds for each of 1000 candidates, totalling 2000 fits\n"
          ],
          "name": "stdout"
        },
        {
          "output_type": "stream",
          "text": [
            "[Parallel(n_jobs=-1)]: Using backend LokyBackend with 2 concurrent workers.\n",
            "[Parallel(n_jobs=-1)]: Done 144 tasks      | elapsed:    1.7s\n",
            "[Parallel(n_jobs=-1)]: Done 900 tasks      | elapsed:   11.6s\n",
            "[Parallel(n_jobs=-1)]: Done 2000 out of 2000 | elapsed:   25.1s finished\n"
          ],
          "name": "stderr"
        },
        {
          "output_type": "execute_result",
          "data": {
            "text/plain": [
              "GridSearchCV(cv=2, error_score='raise-deprecating',\n",
              "             estimator=RandomForestClassifier(bootstrap=True, class_weight=None,\n",
              "                                              criterion='gini', max_depth=None,\n",
              "                                              max_features='auto',\n",
              "                                              max_leaf_nodes=None,\n",
              "                                              min_impurity_decrease=0.0,\n",
              "                                              min_impurity_split=None,\n",
              "                                              min_samples_leaf=1,\n",
              "                                              min_samples_split=2,\n",
              "                                              min_weight_fraction_leaf=0.0,\n",
              "                                              n_estimators='warn', n_jobs=None,\n",
              "                                              oob_score=False,\n",
              "                                              random_state=None, verbose=0,\n",
              "                                              warm_start=False),\n",
              "             iid='warn', n_jobs=-1,\n",
              "             param_grid={'max_depth': range(5, 30),\n",
              "                         'min_samples_split': range(10, 50),\n",
              "                         'random_state': [0]},\n",
              "             pre_dispatch='2*n_jobs', refit=True, return_train_score=True,\n",
              "             scoring='accuracy', verbose=5)"
            ]
          },
          "metadata": {
            "tags": []
          },
          "execution_count": 100
        }
      ]
    },
    {
      "cell_type": "code",
      "metadata": {
        "id": "S9CfCgL4lYNu",
        "colab_type": "code",
        "outputId": "463e1221-5bd6-4239-a6ce-db822313ccd8",
        "colab": {
          "base_uri": "https://localhost:8080/",
          "height": 34
        }
      },
      "source": [
        "grid.best_params_"
      ],
      "execution_count": 0,
      "outputs": [
        {
          "output_type": "execute_result",
          "data": {
            "text/plain": [
              "{'max_depth': 5, 'min_samples_split': 36, 'random_state': 0}"
            ]
          },
          "metadata": {
            "tags": []
          },
          "execution_count": 101
        }
      ]
    },
    {
      "cell_type": "code",
      "metadata": {
        "id": "t1rw0-f2lZqX",
        "colab_type": "code",
        "outputId": "3984476d-1bf0-4ee1-b5e2-d9f417787712",
        "colab": {
          "base_uri": "https://localhost:8080/",
          "height": 595
        }
      },
      "source": [
        "model = RandomForestClassifier(max_depth = 7, min_samples_split = 36, random_state = 0)\n",
        "print_model_results(X_train, X_test, y_train, y_test, model, extra_name = 'tuned_smote')"
      ],
      "execution_count": 0,
      "outputs": [
        {
          "output_type": "stream",
          "text": [
            " Train score is 0.8729446935724963\n",
            "\n",
            "\n",
            "Test score is 0.8035714285714286\n",
            "\n",
            "\n",
            "\n",
            "Train confusion matrix is \n",
            " [[262  77]\n",
            " [  8 322]]\n",
            "\n",
            "Test confusion matrix is \n",
            " [[47 29]\n",
            " [ 4 88]]\n",
            "\n",
            "\n",
            "\n",
            "Test Set classification report is \n",
            "               precision    recall  f1-score   support\n",
            "\n",
            "           N       0.92      0.62      0.74        76\n",
            "           Y       0.75      0.96      0.84        92\n",
            "\n",
            "    accuracy                           0.80       168\n",
            "   macro avg       0.84      0.79      0.79       168\n",
            "weighted avg       0.83      0.80      0.80       168\n",
            "\n"
          ],
          "name": "stdout"
        },
        {
          "output_type": "execute_result",
          "data": {
            "text/plain": [
              "RandomForestClassifier(bootstrap=True, class_weight=None, criterion='gini',\n",
              "                       max_depth=7, max_features='auto', max_leaf_nodes=None,\n",
              "                       min_impurity_decrease=0.0, min_impurity_split=None,\n",
              "                       min_samples_leaf=1, min_samples_split=36,\n",
              "                       min_weight_fraction_leaf=0.0, n_estimators=10,\n",
              "                       n_jobs=None, oob_score=False, random_state=0, verbose=0,\n",
              "                       warm_start=False)"
            ]
          },
          "metadata": {
            "tags": []
          },
          "execution_count": 102
        }
      ]
    },
    {
      "cell_type": "code",
      "metadata": {
        "id": "nP4MD3rPe-9w",
        "colab_type": "code",
        "outputId": "d1d0b60a-f3a8-4ff4-e84d-9d0cca4a029e",
        "colab": {
          "base_uri": "https://localhost:8080/",
          "height": 595
        }
      },
      "source": [
        "model = XGBClassifier()\n",
        "print_model_results(X_train, X_test, y_train, y_test, model, extra_name = 'smote')"
      ],
      "execution_count": 0,
      "outputs": [
        {
          "output_type": "stream",
          "text": [
            " Train score is 0.8874074074074074\n",
            "\n",
            "\n",
            "Test score is 0.8165680473372781\n",
            "\n",
            "\n",
            "\n",
            "Train confusion matrix is \n",
            " [[266  70]\n",
            " [  6 333]]\n",
            "\n",
            "Test confusion matrix is \n",
            " [[57 29]\n",
            " [ 2 81]]\n",
            "\n",
            "\n",
            "\n",
            "Test Set classification report is \n",
            "               precision    recall  f1-score   support\n",
            "\n",
            "           N       0.97      0.66      0.79        86\n",
            "           Y       0.74      0.98      0.84        83\n",
            "\n",
            "    accuracy                           0.82       169\n",
            "   macro avg       0.85      0.82      0.81       169\n",
            "weighted avg       0.85      0.82      0.81       169\n",
            "\n"
          ],
          "name": "stdout"
        },
        {
          "output_type": "execute_result",
          "data": {
            "text/plain": [
              "XGBClassifier(base_score=0.5, booster='gbtree', colsample_bylevel=1,\n",
              "              colsample_bynode=1, colsample_bytree=1, gamma=0,\n",
              "              learning_rate=0.1, max_delta_step=0, max_depth=3,\n",
              "              min_child_weight=1, missing=None, n_estimators=100, n_jobs=1,\n",
              "              nthread=None, objective='binary:logistic', random_state=0,\n",
              "              reg_alpha=0, reg_lambda=1, scale_pos_weight=1, seed=None,\n",
              "              silent=None, subsample=1, verbosity=1)"
            ]
          },
          "metadata": {
            "tags": []
          },
          "execution_count": 62
        }
      ]
    },
    {
      "cell_type": "markdown",
      "metadata": {
        "id": "Yp79WLvBoWyA",
        "colab_type": "text"
      },
      "source": [
        "###ADASYN"
      ]
    },
    {
      "cell_type": "code",
      "metadata": {
        "id": "_AhY5Qsvoe0R",
        "colab_type": "code",
        "outputId": "36445ac9-8bea-476e-fe49-7a32537792a8",
        "colab": {
          "base_uri": "https://localhost:8080/",
          "height": 595
        }
      },
      "source": [
        "model = RandomForestClassifier()\n",
        "X_train, X_test, y_train, y_test = train_test_split(X_ad, y_ad, random_state = 0, test_size = .2)\n",
        "print_model_results(X_train, X_test, y_train, y_test, model, extra_name= 'ADASYN')"
      ],
      "execution_count": 0,
      "outputs": [
        {
          "output_type": "stream",
          "text": [
            " Train score is 0.9940209267563528\n",
            "\n",
            "\n",
            "Test score is 0.7797619047619048\n",
            "\n",
            "\n",
            "\n",
            "Train confusion matrix is \n",
            " [[336   3]\n",
            " [  1 329]]\n",
            "\n",
            "Test confusion matrix is \n",
            " [[52 24]\n",
            " [13 79]]\n",
            "\n",
            "\n",
            "\n",
            "Test Set classification report is \n",
            "               precision    recall  f1-score   support\n",
            "\n",
            "           N       0.80      0.68      0.74        76\n",
            "           Y       0.77      0.86      0.81        92\n",
            "\n",
            "    accuracy                           0.78       168\n",
            "   macro avg       0.78      0.77      0.77       168\n",
            "weighted avg       0.78      0.78      0.78       168\n",
            "\n"
          ],
          "name": "stdout"
        },
        {
          "output_type": "execute_result",
          "data": {
            "text/plain": [
              "RandomForestClassifier(bootstrap=True, class_weight=None, criterion='gini',\n",
              "                       max_depth=None, max_features='auto', max_leaf_nodes=None,\n",
              "                       min_impurity_decrease=0.0, min_impurity_split=None,\n",
              "                       min_samples_leaf=1, min_samples_split=2,\n",
              "                       min_weight_fraction_leaf=0.0, n_estimators=10,\n",
              "                       n_jobs=None, oob_score=False, random_state=None,\n",
              "                       verbose=0, warm_start=False)"
            ]
          },
          "metadata": {
            "tags": []
          },
          "execution_count": 63
        }
      ]
    },
    {
      "cell_type": "code",
      "metadata": {
        "id": "aa59SgNrotNA",
        "colab_type": "code",
        "outputId": "6b737b0d-28ea-4888-a950-bd7fac09ecfc",
        "colab": {
          "base_uri": "https://localhost:8080/",
          "height": 595
        }
      },
      "source": [
        "model = XGBClassifier()\n",
        "print_model_results(X_train, X_test, y_train, y_test, model, extra_name= 'adasyn')"
      ],
      "execution_count": 0,
      "outputs": [
        {
          "output_type": "stream",
          "text": [
            " Train score is 0.8849028400597907\n",
            "\n",
            "\n",
            "Test score is 0.8035714285714286\n",
            "\n",
            "\n",
            "\n",
            "Train confusion matrix is \n",
            " [[265  74]\n",
            " [  3 327]]\n",
            "\n",
            "Test confusion matrix is \n",
            " [[47 29]\n",
            " [ 4 88]]\n",
            "\n",
            "\n",
            "\n",
            "Test Set classification report is \n",
            "               precision    recall  f1-score   support\n",
            "\n",
            "           N       0.92      0.62      0.74        76\n",
            "           Y       0.75      0.96      0.84        92\n",
            "\n",
            "    accuracy                           0.80       168\n",
            "   macro avg       0.84      0.79      0.79       168\n",
            "weighted avg       0.83      0.80      0.80       168\n",
            "\n"
          ],
          "name": "stdout"
        },
        {
          "output_type": "execute_result",
          "data": {
            "text/plain": [
              "XGBClassifier(base_score=0.5, booster='gbtree', colsample_bylevel=1,\n",
              "              colsample_bynode=1, colsample_bytree=1, gamma=0,\n",
              "              learning_rate=0.1, max_delta_step=0, max_depth=3,\n",
              "              min_child_weight=1, missing=None, n_estimators=100, n_jobs=1,\n",
              "              nthread=None, objective='binary:logistic', random_state=0,\n",
              "              reg_alpha=0, reg_lambda=1, scale_pos_weight=1, seed=None,\n",
              "              silent=None, subsample=1, verbosity=1)"
            ]
          },
          "metadata": {
            "tags": []
          },
          "execution_count": 50
        }
      ]
    },
    {
      "cell_type": "code",
      "metadata": {
        "id": "zxcpkqJno5p5",
        "colab_type": "code",
        "outputId": "1a72ae1b-433d-4365-ed87-1a8d5a847ed8",
        "colab": {
          "base_uri": "https://localhost:8080/",
          "height": 510
        }
      },
      "source": [
        "model = my_global_variables.my_models\n",
        "model"
      ],
      "execution_count": 0,
      "outputs": [
        {
          "output_type": "execute_result",
          "data": {
            "text/plain": [
              "{'LogisticRegression': LogisticRegression(C=1.0, class_weight=None, dual=False, fit_intercept=True,\n",
              "                    intercept_scaling=1, l1_ratio=None, max_iter=100,\n",
              "                    multi_class='warn', n_jobs=None, penalty='l2',\n",
              "                    random_state=None, solver='warn', tol=0.0001, verbose=0,\n",
              "                    warm_start=False),\n",
              " 'LogisticRegression_ADASYN': LogisticRegression(C=1.0, class_weight=None, dual=False, fit_intercept=True,\n",
              "                    intercept_scaling=1, l1_ratio=None, max_iter=100,\n",
              "                    multi_class='warn', n_jobs=None, penalty='l2',\n",
              "                    random_state=None, solver='warn', tol=0.0001, verbose=0,\n",
              "                    warm_start=False),\n",
              " 'LogisticRegression_SMOTE': LogisticRegression(C=1.0, class_weight=None, dual=False, fit_intercept=True,\n",
              "                    intercept_scaling=1, l1_ratio=None, max_iter=100,\n",
              "                    multi_class='warn', n_jobs=None, penalty='l2',\n",
              "                    random_state=None, solver='warn', tol=0.0001, verbose=0,\n",
              "                    warm_start=False),\n",
              " 'XGBClassifier': XGBClassifier(base_score=0.5, booster='gbtree', colsample_bylevel=1,\n",
              "               colsample_bynode=1, colsample_bytree=1, gamma=0,\n",
              "               learning_rate=0.1, max_delta_step=0, max_depth=3,\n",
              "               min_child_weight=1, missing=None, n_estimators=100, n_jobs=1,\n",
              "               nthread=None, objective='binary:logistic', random_state=0,\n",
              "               reg_alpha=0, reg_lambda=1, scale_pos_weight=1, seed=None,\n",
              "               silent=None, subsample=1, verbosity=1),\n",
              " 'XGBClassifier_SMOTE': XGBClassifier(base_score=0.5, booster='gbtree', colsample_bylevel=1,\n",
              "               colsample_bynode=1, colsample_bytree=1, gamma=0,\n",
              "               learning_rate=0.1, max_delta_step=0, max_depth=3,\n",
              "               min_child_weight=1, missing=None, n_estimators=100, n_jobs=1,\n",
              "               nthread=None, objective='binary:logistic', random_state=0,\n",
              "               reg_alpha=0, reg_lambda=1, scale_pos_weight=1, seed=None,\n",
              "               silent=None, subsample=1, verbosity=1)}"
            ]
          },
          "metadata": {
            "tags": []
          },
          "execution_count": 102
        }
      ]
    },
    {
      "cell_type": "code",
      "metadata": {
        "id": "o817_tYapX0J",
        "colab_type": "code",
        "outputId": "b6e1021f-7690-41d7-b343-5b57f0341cef",
        "colab": {
          "base_uri": "https://localhost:8080/",
          "height": 102
        }
      },
      "source": [
        "model_lr = model['LogisticRegression']\n",
        "model_lr"
      ],
      "execution_count": 0,
      "outputs": [
        {
          "output_type": "execute_result",
          "data": {
            "text/plain": [
              "LogisticRegression(C=1.0, class_weight=None, dual=False, fit_intercept=True,\n",
              "                   intercept_scaling=1, l1_ratio=None, max_iter=100,\n",
              "                   multi_class='warn', n_jobs=None, penalty='l2',\n",
              "                   random_state=None, solver='warn', tol=0.0001, verbose=0,\n",
              "                   warm_start=False)"
            ]
          },
          "metadata": {
            "tags": []
          },
          "execution_count": 103
        }
      ]
    },
    {
      "cell_type": "markdown",
      "metadata": {
        "id": "IsbpCH5JNDGt",
        "colab_type": "text"
      },
      "source": [
        "#ANN"
      ]
    },
    {
      "cell_type": "code",
      "metadata": {
        "id": "GY3QPPcBNFBW",
        "colab_type": "code",
        "colab": {
          "base_uri": "https://localhost:8080/",
          "height": 34
        },
        "outputId": "b09a7339-4552-4a3f-a142-0c17bf587e99"
      },
      "source": [
        "%tensorflow_version 2.x"
      ],
      "execution_count": 4,
      "outputs": [
        {
          "output_type": "stream",
          "text": [
            "TensorFlow 2.x selected.\n"
          ],
          "name": "stdout"
        }
      ]
    },
    {
      "cell_type": "code",
      "metadata": {
        "id": "6ieCll--NKc1",
        "colab_type": "code",
        "colab": {
          "base_uri": "https://localhost:8080/",
          "height": 34
        },
        "outputId": "7fc42ca0-5255-4d78-c84d-1af7c24b29e6"
      },
      "source": [
        "import tensorflow as tf\n",
        "tf.__version__"
      ],
      "execution_count": 5,
      "outputs": [
        {
          "output_type": "execute_result",
          "data": {
            "text/plain": [
              "'2.0.0-beta1'"
            ]
          },
          "metadata": {
            "tags": []
          },
          "execution_count": 5
        }
      ]
    },
    {
      "cell_type": "code",
      "metadata": {
        "id": "Nw-a2l-rPoWq",
        "colab_type": "code",
        "colab": {
          "base_uri": "https://localhost:8080/",
          "height": 148
        },
        "outputId": "4b46c015-4501-4c11-c6d4-db210fc55099"
      },
      "source": [
        "X.head(2)"
      ],
      "execution_count": 99,
      "outputs": [
        {
          "output_type": "execute_result",
          "data": {
            "text/html": [
              "<div>\n",
              "<style scoped>\n",
              "    .dataframe tbody tr th:only-of-type {\n",
              "        vertical-align: middle;\n",
              "    }\n",
              "\n",
              "    .dataframe tbody tr th {\n",
              "        vertical-align: top;\n",
              "    }\n",
              "\n",
              "    .dataframe thead th {\n",
              "        text-align: right;\n",
              "    }\n",
              "</style>\n",
              "<table border=\"1\" class=\"dataframe\">\n",
              "  <thead>\n",
              "    <tr style=\"text-align: right;\">\n",
              "      <th></th>\n",
              "      <th>Gender_Male</th>\n",
              "      <th>Married_Yes</th>\n",
              "      <th>Dependents_1</th>\n",
              "      <th>Dependents_2</th>\n",
              "      <th>Dependents_3+</th>\n",
              "      <th>Education_Not Graduate</th>\n",
              "      <th>Self_Employed_Yes</th>\n",
              "      <th>Property_Area_Semiurban</th>\n",
              "      <th>Property_Area_Urban</th>\n",
              "      <th>ApplicantIncome</th>\n",
              "      <th>CoapplicantIncome</th>\n",
              "      <th>LoanAmount</th>\n",
              "      <th>Loan_Amount_Term</th>\n",
              "      <th>Credit_History</th>\n",
              "    </tr>\n",
              "  </thead>\n",
              "  <tbody>\n",
              "    <tr>\n",
              "      <th>0</th>\n",
              "      <td>1.0</td>\n",
              "      <td>0.0</td>\n",
              "      <td>0.0</td>\n",
              "      <td>0.0</td>\n",
              "      <td>0.0</td>\n",
              "      <td>0.0</td>\n",
              "      <td>0.0</td>\n",
              "      <td>0.0</td>\n",
              "      <td>1.0</td>\n",
              "      <td>5849.0</td>\n",
              "      <td>0.0</td>\n",
              "      <td>128.0</td>\n",
              "      <td>360.0</td>\n",
              "      <td>1.0</td>\n",
              "    </tr>\n",
              "    <tr>\n",
              "      <th>1</th>\n",
              "      <td>1.0</td>\n",
              "      <td>1.0</td>\n",
              "      <td>1.0</td>\n",
              "      <td>0.0</td>\n",
              "      <td>0.0</td>\n",
              "      <td>0.0</td>\n",
              "      <td>0.0</td>\n",
              "      <td>0.0</td>\n",
              "      <td>0.0</td>\n",
              "      <td>4583.0</td>\n",
              "      <td>1508.0</td>\n",
              "      <td>128.0</td>\n",
              "      <td>360.0</td>\n",
              "      <td>1.0</td>\n",
              "    </tr>\n",
              "  </tbody>\n",
              "</table>\n",
              "</div>"
            ],
            "text/plain": [
              "   Gender_Male  Married_Yes  ...  Loan_Amount_Term  Credit_History\n",
              "0          1.0          0.0  ...             360.0             1.0\n",
              "1          1.0          1.0  ...             360.0             1.0\n",
              "\n",
              "[2 rows x 14 columns]"
            ]
          },
          "metadata": {
            "tags": []
          },
          "execution_count": 99
        }
      ]
    },
    {
      "cell_type": "code",
      "metadata": {
        "id": "BvXUXp1xNsQX",
        "colab_type": "code",
        "colab": {
          "base_uri": "https://localhost:8080/",
          "height": 34
        },
        "outputId": "025b8ce8-326b-4cc3-d826-5d3b015ec803"
      },
      "source": [
        "X_sc.shape, y.shape"
      ],
      "execution_count": 95,
      "outputs": [
        {
          "output_type": "execute_result",
          "data": {
            "text/plain": [
              "((614, 14), (614,))"
            ]
          },
          "metadata": {
            "tags": []
          },
          "execution_count": 95
        }
      ]
    },
    {
      "cell_type": "code",
      "metadata": {
        "id": "LPIY4YJKPMjh",
        "colab_type": "code",
        "colab": {}
      },
      "source": [
        "from sklearn.model_selection import train_test_split"
      ],
      "execution_count": 0,
      "outputs": []
    },
    {
      "cell_type": "code",
      "metadata": {
        "id": "aEeJ3RwcPSAx",
        "colab_type": "code",
        "colab": {
          "base_uri": "https://localhost:8080/",
          "height": 34
        },
        "outputId": "7a1c00c8-1e90-4ac5-db3b-2653c713447f"
      },
      "source": [
        "X_train, X_test, y_train, y_test = train_test_split(X_sc, y, test_size = 0.2, random_state = 0)\n",
        "X_train.shape, X_test.shape, y_train.shape, y_test.shape"
      ],
      "execution_count": 107,
      "outputs": [
        {
          "output_type": "execute_result",
          "data": {
            "text/plain": [
              "((491, 14), (123, 14), (491,), (123,))"
            ]
          },
          "metadata": {
            "tags": []
          },
          "execution_count": 107
        }
      ]
    },
    {
      "cell_type": "code",
      "metadata": {
        "id": "5fYiDpSKNQoF",
        "colab_type": "code",
        "colab": {}
      },
      "source": [
        "def create_model():\n",
        "  model = tf.keras.Sequential([\n",
        "                             tf.keras.layers.Dense(units = 100, activation = tf.nn.relu, input_dim = X.shape[1]),\n",
        "                             tf.keras.layers.Dropout(rate = 0.4, seed = 0),\n",
        "                             tf.keras.layers.Dense(units = 100, activation = tf.nn.relu),\n",
        "                             tf.keras.layers.Dropout(rate = 0.4, seed = 0),\n",
        "                             tf.keras.layers.Dense(units = 1, activation = tf.nn.sigmoid)\n",
        "  ])\n",
        "  model.compile(optimizer = 'adam', loss = 'binary_crossentropy', metrics = ['accuracy'])\n",
        "  return model"
      ],
      "execution_count": 0,
      "outputs": []
    },
    {
      "cell_type": "code",
      "metadata": {
        "id": "aiTi-e59QADj",
        "colab_type": "code",
        "colab": {
          "base_uri": "https://localhost:8080/",
          "height": 323
        },
        "outputId": "fc42ad8c-dcaf-464f-c8c9-ec76634d43f0"
      },
      "source": [
        "model = create_model()\n",
        "model.summary()"
      ],
      "execution_count": 179,
      "outputs": [
        {
          "output_type": "stream",
          "text": [
            "Model: \"sequential_7\"\n",
            "_________________________________________________________________\n",
            "Layer (type)                 Output Shape              Param #   \n",
            "=================================================================\n",
            "dense_21 (Dense)             (None, 100)               1500      \n",
            "_________________________________________________________________\n",
            "dropout_14 (Dropout)         (None, 100)               0         \n",
            "_________________________________________________________________\n",
            "dense_22 (Dense)             (None, 100)               10100     \n",
            "_________________________________________________________________\n",
            "dropout_15 (Dropout)         (None, 100)               0         \n",
            "_________________________________________________________________\n",
            "dense_23 (Dense)             (None, 1)                 101       \n",
            "=================================================================\n",
            "Total params: 11,701\n",
            "Trainable params: 11,701\n",
            "Non-trainable params: 0\n",
            "_________________________________________________________________\n"
          ],
          "name": "stdout"
        }
      ]
    },
    {
      "cell_type": "code",
      "metadata": {
        "id": "iOaVls5ZQOLx",
        "colab_type": "code",
        "colab": {
          "base_uri": "https://localhost:8080/",
          "height": 1000
        },
        "outputId": "88aa0000-f83d-4098-dd8d-2fc3dfb8b861"
      },
      "source": [
        "model.fit(X_train, y_train, batch_size = 10, epochs = 100, verbose = 1, validation_data = (X_test, y_test), class_weight = 'balanced')"
      ],
      "execution_count": 180,
      "outputs": [
        {
          "output_type": "stream",
          "text": [
            "Train on 491 samples, validate on 123 samples\n",
            "Epoch 1/100\n",
            "491/491 [==============================] - 0s 908us/sample - loss: 0.6427 - accuracy: 0.6640 - val_loss: 0.5331 - val_accuracy: 0.7886\n",
            "Epoch 2/100\n",
            "491/491 [==============================] - 0s 211us/sample - loss: 0.5451 - accuracy: 0.7699 - val_loss: 0.4742 - val_accuracy: 0.8293\n",
            "Epoch 3/100\n",
            "491/491 [==============================] - 0s 220us/sample - loss: 0.5160 - accuracy: 0.7902 - val_loss: 0.4466 - val_accuracy: 0.8293\n",
            "Epoch 4/100\n",
            "491/491 [==============================] - 0s 235us/sample - loss: 0.4919 - accuracy: 0.7963 - val_loss: 0.4518 - val_accuracy: 0.8293\n",
            "Epoch 5/100\n",
            "491/491 [==============================] - 0s 237us/sample - loss: 0.4897 - accuracy: 0.8004 - val_loss: 0.4483 - val_accuracy: 0.8293\n",
            "Epoch 6/100\n",
            "491/491 [==============================] - 0s 231us/sample - loss: 0.4771 - accuracy: 0.7902 - val_loss: 0.4481 - val_accuracy: 0.8293\n",
            "Epoch 7/100\n",
            "491/491 [==============================] - 0s 229us/sample - loss: 0.4648 - accuracy: 0.8004 - val_loss: 0.4501 - val_accuracy: 0.8293\n",
            "Epoch 8/100\n",
            "491/491 [==============================] - 0s 234us/sample - loss: 0.4679 - accuracy: 0.8208 - val_loss: 0.4695 - val_accuracy: 0.8293\n",
            "Epoch 9/100\n",
            "491/491 [==============================] - 0s 239us/sample - loss: 0.4822 - accuracy: 0.8086 - val_loss: 0.4672 - val_accuracy: 0.8374\n",
            "Epoch 10/100\n",
            "491/491 [==============================] - 0s 233us/sample - loss: 0.4676 - accuracy: 0.8045 - val_loss: 0.4583 - val_accuracy: 0.8374\n",
            "Epoch 11/100\n",
            "491/491 [==============================] - 0s 228us/sample - loss: 0.4412 - accuracy: 0.8147 - val_loss: 0.4548 - val_accuracy: 0.8293\n",
            "Epoch 12/100\n",
            "491/491 [==============================] - 0s 222us/sample - loss: 0.4380 - accuracy: 0.8167 - val_loss: 0.4585 - val_accuracy: 0.8293\n",
            "Epoch 13/100\n",
            "491/491 [==============================] - 0s 230us/sample - loss: 0.4419 - accuracy: 0.8086 - val_loss: 0.4621 - val_accuracy: 0.8293\n",
            "Epoch 14/100\n",
            "491/491 [==============================] - 0s 222us/sample - loss: 0.4426 - accuracy: 0.8106 - val_loss: 0.4623 - val_accuracy: 0.8293\n",
            "Epoch 15/100\n",
            "491/491 [==============================] - 0s 228us/sample - loss: 0.4379 - accuracy: 0.8147 - val_loss: 0.4650 - val_accuracy: 0.8293\n",
            "Epoch 16/100\n",
            "491/491 [==============================] - 0s 228us/sample - loss: 0.4359 - accuracy: 0.8187 - val_loss: 0.4683 - val_accuracy: 0.8374\n",
            "Epoch 17/100\n",
            "491/491 [==============================] - 0s 226us/sample - loss: 0.4242 - accuracy: 0.8187 - val_loss: 0.4692 - val_accuracy: 0.8374\n",
            "Epoch 18/100\n",
            "491/491 [==============================] - 0s 224us/sample - loss: 0.4525 - accuracy: 0.7882 - val_loss: 0.4712 - val_accuracy: 0.8374\n",
            "Epoch 19/100\n",
            "491/491 [==============================] - 0s 219us/sample - loss: 0.4100 - accuracy: 0.8228 - val_loss: 0.4790 - val_accuracy: 0.8374\n",
            "Epoch 20/100\n",
            "491/491 [==============================] - 0s 226us/sample - loss: 0.4413 - accuracy: 0.8208 - val_loss: 0.4762 - val_accuracy: 0.8374\n",
            "Epoch 21/100\n",
            "491/491 [==============================] - 0s 224us/sample - loss: 0.4058 - accuracy: 0.8310 - val_loss: 0.4807 - val_accuracy: 0.8293\n",
            "Epoch 22/100\n",
            "491/491 [==============================] - 0s 226us/sample - loss: 0.3987 - accuracy: 0.8330 - val_loss: 0.4895 - val_accuracy: 0.8374\n",
            "Epoch 23/100\n",
            "491/491 [==============================] - 0s 225us/sample - loss: 0.4028 - accuracy: 0.8310 - val_loss: 0.4847 - val_accuracy: 0.8293\n",
            "Epoch 24/100\n",
            "491/491 [==============================] - 0s 224us/sample - loss: 0.4169 - accuracy: 0.8208 - val_loss: 0.4774 - val_accuracy: 0.8374\n",
            "Epoch 25/100\n",
            "491/491 [==============================] - 0s 223us/sample - loss: 0.4024 - accuracy: 0.8350 - val_loss: 0.4759 - val_accuracy: 0.8293\n",
            "Epoch 26/100\n",
            "491/491 [==============================] - 0s 235us/sample - loss: 0.3926 - accuracy: 0.8330 - val_loss: 0.4880 - val_accuracy: 0.8130\n",
            "Epoch 27/100\n",
            "491/491 [==============================] - 0s 218us/sample - loss: 0.4257 - accuracy: 0.7984 - val_loss: 0.4881 - val_accuracy: 0.8211\n",
            "Epoch 28/100\n",
            "491/491 [==============================] - 0s 230us/sample - loss: 0.3906 - accuracy: 0.8310 - val_loss: 0.4973 - val_accuracy: 0.7967\n",
            "Epoch 29/100\n",
            "491/491 [==============================] - 0s 227us/sample - loss: 0.3970 - accuracy: 0.8310 - val_loss: 0.4998 - val_accuracy: 0.8049\n",
            "Epoch 30/100\n",
            "491/491 [==============================] - 0s 229us/sample - loss: 0.3892 - accuracy: 0.8289 - val_loss: 0.5021 - val_accuracy: 0.8049\n",
            "Epoch 31/100\n",
            "491/491 [==============================] - 0s 228us/sample - loss: 0.3792 - accuracy: 0.8350 - val_loss: 0.4949 - val_accuracy: 0.8049\n",
            "Epoch 32/100\n",
            "491/491 [==============================] - 0s 227us/sample - loss: 0.3976 - accuracy: 0.8248 - val_loss: 0.4928 - val_accuracy: 0.8049\n",
            "Epoch 33/100\n",
            "491/491 [==============================] - 0s 226us/sample - loss: 0.3876 - accuracy: 0.8187 - val_loss: 0.4974 - val_accuracy: 0.8049\n",
            "Epoch 34/100\n",
            "491/491 [==============================] - 0s 219us/sample - loss: 0.3913 - accuracy: 0.8228 - val_loss: 0.4948 - val_accuracy: 0.7967\n",
            "Epoch 35/100\n",
            "491/491 [==============================] - 0s 226us/sample - loss: 0.3947 - accuracy: 0.8208 - val_loss: 0.4946 - val_accuracy: 0.8049\n",
            "Epoch 36/100\n",
            "491/491 [==============================] - 0s 223us/sample - loss: 0.3880 - accuracy: 0.8289 - val_loss: 0.5255 - val_accuracy: 0.7886\n",
            "Epoch 37/100\n",
            "491/491 [==============================] - 0s 222us/sample - loss: 0.3621 - accuracy: 0.8452 - val_loss: 0.5158 - val_accuracy: 0.8049\n",
            "Epoch 38/100\n",
            "491/491 [==============================] - 0s 232us/sample - loss: 0.3823 - accuracy: 0.8310 - val_loss: 0.5181 - val_accuracy: 0.8049\n",
            "Epoch 39/100\n",
            "491/491 [==============================] - 0s 223us/sample - loss: 0.3910 - accuracy: 0.8289 - val_loss: 0.5044 - val_accuracy: 0.7967\n",
            "Epoch 40/100\n",
            "491/491 [==============================] - 0s 225us/sample - loss: 0.3820 - accuracy: 0.8371 - val_loss: 0.5133 - val_accuracy: 0.7886\n",
            "Epoch 41/100\n",
            "491/491 [==============================] - 0s 228us/sample - loss: 0.3805 - accuracy: 0.8350 - val_loss: 0.5164 - val_accuracy: 0.7886\n",
            "Epoch 42/100\n",
            "491/491 [==============================] - 0s 216us/sample - loss: 0.3716 - accuracy: 0.8147 - val_loss: 0.5086 - val_accuracy: 0.8049\n",
            "Epoch 43/100\n",
            "491/491 [==============================] - 0s 228us/sample - loss: 0.3846 - accuracy: 0.8269 - val_loss: 0.5097 - val_accuracy: 0.7886\n",
            "Epoch 44/100\n",
            "491/491 [==============================] - 0s 226us/sample - loss: 0.3865 - accuracy: 0.8411 - val_loss: 0.5026 - val_accuracy: 0.8049\n",
            "Epoch 45/100\n",
            "491/491 [==============================] - 0s 223us/sample - loss: 0.3695 - accuracy: 0.8167 - val_loss: 0.5120 - val_accuracy: 0.7886\n",
            "Epoch 46/100\n",
            "491/491 [==============================] - 0s 215us/sample - loss: 0.3890 - accuracy: 0.8310 - val_loss: 0.5103 - val_accuracy: 0.8049\n",
            "Epoch 47/100\n",
            "491/491 [==============================] - 0s 229us/sample - loss: 0.3475 - accuracy: 0.8350 - val_loss: 0.5043 - val_accuracy: 0.8049\n",
            "Epoch 48/100\n",
            "491/491 [==============================] - 0s 224us/sample - loss: 0.3842 - accuracy: 0.8289 - val_loss: 0.5194 - val_accuracy: 0.7724\n",
            "Epoch 49/100\n",
            "491/491 [==============================] - 0s 263us/sample - loss: 0.3670 - accuracy: 0.8513 - val_loss: 0.5185 - val_accuracy: 0.7967\n",
            "Epoch 50/100\n",
            "491/491 [==============================] - 0s 221us/sample - loss: 0.3440 - accuracy: 0.8554 - val_loss: 0.5347 - val_accuracy: 0.7724\n",
            "Epoch 51/100\n",
            "491/491 [==============================] - 0s 232us/sample - loss: 0.3835 - accuracy: 0.8391 - val_loss: 0.5294 - val_accuracy: 0.7967\n",
            "Epoch 52/100\n",
            "491/491 [==============================] - 0s 226us/sample - loss: 0.3822 - accuracy: 0.8228 - val_loss: 0.5343 - val_accuracy: 0.7805\n",
            "Epoch 53/100\n",
            "491/491 [==============================] - 0s 223us/sample - loss: 0.3728 - accuracy: 0.8371 - val_loss: 0.5343 - val_accuracy: 0.7724\n",
            "Epoch 54/100\n",
            "491/491 [==============================] - 0s 224us/sample - loss: 0.3595 - accuracy: 0.8411 - val_loss: 0.5347 - val_accuracy: 0.7805\n",
            "Epoch 55/100\n",
            "491/491 [==============================] - 0s 240us/sample - loss: 0.3646 - accuracy: 0.8289 - val_loss: 0.5331 - val_accuracy: 0.7886\n",
            "Epoch 56/100\n",
            "491/491 [==============================] - 0s 226us/sample - loss: 0.3453 - accuracy: 0.8473 - val_loss: 0.5395 - val_accuracy: 0.7886\n",
            "Epoch 57/100\n",
            "491/491 [==============================] - 0s 227us/sample - loss: 0.3667 - accuracy: 0.8371 - val_loss: 0.5522 - val_accuracy: 0.7805\n",
            "Epoch 58/100\n",
            "491/491 [==============================] - 0s 221us/sample - loss: 0.3399 - accuracy: 0.8574 - val_loss: 0.5410 - val_accuracy: 0.7805\n",
            "Epoch 59/100\n",
            "491/491 [==============================] - 0s 229us/sample - loss: 0.3625 - accuracy: 0.8473 - val_loss: 0.5480 - val_accuracy: 0.7805\n",
            "Epoch 60/100\n",
            "491/491 [==============================] - 0s 232us/sample - loss: 0.3522 - accuracy: 0.8411 - val_loss: 0.5406 - val_accuracy: 0.7724\n",
            "Epoch 61/100\n",
            "491/491 [==============================] - 0s 221us/sample - loss: 0.3581 - accuracy: 0.8595 - val_loss: 0.5613 - val_accuracy: 0.7724\n",
            "Epoch 62/100\n",
            "491/491 [==============================] - 0s 230us/sample - loss: 0.3581 - accuracy: 0.8371 - val_loss: 0.5447 - val_accuracy: 0.7886\n",
            "Epoch 63/100\n",
            "491/491 [==============================] - 0s 224us/sample - loss: 0.3477 - accuracy: 0.8452 - val_loss: 0.5504 - val_accuracy: 0.7967\n",
            "Epoch 64/100\n",
            "491/491 [==============================] - 0s 230us/sample - loss: 0.3688 - accuracy: 0.8330 - val_loss: 0.5423 - val_accuracy: 0.7724\n",
            "Epoch 65/100\n",
            "491/491 [==============================] - 0s 218us/sample - loss: 0.3612 - accuracy: 0.8411 - val_loss: 0.5357 - val_accuracy: 0.7967\n",
            "Epoch 66/100\n",
            "491/491 [==============================] - 0s 219us/sample - loss: 0.3450 - accuracy: 0.8554 - val_loss: 0.5489 - val_accuracy: 0.7805\n",
            "Epoch 67/100\n",
            "491/491 [==============================] - 0s 226us/sample - loss: 0.3349 - accuracy: 0.8493 - val_loss: 0.5575 - val_accuracy: 0.7886\n",
            "Epoch 68/100\n",
            "491/491 [==============================] - 0s 231us/sample - loss: 0.3629 - accuracy: 0.8310 - val_loss: 0.5580 - val_accuracy: 0.7805\n",
            "Epoch 69/100\n",
            "491/491 [==============================] - 0s 222us/sample - loss: 0.3249 - accuracy: 0.8493 - val_loss: 0.5694 - val_accuracy: 0.7724\n",
            "Epoch 70/100\n",
            "491/491 [==============================] - 0s 226us/sample - loss: 0.3346 - accuracy: 0.8391 - val_loss: 0.5773 - val_accuracy: 0.7724\n",
            "Epoch 71/100\n",
            "491/491 [==============================] - 0s 223us/sample - loss: 0.3410 - accuracy: 0.8371 - val_loss: 0.5825 - val_accuracy: 0.7805\n",
            "Epoch 72/100\n",
            "491/491 [==============================] - 0s 220us/sample - loss: 0.3139 - accuracy: 0.8595 - val_loss: 0.5836 - val_accuracy: 0.7642\n",
            "Epoch 73/100\n",
            "491/491 [==============================] - 0s 224us/sample - loss: 0.3402 - accuracy: 0.8330 - val_loss: 0.5872 - val_accuracy: 0.7561\n",
            "Epoch 74/100\n",
            "491/491 [==============================] - 0s 225us/sample - loss: 0.3353 - accuracy: 0.8473 - val_loss: 0.5988 - val_accuracy: 0.7561\n",
            "Epoch 75/100\n",
            "491/491 [==============================] - 0s 223us/sample - loss: 0.3171 - accuracy: 0.8656 - val_loss: 0.5869 - val_accuracy: 0.7724\n",
            "Epoch 76/100\n",
            "491/491 [==============================] - 0s 220us/sample - loss: 0.3142 - accuracy: 0.8615 - val_loss: 0.5856 - val_accuracy: 0.7805\n",
            "Epoch 77/100\n",
            "491/491 [==============================] - 0s 223us/sample - loss: 0.3224 - accuracy: 0.8574 - val_loss: 0.5925 - val_accuracy: 0.7886\n",
            "Epoch 78/100\n",
            "491/491 [==============================] - 0s 231us/sample - loss: 0.3475 - accuracy: 0.8248 - val_loss: 0.5791 - val_accuracy: 0.7805\n",
            "Epoch 79/100\n",
            "491/491 [==============================] - 0s 227us/sample - loss: 0.3362 - accuracy: 0.8452 - val_loss: 0.5975 - val_accuracy: 0.7642\n",
            "Epoch 80/100\n",
            "491/491 [==============================] - 0s 221us/sample - loss: 0.3189 - accuracy: 0.8554 - val_loss: 0.5960 - val_accuracy: 0.7886\n",
            "Epoch 81/100\n",
            "491/491 [==============================] - 0s 219us/sample - loss: 0.3145 - accuracy: 0.8554 - val_loss: 0.5823 - val_accuracy: 0.7967\n",
            "Epoch 82/100\n",
            "491/491 [==============================] - 0s 237us/sample - loss: 0.3134 - accuracy: 0.8493 - val_loss: 0.5862 - val_accuracy: 0.7967\n",
            "Epoch 83/100\n",
            "491/491 [==============================] - 0s 224us/sample - loss: 0.3163 - accuracy: 0.8737 - val_loss: 0.5878 - val_accuracy: 0.7886\n",
            "Epoch 84/100\n",
            "491/491 [==============================] - 0s 224us/sample - loss: 0.3496 - accuracy: 0.8310 - val_loss: 0.5984 - val_accuracy: 0.7805\n",
            "Epoch 85/100\n",
            "491/491 [==============================] - 0s 235us/sample - loss: 0.3113 - accuracy: 0.8574 - val_loss: 0.5981 - val_accuracy: 0.7805\n",
            "Epoch 86/100\n",
            "491/491 [==============================] - 0s 226us/sample - loss: 0.3149 - accuracy: 0.8737 - val_loss: 0.6026 - val_accuracy: 0.7805\n",
            "Epoch 87/100\n",
            "491/491 [==============================] - 0s 223us/sample - loss: 0.3159 - accuracy: 0.8676 - val_loss: 0.6037 - val_accuracy: 0.7724\n",
            "Epoch 88/100\n",
            "491/491 [==============================] - 0s 221us/sample - loss: 0.3055 - accuracy: 0.8615 - val_loss: 0.6135 - val_accuracy: 0.7886\n",
            "Epoch 89/100\n",
            "491/491 [==============================] - 0s 222us/sample - loss: 0.3123 - accuracy: 0.8574 - val_loss: 0.6236 - val_accuracy: 0.7886\n",
            "Epoch 90/100\n",
            "491/491 [==============================] - 0s 222us/sample - loss: 0.3202 - accuracy: 0.8513 - val_loss: 0.6195 - val_accuracy: 0.7967\n",
            "Epoch 91/100\n",
            "491/491 [==============================] - 0s 229us/sample - loss: 0.3220 - accuracy: 0.8615 - val_loss: 0.6218 - val_accuracy: 0.7886\n",
            "Epoch 92/100\n",
            "491/491 [==============================] - 0s 216us/sample - loss: 0.2977 - accuracy: 0.8554 - val_loss: 0.6167 - val_accuracy: 0.7805\n",
            "Epoch 93/100\n",
            "491/491 [==============================] - 0s 219us/sample - loss: 0.2997 - accuracy: 0.8697 - val_loss: 0.6364 - val_accuracy: 0.7805\n",
            "Epoch 94/100\n",
            "491/491 [==============================] - 0s 234us/sample - loss: 0.2831 - accuracy: 0.8697 - val_loss: 0.6360 - val_accuracy: 0.7967\n",
            "Epoch 95/100\n",
            "491/491 [==============================] - 0s 227us/sample - loss: 0.3129 - accuracy: 0.8676 - val_loss: 0.6428 - val_accuracy: 0.7886\n",
            "Epoch 96/100\n",
            "491/491 [==============================] - 0s 227us/sample - loss: 0.2926 - accuracy: 0.8717 - val_loss: 0.6383 - val_accuracy: 0.7805\n",
            "Epoch 97/100\n",
            "491/491 [==============================] - 0s 224us/sample - loss: 0.3088 - accuracy: 0.8513 - val_loss: 0.6321 - val_accuracy: 0.7805\n",
            "Epoch 98/100\n",
            "491/491 [==============================] - 0s 227us/sample - loss: 0.2920 - accuracy: 0.8798 - val_loss: 0.6484 - val_accuracy: 0.7886\n",
            "Epoch 99/100\n",
            "491/491 [==============================] - 0s 233us/sample - loss: 0.2967 - accuracy: 0.8635 - val_loss: 0.6604 - val_accuracy: 0.7886\n",
            "Epoch 100/100\n",
            "491/491 [==============================] - 0s 224us/sample - loss: 0.3025 - accuracy: 0.8595 - val_loss: 0.6535 - val_accuracy: 0.7724\n"
          ],
          "name": "stdout"
        },
        {
          "output_type": "execute_result",
          "data": {
            "text/plain": [
              "<tensorflow.python.keras.callbacks.History at 0x7fe681a0ab70>"
            ]
          },
          "metadata": {
            "tags": []
          },
          "execution_count": 180
        }
      ]
    },
    {
      "cell_type": "code",
      "metadata": {
        "id": "UJKcXUPbcwXv",
        "colab_type": "code",
        "colab": {
          "base_uri": "https://localhost:8080/",
          "height": 34
        },
        "outputId": "c4a42bed-97bd-42a1-8301-4c776ced4c8e"
      },
      "source": [
        "model2 = create_model()\n",
        "model2.fit(X_sc, y, epochs = 100, batch_size = 10, verbose = 0, class_weight = 'balanced')"
      ],
      "execution_count": 181,
      "outputs": [
        {
          "output_type": "execute_result",
          "data": {
            "text/plain": [
              "<tensorflow.python.keras.callbacks.History at 0x7fe681334dd8>"
            ]
          },
          "metadata": {
            "tags": []
          },
          "execution_count": 181
        }
      ]
    },
    {
      "cell_type": "code",
      "metadata": {
        "id": "0Ihbr_AZb8Mi",
        "colab_type": "code",
        "colab": {}
      },
      "source": [
        "from sklearn.metrics import confusion_matrix, classification_report"
      ],
      "execution_count": 0,
      "outputs": []
    },
    {
      "cell_type": "code",
      "metadata": {
        "id": "1reDRRqXcBLF",
        "colab_type": "code",
        "colab": {
          "base_uri": "https://localhost:8080/",
          "height": 51
        },
        "outputId": "a29d092a-7d1a-4b09-c0b3-534b37926809"
      },
      "source": [
        "confusion_matrix(y_test, model.predict_classes(X_test))"
      ],
      "execution_count": 169,
      "outputs": [
        {
          "output_type": "execute_result",
          "data": {
            "text/plain": [
              "array([[19, 14],\n",
              "       [10, 80]])"
            ]
          },
          "metadata": {
            "tags": []
          },
          "execution_count": 169
        }
      ]
    },
    {
      "cell_type": "code",
      "metadata": {
        "id": "ZeWERVujcKei",
        "colab_type": "code",
        "colab": {
          "base_uri": "https://localhost:8080/",
          "height": 170
        },
        "outputId": "bbee8cab-3964-445a-bfc3-5faf5c88dc74"
      },
      "source": [
        "print(classification_report(y_test, model.predict_classes(X_test)))"
      ],
      "execution_count": 174,
      "outputs": [
        {
          "output_type": "stream",
          "text": [
            "              precision    recall  f1-score   support\n",
            "\n",
            "           0       0.66      0.58      0.61        33\n",
            "           1       0.85      0.89      0.87        90\n",
            "\n",
            "    accuracy                           0.80       123\n",
            "   macro avg       0.75      0.73      0.74       123\n",
            "weighted avg       0.80      0.80      0.80       123\n",
            "\n"
          ],
          "name": "stdout"
        }
      ]
    },
    {
      "cell_type": "markdown",
      "metadata": {
        "id": "X7rhDMo2NA_R",
        "colab_type": "text"
      },
      "source": [
        "#Submission"
      ]
    },
    {
      "cell_type": "code",
      "metadata": {
        "id": "9Wj-LJtxxERZ",
        "colab_type": "code",
        "outputId": "f02e3668-62ff-4785-8a8d-7c192f557955",
        "colab": {
          "base_uri": "https://localhost:8080/",
          "height": 136
        }
      },
      "source": [
        "sm = SMOTE(random_state = 0, k_neighbors = 17)\n",
        "X_sm, y_sm = sm.fit_resample(X_sc, y)\n",
        "model = RandomForestClassifier(random_state = 0)\n",
        "model.fit(X_sm, y_sm)"
      ],
      "execution_count": 0,
      "outputs": [
        {
          "output_type": "execute_result",
          "data": {
            "text/plain": [
              "RandomForestClassifier(bootstrap=True, class_weight=None, criterion='gini',\n",
              "                       max_depth=None, max_features='auto', max_leaf_nodes=None,\n",
              "                       min_impurity_decrease=0.0, min_impurity_split=None,\n",
              "                       min_samples_leaf=1, min_samples_split=2,\n",
              "                       min_weight_fraction_leaf=0.0, n_estimators=10,\n",
              "                       n_jobs=None, oob_score=False, random_state=0, verbose=0,\n",
              "                       warm_start=False)"
            ]
          },
          "metadata": {
            "tags": []
          },
          "execution_count": 190
        }
      ]
    },
    {
      "cell_type": "code",
      "metadata": {
        "id": "vxD4gt9sphyO",
        "colab_type": "code",
        "outputId": "035d71be-c31d-4de1-b013-ba3324301ae7",
        "colab": {
          "base_uri": "https://localhost:8080/",
          "height": 34
        }
      },
      "source": [
        "y_predicted = model.predict(test)\n",
        "y_predicted[:2]"
      ],
      "execution_count": 0,
      "outputs": [
        {
          "output_type": "execute_result",
          "data": {
            "text/plain": [
              "array([0, 0])"
            ]
          },
          "metadata": {
            "tags": []
          },
          "execution_count": 191
        }
      ]
    },
    {
      "cell_type": "code",
      "metadata": {
        "id": "7lLPujEkdvQo",
        "colab_type": "code",
        "colab": {}
      },
      "source": [
        ""
      ],
      "execution_count": 0,
      "outputs": []
    },
    {
      "cell_type": "code",
      "metadata": {
        "id": "rmD3xwnQdq2Q",
        "colab_type": "code",
        "colab": {}
      },
      "source": [
        "y_ann = model2.predict_classes(test)"
      ],
      "execution_count": 0,
      "outputs": []
    },
    {
      "cell_type": "code",
      "metadata": {
        "id": "_Q2I1LPtRv5l",
        "colab_type": "code",
        "colab": {}
      },
      "source": [
        "y_predicted = y_ann"
      ],
      "execution_count": 0,
      "outputs": []
    },
    {
      "cell_type": "code",
      "metadata": {
        "id": "KrLgjVR-R7l9",
        "colab_type": "code",
        "colab": {
          "base_uri": "https://localhost:8080/",
          "height": 102
        },
        "outputId": "62c144d0-7ff1-463d-c635-c914868eb093"
      },
      "source": [
        "y_ann[:5]"
      ],
      "execution_count": 115,
      "outputs": [
        {
          "output_type": "execute_result",
          "data": {
            "text/plain": [
              "array([[1],\n",
              "       [1],\n",
              "       [1],\n",
              "       [1],\n",
              "       [1]], dtype=int32)"
            ]
          },
          "metadata": {
            "tags": []
          },
          "execution_count": 115
        }
      ]
    },
    {
      "cell_type": "code",
      "metadata": {
        "id": "xrNuRto0SBdw",
        "colab_type": "code",
        "colab": {
          "base_uri": "https://localhost:8080/",
          "height": 34
        },
        "outputId": "ec3d79a8-2728-4007-e26a-bdffcc69cff2"
      },
      "source": [
        "y_predicted = y_ann[:, 0]\n",
        "y_predicted[:10]"
      ],
      "execution_count": 145,
      "outputs": [
        {
          "output_type": "execute_result",
          "data": {
            "text/plain": [
              "array([0, 1, 1, 0, 0, 0, 0, 0, 0, 1], dtype=int32)"
            ]
          },
          "metadata": {
            "tags": []
          },
          "execution_count": 145
        }
      ]
    },
    {
      "cell_type": "code",
      "metadata": {
        "id": "uCbxRkCexYeE",
        "colab_type": "code",
        "outputId": "f9781021-f172-490a-d39e-831a92d6fef0",
        "colab": {
          "base_uri": "https://localhost:8080/",
          "height": 119
        }
      },
      "source": [
        "y_predicted = pd.Series(y_predicted)\n",
        "y_predicted[:5]"
      ],
      "execution_count": 146,
      "outputs": [
        {
          "output_type": "execute_result",
          "data": {
            "text/plain": [
              "0    0\n",
              "1    1\n",
              "2    1\n",
              "3    0\n",
              "4    0\n",
              "dtype: int32"
            ]
          },
          "metadata": {
            "tags": []
          },
          "execution_count": 146
        }
      ]
    },
    {
      "cell_type": "code",
      "metadata": {
        "id": "CN2nBe0BxzAJ",
        "colab_type": "code",
        "colab": {}
      },
      "source": [
        "y_predicted.replace([0, 1], ['N', 'Y'], inplace = True)"
      ],
      "execution_count": 0,
      "outputs": []
    },
    {
      "cell_type": "code",
      "metadata": {
        "id": "RX2f_dxyqh_k",
        "colab_type": "code",
        "outputId": "1fcd98d2-8fcd-41eb-f9e1-03b2a8ed5ff4",
        "colab": {
          "base_uri": "https://localhost:8080/",
          "height": 111
        }
      },
      "source": [
        "submission = test_id\n",
        "submission.head(2)"
      ],
      "execution_count": 148,
      "outputs": [
        {
          "output_type": "execute_result",
          "data": {
            "text/html": [
              "<div>\n",
              "<style scoped>\n",
              "    .dataframe tbody tr th:only-of-type {\n",
              "        vertical-align: middle;\n",
              "    }\n",
              "\n",
              "    .dataframe tbody tr th {\n",
              "        vertical-align: top;\n",
              "    }\n",
              "\n",
              "    .dataframe thead th {\n",
              "        text-align: right;\n",
              "    }\n",
              "</style>\n",
              "<table border=\"1\" class=\"dataframe\">\n",
              "  <thead>\n",
              "    <tr style=\"text-align: right;\">\n",
              "      <th></th>\n",
              "      <th>Loan_ID</th>\n",
              "      <th>Loan_Status</th>\n",
              "    </tr>\n",
              "  </thead>\n",
              "  <tbody>\n",
              "    <tr>\n",
              "      <th>0</th>\n",
              "      <td>LP001015</td>\n",
              "      <td>Y</td>\n",
              "    </tr>\n",
              "    <tr>\n",
              "      <th>1</th>\n",
              "      <td>LP001022</td>\n",
              "      <td>N</td>\n",
              "    </tr>\n",
              "  </tbody>\n",
              "</table>\n",
              "</div>"
            ],
            "text/plain": [
              "    Loan_ID Loan_Status\n",
              "0  LP001015           Y\n",
              "1  LP001022           N"
            ]
          },
          "metadata": {
            "tags": []
          },
          "execution_count": 148
        }
      ]
    },
    {
      "cell_type": "code",
      "metadata": {
        "id": "bU6ScBr-quJ2",
        "colab_type": "code",
        "outputId": "c9b3dabf-e374-4857-b603-b1a4dac1c075",
        "colab": {
          "base_uri": "https://localhost:8080/",
          "height": 111
        }
      },
      "source": [
        "submission['Loan_Status'] = y_predicted\n",
        "submission.head(2)"
      ],
      "execution_count": 149,
      "outputs": [
        {
          "output_type": "execute_result",
          "data": {
            "text/html": [
              "<div>\n",
              "<style scoped>\n",
              "    .dataframe tbody tr th:only-of-type {\n",
              "        vertical-align: middle;\n",
              "    }\n",
              "\n",
              "    .dataframe tbody tr th {\n",
              "        vertical-align: top;\n",
              "    }\n",
              "\n",
              "    .dataframe thead th {\n",
              "        text-align: right;\n",
              "    }\n",
              "</style>\n",
              "<table border=\"1\" class=\"dataframe\">\n",
              "  <thead>\n",
              "    <tr style=\"text-align: right;\">\n",
              "      <th></th>\n",
              "      <th>Loan_ID</th>\n",
              "      <th>Loan_Status</th>\n",
              "    </tr>\n",
              "  </thead>\n",
              "  <tbody>\n",
              "    <tr>\n",
              "      <th>0</th>\n",
              "      <td>LP001015</td>\n",
              "      <td>N</td>\n",
              "    </tr>\n",
              "    <tr>\n",
              "      <th>1</th>\n",
              "      <td>LP001022</td>\n",
              "      <td>Y</td>\n",
              "    </tr>\n",
              "  </tbody>\n",
              "</table>\n",
              "</div>"
            ],
            "text/plain": [
              "    Loan_ID Loan_Status\n",
              "0  LP001015           N\n",
              "1  LP001022           Y"
            ]
          },
          "metadata": {
            "tags": []
          },
          "execution_count": 149
        }
      ]
    },
    {
      "cell_type": "code",
      "metadata": {
        "id": "4rcPvNcbq4Hb",
        "colab_type": "code",
        "colab": {}
      },
      "source": [
        "submission.to_csv('ANN100epochs2.csv', index = False)"
      ],
      "execution_count": 0,
      "outputs": []
    },
    {
      "cell_type": "code",
      "metadata": {
        "id": "_tnHrgB3rEvp",
        "colab_type": "code",
        "colab": {}
      },
      "source": [
        "from google.colab import files\n",
        "files.download('ANN100epochs2.csv')"
      ],
      "execution_count": 0,
      "outputs": []
    },
    {
      "cell_type": "code",
      "metadata": {
        "id": "PA-kbFC9yp93",
        "colab_type": "code",
        "colab": {}
      },
      "source": [
        ""
      ],
      "execution_count": 0,
      "outputs": []
    }
  ]
}