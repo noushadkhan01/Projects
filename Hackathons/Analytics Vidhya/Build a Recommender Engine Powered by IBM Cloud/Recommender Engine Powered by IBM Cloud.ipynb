{
  "nbformat": 4,
  "nbformat_minor": 0,
  "metadata": {
    "colab": {
      "name": "Recommender Engine Powered by IBM Cloud.ipynb",
      "version": "0.3.2",
      "provenance": [],
      "include_colab_link": true
    },
    "kernelspec": {
      "name": "python3",
      "display_name": "Python 3"
    }
  },
  "cells": [
    {
      "cell_type": "markdown",
      "metadata": {
        "id": "view-in-github",
        "colab_type": "text"
      },
      "source": [
        "<a href=\"https://colab.research.google.com/github/noushadkhan01/Projects/blob/master/Hackathons/Analytics%20Vidhya/Build%20a%20Recommender%20Engine%20Powered%20by%20IBM%20Cloud/Recommender%20Engine%20Powered%20by%20IBM%20Cloud.ipynb\" target=\"_parent\"><img src=\"https://colab.research.google.com/assets/colab-badge.svg\" alt=\"Open In Colab\"/></a>"
      ]
    },
    {
      "cell_type": "code",
      "metadata": {
        "id": "gn4qVFIWMYg6",
        "colab_type": "code",
        "colab": {}
      },
      "source": [
        "import pandas as pd\n",
        "import seaborn as sns\n",
        "import numpy as np\n",
        "import matplotlib.pyplot as plt\n",
        "%matplotlib inline"
      ],
      "execution_count": 0,
      "outputs": []
    },
    {
      "cell_type": "code",
      "metadata": {
        "id": "QckPowR_NQwc",
        "colab_type": "code",
        "colab": {
          "base_uri": "https://localhost:8080/",
          "height": 204
        },
        "outputId": "eb02e288-c1c5-41fe-80aa-7b646d456e6f"
      },
      "source": [
        "train = pd.read_csv('https://bit.ly/32Okxx9', parse_dates = ['InvoiceDate'])\n",
        "train.head()"
      ],
      "execution_count": 40,
      "outputs": [
        {
          "output_type": "execute_result",
          "data": {
            "text/html": [
              "<div>\n",
              "<style scoped>\n",
              "    .dataframe tbody tr th:only-of-type {\n",
              "        vertical-align: middle;\n",
              "    }\n",
              "\n",
              "    .dataframe tbody tr th {\n",
              "        vertical-align: top;\n",
              "    }\n",
              "\n",
              "    .dataframe thead th {\n",
              "        text-align: right;\n",
              "    }\n",
              "</style>\n",
              "<table border=\"1\" class=\"dataframe\">\n",
              "  <thead>\n",
              "    <tr style=\"text-align: right;\">\n",
              "      <th></th>\n",
              "      <th>CustomerID</th>\n",
              "      <th>InvoiceNo</th>\n",
              "      <th>Quantity</th>\n",
              "      <th>InvoiceDate</th>\n",
              "      <th>UnitPrice</th>\n",
              "      <th>Country</th>\n",
              "      <th>StockCode</th>\n",
              "    </tr>\n",
              "  </thead>\n",
              "  <tbody>\n",
              "    <tr>\n",
              "      <th>0</th>\n",
              "      <td>27270</td>\n",
              "      <td>27270</td>\n",
              "      <td>7</td>\n",
              "      <td>2010-01-12 08:26:00</td>\n",
              "      <td>2.55</td>\n",
              "      <td>PX</td>\n",
              "      <td>85123AY</td>\n",
              "    </tr>\n",
              "    <tr>\n",
              "      <th>1</th>\n",
              "      <td>27270</td>\n",
              "      <td>27270</td>\n",
              "      <td>7</td>\n",
              "      <td>2010-01-12 08:26:00</td>\n",
              "      <td>3.39</td>\n",
              "      <td>PX</td>\n",
              "      <td>71053R</td>\n",
              "    </tr>\n",
              "    <tr>\n",
              "      <th>2</th>\n",
              "      <td>27270</td>\n",
              "      <td>27270</td>\n",
              "      <td>9</td>\n",
              "      <td>2010-01-12 08:26:00</td>\n",
              "      <td>2.75</td>\n",
              "      <td>PX</td>\n",
              "      <td>84406BH</td>\n",
              "    </tr>\n",
              "    <tr>\n",
              "      <th>3</th>\n",
              "      <td>27270</td>\n",
              "      <td>27270</td>\n",
              "      <td>7</td>\n",
              "      <td>2010-01-12 08:26:00</td>\n",
              "      <td>3.39</td>\n",
              "      <td>PX</td>\n",
              "      <td>84029GV</td>\n",
              "    </tr>\n",
              "    <tr>\n",
              "      <th>4</th>\n",
              "      <td>27270</td>\n",
              "      <td>27270</td>\n",
              "      <td>7</td>\n",
              "      <td>2010-01-12 08:26:00</td>\n",
              "      <td>3.39</td>\n",
              "      <td>PX</td>\n",
              "      <td>84029EX</td>\n",
              "    </tr>\n",
              "  </tbody>\n",
              "</table>\n",
              "</div>"
            ],
            "text/plain": [
              "   CustomerID  InvoiceNo  Quantity  ... UnitPrice  Country StockCode\n",
              "0       27270      27270         7  ...      2.55       PX   85123AY\n",
              "1       27270      27270         7  ...      3.39       PX    71053R\n",
              "2       27270      27270         9  ...      2.75       PX   84406BH\n",
              "3       27270      27270         7  ...      3.39       PX   84029GV\n",
              "4       27270      27270         7  ...      3.39       PX   84029EX\n",
              "\n",
              "[5 rows x 7 columns]"
            ]
          },
          "metadata": {
            "tags": []
          },
          "execution_count": 40
        }
      ]
    },
    {
      "cell_type": "code",
      "metadata": {
        "id": "iGpbLpNcpd3T",
        "colab_type": "code",
        "colab": {
          "base_uri": "https://localhost:8080/",
          "height": 34
        },
        "outputId": "ae4e8794-b52e-475d-e031-efd40c72aa74"
      },
      "source": [
        "train.shape"
      ],
      "execution_count": 41,
      "outputs": [
        {
          "output_type": "execute_result",
          "data": {
            "text/plain": [
              "(330575, 7)"
            ]
          },
          "metadata": {
            "tags": []
          },
          "execution_count": 41
        }
      ]
    },
    {
      "cell_type": "code",
      "metadata": {
        "id": "rfoF5aL4NYOd",
        "colab_type": "code",
        "colab": {
          "base_uri": "https://localhost:8080/",
          "height": 204
        },
        "outputId": "400802ef-3971-4c41-ba8c-b7b14bafd520"
      },
      "source": [
        "test = pd.read_csv('https://bit.ly/30SBLrj', parse_dates = ['InvoiceDate'])\n",
        "test.head()"
      ],
      "execution_count": 42,
      "outputs": [
        {
          "output_type": "execute_result",
          "data": {
            "text/html": [
              "<div>\n",
              "<style scoped>\n",
              "    .dataframe tbody tr th:only-of-type {\n",
              "        vertical-align: middle;\n",
              "    }\n",
              "\n",
              "    .dataframe tbody tr th {\n",
              "        vertical-align: top;\n",
              "    }\n",
              "\n",
              "    .dataframe thead th {\n",
              "        text-align: right;\n",
              "    }\n",
              "</style>\n",
              "<table border=\"1\" class=\"dataframe\">\n",
              "  <thead>\n",
              "    <tr style=\"text-align: right;\">\n",
              "      <th></th>\n",
              "      <th>Country</th>\n",
              "      <th>CustomerID</th>\n",
              "      <th>InvoiceDate</th>\n",
              "      <th>InvoiceNo</th>\n",
              "      <th>Quantity</th>\n",
              "      <th>StockCode</th>\n",
              "      <th>UnitPrice</th>\n",
              "    </tr>\n",
              "  </thead>\n",
              "  <tbody>\n",
              "    <tr>\n",
              "      <th>0</th>\n",
              "      <td>PX</td>\n",
              "      <td>127269</td>\n",
              "      <td>2010-01-12 08:28:00</td>\n",
              "      <td>127269</td>\n",
              "      <td>7</td>\n",
              "      <td>22633V</td>\n",
              "      <td>1.85</td>\n",
              "    </tr>\n",
              "    <tr>\n",
              "      <th>1</th>\n",
              "      <td>PX</td>\n",
              "      <td>227268</td>\n",
              "      <td>2010-01-12 08:34:00</td>\n",
              "      <td>227268</td>\n",
              "      <td>38</td>\n",
              "      <td>84879M</td>\n",
              "      <td>1.69</td>\n",
              "    </tr>\n",
              "    <tr>\n",
              "      <th>2</th>\n",
              "      <td>PX</td>\n",
              "      <td>227268</td>\n",
              "      <td>2010-01-12 08:34:00</td>\n",
              "      <td>227268</td>\n",
              "      <td>7</td>\n",
              "      <td>22748P</td>\n",
              "      <td>2.10</td>\n",
              "    </tr>\n",
              "    <tr>\n",
              "      <th>3</th>\n",
              "      <td>PX</td>\n",
              "      <td>227268</td>\n",
              "      <td>2010-01-12 08:34:00</td>\n",
              "      <td>227268</td>\n",
              "      <td>9</td>\n",
              "      <td>22749K</td>\n",
              "      <td>3.75</td>\n",
              "    </tr>\n",
              "    <tr>\n",
              "      <th>4</th>\n",
              "      <td>PX</td>\n",
              "      <td>227268</td>\n",
              "      <td>2010-01-12 08:34:00</td>\n",
              "      <td>227268</td>\n",
              "      <td>2</td>\n",
              "      <td>22622G</td>\n",
              "      <td>9.95</td>\n",
              "    </tr>\n",
              "  </tbody>\n",
              "</table>\n",
              "</div>"
            ],
            "text/plain": [
              "  Country  CustomerID         InvoiceDate  ...  Quantity  StockCode UnitPrice\n",
              "0      PX      127269 2010-01-12 08:28:00  ...         7     22633V      1.85\n",
              "1      PX      227268 2010-01-12 08:34:00  ...        38     84879M      1.69\n",
              "2      PX      227268 2010-01-12 08:34:00  ...         7     22748P      2.10\n",
              "3      PX      227268 2010-01-12 08:34:00  ...         9     22749K      3.75\n",
              "4      PX      227268 2010-01-12 08:34:00  ...         2     22622G      9.95\n",
              "\n",
              "[5 rows x 7 columns]"
            ]
          },
          "metadata": {
            "tags": []
          },
          "execution_count": 42
        }
      ]
    },
    {
      "cell_type": "code",
      "metadata": {
        "id": "8a-ysuKBN4IY",
        "colab_type": "code",
        "colab": {
          "base_uri": "https://localhost:8080/",
          "height": 34
        },
        "outputId": "91e15739-0a64-445a-8666-83e2a0d1fac7"
      },
      "source": [
        "train.shape, test.shape"
      ],
      "execution_count": 4,
      "outputs": [
        {
          "output_type": "execute_result",
          "data": {
            "text/plain": [
              "((330575, 7), (103097, 7))"
            ]
          },
          "metadata": {
            "tags": []
          },
          "execution_count": 4
        }
      ]
    },
    {
      "cell_type": "code",
      "metadata": {
        "id": "tNXidDfwN6G5",
        "colab_type": "code",
        "colab": {
          "base_uri": "https://localhost:8080/",
          "height": 68
        },
        "outputId": "18f9ace7-77cf-4a3c-b7d3-b58e3fcd9593"
      },
      "source": [
        "train.isnull().sum().sort_values(ascending = False)[:2]"
      ],
      "execution_count": 11,
      "outputs": [
        {
          "output_type": "execute_result",
          "data": {
            "text/plain": [
              "StockCode    0\n",
              "Country      0\n",
              "dtype: int64"
            ]
          },
          "metadata": {
            "tags": []
          },
          "execution_count": 11
        }
      ]
    },
    {
      "cell_type": "code",
      "metadata": {
        "id": "-kYcY43KS2lt",
        "colab_type": "code",
        "colab": {
          "base_uri": "https://localhost:8080/",
          "height": 68
        },
        "outputId": "dd043a89-accc-4563-9bc2-e9208c3c9430"
      },
      "source": [
        "test.isnull().sum().sort_values(ascending = False)[:2]"
      ],
      "execution_count": 12,
      "outputs": [
        {
          "output_type": "execute_result",
          "data": {
            "text/plain": [
              "UnitPrice    0\n",
              "StockCode    0\n",
              "dtype: int64"
            ]
          },
          "metadata": {
            "tags": []
          },
          "execution_count": 12
        }
      ]
    },
    {
      "cell_type": "markdown",
      "metadata": {
        "id": "sWcx2XzWS3b3",
        "colab_type": "text"
      },
      "source": [
        "**As we can see train and test dataset have differend order for columns so we need to reorder this**"
      ]
    },
    {
      "cell_type": "code",
      "metadata": {
        "id": "cnNI2bj6Tmqh",
        "colab_type": "code",
        "colab": {
          "base_uri": "https://localhost:8080/",
          "height": 68
        },
        "outputId": "bb7d98a4-f42a-4894-8fe5-a56969c893df"
      },
      "source": [
        "train.columns"
      ],
      "execution_count": 13,
      "outputs": [
        {
          "output_type": "execute_result",
          "data": {
            "text/plain": [
              "Index(['CustomerID', 'InvoiceNo', 'Quantity', 'InvoiceDate', 'UnitPrice',\n",
              "       'Country', 'StockCode'],\n",
              "      dtype='object')"
            ]
          },
          "metadata": {
            "tags": []
          },
          "execution_count": 13
        }
      ]
    },
    {
      "cell_type": "code",
      "metadata": {
        "id": "toUdaGqFToff",
        "colab_type": "code",
        "colab": {
          "base_uri": "https://localhost:8080/",
          "height": 68
        },
        "outputId": "0f5842f4-8c96-43b9-c9bb-60f9ca845576"
      },
      "source": [
        "test.columns"
      ],
      "execution_count": 14,
      "outputs": [
        {
          "output_type": "execute_result",
          "data": {
            "text/plain": [
              "Index(['Country', 'CustomerID', 'InvoiceDate', 'InvoiceNo', 'Quantity',\n",
              "       'StockCode', 'UnitPrice'],\n",
              "      dtype='object')"
            ]
          },
          "metadata": {
            "tags": []
          },
          "execution_count": 14
        }
      ]
    },
    {
      "cell_type": "code",
      "metadata": {
        "id": "OK2Sxj1ETq6E",
        "colab_type": "code",
        "colab": {
          "base_uri": "https://localhost:8080/",
          "height": 204
        },
        "outputId": "066bf69a-8c25-4751-f9a6-ef0673617122"
      },
      "source": [
        "test = test[train.columns]\n",
        "test.head()"
      ],
      "execution_count": 46,
      "outputs": [
        {
          "output_type": "execute_result",
          "data": {
            "text/html": [
              "<div>\n",
              "<style scoped>\n",
              "    .dataframe tbody tr th:only-of-type {\n",
              "        vertical-align: middle;\n",
              "    }\n",
              "\n",
              "    .dataframe tbody tr th {\n",
              "        vertical-align: top;\n",
              "    }\n",
              "\n",
              "    .dataframe thead th {\n",
              "        text-align: right;\n",
              "    }\n",
              "</style>\n",
              "<table border=\"1\" class=\"dataframe\">\n",
              "  <thead>\n",
              "    <tr style=\"text-align: right;\">\n",
              "      <th></th>\n",
              "      <th>CustomerID</th>\n",
              "      <th>InvoiceNo</th>\n",
              "      <th>Quantity</th>\n",
              "      <th>InvoiceDate</th>\n",
              "      <th>UnitPrice</th>\n",
              "      <th>Country</th>\n",
              "      <th>StockCode</th>\n",
              "    </tr>\n",
              "  </thead>\n",
              "  <tbody>\n",
              "    <tr>\n",
              "      <th>0</th>\n",
              "      <td>127269</td>\n",
              "      <td>127269</td>\n",
              "      <td>7</td>\n",
              "      <td>2010-01-12 08:28:00</td>\n",
              "      <td>1.85</td>\n",
              "      <td>PX</td>\n",
              "      <td>22633V</td>\n",
              "    </tr>\n",
              "    <tr>\n",
              "      <th>1</th>\n",
              "      <td>227268</td>\n",
              "      <td>227268</td>\n",
              "      <td>38</td>\n",
              "      <td>2010-01-12 08:34:00</td>\n",
              "      <td>1.69</td>\n",
              "      <td>PX</td>\n",
              "      <td>84879M</td>\n",
              "    </tr>\n",
              "    <tr>\n",
              "      <th>2</th>\n",
              "      <td>227268</td>\n",
              "      <td>227268</td>\n",
              "      <td>7</td>\n",
              "      <td>2010-01-12 08:34:00</td>\n",
              "      <td>2.10</td>\n",
              "      <td>PX</td>\n",
              "      <td>22748P</td>\n",
              "    </tr>\n",
              "    <tr>\n",
              "      <th>3</th>\n",
              "      <td>227268</td>\n",
              "      <td>227268</td>\n",
              "      <td>9</td>\n",
              "      <td>2010-01-12 08:34:00</td>\n",
              "      <td>3.75</td>\n",
              "      <td>PX</td>\n",
              "      <td>22749K</td>\n",
              "    </tr>\n",
              "    <tr>\n",
              "      <th>4</th>\n",
              "      <td>227268</td>\n",
              "      <td>227268</td>\n",
              "      <td>2</td>\n",
              "      <td>2010-01-12 08:34:00</td>\n",
              "      <td>9.95</td>\n",
              "      <td>PX</td>\n",
              "      <td>22622G</td>\n",
              "    </tr>\n",
              "  </tbody>\n",
              "</table>\n",
              "</div>"
            ],
            "text/plain": [
              "   CustomerID  InvoiceNo  Quantity  ... UnitPrice  Country StockCode\n",
              "0      127269     127269         7  ...      1.85       PX    22633V\n",
              "1      227268     227268        38  ...      1.69       PX    84879M\n",
              "2      227268     227268         7  ...      2.10       PX    22748P\n",
              "3      227268     227268         9  ...      3.75       PX    22749K\n",
              "4      227268     227268         2  ...      9.95       PX    22622G\n",
              "\n",
              "[5 rows x 7 columns]"
            ]
          },
          "metadata": {
            "tags": []
          },
          "execution_count": 46
        }
      ]
    },
    {
      "cell_type": "code",
      "metadata": {
        "id": "W9ooeQEfUJKu",
        "colab_type": "code",
        "colab": {
          "base_uri": "https://localhost:8080/",
          "height": 68
        },
        "outputId": "f188376a-eb1a-4ba5-8a68-aacaeb3c8c54"
      },
      "source": [
        "test.columns"
      ],
      "execution_count": 16,
      "outputs": [
        {
          "output_type": "execute_result",
          "data": {
            "text/plain": [
              "Index(['CustomerID', 'InvoiceNo', 'Quantity', 'InvoiceDate', 'UnitPrice',\n",
              "       'Country', 'StockCode'],\n",
              "      dtype='object')"
            ]
          },
          "metadata": {
            "tags": []
          },
          "execution_count": 16
        }
      ]
    },
    {
      "cell_type": "markdown",
      "metadata": {
        "id": "RQHAgV1gpyWJ",
        "colab_type": "text"
      },
      "source": [
        "**no of unique countries**"
      ]
    },
    {
      "cell_type": "code",
      "metadata": {
        "id": "VmZWYYubpo71",
        "colab_type": "code",
        "colab": {
          "base_uri": "https://localhost:8080/",
          "height": 34
        },
        "outputId": "ec253960-2a6b-4afd-92d8-b0589e74872d"
      },
      "source": [
        "train.Country.nunique()"
      ],
      "execution_count": 33,
      "outputs": [
        {
          "output_type": "execute_result",
          "data": {
            "text/plain": [
              "38"
            ]
          },
          "metadata": {
            "tags": []
          },
          "execution_count": 33
        }
      ]
    },
    {
      "cell_type": "markdown",
      "metadata": {
        "id": "_8zxgJkdp6SK",
        "colab_type": "text"
      },
      "source": [
        "**no. of unique products**"
      ]
    },
    {
      "cell_type": "code",
      "metadata": {
        "id": "esNZAKNWpZBT",
        "colab_type": "code",
        "colab": {
          "base_uri": "https://localhost:8080/",
          "height": 34
        },
        "outputId": "47c5da4e-52b5-473d-cf26-6c8386fe80a8"
      },
      "source": [
        "train.StockCode.nunique()"
      ],
      "execution_count": 31,
      "outputs": [
        {
          "output_type": "execute_result",
          "data": {
            "text/plain": [
              "3810"
            ]
          },
          "metadata": {
            "tags": []
          },
          "execution_count": 31
        }
      ]
    },
    {
      "cell_type": "code",
      "metadata": {
        "id": "2zmgNJDBqBoy",
        "colab_type": "code",
        "colab": {
          "base_uri": "https://localhost:8080/",
          "height": 34
        },
        "outputId": "b78fc1f2-b59d-44ad-b50f-9aff0af28a6e"
      },
      "source": [
        "test.InvoiceDate.dtype"
      ],
      "execution_count": 44,
      "outputs": [
        {
          "output_type": "execute_result",
          "data": {
            "text/plain": [
              "dtype('<M8[ns]')"
            ]
          },
          "metadata": {
            "tags": []
          },
          "execution_count": 44
        }
      ]
    },
    {
      "cell_type": "markdown",
      "metadata": {
        "id": "SND_WucLrV3X",
        "colab_type": "text"
      },
      "source": [
        "**invoice date**"
      ]
    },
    {
      "cell_type": "code",
      "metadata": {
        "id": "NgwH2p_0rz69",
        "colab_type": "code",
        "colab": {
          "base_uri": "https://localhost:8080/",
          "height": 34
        },
        "outputId": "45a5b541-c34d-467b-ca11-a6e9f12b0e79"
      },
      "source": [
        "train.InvoiceDate.min(), train.InvoiceDate.max()"
      ],
      "execution_count": 45,
      "outputs": [
        {
          "output_type": "execute_result",
          "data": {
            "text/plain": [
              "(Timestamp('2010-01-12 08:26:00'), Timestamp('2011-12-10 17:19:00'))"
            ]
          },
          "metadata": {
            "tags": []
          },
          "execution_count": 45
        }
      ]
    },
    {
      "cell_type": "markdown",
      "metadata": {
        "id": "H_EfCX8-UQj2",
        "colab_type": "text"
      },
      "source": [
        "drop columns those are not important to the model"
      ]
    },
    {
      "cell_type": "code",
      "metadata": {
        "id": "iB6xIC0BVG7j",
        "colab_type": "code",
        "colab": {}
      },
      "source": [
        "def check_invoice_count_per_customer(data):\n",
        "  id_g = data.groupby('CustomerID')\n",
        "  yes = 0\n",
        "  for i, j in id_g:\n",
        "    uinvoice = j.InvoiceNo.nunique()\n",
        "    if uinvoice > 1:\n",
        "      print(i)\n",
        "      print(uinvoice, '\\n\\n')\n",
        "      yes += 1\n",
        "  if not yes:\n",
        "    print('none of the customers have bought more than 1 time')"
      ],
      "execution_count": 0,
      "outputs": []
    },
    {
      "cell_type": "code",
      "metadata": {
        "id": "DQYgHXB-U4fG",
        "colab_type": "code",
        "colab": {
          "base_uri": "https://localhost:8080/",
          "height": 34
        },
        "outputId": "ad1ffc9f-07c8-480c-d316-3f417851c7d4"
      },
      "source": [
        "check_invoice_count_per_customer(train)"
      ],
      "execution_count": 27,
      "outputs": [
        {
          "output_type": "stream",
          "text": [
            "none of the customers have bought more than 1 time\n"
          ],
          "name": "stdout"
        }
      ]
    },
    {
      "cell_type": "code",
      "metadata": {
        "id": "JJTeRe0tWwXX",
        "colab_type": "code",
        "colab": {
          "base_uri": "https://localhost:8080/",
          "height": 34
        },
        "outputId": "4627e5b6-8331-4b32-db15-2b30f15f1773"
      },
      "source": [
        "check_invoice_count_per_customer(test)"
      ],
      "execution_count": 28,
      "outputs": [
        {
          "output_type": "stream",
          "text": [
            "none of the customers have bought more than 1 time\n"
          ],
          "name": "stdout"
        }
      ]
    },
    {
      "cell_type": "code",
      "metadata": {
        "id": "8T2Lkxe3W32P",
        "colab_type": "code",
        "colab": {}
      },
      "source": [
        ""
      ],
      "execution_count": 0,
      "outputs": []
    }
  ]
}