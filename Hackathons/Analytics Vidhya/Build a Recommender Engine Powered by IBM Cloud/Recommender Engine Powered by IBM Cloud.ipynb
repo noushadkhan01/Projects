{
  "nbformat": 4,
  "nbformat_minor": 0,
  "metadata": {
    "colab": {
      "name": "Recommender Engine Powered by IBM Cloud.ipynb",
      "version": "0.3.2",
      "provenance": [],
      "include_colab_link": true
    },
    "kernelspec": {
      "name": "python3",
      "display_name": "Python 3"
    }
  },
  "cells": [
    {
      "cell_type": "markdown",
      "metadata": {
        "id": "view-in-github",
        "colab_type": "text"
      },
      "source": [
        "<a href=\"https://colab.research.google.com/github/noushadkhan01/Projects/blob/master/Hackathons/Analytics%20Vidhya/Build%20a%20Recommender%20Engine%20Powered%20by%20IBM%20Cloud/Recommender%20Engine%20Powered%20by%20IBM%20Cloud.ipynb\" target=\"_parent\"><img src=\"https://colab.research.google.com/assets/colab-badge.svg\" alt=\"Open In Colab\"/></a>"
      ]
    },
    {
      "cell_type": "code",
      "metadata": {
        "id": "gn4qVFIWMYg6",
        "colab_type": "code",
        "colab": {}
      },
      "source": [
        "import pandas as pd\n",
        "import seaborn as sns\n",
        "import numpy as np\n",
        "import matplotlib.pyplot as plt\n",
        "%matplotlib inline"
      ],
      "execution_count": 0,
      "outputs": []
    },
    {
      "cell_type": "code",
      "metadata": {
        "id": "QckPowR_NQwc",
        "colab_type": "code",
        "colab": {
          "base_uri": "https://localhost:8080/",
          "height": 204
        },
        "outputId": "979ed99e-185e-4235-e065-b3b740e7d0a5"
      },
      "source": [
        "train = pd.read_csv('https://bit.ly/32Okxx9')\n",
        "train.head()"
      ],
      "execution_count": 64,
      "outputs": [
        {
          "output_type": "execute_result",
          "data": {
            "text/html": [
              "<div>\n",
              "<style scoped>\n",
              "    .dataframe tbody tr th:only-of-type {\n",
              "        vertical-align: middle;\n",
              "    }\n",
              "\n",
              "    .dataframe tbody tr th {\n",
              "        vertical-align: top;\n",
              "    }\n",
              "\n",
              "    .dataframe thead th {\n",
              "        text-align: right;\n",
              "    }\n",
              "</style>\n",
              "<table border=\"1\" class=\"dataframe\">\n",
              "  <thead>\n",
              "    <tr style=\"text-align: right;\">\n",
              "      <th></th>\n",
              "      <th>CustomerID</th>\n",
              "      <th>InvoiceNo</th>\n",
              "      <th>Quantity</th>\n",
              "      <th>InvoiceDate</th>\n",
              "      <th>UnitPrice</th>\n",
              "      <th>Country</th>\n",
              "      <th>StockCode</th>\n",
              "    </tr>\n",
              "  </thead>\n",
              "  <tbody>\n",
              "    <tr>\n",
              "      <th>0</th>\n",
              "      <td>27270</td>\n",
              "      <td>27270</td>\n",
              "      <td>7</td>\n",
              "      <td>01/12/10 8:26</td>\n",
              "      <td>2.55</td>\n",
              "      <td>PX</td>\n",
              "      <td>85123AY</td>\n",
              "    </tr>\n",
              "    <tr>\n",
              "      <th>1</th>\n",
              "      <td>27270</td>\n",
              "      <td>27270</td>\n",
              "      <td>7</td>\n",
              "      <td>01/12/10 8:26</td>\n",
              "      <td>3.39</td>\n",
              "      <td>PX</td>\n",
              "      <td>71053R</td>\n",
              "    </tr>\n",
              "    <tr>\n",
              "      <th>2</th>\n",
              "      <td>27270</td>\n",
              "      <td>27270</td>\n",
              "      <td>9</td>\n",
              "      <td>01/12/10 8:26</td>\n",
              "      <td>2.75</td>\n",
              "      <td>PX</td>\n",
              "      <td>84406BH</td>\n",
              "    </tr>\n",
              "    <tr>\n",
              "      <th>3</th>\n",
              "      <td>27270</td>\n",
              "      <td>27270</td>\n",
              "      <td>7</td>\n",
              "      <td>01/12/10 8:26</td>\n",
              "      <td>3.39</td>\n",
              "      <td>PX</td>\n",
              "      <td>84029GV</td>\n",
              "    </tr>\n",
              "    <tr>\n",
              "      <th>4</th>\n",
              "      <td>27270</td>\n",
              "      <td>27270</td>\n",
              "      <td>7</td>\n",
              "      <td>01/12/10 8:26</td>\n",
              "      <td>3.39</td>\n",
              "      <td>PX</td>\n",
              "      <td>84029EX</td>\n",
              "    </tr>\n",
              "  </tbody>\n",
              "</table>\n",
              "</div>"
            ],
            "text/plain": [
              "   CustomerID  InvoiceNo  Quantity    InvoiceDate  UnitPrice Country StockCode\n",
              "0       27270      27270         7  01/12/10 8:26       2.55      PX   85123AY\n",
              "1       27270      27270         7  01/12/10 8:26       3.39      PX    71053R\n",
              "2       27270      27270         9  01/12/10 8:26       2.75      PX   84406BH\n",
              "3       27270      27270         7  01/12/10 8:26       3.39      PX   84029GV\n",
              "4       27270      27270         7  01/12/10 8:26       3.39      PX   84029EX"
            ]
          },
          "metadata": {
            "tags": []
          },
          "execution_count": 64
        }
      ]
    },
    {
      "cell_type": "code",
      "metadata": {
        "id": "iGpbLpNcpd3T",
        "colab_type": "code",
        "colab": {
          "base_uri": "https://localhost:8080/",
          "height": 34
        },
        "outputId": "f5832404-3b35-4a35-e81d-704f560f2545"
      },
      "source": [
        "train.shape"
      ],
      "execution_count": 4,
      "outputs": [
        {
          "output_type": "execute_result",
          "data": {
            "text/plain": [
              "(330575, 7)"
            ]
          },
          "metadata": {
            "tags": []
          },
          "execution_count": 4
        }
      ]
    },
    {
      "cell_type": "code",
      "metadata": {
        "id": "rfoF5aL4NYOd",
        "colab_type": "code",
        "colab": {
          "base_uri": "https://localhost:8080/",
          "height": 204
        },
        "outputId": "df47db99-79f7-47cb-e25f-e571b6091ad0"
      },
      "source": [
        "test = pd.read_csv('https://bit.ly/30SBLrj')\n",
        "test.head()"
      ],
      "execution_count": 79,
      "outputs": [
        {
          "output_type": "execute_result",
          "data": {
            "text/html": [
              "<div>\n",
              "<style scoped>\n",
              "    .dataframe tbody tr th:only-of-type {\n",
              "        vertical-align: middle;\n",
              "    }\n",
              "\n",
              "    .dataframe tbody tr th {\n",
              "        vertical-align: top;\n",
              "    }\n",
              "\n",
              "    .dataframe thead th {\n",
              "        text-align: right;\n",
              "    }\n",
              "</style>\n",
              "<table border=\"1\" class=\"dataframe\">\n",
              "  <thead>\n",
              "    <tr style=\"text-align: right;\">\n",
              "      <th></th>\n",
              "      <th>Country</th>\n",
              "      <th>CustomerID</th>\n",
              "      <th>InvoiceDate</th>\n",
              "      <th>InvoiceNo</th>\n",
              "      <th>Quantity</th>\n",
              "      <th>StockCode</th>\n",
              "      <th>UnitPrice</th>\n",
              "    </tr>\n",
              "  </thead>\n",
              "  <tbody>\n",
              "    <tr>\n",
              "      <th>0</th>\n",
              "      <td>PX</td>\n",
              "      <td>127269</td>\n",
              "      <td>01/12/10 8:28</td>\n",
              "      <td>127269</td>\n",
              "      <td>7</td>\n",
              "      <td>22633V</td>\n",
              "      <td>1.85</td>\n",
              "    </tr>\n",
              "    <tr>\n",
              "      <th>1</th>\n",
              "      <td>PX</td>\n",
              "      <td>227268</td>\n",
              "      <td>01/12/10 8:34</td>\n",
              "      <td>227268</td>\n",
              "      <td>38</td>\n",
              "      <td>84879M</td>\n",
              "      <td>1.69</td>\n",
              "    </tr>\n",
              "    <tr>\n",
              "      <th>2</th>\n",
              "      <td>PX</td>\n",
              "      <td>227268</td>\n",
              "      <td>01/12/10 8:34</td>\n",
              "      <td>227268</td>\n",
              "      <td>7</td>\n",
              "      <td>22748P</td>\n",
              "      <td>2.10</td>\n",
              "    </tr>\n",
              "    <tr>\n",
              "      <th>3</th>\n",
              "      <td>PX</td>\n",
              "      <td>227268</td>\n",
              "      <td>01/12/10 8:34</td>\n",
              "      <td>227268</td>\n",
              "      <td>9</td>\n",
              "      <td>22749K</td>\n",
              "      <td>3.75</td>\n",
              "    </tr>\n",
              "    <tr>\n",
              "      <th>4</th>\n",
              "      <td>PX</td>\n",
              "      <td>227268</td>\n",
              "      <td>01/12/10 8:34</td>\n",
              "      <td>227268</td>\n",
              "      <td>2</td>\n",
              "      <td>22622G</td>\n",
              "      <td>9.95</td>\n",
              "    </tr>\n",
              "  </tbody>\n",
              "</table>\n",
              "</div>"
            ],
            "text/plain": [
              "  Country  CustomerID    InvoiceDate  InvoiceNo  Quantity StockCode  UnitPrice\n",
              "0      PX      127269  01/12/10 8:28     127269         7    22633V       1.85\n",
              "1      PX      227268  01/12/10 8:34     227268        38    84879M       1.69\n",
              "2      PX      227268  01/12/10 8:34     227268         7    22748P       2.10\n",
              "3      PX      227268  01/12/10 8:34     227268         9    22749K       3.75\n",
              "4      PX      227268  01/12/10 8:34     227268         2    22622G       9.95"
            ]
          },
          "metadata": {
            "tags": []
          },
          "execution_count": 79
        }
      ]
    },
    {
      "cell_type": "code",
      "metadata": {
        "id": "8a-ysuKBN4IY",
        "colab_type": "code",
        "colab": {
          "base_uri": "https://localhost:8080/",
          "height": 34
        },
        "outputId": "ecd7d212-1c05-43a9-90e3-e64fa705c119"
      },
      "source": [
        "train.shape, test.shape"
      ],
      "execution_count": 6,
      "outputs": [
        {
          "output_type": "execute_result",
          "data": {
            "text/plain": [
              "((330575, 7), (103097, 7))"
            ]
          },
          "metadata": {
            "tags": []
          },
          "execution_count": 6
        }
      ]
    },
    {
      "cell_type": "code",
      "metadata": {
        "id": "tNXidDfwN6G5",
        "colab_type": "code",
        "colab": {
          "base_uri": "https://localhost:8080/",
          "height": 68
        },
        "outputId": "1091ed6b-e427-45d4-d638-cdbcc908bf4f"
      },
      "source": [
        "train.isnull().sum().sort_values(ascending = False)[:2]"
      ],
      "execution_count": 7,
      "outputs": [
        {
          "output_type": "execute_result",
          "data": {
            "text/plain": [
              "StockCode    0\n",
              "Country      0\n",
              "dtype: int64"
            ]
          },
          "metadata": {
            "tags": []
          },
          "execution_count": 7
        }
      ]
    },
    {
      "cell_type": "code",
      "metadata": {
        "id": "-kYcY43KS2lt",
        "colab_type": "code",
        "colab": {
          "base_uri": "https://localhost:8080/",
          "height": 68
        },
        "outputId": "78f4914d-03dc-4827-f7a2-93fb72454299"
      },
      "source": [
        "test.isnull().sum().sort_values(ascending = False)[:2]"
      ],
      "execution_count": 8,
      "outputs": [
        {
          "output_type": "execute_result",
          "data": {
            "text/plain": [
              "UnitPrice    0\n",
              "StockCode    0\n",
              "dtype: int64"
            ]
          },
          "metadata": {
            "tags": []
          },
          "execution_count": 8
        }
      ]
    },
    {
      "cell_type": "markdown",
      "metadata": {
        "id": "sWcx2XzWS3b3",
        "colab_type": "text"
      },
      "source": [
        "**As we can see train and test dataset have differend order for columns so we need to reorder this**"
      ]
    },
    {
      "cell_type": "code",
      "metadata": {
        "id": "cnNI2bj6Tmqh",
        "colab_type": "code",
        "colab": {
          "base_uri": "https://localhost:8080/",
          "height": 68
        },
        "outputId": "4447986c-1bf7-42f8-c42b-b8cf101d45a8"
      },
      "source": [
        "train.columns"
      ],
      "execution_count": 9,
      "outputs": [
        {
          "output_type": "execute_result",
          "data": {
            "text/plain": [
              "Index(['CustomerID', 'InvoiceNo', 'Quantity', 'InvoiceDate', 'UnitPrice',\n",
              "       'Country', 'StockCode'],\n",
              "      dtype='object')"
            ]
          },
          "metadata": {
            "tags": []
          },
          "execution_count": 9
        }
      ]
    },
    {
      "cell_type": "code",
      "metadata": {
        "id": "toUdaGqFToff",
        "colab_type": "code",
        "colab": {
          "base_uri": "https://localhost:8080/",
          "height": 68
        },
        "outputId": "b0cb8f4f-b6dc-43c0-ce07-ec4e47ae0e37"
      },
      "source": [
        "test.columns"
      ],
      "execution_count": 10,
      "outputs": [
        {
          "output_type": "execute_result",
          "data": {
            "text/plain": [
              "Index(['Country', 'CustomerID', 'InvoiceDate', 'InvoiceNo', 'Quantity',\n",
              "       'StockCode', 'UnitPrice'],\n",
              "      dtype='object')"
            ]
          },
          "metadata": {
            "tags": []
          },
          "execution_count": 10
        }
      ]
    },
    {
      "cell_type": "code",
      "metadata": {
        "id": "OK2Sxj1ETq6E",
        "colab_type": "code",
        "colab": {
          "base_uri": "https://localhost:8080/",
          "height": 204
        },
        "outputId": "53103fa5-26f7-4e4e-e2b4-a8b9017cb3ea"
      },
      "source": [
        "test = test[train.columns]\n",
        "test.head()"
      ],
      "execution_count": 11,
      "outputs": [
        {
          "output_type": "execute_result",
          "data": {
            "text/html": [
              "<div>\n",
              "<style scoped>\n",
              "    .dataframe tbody tr th:only-of-type {\n",
              "        vertical-align: middle;\n",
              "    }\n",
              "\n",
              "    .dataframe tbody tr th {\n",
              "        vertical-align: top;\n",
              "    }\n",
              "\n",
              "    .dataframe thead th {\n",
              "        text-align: right;\n",
              "    }\n",
              "</style>\n",
              "<table border=\"1\" class=\"dataframe\">\n",
              "  <thead>\n",
              "    <tr style=\"text-align: right;\">\n",
              "      <th></th>\n",
              "      <th>CustomerID</th>\n",
              "      <th>InvoiceNo</th>\n",
              "      <th>Quantity</th>\n",
              "      <th>InvoiceDate</th>\n",
              "      <th>UnitPrice</th>\n",
              "      <th>Country</th>\n",
              "      <th>StockCode</th>\n",
              "    </tr>\n",
              "  </thead>\n",
              "  <tbody>\n",
              "    <tr>\n",
              "      <th>0</th>\n",
              "      <td>127269</td>\n",
              "      <td>127269</td>\n",
              "      <td>7</td>\n",
              "      <td>01/12/10 8:28</td>\n",
              "      <td>1.85</td>\n",
              "      <td>PX</td>\n",
              "      <td>22633V</td>\n",
              "    </tr>\n",
              "    <tr>\n",
              "      <th>1</th>\n",
              "      <td>227268</td>\n",
              "      <td>227268</td>\n",
              "      <td>38</td>\n",
              "      <td>01/12/10 8:34</td>\n",
              "      <td>1.69</td>\n",
              "      <td>PX</td>\n",
              "      <td>84879M</td>\n",
              "    </tr>\n",
              "    <tr>\n",
              "      <th>2</th>\n",
              "      <td>227268</td>\n",
              "      <td>227268</td>\n",
              "      <td>7</td>\n",
              "      <td>01/12/10 8:34</td>\n",
              "      <td>2.10</td>\n",
              "      <td>PX</td>\n",
              "      <td>22748P</td>\n",
              "    </tr>\n",
              "    <tr>\n",
              "      <th>3</th>\n",
              "      <td>227268</td>\n",
              "      <td>227268</td>\n",
              "      <td>9</td>\n",
              "      <td>01/12/10 8:34</td>\n",
              "      <td>3.75</td>\n",
              "      <td>PX</td>\n",
              "      <td>22749K</td>\n",
              "    </tr>\n",
              "    <tr>\n",
              "      <th>4</th>\n",
              "      <td>227268</td>\n",
              "      <td>227268</td>\n",
              "      <td>2</td>\n",
              "      <td>01/12/10 8:34</td>\n",
              "      <td>9.95</td>\n",
              "      <td>PX</td>\n",
              "      <td>22622G</td>\n",
              "    </tr>\n",
              "  </tbody>\n",
              "</table>\n",
              "</div>"
            ],
            "text/plain": [
              "   CustomerID  InvoiceNo  Quantity    InvoiceDate  UnitPrice Country StockCode\n",
              "0      127269     127269         7  01/12/10 8:28       1.85      PX    22633V\n",
              "1      227268     227268        38  01/12/10 8:34       1.69      PX    84879M\n",
              "2      227268     227268         7  01/12/10 8:34       2.10      PX    22748P\n",
              "3      227268     227268         9  01/12/10 8:34       3.75      PX    22749K\n",
              "4      227268     227268         2  01/12/10 8:34       9.95      PX    22622G"
            ]
          },
          "metadata": {
            "tags": []
          },
          "execution_count": 11
        }
      ]
    },
    {
      "cell_type": "code",
      "metadata": {
        "id": "W9ooeQEfUJKu",
        "colab_type": "code",
        "colab": {
          "base_uri": "https://localhost:8080/",
          "height": 68
        },
        "outputId": "65391d9a-6d6b-4446-af4c-21704aac0e88"
      },
      "source": [
        "test.columns"
      ],
      "execution_count": 12,
      "outputs": [
        {
          "output_type": "execute_result",
          "data": {
            "text/plain": [
              "Index(['CustomerID', 'InvoiceNo', 'Quantity', 'InvoiceDate', 'UnitPrice',\n",
              "       'Country', 'StockCode'],\n",
              "      dtype='object')"
            ]
          },
          "metadata": {
            "tags": []
          },
          "execution_count": 12
        }
      ]
    },
    {
      "cell_type": "markdown",
      "metadata": {
        "id": "RQHAgV1gpyWJ",
        "colab_type": "text"
      },
      "source": [
        "**no of unique countries**"
      ]
    },
    {
      "cell_type": "code",
      "metadata": {
        "id": "VmZWYYubpo71",
        "colab_type": "code",
        "colab": {
          "base_uri": "https://localhost:8080/",
          "height": 34
        },
        "outputId": "4dc79285-7f06-4d77-ce17-8a83f747d20d"
      },
      "source": [
        "train.Country.nunique()"
      ],
      "execution_count": 13,
      "outputs": [
        {
          "output_type": "execute_result",
          "data": {
            "text/plain": [
              "38"
            ]
          },
          "metadata": {
            "tags": []
          },
          "execution_count": 13
        }
      ]
    },
    {
      "cell_type": "markdown",
      "metadata": {
        "id": "_8zxgJkdp6SK",
        "colab_type": "text"
      },
      "source": [
        "**no. of unique products**"
      ]
    },
    {
      "cell_type": "code",
      "metadata": {
        "id": "esNZAKNWpZBT",
        "colab_type": "code",
        "colab": {
          "base_uri": "https://localhost:8080/",
          "height": 34
        },
        "outputId": "f0749246-667a-4cb2-d76b-671aed30417c"
      },
      "source": [
        "train.StockCode.nunique(), test.StockCode.nunique()"
      ],
      "execution_count": 14,
      "outputs": [
        {
          "output_type": "execute_result",
          "data": {
            "text/plain": [
              "(3810, 3522)"
            ]
          },
          "metadata": {
            "tags": []
          },
          "execution_count": 14
        }
      ]
    },
    {
      "cell_type": "code",
      "metadata": {
        "id": "2zmgNJDBqBoy",
        "colab_type": "code",
        "colab": {
          "base_uri": "https://localhost:8080/",
          "height": 34
        },
        "outputId": "46890600-28f2-48eb-8724-8c77655d6b19"
      },
      "source": [
        "test.InvoiceDate.dtype"
      ],
      "execution_count": 15,
      "outputs": [
        {
          "output_type": "execute_result",
          "data": {
            "text/plain": [
              "dtype('O')"
            ]
          },
          "metadata": {
            "tags": []
          },
          "execution_count": 15
        }
      ]
    },
    {
      "cell_type": "code",
      "metadata": {
        "id": "iB6xIC0BVG7j",
        "colab_type": "code",
        "colab": {}
      },
      "source": [
        "def check_invoice_count_per_customer(data):\n",
        "  id_g = data.groupby('CustomerID')\n",
        "  yes = 0\n",
        "  for i, j in id_g:\n",
        "    uinvoice = j.InvoiceNo.nunique()\n",
        "    if uinvoice > 1:\n",
        "      print(i)\n",
        "      print(uinvoice, '\\n\\n')\n",
        "      yes += 1\n",
        "  if not yes:\n",
        "    print('none of the customers have bought more than 1 time')"
      ],
      "execution_count": 0,
      "outputs": []
    },
    {
      "cell_type": "code",
      "metadata": {
        "id": "DQYgHXB-U4fG",
        "colab_type": "code",
        "colab": {
          "base_uri": "https://localhost:8080/",
          "height": 34
        },
        "outputId": "8410be7e-0cc1-4ba5-b1d1-f4f0f9cf4555"
      },
      "source": [
        "check_invoice_count_per_customer(train)"
      ],
      "execution_count": 17,
      "outputs": [
        {
          "output_type": "stream",
          "text": [
            "none of the customers have bought more than 1 time\n"
          ],
          "name": "stdout"
        }
      ]
    },
    {
      "cell_type": "code",
      "metadata": {
        "id": "JJTeRe0tWwXX",
        "colab_type": "code",
        "colab": {
          "base_uri": "https://localhost:8080/",
          "height": 34
        },
        "outputId": "01bcb77c-80bf-4b46-9178-e639182a7aa2"
      },
      "source": [
        "check_invoice_count_per_customer(test)"
      ],
      "execution_count": 18,
      "outputs": [
        {
          "output_type": "stream",
          "text": [
            "none of the customers have bought more than 1 time\n"
          ],
          "name": "stdout"
        }
      ]
    },
    {
      "cell_type": "code",
      "metadata": {
        "id": "GlgDW7WVtk54",
        "colab_type": "code",
        "colab": {
          "base_uri": "https://localhost:8080/",
          "height": 68
        },
        "outputId": "0f8519e7-5205-4378-f68d-89de219b4fcf"
      },
      "source": [
        "train.columns"
      ],
      "execution_count": 19,
      "outputs": [
        {
          "output_type": "execute_result",
          "data": {
            "text/plain": [
              "Index(['CustomerID', 'InvoiceNo', 'Quantity', 'InvoiceDate', 'UnitPrice',\n",
              "       'Country', 'StockCode'],\n",
              "      dtype='object')"
            ]
          },
          "metadata": {
            "tags": []
          },
          "execution_count": 19
        }
      ]
    },
    {
      "cell_type": "markdown",
      "metadata": {
        "id": "_TbRdyxrAi7E",
        "colab_type": "text"
      },
      "source": [
        "**Check Quantity column**"
      ]
    },
    {
      "cell_type": "code",
      "metadata": {
        "id": "AaRfYuYkAl78",
        "colab_type": "code",
        "colab": {
          "base_uri": "https://localhost:8080/",
          "height": 85
        },
        "outputId": "fd207503-b0aa-4c74-957b-bb1b6f7d4f4d"
      },
      "source": [
        "train.Quantity.unique()[:50]"
      ],
      "execution_count": 20,
      "outputs": [
        {
          "output_type": "execute_result",
          "data": {
            "text/plain": [
              "array([  7,   9,   2,   3,  28,  14,  57,  21,  24,  43,  38,   4,  76,\n",
              "        12, 144, 115,  27,   5,   1,  48, 120, 230, 518,  19,  10,  30,\n",
              "        36,  33,   8, 240,  86, 720, 576, 172,  -6,  96,  60,  -1,  -2,\n",
              "        13,  39,  15,  84, 153, 302,  72, 259, 460,  16, 129])"
            ]
          },
          "metadata": {
            "tags": []
          },
          "execution_count": 20
        }
      ]
    },
    {
      "cell_type": "code",
      "metadata": {
        "id": "PqkeWQLzBrIx",
        "colab_type": "code",
        "colab": {
          "base_uri": "https://localhost:8080/",
          "height": 34
        },
        "outputId": "7cb2fed0-f8f7-483f-9bb6-20f663fc1588"
      },
      "source": [
        "train.Quantity.min(), train.Quantity.max()"
      ],
      "execution_count": 21,
      "outputs": [
        {
          "output_type": "execute_result",
          "data": {
            "text/plain": [
              "(-9600, 97194)"
            ]
          },
          "metadata": {
            "tags": []
          },
          "execution_count": 21
        }
      ]
    },
    {
      "cell_type": "code",
      "metadata": {
        "id": "1sDp04xPB3lk",
        "colab_type": "code",
        "colab": {
          "base_uri": "https://localhost:8080/",
          "height": 34
        },
        "outputId": "41e6ced1-13c6-4979-a8d1-13631807c173"
      },
      "source": [
        "test.Quantity.min(), test.Quantity.max()"
      ],
      "execution_count": 22,
      "outputs": [
        {
          "output_type": "execute_result",
          "data": {
            "text/plain": [
              "(-80995, 5160)"
            ]
          },
          "metadata": {
            "tags": []
          },
          "execution_count": 22
        }
      ]
    },
    {
      "cell_type": "markdown",
      "metadata": {
        "id": "lzJWMxwZBG_p",
        "colab_type": "text"
      },
      "source": [
        "**As we can see Quantity column have negative value so we need to replace it with postive sign**"
      ]
    },
    {
      "cell_type": "code",
      "metadata": {
        "id": "Ji-a_yGYDi6g",
        "colab_type": "code",
        "colab": {}
      },
      "source": [
        "train['Quantity'] = train.Quantity.apply(lambda x: -x if x < 0 else x)\n",
        "test['Quantity'] = test.Quantity.apply(lambda x: -x if x < 0 else x)"
      ],
      "execution_count": 0,
      "outputs": []
    },
    {
      "cell_type": "code",
      "metadata": {
        "id": "fkLEOo7ZDzEx",
        "colab_type": "code",
        "colab": {
          "base_uri": "https://localhost:8080/",
          "height": 34
        },
        "outputId": "57612de8-ba10-41b6-bd1c-d3aa9a242d59"
      },
      "source": [
        "train.Quantity.min(), train.Quantity.max()"
      ],
      "execution_count": 24,
      "outputs": [
        {
          "output_type": "execute_result",
          "data": {
            "text/plain": [
              "(1, 97194)"
            ]
          },
          "metadata": {
            "tags": []
          },
          "execution_count": 24
        }
      ]
    },
    {
      "cell_type": "code",
      "metadata": {
        "id": "QPGAoLNDD39w",
        "colab_type": "code",
        "colab": {
          "base_uri": "https://localhost:8080/",
          "height": 34
        },
        "outputId": "b4da14bc-1455-4907-bf4a-dcabf01daba7"
      },
      "source": [
        "test.Quantity.min(), test.Quantity.max()"
      ],
      "execution_count": 25,
      "outputs": [
        {
          "output_type": "execute_result",
          "data": {
            "text/plain": [
              "(1, 80995)"
            ]
          },
          "metadata": {
            "tags": []
          },
          "execution_count": 25
        }
      ]
    },
    {
      "cell_type": "markdown",
      "metadata": {
        "id": "6Wf0qxU_JQo8",
        "colab_type": "text"
      },
      "source": [
        "##drop less important columns"
      ]
    },
    {
      "cell_type": "code",
      "metadata": {
        "id": "3m4QOBPXJUZ8",
        "colab_type": "code",
        "colab": {
          "base_uri": "https://localhost:8080/",
          "height": 68
        },
        "outputId": "88923c27-3561-4b89-fc7e-0c245e0b95a9"
      },
      "source": [
        "train.columns"
      ],
      "execution_count": 26,
      "outputs": [
        {
          "output_type": "execute_result",
          "data": {
            "text/plain": [
              "Index(['CustomerID', 'InvoiceNo', 'Quantity', 'InvoiceDate', 'UnitPrice',\n",
              "       'Country', 'StockCode'],\n",
              "      dtype='object')"
            ]
          },
          "metadata": {
            "tags": []
          },
          "execution_count": 26
        }
      ]
    },
    {
      "cell_type": "code",
      "metadata": {
        "id": "lls56PmqJZmA",
        "colab_type": "code",
        "colab": {
          "base_uri": "https://localhost:8080/",
          "height": 68
        },
        "outputId": "70ee1789-3dbd-4397-e0a3-6e060b274e71"
      },
      "source": [
        "test.columns"
      ],
      "execution_count": 27,
      "outputs": [
        {
          "output_type": "execute_result",
          "data": {
            "text/plain": [
              "Index(['CustomerID', 'InvoiceNo', 'Quantity', 'InvoiceDate', 'UnitPrice',\n",
              "       'Country', 'StockCode'],\n",
              "      dtype='object')"
            ]
          },
          "metadata": {
            "tags": []
          },
          "execution_count": 27
        }
      ]
    },
    {
      "cell_type": "code",
      "metadata": {
        "id": "0R8Zo-dBJWcj",
        "colab_type": "code",
        "colab": {}
      },
      "source": [
        "train.drop(['InvoiceNo', 'InvoiceDate', 'UnitPrice'], inplace = True, axis = 1)\n",
        "test.drop(['InvoiceNo', 'InvoiceDate', 'UnitPrice'], inplace = True, axis = 1)"
      ],
      "execution_count": 0,
      "outputs": []
    },
    {
      "cell_type": "code",
      "metadata": {
        "id": "py-2Z9-ZJwDj",
        "colab_type": "code",
        "colab": {
          "base_uri": "https://localhost:8080/",
          "height": 80
        },
        "outputId": "41b1a618-1bfe-4619-ddaa-d7930194832d"
      },
      "source": [
        "train.head(1)"
      ],
      "execution_count": 29,
      "outputs": [
        {
          "output_type": "execute_result",
          "data": {
            "text/html": [
              "<div>\n",
              "<style scoped>\n",
              "    .dataframe tbody tr th:only-of-type {\n",
              "        vertical-align: middle;\n",
              "    }\n",
              "\n",
              "    .dataframe tbody tr th {\n",
              "        vertical-align: top;\n",
              "    }\n",
              "\n",
              "    .dataframe thead th {\n",
              "        text-align: right;\n",
              "    }\n",
              "</style>\n",
              "<table border=\"1\" class=\"dataframe\">\n",
              "  <thead>\n",
              "    <tr style=\"text-align: right;\">\n",
              "      <th></th>\n",
              "      <th>CustomerID</th>\n",
              "      <th>Quantity</th>\n",
              "      <th>Country</th>\n",
              "      <th>StockCode</th>\n",
              "    </tr>\n",
              "  </thead>\n",
              "  <tbody>\n",
              "    <tr>\n",
              "      <th>0</th>\n",
              "      <td>27270</td>\n",
              "      <td>7</td>\n",
              "      <td>PX</td>\n",
              "      <td>85123AY</td>\n",
              "    </tr>\n",
              "  </tbody>\n",
              "</table>\n",
              "</div>"
            ],
            "text/plain": [
              "   CustomerID  Quantity Country StockCode\n",
              "0       27270         7      PX   85123AY"
            ]
          },
          "metadata": {
            "tags": []
          },
          "execution_count": 29
        }
      ]
    },
    {
      "cell_type": "code",
      "metadata": {
        "id": "_nUlDJ1MJyj5",
        "colab_type": "code",
        "colab": {
          "base_uri": "https://localhost:8080/",
          "height": 80
        },
        "outputId": "df20b4a6-4886-4e79-b469-bdaeca5bfad0"
      },
      "source": [
        "test.head(1)"
      ],
      "execution_count": 30,
      "outputs": [
        {
          "output_type": "execute_result",
          "data": {
            "text/html": [
              "<div>\n",
              "<style scoped>\n",
              "    .dataframe tbody tr th:only-of-type {\n",
              "        vertical-align: middle;\n",
              "    }\n",
              "\n",
              "    .dataframe tbody tr th {\n",
              "        vertical-align: top;\n",
              "    }\n",
              "\n",
              "    .dataframe thead th {\n",
              "        text-align: right;\n",
              "    }\n",
              "</style>\n",
              "<table border=\"1\" class=\"dataframe\">\n",
              "  <thead>\n",
              "    <tr style=\"text-align: right;\">\n",
              "      <th></th>\n",
              "      <th>CustomerID</th>\n",
              "      <th>Quantity</th>\n",
              "      <th>Country</th>\n",
              "      <th>StockCode</th>\n",
              "    </tr>\n",
              "  </thead>\n",
              "  <tbody>\n",
              "    <tr>\n",
              "      <th>0</th>\n",
              "      <td>127269</td>\n",
              "      <td>7</td>\n",
              "      <td>PX</td>\n",
              "      <td>22633V</td>\n",
              "    </tr>\n",
              "  </tbody>\n",
              "</table>\n",
              "</div>"
            ],
            "text/plain": [
              "   CustomerID  Quantity Country StockCode\n",
              "0      127269         7      PX    22633V"
            ]
          },
          "metadata": {
            "tags": []
          },
          "execution_count": 30
        }
      ]
    },
    {
      "cell_type": "markdown",
      "metadata": {
        "id": "s9B-9kobKK6j",
        "colab_type": "text"
      },
      "source": [
        "#unique products in store"
      ]
    },
    {
      "cell_type": "code",
      "metadata": {
        "id": "YG-756WGKONI",
        "colab_type": "code",
        "colab": {
          "base_uri": "https://localhost:8080/",
          "height": 34
        },
        "outputId": "33fb2294-b021-4334-8e95-858d43841afe"
      },
      "source": [
        "products = pd.concat([train.StockCode, test.StockCode], axis = 0)\n",
        "products.shape"
      ],
      "execution_count": 31,
      "outputs": [
        {
          "output_type": "execute_result",
          "data": {
            "text/plain": [
              "(433672,)"
            ]
          },
          "metadata": {
            "tags": []
          },
          "execution_count": 31
        }
      ]
    },
    {
      "cell_type": "code",
      "metadata": {
        "id": "PlLtRWP-Kwr4",
        "colab_type": "code",
        "colab": {
          "base_uri": "https://localhost:8080/",
          "height": 34
        },
        "outputId": "32f17dcb-0d16-41b1-e662-51bd0e07fac2"
      },
      "source": [
        "products = products.unique()\n",
        "products.shape"
      ],
      "execution_count": 32,
      "outputs": [
        {
          "output_type": "execute_result",
          "data": {
            "text/plain": [
              "(3860,)"
            ]
          },
          "metadata": {
            "tags": []
          },
          "execution_count": 32
        }
      ]
    },
    {
      "cell_type": "code",
      "metadata": {
        "id": "Xhm61Rq-Kktv",
        "colab_type": "code",
        "colab": {
          "base_uri": "https://localhost:8080/",
          "height": 34
        },
        "outputId": "4ac9a5f6-7c26-4b8a-949a-a2e2a921ac1c"
      },
      "source": [
        "train.StockCode.nunique()"
      ],
      "execution_count": 33,
      "outputs": [
        {
          "output_type": "execute_result",
          "data": {
            "text/plain": [
              "3810"
            ]
          },
          "metadata": {
            "tags": []
          },
          "execution_count": 33
        }
      ]
    },
    {
      "cell_type": "code",
      "metadata": {
        "id": "5svIPok0Kn2_",
        "colab_type": "code",
        "colab": {
          "base_uri": "https://localhost:8080/",
          "height": 34
        },
        "outputId": "9b324e6e-bf3a-43b2-a2f7-6816d6aad152"
      },
      "source": [
        "test.StockCode.nunique()"
      ],
      "execution_count": 34,
      "outputs": [
        {
          "output_type": "execute_result",
          "data": {
            "text/plain": [
              "3522"
            ]
          },
          "metadata": {
            "tags": []
          },
          "execution_count": 34
        }
      ]
    },
    {
      "cell_type": "markdown",
      "metadata": {
        "id": "BFoT6iIaFMI0",
        "colab_type": "text"
      },
      "source": [
        "#Combine Dataset for pivot table"
      ]
    },
    {
      "cell_type": "code",
      "metadata": {
        "id": "X4VJzR8H-97E",
        "colab_type": "code",
        "colab": {
          "base_uri": "https://localhost:8080/",
          "height": 34
        },
        "outputId": "2fcb3638-8e71-4e3a-8158-8f18d5093f91"
      },
      "source": [
        "combined = pd.concat([train, test], axis = 0)\n",
        "combined.shape"
      ],
      "execution_count": 38,
      "outputs": [
        {
          "output_type": "execute_result",
          "data": {
            "text/plain": [
              "(433672, 4)"
            ]
          },
          "metadata": {
            "tags": []
          },
          "execution_count": 38
        }
      ]
    },
    {
      "cell_type": "code",
      "metadata": {
        "id": "WekBlcF8_FUQ",
        "colab_type": "code",
        "colab": {
          "base_uri": "https://localhost:8080/",
          "height": 315
        },
        "outputId": "15c9b62f-8483-4624-9883-27933a82e336"
      },
      "source": [
        "combined = combined.pivot_table(index = 'CustomerID', columns = ['StockCode', 'Country'], values = 'Quantity')\n",
        "combined.head()"
      ],
      "execution_count": 39,
      "outputs": [
        {
          "output_type": "execute_result",
          "data": {
            "text/html": [
              "<div>\n",
              "<style scoped>\n",
              "    .dataframe tbody tr th:only-of-type {\n",
              "        vertical-align: middle;\n",
              "    }\n",
              "\n",
              "    .dataframe tbody tr th {\n",
              "        vertical-align: top;\n",
              "    }\n",
              "\n",
              "    .dataframe thead tr th {\n",
              "        text-align: left;\n",
              "    }\n",
              "\n",
              "    .dataframe thead tr:last-of-type th {\n",
              "        text-align: right;\n",
              "    }\n",
              "</style>\n",
              "<table border=\"1\" class=\"dataframe\">\n",
              "  <thead>\n",
              "    <tr>\n",
              "      <th>StockCode</th>\n",
              "      <th colspan=\"6\" halign=\"left\">10002F</th>\n",
              "      <th>10080Q</th>\n",
              "      <th colspan=\"2\" halign=\"left\">10120M</th>\n",
              "      <th>10123CU</th>\n",
              "      <th>10124AW</th>\n",
              "      <th>10124GF</th>\n",
              "      <th colspan=\"4\" halign=\"left\">10125J</th>\n",
              "      <th colspan=\"6\" halign=\"left\">10133M</th>\n",
              "      <th colspan=\"6\" halign=\"left\">10135P</th>\n",
              "      <th colspan=\"8\" halign=\"left\">11001M</th>\n",
              "      <th>15030G</th>\n",
              "      <th colspan=\"3\" halign=\"left\">15034D</th>\n",
              "      <th>...</th>\n",
              "      <th>90206CD</th>\n",
              "      <th colspan=\"2\" halign=\"left\">90208D</th>\n",
              "      <th colspan=\"2\" halign=\"left\">90209AX</th>\n",
              "      <th>90209BE</th>\n",
              "      <th colspan=\"2\" halign=\"left\">90209CQ</th>\n",
              "      <th>90210AL</th>\n",
              "      <th>90210BN</th>\n",
              "      <th>90210CN</th>\n",
              "      <th>90210DP</th>\n",
              "      <th>90211AP</th>\n",
              "      <th>90211BD</th>\n",
              "      <th>90212BG</th>\n",
              "      <th>90212CC</th>\n",
              "      <th>90214AQ</th>\n",
              "      <th>90214BW</th>\n",
              "      <th>90214CK</th>\n",
              "      <th>90214DZ</th>\n",
              "      <th>90214EF</th>\n",
              "      <th>90214FX</th>\n",
              "      <th>90214GF</th>\n",
              "      <th>90214HZ</th>\n",
              "      <th>90214IZ</th>\n",
              "      <th>90214JA</th>\n",
              "      <th>90214KK</th>\n",
              "      <th>90214LO</th>\n",
              "      <th>90214MZ</th>\n",
              "      <th>90214NM</th>\n",
              "      <th>90214OZ</th>\n",
              "      <th>90214PB</th>\n",
              "      <th>90214RZ</th>\n",
              "      <th>90214SF</th>\n",
              "      <th>90214TT</th>\n",
              "      <th>90214UO</th>\n",
              "      <th>90214VD</th>\n",
              "      <th>90214WH</th>\n",
              "      <th>90214YL</th>\n",
              "      <th>90214ZJ</th>\n",
              "    </tr>\n",
              "    <tr>\n",
              "      <th>Country</th>\n",
              "      <th>GJ</th>\n",
              "      <th>IG</th>\n",
              "      <th>PX</th>\n",
              "      <th>RA</th>\n",
              "      <th>SK</th>\n",
              "      <th>ZU</th>\n",
              "      <th>PX</th>\n",
              "      <th>PX</th>\n",
              "      <th>RA</th>\n",
              "      <th>PX</th>\n",
              "      <th>PX</th>\n",
              "      <th>PX</th>\n",
              "      <th>GJ</th>\n",
              "      <th>PX</th>\n",
              "      <th>RA</th>\n",
              "      <th>ZU</th>\n",
              "      <th>BC</th>\n",
              "      <th>HW</th>\n",
              "      <th>IL</th>\n",
              "      <th>PX</th>\n",
              "      <th>TA</th>\n",
              "      <th>ZU</th>\n",
              "      <th>BC</th>\n",
              "      <th>GJ</th>\n",
              "      <th>OF</th>\n",
              "      <th>PX</th>\n",
              "      <th>RA</th>\n",
              "      <th>TA</th>\n",
              "      <th>BC</th>\n",
              "      <th>GJ</th>\n",
              "      <th>HW</th>\n",
              "      <th>IE</th>\n",
              "      <th>IG</th>\n",
              "      <th>OF</th>\n",
              "      <th>PX</th>\n",
              "      <th>RA</th>\n",
              "      <th>PX</th>\n",
              "      <th>CD</th>\n",
              "      <th>GJ</th>\n",
              "      <th>IG</th>\n",
              "      <th>...</th>\n",
              "      <th>PX</th>\n",
              "      <th>BC</th>\n",
              "      <th>PX</th>\n",
              "      <th>BC</th>\n",
              "      <th>PX</th>\n",
              "      <th>PX</th>\n",
              "      <th>BC</th>\n",
              "      <th>PX</th>\n",
              "      <th>PX</th>\n",
              "      <th>PX</th>\n",
              "      <th>PX</th>\n",
              "      <th>PX</th>\n",
              "      <th>PX</th>\n",
              "      <th>PX</th>\n",
              "      <th>PX</th>\n",
              "      <th>PX</th>\n",
              "      <th>PX</th>\n",
              "      <th>PX</th>\n",
              "      <th>PX</th>\n",
              "      <th>PX</th>\n",
              "      <th>PX</th>\n",
              "      <th>PX</th>\n",
              "      <th>PX</th>\n",
              "      <th>PX</th>\n",
              "      <th>PX</th>\n",
              "      <th>PX</th>\n",
              "      <th>PX</th>\n",
              "      <th>PX</th>\n",
              "      <th>PX</th>\n",
              "      <th>PX</th>\n",
              "      <th>PX</th>\n",
              "      <th>PX</th>\n",
              "      <th>PX</th>\n",
              "      <th>PX</th>\n",
              "      <th>PX</th>\n",
              "      <th>PX</th>\n",
              "      <th>PX</th>\n",
              "      <th>PX</th>\n",
              "      <th>PX</th>\n",
              "      <th>PX</th>\n",
              "    </tr>\n",
              "    <tr>\n",
              "      <th>CustomerID</th>\n",
              "      <th></th>\n",
              "      <th></th>\n",
              "      <th></th>\n",
              "      <th></th>\n",
              "      <th></th>\n",
              "      <th></th>\n",
              "      <th></th>\n",
              "      <th></th>\n",
              "      <th></th>\n",
              "      <th></th>\n",
              "      <th></th>\n",
              "      <th></th>\n",
              "      <th></th>\n",
              "      <th></th>\n",
              "      <th></th>\n",
              "      <th></th>\n",
              "      <th></th>\n",
              "      <th></th>\n",
              "      <th></th>\n",
              "      <th></th>\n",
              "      <th></th>\n",
              "      <th></th>\n",
              "      <th></th>\n",
              "      <th></th>\n",
              "      <th></th>\n",
              "      <th></th>\n",
              "      <th></th>\n",
              "      <th></th>\n",
              "      <th></th>\n",
              "      <th></th>\n",
              "      <th></th>\n",
              "      <th></th>\n",
              "      <th></th>\n",
              "      <th></th>\n",
              "      <th></th>\n",
              "      <th></th>\n",
              "      <th></th>\n",
              "      <th></th>\n",
              "      <th></th>\n",
              "      <th></th>\n",
              "      <th></th>\n",
              "      <th></th>\n",
              "      <th></th>\n",
              "      <th></th>\n",
              "      <th></th>\n",
              "      <th></th>\n",
              "      <th></th>\n",
              "      <th></th>\n",
              "      <th></th>\n",
              "      <th></th>\n",
              "      <th></th>\n",
              "      <th></th>\n",
              "      <th></th>\n",
              "      <th></th>\n",
              "      <th></th>\n",
              "      <th></th>\n",
              "      <th></th>\n",
              "      <th></th>\n",
              "      <th></th>\n",
              "      <th></th>\n",
              "      <th></th>\n",
              "      <th></th>\n",
              "      <th></th>\n",
              "      <th></th>\n",
              "      <th></th>\n",
              "      <th></th>\n",
              "      <th></th>\n",
              "      <th></th>\n",
              "      <th></th>\n",
              "      <th></th>\n",
              "      <th></th>\n",
              "      <th></th>\n",
              "      <th></th>\n",
              "      <th></th>\n",
              "      <th></th>\n",
              "      <th></th>\n",
              "      <th></th>\n",
              "      <th></th>\n",
              "      <th></th>\n",
              "      <th></th>\n",
              "      <th></th>\n",
              "    </tr>\n",
              "  </thead>\n",
              "  <tbody>\n",
              "    <tr>\n",
              "      <th>0</th>\n",
              "      <td>NaN</td>\n",
              "      <td>NaN</td>\n",
              "      <td>NaN</td>\n",
              "      <td>NaN</td>\n",
              "      <td>NaN</td>\n",
              "      <td>NaN</td>\n",
              "      <td>NaN</td>\n",
              "      <td>NaN</td>\n",
              "      <td>NaN</td>\n",
              "      <td>NaN</td>\n",
              "      <td>NaN</td>\n",
              "      <td>NaN</td>\n",
              "      <td>NaN</td>\n",
              "      <td>NaN</td>\n",
              "      <td>NaN</td>\n",
              "      <td>NaN</td>\n",
              "      <td>NaN</td>\n",
              "      <td>NaN</td>\n",
              "      <td>NaN</td>\n",
              "      <td>NaN</td>\n",
              "      <td>NaN</td>\n",
              "      <td>NaN</td>\n",
              "      <td>NaN</td>\n",
              "      <td>NaN</td>\n",
              "      <td>NaN</td>\n",
              "      <td>NaN</td>\n",
              "      <td>NaN</td>\n",
              "      <td>NaN</td>\n",
              "      <td>NaN</td>\n",
              "      <td>NaN</td>\n",
              "      <td>NaN</td>\n",
              "      <td>NaN</td>\n",
              "      <td>NaN</td>\n",
              "      <td>NaN</td>\n",
              "      <td>NaN</td>\n",
              "      <td>NaN</td>\n",
              "      <td>NaN</td>\n",
              "      <td>NaN</td>\n",
              "      <td>NaN</td>\n",
              "      <td>NaN</td>\n",
              "      <td>...</td>\n",
              "      <td>NaN</td>\n",
              "      <td>NaN</td>\n",
              "      <td>NaN</td>\n",
              "      <td>NaN</td>\n",
              "      <td>NaN</td>\n",
              "      <td>NaN</td>\n",
              "      <td>NaN</td>\n",
              "      <td>NaN</td>\n",
              "      <td>NaN</td>\n",
              "      <td>NaN</td>\n",
              "      <td>NaN</td>\n",
              "      <td>NaN</td>\n",
              "      <td>NaN</td>\n",
              "      <td>NaN</td>\n",
              "      <td>NaN</td>\n",
              "      <td>NaN</td>\n",
              "      <td>NaN</td>\n",
              "      <td>NaN</td>\n",
              "      <td>NaN</td>\n",
              "      <td>NaN</td>\n",
              "      <td>NaN</td>\n",
              "      <td>NaN</td>\n",
              "      <td>NaN</td>\n",
              "      <td>NaN</td>\n",
              "      <td>NaN</td>\n",
              "      <td>NaN</td>\n",
              "      <td>NaN</td>\n",
              "      <td>NaN</td>\n",
              "      <td>NaN</td>\n",
              "      <td>NaN</td>\n",
              "      <td>NaN</td>\n",
              "      <td>NaN</td>\n",
              "      <td>NaN</td>\n",
              "      <td>NaN</td>\n",
              "      <td>NaN</td>\n",
              "      <td>NaN</td>\n",
              "      <td>NaN</td>\n",
              "      <td>NaN</td>\n",
              "      <td>NaN</td>\n",
              "      <td>NaN</td>\n",
              "    </tr>\n",
              "    <tr>\n",
              "      <th>900</th>\n",
              "      <td>NaN</td>\n",
              "      <td>NaN</td>\n",
              "      <td>NaN</td>\n",
              "      <td>NaN</td>\n",
              "      <td>NaN</td>\n",
              "      <td>NaN</td>\n",
              "      <td>NaN</td>\n",
              "      <td>NaN</td>\n",
              "      <td>NaN</td>\n",
              "      <td>NaN</td>\n",
              "      <td>NaN</td>\n",
              "      <td>NaN</td>\n",
              "      <td>NaN</td>\n",
              "      <td>NaN</td>\n",
              "      <td>NaN</td>\n",
              "      <td>NaN</td>\n",
              "      <td>NaN</td>\n",
              "      <td>NaN</td>\n",
              "      <td>NaN</td>\n",
              "      <td>NaN</td>\n",
              "      <td>NaN</td>\n",
              "      <td>NaN</td>\n",
              "      <td>NaN</td>\n",
              "      <td>NaN</td>\n",
              "      <td>NaN</td>\n",
              "      <td>60.0</td>\n",
              "      <td>NaN</td>\n",
              "      <td>NaN</td>\n",
              "      <td>NaN</td>\n",
              "      <td>NaN</td>\n",
              "      <td>NaN</td>\n",
              "      <td>NaN</td>\n",
              "      <td>NaN</td>\n",
              "      <td>NaN</td>\n",
              "      <td>1.0</td>\n",
              "      <td>NaN</td>\n",
              "      <td>NaN</td>\n",
              "      <td>NaN</td>\n",
              "      <td>NaN</td>\n",
              "      <td>NaN</td>\n",
              "      <td>...</td>\n",
              "      <td>NaN</td>\n",
              "      <td>NaN</td>\n",
              "      <td>NaN</td>\n",
              "      <td>NaN</td>\n",
              "      <td>NaN</td>\n",
              "      <td>NaN</td>\n",
              "      <td>NaN</td>\n",
              "      <td>NaN</td>\n",
              "      <td>NaN</td>\n",
              "      <td>NaN</td>\n",
              "      <td>NaN</td>\n",
              "      <td>NaN</td>\n",
              "      <td>NaN</td>\n",
              "      <td>NaN</td>\n",
              "      <td>NaN</td>\n",
              "      <td>NaN</td>\n",
              "      <td>NaN</td>\n",
              "      <td>NaN</td>\n",
              "      <td>NaN</td>\n",
              "      <td>NaN</td>\n",
              "      <td>NaN</td>\n",
              "      <td>NaN</td>\n",
              "      <td>NaN</td>\n",
              "      <td>NaN</td>\n",
              "      <td>NaN</td>\n",
              "      <td>NaN</td>\n",
              "      <td>NaN</td>\n",
              "      <td>NaN</td>\n",
              "      <td>NaN</td>\n",
              "      <td>NaN</td>\n",
              "      <td>NaN</td>\n",
              "      <td>NaN</td>\n",
              "      <td>NaN</td>\n",
              "      <td>NaN</td>\n",
              "      <td>NaN</td>\n",
              "      <td>NaN</td>\n",
              "      <td>NaN</td>\n",
              "      <td>NaN</td>\n",
              "      <td>NaN</td>\n",
              "      <td>NaN</td>\n",
              "    </tr>\n",
              "    <tr>\n",
              "      <th>1800</th>\n",
              "      <td>NaN</td>\n",
              "      <td>NaN</td>\n",
              "      <td>NaN</td>\n",
              "      <td>NaN</td>\n",
              "      <td>NaN</td>\n",
              "      <td>NaN</td>\n",
              "      <td>NaN</td>\n",
              "      <td>NaN</td>\n",
              "      <td>NaN</td>\n",
              "      <td>NaN</td>\n",
              "      <td>NaN</td>\n",
              "      <td>NaN</td>\n",
              "      <td>NaN</td>\n",
              "      <td>NaN</td>\n",
              "      <td>NaN</td>\n",
              "      <td>NaN</td>\n",
              "      <td>NaN</td>\n",
              "      <td>NaN</td>\n",
              "      <td>NaN</td>\n",
              "      <td>NaN</td>\n",
              "      <td>NaN</td>\n",
              "      <td>NaN</td>\n",
              "      <td>NaN</td>\n",
              "      <td>NaN</td>\n",
              "      <td>NaN</td>\n",
              "      <td>NaN</td>\n",
              "      <td>NaN</td>\n",
              "      <td>NaN</td>\n",
              "      <td>NaN</td>\n",
              "      <td>NaN</td>\n",
              "      <td>NaN</td>\n",
              "      <td>NaN</td>\n",
              "      <td>NaN</td>\n",
              "      <td>NaN</td>\n",
              "      <td>NaN</td>\n",
              "      <td>NaN</td>\n",
              "      <td>2.0</td>\n",
              "      <td>NaN</td>\n",
              "      <td>NaN</td>\n",
              "      <td>NaN</td>\n",
              "      <td>...</td>\n",
              "      <td>NaN</td>\n",
              "      <td>NaN</td>\n",
              "      <td>NaN</td>\n",
              "      <td>NaN</td>\n",
              "      <td>NaN</td>\n",
              "      <td>NaN</td>\n",
              "      <td>NaN</td>\n",
              "      <td>NaN</td>\n",
              "      <td>NaN</td>\n",
              "      <td>NaN</td>\n",
              "      <td>NaN</td>\n",
              "      <td>NaN</td>\n",
              "      <td>NaN</td>\n",
              "      <td>NaN</td>\n",
              "      <td>NaN</td>\n",
              "      <td>NaN</td>\n",
              "      <td>NaN</td>\n",
              "      <td>NaN</td>\n",
              "      <td>NaN</td>\n",
              "      <td>NaN</td>\n",
              "      <td>NaN</td>\n",
              "      <td>NaN</td>\n",
              "      <td>NaN</td>\n",
              "      <td>NaN</td>\n",
              "      <td>NaN</td>\n",
              "      <td>NaN</td>\n",
              "      <td>NaN</td>\n",
              "      <td>NaN</td>\n",
              "      <td>NaN</td>\n",
              "      <td>NaN</td>\n",
              "      <td>NaN</td>\n",
              "      <td>NaN</td>\n",
              "      <td>NaN</td>\n",
              "      <td>NaN</td>\n",
              "      <td>NaN</td>\n",
              "      <td>NaN</td>\n",
              "      <td>NaN</td>\n",
              "      <td>NaN</td>\n",
              "      <td>NaN</td>\n",
              "      <td>NaN</td>\n",
              "    </tr>\n",
              "    <tr>\n",
              "      <th>1890</th>\n",
              "      <td>NaN</td>\n",
              "      <td>NaN</td>\n",
              "      <td>NaN</td>\n",
              "      <td>NaN</td>\n",
              "      <td>NaN</td>\n",
              "      <td>NaN</td>\n",
              "      <td>NaN</td>\n",
              "      <td>NaN</td>\n",
              "      <td>NaN</td>\n",
              "      <td>NaN</td>\n",
              "      <td>NaN</td>\n",
              "      <td>NaN</td>\n",
              "      <td>NaN</td>\n",
              "      <td>NaN</td>\n",
              "      <td>NaN</td>\n",
              "      <td>NaN</td>\n",
              "      <td>NaN</td>\n",
              "      <td>NaN</td>\n",
              "      <td>NaN</td>\n",
              "      <td>NaN</td>\n",
              "      <td>NaN</td>\n",
              "      <td>NaN</td>\n",
              "      <td>NaN</td>\n",
              "      <td>NaN</td>\n",
              "      <td>NaN</td>\n",
              "      <td>NaN</td>\n",
              "      <td>NaN</td>\n",
              "      <td>NaN</td>\n",
              "      <td>NaN</td>\n",
              "      <td>NaN</td>\n",
              "      <td>NaN</td>\n",
              "      <td>NaN</td>\n",
              "      <td>NaN</td>\n",
              "      <td>NaN</td>\n",
              "      <td>NaN</td>\n",
              "      <td>NaN</td>\n",
              "      <td>NaN</td>\n",
              "      <td>NaN</td>\n",
              "      <td>NaN</td>\n",
              "      <td>NaN</td>\n",
              "      <td>...</td>\n",
              "      <td>NaN</td>\n",
              "      <td>NaN</td>\n",
              "      <td>NaN</td>\n",
              "      <td>NaN</td>\n",
              "      <td>NaN</td>\n",
              "      <td>NaN</td>\n",
              "      <td>NaN</td>\n",
              "      <td>NaN</td>\n",
              "      <td>NaN</td>\n",
              "      <td>NaN</td>\n",
              "      <td>NaN</td>\n",
              "      <td>NaN</td>\n",
              "      <td>NaN</td>\n",
              "      <td>NaN</td>\n",
              "      <td>NaN</td>\n",
              "      <td>NaN</td>\n",
              "      <td>NaN</td>\n",
              "      <td>NaN</td>\n",
              "      <td>NaN</td>\n",
              "      <td>NaN</td>\n",
              "      <td>NaN</td>\n",
              "      <td>NaN</td>\n",
              "      <td>NaN</td>\n",
              "      <td>NaN</td>\n",
              "      <td>NaN</td>\n",
              "      <td>NaN</td>\n",
              "      <td>NaN</td>\n",
              "      <td>NaN</td>\n",
              "      <td>NaN</td>\n",
              "      <td>NaN</td>\n",
              "      <td>NaN</td>\n",
              "      <td>NaN</td>\n",
              "      <td>NaN</td>\n",
              "      <td>NaN</td>\n",
              "      <td>NaN</td>\n",
              "      <td>NaN</td>\n",
              "      <td>NaN</td>\n",
              "      <td>NaN</td>\n",
              "      <td>NaN</td>\n",
              "      <td>NaN</td>\n",
              "    </tr>\n",
              "    <tr>\n",
              "      <th>2700</th>\n",
              "      <td>NaN</td>\n",
              "      <td>NaN</td>\n",
              "      <td>NaN</td>\n",
              "      <td>NaN</td>\n",
              "      <td>NaN</td>\n",
              "      <td>NaN</td>\n",
              "      <td>NaN</td>\n",
              "      <td>NaN</td>\n",
              "      <td>NaN</td>\n",
              "      <td>NaN</td>\n",
              "      <td>NaN</td>\n",
              "      <td>NaN</td>\n",
              "      <td>NaN</td>\n",
              "      <td>NaN</td>\n",
              "      <td>NaN</td>\n",
              "      <td>NaN</td>\n",
              "      <td>NaN</td>\n",
              "      <td>NaN</td>\n",
              "      <td>NaN</td>\n",
              "      <td>NaN</td>\n",
              "      <td>NaN</td>\n",
              "      <td>NaN</td>\n",
              "      <td>NaN</td>\n",
              "      <td>NaN</td>\n",
              "      <td>NaN</td>\n",
              "      <td>NaN</td>\n",
              "      <td>NaN</td>\n",
              "      <td>NaN</td>\n",
              "      <td>NaN</td>\n",
              "      <td>NaN</td>\n",
              "      <td>NaN</td>\n",
              "      <td>NaN</td>\n",
              "      <td>NaN</td>\n",
              "      <td>NaN</td>\n",
              "      <td>1.0</td>\n",
              "      <td>NaN</td>\n",
              "      <td>NaN</td>\n",
              "      <td>NaN</td>\n",
              "      <td>NaN</td>\n",
              "      <td>NaN</td>\n",
              "      <td>...</td>\n",
              "      <td>NaN</td>\n",
              "      <td>NaN</td>\n",
              "      <td>NaN</td>\n",
              "      <td>NaN</td>\n",
              "      <td>NaN</td>\n",
              "      <td>NaN</td>\n",
              "      <td>NaN</td>\n",
              "      <td>NaN</td>\n",
              "      <td>NaN</td>\n",
              "      <td>NaN</td>\n",
              "      <td>NaN</td>\n",
              "      <td>NaN</td>\n",
              "      <td>NaN</td>\n",
              "      <td>NaN</td>\n",
              "      <td>NaN</td>\n",
              "      <td>NaN</td>\n",
              "      <td>NaN</td>\n",
              "      <td>NaN</td>\n",
              "      <td>NaN</td>\n",
              "      <td>NaN</td>\n",
              "      <td>NaN</td>\n",
              "      <td>NaN</td>\n",
              "      <td>NaN</td>\n",
              "      <td>NaN</td>\n",
              "      <td>NaN</td>\n",
              "      <td>NaN</td>\n",
              "      <td>NaN</td>\n",
              "      <td>NaN</td>\n",
              "      <td>NaN</td>\n",
              "      <td>NaN</td>\n",
              "      <td>NaN</td>\n",
              "      <td>NaN</td>\n",
              "      <td>NaN</td>\n",
              "      <td>NaN</td>\n",
              "      <td>NaN</td>\n",
              "      <td>NaN</td>\n",
              "      <td>NaN</td>\n",
              "      <td>NaN</td>\n",
              "      <td>NaN</td>\n",
              "      <td>NaN</td>\n",
              "    </tr>\n",
              "  </tbody>\n",
              "</table>\n",
              "<p>5 rows × 17864 columns</p>\n",
              "</div>"
            ],
            "text/plain": [
              "StockCode  10002F                  ... 90214UO 90214VD 90214WH 90214YL 90214ZJ\n",
              "Country        GJ  IG  PX  RA  SK  ...      PX      PX      PX      PX      PX\n",
              "CustomerID                         ...                                        \n",
              "0             NaN NaN NaN NaN NaN  ...     NaN     NaN     NaN     NaN     NaN\n",
              "900           NaN NaN NaN NaN NaN  ...     NaN     NaN     NaN     NaN     NaN\n",
              "1800          NaN NaN NaN NaN NaN  ...     NaN     NaN     NaN     NaN     NaN\n",
              "1890          NaN NaN NaN NaN NaN  ...     NaN     NaN     NaN     NaN     NaN\n",
              "2700          NaN NaN NaN NaN NaN  ...     NaN     NaN     NaN     NaN     NaN\n",
              "\n",
              "[5 rows x 17864 columns]"
            ]
          },
          "metadata": {
            "tags": []
          },
          "execution_count": 39
        }
      ]
    },
    {
      "cell_type": "code",
      "metadata": {
        "id": "Q8AJCaAd_nKe",
        "colab_type": "code",
        "colab": {
          "base_uri": "https://localhost:8080/",
          "height": 34
        },
        "outputId": "d0b6a030-5d55-4fd4-f5d0-8f53519be9ad"
      },
      "source": [
        "l = set(train.CustomerID.unique()) - set(test.CustomerID.unique())\n",
        "len(l)"
      ],
      "execution_count": 40,
      "outputs": [
        {
          "output_type": "execute_result",
          "data": {
            "text/plain": [
              "972"
            ]
          },
          "metadata": {
            "tags": []
          },
          "execution_count": 40
        }
      ]
    },
    {
      "cell_type": "code",
      "metadata": {
        "id": "XECPa6zZ_ter",
        "colab_type": "code",
        "colab": {
          "base_uri": "https://localhost:8080/",
          "height": 34
        },
        "outputId": "c027517c-bf5c-4336-9fb0-4ce0c45e5d6d"
      },
      "source": [
        "train.CustomerID.nunique(), test.CustomerID.nunique()"
      ],
      "execution_count": 41,
      "outputs": [
        {
          "output_type": "execute_result",
          "data": {
            "text/plain": [
              "(972, 628)"
            ]
          },
          "metadata": {
            "tags": []
          },
          "execution_count": 41
        }
      ]
    },
    {
      "cell_type": "code",
      "metadata": {
        "id": "tvpH31Er_b8V",
        "colab_type": "code",
        "colab": {
          "base_uri": "https://localhost:8080/",
          "height": 34
        },
        "outputId": "1a159daa-ca90-4f34-a56b-6bb398ec8b43"
      },
      "source": [
        "train = combined.loc[train.CustomerID.unique()]\n",
        "train.shape"
      ],
      "execution_count": 77,
      "outputs": [
        {
          "output_type": "execute_result",
          "data": {
            "text/plain": [
              "(972, 17864)"
            ]
          },
          "metadata": {
            "tags": []
          },
          "execution_count": 77
        }
      ]
    },
    {
      "cell_type": "code",
      "metadata": {
        "id": "qJiziAkQAqhi",
        "colab_type": "code",
        "colab": {
          "base_uri": "https://localhost:8080/",
          "height": 34
        },
        "outputId": "91382dc0-3e65-422d-87f6-7e1cd6423cd6"
      },
      "source": [
        "test = combined.loc[test.CustomerID.unique()]\n",
        "test.shape"
      ],
      "execution_count": 94,
      "outputs": [
        {
          "output_type": "execute_result",
          "data": {
            "text/plain": [
              "(628, 17864)"
            ]
          },
          "metadata": {
            "tags": []
          },
          "execution_count": 94
        }
      ]
    },
    {
      "cell_type": "markdown",
      "metadata": {
        "id": "PDytDgsPA1ru",
        "colab_type": "text"
      },
      "source": [
        "#Cosine Similarity"
      ]
    },
    {
      "cell_type": "code",
      "metadata": {
        "id": "hUlMnZWsA7Ug",
        "colab_type": "code",
        "colab": {}
      },
      "source": [
        "from sklearn.metrics.pairwise import cosine_similarity"
      ],
      "execution_count": 0,
      "outputs": []
    },
    {
      "cell_type": "code",
      "metadata": {
        "id": "XG8XcVdOBaJQ",
        "colab_type": "code",
        "colab": {}
      },
      "source": [
        "test.shape"
      ],
      "execution_count": 0,
      "outputs": []
    },
    {
      "cell_type": "code",
      "metadata": {
        "id": "mb2jk3fHBpB8",
        "colab_type": "code",
        "colab": {}
      },
      "source": [
        "train.fillna(0, inplace = True)\n",
        "test.fillna(0, inplace = True)"
      ],
      "execution_count": 0,
      "outputs": []
    },
    {
      "cell_type": "code",
      "metadata": {
        "id": "OMPmnKVrBhTq",
        "colab_type": "code",
        "colab": {
          "base_uri": "https://localhost:8080/",
          "height": 238
        },
        "outputId": "00835150-36bc-421f-9914-5cc95d869611"
      },
      "source": [
        "similarity = cosine_similarity(test, train)\n",
        "similarity"
      ],
      "execution_count": 50,
      "outputs": [
        {
          "output_type": "execute_result",
          "data": {
            "text/plain": [
              "array([[0.01380899, 0.00995712, 0.00748101, ..., 0.        , 0.00610045,\n",
              "        0.        ],\n",
              "       [0.09205441, 0.05575506, 0.00364617, ..., 0.        , 0.02648811,\n",
              "        0.        ],\n",
              "       [0.10524991, 0.03469774, 0.01942362, ..., 0.        , 0.01692498,\n",
              "        0.        ],\n",
              "       ...,\n",
              "       [0.        , 0.00361499, 0.        , ..., 0.        , 0.        ,\n",
              "        0.        ],\n",
              "       [0.        , 0.0024693 , 0.        , ..., 0.        , 0.        ,\n",
              "        0.        ],\n",
              "       [0.00906813, 0.01006702, 0.        , ..., 0.        , 0.        ,\n",
              "        0.        ]])"
            ]
          },
          "metadata": {
            "tags": []
          },
          "execution_count": 50
        }
      ]
    },
    {
      "cell_type": "code",
      "metadata": {
        "id": "dCKfzrl8EFLl",
        "colab_type": "code",
        "colab": {
          "base_uri": "https://localhost:8080/",
          "height": 136
        },
        "outputId": "cf1d5b73-fdf7-4ab4-b8b9-31d09c445277"
      },
      "source": [
        "max_similarity = similarity.argsort()\n",
        "max_similarity"
      ],
      "execution_count": 72,
      "outputs": [
        {
          "output_type": "execute_result",
          "data": {
            "text/plain": [
              "array([[971, 842, 845, ..., 904,  61, 565],\n",
              "       [971, 528, 965, ..., 334, 735, 578],\n",
              "       [971, 209, 953, ..., 734, 626, 174],\n",
              "       ...,\n",
              "       [  0, 613, 615, ..., 325, 338, 565],\n",
              "       [  0, 623, 625, ..., 814, 911, 762],\n",
              "       [485, 610, 601, ..., 372, 905, 822]])"
            ]
          },
          "metadata": {
            "tags": []
          },
          "execution_count": 72
        }
      ]
    },
    {
      "cell_type": "code",
      "metadata": {
        "id": "ZTgPD5_EESip",
        "colab_type": "code",
        "colab": {
          "base_uri": "https://localhost:8080/",
          "height": 34
        },
        "outputId": "957d7c4d-0a72-4eeb-d449-59de501b85b6"
      },
      "source": [
        "max_similarity = max_similarity[:, -1]\n",
        "max_similarity[:10]"
      ],
      "execution_count": 73,
      "outputs": [
        {
          "output_type": "execute_result",
          "data": {
            "text/plain": [
              "array([565, 578, 174,  12, 256, 913, 578, 582, 359, 459])"
            ]
          },
          "metadata": {
            "tags": []
          },
          "execution_count": 73
        }
      ]
    },
    {
      "cell_type": "code",
      "metadata": {
        "id": "t5HvtklYEMpi",
        "colab_type": "code",
        "colab": {
          "base_uri": "https://localhost:8080/",
          "height": 204
        },
        "outputId": "79e919c6-c207-4abc-b781-c455965ff183"
      },
      "source": [
        "train_for_submission = pd.read_csv('https://bit.ly/32Okxx9')\n",
        "train_for_submission.head()"
      ],
      "execution_count": 66,
      "outputs": [
        {
          "output_type": "execute_result",
          "data": {
            "text/html": [
              "<div>\n",
              "<style scoped>\n",
              "    .dataframe tbody tr th:only-of-type {\n",
              "        vertical-align: middle;\n",
              "    }\n",
              "\n",
              "    .dataframe tbody tr th {\n",
              "        vertical-align: top;\n",
              "    }\n",
              "\n",
              "    .dataframe thead th {\n",
              "        text-align: right;\n",
              "    }\n",
              "</style>\n",
              "<table border=\"1\" class=\"dataframe\">\n",
              "  <thead>\n",
              "    <tr style=\"text-align: right;\">\n",
              "      <th></th>\n",
              "      <th>CustomerID</th>\n",
              "      <th>InvoiceNo</th>\n",
              "      <th>Quantity</th>\n",
              "      <th>InvoiceDate</th>\n",
              "      <th>UnitPrice</th>\n",
              "      <th>Country</th>\n",
              "      <th>StockCode</th>\n",
              "    </tr>\n",
              "  </thead>\n",
              "  <tbody>\n",
              "    <tr>\n",
              "      <th>0</th>\n",
              "      <td>27270</td>\n",
              "      <td>27270</td>\n",
              "      <td>7</td>\n",
              "      <td>01/12/10 8:26</td>\n",
              "      <td>2.55</td>\n",
              "      <td>PX</td>\n",
              "      <td>85123AY</td>\n",
              "    </tr>\n",
              "    <tr>\n",
              "      <th>1</th>\n",
              "      <td>27270</td>\n",
              "      <td>27270</td>\n",
              "      <td>7</td>\n",
              "      <td>01/12/10 8:26</td>\n",
              "      <td>3.39</td>\n",
              "      <td>PX</td>\n",
              "      <td>71053R</td>\n",
              "    </tr>\n",
              "    <tr>\n",
              "      <th>2</th>\n",
              "      <td>27270</td>\n",
              "      <td>27270</td>\n",
              "      <td>9</td>\n",
              "      <td>01/12/10 8:26</td>\n",
              "      <td>2.75</td>\n",
              "      <td>PX</td>\n",
              "      <td>84406BH</td>\n",
              "    </tr>\n",
              "    <tr>\n",
              "      <th>3</th>\n",
              "      <td>27270</td>\n",
              "      <td>27270</td>\n",
              "      <td>7</td>\n",
              "      <td>01/12/10 8:26</td>\n",
              "      <td>3.39</td>\n",
              "      <td>PX</td>\n",
              "      <td>84029GV</td>\n",
              "    </tr>\n",
              "    <tr>\n",
              "      <th>4</th>\n",
              "      <td>27270</td>\n",
              "      <td>27270</td>\n",
              "      <td>7</td>\n",
              "      <td>01/12/10 8:26</td>\n",
              "      <td>3.39</td>\n",
              "      <td>PX</td>\n",
              "      <td>84029EX</td>\n",
              "    </tr>\n",
              "  </tbody>\n",
              "</table>\n",
              "</div>"
            ],
            "text/plain": [
              "   CustomerID  InvoiceNo  Quantity    InvoiceDate  UnitPrice Country StockCode\n",
              "0       27270      27270         7  01/12/10 8:26       2.55      PX   85123AY\n",
              "1       27270      27270         7  01/12/10 8:26       3.39      PX    71053R\n",
              "2       27270      27270         9  01/12/10 8:26       2.75      PX   84406BH\n",
              "3       27270      27270         7  01/12/10 8:26       3.39      PX   84029GV\n",
              "4       27270      27270         7  01/12/10 8:26       3.39      PX   84029EX"
            ]
          },
          "metadata": {
            "tags": []
          },
          "execution_count": 66
        }
      ]
    },
    {
      "cell_type": "code",
      "metadata": {
        "id": "8c09SSHcIewc",
        "colab_type": "code",
        "colab": {
          "base_uri": "https://localhost:8080/",
          "height": 204
        },
        "outputId": "21b22cb9-7b1c-45eb-9e56-e8536e062955"
      },
      "source": [
        "test_for_submission = pd.read_csv('https://bit.ly/30SBLrj')\n",
        "test_for_submission.head()"
      ],
      "execution_count": 92,
      "outputs": [
        {
          "output_type": "execute_result",
          "data": {
            "text/html": [
              "<div>\n",
              "<style scoped>\n",
              "    .dataframe tbody tr th:only-of-type {\n",
              "        vertical-align: middle;\n",
              "    }\n",
              "\n",
              "    .dataframe tbody tr th {\n",
              "        vertical-align: top;\n",
              "    }\n",
              "\n",
              "    .dataframe thead th {\n",
              "        text-align: right;\n",
              "    }\n",
              "</style>\n",
              "<table border=\"1\" class=\"dataframe\">\n",
              "  <thead>\n",
              "    <tr style=\"text-align: right;\">\n",
              "      <th></th>\n",
              "      <th>Country</th>\n",
              "      <th>CustomerID</th>\n",
              "      <th>InvoiceDate</th>\n",
              "      <th>InvoiceNo</th>\n",
              "      <th>Quantity</th>\n",
              "      <th>StockCode</th>\n",
              "      <th>UnitPrice</th>\n",
              "    </tr>\n",
              "  </thead>\n",
              "  <tbody>\n",
              "    <tr>\n",
              "      <th>0</th>\n",
              "      <td>PX</td>\n",
              "      <td>127269</td>\n",
              "      <td>01/12/10 8:28</td>\n",
              "      <td>127269</td>\n",
              "      <td>7</td>\n",
              "      <td>22633V</td>\n",
              "      <td>1.85</td>\n",
              "    </tr>\n",
              "    <tr>\n",
              "      <th>1</th>\n",
              "      <td>PX</td>\n",
              "      <td>227268</td>\n",
              "      <td>01/12/10 8:34</td>\n",
              "      <td>227268</td>\n",
              "      <td>38</td>\n",
              "      <td>84879M</td>\n",
              "      <td>1.69</td>\n",
              "    </tr>\n",
              "    <tr>\n",
              "      <th>2</th>\n",
              "      <td>PX</td>\n",
              "      <td>227268</td>\n",
              "      <td>01/12/10 8:34</td>\n",
              "      <td>227268</td>\n",
              "      <td>7</td>\n",
              "      <td>22748P</td>\n",
              "      <td>2.10</td>\n",
              "    </tr>\n",
              "    <tr>\n",
              "      <th>3</th>\n",
              "      <td>PX</td>\n",
              "      <td>227268</td>\n",
              "      <td>01/12/10 8:34</td>\n",
              "      <td>227268</td>\n",
              "      <td>9</td>\n",
              "      <td>22749K</td>\n",
              "      <td>3.75</td>\n",
              "    </tr>\n",
              "    <tr>\n",
              "      <th>4</th>\n",
              "      <td>PX</td>\n",
              "      <td>227268</td>\n",
              "      <td>01/12/10 8:34</td>\n",
              "      <td>227268</td>\n",
              "      <td>2</td>\n",
              "      <td>22622G</td>\n",
              "      <td>9.95</td>\n",
              "    </tr>\n",
              "  </tbody>\n",
              "</table>\n",
              "</div>"
            ],
            "text/plain": [
              "  Country  CustomerID    InvoiceDate  InvoiceNo  Quantity StockCode  UnitPrice\n",
              "0      PX      127269  01/12/10 8:28     127269         7    22633V       1.85\n",
              "1      PX      227268  01/12/10 8:34     227268        38    84879M       1.69\n",
              "2      PX      227268  01/12/10 8:34     227268         7    22748P       2.10\n",
              "3      PX      227268  01/12/10 8:34     227268         9    22749K       3.75\n",
              "4      PX      227268  01/12/10 8:34     227268         2    22622G       9.95"
            ]
          },
          "metadata": {
            "tags": []
          },
          "execution_count": 92
        }
      ]
    },
    {
      "cell_type": "code",
      "metadata": {
        "colab_type": "code",
        "id": "9OWNe3xML29a",
        "colab": {}
      },
      "source": [
        "train_for_submission['Quantity'] = train_for_submission.Quantity.apply(lambda x: -x if x < 0 else x)\n",
        "test_for_submission['Quantity'] = test_for_submission.Quantity.apply(lambda x: -x if x < 0 else x)"
      ],
      "execution_count": 0,
      "outputs": []
    },
    {
      "cell_type": "code",
      "metadata": {
        "id": "ufMZtthMGB0v",
        "colab_type": "code",
        "colab": {}
      },
      "source": [
        "max_customer_id = []\n",
        "n = 0\n",
        "for i in max_similarity:\n",
        "  max_customer_id.append((test.index[n], train.index[i]))\n",
        "  n += 1"
      ],
      "execution_count": 0,
      "outputs": []
    },
    {
      "cell_type": "code",
      "metadata": {
        "id": "fuD3dtX9TUjB",
        "colab_type": "code",
        "colab": {
          "base_uri": "https://localhost:8080/",
          "height": 187
        },
        "outputId": "5125ced6-e7a9-423d-a44f-cb0555126651"
      },
      "source": [
        "max_customer_id[:10]"
      ],
      "execution_count": 124,
      "outputs": [
        {
          "output_type": "execute_result",
          "data": {
            "text/plain": [
              "[(127269, 526365),\n",
              " (227268, 256437),\n",
              " (327267, 178218),\n",
              " (162738, 147249),\n",
              " (252747, 354537),\n",
              " (347247, 23769),\n",
              " (442755, 256437),\n",
              " (342756, 453546),\n",
              " (57240, 348246),\n",
              " (357237, 435456)]"
            ]
          },
          "metadata": {
            "tags": []
          },
          "execution_count": 124
        }
      ]
    },
    {
      "cell_type": "code",
      "metadata": {
        "id": "hoYYFi8gHudn",
        "colab_type": "code",
        "colab": {
          "base_uri": "https://localhost:8080/",
          "height": 221
        },
        "outputId": "9448ac0b-d19a-47f3-8289-f4cc3420d6e6"
      },
      "source": [
        "n = 0\n",
        "for i, j in max_customer_id.items():\n",
        "  print(i, ':--', j)\n",
        "  if n > 10:\n",
        "    break\n",
        "  n += 1"
      ],
      "execution_count": 102,
      "outputs": [
        {
          "output_type": "stream",
          "text": [
            "127269 :-- 526365\n",
            "227268 :-- 256437\n",
            "327267 :-- 178218\n",
            "162738 :-- 147249\n",
            "252747 :-- 354537\n",
            "347247 :-- 23769\n",
            "442755 :-- 256437\n",
            "342756 :-- 453546\n",
            "57240 :-- 348246\n",
            "357237 :-- 435456\n",
            "531765 :-- 471915\n",
            "131769 :-- 532665\n"
          ],
          "name": "stdout"
        }
      ]
    },
    {
      "cell_type": "code",
      "metadata": {
        "id": "mMKaAwAaHwW9",
        "colab_type": "code",
        "colab": {
          "base_uri": "https://localhost:8080/",
          "height": 284
        },
        "outputId": "1b3b708a-25e8-47cb-93d7-4ddc8b8057c7"
      },
      "source": [
        "train_pivot = train_for_submission.pivot_table(index = 'CustomerID', columns = 'StockCode', values = 'Quantity')\n",
        "train_pivot.head()"
      ],
      "execution_count": 105,
      "outputs": [
        {
          "output_type": "execute_result",
          "data": {
            "text/html": [
              "<div>\n",
              "<style scoped>\n",
              "    .dataframe tbody tr th:only-of-type {\n",
              "        vertical-align: middle;\n",
              "    }\n",
              "\n",
              "    .dataframe tbody tr th {\n",
              "        vertical-align: top;\n",
              "    }\n",
              "\n",
              "    .dataframe thead th {\n",
              "        text-align: right;\n",
              "    }\n",
              "</style>\n",
              "<table border=\"1\" class=\"dataframe\">\n",
              "  <thead>\n",
              "    <tr style=\"text-align: right;\">\n",
              "      <th>StockCode</th>\n",
              "      <th>10002F</th>\n",
              "      <th>10080Q</th>\n",
              "      <th>10120M</th>\n",
              "      <th>10123CU</th>\n",
              "      <th>10124AW</th>\n",
              "      <th>10124GF</th>\n",
              "      <th>10125J</th>\n",
              "      <th>10133M</th>\n",
              "      <th>10135P</th>\n",
              "      <th>11001M</th>\n",
              "      <th>15030G</th>\n",
              "      <th>15034D</th>\n",
              "      <th>15036Z</th>\n",
              "      <th>15039A</th>\n",
              "      <th>15044AR</th>\n",
              "      <th>15044BI</th>\n",
              "      <th>15044CR</th>\n",
              "      <th>15044DX</th>\n",
              "      <th>15056BLH</th>\n",
              "      <th>15056ND</th>\n",
              "      <th>15056PV</th>\n",
              "      <th>15056blG</th>\n",
              "      <th>15056nO</th>\n",
              "      <th>15056pC</th>\n",
              "      <th>15058AY</th>\n",
              "      <th>15058BR</th>\n",
              "      <th>15058CH</th>\n",
              "      <th>15060BB</th>\n",
              "      <th>15060bU</th>\n",
              "      <th>16008I</th>\n",
              "      <th>16010H</th>\n",
              "      <th>16011L</th>\n",
              "      <th>16012X</th>\n",
              "      <th>16014F</th>\n",
              "      <th>16015Z</th>\n",
              "      <th>16016H</th>\n",
              "      <th>16020CF</th>\n",
              "      <th>16033Z</th>\n",
              "      <th>16043M</th>\n",
              "      <th>16045M</th>\n",
              "      <th>...</th>\n",
              "      <th>90204H</th>\n",
              "      <th>90205AR</th>\n",
              "      <th>90205CD</th>\n",
              "      <th>90206AQ</th>\n",
              "      <th>90206CD</th>\n",
              "      <th>90208D</th>\n",
              "      <th>90209BE</th>\n",
              "      <th>90209CQ</th>\n",
              "      <th>90210AL</th>\n",
              "      <th>90210BN</th>\n",
              "      <th>90210CN</th>\n",
              "      <th>90210DP</th>\n",
              "      <th>90211AP</th>\n",
              "      <th>90211BD</th>\n",
              "      <th>90212BG</th>\n",
              "      <th>90212CC</th>\n",
              "      <th>90214AQ</th>\n",
              "      <th>90214BW</th>\n",
              "      <th>90214CK</th>\n",
              "      <th>90214DZ</th>\n",
              "      <th>90214EF</th>\n",
              "      <th>90214FX</th>\n",
              "      <th>90214GF</th>\n",
              "      <th>90214HZ</th>\n",
              "      <th>90214IZ</th>\n",
              "      <th>90214JA</th>\n",
              "      <th>90214KK</th>\n",
              "      <th>90214LO</th>\n",
              "      <th>90214MZ</th>\n",
              "      <th>90214NM</th>\n",
              "      <th>90214OZ</th>\n",
              "      <th>90214PB</th>\n",
              "      <th>90214RZ</th>\n",
              "      <th>90214SF</th>\n",
              "      <th>90214TT</th>\n",
              "      <th>90214UO</th>\n",
              "      <th>90214VD</th>\n",
              "      <th>90214WH</th>\n",
              "      <th>90214YL</th>\n",
              "      <th>90214ZJ</th>\n",
              "    </tr>\n",
              "    <tr>\n",
              "      <th>CustomerID</th>\n",
              "      <th></th>\n",
              "      <th></th>\n",
              "      <th></th>\n",
              "      <th></th>\n",
              "      <th></th>\n",
              "      <th></th>\n",
              "      <th></th>\n",
              "      <th></th>\n",
              "      <th></th>\n",
              "      <th></th>\n",
              "      <th></th>\n",
              "      <th></th>\n",
              "      <th></th>\n",
              "      <th></th>\n",
              "      <th></th>\n",
              "      <th></th>\n",
              "      <th></th>\n",
              "      <th></th>\n",
              "      <th></th>\n",
              "      <th></th>\n",
              "      <th></th>\n",
              "      <th></th>\n",
              "      <th></th>\n",
              "      <th></th>\n",
              "      <th></th>\n",
              "      <th></th>\n",
              "      <th></th>\n",
              "      <th></th>\n",
              "      <th></th>\n",
              "      <th></th>\n",
              "      <th></th>\n",
              "      <th></th>\n",
              "      <th></th>\n",
              "      <th></th>\n",
              "      <th></th>\n",
              "      <th></th>\n",
              "      <th></th>\n",
              "      <th></th>\n",
              "      <th></th>\n",
              "      <th></th>\n",
              "      <th></th>\n",
              "      <th></th>\n",
              "      <th></th>\n",
              "      <th></th>\n",
              "      <th></th>\n",
              "      <th></th>\n",
              "      <th></th>\n",
              "      <th></th>\n",
              "      <th></th>\n",
              "      <th></th>\n",
              "      <th></th>\n",
              "      <th></th>\n",
              "      <th></th>\n",
              "      <th></th>\n",
              "      <th></th>\n",
              "      <th></th>\n",
              "      <th></th>\n",
              "      <th></th>\n",
              "      <th></th>\n",
              "      <th></th>\n",
              "      <th></th>\n",
              "      <th></th>\n",
              "      <th></th>\n",
              "      <th></th>\n",
              "      <th></th>\n",
              "      <th></th>\n",
              "      <th></th>\n",
              "      <th></th>\n",
              "      <th></th>\n",
              "      <th></th>\n",
              "      <th></th>\n",
              "      <th></th>\n",
              "      <th></th>\n",
              "      <th></th>\n",
              "      <th></th>\n",
              "      <th></th>\n",
              "      <th></th>\n",
              "      <th></th>\n",
              "      <th></th>\n",
              "      <th></th>\n",
              "      <th></th>\n",
              "    </tr>\n",
              "  </thead>\n",
              "  <tbody>\n",
              "    <tr>\n",
              "      <th>0</th>\n",
              "      <td>NaN</td>\n",
              "      <td>NaN</td>\n",
              "      <td>NaN</td>\n",
              "      <td>NaN</td>\n",
              "      <td>NaN</td>\n",
              "      <td>NaN</td>\n",
              "      <td>NaN</td>\n",
              "      <td>NaN</td>\n",
              "      <td>NaN</td>\n",
              "      <td>NaN</td>\n",
              "      <td>NaN</td>\n",
              "      <td>NaN</td>\n",
              "      <td>NaN</td>\n",
              "      <td>NaN</td>\n",
              "      <td>NaN</td>\n",
              "      <td>NaN</td>\n",
              "      <td>NaN</td>\n",
              "      <td>NaN</td>\n",
              "      <td>1.0</td>\n",
              "      <td>1.0</td>\n",
              "      <td>NaN</td>\n",
              "      <td>NaN</td>\n",
              "      <td>NaN</td>\n",
              "      <td>NaN</td>\n",
              "      <td>NaN</td>\n",
              "      <td>NaN</td>\n",
              "      <td>1.0</td>\n",
              "      <td>1.0</td>\n",
              "      <td>NaN</td>\n",
              "      <td>NaN</td>\n",
              "      <td>NaN</td>\n",
              "      <td>NaN</td>\n",
              "      <td>NaN</td>\n",
              "      <td>NaN</td>\n",
              "      <td>NaN</td>\n",
              "      <td>NaN</td>\n",
              "      <td>NaN</td>\n",
              "      <td>NaN</td>\n",
              "      <td>NaN</td>\n",
              "      <td>NaN</td>\n",
              "      <td>...</td>\n",
              "      <td>NaN</td>\n",
              "      <td>NaN</td>\n",
              "      <td>NaN</td>\n",
              "      <td>NaN</td>\n",
              "      <td>NaN</td>\n",
              "      <td>NaN</td>\n",
              "      <td>NaN</td>\n",
              "      <td>NaN</td>\n",
              "      <td>NaN</td>\n",
              "      <td>NaN</td>\n",
              "      <td>NaN</td>\n",
              "      <td>NaN</td>\n",
              "      <td>NaN</td>\n",
              "      <td>NaN</td>\n",
              "      <td>NaN</td>\n",
              "      <td>NaN</td>\n",
              "      <td>NaN</td>\n",
              "      <td>NaN</td>\n",
              "      <td>NaN</td>\n",
              "      <td>NaN</td>\n",
              "      <td>NaN</td>\n",
              "      <td>NaN</td>\n",
              "      <td>NaN</td>\n",
              "      <td>NaN</td>\n",
              "      <td>NaN</td>\n",
              "      <td>NaN</td>\n",
              "      <td>NaN</td>\n",
              "      <td>NaN</td>\n",
              "      <td>NaN</td>\n",
              "      <td>NaN</td>\n",
              "      <td>NaN</td>\n",
              "      <td>NaN</td>\n",
              "      <td>NaN</td>\n",
              "      <td>NaN</td>\n",
              "      <td>NaN</td>\n",
              "      <td>NaN</td>\n",
              "      <td>NaN</td>\n",
              "      <td>NaN</td>\n",
              "      <td>NaN</td>\n",
              "      <td>NaN</td>\n",
              "    </tr>\n",
              "    <tr>\n",
              "      <th>900</th>\n",
              "      <td>NaN</td>\n",
              "      <td>NaN</td>\n",
              "      <td>NaN</td>\n",
              "      <td>NaN</td>\n",
              "      <td>NaN</td>\n",
              "      <td>NaN</td>\n",
              "      <td>NaN</td>\n",
              "      <td>NaN</td>\n",
              "      <td>60.0</td>\n",
              "      <td>1.0</td>\n",
              "      <td>NaN</td>\n",
              "      <td>NaN</td>\n",
              "      <td>NaN</td>\n",
              "      <td>NaN</td>\n",
              "      <td>NaN</td>\n",
              "      <td>NaN</td>\n",
              "      <td>NaN</td>\n",
              "      <td>NaN</td>\n",
              "      <td>3.0</td>\n",
              "      <td>NaN</td>\n",
              "      <td>NaN</td>\n",
              "      <td>NaN</td>\n",
              "      <td>NaN</td>\n",
              "      <td>NaN</td>\n",
              "      <td>NaN</td>\n",
              "      <td>NaN</td>\n",
              "      <td>NaN</td>\n",
              "      <td>NaN</td>\n",
              "      <td>NaN</td>\n",
              "      <td>NaN</td>\n",
              "      <td>NaN</td>\n",
              "      <td>NaN</td>\n",
              "      <td>NaN</td>\n",
              "      <td>NaN</td>\n",
              "      <td>NaN</td>\n",
              "      <td>NaN</td>\n",
              "      <td>NaN</td>\n",
              "      <td>NaN</td>\n",
              "      <td>NaN</td>\n",
              "      <td>NaN</td>\n",
              "      <td>...</td>\n",
              "      <td>NaN</td>\n",
              "      <td>NaN</td>\n",
              "      <td>NaN</td>\n",
              "      <td>NaN</td>\n",
              "      <td>NaN</td>\n",
              "      <td>NaN</td>\n",
              "      <td>NaN</td>\n",
              "      <td>NaN</td>\n",
              "      <td>NaN</td>\n",
              "      <td>NaN</td>\n",
              "      <td>NaN</td>\n",
              "      <td>NaN</td>\n",
              "      <td>NaN</td>\n",
              "      <td>NaN</td>\n",
              "      <td>NaN</td>\n",
              "      <td>NaN</td>\n",
              "      <td>NaN</td>\n",
              "      <td>NaN</td>\n",
              "      <td>NaN</td>\n",
              "      <td>NaN</td>\n",
              "      <td>NaN</td>\n",
              "      <td>NaN</td>\n",
              "      <td>NaN</td>\n",
              "      <td>NaN</td>\n",
              "      <td>NaN</td>\n",
              "      <td>NaN</td>\n",
              "      <td>NaN</td>\n",
              "      <td>NaN</td>\n",
              "      <td>NaN</td>\n",
              "      <td>NaN</td>\n",
              "      <td>NaN</td>\n",
              "      <td>NaN</td>\n",
              "      <td>NaN</td>\n",
              "      <td>NaN</td>\n",
              "      <td>NaN</td>\n",
              "      <td>NaN</td>\n",
              "      <td>NaN</td>\n",
              "      <td>NaN</td>\n",
              "      <td>NaN</td>\n",
              "      <td>NaN</td>\n",
              "    </tr>\n",
              "    <tr>\n",
              "      <th>1800</th>\n",
              "      <td>NaN</td>\n",
              "      <td>NaN</td>\n",
              "      <td>NaN</td>\n",
              "      <td>NaN</td>\n",
              "      <td>NaN</td>\n",
              "      <td>NaN</td>\n",
              "      <td>NaN</td>\n",
              "      <td>NaN</td>\n",
              "      <td>NaN</td>\n",
              "      <td>NaN</td>\n",
              "      <td>2.0</td>\n",
              "      <td>NaN</td>\n",
              "      <td>14.0</td>\n",
              "      <td>NaN</td>\n",
              "      <td>NaN</td>\n",
              "      <td>NaN</td>\n",
              "      <td>NaN</td>\n",
              "      <td>NaN</td>\n",
              "      <td>NaN</td>\n",
              "      <td>NaN</td>\n",
              "      <td>NaN</td>\n",
              "      <td>NaN</td>\n",
              "      <td>NaN</td>\n",
              "      <td>NaN</td>\n",
              "      <td>NaN</td>\n",
              "      <td>NaN</td>\n",
              "      <td>NaN</td>\n",
              "      <td>NaN</td>\n",
              "      <td>NaN</td>\n",
              "      <td>NaN</td>\n",
              "      <td>NaN</td>\n",
              "      <td>NaN</td>\n",
              "      <td>NaN</td>\n",
              "      <td>NaN</td>\n",
              "      <td>NaN</td>\n",
              "      <td>NaN</td>\n",
              "      <td>NaN</td>\n",
              "      <td>NaN</td>\n",
              "      <td>NaN</td>\n",
              "      <td>NaN</td>\n",
              "      <td>...</td>\n",
              "      <td>NaN</td>\n",
              "      <td>NaN</td>\n",
              "      <td>NaN</td>\n",
              "      <td>NaN</td>\n",
              "      <td>NaN</td>\n",
              "      <td>NaN</td>\n",
              "      <td>NaN</td>\n",
              "      <td>NaN</td>\n",
              "      <td>NaN</td>\n",
              "      <td>NaN</td>\n",
              "      <td>NaN</td>\n",
              "      <td>NaN</td>\n",
              "      <td>NaN</td>\n",
              "      <td>NaN</td>\n",
              "      <td>NaN</td>\n",
              "      <td>NaN</td>\n",
              "      <td>NaN</td>\n",
              "      <td>NaN</td>\n",
              "      <td>NaN</td>\n",
              "      <td>NaN</td>\n",
              "      <td>NaN</td>\n",
              "      <td>NaN</td>\n",
              "      <td>NaN</td>\n",
              "      <td>NaN</td>\n",
              "      <td>NaN</td>\n",
              "      <td>NaN</td>\n",
              "      <td>NaN</td>\n",
              "      <td>NaN</td>\n",
              "      <td>NaN</td>\n",
              "      <td>NaN</td>\n",
              "      <td>NaN</td>\n",
              "      <td>NaN</td>\n",
              "      <td>NaN</td>\n",
              "      <td>NaN</td>\n",
              "      <td>NaN</td>\n",
              "      <td>NaN</td>\n",
              "      <td>NaN</td>\n",
              "      <td>NaN</td>\n",
              "      <td>NaN</td>\n",
              "      <td>NaN</td>\n",
              "    </tr>\n",
              "    <tr>\n",
              "      <th>2790</th>\n",
              "      <td>NaN</td>\n",
              "      <td>NaN</td>\n",
              "      <td>NaN</td>\n",
              "      <td>NaN</td>\n",
              "      <td>NaN</td>\n",
              "      <td>NaN</td>\n",
              "      <td>NaN</td>\n",
              "      <td>NaN</td>\n",
              "      <td>NaN</td>\n",
              "      <td>NaN</td>\n",
              "      <td>NaN</td>\n",
              "      <td>NaN</td>\n",
              "      <td>NaN</td>\n",
              "      <td>NaN</td>\n",
              "      <td>NaN</td>\n",
              "      <td>NaN</td>\n",
              "      <td>NaN</td>\n",
              "      <td>NaN</td>\n",
              "      <td>NaN</td>\n",
              "      <td>NaN</td>\n",
              "      <td>NaN</td>\n",
              "      <td>NaN</td>\n",
              "      <td>NaN</td>\n",
              "      <td>NaN</td>\n",
              "      <td>NaN</td>\n",
              "      <td>NaN</td>\n",
              "      <td>NaN</td>\n",
              "      <td>NaN</td>\n",
              "      <td>NaN</td>\n",
              "      <td>NaN</td>\n",
              "      <td>NaN</td>\n",
              "      <td>NaN</td>\n",
              "      <td>NaN</td>\n",
              "      <td>NaN</td>\n",
              "      <td>NaN</td>\n",
              "      <td>NaN</td>\n",
              "      <td>NaN</td>\n",
              "      <td>NaN</td>\n",
              "      <td>NaN</td>\n",
              "      <td>NaN</td>\n",
              "      <td>...</td>\n",
              "      <td>NaN</td>\n",
              "      <td>NaN</td>\n",
              "      <td>NaN</td>\n",
              "      <td>NaN</td>\n",
              "      <td>NaN</td>\n",
              "      <td>NaN</td>\n",
              "      <td>NaN</td>\n",
              "      <td>NaN</td>\n",
              "      <td>NaN</td>\n",
              "      <td>NaN</td>\n",
              "      <td>NaN</td>\n",
              "      <td>NaN</td>\n",
              "      <td>NaN</td>\n",
              "      <td>NaN</td>\n",
              "      <td>NaN</td>\n",
              "      <td>NaN</td>\n",
              "      <td>NaN</td>\n",
              "      <td>NaN</td>\n",
              "      <td>NaN</td>\n",
              "      <td>NaN</td>\n",
              "      <td>NaN</td>\n",
              "      <td>NaN</td>\n",
              "      <td>NaN</td>\n",
              "      <td>NaN</td>\n",
              "      <td>NaN</td>\n",
              "      <td>NaN</td>\n",
              "      <td>NaN</td>\n",
              "      <td>NaN</td>\n",
              "      <td>NaN</td>\n",
              "      <td>NaN</td>\n",
              "      <td>NaN</td>\n",
              "      <td>NaN</td>\n",
              "      <td>NaN</td>\n",
              "      <td>NaN</td>\n",
              "      <td>NaN</td>\n",
              "      <td>NaN</td>\n",
              "      <td>NaN</td>\n",
              "      <td>NaN</td>\n",
              "      <td>NaN</td>\n",
              "      <td>NaN</td>\n",
              "    </tr>\n",
              "    <tr>\n",
              "      <th>4590</th>\n",
              "      <td>NaN</td>\n",
              "      <td>NaN</td>\n",
              "      <td>NaN</td>\n",
              "      <td>NaN</td>\n",
              "      <td>NaN</td>\n",
              "      <td>NaN</td>\n",
              "      <td>NaN</td>\n",
              "      <td>NaN</td>\n",
              "      <td>NaN</td>\n",
              "      <td>NaN</td>\n",
              "      <td>NaN</td>\n",
              "      <td>NaN</td>\n",
              "      <td>NaN</td>\n",
              "      <td>NaN</td>\n",
              "      <td>NaN</td>\n",
              "      <td>NaN</td>\n",
              "      <td>NaN</td>\n",
              "      <td>NaN</td>\n",
              "      <td>NaN</td>\n",
              "      <td>NaN</td>\n",
              "      <td>NaN</td>\n",
              "      <td>NaN</td>\n",
              "      <td>NaN</td>\n",
              "      <td>NaN</td>\n",
              "      <td>NaN</td>\n",
              "      <td>NaN</td>\n",
              "      <td>NaN</td>\n",
              "      <td>NaN</td>\n",
              "      <td>NaN</td>\n",
              "      <td>NaN</td>\n",
              "      <td>NaN</td>\n",
              "      <td>NaN</td>\n",
              "      <td>NaN</td>\n",
              "      <td>NaN</td>\n",
              "      <td>NaN</td>\n",
              "      <td>NaN</td>\n",
              "      <td>NaN</td>\n",
              "      <td>NaN</td>\n",
              "      <td>NaN</td>\n",
              "      <td>NaN</td>\n",
              "      <td>...</td>\n",
              "      <td>NaN</td>\n",
              "      <td>NaN</td>\n",
              "      <td>NaN</td>\n",
              "      <td>NaN</td>\n",
              "      <td>NaN</td>\n",
              "      <td>NaN</td>\n",
              "      <td>NaN</td>\n",
              "      <td>NaN</td>\n",
              "      <td>NaN</td>\n",
              "      <td>NaN</td>\n",
              "      <td>NaN</td>\n",
              "      <td>NaN</td>\n",
              "      <td>NaN</td>\n",
              "      <td>NaN</td>\n",
              "      <td>NaN</td>\n",
              "      <td>NaN</td>\n",
              "      <td>NaN</td>\n",
              "      <td>NaN</td>\n",
              "      <td>NaN</td>\n",
              "      <td>NaN</td>\n",
              "      <td>NaN</td>\n",
              "      <td>NaN</td>\n",
              "      <td>NaN</td>\n",
              "      <td>NaN</td>\n",
              "      <td>NaN</td>\n",
              "      <td>NaN</td>\n",
              "      <td>NaN</td>\n",
              "      <td>NaN</td>\n",
              "      <td>NaN</td>\n",
              "      <td>NaN</td>\n",
              "      <td>NaN</td>\n",
              "      <td>NaN</td>\n",
              "      <td>NaN</td>\n",
              "      <td>NaN</td>\n",
              "      <td>NaN</td>\n",
              "      <td>NaN</td>\n",
              "      <td>NaN</td>\n",
              "      <td>NaN</td>\n",
              "      <td>NaN</td>\n",
              "      <td>NaN</td>\n",
              "    </tr>\n",
              "  </tbody>\n",
              "</table>\n",
              "<p>5 rows × 3810 columns</p>\n",
              "</div>"
            ],
            "text/plain": [
              "StockCode   10002F  10080Q  10120M  10123CU  ...  90214VD  90214WH  90214YL  90214ZJ\n",
              "CustomerID                                   ...                                    \n",
              "0              NaN     NaN     NaN      NaN  ...      NaN      NaN      NaN      NaN\n",
              "900            NaN     NaN     NaN      NaN  ...      NaN      NaN      NaN      NaN\n",
              "1800           NaN     NaN     NaN      NaN  ...      NaN      NaN      NaN      NaN\n",
              "2790           NaN     NaN     NaN      NaN  ...      NaN      NaN      NaN      NaN\n",
              "4590           NaN     NaN     NaN      NaN  ...      NaN      NaN      NaN      NaN\n",
              "\n",
              "[5 rows x 3810 columns]"
            ]
          },
          "metadata": {
            "tags": []
          },
          "execution_count": 105
        }
      ]
    },
    {
      "cell_type": "code",
      "metadata": {
        "id": "ZOx_dRLrLe84",
        "colab_type": "code",
        "colab": {
          "base_uri": "https://localhost:8080/",
          "height": 284
        },
        "outputId": "3513825c-e458-4001-be64-cbf34e61ab4e"
      },
      "source": [
        "test_pivot = test_for_submission.pivot_table(index = 'CustomerID', columns = 'StockCode', values = 'Quantity')\n",
        "test_pivot.head()"
      ],
      "execution_count": 106,
      "outputs": [
        {
          "output_type": "execute_result",
          "data": {
            "text/html": [
              "<div>\n",
              "<style scoped>\n",
              "    .dataframe tbody tr th:only-of-type {\n",
              "        vertical-align: middle;\n",
              "    }\n",
              "\n",
              "    .dataframe tbody tr th {\n",
              "        vertical-align: top;\n",
              "    }\n",
              "\n",
              "    .dataframe thead th {\n",
              "        text-align: right;\n",
              "    }\n",
              "</style>\n",
              "<table border=\"1\" class=\"dataframe\">\n",
              "  <thead>\n",
              "    <tr style=\"text-align: right;\">\n",
              "      <th>StockCode</th>\n",
              "      <th>10002F</th>\n",
              "      <th>10080Q</th>\n",
              "      <th>10120M</th>\n",
              "      <th>10124AW</th>\n",
              "      <th>10124GF</th>\n",
              "      <th>10125J</th>\n",
              "      <th>10133M</th>\n",
              "      <th>10135P</th>\n",
              "      <th>11001M</th>\n",
              "      <th>15030G</th>\n",
              "      <th>15034D</th>\n",
              "      <th>15036Z</th>\n",
              "      <th>15039A</th>\n",
              "      <th>15044AR</th>\n",
              "      <th>15044BI</th>\n",
              "      <th>15044CR</th>\n",
              "      <th>15044DX</th>\n",
              "      <th>15056BLH</th>\n",
              "      <th>15056ND</th>\n",
              "      <th>15056PV</th>\n",
              "      <th>15056blG</th>\n",
              "      <th>15056nO</th>\n",
              "      <th>15056pC</th>\n",
              "      <th>15058AY</th>\n",
              "      <th>15058BR</th>\n",
              "      <th>15058CH</th>\n",
              "      <th>15060BB</th>\n",
              "      <th>16008I</th>\n",
              "      <th>16011L</th>\n",
              "      <th>16012X</th>\n",
              "      <th>16014F</th>\n",
              "      <th>16015Z</th>\n",
              "      <th>16016H</th>\n",
              "      <th>16020CF</th>\n",
              "      <th>16043M</th>\n",
              "      <th>16045M</th>\n",
              "      <th>16046R</th>\n",
              "      <th>16048K</th>\n",
              "      <th>16049D</th>\n",
              "      <th>16052Q</th>\n",
              "      <th>...</th>\n",
              "      <th>90202AZ</th>\n",
              "      <th>90202BJ</th>\n",
              "      <th>90202CT</th>\n",
              "      <th>90202DB</th>\n",
              "      <th>90204H</th>\n",
              "      <th>90205AR</th>\n",
              "      <th>90205CD</th>\n",
              "      <th>90206CD</th>\n",
              "      <th>90208D</th>\n",
              "      <th>90209AX</th>\n",
              "      <th>90209BE</th>\n",
              "      <th>90209CQ</th>\n",
              "      <th>90210BN</th>\n",
              "      <th>90210CN</th>\n",
              "      <th>90210DP</th>\n",
              "      <th>90211AP</th>\n",
              "      <th>90211BD</th>\n",
              "      <th>90212BG</th>\n",
              "      <th>90214AQ</th>\n",
              "      <th>90214BW</th>\n",
              "      <th>90214CK</th>\n",
              "      <th>90214DZ</th>\n",
              "      <th>90214EF</th>\n",
              "      <th>90214FX</th>\n",
              "      <th>90214GF</th>\n",
              "      <th>90214HZ</th>\n",
              "      <th>90214IZ</th>\n",
              "      <th>90214JA</th>\n",
              "      <th>90214KK</th>\n",
              "      <th>90214LO</th>\n",
              "      <th>90214MZ</th>\n",
              "      <th>90214NM</th>\n",
              "      <th>90214OZ</th>\n",
              "      <th>90214PB</th>\n",
              "      <th>90214RZ</th>\n",
              "      <th>90214SF</th>\n",
              "      <th>90214TT</th>\n",
              "      <th>90214VD</th>\n",
              "      <th>90214YL</th>\n",
              "      <th>90214ZJ</th>\n",
              "    </tr>\n",
              "    <tr>\n",
              "      <th>CustomerID</th>\n",
              "      <th></th>\n",
              "      <th></th>\n",
              "      <th></th>\n",
              "      <th></th>\n",
              "      <th></th>\n",
              "      <th></th>\n",
              "      <th></th>\n",
              "      <th></th>\n",
              "      <th></th>\n",
              "      <th></th>\n",
              "      <th></th>\n",
              "      <th></th>\n",
              "      <th></th>\n",
              "      <th></th>\n",
              "      <th></th>\n",
              "      <th></th>\n",
              "      <th></th>\n",
              "      <th></th>\n",
              "      <th></th>\n",
              "      <th></th>\n",
              "      <th></th>\n",
              "      <th></th>\n",
              "      <th></th>\n",
              "      <th></th>\n",
              "      <th></th>\n",
              "      <th></th>\n",
              "      <th></th>\n",
              "      <th></th>\n",
              "      <th></th>\n",
              "      <th></th>\n",
              "      <th></th>\n",
              "      <th></th>\n",
              "      <th></th>\n",
              "      <th></th>\n",
              "      <th></th>\n",
              "      <th></th>\n",
              "      <th></th>\n",
              "      <th></th>\n",
              "      <th></th>\n",
              "      <th></th>\n",
              "      <th></th>\n",
              "      <th></th>\n",
              "      <th></th>\n",
              "      <th></th>\n",
              "      <th></th>\n",
              "      <th></th>\n",
              "      <th></th>\n",
              "      <th></th>\n",
              "      <th></th>\n",
              "      <th></th>\n",
              "      <th></th>\n",
              "      <th></th>\n",
              "      <th></th>\n",
              "      <th></th>\n",
              "      <th></th>\n",
              "      <th></th>\n",
              "      <th></th>\n",
              "      <th></th>\n",
              "      <th></th>\n",
              "      <th></th>\n",
              "      <th></th>\n",
              "      <th></th>\n",
              "      <th></th>\n",
              "      <th></th>\n",
              "      <th></th>\n",
              "      <th></th>\n",
              "      <th></th>\n",
              "      <th></th>\n",
              "      <th></th>\n",
              "      <th></th>\n",
              "      <th></th>\n",
              "      <th></th>\n",
              "      <th></th>\n",
              "      <th></th>\n",
              "      <th></th>\n",
              "      <th></th>\n",
              "      <th></th>\n",
              "      <th></th>\n",
              "      <th></th>\n",
              "      <th></th>\n",
              "      <th></th>\n",
              "    </tr>\n",
              "  </thead>\n",
              "  <tbody>\n",
              "    <tr>\n",
              "      <th>1890</th>\n",
              "      <td>NaN</td>\n",
              "      <td>NaN</td>\n",
              "      <td>NaN</td>\n",
              "      <td>NaN</td>\n",
              "      <td>NaN</td>\n",
              "      <td>NaN</td>\n",
              "      <td>NaN</td>\n",
              "      <td>NaN</td>\n",
              "      <td>NaN</td>\n",
              "      <td>NaN</td>\n",
              "      <td>NaN</td>\n",
              "      <td>NaN</td>\n",
              "      <td>NaN</td>\n",
              "      <td>NaN</td>\n",
              "      <td>NaN</td>\n",
              "      <td>NaN</td>\n",
              "      <td>NaN</td>\n",
              "      <td>NaN</td>\n",
              "      <td>NaN</td>\n",
              "      <td>NaN</td>\n",
              "      <td>NaN</td>\n",
              "      <td>NaN</td>\n",
              "      <td>NaN</td>\n",
              "      <td>NaN</td>\n",
              "      <td>NaN</td>\n",
              "      <td>NaN</td>\n",
              "      <td>NaN</td>\n",
              "      <td>NaN</td>\n",
              "      <td>NaN</td>\n",
              "      <td>NaN</td>\n",
              "      <td>NaN</td>\n",
              "      <td>NaN</td>\n",
              "      <td>NaN</td>\n",
              "      <td>NaN</td>\n",
              "      <td>NaN</td>\n",
              "      <td>NaN</td>\n",
              "      <td>NaN</td>\n",
              "      <td>NaN</td>\n",
              "      <td>NaN</td>\n",
              "      <td>NaN</td>\n",
              "      <td>...</td>\n",
              "      <td>NaN</td>\n",
              "      <td>NaN</td>\n",
              "      <td>NaN</td>\n",
              "      <td>NaN</td>\n",
              "      <td>NaN</td>\n",
              "      <td>NaN</td>\n",
              "      <td>NaN</td>\n",
              "      <td>NaN</td>\n",
              "      <td>NaN</td>\n",
              "      <td>NaN</td>\n",
              "      <td>NaN</td>\n",
              "      <td>NaN</td>\n",
              "      <td>NaN</td>\n",
              "      <td>NaN</td>\n",
              "      <td>NaN</td>\n",
              "      <td>NaN</td>\n",
              "      <td>NaN</td>\n",
              "      <td>NaN</td>\n",
              "      <td>NaN</td>\n",
              "      <td>NaN</td>\n",
              "      <td>NaN</td>\n",
              "      <td>NaN</td>\n",
              "      <td>NaN</td>\n",
              "      <td>NaN</td>\n",
              "      <td>NaN</td>\n",
              "      <td>NaN</td>\n",
              "      <td>NaN</td>\n",
              "      <td>NaN</td>\n",
              "      <td>NaN</td>\n",
              "      <td>NaN</td>\n",
              "      <td>NaN</td>\n",
              "      <td>NaN</td>\n",
              "      <td>NaN</td>\n",
              "      <td>NaN</td>\n",
              "      <td>NaN</td>\n",
              "      <td>NaN</td>\n",
              "      <td>NaN</td>\n",
              "      <td>NaN</td>\n",
              "      <td>NaN</td>\n",
              "      <td>NaN</td>\n",
              "    </tr>\n",
              "    <tr>\n",
              "      <th>2700</th>\n",
              "      <td>NaN</td>\n",
              "      <td>NaN</td>\n",
              "      <td>NaN</td>\n",
              "      <td>NaN</td>\n",
              "      <td>NaN</td>\n",
              "      <td>NaN</td>\n",
              "      <td>NaN</td>\n",
              "      <td>NaN</td>\n",
              "      <td>1.0</td>\n",
              "      <td>NaN</td>\n",
              "      <td>NaN</td>\n",
              "      <td>14.0</td>\n",
              "      <td>NaN</td>\n",
              "      <td>NaN</td>\n",
              "      <td>NaN</td>\n",
              "      <td>NaN</td>\n",
              "      <td>NaN</td>\n",
              "      <td>NaN</td>\n",
              "      <td>16.0</td>\n",
              "      <td>NaN</td>\n",
              "      <td>NaN</td>\n",
              "      <td>NaN</td>\n",
              "      <td>NaN</td>\n",
              "      <td>NaN</td>\n",
              "      <td>NaN</td>\n",
              "      <td>NaN</td>\n",
              "      <td>NaN</td>\n",
              "      <td>NaN</td>\n",
              "      <td>NaN</td>\n",
              "      <td>NaN</td>\n",
              "      <td>NaN</td>\n",
              "      <td>NaN</td>\n",
              "      <td>NaN</td>\n",
              "      <td>NaN</td>\n",
              "      <td>NaN</td>\n",
              "      <td>NaN</td>\n",
              "      <td>NaN</td>\n",
              "      <td>NaN</td>\n",
              "      <td>NaN</td>\n",
              "      <td>NaN</td>\n",
              "      <td>...</td>\n",
              "      <td>NaN</td>\n",
              "      <td>NaN</td>\n",
              "      <td>NaN</td>\n",
              "      <td>1.0</td>\n",
              "      <td>NaN</td>\n",
              "      <td>NaN</td>\n",
              "      <td>NaN</td>\n",
              "      <td>NaN</td>\n",
              "      <td>NaN</td>\n",
              "      <td>NaN</td>\n",
              "      <td>NaN</td>\n",
              "      <td>NaN</td>\n",
              "      <td>NaN</td>\n",
              "      <td>NaN</td>\n",
              "      <td>NaN</td>\n",
              "      <td>NaN</td>\n",
              "      <td>NaN</td>\n",
              "      <td>NaN</td>\n",
              "      <td>NaN</td>\n",
              "      <td>NaN</td>\n",
              "      <td>NaN</td>\n",
              "      <td>NaN</td>\n",
              "      <td>NaN</td>\n",
              "      <td>NaN</td>\n",
              "      <td>NaN</td>\n",
              "      <td>NaN</td>\n",
              "      <td>NaN</td>\n",
              "      <td>NaN</td>\n",
              "      <td>NaN</td>\n",
              "      <td>NaN</td>\n",
              "      <td>NaN</td>\n",
              "      <td>NaN</td>\n",
              "      <td>NaN</td>\n",
              "      <td>NaN</td>\n",
              "      <td>NaN</td>\n",
              "      <td>NaN</td>\n",
              "      <td>NaN</td>\n",
              "      <td>NaN</td>\n",
              "      <td>NaN</td>\n",
              "      <td>NaN</td>\n",
              "    </tr>\n",
              "    <tr>\n",
              "      <th>3600</th>\n",
              "      <td>NaN</td>\n",
              "      <td>14.0</td>\n",
              "      <td>NaN</td>\n",
              "      <td>NaN</td>\n",
              "      <td>NaN</td>\n",
              "      <td>NaN</td>\n",
              "      <td>NaN</td>\n",
              "      <td>NaN</td>\n",
              "      <td>NaN</td>\n",
              "      <td>NaN</td>\n",
              "      <td>NaN</td>\n",
              "      <td>NaN</td>\n",
              "      <td>NaN</td>\n",
              "      <td>NaN</td>\n",
              "      <td>NaN</td>\n",
              "      <td>NaN</td>\n",
              "      <td>NaN</td>\n",
              "      <td>NaN</td>\n",
              "      <td>NaN</td>\n",
              "      <td>NaN</td>\n",
              "      <td>NaN</td>\n",
              "      <td>NaN</td>\n",
              "      <td>NaN</td>\n",
              "      <td>NaN</td>\n",
              "      <td>NaN</td>\n",
              "      <td>NaN</td>\n",
              "      <td>NaN</td>\n",
              "      <td>NaN</td>\n",
              "      <td>NaN</td>\n",
              "      <td>NaN</td>\n",
              "      <td>NaN</td>\n",
              "      <td>NaN</td>\n",
              "      <td>NaN</td>\n",
              "      <td>NaN</td>\n",
              "      <td>NaN</td>\n",
              "      <td>NaN</td>\n",
              "      <td>NaN</td>\n",
              "      <td>NaN</td>\n",
              "      <td>NaN</td>\n",
              "      <td>NaN</td>\n",
              "      <td>...</td>\n",
              "      <td>NaN</td>\n",
              "      <td>NaN</td>\n",
              "      <td>NaN</td>\n",
              "      <td>NaN</td>\n",
              "      <td>NaN</td>\n",
              "      <td>NaN</td>\n",
              "      <td>NaN</td>\n",
              "      <td>NaN</td>\n",
              "      <td>NaN</td>\n",
              "      <td>NaN</td>\n",
              "      <td>NaN</td>\n",
              "      <td>NaN</td>\n",
              "      <td>NaN</td>\n",
              "      <td>NaN</td>\n",
              "      <td>NaN</td>\n",
              "      <td>NaN</td>\n",
              "      <td>NaN</td>\n",
              "      <td>NaN</td>\n",
              "      <td>NaN</td>\n",
              "      <td>NaN</td>\n",
              "      <td>NaN</td>\n",
              "      <td>NaN</td>\n",
              "      <td>NaN</td>\n",
              "      <td>NaN</td>\n",
              "      <td>NaN</td>\n",
              "      <td>NaN</td>\n",
              "      <td>NaN</td>\n",
              "      <td>NaN</td>\n",
              "      <td>NaN</td>\n",
              "      <td>NaN</td>\n",
              "      <td>NaN</td>\n",
              "      <td>NaN</td>\n",
              "      <td>NaN</td>\n",
              "      <td>NaN</td>\n",
              "      <td>NaN</td>\n",
              "      <td>NaN</td>\n",
              "      <td>NaN</td>\n",
              "      <td>NaN</td>\n",
              "      <td>NaN</td>\n",
              "      <td>NaN</td>\n",
              "    </tr>\n",
              "    <tr>\n",
              "      <th>3690</th>\n",
              "      <td>NaN</td>\n",
              "      <td>NaN</td>\n",
              "      <td>NaN</td>\n",
              "      <td>NaN</td>\n",
              "      <td>NaN</td>\n",
              "      <td>NaN</td>\n",
              "      <td>NaN</td>\n",
              "      <td>NaN</td>\n",
              "      <td>NaN</td>\n",
              "      <td>NaN</td>\n",
              "      <td>NaN</td>\n",
              "      <td>NaN</td>\n",
              "      <td>NaN</td>\n",
              "      <td>NaN</td>\n",
              "      <td>NaN</td>\n",
              "      <td>NaN</td>\n",
              "      <td>NaN</td>\n",
              "      <td>NaN</td>\n",
              "      <td>NaN</td>\n",
              "      <td>NaN</td>\n",
              "      <td>NaN</td>\n",
              "      <td>NaN</td>\n",
              "      <td>4.0</td>\n",
              "      <td>NaN</td>\n",
              "      <td>NaN</td>\n",
              "      <td>NaN</td>\n",
              "      <td>NaN</td>\n",
              "      <td>NaN</td>\n",
              "      <td>NaN</td>\n",
              "      <td>NaN</td>\n",
              "      <td>NaN</td>\n",
              "      <td>NaN</td>\n",
              "      <td>NaN</td>\n",
              "      <td>NaN</td>\n",
              "      <td>NaN</td>\n",
              "      <td>NaN</td>\n",
              "      <td>NaN</td>\n",
              "      <td>NaN</td>\n",
              "      <td>NaN</td>\n",
              "      <td>NaN</td>\n",
              "      <td>...</td>\n",
              "      <td>NaN</td>\n",
              "      <td>NaN</td>\n",
              "      <td>NaN</td>\n",
              "      <td>NaN</td>\n",
              "      <td>NaN</td>\n",
              "      <td>NaN</td>\n",
              "      <td>NaN</td>\n",
              "      <td>NaN</td>\n",
              "      <td>NaN</td>\n",
              "      <td>NaN</td>\n",
              "      <td>NaN</td>\n",
              "      <td>NaN</td>\n",
              "      <td>1.0</td>\n",
              "      <td>NaN</td>\n",
              "      <td>NaN</td>\n",
              "      <td>NaN</td>\n",
              "      <td>NaN</td>\n",
              "      <td>NaN</td>\n",
              "      <td>NaN</td>\n",
              "      <td>NaN</td>\n",
              "      <td>NaN</td>\n",
              "      <td>NaN</td>\n",
              "      <td>NaN</td>\n",
              "      <td>NaN</td>\n",
              "      <td>NaN</td>\n",
              "      <td>NaN</td>\n",
              "      <td>NaN</td>\n",
              "      <td>NaN</td>\n",
              "      <td>NaN</td>\n",
              "      <td>NaN</td>\n",
              "      <td>NaN</td>\n",
              "      <td>NaN</td>\n",
              "      <td>NaN</td>\n",
              "      <td>NaN</td>\n",
              "      <td>NaN</td>\n",
              "      <td>NaN</td>\n",
              "      <td>NaN</td>\n",
              "      <td>NaN</td>\n",
              "      <td>NaN</td>\n",
              "      <td>NaN</td>\n",
              "    </tr>\n",
              "    <tr>\n",
              "      <th>4500</th>\n",
              "      <td>NaN</td>\n",
              "      <td>NaN</td>\n",
              "      <td>NaN</td>\n",
              "      <td>NaN</td>\n",
              "      <td>NaN</td>\n",
              "      <td>NaN</td>\n",
              "      <td>4.0</td>\n",
              "      <td>NaN</td>\n",
              "      <td>NaN</td>\n",
              "      <td>NaN</td>\n",
              "      <td>NaN</td>\n",
              "      <td>NaN</td>\n",
              "      <td>NaN</td>\n",
              "      <td>NaN</td>\n",
              "      <td>NaN</td>\n",
              "      <td>NaN</td>\n",
              "      <td>NaN</td>\n",
              "      <td>NaN</td>\n",
              "      <td>NaN</td>\n",
              "      <td>7.0</td>\n",
              "      <td>NaN</td>\n",
              "      <td>NaN</td>\n",
              "      <td>NaN</td>\n",
              "      <td>NaN</td>\n",
              "      <td>NaN</td>\n",
              "      <td>NaN</td>\n",
              "      <td>NaN</td>\n",
              "      <td>NaN</td>\n",
              "      <td>NaN</td>\n",
              "      <td>NaN</td>\n",
              "      <td>NaN</td>\n",
              "      <td>NaN</td>\n",
              "      <td>NaN</td>\n",
              "      <td>NaN</td>\n",
              "      <td>NaN</td>\n",
              "      <td>NaN</td>\n",
              "      <td>NaN</td>\n",
              "      <td>NaN</td>\n",
              "      <td>NaN</td>\n",
              "      <td>NaN</td>\n",
              "      <td>...</td>\n",
              "      <td>NaN</td>\n",
              "      <td>NaN</td>\n",
              "      <td>NaN</td>\n",
              "      <td>NaN</td>\n",
              "      <td>NaN</td>\n",
              "      <td>NaN</td>\n",
              "      <td>NaN</td>\n",
              "      <td>NaN</td>\n",
              "      <td>NaN</td>\n",
              "      <td>NaN</td>\n",
              "      <td>NaN</td>\n",
              "      <td>NaN</td>\n",
              "      <td>NaN</td>\n",
              "      <td>NaN</td>\n",
              "      <td>NaN</td>\n",
              "      <td>NaN</td>\n",
              "      <td>NaN</td>\n",
              "      <td>NaN</td>\n",
              "      <td>NaN</td>\n",
              "      <td>NaN</td>\n",
              "      <td>NaN</td>\n",
              "      <td>NaN</td>\n",
              "      <td>NaN</td>\n",
              "      <td>NaN</td>\n",
              "      <td>NaN</td>\n",
              "      <td>NaN</td>\n",
              "      <td>NaN</td>\n",
              "      <td>NaN</td>\n",
              "      <td>NaN</td>\n",
              "      <td>NaN</td>\n",
              "      <td>NaN</td>\n",
              "      <td>NaN</td>\n",
              "      <td>NaN</td>\n",
              "      <td>NaN</td>\n",
              "      <td>NaN</td>\n",
              "      <td>NaN</td>\n",
              "      <td>NaN</td>\n",
              "      <td>NaN</td>\n",
              "      <td>NaN</td>\n",
              "      <td>NaN</td>\n",
              "    </tr>\n",
              "  </tbody>\n",
              "</table>\n",
              "<p>5 rows × 3522 columns</p>\n",
              "</div>"
            ],
            "text/plain": [
              "StockCode   10002F  10080Q  10120M  10124AW  ...  90214TT  90214VD  90214YL  90214ZJ\n",
              "CustomerID                                   ...                                    \n",
              "1890           NaN     NaN     NaN      NaN  ...      NaN      NaN      NaN      NaN\n",
              "2700           NaN     NaN     NaN      NaN  ...      NaN      NaN      NaN      NaN\n",
              "3600           NaN    14.0     NaN      NaN  ...      NaN      NaN      NaN      NaN\n",
              "3690           NaN     NaN     NaN      NaN  ...      NaN      NaN      NaN      NaN\n",
              "4500           NaN     NaN     NaN      NaN  ...      NaN      NaN      NaN      NaN\n",
              "\n",
              "[5 rows x 3522 columns]"
            ]
          },
          "metadata": {
            "tags": []
          },
          "execution_count": 106
        }
      ]
    },
    {
      "cell_type": "code",
      "metadata": {
        "id": "uJ2hQi-qOXUZ",
        "colab_type": "code",
        "colab": {}
      },
      "source": [
        "train_group = train_for_submission.groupby('CustomerID')\n",
        "test_group = test_for_submission.groupby('CustomerID')"
      ],
      "execution_count": 0,
      "outputs": []
    },
    {
      "cell_type": "code",
      "metadata": {
        "id": "J5jyWDYEQhIx",
        "colab_type": "code",
        "colab": {
          "base_uri": "https://localhost:8080/",
          "height": 359
        },
        "outputId": "ee012c8e-f3d9-4c13-b74e-1f2ce0178626"
      },
      "source": [
        "df = pd.DataFrame(np.arange(10))\n",
        "df"
      ],
      "execution_count": 111,
      "outputs": [
        {
          "output_type": "execute_result",
          "data": {
            "text/html": [
              "<div>\n",
              "<style scoped>\n",
              "    .dataframe tbody tr th:only-of-type {\n",
              "        vertical-align: middle;\n",
              "    }\n",
              "\n",
              "    .dataframe tbody tr th {\n",
              "        vertical-align: top;\n",
              "    }\n",
              "\n",
              "    .dataframe thead th {\n",
              "        text-align: right;\n",
              "    }\n",
              "</style>\n",
              "<table border=\"1\" class=\"dataframe\">\n",
              "  <thead>\n",
              "    <tr style=\"text-align: right;\">\n",
              "      <th></th>\n",
              "      <th>0</th>\n",
              "    </tr>\n",
              "  </thead>\n",
              "  <tbody>\n",
              "    <tr>\n",
              "      <th>0</th>\n",
              "      <td>0</td>\n",
              "    </tr>\n",
              "    <tr>\n",
              "      <th>1</th>\n",
              "      <td>1</td>\n",
              "    </tr>\n",
              "    <tr>\n",
              "      <th>2</th>\n",
              "      <td>2</td>\n",
              "    </tr>\n",
              "    <tr>\n",
              "      <th>3</th>\n",
              "      <td>3</td>\n",
              "    </tr>\n",
              "    <tr>\n",
              "      <th>4</th>\n",
              "      <td>4</td>\n",
              "    </tr>\n",
              "    <tr>\n",
              "      <th>5</th>\n",
              "      <td>5</td>\n",
              "    </tr>\n",
              "    <tr>\n",
              "      <th>6</th>\n",
              "      <td>6</td>\n",
              "    </tr>\n",
              "    <tr>\n",
              "      <th>7</th>\n",
              "      <td>7</td>\n",
              "    </tr>\n",
              "    <tr>\n",
              "      <th>8</th>\n",
              "      <td>8</td>\n",
              "    </tr>\n",
              "    <tr>\n",
              "      <th>9</th>\n",
              "      <td>9</td>\n",
              "    </tr>\n",
              "  </tbody>\n",
              "</table>\n",
              "</div>"
            ],
            "text/plain": [
              "   0\n",
              "0  0\n",
              "1  1\n",
              "2  2\n",
              "3  3\n",
              "4  4\n",
              "5  5\n",
              "6  6\n",
              "7  7\n",
              "8  8\n",
              "9  9"
            ]
          },
          "metadata": {
            "tags": []
          },
          "execution_count": 111
        }
      ]
    },
    {
      "cell_type": "code",
      "metadata": {
        "id": "mxpAzHopMS-d",
        "colab_type": "code",
        "colab": {
          "base_uri": "https://localhost:8080/",
          "height": 350
        },
        "outputId": "1a25444a-f97a-41c5-f906-0a249d91bcd7"
      },
      "source": [
        "test_id_recommendation = []\n",
        "for x in max_customer_id:\n",
        "  i, j = x\n",
        "  train_id_products = train_group.get_group(j)[['Quantity', 'StockCode']]\n",
        "  test_id_products = test_group.get_group(i)[['Quantity', 'StockCode']]\n",
        "  test_stock = set(test_id_products.StockCode)\n",
        "  train_stock = set(train_id_products.StockCode)\n",
        "  diff_stock = train_stock - test_stock\n",
        "  diff = list(diff_stock)\n",
        "  if len(diff) == 0:\n",
        "    print(i, j)\n",
        "  diff_train_products = train_id_products.set_index('StockCode').loc[diff].sort_values(by = 'Quantity', ascending = False).index\n",
        "  test_id_recommendation.append((i, diff_train_products[0]))\n",
        "  "
      ],
      "execution_count": 141,
      "outputs": [
        {
          "output_type": "stream",
          "text": [
            "531765 471915\n"
          ],
          "name": "stdout"
        },
        {
          "output_type": "error",
          "ename": "IndexError",
          "evalue": "ignored",
          "traceback": [
            "\u001b[0;31m---------------------------------------------------------------------------\u001b[0m",
            "\u001b[0;31mIndexError\u001b[0m                                Traceback (most recent call last)",
            "\u001b[0;32m<ipython-input-141-6fc67560253d>\u001b[0m in \u001b[0;36m<module>\u001b[0;34m()\u001b[0m\n\u001b[1;32m     11\u001b[0m     \u001b[0mprint\u001b[0m\u001b[0;34m(\u001b[0m\u001b[0mi\u001b[0m\u001b[0;34m,\u001b[0m \u001b[0mj\u001b[0m\u001b[0;34m)\u001b[0m\u001b[0;34m\u001b[0m\u001b[0;34m\u001b[0m\u001b[0m\n\u001b[1;32m     12\u001b[0m   \u001b[0mdiff_train_products\u001b[0m \u001b[0;34m=\u001b[0m \u001b[0mtrain_id_products\u001b[0m\u001b[0;34m.\u001b[0m\u001b[0mset_index\u001b[0m\u001b[0;34m(\u001b[0m\u001b[0;34m'StockCode'\u001b[0m\u001b[0;34m)\u001b[0m\u001b[0;34m.\u001b[0m\u001b[0mloc\u001b[0m\u001b[0;34m[\u001b[0m\u001b[0mdiff\u001b[0m\u001b[0;34m]\u001b[0m\u001b[0;34m.\u001b[0m\u001b[0msort_values\u001b[0m\u001b[0;34m(\u001b[0m\u001b[0mby\u001b[0m \u001b[0;34m=\u001b[0m \u001b[0;34m'Quantity'\u001b[0m\u001b[0;34m,\u001b[0m \u001b[0mascending\u001b[0m \u001b[0;34m=\u001b[0m \u001b[0;32mFalse\u001b[0m\u001b[0;34m)\u001b[0m\u001b[0;34m.\u001b[0m\u001b[0mindex\u001b[0m\u001b[0;34m\u001b[0m\u001b[0;34m\u001b[0m\u001b[0m\n\u001b[0;32m---> 13\u001b[0;31m   \u001b[0mtest_id_recommendation\u001b[0m\u001b[0;34m.\u001b[0m\u001b[0mappend\u001b[0m\u001b[0;34m(\u001b[0m\u001b[0;34m(\u001b[0m\u001b[0mi\u001b[0m\u001b[0;34m,\u001b[0m \u001b[0mdiff_train_products\u001b[0m\u001b[0;34m[\u001b[0m\u001b[0;36m0\u001b[0m\u001b[0;34m]\u001b[0m\u001b[0;34m)\u001b[0m\u001b[0;34m)\u001b[0m\u001b[0;34m\u001b[0m\u001b[0;34m\u001b[0m\u001b[0m\n\u001b[0m\u001b[1;32m     14\u001b[0m \u001b[0;34m\u001b[0m\u001b[0m\n",
            "\u001b[0;32m/usr/local/lib/python3.6/dist-packages/pandas/core/indexes/base.py\u001b[0m in \u001b[0;36m__getitem__\u001b[0;34m(self, key)\u001b[0m\n\u001b[1;32m   3956\u001b[0m         \u001b[0;32mif\u001b[0m \u001b[0mis_scalar\u001b[0m\u001b[0;34m(\u001b[0m\u001b[0mkey\u001b[0m\u001b[0;34m)\u001b[0m\u001b[0;34m:\u001b[0m\u001b[0;34m\u001b[0m\u001b[0;34m\u001b[0m\u001b[0m\n\u001b[1;32m   3957\u001b[0m             \u001b[0mkey\u001b[0m \u001b[0;34m=\u001b[0m \u001b[0mcom\u001b[0m\u001b[0;34m.\u001b[0m\u001b[0mcast_scalar_indexer\u001b[0m\u001b[0;34m(\u001b[0m\u001b[0mkey\u001b[0m\u001b[0;34m)\u001b[0m\u001b[0;34m\u001b[0m\u001b[0;34m\u001b[0m\u001b[0m\n\u001b[0;32m-> 3958\u001b[0;31m             \u001b[0;32mreturn\u001b[0m \u001b[0mgetitem\u001b[0m\u001b[0;34m(\u001b[0m\u001b[0mkey\u001b[0m\u001b[0;34m)\u001b[0m\u001b[0;34m\u001b[0m\u001b[0;34m\u001b[0m\u001b[0m\n\u001b[0m\u001b[1;32m   3959\u001b[0m \u001b[0;34m\u001b[0m\u001b[0m\n\u001b[1;32m   3960\u001b[0m         \u001b[0;32mif\u001b[0m \u001b[0misinstance\u001b[0m\u001b[0;34m(\u001b[0m\u001b[0mkey\u001b[0m\u001b[0;34m,\u001b[0m \u001b[0mslice\u001b[0m\u001b[0;34m)\u001b[0m\u001b[0;34m:\u001b[0m\u001b[0;34m\u001b[0m\u001b[0;34m\u001b[0m\u001b[0m\n",
            "\u001b[0;31mIndexError\u001b[0m: index 0 is out of bounds for axis 0 with size 0"
          ]
        }
      ]
    },
    {
      "cell_type": "code",
      "metadata": {
        "id": "zWFcbo_fV4GU",
        "colab_type": "code",
        "colab": {
          "base_uri": "https://localhost:8080/",
          "height": 34
        },
        "outputId": "c2e0735a-22ee-4f33-9c62-c601f398e256"
      },
      "source": [
        "test_group.get_group(531765)['StockCode'].shape, train_group.get_group(471915)['StockCode'].shape"
      ],
      "execution_count": 144,
      "outputs": [
        {
          "output_type": "execute_result",
          "data": {
            "text/plain": [
              "((256,), (3,))"
            ]
          },
          "metadata": {
            "tags": []
          },
          "execution_count": 144
        }
      ]
    },
    {
      "cell_type": "code",
      "metadata": {
        "id": "SaDUx8TwW1bh",
        "colab_type": "code",
        "colab": {
          "base_uri": "https://localhost:8080/",
          "height": 1000
        },
        "outputId": "a6727c5c-daf5-4b95-d4c4-40d68bd42cc3"
      },
      "source": [
        "test_group.get_group(531765)[['Quantity', 'StockCode']]"
      ],
      "execution_count": 146,
      "outputs": [
        {
          "output_type": "execute_result",
          "data": {
            "text/html": [
              "<div>\n",
              "<style scoped>\n",
              "    .dataframe tbody tr th:only-of-type {\n",
              "        vertical-align: middle;\n",
              "    }\n",
              "\n",
              "    .dataframe tbody tr th {\n",
              "        vertical-align: top;\n",
              "    }\n",
              "\n",
              "    .dataframe thead th {\n",
              "        text-align: right;\n",
              "    }\n",
              "</style>\n",
              "<table border=\"1\" class=\"dataframe\">\n",
              "  <thead>\n",
              "    <tr style=\"text-align: right;\">\n",
              "      <th></th>\n",
              "      <th>Quantity</th>\n",
              "      <th>StockCode</th>\n",
              "    </tr>\n",
              "  </thead>\n",
              "  <tbody>\n",
              "    <tr>\n",
              "      <th>64</th>\n",
              "      <td>14</td>\n",
              "      <td>22969Z</td>\n",
              "    </tr>\n",
              "    <tr>\n",
              "      <th>17195</th>\n",
              "      <td>7</td>\n",
              "      <td>22470E</td>\n",
              "    </tr>\n",
              "    <tr>\n",
              "      <th>17196</th>\n",
              "      <td>9</td>\n",
              "      <td>22429T</td>\n",
              "    </tr>\n",
              "    <tr>\n",
              "      <th>17197</th>\n",
              "      <td>3</td>\n",
              "      <td>22427Q</td>\n",
              "    </tr>\n",
              "    <tr>\n",
              "      <th>17198</th>\n",
              "      <td>7</td>\n",
              "      <td>22804V</td>\n",
              "    </tr>\n",
              "    <tr>\n",
              "      <th>17199</th>\n",
              "      <td>7</td>\n",
              "      <td>85123AY</td>\n",
              "    </tr>\n",
              "    <tr>\n",
              "      <th>19702</th>\n",
              "      <td>1</td>\n",
              "      <td>22312A</td>\n",
              "    </tr>\n",
              "    <tr>\n",
              "      <th>19703</th>\n",
              "      <td>1</td>\n",
              "      <td>84659AF</td>\n",
              "    </tr>\n",
              "    <tr>\n",
              "      <th>19704</th>\n",
              "      <td>7</td>\n",
              "      <td>22419N</td>\n",
              "    </tr>\n",
              "    <tr>\n",
              "      <th>19705</th>\n",
              "      <td>7</td>\n",
              "      <td>21640F</td>\n",
              "    </tr>\n",
              "    <tr>\n",
              "      <th>24585</th>\n",
              "      <td>7</td>\n",
              "      <td>22413V</td>\n",
              "    </tr>\n",
              "    <tr>\n",
              "      <th>24586</th>\n",
              "      <td>14</td>\n",
              "      <td>21907O</td>\n",
              "    </tr>\n",
              "    <tr>\n",
              "      <th>24587</th>\n",
              "      <td>57</td>\n",
              "      <td>84077K</td>\n",
              "    </tr>\n",
              "    <tr>\n",
              "      <th>24588</th>\n",
              "      <td>28</td>\n",
              "      <td>21830E</td>\n",
              "    </tr>\n",
              "    <tr>\n",
              "      <th>24589</th>\n",
              "      <td>14</td>\n",
              "      <td>22554P</td>\n",
              "    </tr>\n",
              "    <tr>\n",
              "      <th>24590</th>\n",
              "      <td>14</td>\n",
              "      <td>22555O</td>\n",
              "    </tr>\n",
              "    <tr>\n",
              "      <th>24591</th>\n",
              "      <td>57</td>\n",
              "      <td>21918L</td>\n",
              "    </tr>\n",
              "    <tr>\n",
              "      <th>24592</th>\n",
              "      <td>57</td>\n",
              "      <td>21917S</td>\n",
              "    </tr>\n",
              "    <tr>\n",
              "      <th>24593</th>\n",
              "      <td>24</td>\n",
              "      <td>22440M</td>\n",
              "    </tr>\n",
              "    <tr>\n",
              "      <th>24594</th>\n",
              "      <td>7</td>\n",
              "      <td>21749U</td>\n",
              "    </tr>\n",
              "    <tr>\n",
              "      <th>24595</th>\n",
              "      <td>14</td>\n",
              "      <td>21891R</td>\n",
              "    </tr>\n",
              "    <tr>\n",
              "      <th>24596</th>\n",
              "      <td>28</td>\n",
              "      <td>22537N</td>\n",
              "    </tr>\n",
              "    <tr>\n",
              "      <th>24597</th>\n",
              "      <td>14</td>\n",
              "      <td>21675T</td>\n",
              "    </tr>\n",
              "    <tr>\n",
              "      <th>24598</th>\n",
              "      <td>14</td>\n",
              "      <td>21725N</td>\n",
              "    </tr>\n",
              "    <tr>\n",
              "      <th>24599</th>\n",
              "      <td>14</td>\n",
              "      <td>22621P</td>\n",
              "    </tr>\n",
              "    <tr>\n",
              "      <th>24600</th>\n",
              "      <td>12</td>\n",
              "      <td>20726C</td>\n",
              "    </tr>\n",
              "    <tr>\n",
              "      <th>24601</th>\n",
              "      <td>12</td>\n",
              "      <td>20725N</td>\n",
              "    </tr>\n",
              "    <tr>\n",
              "      <th>24602</th>\n",
              "      <td>12</td>\n",
              "      <td>85099FC</td>\n",
              "    </tr>\n",
              "    <tr>\n",
              "      <th>24603</th>\n",
              "      <td>12</td>\n",
              "      <td>21928E</td>\n",
              "    </tr>\n",
              "    <tr>\n",
              "      <th>24604</th>\n",
              "      <td>14</td>\n",
              "      <td>22558H</td>\n",
              "    </tr>\n",
              "    <tr>\n",
              "      <th>...</th>\n",
              "      <td>...</td>\n",
              "      <td>...</td>\n",
              "    </tr>\n",
              "    <tr>\n",
              "      <th>86254</th>\n",
              "      <td>14</td>\n",
              "      <td>22726C</td>\n",
              "    </tr>\n",
              "    <tr>\n",
              "      <th>86255</th>\n",
              "      <td>10</td>\n",
              "      <td>22730Z</td>\n",
              "    </tr>\n",
              "    <tr>\n",
              "      <th>86256</th>\n",
              "      <td>7</td>\n",
              "      <td>22192Y</td>\n",
              "    </tr>\n",
              "    <tr>\n",
              "      <th>86257</th>\n",
              "      <td>4</td>\n",
              "      <td>22193B</td>\n",
              "    </tr>\n",
              "    <tr>\n",
              "      <th>86258</th>\n",
              "      <td>4</td>\n",
              "      <td>22191G</td>\n",
              "    </tr>\n",
              "    <tr>\n",
              "      <th>86259</th>\n",
              "      <td>28</td>\n",
              "      <td>22818I</td>\n",
              "    </tr>\n",
              "    <tr>\n",
              "      <th>86260</th>\n",
              "      <td>28</td>\n",
              "      <td>23267Y</td>\n",
              "    </tr>\n",
              "    <tr>\n",
              "      <th>86261</th>\n",
              "      <td>14</td>\n",
              "      <td>22766P</td>\n",
              "    </tr>\n",
              "    <tr>\n",
              "      <th>86262</th>\n",
              "      <td>21</td>\n",
              "      <td>22970T</td>\n",
              "    </tr>\n",
              "    <tr>\n",
              "      <th>86263</th>\n",
              "      <td>28</td>\n",
              "      <td>23350Q</td>\n",
              "    </tr>\n",
              "    <tr>\n",
              "      <th>86264</th>\n",
              "      <td>14</td>\n",
              "      <td>23349J</td>\n",
              "    </tr>\n",
              "    <tr>\n",
              "      <th>86265</th>\n",
              "      <td>48</td>\n",
              "      <td>22910D</td>\n",
              "    </tr>\n",
              "    <tr>\n",
              "      <th>93164</th>\n",
              "      <td>1</td>\n",
              "      <td>23312N</td>\n",
              "    </tr>\n",
              "    <tr>\n",
              "      <th>93165</th>\n",
              "      <td>2</td>\n",
              "      <td>23267Y</td>\n",
              "    </tr>\n",
              "    <tr>\n",
              "      <th>93166</th>\n",
              "      <td>1</td>\n",
              "      <td>23135J</td>\n",
              "    </tr>\n",
              "    <tr>\n",
              "      <th>93167</th>\n",
              "      <td>1</td>\n",
              "      <td>21063O</td>\n",
              "    </tr>\n",
              "    <tr>\n",
              "      <th>93168</th>\n",
              "      <td>5</td>\n",
              "      <td>22197J</td>\n",
              "    </tr>\n",
              "    <tr>\n",
              "      <th>93169</th>\n",
              "      <td>1</td>\n",
              "      <td>21808D</td>\n",
              "    </tr>\n",
              "    <tr>\n",
              "      <th>93170</th>\n",
              "      <td>1</td>\n",
              "      <td>21804J</td>\n",
              "    </tr>\n",
              "    <tr>\n",
              "      <th>93171</th>\n",
              "      <td>2</td>\n",
              "      <td>21086B</td>\n",
              "    </tr>\n",
              "    <tr>\n",
              "      <th>93172</th>\n",
              "      <td>1</td>\n",
              "      <td>21080R</td>\n",
              "    </tr>\n",
              "    <tr>\n",
              "      <th>93173</th>\n",
              "      <td>1</td>\n",
              "      <td>23465S</td>\n",
              "    </tr>\n",
              "    <tr>\n",
              "      <th>93174</th>\n",
              "      <td>2</td>\n",
              "      <td>23394D</td>\n",
              "    </tr>\n",
              "    <tr>\n",
              "      <th>93175</th>\n",
              "      <td>2</td>\n",
              "      <td>23395C</td>\n",
              "    </tr>\n",
              "    <tr>\n",
              "      <th>93176</th>\n",
              "      <td>1</td>\n",
              "      <td>48194E</td>\n",
              "    </tr>\n",
              "    <tr>\n",
              "      <th>93177</th>\n",
              "      <td>1</td>\n",
              "      <td>48129Y</td>\n",
              "    </tr>\n",
              "    <tr>\n",
              "      <th>98503</th>\n",
              "      <td>1</td>\n",
              "      <td>23263V</td>\n",
              "    </tr>\n",
              "    <tr>\n",
              "      <th>98504</th>\n",
              "      <td>1</td>\n",
              "      <td>23266U</td>\n",
              "    </tr>\n",
              "    <tr>\n",
              "      <th>98505</th>\n",
              "      <td>1</td>\n",
              "      <td>23319Q</td>\n",
              "    </tr>\n",
              "    <tr>\n",
              "      <th>98506</th>\n",
              "      <td>1</td>\n",
              "      <td>21098K</td>\n",
              "    </tr>\n",
              "  </tbody>\n",
              "</table>\n",
              "<p>256 rows × 2 columns</p>\n",
              "</div>"
            ],
            "text/plain": [
              "       Quantity StockCode\n",
              "64           14    22969Z\n",
              "17195         7    22470E\n",
              "17196         9    22429T\n",
              "17197         3    22427Q\n",
              "17198         7    22804V\n",
              "17199         7   85123AY\n",
              "19702         1    22312A\n",
              "19703         1   84659AF\n",
              "19704         7    22419N\n",
              "19705         7    21640F\n",
              "24585         7    22413V\n",
              "24586        14    21907O\n",
              "24587        57    84077K\n",
              "24588        28    21830E\n",
              "24589        14    22554P\n",
              "24590        14    22555O\n",
              "24591        57    21918L\n",
              "24592        57    21917S\n",
              "24593        24    22440M\n",
              "24594         7    21749U\n",
              "24595        14    21891R\n",
              "24596        28    22537N\n",
              "24597        14    21675T\n",
              "24598        14    21725N\n",
              "24599        14    22621P\n",
              "24600        12    20726C\n",
              "24601        12    20725N\n",
              "24602        12   85099FC\n",
              "24603        12    21928E\n",
              "24604        14    22558H\n",
              "...         ...       ...\n",
              "86254        14    22726C\n",
              "86255        10    22730Z\n",
              "86256         7    22192Y\n",
              "86257         4    22193B\n",
              "86258         4    22191G\n",
              "86259        28    22818I\n",
              "86260        28    23267Y\n",
              "86261        14    22766P\n",
              "86262        21    22970T\n",
              "86263        28    23350Q\n",
              "86264        14    23349J\n",
              "86265        48    22910D\n",
              "93164         1    23312N\n",
              "93165         2    23267Y\n",
              "93166         1    23135J\n",
              "93167         1    21063O\n",
              "93168         5    22197J\n",
              "93169         1    21808D\n",
              "93170         1    21804J\n",
              "93171         2    21086B\n",
              "93172         1    21080R\n",
              "93173         1    23465S\n",
              "93174         2    23394D\n",
              "93175         2    23395C\n",
              "93176         1    48194E\n",
              "93177         1    48129Y\n",
              "98503         1    23263V\n",
              "98504         1    23266U\n",
              "98505         1    23319Q\n",
              "98506         1    21098K\n",
              "\n",
              "[256 rows x 2 columns]"
            ]
          },
          "metadata": {
            "tags": []
          },
          "execution_count": 146
        }
      ]
    },
    {
      "cell_type": "code",
      "metadata": {
        "id": "RYXE6ctUWcZ6",
        "colab_type": "code",
        "colab": {
          "base_uri": "https://localhost:8080/",
          "height": 142
        },
        "outputId": "997cb508-db40-4a58-86b4-8caf8ee54e33"
      },
      "source": [
        "train_group.get_group(471915)[['Quantity', 'StockCode']]"
      ],
      "execution_count": 145,
      "outputs": [
        {
          "output_type": "execute_result",
          "data": {
            "text/html": [
              "<div>\n",
              "<style scoped>\n",
              "    .dataframe tbody tr th:only-of-type {\n",
              "        vertical-align: middle;\n",
              "    }\n",
              "\n",
              "    .dataframe tbody tr th {\n",
              "        vertical-align: top;\n",
              "    }\n",
              "\n",
              "    .dataframe thead th {\n",
              "        text-align: right;\n",
              "    }\n",
              "</style>\n",
              "<table border=\"1\" class=\"dataframe\">\n",
              "  <thead>\n",
              "    <tr style=\"text-align: right;\">\n",
              "      <th></th>\n",
              "      <th>Quantity</th>\n",
              "      <th>StockCode</th>\n",
              "    </tr>\n",
              "  </thead>\n",
              "  <tbody>\n",
              "    <tr>\n",
              "      <th>166483</th>\n",
              "      <td>38</td>\n",
              "      <td>85123AY</td>\n",
              "    </tr>\n",
              "    <tr>\n",
              "      <th>166484</th>\n",
              "      <td>7</td>\n",
              "      <td>22720A</td>\n",
              "    </tr>\n",
              "    <tr>\n",
              "      <th>166485</th>\n",
              "      <td>60</td>\n",
              "      <td>47566Y</td>\n",
              "    </tr>\n",
              "  </tbody>\n",
              "</table>\n",
              "</div>"
            ],
            "text/plain": [
              "        Quantity StockCode\n",
              "166483        38   85123AY\n",
              "166484         7    22720A\n",
              "166485        60    47566Y"
            ]
          },
          "metadata": {
            "tags": []
          },
          "execution_count": 145
        }
      ]
    },
    {
      "cell_type": "code",
      "metadata": {
        "id": "j1JKg1lvT4U2",
        "colab_type": "code",
        "colab": {}
      },
      "source": [
        "train_id_products = train_group.get_group(j)[['Quantity', 'StockCode']]\n",
        "test_id_products = test_group.get_group(i)[['Quantity', 'StockCode']]\n",
        "test_stock = set(test_id_products.StockCode)\n",
        "train_stock = set(train_id_products.StockCode)\n",
        "diff_stock = train_stock - test_stock\n",
        "diff = list(diff_stock)\n",
        "diff[:10]\n",
        "diff_train_products = train_id_products.set_index('StockCode').loc[diff].sort_values(by = 'Quantity', ascending = False).index\n",
        "diff_train_products\n",
        "test_id_recommendation.append((i, diff_train_products[0]))"
      ],
      "execution_count": 0,
      "outputs": []
    },
    {
      "cell_type": "code",
      "metadata": {
        "id": "vRnSA9boTpHg",
        "colab_type": "code",
        "colab": {
          "base_uri": "https://localhost:8080/",
          "height": 34
        },
        "outputId": "0bdc469d-98ce-4215-daa6-941a8c7b01a0"
      },
      "source": [
        "test_id_recommendation"
      ],
      "execution_count": 138,
      "outputs": [
        {
          "output_type": "execute_result",
          "data": {
            "text/plain": [
              "[(127269, '48185J')]"
            ]
          },
          "metadata": {
            "tags": []
          },
          "execution_count": 138
        }
      ]
    },
    {
      "cell_type": "code",
      "metadata": {
        "id": "AzznobllU2f3",
        "colab_type": "code",
        "colab": {}
      },
      "source": [
        ""
      ],
      "execution_count": 0,
      "outputs": []
    },
    {
      "cell_type": "code",
      "metadata": {
        "id": "2K0mosbQVGln",
        "colab_type": "code",
        "colab": {}
      },
      "source": [
        ""
      ],
      "execution_count": 0,
      "outputs": []
    },
    {
      "cell_type": "code",
      "metadata": {
        "id": "fTWd-qJgVJBI",
        "colab_type": "code",
        "colab": {}
      },
      "source": [
        ""
      ],
      "execution_count": 0,
      "outputs": []
    },
    {
      "cell_type": "code",
      "metadata": {
        "id": "2yS1g2fNVKKv",
        "colab_type": "code",
        "colab": {}
      },
      "source": [
        ""
      ],
      "execution_count": 0,
      "outputs": []
    },
    {
      "cell_type": "code",
      "metadata": {
        "id": "KhjPUnD9VMLb",
        "colab_type": "code",
        "colab": {}
      },
      "source": [
        ""
      ],
      "execution_count": 0,
      "outputs": []
    }
  ]
}